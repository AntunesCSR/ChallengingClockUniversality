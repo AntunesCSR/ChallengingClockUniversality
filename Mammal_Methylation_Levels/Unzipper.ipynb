{
 "cells": [
  {
   "cell_type": "markdown",
   "metadata": {},
   "source": [
    "### UNZIPPER\n",
    "\n",
    "This script unzips all .gz files in the current directory. It uses the gzip module to open the .gz file and write the uncompressed data to a new file. The original .gz file is then removed. The script prints a message for each file that is unzipped, and a final message when all files have been processed."
   ]
  },
  {
   "cell_type": "code",
   "execution_count": 2,
   "metadata": {},
   "outputs": [
    {
     "name": "stdout",
     "output_type": "stream",
     "text": [
      "GSE184211_Explanation_of_characteristic_variables.docx.gz unzipped\n",
      "All files unzipped\n"
     ]
    }
   ],
   "source": [
    "# Unzip the .gz files in the current directory\n",
    "\n",
    "import os\n",
    "import gzip\n",
    "\n",
    "for filename in os.listdir('.'):\n",
    "    if filename.endswith('.gz'):\n",
    "        with gzip.open(filename, 'rb') as in_file:\n",
    "            with open(filename[:-3], 'wb') as out_file:\n",
    "                out_file.write(in_file.read())\n",
    "        os.remove(filename)\n",
    "        print(f'{filename} unzipped')\n",
    "print('All files unzipped')"
   ]
  }
 ],
 "metadata": {
  "kernelspec": {
   "display_name": "Python 3",
   "language": "python",
   "name": "python3"
  },
  "language_info": {
   "codemirror_mode": {
    "name": "ipython",
    "version": 3
   },
   "file_extension": ".py",
   "mimetype": "text/x-python",
   "name": "python",
   "nbconvert_exporter": "python",
   "pygments_lexer": "ipython3",
   "version": "3.12.2"
  }
 },
 "nbformat": 4,
 "nbformat_minor": 2
}
