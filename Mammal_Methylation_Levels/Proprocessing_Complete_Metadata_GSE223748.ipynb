{
 "cells": [
  {
   "cell_type": "markdown",
   "metadata": {},
   "source": [
    "## Metadata Scrapper of samples in Mammalian Methylation Consortium (MMC) dataset (GSE223748)"
   ]
  },
  {
   "cell_type": "code",
   "execution_count": 1,
   "metadata": {},
   "outputs": [],
   "source": [
    "# Import libraries\n",
    "import numpy as np\n",
    "import matplotlib.pyplot as plt\n",
    "import pandas as pd\n",
    "import requests\n",
    "from bs4 import BeautifulSoup\n",
    "import re\n",
    "import pandas as pd\n",
    "from IPython.display import display, clear_output"
   ]
  },
  {
   "cell_type": "code",
   "execution_count": 2,
   "metadata": {},
   "outputs": [],
   "source": [
    "### Functions\n",
    "\n",
    "# Function to print a simple loading bar\n",
    "def print_loading_bar(progress):\n",
    "    \"\"\"\n",
    "    Function to print a simple loading bar.\n",
    "    \"\"\"\n",
    "    bar_length = 50\n",
    "    progress_length = int(progress * bar_length)\n",
    "    bar = '=' * progress_length + '-' * (bar_length - progress_length)\n",
    "    return f\"[{bar}] {int(progress * 100)}%\"   "
   ]
  },
  {
   "cell_type": "markdown",
   "metadata": {},
   "source": [
    "### 1. Loading Data"
   ]
  },
  {
   "cell_type": "code",
   "execution_count": 3,
   "metadata": {},
   "outputs": [],
   "source": [
    "### Load methylation data \n",
    "complete_methylation_data = pd.read_csv(\"GSE223748_datBetaNormalized.csv\")"
   ]
  },
  {
   "cell_type": "code",
   "execution_count": 235,
   "metadata": {},
   "outputs": [
    {
     "data": {
      "text/plain": [
       "(37554, 15044)"
      ]
     },
     "execution_count": 235,
     "metadata": {},
     "output_type": "execute_result"
    }
   ],
   "source": [
    "complete_methylation_data.shape"
   ]
  },
  {
   "cell_type": "code",
   "execution_count": 4,
   "metadata": {},
   "outputs": [],
   "source": [
    "### Load human methylation data\n",
    "human_methylation_data = pd.read_csv(\"GSE184211_datBetaNormalized.csv\")"
   ]
  },
  {
   "cell_type": "code",
   "execution_count": 53,
   "metadata": {},
   "outputs": [],
   "source": [
    "### Load the metadata file from https://mydata.clockfoundation.org/app/mammalian-consortium-data-browser\n",
    "metadata = pd.read_csv(\"complete_metadada_MMDB.csv\")"
   ]
  },
  {
   "cell_type": "markdown",
   "metadata": {},
   "source": [
    "## 2. Data Preprocessing"
   ]
  },
  {
   "cell_type": "markdown",
   "metadata": {},
   "source": [
    "2.1. Data Cleaning"
   ]
  },
  {
   "cell_type": "code",
   "execution_count": 230,
   "metadata": {},
   "outputs": [
    {
     "data": {
      "text/html": [
       "<div>\n",
       "<style scoped>\n",
       "    .dataframe tbody tr th:only-of-type {\n",
       "        vertical-align: middle;\n",
       "    }\n",
       "\n",
       "    .dataframe tbody tr th {\n",
       "        vertical-align: top;\n",
       "    }\n",
       "\n",
       "    .dataframe thead th {\n",
       "        text-align: right;\n",
       "    }\n",
       "</style>\n",
       "<table border=\"1\" class=\"dataframe\">\n",
       "  <thead>\n",
       "    <tr style=\"text-align: right;\">\n",
       "      <th></th>\n",
       "      <th>SpeciesCommonName</th>\n",
       "      <th>SpeciesLatinName</th>\n",
       "      <th>Tissue</th>\n",
       "      <th>Female</th>\n",
       "      <th>Age</th>\n",
       "      <th>SID</th>\n",
       "    </tr>\n",
       "  </thead>\n",
       "  <tbody>\n",
       "    <tr>\n",
       "      <th>0</th>\n",
       "      <td>Olive baboon</td>\n",
       "      <td>Papio hamadryas</td>\n",
       "      <td>Cortex</td>\n",
       "      <td>1.0</td>\n",
       "      <td>22.12</td>\n",
       "      <td>X202794570001_R01C01</td>\n",
       "    </tr>\n",
       "    <tr>\n",
       "      <th>1</th>\n",
       "      <td>Olive baboon</td>\n",
       "      <td>Papio hamadryas</td>\n",
       "      <td>Cortex</td>\n",
       "      <td>0.0</td>\n",
       "      <td>8.04</td>\n",
       "      <td>X202794570001_R01C02</td>\n",
       "    </tr>\n",
       "    <tr>\n",
       "      <th>2</th>\n",
       "      <td>Olive baboon</td>\n",
       "      <td>Papio hamadryas</td>\n",
       "      <td>Cortex</td>\n",
       "      <td>1.0</td>\n",
       "      <td>18.95</td>\n",
       "      <td>X202794570001_R02C01</td>\n",
       "    </tr>\n",
       "    <tr>\n",
       "      <th>3</th>\n",
       "      <td>Olive baboon</td>\n",
       "      <td>Papio hamadryas</td>\n",
       "      <td>Cortex</td>\n",
       "      <td>0.0</td>\n",
       "      <td>18.64</td>\n",
       "      <td>X202794570001_R02C02</td>\n",
       "    </tr>\n",
       "    <tr>\n",
       "      <th>4</th>\n",
       "      <td>Olive baboon</td>\n",
       "      <td>Papio hamadryas</td>\n",
       "      <td>Cortex</td>\n",
       "      <td>1.0</td>\n",
       "      <td>18.61</td>\n",
       "      <td>X202794570001_R03C01</td>\n",
       "    </tr>\n",
       "  </tbody>\n",
       "</table>\n",
       "</div>"
      ],
      "text/plain": [
       "  SpeciesCommonName SpeciesLatinName  Tissue  Female    Age  \\\n",
       "0      Olive baboon  Papio hamadryas  Cortex     1.0  22.12   \n",
       "1      Olive baboon  Papio hamadryas  Cortex     0.0   8.04   \n",
       "2      Olive baboon  Papio hamadryas  Cortex     1.0  18.95   \n",
       "3      Olive baboon  Papio hamadryas  Cortex     0.0  18.64   \n",
       "4      Olive baboon  Papio hamadryas  Cortex     1.0  18.61   \n",
       "\n",
       "                    SID  \n",
       "0  X202794570001_R01C01  \n",
       "1  X202794570001_R01C02  \n",
       "2  X202794570001_R02C01  \n",
       "3  X202794570001_R02C02  \n",
       "4  X202794570001_R03C01  "
      ]
     },
     "execution_count": 230,
     "metadata": {},
     "output_type": "execute_result"
    }
   ],
   "source": [
    "metadata.head()"
   ]
  },
  {
   "cell_type": "code",
   "execution_count": 6,
   "metadata": {},
   "outputs": [
    {
     "name": "stdout",
     "output_type": "stream",
     "text": [
      "Metadata shape: (15037, 6)\n",
      "Complete methylation shape: (37554, 15044)\n"
     ]
    }
   ],
   "source": [
    "print(f'Metadata shape: {metadata.shape}')\n",
    "print(f'Complete methylation shape: {complete_methylation_data.shape}')"
   ]
  },
  {
   "cell_type": "code",
   "execution_count": 12,
   "metadata": {},
   "outputs": [
    {
     "name": "stdout",
     "output_type": "stream",
     "text": [
      "Number of samples missing: 6\n"
     ]
    },
    {
     "data": {
      "text/plain": [
       "{'204529320081_R02C01',\n",
       " '204529320081_R02C02',\n",
       " '204529320081_R03C01',\n",
       " '204529320081_R04C01',\n",
       " '204529320081_R04C02',\n",
       " '204529320081_R05C01'}"
      ]
     },
     "execution_count": 12,
     "metadata": {},
     "output_type": "execute_result"
    }
   ],
   "source": [
    "### Look into the sample number discrepancy\n",
    "\n",
    "# Remove the X in the name of all the samples in SID and save it in a new df\n",
    "metadata_missing = metadata.copy()\n",
    "metadata_missing[\"SID\"] = metadata_missing[\"SID\"].str.replace(\"X\", \"\")\n",
    "\n",
    "# check which samples are not present in metadata compared to the complete methylation data\n",
    "missing_samples = set(complete_methylation_data.columns[1:]) - set(metadata_missing['SID']) \n",
    "print(f'Number of samples missing: {len(missing_samples)}')\n",
    "missing_samples"
   ]
  },
  {
   "cell_type": "markdown",
   "metadata": {},
   "source": [
    "The number of samples in the downloaded metadata from the MMC website does not match with the methylation data from the 2023 paper. The metatada from MMC is missing 6 samples. \n",
    "\n",
    "'204529320081_R02C01',\n",
    "'204529320081_R02C02',\n",
    "'204529320081_R03C01',\n",
    "'204529320081_R04C01',\n",
    "'204529320081_R04C02',\n",
    "'204529320081_R05C01',\n",
    "\n",
    "Metadata for these samples will be entered manually. "
   ]
  },
  {
   "cell_type": "markdown",
   "metadata": {},
   "source": [
    "2.2. Data Scrapping"
   ]
  },
  {
   "cell_type": "markdown",
   "metadata": {},
   "source": [
    "We need to get GEO ID for samples as this is not available in the metadata file. For that we scrape the GEO page associated with the data:    \n",
    "https://www.ncbi.nlm.nih.gov/geo/browse/?view=samples&display=500&page=1&series=223748&suppl=IDAT&zsort=date"
   ]
  },
  {
   "cell_type": "code",
   "execution_count": 13,
   "metadata": {},
   "outputs": [],
   "source": [
    "# Create list of sample names for the complete methylation data\n",
    "sample_names = complete_methylation_data.columns[1:]"
   ]
  },
  {
   "cell_type": "code",
   "execution_count": 256,
   "metadata": {},
   "outputs": [
    {
     "data": {
      "text/plain": [
       "Index(['202897220093_R01C01', '202897220093_R02C01', '202897220093_R03C01',\n",
       "       '202897220093_R04C01', '202897220093_R05C01', '202897220093_R06C01',\n",
       "       '202897220093_R01C02', '202897220093_R02C02', '202897220093_R03C02',\n",
       "       '202897220093_R04C02',\n",
       "       ...\n",
       "       '206139140103_R02C02', '206139140103_R03C02', '206139140103_R04C02',\n",
       "       '206139140103_R05C02', '206139140103_R06C02', '206139140104_R01C01',\n",
       "       '206139140104_R02C01', '206139140104_R03C01', '206139140104_R04C01',\n",
       "       '206139140104_R05C01'],\n",
       "      dtype='object', length=15043)"
      ]
     },
     "execution_count": 256,
     "metadata": {},
     "output_type": "execute_result"
    }
   ],
   "source": [
    "sample_names    "
   ]
  },
  {
   "cell_type": "code",
   "execution_count": 222,
   "metadata": {},
   "outputs": [
    {
     "data": {
      "text/plain": [
       "'[==================================================] 100%'"
      ]
     },
     "metadata": {},
     "output_type": "display_data"
    },
    {
     "name": "stdout",
     "output_type": "stream",
     "text": [
      "All pages fetched successfully.\n"
     ]
    }
   ],
   "source": [
    "### Fetch pages from NCBI GEO database ### \n",
    "\n",
    "# fetching the content of the pages and storing it in a dictionary makes it easier \n",
    "# and faster to scrape the content of the pages later on.\n",
    "\n",
    "# For loading bar\n",
    "total_pages = 31\n",
    "processed_pages = 0\n",
    "\n",
    "# Fetch all pages' content and store in a dictionary\n",
    "page_contents = {}\n",
    "for page_num in range(1, total_pages + 1):  # Adjust range as needed\n",
    "    try:\n",
    "        url = f'https://www.ncbi.nlm.nih.gov/geo/browse/?view=samples&display=1000&series=223748&page={page_num}'\n",
    "        response = requests.get(url)\n",
    "        response.raise_for_status()\n",
    "        page_contents[page_num] = response.content\n",
    "    \n",
    "    except Exception as e:\n",
    "        print(f\"Error fetching page {page_num}: {e}\")\n",
    "\n",
    "    processed_pages += 1\n",
    "    progress = processed_pages / total_pages\n",
    "    loading_bar = print_loading_bar(progress)\n",
    "    clear_output(wait=True)\n",
    "    display(loading_bar)\n",
    "\n",
    "# Check if all pages were fetched\n",
    "if len(page_contents) == total_pages:\n",
    "    print(\"All pages fetched successfully.\")"
   ]
  },
  {
   "cell_type": "code",
   "execution_count": 257,
   "metadata": {},
   "outputs": [
    {
     "data": {
      "text/plain": [
       "'[==================================================] 100%'"
      ]
     },
     "metadata": {},
     "output_type": "display_data"
    },
    {
     "name": "stdout",
     "output_type": "stream",
     "text": [
      "Total samples: 15043\n",
      "Samples found: 15043\n",
      "Samples not found: 0\n",
      "List of Samples not found: []\n"
     ]
    },
    {
     "data": {
      "text/html": [
       "<div>\n",
       "<style scoped>\n",
       "    .dataframe tbody tr th:only-of-type {\n",
       "        vertical-align: middle;\n",
       "    }\n",
       "\n",
       "    .dataframe tbody tr th {\n",
       "        vertical-align: top;\n",
       "    }\n",
       "\n",
       "    .dataframe thead th {\n",
       "        text-align: right;\n",
       "    }\n",
       "</style>\n",
       "<table border=\"1\" class=\"dataframe\">\n",
       "  <thead>\n",
       "    <tr style=\"text-align: right;\">\n",
       "      <th></th>\n",
       "      <th>Sample</th>\n",
       "      <th>GEO_ID</th>\n",
       "    </tr>\n",
       "  </thead>\n",
       "  <tbody>\n",
       "    <tr>\n",
       "      <th>0</th>\n",
       "      <td>202897220093_R01C01</td>\n",
       "      <td>GSM6979529</td>\n",
       "    </tr>\n",
       "    <tr>\n",
       "      <th>1</th>\n",
       "      <td>202897220093_R02C01</td>\n",
       "      <td>GSM6979530</td>\n",
       "    </tr>\n",
       "    <tr>\n",
       "      <th>2</th>\n",
       "      <td>202897220093_R03C01</td>\n",
       "      <td>GSM6979531</td>\n",
       "    </tr>\n",
       "    <tr>\n",
       "      <th>3</th>\n",
       "      <td>202897220093_R04C01</td>\n",
       "      <td>GSM6979532</td>\n",
       "    </tr>\n",
       "    <tr>\n",
       "      <th>4</th>\n",
       "      <td>202897220093_R05C01</td>\n",
       "      <td>GSM6979533</td>\n",
       "    </tr>\n",
       "    <tr>\n",
       "      <th>...</th>\n",
       "      <td>...</td>\n",
       "      <td>...</td>\n",
       "    </tr>\n",
       "    <tr>\n",
       "      <th>15038</th>\n",
       "      <td>206139140104_R01C01</td>\n",
       "      <td>GSM6994567</td>\n",
       "    </tr>\n",
       "    <tr>\n",
       "      <th>15039</th>\n",
       "      <td>206139140104_R02C01</td>\n",
       "      <td>GSM6994568</td>\n",
       "    </tr>\n",
       "    <tr>\n",
       "      <th>15040</th>\n",
       "      <td>206139140104_R03C01</td>\n",
       "      <td>GSM6994569</td>\n",
       "    </tr>\n",
       "    <tr>\n",
       "      <th>15041</th>\n",
       "      <td>206139140104_R04C01</td>\n",
       "      <td>GSM6994570</td>\n",
       "    </tr>\n",
       "    <tr>\n",
       "      <th>15042</th>\n",
       "      <td>206139140104_R05C01</td>\n",
       "      <td>GSM6994571</td>\n",
       "    </tr>\n",
       "  </tbody>\n",
       "</table>\n",
       "<p>15043 rows × 2 columns</p>\n",
       "</div>"
      ],
      "text/plain": [
       "                    Sample      GEO_ID\n",
       "0      202897220093_R01C01  GSM6979529\n",
       "1      202897220093_R02C01  GSM6979530\n",
       "2      202897220093_R03C01  GSM6979531\n",
       "3      202897220093_R04C01  GSM6979532\n",
       "4      202897220093_R05C01  GSM6979533\n",
       "...                    ...         ...\n",
       "15038  206139140104_R01C01  GSM6994567\n",
       "15039  206139140104_R02C01  GSM6994568\n",
       "15040  206139140104_R03C01  GSM6994569\n",
       "15041  206139140104_R04C01  GSM6994570\n",
       "15042  206139140104_R05C01  GSM6994571\n",
       "\n",
       "[15043 rows x 2 columns]"
      ]
     },
     "execution_count": 257,
     "metadata": {},
     "output_type": "execute_result"
    }
   ],
   "source": [
    "### Scrape the GEO IDs from the fetched HTML content ###\n",
    "\n",
    "geo_id_samples = []\n",
    "\n",
    "total_pages = 31\n",
    "processed_pages = 0\n",
    "\n",
    "# Process the downloaded HTML content\n",
    "for page_num, content in page_contents.items():\n",
    "    try:\n",
    "        soup = BeautifulSoup(content, 'html.parser')\n",
    "        html_text = soup.get_text()\n",
    "\n",
    "        for sample_name in sample_names: # sample_names is a list of sample names define above\n",
    "            # search_term = sample_name.split('X')[1] # if the sample starts with X, remove it\n",
    "            search_term = sample_name\n",
    "            # Modified pattern to match sample at the end of the descriptor\n",
    "            pattern = r'\\b(GSM\\d+)\\s+[^\\n]*\\b{}\\b'.format(re.escape(search_term))\n",
    "            # pattern = r'\\b(GSM\\d+)\\s+Sample\\d+\\.Human\\.{}\\b'.format(re.escape(search_term))\n",
    "            match = re.search(pattern, html_text)\n",
    "            \n",
    "            if match:\n",
    "                geo_id = match.group(1)                \n",
    "                geo_id_samples.append([sample_name, geo_id])\n",
    "    \n",
    "    except Exception as e:\n",
    "        print(f\"Error processing page {page_num}: {e}\")\n",
    "\n",
    "    processed_pages += 1\n",
    "    progress = processed_pages / total_pages\n",
    "    loading_bar = print_loading_bar(progress)\n",
    "    clear_output(wait=True)\n",
    "    display(loading_bar)\n",
    "\n",
    "# Check if metadata list is empty\n",
    "if not geo_id_samples:\n",
    "    print(\"No samples found.\")\n",
    "else:\n",
    "    # Create a pandas DataFrame from the metadata list\n",
    "    geo_ID_df = pd.DataFrame(geo_id_samples, columns=['Sample', 'GEO_ID'])\n",
    "    \n",
    "# Check for missing samples\n",
    "found_samples = geo_ID_df['Sample'].tolist() if not geo_ID_df.empty else []\n",
    "missing_samples = [sample_name for sample_name in sample_names if sample_name not in found_samples]\n",
    "\n",
    "# Print counts of samples found and not found\n",
    "print(\"Total samples:\", len(sample_names))\n",
    "print(\"Samples found:\", len(found_samples))\n",
    "print(\"Samples not found:\", len(missing_samples))\n",
    "print('List of Samples not found:', missing_samples)\n",
    "geo_ID_df\n"
   ]
  },
  {
   "cell_type": "code",
   "execution_count": 31,
   "metadata": {},
   "outputs": [],
   "source": [
    "### Add an X to all the samples in the geo_ID_df dataframe\n",
    "geo_ID_df[\"Sample\"] = \"X\" + geo_ID_df[\"Sample\"]"
   ]
  },
  {
   "cell_type": "code",
   "execution_count": 32,
   "metadata": {},
   "outputs": [],
   "source": [
    "### save the dataframe to a csv file (so the script doesn't have to be run again)\n",
    "geo_ID_df.to_csv(\"GSE223748_Geo_ID_df.csv\", index=False)"
   ]
  },
  {
   "cell_type": "code",
   "execution_count": 14,
   "metadata": {},
   "outputs": [],
   "source": [
    "### Load the dataframe from the csv file\n",
    "geo_ID_df = pd.read_csv(\"GSE223748_Geo_ID_df.csv\")"
   ]
  },
  {
   "cell_type": "code",
   "execution_count": 35,
   "metadata": {},
   "outputs": [
    {
     "data": {
      "text/html": [
       "<div>\n",
       "<style scoped>\n",
       "    .dataframe tbody tr th:only-of-type {\n",
       "        vertical-align: middle;\n",
       "    }\n",
       "\n",
       "    .dataframe tbody tr th {\n",
       "        vertical-align: top;\n",
       "    }\n",
       "\n",
       "    .dataframe thead th {\n",
       "        text-align: right;\n",
       "    }\n",
       "</style>\n",
       "<table border=\"1\" class=\"dataframe\">\n",
       "  <thead>\n",
       "    <tr style=\"text-align: right;\">\n",
       "      <th></th>\n",
       "      <th>Sample</th>\n",
       "      <th>GEO_ID</th>\n",
       "    </tr>\n",
       "  </thead>\n",
       "  <tbody>\n",
       "    <tr>\n",
       "      <th>0</th>\n",
       "      <td>X202897220093_R01C01</td>\n",
       "      <td>GSM6979529</td>\n",
       "    </tr>\n",
       "    <tr>\n",
       "      <th>1</th>\n",
       "      <td>X202897220093_R02C01</td>\n",
       "      <td>GSM6979530</td>\n",
       "    </tr>\n",
       "    <tr>\n",
       "      <th>2</th>\n",
       "      <td>X202897220093_R03C01</td>\n",
       "      <td>GSM6979531</td>\n",
       "    </tr>\n",
       "    <tr>\n",
       "      <th>3</th>\n",
       "      <td>X202897220093_R04C01</td>\n",
       "      <td>GSM6979532</td>\n",
       "    </tr>\n",
       "    <tr>\n",
       "      <th>4</th>\n",
       "      <td>X202897220093_R05C01</td>\n",
       "      <td>GSM6979533</td>\n",
       "    </tr>\n",
       "  </tbody>\n",
       "</table>\n",
       "</div>"
      ],
      "text/plain": [
       "                 Sample      GEO_ID\n",
       "0  X202897220093_R01C01  GSM6979529\n",
       "1  X202897220093_R02C01  GSM6979530\n",
       "2  X202897220093_R03C01  GSM6979531\n",
       "3  X202897220093_R04C01  GSM6979532\n",
       "4  X202897220093_R05C01  GSM6979533"
      ]
     },
     "execution_count": 35,
     "metadata": {},
     "output_type": "execute_result"
    }
   ],
   "source": [
    "geo_ID_df.head()"
   ]
  },
  {
   "cell_type": "markdown",
   "metadata": {},
   "source": [
    "I want to match the metadata pulled from the website with the metadata file I created in the notebook 'Methylation_Patterns_Human'. Things that need to match are:\n",
    "- 1. SID > Sample\n",
    "- 2. Add a column 'GEO_ID' \n",
    "- 3. Change sex format to male/female from 0/1 \n",
    "- 4. Add missing samples"
   ]
  },
  {
   "cell_type": "code",
   "execution_count": 54,
   "metadata": {},
   "outputs": [],
   "source": [
    "### 1.Change SID for Sample\n",
    "metadata = metadata.rename(columns={\"SID\": \"Sample\"})"
   ]
  },
  {
   "cell_type": "code",
   "execution_count": 55,
   "metadata": {},
   "outputs": [
    {
     "data": {
      "text/html": [
       "<div>\n",
       "<style scoped>\n",
       "    .dataframe tbody tr th:only-of-type {\n",
       "        vertical-align: middle;\n",
       "    }\n",
       "\n",
       "    .dataframe tbody tr th {\n",
       "        vertical-align: top;\n",
       "    }\n",
       "\n",
       "    .dataframe thead th {\n",
       "        text-align: right;\n",
       "    }\n",
       "</style>\n",
       "<table border=\"1\" class=\"dataframe\">\n",
       "  <thead>\n",
       "    <tr style=\"text-align: right;\">\n",
       "      <th></th>\n",
       "      <th>SpeciesCommonName</th>\n",
       "      <th>SpeciesLatinName</th>\n",
       "      <th>Tissue</th>\n",
       "      <th>Female</th>\n",
       "      <th>Age</th>\n",
       "      <th>Sample</th>\n",
       "      <th>GEO_ID</th>\n",
       "    </tr>\n",
       "  </thead>\n",
       "  <tbody>\n",
       "    <tr>\n",
       "      <th>0</th>\n",
       "      <td>Olive baboon</td>\n",
       "      <td>Papio hamadryas</td>\n",
       "      <td>Cortex</td>\n",
       "      <td>1.0</td>\n",
       "      <td>22.12</td>\n",
       "      <td>X202794570001_R01C01</td>\n",
       "      <td>GSM6981727</td>\n",
       "    </tr>\n",
       "    <tr>\n",
       "      <th>1</th>\n",
       "      <td>Olive baboon</td>\n",
       "      <td>Papio hamadryas</td>\n",
       "      <td>Cortex</td>\n",
       "      <td>0.0</td>\n",
       "      <td>8.04</td>\n",
       "      <td>X202794570001_R01C02</td>\n",
       "      <td>GSM6981733</td>\n",
       "    </tr>\n",
       "    <tr>\n",
       "      <th>2</th>\n",
       "      <td>Olive baboon</td>\n",
       "      <td>Papio hamadryas</td>\n",
       "      <td>Cortex</td>\n",
       "      <td>1.0</td>\n",
       "      <td>18.95</td>\n",
       "      <td>X202794570001_R02C01</td>\n",
       "      <td>GSM6981728</td>\n",
       "    </tr>\n",
       "    <tr>\n",
       "      <th>3</th>\n",
       "      <td>Olive baboon</td>\n",
       "      <td>Papio hamadryas</td>\n",
       "      <td>Cortex</td>\n",
       "      <td>0.0</td>\n",
       "      <td>18.64</td>\n",
       "      <td>X202794570001_R02C02</td>\n",
       "      <td>GSM6981734</td>\n",
       "    </tr>\n",
       "    <tr>\n",
       "      <th>4</th>\n",
       "      <td>Olive baboon</td>\n",
       "      <td>Papio hamadryas</td>\n",
       "      <td>Cortex</td>\n",
       "      <td>1.0</td>\n",
       "      <td>18.61</td>\n",
       "      <td>X202794570001_R03C01</td>\n",
       "      <td>GSM6981729</td>\n",
       "    </tr>\n",
       "  </tbody>\n",
       "</table>\n",
       "</div>"
      ],
      "text/plain": [
       "  SpeciesCommonName SpeciesLatinName  Tissue  Female    Age  \\\n",
       "0      Olive baboon  Papio hamadryas  Cortex     1.0  22.12   \n",
       "1      Olive baboon  Papio hamadryas  Cortex     0.0   8.04   \n",
       "2      Olive baboon  Papio hamadryas  Cortex     1.0  18.95   \n",
       "3      Olive baboon  Papio hamadryas  Cortex     0.0  18.64   \n",
       "4      Olive baboon  Papio hamadryas  Cortex     1.0  18.61   \n",
       "\n",
       "                 Sample      GEO_ID  \n",
       "0  X202794570001_R01C01  GSM6981727  \n",
       "1  X202794570001_R01C02  GSM6981733  \n",
       "2  X202794570001_R02C01  GSM6981728  \n",
       "3  X202794570001_R02C02  GSM6981734  \n",
       "4  X202794570001_R03C01  GSM6981729  "
      ]
     },
     "execution_count": 55,
     "metadata": {},
     "output_type": "execute_result"
    }
   ],
   "source": [
    "### 2. Add the GEO_ID to the metadata by merging the metadata and the geo_ID_df dataframes\n",
    "metadata = pd.merge(metadata, geo_ID_df, on='Sample', how='left')\n",
    "metadata.head()"
   ]
  },
  {
   "cell_type": "code",
   "execution_count": 57,
   "metadata": {},
   "outputs": [
    {
     "data": {
      "text/html": [
       "<div>\n",
       "<style scoped>\n",
       "    .dataframe tbody tr th:only-of-type {\n",
       "        vertical-align: middle;\n",
       "    }\n",
       "\n",
       "    .dataframe tbody tr th {\n",
       "        vertical-align: top;\n",
       "    }\n",
       "\n",
       "    .dataframe thead th {\n",
       "        text-align: right;\n",
       "    }\n",
       "</style>\n",
       "<table border=\"1\" class=\"dataframe\">\n",
       "  <thead>\n",
       "    <tr style=\"text-align: right;\">\n",
       "      <th></th>\n",
       "      <th>SpeciesCommonName</th>\n",
       "      <th>SpeciesLatinName</th>\n",
       "      <th>Tissue</th>\n",
       "      <th>Sex</th>\n",
       "      <th>Age</th>\n",
       "      <th>Sample</th>\n",
       "      <th>GEO_ID</th>\n",
       "    </tr>\n",
       "  </thead>\n",
       "  <tbody>\n",
       "    <tr>\n",
       "      <th>0</th>\n",
       "      <td>Olive baboon</td>\n",
       "      <td>Papio hamadryas</td>\n",
       "      <td>Cortex</td>\n",
       "      <td>Female</td>\n",
       "      <td>22.12</td>\n",
       "      <td>X202794570001_R01C01</td>\n",
       "      <td>GSM6981727</td>\n",
       "    </tr>\n",
       "    <tr>\n",
       "      <th>1</th>\n",
       "      <td>Olive baboon</td>\n",
       "      <td>Papio hamadryas</td>\n",
       "      <td>Cortex</td>\n",
       "      <td>Male</td>\n",
       "      <td>8.04</td>\n",
       "      <td>X202794570001_R01C02</td>\n",
       "      <td>GSM6981733</td>\n",
       "    </tr>\n",
       "    <tr>\n",
       "      <th>2</th>\n",
       "      <td>Olive baboon</td>\n",
       "      <td>Papio hamadryas</td>\n",
       "      <td>Cortex</td>\n",
       "      <td>Female</td>\n",
       "      <td>18.95</td>\n",
       "      <td>X202794570001_R02C01</td>\n",
       "      <td>GSM6981728</td>\n",
       "    </tr>\n",
       "    <tr>\n",
       "      <th>3</th>\n",
       "      <td>Olive baboon</td>\n",
       "      <td>Papio hamadryas</td>\n",
       "      <td>Cortex</td>\n",
       "      <td>Male</td>\n",
       "      <td>18.64</td>\n",
       "      <td>X202794570001_R02C02</td>\n",
       "      <td>GSM6981734</td>\n",
       "    </tr>\n",
       "    <tr>\n",
       "      <th>4</th>\n",
       "      <td>Olive baboon</td>\n",
       "      <td>Papio hamadryas</td>\n",
       "      <td>Cortex</td>\n",
       "      <td>Female</td>\n",
       "      <td>18.61</td>\n",
       "      <td>X202794570001_R03C01</td>\n",
       "      <td>GSM6981729</td>\n",
       "    </tr>\n",
       "  </tbody>\n",
       "</table>\n",
       "</div>"
      ],
      "text/plain": [
       "  SpeciesCommonName SpeciesLatinName  Tissue     Sex    Age  \\\n",
       "0      Olive baboon  Papio hamadryas  Cortex  Female  22.12   \n",
       "1      Olive baboon  Papio hamadryas  Cortex    Male   8.04   \n",
       "2      Olive baboon  Papio hamadryas  Cortex  Female  18.95   \n",
       "3      Olive baboon  Papio hamadryas  Cortex    Male  18.64   \n",
       "4      Olive baboon  Papio hamadryas  Cortex  Female  18.61   \n",
       "\n",
       "                 Sample      GEO_ID  \n",
       "0  X202794570001_R01C01  GSM6981727  \n",
       "1  X202794570001_R01C02  GSM6981733  \n",
       "2  X202794570001_R02C01  GSM6981728  \n",
       "3  X202794570001_R02C02  GSM6981734  \n",
       "4  X202794570001_R03C01  GSM6981729  "
      ]
     },
     "execution_count": 57,
     "metadata": {},
     "output_type": "execute_result"
    }
   ],
   "source": [
    "### 3. Rename the column Female to Sex and change format of 1/0 to Female/Male respectively\n",
    "\n",
    "# Rename Sex column\n",
    "metadata.rename(columns={'Female':'Sex'}, inplace=True)\n",
    "\n",
    "# Rename sex values\n",
    "metadata['Sex'] = metadata['Sex'].replace({1.0: 'Female', 0.0: 'Male'})\n",
    "metadata.head()\n"
   ]
  },
  {
   "cell_type": "markdown",
   "metadata": {},
   "source": [
    "'204529320081_R02C01',\n",
    "'204529320081_R02C02', \n",
    "'204529320081_R03C01', \n",
    "'204529320081_R04C01', \n",
    "'204529320081_R04C02', \n",
    "'204529320081_R05C01',"
   ]
  },
  {
   "cell_type": "code",
   "execution_count": 62,
   "metadata": {},
   "outputs": [
    {
     "data": {
      "text/html": [
       "<div>\n",
       "<style scoped>\n",
       "    .dataframe tbody tr th:only-of-type {\n",
       "        vertical-align: middle;\n",
       "    }\n",
       "\n",
       "    .dataframe tbody tr th {\n",
       "        vertical-align: top;\n",
       "    }\n",
       "\n",
       "    .dataframe thead th {\n",
       "        text-align: right;\n",
       "    }\n",
       "</style>\n",
       "<table border=\"1\" class=\"dataframe\">\n",
       "  <thead>\n",
       "    <tr style=\"text-align: right;\">\n",
       "      <th></th>\n",
       "      <th>SpeciesCommonName</th>\n",
       "      <th>SpeciesLatinName</th>\n",
       "      <th>Tissue</th>\n",
       "      <th>Sex</th>\n",
       "      <th>Age</th>\n",
       "      <th>Sample</th>\n",
       "      <th>GEO_ID</th>\n",
       "    </tr>\n",
       "  </thead>\n",
       "  <tbody>\n",
       "    <tr>\n",
       "      <th>0</th>\n",
       "      <td>Olive baboon</td>\n",
       "      <td>Papio hamadryas</td>\n",
       "      <td>Cortex</td>\n",
       "      <td>Female</td>\n",
       "      <td>22.12</td>\n",
       "      <td>X202794570001_R01C01</td>\n",
       "      <td>GSM6981727</td>\n",
       "    </tr>\n",
       "    <tr>\n",
       "      <th>1</th>\n",
       "      <td>Olive baboon</td>\n",
       "      <td>Papio hamadryas</td>\n",
       "      <td>Cortex</td>\n",
       "      <td>Male</td>\n",
       "      <td>8.04</td>\n",
       "      <td>X202794570001_R01C02</td>\n",
       "      <td>GSM6981733</td>\n",
       "    </tr>\n",
       "    <tr>\n",
       "      <th>2</th>\n",
       "      <td>Olive baboon</td>\n",
       "      <td>Papio hamadryas</td>\n",
       "      <td>Cortex</td>\n",
       "      <td>Female</td>\n",
       "      <td>18.95</td>\n",
       "      <td>X202794570001_R02C01</td>\n",
       "      <td>GSM6981728</td>\n",
       "    </tr>\n",
       "    <tr>\n",
       "      <th>3</th>\n",
       "      <td>Olive baboon</td>\n",
       "      <td>Papio hamadryas</td>\n",
       "      <td>Cortex</td>\n",
       "      <td>Male</td>\n",
       "      <td>18.64</td>\n",
       "      <td>X202794570001_R02C02</td>\n",
       "      <td>GSM6981734</td>\n",
       "    </tr>\n",
       "    <tr>\n",
       "      <th>4</th>\n",
       "      <td>Olive baboon</td>\n",
       "      <td>Papio hamadryas</td>\n",
       "      <td>Cortex</td>\n",
       "      <td>Female</td>\n",
       "      <td>18.61</td>\n",
       "      <td>X202794570001_R03C01</td>\n",
       "      <td>GSM6981729</td>\n",
       "    </tr>\n",
       "  </tbody>\n",
       "</table>\n",
       "</div>"
      ],
      "text/plain": [
       "  SpeciesCommonName SpeciesLatinName  Tissue     Sex    Age  \\\n",
       "0      Olive baboon  Papio hamadryas  Cortex  Female  22.12   \n",
       "1      Olive baboon  Papio hamadryas  Cortex    Male   8.04   \n",
       "2      Olive baboon  Papio hamadryas  Cortex  Female  18.95   \n",
       "3      Olive baboon  Papio hamadryas  Cortex    Male  18.64   \n",
       "4      Olive baboon  Papio hamadryas  Cortex  Female  18.61   \n",
       "\n",
       "                 Sample      GEO_ID  \n",
       "0  X202794570001_R01C01  GSM6981727  \n",
       "1  X202794570001_R01C02  GSM6981733  \n",
       "2  X202794570001_R02C01  GSM6981728  \n",
       "3  X202794570001_R02C02  GSM6981734  \n",
       "4  X202794570001_R03C01  GSM6981729  "
      ]
     },
     "execution_count": 62,
     "metadata": {},
     "output_type": "execute_result"
    }
   ],
   "source": [
    "### Add missing samples to the metadata dataframe\n",
    "\n",
    "# Create a DataFrame for new samples\n",
    "new_samples = pd.DataFrame({\n",
    "    'SpeciesCommonName': ['Prairie vole', 'Prairie vole', 'Prairie vole', 'Prairie vole', 'Prairie vole', 'Prairie vole'],\n",
    "    'SpeciesLatinName': ['Microtus ochrogaster', 'Microtus ochrogaster', 'Microtus ochrogaster', 'Microtus ochrogaster', 'Microtus ochrogaster', 'Microtus ochrogaster'],\n",
    "    'Tissue': ['Ear', 'Liver', 'Liver', 'Liver', 'Ear', 'Liver'],\n",
    "    'Sex': ['Female', 'Male', 'Female', 'Male', 'Male', 'Female'],\n",
    "    'Age': [0.3671, 0.8493, 0.789, 0.3644, 0.874, 0.5808],\n",
    "    'Sample': ['X204529320081_R02C01', 'X204529320081_R02C02', 'X204529320081_R03C01','X204529320081_R04C01', 'X204529320081_R04C02', 'X204529320081_R05C01'],\n",
    "    'GEO_ID': ['GSM6989921', 'GSM6989927', 'GSM6989922', 'GSM6989923', 'GSM6989929', 'GSM6989924']\n",
    "})\n",
    "\n",
    "# Append the new samples to the existing DataFrame\n",
    "metadata = pd.concat([metadata, new_samples], ignore_index=True)\n",
    "metadata.head()\n"
   ]
  },
  {
   "cell_type": "code",
   "execution_count": 72,
   "metadata": {},
   "outputs": [
    {
     "name": "stdout",
     "output_type": "stream",
     "text": [
      "Metadata shape: (15043, 7)\n",
      "Complete methylation shape: (37554, 15043)\n"
     ]
    }
   ],
   "source": [
    "# Compare size of metadata and complete methylation data\n",
    "print(f'Metadata shape: {metadata.shape}')\n",
    "print(f'Complete methylation shape: {complete_methylation_data.iloc[:, 1:].shape}')"
   ]
  },
  {
   "cell_type": "markdown",
   "metadata": {},
   "source": [
    "We now have the same number of samples in the metadata file. "
   ]
  },
  {
   "cell_type": "code",
   "execution_count": null,
   "metadata": {},
   "outputs": [],
   "source": [
    "### Save the complete metadata to a csv file\n",
    "metadata.to_csv(\"GSE223748_complete_metadata.csv\", index=False)"
   ]
  }
 ],
 "metadata": {
  "kernelspec": {
   "display_name": "Python 3",
   "language": "python",
   "name": "python3"
  },
  "language_info": {
   "codemirror_mode": {
    "name": "ipython",
    "version": 3
   },
   "file_extension": ".py",
   "mimetype": "text/x-python",
   "name": "python",
   "nbconvert_exporter": "python",
   "pygments_lexer": "ipython3",
   "version": "3.12.2"
  }
 },
 "nbformat": 4,
 "nbformat_minor": 2
}
