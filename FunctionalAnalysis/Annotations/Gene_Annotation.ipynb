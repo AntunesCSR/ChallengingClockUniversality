{
 "cells": [
  {
   "cell_type": "markdown",
   "metadata": {},
   "source": [
    "# Gene Annotation"
   ]
  },
  {
   "cell_type": "markdown",
   "metadata": {},
   "source": [
    "Mapping of the relevant CpGs identified by clustering and the associated genes.\n",
    "The CpGs can be found in folder 'Mammal_Methylation_Levels/Cluster Analysis/Relevant CpGS'. There will be at least 3 files, each with the relevant CpGs of each of the 3 Clocks. "
   ]
  },
  {
   "cell_type": "code",
   "execution_count": 1,
   "metadata": {},
   "outputs": [],
   "source": [
    "### Libraries\n",
    "\n",
    "import os\n",
    "\n",
    "from Bio import Entrez, SeqIO\n",
    "from Bio.SeqFeature import SeqFeature, FeatureLocation\n",
    "from Bio.SeqRecord import SeqRecord\n",
    "\n",
    "import pandas as pd\n",
    "\n",
    "import plotly.graph_objects as go\n",
    "from plotly.subplots import make_subplots\n",
    "import matplotlib.pyplot as plt\n",
    "import matplotlib.colors as mcolors\n",
    "import pandas as pd\n"
   ]
  },
  {
   "cell_type": "code",
   "execution_count": 2,
   "metadata": {},
   "outputs": [
    {
     "name": "stdout",
     "output_type": "stream",
     "text": [
      "clock1 has 104 CpGs\n",
      "clock2 has 235 CpGs\n",
      "clock3 has 209 CpGs\n",
      "clock2_3 has 112 CpGs\n"
     ]
    }
   ],
   "source": [
    "### Load the csv with the relevant CpGs for each of the clocks\n",
    "\n",
    "# List of clock names\n",
    "clocks_names = ['clock1', 'clock2', 'clock3', 'clock2_3']\n",
    "\n",
    "# Dictionary to store the dataframes for each clock\n",
    "rel_cpgs_dict = {}\n",
    "\n",
    "# Loop through each clock name\n",
    "for clock in clocks_names:\n",
    "    # Read the CSV file for the relevant CpGs\n",
    "    file_path = f'../../Mammal_Methylation_Levels/Cluster Analysis/Clustering results/{clock.capitalize()}/Relevant CpGs/relevant_cpgs_{clock}.csv'\n",
    "    df = pd.read_csv(file_path)\n",
    "    \n",
    "    # Rename the column '0' to 'CpG'\n",
    "    df.rename(columns={'0': 'CpG'}, inplace=True)\n",
    "    \n",
    "    # Store the dataframe in the dictionary\n",
    "    rel_cpgs_dict[clock] = df\n",
    "    \n",
    "    # Print the number of CpGs for the current clock\n",
    "    print(f'{clock} has {len(df)} CpGs')\n"
   ]
  },
  {
   "cell_type": "code",
   "execution_count": 3,
   "metadata": {},
   "outputs": [
    {
     "data": {
      "text/html": [
       "<div>\n",
       "<style scoped>\n",
       "    .dataframe tbody tr th:only-of-type {\n",
       "        vertical-align: middle;\n",
       "    }\n",
       "\n",
       "    .dataframe tbody tr th {\n",
       "        vertical-align: top;\n",
       "    }\n",
       "\n",
       "    .dataframe thead th {\n",
       "        text-align: right;\n",
       "    }\n",
       "</style>\n",
       "<table border=\"1\" class=\"dataframe\">\n",
       "  <thead>\n",
       "    <tr style=\"text-align: right;\">\n",
       "      <th></th>\n",
       "      <th>CpG</th>\n",
       "    </tr>\n",
       "  </thead>\n",
       "  <tbody>\n",
       "    <tr>\n",
       "      <th>0</th>\n",
       "      <td>cg25019875</td>\n",
       "    </tr>\n",
       "    <tr>\n",
       "      <th>1</th>\n",
       "      <td>cg20113482</td>\n",
       "    </tr>\n",
       "    <tr>\n",
       "      <th>2</th>\n",
       "      <td>cg24315421</td>\n",
       "    </tr>\n",
       "    <tr>\n",
       "      <th>3</th>\n",
       "      <td>cg26275174</td>\n",
       "    </tr>\n",
       "    <tr>\n",
       "      <th>4</th>\n",
       "      <td>cg18304538</td>\n",
       "    </tr>\n",
       "  </tbody>\n",
       "</table>\n",
       "</div>"
      ],
      "text/plain": [
       "          CpG\n",
       "0  cg25019875\n",
       "1  cg20113482\n",
       "2  cg24315421\n",
       "3  cg26275174\n",
       "4  cg18304538"
      ]
     },
     "execution_count": 3,
     "metadata": {},
     "output_type": "execute_result"
    }
   ],
   "source": [
    "rel_cpgs_dict['clock1'].head()"
   ]
  },
  {
   "cell_type": "code",
   "execution_count": 4,
   "metadata": {},
   "outputs": [
    {
     "data": {
      "text/html": [
       "<div>\n",
       "<style scoped>\n",
       "    .dataframe tbody tr th:only-of-type {\n",
       "        vertical-align: middle;\n",
       "    }\n",
       "\n",
       "    .dataframe tbody tr th {\n",
       "        vertical-align: top;\n",
       "    }\n",
       "\n",
       "    .dataframe thead th {\n",
       "        text-align: right;\n",
       "    }\n",
       "</style>\n",
       "<table border=\"1\" class=\"dataframe\">\n",
       "  <thead>\n",
       "    <tr style=\"text-align: right;\">\n",
       "      <th></th>\n",
       "      <th>IlmnID</th>\n",
       "      <th>Name</th>\n",
       "      <th>AddressA_ID</th>\n",
       "      <th>AlleleA_ProbeSeq</th>\n",
       "      <th>ProbeA_Ref_CIGAR</th>\n",
       "      <th>AddressB_ID</th>\n",
       "      <th>AlleleB_ProbeSeq</th>\n",
       "      <th>ProbeB_Ref_CIGAR</th>\n",
       "      <th>StrandFR</th>\n",
       "      <th>StrandTB</th>\n",
       "      <th>...</th>\n",
       "      <th>Elephant.loxAfr3.100_CGstart</th>\n",
       "      <th>Elephant.loxAfr3.100_CGend</th>\n",
       "      <th>Elephant.loxAfr3.100_seqnames</th>\n",
       "      <th>Elephant.loxAfr3.100_SYMBOL</th>\n",
       "      <th>Elephant.loxAfr3.100_main_Categories</th>\n",
       "      <th>Cattle.ARS-UCD1.2_CGstart</th>\n",
       "      <th>Cattle.ARS-UCD1.2_CGend</th>\n",
       "      <th>Cattle.ARS-UCD1.2_seqnames</th>\n",
       "      <th>Cattle.ARS-UCD1.2_SYMBOL</th>\n",
       "      <th>Cattle.ARS-UCD1.2_main_Categories</th>\n",
       "    </tr>\n",
       "  </thead>\n",
       "  <tbody>\n",
       "    <tr>\n",
       "      <th>1</th>\n",
       "      <td>cg00000165</td>\n",
       "      <td>cg00000165_B_C_II_16W28R4_Y</td>\n",
       "      <td>61688267</td>\n",
       "      <td>CAAAATCTATTAATACWATAACTTTTAATAAAACAACTAAAACACR...</td>\n",
       "      <td>16W28R4</td>\n",
       "      <td>NaN</td>\n",
       "      <td>NaN</td>\n",
       "      <td>NaN</td>\n",
       "      <td>R</td>\n",
       "      <td>B</td>\n",
       "      <td>...</td>\n",
       "      <td>11412983.0</td>\n",
       "      <td>11412984.0</td>\n",
       "      <td>scaffold_60</td>\n",
       "      <td>BARHL2</td>\n",
       "      <td>Intergenic_upstream</td>\n",
       "      <td>52520158.0</td>\n",
       "      <td>52520159.0</td>\n",
       "      <td>3</td>\n",
       "      <td>BARHL2</td>\n",
       "      <td>Intergenic_upstream</td>\n",
       "    </tr>\n",
       "    <tr>\n",
       "      <th>2</th>\n",
       "      <td>cg00001209</td>\n",
       "      <td>cg00001209_B_C_II_15M34_Y</td>\n",
       "      <td>99653471</td>\n",
       "      <td>TCTTAACATTATAAAMAAAACAAAATAATACAAAATATATTCAACC...</td>\n",
       "      <td>15M34</td>\n",
       "      <td>NaN</td>\n",
       "      <td>NaN</td>\n",
       "      <td>NaN</td>\n",
       "      <td>F</td>\n",
       "      <td>B</td>\n",
       "      <td>...</td>\n",
       "      <td>64819638.0</td>\n",
       "      <td>64819639.0</td>\n",
       "      <td>scaffold_7</td>\n",
       "      <td>KIF2A</td>\n",
       "      <td>Intergenic_upstream</td>\n",
       "      <td>17450440.0</td>\n",
       "      <td>17450441.0</td>\n",
       "      <td>20</td>\n",
       "      <td>KIF2A</td>\n",
       "      <td>Intergenic_upstream</td>\n",
       "    </tr>\n",
       "    <tr>\n",
       "      <th>3</th>\n",
       "      <td>cg00001364</td>\n",
       "      <td>cg00001364_B_C_II_28Y21_Y</td>\n",
       "      <td>94653210</td>\n",
       "      <td>ACCAATTTAATATAAATCRCTTATATAAYAAACACCTAAAAACAAA...</td>\n",
       "      <td>28Y21</td>\n",
       "      <td>NaN</td>\n",
       "      <td>NaN</td>\n",
       "      <td>NaN</td>\n",
       "      <td>R</td>\n",
       "      <td>B</td>\n",
       "      <td>...</td>\n",
       "      <td>1266053.0</td>\n",
       "      <td>1266054.0</td>\n",
       "      <td>scaffold_74</td>\n",
       "      <td>PROX1</td>\n",
       "      <td>Exon</td>\n",
       "      <td>69576644.0</td>\n",
       "      <td>69576645.0</td>\n",
       "      <td>16</td>\n",
       "      <td>PROX1</td>\n",
       "      <td>Exon</td>\n",
       "    </tr>\n",
       "    <tr>\n",
       "      <th>4</th>\n",
       "      <td>cg00001582</td>\n",
       "      <td>cg00001582_B_C_II_17M32_Y</td>\n",
       "      <td>88781221</td>\n",
       "      <td>AACCCTTTAAAAATAAAMTAACCAATATAATCTAACACTTCAACTT...</td>\n",
       "      <td>17M32</td>\n",
       "      <td>NaN</td>\n",
       "      <td>NaN</td>\n",
       "      <td>NaN</td>\n",
       "      <td>R</td>\n",
       "      <td>B</td>\n",
       "      <td>...</td>\n",
       "      <td>NaN</td>\n",
       "      <td>NaN</td>\n",
       "      <td>NaN</td>\n",
       "      <td>NaN</td>\n",
       "      <td>NaN</td>\n",
       "      <td>34702943.0</td>\n",
       "      <td>34702944.0</td>\n",
       "      <td>28</td>\n",
       "      <td>ZMIZ1</td>\n",
       "      <td>Intergenic_upstream</td>\n",
       "    </tr>\n",
       "    <tr>\n",
       "      <th>5</th>\n",
       "      <td>cg00002920</td>\n",
       "      <td>cg00002920_B_C_II_M40Y5Y2_Y</td>\n",
       "      <td>03643387</td>\n",
       "      <td>MCATAATTTATTTTCTTAAAATATTAATTTATCAACAACTTYCCTA...</td>\n",
       "      <td>M40Y5Y2</td>\n",
       "      <td>NaN</td>\n",
       "      <td>NaN</td>\n",
       "      <td>NaN</td>\n",
       "      <td>R</td>\n",
       "      <td>B</td>\n",
       "      <td>...</td>\n",
       "      <td>NaN</td>\n",
       "      <td>NaN</td>\n",
       "      <td>NaN</td>\n",
       "      <td>NaN</td>\n",
       "      <td>NaN</td>\n",
       "      <td>47915351.0</td>\n",
       "      <td>47915352.0</td>\n",
       "      <td>26</td>\n",
       "      <td>MKI67</td>\n",
       "      <td>Intergenic_upstream</td>\n",
       "    </tr>\n",
       "  </tbody>\n",
       "</table>\n",
       "<p>5 rows × 81 columns</p>\n",
       "</div>"
      ],
      "text/plain": [
       "       IlmnID                         Name AddressA_ID  \\\n",
       "1  cg00000165  cg00000165_B_C_II_16W28R4_Y    61688267   \n",
       "2  cg00001209    cg00001209_B_C_II_15M34_Y    99653471   \n",
       "3  cg00001364    cg00001364_B_C_II_28Y21_Y    94653210   \n",
       "4  cg00001582    cg00001582_B_C_II_17M32_Y    88781221   \n",
       "5  cg00002920  cg00002920_B_C_II_M40Y5Y2_Y    03643387   \n",
       "\n",
       "                                    AlleleA_ProbeSeq ProbeA_Ref_CIGAR  \\\n",
       "1  CAAAATCTATTAATACWATAACTTTTAATAAAACAACTAAAACACR...          16W28R4   \n",
       "2  TCTTAACATTATAAAMAAAACAAAATAATACAAAATATATTCAACC...            15M34   \n",
       "3  ACCAATTTAATATAAATCRCTTATATAAYAAACACCTAAAAACAAA...            28Y21   \n",
       "4  AACCCTTTAAAAATAAAMTAACCAATATAATCTAACACTTCAACTT...            17M32   \n",
       "5  MCATAATTTATTTTCTTAAAATATTAATTTATCAACAACTTYCCTA...          M40Y5Y2   \n",
       "\n",
       "   AddressB_ID AlleleB_ProbeSeq ProbeB_Ref_CIGAR StrandFR StrandTB  ...  \\\n",
       "1          NaN              NaN              NaN        R        B  ...   \n",
       "2          NaN              NaN              NaN        F        B  ...   \n",
       "3          NaN              NaN              NaN        R        B  ...   \n",
       "4          NaN              NaN              NaN        R        B  ...   \n",
       "5          NaN              NaN              NaN        R        B  ...   \n",
       "\n",
       "  Elephant.loxAfr3.100_CGstart Elephant.loxAfr3.100_CGend  \\\n",
       "1                   11412983.0                 11412984.0   \n",
       "2                   64819638.0                 64819639.0   \n",
       "3                    1266053.0                  1266054.0   \n",
       "4                          NaN                        NaN   \n",
       "5                          NaN                        NaN   \n",
       "\n",
       "  Elephant.loxAfr3.100_seqnames Elephant.loxAfr3.100_SYMBOL  \\\n",
       "1                   scaffold_60                      BARHL2   \n",
       "2                    scaffold_7                       KIF2A   \n",
       "3                   scaffold_74                       PROX1   \n",
       "4                           NaN                         NaN   \n",
       "5                           NaN                         NaN   \n",
       "\n",
       "  Elephant.loxAfr3.100_main_Categories Cattle.ARS-UCD1.2_CGstart  \\\n",
       "1                  Intergenic_upstream                52520158.0   \n",
       "2                  Intergenic_upstream                17450440.0   \n",
       "3                                 Exon                69576644.0   \n",
       "4                                  NaN                34702943.0   \n",
       "5                                  NaN                47915351.0   \n",
       "\n",
       "  Cattle.ARS-UCD1.2_CGend Cattle.ARS-UCD1.2_seqnames Cattle.ARS-UCD1.2_SYMBOL  \\\n",
       "1              52520159.0                          3                   BARHL2   \n",
       "2              17450441.0                         20                    KIF2A   \n",
       "3              69576645.0                         16                    PROX1   \n",
       "4              34702944.0                         28                    ZMIZ1   \n",
       "5              47915352.0                         26                    MKI67   \n",
       "\n",
       "  Cattle.ARS-UCD1.2_main_Categories  \n",
       "1               Intergenic_upstream  \n",
       "2               Intergenic_upstream  \n",
       "3                              Exon  \n",
       "4               Intergenic_upstream  \n",
       "5               Intergenic_upstream  \n",
       "\n",
       "[5 rows x 81 columns]"
      ]
     },
     "execution_count": 4,
     "metadata": {},
     "output_type": "execute_result"
    }
   ],
   "source": [
    "### Load the HorvathMammalMethylChip40 annotation file\n",
    "\n",
    "annotation_file = \"HorvathMammalMethylChip40.csv\"\n",
    "annotations = pd.read_csv(annotation_file, index_col=0, low_memory=False)\n",
    "annotations.head()"
   ]
  },
  {
   "cell_type": "code",
   "execution_count": 5,
   "metadata": {},
   "outputs": [
    {
     "name": "stdout",
     "output_type": "stream",
     "text": [
      "Index(['IlmnID', 'Name', 'AddressA_ID', 'AlleleA_ProbeSeq', 'ProbeA_Ref_CIGAR',\n",
      "       'AddressB_ID', 'AlleleB_ProbeSeq', 'ProbeB_Ref_CIGAR', 'StrandFR',\n",
      "       'StrandTB', 'StrandCO', 'Design_Sequence', 'Forward_Sequence',\n",
      "       'Top_Sequence', 'SourceSeq', 'Infinium_Design_Type', 'Next_Base',\n",
      "       'Color_Channel', 'Next_Base_Alt', 'Color_Channel_Alt', 'CG.',\n",
      "       'SNP_Count', 'CPG_Count', 'Replicate_Number', 'Replicate_Count',\n",
      "       'IlmnID_Old', 'Human.Hg19_CGstart', 'Human.Hg19_CGend',\n",
      "       'Human.Hg19_seqnames', 'Human.Hg19_SYMBOL',\n",
      "       'Human.Hg19_main_Categories', 'Human.Hg38_start', 'Human.Hg38_end',\n",
      "       'Human.Hg38_seqnames', 'Human.Hg38_SYMBOL',\n",
      "       'Human.Hg38_main_Categories', 'Mouse.GRCm38.100_CGstart',\n",
      "       'Mouse.GRCm38.100_CGend', 'Mouse.GRCm38.100_seqnames',\n",
      "       'Mouse.GRCm38.100_SYMBOL', 'Mouse.GRCm38.100_main_Categories',\n",
      "       'Rat.Rnor.6.0.101_CGstart', 'Rat.Rnor.6.0.101_CGend',\n",
      "       'Rat.Rnor.6.0.101_seqnames', 'Rat.Rnor.6.0.101_SYMBOL',\n",
      "       'Rat.Rnor.6.0.101_main_Categories', 'Horse.EquCab3.0.100_CGstart',\n",
      "       'Horse.EquCab3.0.100_CGend', 'Horse.EquCab3.0.100_seqnames',\n",
      "       'Horse.EquCab3.0.100_SYMBOL', 'Horse.EquCab3.0.100_main_Categories',\n",
      "       'Pig.Sscrofa11.1.100_CGstart', 'Pig.Sscrofa11.1.100_CGend',\n",
      "       'Pig.Sscrofa11.1.100_seqnames', 'Pig.Sscrofa11.1.100_SYMBOL',\n",
      "       'Pig.Sscrofa11.1.100_main_Categories', 'Cat.FC.9.0.100_CGstart',\n",
      "       'Cat.FC.9.0.100_CGend', 'Cat.FC.9.0.100_seqnames',\n",
      "       'Cat.FC.9.0.100_SYMBOL', 'Cat.FC.9.0.100_main_Categories',\n",
      "       'Dog.CanFam3.1_CGstart', 'Dog.CanFam3.1_CGend',\n",
      "       'Dog.CanFam3.1_seqnames', 'Dog.CanFam3.1_SYMBOL',\n",
      "       'Dog.CanFam3.1_main_Categories', 'Dolphine.turTru1.100_CGstart',\n",
      "       'Dolphine.turTru1.100_CGend', 'Dolphine.turTru1.100_seqnames',\n",
      "       'Dolphine.turTru1.100_SYMBOL', 'Dolphine.turTru1.100_main_Categories',\n",
      "       'Elephant.loxAfr3.100_CGstart', 'Elephant.loxAfr3.100_CGend',\n",
      "       'Elephant.loxAfr3.100_seqnames', 'Elephant.loxAfr3.100_SYMBOL',\n",
      "       'Elephant.loxAfr3.100_main_Categories', 'Cattle.ARS-UCD1.2_CGstart',\n",
      "       'Cattle.ARS-UCD1.2_CGend', 'Cattle.ARS-UCD1.2_seqnames',\n",
      "       'Cattle.ARS-UCD1.2_SYMBOL', 'Cattle.ARS-UCD1.2_main_Categories'],\n",
      "      dtype='object')\n"
     ]
    }
   ],
   "source": [
    "### Display all column names to see what we have\n",
    "print(annotations.columns)"
   ]
  },
  {
   "cell_type": "markdown",
   "metadata": {},
   "source": [
    "The annotations csv contains the gene annotations for all the species used in the analysis. For now, we will focus on human CpGs and genes."
   ]
  },
  {
   "cell_type": "code",
   "execution_count": 6,
   "metadata": {},
   "outputs": [],
   "source": [
    "### Selecting relevant human annotation columns\n",
    "\n",
    "annotation_cols = [\n",
    "    'IlmnID', \n",
    "    'Human.Hg38_seqnames', \n",
    "    'Human.Hg38_start', \n",
    "    'Human.Hg38_end', \n",
    "    'Human.Hg38_SYMBOL', \n",
    "    'Human.Hg38_main_Categories'\n",
    "]\n",
    "\n",
    "# Filter the annotation DataFrame to include only the necessary columns\n",
    "filtered_annotations = annotations.copy()[annotation_cols]\n",
    "filtered_annotations.head()\n",
    "\n",
    "# Rename columns for easier understanding and to match desired output\n",
    "filtered_annotations.rename(columns={\n",
    "    'IlmnID': 'CpG',\n",
    "    'Human.Hg38_seqnames': 'chr',\n",
    "    'Human.Hg38_start': 'start',\n",
    "    'Human.Hg38_end': 'end',\n",
    "    'Human.Hg38_SYMBOL': 'gene',\n",
    "    'Human.Hg38_main_Categories': 'category'\n",
    "}, inplace=True)\n",
    "filtered_annotations.head()\n",
    "\n",
    "# Merge CpG names with annotations to get genomic coordinates and gene information\n",
    "## load and add to the df in the dictionary\n",
    "rel_cpgs_dict['clock1'] = pd.merge(rel_cpgs_dict['clock1'], filtered_annotations, on='CpG', how='left')\n",
    "rel_cpgs_dict['clock2'] = pd.merge(rel_cpgs_dict['clock2'], filtered_annotations, on='CpG', how='left')\n",
    "rel_cpgs_dict['clock3'] = pd.merge(rel_cpgs_dict['clock3'], filtered_annotations, on='CpG', how='left')\n",
    "rel_cpgs_dict['clock2_3'] = pd.merge(rel_cpgs_dict['clock2_3'], filtered_annotations, on='CpG', how='left')"
   ]
  },
  {
   "cell_type": "code",
   "execution_count": 7,
   "metadata": {},
   "outputs": [],
   "source": [
    "### Function to determine region type\n",
    "\n",
    "def determine_region_type(category):\n",
    "    \n",
    "    if pd.isna(category):\n",
    "        return 'intergenic'\n",
    "    \n",
    "    category = category.lower()  # Convert to lowercase for case-insensitive matching\n",
    "    \n",
    "    if 'promoter' in category:\n",
    "        return 'promoter'\n",
    "    \n",
    "    elif any(term in category for term in ['exon', 'intron', 'utr']): # Because some categories contain 'exon', 'intron', 'utr'\n",
    "        return 'gene body'\n",
    "    \n",
    "    elif 'intergenic' in category:\n",
    "        return 'intergenic'\n",
    "    \n",
    "    else:\n",
    "        return 'other'  # For any unforeseen categories"
   ]
  },
  {
   "cell_type": "code",
   "execution_count": 8,
   "metadata": {},
   "outputs": [
    {
     "name": "stdout",
     "output_type": "stream",
     "text": [
      "Annotation of clock1 CpGs completed.\n",
      "          CpG   chr        start          end        gene category     region\n",
      "0  cg25019875  chr1   37275026.0   37275027.0     MIR4255   Intron  gene body\n",
      "1  cg20113482  chr5   54215550.0   54215551.0       ARL15   Intron  gene body\n",
      "2  cg24315421  chr1  207866908.0  207866909.0  MIR29B2CHG   Intron  gene body\n",
      "3  cg26275174  chr9    2159835.0    2159836.0     SMARCA2     Exon  gene body\n",
      "4  cg18304538  chr5   77852294.0   77852295.0        TBCA   Intron  gene body\n",
      "Annotation of clock2 CpGs completed.\n",
      "          CpG    chr        start          end       gene  \\\n",
      "0  cg09008979  chr12   53336382.0   53336383.0        SP7   \n",
      "1  cg05844937   chr6    1613906.0    1613907.0      FOXC1   \n",
      "2  cg26957053  chr14   33800281.0   33800282.0      NPAS3   \n",
      "3  cg18894136  chr13  109667928.0  109667929.0  LINC00676   \n",
      "4  cg07547549  chr20   46029586.0   46029587.0    SLC12A5   \n",
      "\n",
      "                category      region  \n",
      "0                 Intron   gene body  \n",
      "1  Intergenic_downstream  intergenic  \n",
      "2                   Exon   gene body  \n",
      "3                 Intron   gene body  \n",
      "4                 Intron   gene body  \n",
      "Annotation of clock3 CpGs completed.\n",
      "          CpG    chr        start          end     gene  \\\n",
      "0  cg06679388   chr4  140094103.0  140094104.0    MAML3   \n",
      "1  cg00422680   chr5  171294749.0  171294750.0  RANBP17   \n",
      "2  cg09008979  chr12   53336382.0   53336383.0      SP7   \n",
      "3  cg09010707  chr12   26239634.0   26239635.0     SSPN   \n",
      "4  cg05844937   chr6    1613906.0    1613907.0    FOXC1   \n",
      "\n",
      "                category      region  \n",
      "0                 Intron   gene body  \n",
      "1                 Intron   gene body  \n",
      "2                 Intron   gene body  \n",
      "3                 Intron   gene body  \n",
      "4  Intergenic_downstream  intergenic  \n",
      "Annotation of clock2_3 CpGs completed.\n",
      "          CpG    chr        start          end       gene  \\\n",
      "0  cg09008979  chr12   53336382.0   53336383.0        SP7   \n",
      "1  cg05844937   chr6    1613906.0    1613907.0      FOXC1   \n",
      "2  cg18894136  chr13  109667928.0  109667929.0  LINC00676   \n",
      "3  cg07547549  chr20   46029586.0   46029587.0    SLC12A5   \n",
      "4  cg21602520  chr18   63318147.0   63318148.0       BCL2   \n",
      "\n",
      "                category      region  \n",
      "0                 Intron   gene body  \n",
      "1  Intergenic_downstream  intergenic  \n",
      "2                 Intron   gene body  \n",
      "3                 Intron   gene body  \n",
      "4                   Exon   gene body  \n"
     ]
    }
   ],
   "source": [
    "### Annotation Loop\n",
    "\n",
    "for clock_name, clock_df in rel_cpgs_dict.items():\n",
    "\n",
    "    clock_df['region'] = clock_df['category'].apply(determine_region_type)\n",
    "\n",
    "    output_path = f'../../FunctionalAnalysis/Annotations/Annotations Results/{clock_name}_annotated_relevant_CpGs.csv'\n",
    "    os.makedirs(os.path.dirname(output_path), exist_ok=True)\n",
    "    \n",
    "    clock_df.to_csv(output_path, index=False)\n",
    "    print(f'Annotation of {clock_name} CpGs completed.')\n",
    "    print(clock_df.head())"
   ]
  },
  {
   "cell_type": "code",
   "execution_count": 9,
   "metadata": {},
   "outputs": [
    {
     "data": {
      "image/png": "[encoded data removed]",
      "text/plain": [
       "<Figure size 1200x600 with 2 Axes>"
      ]
     },
     "metadata": {},
     "output_type": "display_data"
    },
    {
     "data": {
      "image/png": "[encoded data removed]",
      "text/plain": [
       "<Figure size 1200x600 with 2 Axes>"
      ]
     },
     "metadata": {},
     "output_type": "display_data"
    },
    {
     "data": {
      "image/png": "[encoded data removed]",
      "text/plain": [
       "<Figure size 1200x600 with 2 Axes>"
      ]
     },
     "metadata": {},
     "output_type": "display_data"
    },
    {
     "data": {
      "image/png": "[encoded data removed]",
      "text/plain": [
       "<Figure size 1200x600 with 2 Axes>"
      ]
     },
     "metadata": {},
     "output_type": "display_data"
    }
   ],
   "source": [
    "### Plotting - Bar Plots for Category and Region Type Counts - Loop\n",
    "\n",
    "# Viridis color palette\n",
    "viridis_colors = plt.cm.viridis([0, 0.1, 0.2, 0.3, 0.5, 0.7, 0.8, 1.0])\n",
    "\n",
    "# Map the categories to the Viridis colors\n",
    "color_map = {\n",
    "    'Exon': mcolors.to_hex(viridis_colors[1]),\n",
    "    'Intron': mcolors.to_hex(viridis_colors[0]),\n",
    "    'Promoter': mcolors.to_hex(viridis_colors[2]),\n",
    "    'threeUTR': mcolors.to_hex(viridis_colors[3]),\n",
    "    'fiveUTR': mcolors.to_hex(viridis_colors[5]),\n",
    "    'Intergenic_downstream': mcolors.to_hex(viridis_colors[4]),\n",
    "    'Intergenic_upstream': mcolors.to_hex(viridis_colors[6])\n",
    "}\n",
    "\n",
    "# Loop through each clock dataframe in the dictionary\n",
    "for clock_name, cpg_annotations in rel_cpgs_dict.items():\n",
    "    # Create subplots\n",
    "    fig, ax = plt.subplots(1, 2, figsize=(12, 6))\n",
    "\n",
    "    # Plot category counts with predefined colors\n",
    "    category_counts = cpg_annotations['category'].value_counts()\n",
    "    category_colors = [color_map[cat] for cat in category_counts.index]\n",
    "    category_counts.plot(kind='bar', ax=ax[0], color=category_colors)\n",
    "    ax[0].set_title(f'{clock_name} - Category Counts')\n",
    "    ax[0].set_xlabel('Category')\n",
    "    ax[0].set_ylabel('Count')\n",
    "    ax[0].xaxis.set_tick_params(rotation=45)\n",
    "\n",
    "    # Plot region type counts with Viridis colors\n",
    "    region_type_counts = cpg_annotations['region'].value_counts()\n",
    "    region_type_counts.plot(kind='bar', ax=ax[1], color=viridis_colors[7])\n",
    "    ax[1].set_title(f'{clock_name} - Region Type Counts')\n",
    "    ax[1].set_xlabel('Region Type')\n",
    "    ax[1].set_ylabel('Count')\n",
    "    ax[1].xaxis.set_tick_params(rotation=45)\n",
    "\n",
    "    plt.tight_layout()\n",
    "    plt.show()"
   ]
  },
  {
   "cell_type": "code",
   "execution_count": 14,
   "metadata": {},
   "outputs": [
    {
     "data": {
      "application/vnd.plotly.v1+json": {
       "config": {
        "plotlyServerURL": "https://plot.ly"
       },
       "data": [
        {
         "hoverinfo": "text",
         "hovertext": [
          "cg25019875<br>MIR4255<br>Intron<br>37275026.0",
          "cg24315421<br>MIR29B2CHG<br>Intron<br>207866908.0",
          "cg09360996<br>PROX1<br>Exon<br>213996654.0",
          "cg10501210<br>MIR29B2CHG<br>Intron<br>207823675.0",
          "cg16599143<br>FMO3<br>Promoter<br>171089531.0",
          "cg27228973<br>FOXO6-AS1<br>Intergenic_upstream<br>41404380.0",
          "cg25603344<br>MIR3659<br>Intron<br>38114450.0",
          "cg03564272<br>CASZ1<br>Intron<br>10673616.0",
          "cg27581159<br>ESRRG<br>Intron<br>217089866.0",
          "cg15991909<br>ZBTB8A<br>Intron<br>32539339.0"
         ],
         "marker": {
          "color": [
           "#440154",
           "#440154",
           "#414487",
           "#440154",
           "#355f8d",
           "#fde725",
           "#440154",
           "#440154",
           "#440154",
           "#440154"
          ],
          "line": {
           "color": "black",
           "width": 0.5
          },
          "size": 10,
          "symbol": "square"
         },
         "mode": "markers+text",
         "showlegend": false,
         "text": [
          "MIR4255",
          "MIR29B2CHG",
          "PROX1",
          "MIR29B2CHG",
          "FMO3",
          "FOXO6-AS1",
          "MIR3659",
          "CASZ1",
          "ESRRG",
          "ZBTB8A"
         ],
         "textfont": {
          "color": "black",
          "size": 10
         },
         "textposition": "top center",
         "type": "scatter",
         "x": [
          37275026,
          207866908,
          213996654,
          207823675,
          171089531,
          41404380,
          38114450,
          10673616,
          217089866,
          32539339
         ],
         "xaxis": "x",
         "y": [
          1,
          1,
          1,
          1,
          1,
          1,
          1,
          1,
          1,
          1
         ],
         "yaxis": "y"
        },
        {
         "hoverinfo": "text",
         "hovertext": [
          "cg27553955<br>KCNG3<br>Exon<br>42493186.0",
          "cg26012482<br>LINC00299<br>Intron<br>8283025.0",
          "cg18672716<br>SH3YL1<br>Intergenic_downstream<br>193256.0",
          "cg14384416<br>SH3YL1<br>Intergenic_downstream<br>193393.0",
          "cg14361875<br>LINC01812<br>Intergenic_upstream<br>67846376.0",
          "cg05322294<br>ZEB2-AS1<br>fiveUTR<br>144520585.0",
          "cg17905888<br>LINC01876<br>Intergenic_downstream<br>155727368.0"
         ],
         "marker": {
          "color": [
           "#414487",
           "#440154",
           "#44bf70",
           "#44bf70",
           "#fde725",
           "#7ad151",
           "#44bf70"
          ],
          "line": {
           "color": "black",
           "width": 0.5
          },
          "size": 10,
          "symbol": "square"
         },
         "mode": "markers+text",
         "showlegend": false,
         "text": [
          "KCNG3",
          "LINC00299",
          "SH3YL1",
          "SH3YL1",
          "LINC01812",
          "ZEB2-AS1",
          "LINC01876"
         ],
         "textfont": {
          "color": "black",
          "size": 10
         },
         "textposition": "top center",
         "type": "scatter",
         "x": [
          42493186,
          8283025,
          193256,
          193393,
          67846376,
          144520585,
          155727368
         ],
         "xaxis": "x2",
         "y": [
          2,
          2,
          2,
          2,
          2,
          2,
          2
         ],
         "yaxis": "y2"
        },
        {
         "hoverinfo": "text",
         "hovertext": [
          "cg15903282<br>EPHB1<br>Intron<br>134794848.0",
          "cg26614073<br>SCAP<br>Promoter<br>47476329.0",
          "cg22264409<br>PROK2<br>Intron<br>71779257.0",
          "cg12841266<br>LHFPL4<br>Exon<br>9552409.0",
          "cg25033328<br>MBNL1<br>Intron<br>152446541.0"
         ],
         "marker": {
          "color": [
           "#440154",
           "#355f8d",
           "#440154",
           "#414487",
           "#440154"
          ],
          "line": {
           "color": "black",
           "width": 0.5
          },
          "size": 10,
          "symbol": "square"
         },
         "mode": "markers+text",
         "showlegend": false,
         "text": [
          "EPHB1",
          "SCAP",
          "PROK2",
          "LHFPL4",
          "MBNL1"
         ],
         "textfont": {
          "color": "black",
          "size": 10
         },
         "textposition": "top center",
         "type": "scatter",
         "x": [
          134794848,
          47476329,
          71779257,
          9552409,
          152446541
         ],
         "xaxis": "x3",
         "y": [
          3,
          3,
          3,
          3,
          3
         ],
         "yaxis": "y3"
        },
        {
         "hoverinfo": "text",
         "hovertext": [
          "cg10603790<br>LEF1<br>Intron<br>108141597.0",
          "cg03605454<br>IQCM<br>Intron<br>149885131.0",
          "cg01511232<br>LRAT<br>Intron<br>154740777.0"
         ],
         "marker": {
          "color": [
           "#440154",
           "#440154",
           "#440154"
          ],
          "line": {
           "color": "black",
           "width": 0.5
          },
          "size": 10,
          "symbol": "square"
         },
         "mode": "markers+text",
         "showlegend": false,
         "text": [
          "LEF1",
          "IQCM",
          "LRAT"
         ],
         "textfont": {
          "color": "black",
          "size": 10
         },
         "textposition": "top center",
         "type": "scatter",
         "x": [
          108141597,
          149885131,
          154740777
         ],
         "xaxis": "x4",
         "y": [
          4,
          4,
          4
         ],
         "yaxis": "y4"
        },
        {
         "hoverinfo": "text",
         "hovertext": [
          "cg20113482<br>ARL15<br>Intron<br>54215550.0",
          "cg18304538<br>TBCA<br>Intron<br>77852294.0",
          "cg05475048<br>TRPC7<br>Exon<br>136274834.0",
          "cg18814344<br>CXXC5<br>Intron<br>139660961.0",
          "cg27088374<br>CLINT1<br>Exon<br>157816777.0",
          "cg18223258<br>ISL1<br>Intergenic_downstream<br>51399170.0",
          "cg24119607<br>CXXC5<br>Intron<br>139668154.0"
         ],
         "marker": {
          "color": [
           "#440154",
           "#440154",
           "#414487",
           "#440154",
           "#414487",
           "#44bf70",
           "#440154"
          ],
          "line": {
           "color": "black",
           "width": 0.5
          },
          "size": 10,
          "symbol": "square"
         },
         "mode": "markers+text",
         "showlegend": false,
         "text": [
          "ARL15",
          "TBCA",
          "TRPC7",
          "CXXC5",
          "CLINT1",
          "ISL1",
          "CXXC5"
         ],
         "textfont": {
          "color": "black",
          "size": 10
         },
         "textposition": "top center",
         "type": "scatter",
         "x": [
          54215550,
          77852294,
          136274834,
          139660961,
          157816777,
          51399170,
          139668154
         ],
         "xaxis": "x5",
         "y": [
          5,
          5,
          5,
          5,
          5,
          5,
          5
         ],
         "yaxis": "y5"
        },
        {
         "hoverinfo": "text",
         "hovertext": [
          "cg06472065<br>SYNGAP1<br>Exon<br>33426669.0",
          "cg09618893<br>EHMT2<br>Exon<br>31888996.0",
          "cg16867657<br>ELOVL2-AS1<br>Exon<br>11044644.0",
          "cg19098934<br>BACH2<br>Intron<br>90079771.0"
         ],
         "marker": {
          "color": [
           "#414487",
           "#414487",
           "#414487",
           "#440154"
          ],
          "line": {
           "color": "black",
           "width": 0.5
          },
          "size": 10,
          "symbol": "square"
         },
         "mode": "markers+text",
         "showlegend": false,
         "text": [
          "SYNGAP1",
          "EHMT2",
          "ELOVL2-AS1",
          "BACH2"
         ],
         "textfont": {
          "color": "black",
          "size": 10
         },
         "textposition": "top center",
         "type": "scatter",
         "x": [
          33426669,
          31888996,
          11044644,
          90079771
         ],
         "xaxis": "x6",
         "y": [
          6,
          6,
          6,
          6
         ],
         "yaxis": "y6"
        },
        {
         "hoverinfo": "text",
         "hovertext": [
          "cg01019040<br>LHFPL3<br>Exon<br>104328968.0",
          "cg04051518<br>CDK6<br>Intron<br>92755491.0",
          "cg03820088<br>TRA2A<br>fiveUTR<br>23522229.0"
         ],
         "marker": {
          "color": [
           "#414487",
           "#440154",
           "#7ad151"
          ],
          "line": {
           "color": "black",
           "width": 0.5
          },
          "size": 10,
          "symbol": "square"
         },
         "mode": "markers+text",
         "showlegend": false,
         "text": [
          "LHFPL3",
          "CDK6",
          "TRA2A"
         ],
         "textfont": {
          "color": "black",
          "size": 10
         },
         "textposition": "top center",
         "type": "scatter",
         "x": [
          104328968,
          92755491,
          23522229
         ],
         "xaxis": "x7",
         "y": [
          7,
          7,
          7
         ],
         "yaxis": "y7"
        },
        {
         "hoverinfo": "text",
         "hovertext": [
          "cg09681292<br>ST18<br>Intron<br>52327626.0",
          "cg12815291<br>ZC3H3<br>Intron<br>143439468.0",
          "cg18168101<br>BAALC-AS2<br>Promoter<br>103141399.0"
         ],
         "marker": {
          "color": [
           "#440154",
           "#440154",
           "#355f8d"
          ],
          "line": {
           "color": "black",
           "width": 0.5
          },
          "size": 10,
          "symbol": "square"
         },
         "mode": "markers+text",
         "showlegend": false,
         "text": [
          "ST18",
          "ZC3H3",
          "BAALC-AS2"
         ],
         "textfont": {
          "color": "black",
          "size": 10
         },
         "textposition": "top center",
         "type": "scatter",
         "x": [
          52327626,
          143439468,
          103141399
         ],
         "xaxis": "x8",
         "y": [
          8,
          8,
          8
         ],
         "yaxis": "y8"
        },
        {
         "hoverinfo": "text",
         "hovertext": [
          "cg26275174<br>SMARCA2<br>Exon<br>2159835.0",
          "cg20331456<br>MLLT3<br>Intron<br>20606794.0",
          "cg27547112<br>HNRNPK<br>Intron<br>83973650.0",
          "cg26581729<br>NPDC1<br>Promoter<br>137045340.0",
          "cg09191327<br>PRDM12<br>Exon<br>130664721.0"
         ],
         "marker": {
          "color": [
           "#414487",
           "#440154",
           "#440154",
           "#355f8d",
           "#414487"
          ],
          "line": {
           "color": "black",
           "width": 0.5
          },
          "size": 10,
          "symbol": "square"
         },
         "mode": "markers+text",
         "showlegend": false,
         "text": [
          "SMARCA2",
          "MLLT3",
          "HNRNPK",
          "NPDC1",
          "PRDM12"
         ],
         "textfont": {
          "color": "black",
          "size": 10
         },
         "textposition": "top center",
         "type": "scatter",
         "x": [
          2159835,
          20606794,
          83973650,
          137045340,
          130664721
         ],
         "xaxis": "x9",
         "y": [
          9,
          9,
          9,
          9,
          9
         ],
         "yaxis": "y9"
        },
        {
         "hoverinfo": "text",
         "hovertext": [
          "cg09622673<br>BTRC<br>Intron<br>101452071.0",
          "cg01656216<br>ZNF438<br>Intron<br>30984781.0",
          "cg26662324<br>CTBP2<br>Intron<br>125057293.0",
          "cg04706544<br>DRGX<br>Promoter<br>49396706.0",
          "cg07938388<br>DRGX<br>Promoter<br>49396731.0",
          "cg18738190<br>CHST3<br>Intron<br>71980533.0",
          "cg17357006<br>VTI1A<br>Exon<br>112538434.0",
          "cg17850367<br>ABI1<br>Promoter<br>26861569.0",
          "cg06098215<br>NCOA4<br>Intron<br>46020119.0"
         ],
         "marker": {
          "color": [
           "#440154",
           "#440154",
           "#440154",
           "#355f8d",
           "#355f8d",
           "#440154",
           "#414487",
           "#355f8d",
           "#440154"
          ],
          "line": {
           "color": "black",
           "width": 0.5
          },
          "size": 10,
          "symbol": "square"
         },
         "mode": "markers+text",
         "showlegend": false,
         "text": [
          "BTRC",
          "ZNF438",
          "CTBP2",
          "DRGX",
          "DRGX",
          "CHST3",
          "VTI1A",
          "ABI1",
          "NCOA4"
         ],
         "textfont": {
          "color": "black",
          "size": 10
         },
         "textposition": "top center",
         "type": "scatter",
         "x": [
          101452071,
          30984781,
          125057293,
          49396706,
          49396731,
          71980533,
          112538434,
          26861569,
          46020119
         ],
         "xaxis": "x10",
         "y": [
          10,
          10,
          10,
          10,
          10,
          10,
          10,
          10,
          10
         ],
         "yaxis": "y10"
        },
        {
         "hoverinfo": "text",
         "hovertext": [
          "cg23501051<br>NAV2<br>Intron<br>19715366.0",
          "cg25184118<br>NRXN2<br>Exon<br>64690444.0",
          "cg00513357<br>EIF4G2<br>Exon<br>10806046.0",
          "cg10739250<br>MPPED2<br>Intron<br>30535950.0",
          "cg15496507<br>CREBZF<br>threeUTR<br>85660576.0"
         ],
         "marker": {
          "color": [
           "#440154",
           "#414487",
           "#414487",
           "#440154",
           "#21918c"
          ],
          "line": {
           "color": "black",
           "width": 0.5
          },
          "size": 10,
          "symbol": "square"
         },
         "mode": "markers+text",
         "showlegend": false,
         "text": [
          "NAV2",
          "NRXN2",
          "EIF4G2",
          "MPPED2",
          "CREBZF"
         ],
         "textfont": {
          "color": "black",
          "size": 10
         },
         "textposition": "top center",
         "type": "scatter",
         "x": [
          19715366,
          64690444,
          10806046,
          30535950,
          85660576
         ],
         "xaxis": "x11",
         "y": [
          11,
          11,
          11,
          11,
          11
         ],
         "yaxis": "y11"
        },
        {
         "hoverinfo": "text",
         "hovertext": [
          "cg14903956<br>GRIN2B<br>Exon<br>13562916.0",
          "cg21345677<br>LINC01234<br>Intron<br>113664715.0",
          "cg17116410<br>HOXC4<br>Exon<br>54037896.0",
          "cg18094982<br>SLCO1C1<br>fiveUTR<br>20695438.0",
          "cg16756969<br>LINC01234<br>Intron<br>113649565.0",
          "cg24551749<br>ATP5MC2<br>Promoter<br>53677516.0",
          "cg23931487<br>ATP5MC2<br>Promoter<br>53677480.0",
          "cg14381350<br>STX2<br>Intron<br>130826483.0",
          "cg13935553<br>BHLHE41<br>threeUTR<br>26120667.0",
          "cg26311454<br>TUBA1B<br>Intergenic_downstream<br>49126865.0"
         ],
         "marker": {
          "color": [
           "#414487",
           "#440154",
           "#414487",
           "#7ad151",
           "#440154",
           "#355f8d",
           "#355f8d",
           "#440154",
           "#21918c",
           "#44bf70"
          ],
          "line": {
           "color": "black",
           "width": 0.5
          },
          "size": 10,
          "symbol": "square"
         },
         "mode": "markers+text",
         "showlegend": false,
         "text": [
          "GRIN2B",
          "LINC01234",
          "HOXC4",
          "SLCO1C1",
          "LINC01234",
          "ATP5MC2",
          "ATP5MC2",
          "STX2",
          "BHLHE41",
          "TUBA1B"
         ],
         "textfont": {
          "color": "black",
          "size": 10
         },
         "textposition": "top center",
         "type": "scatter",
         "x": [
          13562916,
          113664715,
          54037896,
          20695438,
          113649565,
          53677516,
          53677480,
          130826483,
          26120667,
          49126865
         ],
         "xaxis": "x12",
         "y": [
          12,
          12,
          12,
          12,
          12,
          12,
          12,
          12,
          12,
          12
         ],
         "yaxis": "y12"
        },
        {
         "hoverinfo": "text",
         "hovertext": [
          "cg09605634<br>DCLK1<br>Exon<br>35947401.0",
          "cg00593462<br>COL4A1<br>Intron<br>110116146.0",
          "cg09807427<br>FAM155A<br>Exon<br>107866400.0"
         ],
         "marker": {
          "color": [
           "#414487",
           "#440154",
           "#414487"
          ],
          "line": {
           "color": "black",
           "width": 0.5
          },
          "size": 10,
          "symbol": "square"
         },
         "mode": "markers+text",
         "showlegend": false,
         "text": [
          "DCLK1",
          "COL4A1",
          "FAM155A"
         ],
         "textfont": {
          "color": "black",
          "size": 10
         },
         "textposition": "top center",
         "type": "scatter",
         "x": [
          35947401,
          110116146,
          107866400
         ],
         "xaxis": "x13",
         "y": [
          13,
          13,
          13
         ],
         "yaxis": "y13"
        },
        {
         "hoverinfo": "text",
         "hovertext": [
          "cg15089111<br>NPAS3<br>Exon<br>33800907.0",
          "cg09750164<br>NPAS3<br>Exon<br>33800872.0",
          "cg24058132<br>GALC<br>fiveUTR<br>87993522.0",
          "cg12449245<br>DPF3<br>Exon<br>72619953.0",
          "cg24805210<br>ACIN1<br>Intron<br>23068755.0"
         ],
         "marker": {
          "color": [
           "#414487",
           "#414487",
           "#7ad151",
           "#414487",
           "#440154"
          ],
          "line": {
           "color": "black",
           "width": 0.5
          },
          "size": 10,
          "symbol": "square"
         },
         "mode": "markers+text",
         "showlegend": false,
         "text": [
          "NPAS3",
          "NPAS3",
          "GALC",
          "DPF3",
          "ACIN1"
         ],
         "textfont": {
          "color": "black",
          "size": 10
         },
         "textposition": "top center",
         "type": "scatter",
         "x": [
          33800907,
          33800872,
          87993522,
          72619953,
          23068755
         ],
         "xaxis": "x14",
         "y": [
          14,
          14,
          14,
          14,
          14
         ],
         "yaxis": "y14"
        },
        {
         "hoverinfo": "text",
         "hovertext": [
          "cg00687674<br>EWSAT1<br>Exon<br>69080920.0",
          "cg03668418<br>C15orf41<br>Intergenic_upstream<br>36357037.0",
          "cg24888049<br>FURIN<br>threeUTR<br>90883437.0"
         ],
         "marker": {
          "color": [
           "#414487",
           "#fde725",
           "#21918c"
          ],
          "line": {
           "color": "black",
           "width": 0.5
          },
          "size": 10,
          "symbol": "square"
         },
         "mode": "markers+text",
         "showlegend": false,
         "text": [
          "EWSAT1",
          "C15orf41",
          "FURIN"
         ],
         "textfont": {
          "color": "black",
          "size": 10
         },
         "textposition": "top center",
         "type": "scatter",
         "x": [
          69080920,
          36357037,
          90883437
         ],
         "xaxis": "x15",
         "y": [
          15,
          15,
          15
         ],
         "yaxis": "y15"
        },
        {
         "hoverinfo": "text",
         "hovertext": [
          "cg03898602<br>JPH3<br>Exon<br>87603438.0",
          "cg06736685<br>GSE1<br>Intron<br>85555743.0"
         ],
         "marker": {
          "color": [
           "#414487",
           "#440154"
          ],
          "line": {
           "color": "black",
           "width": 0.5
          },
          "size": 10,
          "symbol": "square"
         },
         "mode": "markers+text",
         "showlegend": false,
         "text": [
          "JPH3",
          "GSE1"
         ],
         "textfont": {
          "color": "black",
          "size": 10
         },
         "textposition": "top center",
         "type": "scatter",
         "x": [
          87603438,
          85555743
         ],
         "xaxis": "x16",
         "y": [
          16,
          16
         ],
         "yaxis": "y16"
        },
        {
         "hoverinfo": "text",
         "hovertext": [
          "cg08343834<br>PMP22<br>Promoter<br>15265341.0",
          "cg07005811<br>PHF12<br>Exon<br>28912612.0",
          "cg19233240<br>BCAS3<br>Intron<br>61289642.0",
          "cg02909927<br>RAI1<br>Intron<br>17784078.0",
          "cg00362836<br>LINC00670<br>Intergenic_upstream<br>12473058.0",
          "cg11407867<br>NLK<br>Exon<br>28191075.0",
          "cg04267101<br>EPN3<br>threeUTR<br>50541676.0",
          "cg09313705<br>HOXB-AS1<br>Exon<br>48545129.0"
         ],
         "marker": {
          "color": [
           "#355f8d",
           "#414487",
           "#440154",
           "#440154",
           "#fde725",
           "#414487",
           "#21918c",
           "#414487"
          ],
          "line": {
           "color": "black",
           "width": 0.5
          },
          "size": 10,
          "symbol": "square"
         },
         "mode": "markers+text",
         "showlegend": false,
         "text": [
          "PMP22",
          "PHF12",
          "BCAS3",
          "RAI1",
          "LINC00670",
          "NLK",
          "EPN3",
          "HOXB-AS1"
         ],
         "textfont": {
          "color": "black",
          "size": 10
         },
         "textposition": "top center",
         "type": "scatter",
         "x": [
          15265341,
          28912612,
          61289642,
          17784078,
          12473058,
          28191075,
          50541676,
          48545129
         ],
         "xaxis": "x17",
         "y": [
          17,
          17,
          17,
          17,
          17,
          17,
          17,
          17
         ],
         "yaxis": "y17"
        },
        {
         "hoverinfo": "text",
         "hovertext": [
          "cg26418994<br>CELF4<br>Intron<br>37351224.0",
          "cg16570119<br>TSHZ1<br>threeUTR<br>75288831.0",
          "cg15580396<br>ZNF521<br>Intron<br>25231018.0",
          "cg05562063<br>WDR7<br>Exon<br>56873931.0",
          "cg07903650<br>ONECUT2<br>Exon<br>57435872.0",
          "cg03185524<br>CELF4<br>Intron<br>37351229.0"
         ],
         "marker": {
          "color": [
           "#440154",
           "#21918c",
           "#440154",
           "#414487",
           "#414487",
           "#440154"
          ],
          "line": {
           "color": "black",
           "width": 0.5
          },
          "size": 10,
          "symbol": "square"
         },
         "mode": "markers+text",
         "showlegend": false,
         "text": [
          "CELF4",
          "TSHZ1",
          "ZNF521",
          "WDR7",
          "ONECUT2",
          "CELF4"
         ],
         "textfont": {
          "color": "black",
          "size": 10
         },
         "textposition": "top center",
         "type": "scatter",
         "x": [
          37351224,
          75288831,
          25231018,
          56873931,
          57435872,
          37351229
         ],
         "xaxis": "x18",
         "y": [
          18,
          18,
          18,
          18,
          18,
          18
         ],
         "yaxis": "y18"
        },
        {
         "hoverinfo": "text",
         "hovertext": [
          "cg17633063<br>PTPRT<br>Intron<br>42897077.0",
          "cg14762358<br>VSTM2L<br>Intron<br>37905847.0",
          "cg19358608<br>PDYN-AS1<br>Promoter<br>1943919.0"
         ],
         "marker": {
          "color": [
           "#440154",
           "#440154",
           "#355f8d"
          ],
          "line": {
           "color": "black",
           "width": 0.5
          },
          "size": 10,
          "symbol": "square"
         },
         "mode": "markers+text",
         "showlegend": false,
         "text": [
          "PTPRT",
          "VSTM2L",
          "PDYN-AS1"
         ],
         "textfont": {
          "color": "black",
          "size": 10
         },
         "textposition": "top center",
         "type": "scatter",
         "x": [
          42897077,
          37905847,
          1943919
         ],
         "xaxis": "x19",
         "y": [
          19,
          19,
          19
         ],
         "yaxis": "y19"
        },
        {
         "hoverinfo": "text",
         "hovertext": [
          "cg08665685<br>SMTN<br>threeUTR<br>31104411.0",
          "cg15746205<br>EWSR1<br>Exon<br>29290369.0",
          "cg18194685<br>MN1<br>Intergenic_downstream<br>27557962.0"
         ],
         "marker": {
          "color": [
           "#21918c",
           "#414487",
           "#44bf70"
          ],
          "line": {
           "color": "black",
           "width": 0.5
          },
          "size": 10,
          "symbol": "square"
         },
         "mode": "markers+text",
         "showlegend": false,
         "text": [
          "SMTN",
          "EWSR1",
          "MN1"
         ],
         "textfont": {
          "color": "black",
          "size": 10
         },
         "textposition": "top center",
         "type": "scatter",
         "x": [
          31104411,
          29290369,
          27557962
         ],
         "xaxis": "x20",
         "y": [
          20,
          20,
          20
         ],
         "yaxis": "y20"
        },
        {
         "legendgroup": "Intron",
         "marker": {
          "color": "#440154",
          "size": 10,
          "symbol": "square"
         },
         "mode": "markers",
         "name": "Intron",
         "showlegend": true,
         "type": "scatter",
         "x": [
          null
         ],
         "y": [
          null
         ]
        },
        {
         "legendgroup": "Exon",
         "marker": {
          "color": "#414487",
          "size": 10,
          "symbol": "square"
         },
         "mode": "markers",
         "name": "Exon",
         "showlegend": true,
         "type": "scatter",
         "x": [
          null
         ],
         "y": [
          null
         ]
        },
        {
         "legendgroup": "Promoter",
         "marker": {
          "color": "#355f8d",
          "size": 10,
          "symbol": "square"
         },
         "mode": "markers",
         "name": "Promoter",
         "showlegend": true,
         "type": "scatter",
         "x": [
          null
         ],
         "y": [
          null
         ]
        },
        {
         "legendgroup": "threeUTR",
         "marker": {
          "color": "#21918c",
          "size": 10,
          "symbol": "square"
         },
         "mode": "markers",
         "name": "threeUTR",
         "showlegend": true,
         "type": "scatter",
         "x": [
          null
         ],
         "y": [
          null
         ]
        },
        {
         "legendgroup": "Intergenic_downstream",
         "marker": {
          "color": "#44bf70",
          "size": 10,
          "symbol": "square"
         },
         "mode": "markers",
         "name": "Intergenic_downstream",
         "showlegend": true,
         "type": "scatter",
         "x": [
          null
         ],
         "y": [
          null
         ]
        },
        {
         "legendgroup": "fiveUTR",
         "marker": {
          "color": "#7ad151",
          "size": 10,
          "symbol": "square"
         },
         "mode": "markers",
         "name": "fiveUTR",
         "showlegend": true,
         "type": "scatter",
         "x": [
          null
         ],
         "y": [
          null
         ]
        },
        {
         "legendgroup": "Intergenic_upstream",
         "marker": {
          "color": "#fde725",
          "size": 10,
          "symbol": "square"
         },
         "mode": "markers",
         "name": "Intergenic_upstream",
         "showlegend": true,
         "type": "scatter",
         "x": [
          null
         ],
         "y": [
          null
         ]
        }
       ],
       "layout": {
        "annotations": [
         {
          "font": {
           "size": 16
          },
          "showarrow": false,
          "text": "chr1",
          "x": 0.5,
          "xanchor": "center",
          "xref": "paper",
          "y": 1,
          "yanchor": "bottom",
          "yref": "paper"
         },
         {
          "font": {
           "size": 16
          },
          "showarrow": false,
          "text": "chr2",
          "x": 0.5,
          "xanchor": "center",
          "xref": "paper",
          "y": 0.9490000000000001,
          "yanchor": "bottom",
          "yref": "paper"
         },
         {
          "font": {
           "size": 16
          },
          "showarrow": false,
          "text": "chr3",
          "x": 0.5,
          "xanchor": "center",
          "xref": "paper",
          "y": 0.898,
          "yanchor": "bottom",
          "yref": "paper"
         },
         {
          "font": {
           "size": 16
          },
          "showarrow": false,
          "text": "chr4",
          "x": 0.5,
          "xanchor": "center",
          "xref": "paper",
          "y": 0.8470000000000001,
          "yanchor": "bottom",
          "yref": "paper"
         },
         {
          "font": {
           "size": 16
          },
          "showarrow": false,
          "text": "chr5",
          "x": 0.5,
          "xanchor": "center",
          "xref": "paper",
          "y": 0.7959999999999999,
          "yanchor": "bottom",
          "yref": "paper"
         },
         {
          "font": {
           "size": 16
          },
          "showarrow": false,
          "text": "chr6",
          "x": 0.5,
          "xanchor": "center",
          "xref": "paper",
          "y": 0.745,
          "yanchor": "bottom",
          "yref": "paper"
         },
         {
          "font": {
           "size": 16
          },
          "showarrow": false,
          "text": "chr7",
          "x": 0.5,
          "xanchor": "center",
          "xref": "paper",
          "y": 0.6940000000000001,
          "yanchor": "bottom",
          "yref": "paper"
         },
         {
          "font": {
           "size": 16
          },
          "showarrow": false,
          "text": "chr8",
          "x": 0.5,
          "xanchor": "center",
          "xref": "paper",
          "y": 0.643,
          "yanchor": "bottom",
          "yref": "paper"
         },
         {
          "font": {
           "size": 16
          },
          "showarrow": false,
          "text": "chr9",
          "x": 0.5,
          "xanchor": "center",
          "xref": "paper",
          "y": 0.592,
          "yanchor": "bottom",
          "yref": "paper"
         },
         {
          "font": {
           "size": 16
          },
          "showarrow": false,
          "text": "chr10",
          "x": 0.5,
          "xanchor": "center",
          "xref": "paper",
          "y": 0.541,
          "yanchor": "bottom",
          "yref": "paper"
         },
         {
          "font": {
           "size": 16
          },
          "showarrow": false,
          "text": "chr11",
          "x": 0.5,
          "xanchor": "center",
          "xref": "paper",
          "y": 0.49,
          "yanchor": "bottom",
          "yref": "paper"
         },
         {
          "font": {
           "size": 16
          },
          "showarrow": false,
          "text": "chr12",
          "x": 0.5,
          "xanchor": "center",
          "xref": "paper",
          "y": 0.43900000000000006,
          "yanchor": "bottom",
          "yref": "paper"
         },
         {
          "font": {
           "size": 16
          },
          "showarrow": false,
          "text": "chr13",
          "x": 0.5,
          "xanchor": "center",
          "xref": "paper",
          "y": 0.388,
          "yanchor": "bottom",
          "yref": "paper"
         },
         {
          "font": {
           "size": 16
          },
          "showarrow": false,
          "text": "chr14",
          "x": 0.5,
          "xanchor": "center",
          "xref": "paper",
          "y": 0.33699999999999997,
          "yanchor": "bottom",
          "yref": "paper"
         },
         {
          "font": {
           "size": 16
          },
          "showarrow": false,
          "text": "chr15",
          "x": 0.5,
          "xanchor": "center",
          "xref": "paper",
          "y": 0.28600000000000003,
          "yanchor": "bottom",
          "yref": "paper"
         },
         {
          "font": {
           "size": 16
          },
          "showarrow": false,
          "text": "chr16",
          "x": 0.5,
          "xanchor": "center",
          "xref": "paper",
          "y": 0.23500000000000001,
          "yanchor": "bottom",
          "yref": "paper"
         },
         {
          "font": {
           "size": 16
          },
          "showarrow": false,
          "text": "chr17",
          "x": 0.5,
          "xanchor": "center",
          "xref": "paper",
          "y": 0.184,
          "yanchor": "bottom",
          "yref": "paper"
         },
         {
          "font": {
           "size": 16
          },
          "showarrow": false,
          "text": "chr18",
          "x": 0.5,
          "xanchor": "center",
          "xref": "paper",
          "y": 0.133,
          "yanchor": "bottom",
          "yref": "paper"
         },
         {
          "font": {
           "size": 16
          },
          "showarrow": false,
          "text": "chr20",
          "x": 0.5,
          "xanchor": "center",
          "xref": "paper",
          "y": 0.082,
          "yanchor": "bottom",
          "yref": "paper"
         },
         {
          "font": {
           "size": 16
          },
          "showarrow": false,
          "text": "chr22",
          "x": 0.5,
          "xanchor": "center",
          "xref": "paper",
          "y": 0.031,
          "yanchor": "bottom",
          "yref": "paper"
         }
        ],
        "height": 2000,
        "hovermode": "closest",
        "showlegend": true,
        "template": {
         "data": {
          "bar": [
           {
            "error_x": {
             "color": "#2a3f5f"
            },
            "error_y": {
             "color": "#2a3f5f"
            },
            "marker": {
             "line": {
              "color": "#E5ECF6",
              "width": 0.5
             },
             "pattern": {
              "fillmode": "overlay",
              "size": 10,
              "solidity": 0.2
             }
            },
            "type": "bar"
           }
          ],
          "barpolar": [
           {
            "marker": {
             "line": {
              "color": "#E5ECF6",
              "width": 0.5
             },
             "pattern": {
              "fillmode": "overlay",
              "size": 10,
              "solidity": 0.2
             }
            },
            "type": "barpolar"
           }
          ],
          "carpet": [
           {
            "aaxis": {
             "endlinecolor": "#2a3f5f",
             "gridcolor": "white",
             "linecolor": "white",
             "minorgridcolor": "white",
             "startlinecolor": "#2a3f5f"
            },
            "baxis": {
             "endlinecolor": "#2a3f5f",
             "gridcolor": "white",
             "linecolor": "white",
             "minorgridcolor": "white",
             "startlinecolor": "#2a3f5f"
            },
            "type": "carpet"
           }
          ],
          "choropleth": [
           {
            "colorbar": {
             "outlinewidth": 0,
             "ticks": ""
            },
            "type": "choropleth"
           }
          ],
          "contour": [
           {
            "colorbar": {
             "outlinewidth": 0,
             "ticks": ""
            },
            "colorscale": [
             [
              0,
              "#0d0887"
             ],
             [
              0.1111111111111111,
              "#46039f"
             ],
             [
              0.2222222222222222,
              "#7201a8"
             ],
             [
              0.3333333333333333,
              "#9c179e"
             ],
             [
              0.4444444444444444,
              "#bd3786"
             ],
             [
              0.5555555555555556,
              "#d8576b"
             ],
             [
              0.6666666666666666,
              "#ed7953"
             ],
             [
              0.7777777777777778,
              "#fb9f3a"
             ],
             [
              0.8888888888888888,
              "#fdca26"
             ],
             [
              1,
              "#f0f921"
             ]
            ],
            "type": "contour"
           }
          ],
          "contourcarpet": [
           {
            "colorbar": {
             "outlinewidth": 0,
             "ticks": ""
            },
            "type": "contourcarpet"
           }
          ],
          "heatmap": [
           {
            "colorbar": {
             "outlinewidth": 0,
             "ticks": ""
            },
            "colorscale": [
             [
              0,
              "#0d0887"
             ],
             [
              0.1111111111111111,
              "#46039f"
             ],
             [
              0.2222222222222222,
              "#7201a8"
             ],
             [
              0.3333333333333333,
              "#9c179e"
             ],
             [
              0.4444444444444444,
              "#bd3786"
             ],
             [
              0.5555555555555556,
              "#d8576b"
             ],
             [
              0.6666666666666666,
              "#ed7953"
             ],
             [
              0.7777777777777778,
              "#fb9f3a"
             ],
             [
              0.8888888888888888,
              "#fdca26"
             ],
             [
              1,
              "#f0f921"
             ]
            ],
            "type": "heatmap"
           }
          ],
          "heatmapgl": [
           {
            "colorbar": {
             "outlinewidth": 0,
             "ticks": ""
            },
            "colorscale": [
             [
              0,
              "#0d0887"
             ],
             [
              0.1111111111111111,
              "#46039f"
             ],
             [
              0.2222222222222222,
              "#7201a8"
             ],
             [
              0.3333333333333333,
              "#9c179e"
             ],
             [
              0.4444444444444444,
              "#bd3786"
             ],
             [
              0.5555555555555556,
              "#d8576b"
             ],
             [
              0.6666666666666666,
              "#ed7953"
             ],
             [
              0.7777777777777778,
              "#fb9f3a"
             ],
             [
              0.8888888888888888,
              "#fdca26"
             ],
             [
              1,
              "#f0f921"
             ]
            ],
            "type": "heatmapgl"
           }
          ],
          "histogram": [
           {
            "marker": {
             "pattern": {
              "fillmode": "overlay",
              "size": 10,
              "solidity": 0.2
             }
            },
            "type": "histogram"
           }
          ],
          "histogram2d": [
           {
            "colorbar": {
             "outlinewidth": 0,
             "ticks": ""
            },
            "colorscale": [
             [
              0,
              "#0d0887"
             ],
             [
              0.1111111111111111,
              "#46039f"
             ],
             [
              0.2222222222222222,
              "#7201a8"
             ],
             [
              0.3333333333333333,
              "#9c179e"
             ],
             [
              0.4444444444444444,
              "#bd3786"
             ],
             [
              0.5555555555555556,
              "#d8576b"
             ],
             [
              0.6666666666666666,
              "#ed7953"
             ],
             [
              0.7777777777777778,
              "#fb9f3a"
             ],
             [
              0.8888888888888888,
              "#fdca26"
             ],
             [
              1,
              "#f0f921"
             ]
            ],
            "type": "histogram2d"
           }
          ],
          "histogram2dcontour": [
           {
            "colorbar": {
             "outlinewidth": 0,
             "ticks": ""
            },
            "colorscale": [
             [
              0,
              "#0d0887"
             ],
             [
              0.1111111111111111,
              "#46039f"
             ],
             [
              0.2222222222222222,
              "#7201a8"
             ],
             [
              0.3333333333333333,
              "#9c179e"
             ],
             [
              0.4444444444444444,
              "#bd3786"
             ],
             [
              0.5555555555555556,
              "#d8576b"
             ],
             [
              0.6666666666666666,
              "#ed7953"
             ],
             [
              0.7777777777777778,
              "#fb9f3a"
             ],
             [
              0.8888888888888888,
              "#fdca26"
             ],
             [
              1,
              "#f0f921"
             ]
            ],
            "type": "histogram2dcontour"
           }
          ],
          "mesh3d": [
           {
            "colorbar": {
             "outlinewidth": 0,
             "ticks": ""
            },
            "type": "mesh3d"
           }
          ],
          "parcoords": [
           {
            "line": {
             "colorbar": {
              "outlinewidth": 0,
              "ticks": ""
             }
            },
            "type": "parcoords"
           }
          ],
          "pie": [
           {
            "automargin": true,
            "type": "pie"
           }
          ],
          "scatter": [
           {
            "fillpattern": {
             "fillmode": "overlay",
             "size": 10,
             "solidity": 0.2
            },
            "type": "scatter"
           }
          ],
          "scatter3d": [
           {
            "line": {
             "colorbar": {
              "outlinewidth": 0,
              "ticks": ""
             }
            },
            "marker": {
             "colorbar": {
              "outlinewidth": 0,
              "ticks": ""
             }
            },
            "type": "scatter3d"
           }
          ],
          "scattercarpet": [
           {
            "marker": {
             "colorbar": {
              "outlinewidth": 0,
              "ticks": ""
             }
            },
            "type": "scattercarpet"
           }
          ],
          "scattergeo": [
           {
            "marker": {
             "colorbar": {
              "outlinewidth": 0,
              "ticks": ""
             }
            },
            "type": "scattergeo"
           }
          ],
          "scattergl": [
           {
            "marker": {
             "colorbar": {
              "outlinewidth": 0,
              "ticks": ""
             }
            },
            "type": "scattergl"
           }
          ],
          "scattermapbox": [
           {
            "marker": {
             "colorbar": {
              "outlinewidth": 0,
              "ticks": ""
             }
            },
            "type": "scattermapbox"
           }
          ],
          "scatterpolar": [
           {
            "marker": {
             "colorbar": {
              "outlinewidth": 0,
              "ticks": ""
             }
            },
            "type": "scatterpolar"
           }
          ],
          "scatterpolargl": [
           {
            "marker": {
             "colorbar": {
              "outlinewidth": 0,
              "ticks": ""
             }
            },
            "type": "scatterpolargl"
           }
          ],
          "scatterternary": [
           {
            "marker": {
             "colorbar": {
              "outlinewidth": 0,
              "ticks": ""
             }
            },
            "type": "scatterternary"
           }
          ],
          "surface": [
           {
            "colorbar": {
             "outlinewidth": 0,
             "ticks": ""
            },
            "colorscale": [
             [
              0,
              "#0d0887"
             ],
             [
              0.1111111111111111,
              "#46039f"
             ],
             [
              0.2222222222222222,
              "#7201a8"
             ],
             [
              0.3333333333333333,
              "#9c179e"
             ],
             [
              0.4444444444444444,
              "#bd3786"
             ],
             [
              0.5555555555555556,
              "#d8576b"
             ],
             [
              0.6666666666666666,
              "#ed7953"
             ],
             [
              0.7777777777777778,
              "#fb9f3a"
             ],
             [
              0.8888888888888888,
              "#fdca26"
             ],
             [
              1,
              "#f0f921"
             ]
            ],
            "type": "surface"
           }
          ],
          "table": [
           {
            "cells": {
             "fill": {
              "color": "#EBF0F8"
             },
             "line": {
              "color": "white"
             }
            },
            "header": {
             "fill": {
              "color": "#C8D4E3"
             },
             "line": {
              "color": "white"
             }
            },
            "type": "table"
           }
          ]
         },
         "layout": {
          "annotationdefaults": {
           "arrowcolor": "#2a3f5f",
           "arrowhead": 0,
           "arrowwidth": 1
          },
          "autotypenumbers": "strict",
          "coloraxis": {
           "colorbar": {
            "outlinewidth": 0,
            "ticks": ""
           }
          },
          "colorscale": {
           "diverging": [
            [
             0,
             "#8e0152"
            ],
            [
             0.1,
             "#c51b7d"
            ],
            [
             0.2,
             "#de77ae"
            ],
            [
             0.3,
             "#f1b6da"
            ],
            [
             0.4,
             "#fde0ef"
            ],
            [
             0.5,
             "#f7f7f7"
            ],
            [
             0.6,
             "#e6f5d0"
            ],
            [
             0.7,
             "#b8e186"
            ],
            [
             0.8,
             "#7fbc41"
            ],
            [
             0.9,
             "#4d9221"
            ],
            [
             1,
             "#276419"
            ]
           ],
           "sequential": [
            [
             0,
             "#0d0887"
            ],
            [
             0.1111111111111111,
             "#46039f"
            ],
            [
             0.2222222222222222,
             "#7201a8"
            ],
            [
             0.3333333333333333,
             "#9c179e"
            ],
            [
             0.4444444444444444,
             "#bd3786"
            ],
            [
             0.5555555555555556,
             "#d8576b"
            ],
            [
             0.6666666666666666,
             "#ed7953"
            ],
            [
             0.7777777777777778,
             "#fb9f3a"
            ],
            [
             0.8888888888888888,
             "#fdca26"
            ],
            [
             1,
             "#f0f921"
            ]
           ],
           "sequentialminus": [
            [
             0,
             "#0d0887"
            ],
            [
             0.1111111111111111,
             "#46039f"
            ],
            [
             0.2222222222222222,
             "#7201a8"
            ],
            [
             0.3333333333333333,
             "#9c179e"
            ],
            [
             0.4444444444444444,
             "#bd3786"
            ],
            [
             0.5555555555555556,
             "#d8576b"
            ],
            [
             0.6666666666666666,
             "#ed7953"
            ],
            [
             0.7777777777777778,
             "#fb9f3a"
            ],
            [
             0.8888888888888888,
             "#fdca26"
            ],
            [
             1,
             "#f0f921"
            ]
           ]
          },
          "colorway": [
           "#636efa",
           "#EF553B",
           "#00cc96",
           "#ab63fa",
           "#FFA15A",
           "#19d3f3",
           "#FF6692",
           "#B6E880",
           "#FF97FF",
           "#FECB52"
          ],
          "font": {
           "color": "#2a3f5f"
          },
          "geo": {
           "bgcolor": "white",
           "lakecolor": "white",
           "landcolor": "#E5ECF6",
           "showlakes": true,
           "showland": true,
           "subunitcolor": "white"
          },
          "hoverlabel": {
           "align": "left"
          },
          "hovermode": "closest",
          "mapbox": {
           "style": "light"
          },
          "paper_bgcolor": "white",
          "plot_bgcolor": "#E5ECF6",
          "polar": {
           "angularaxis": {
            "gridcolor": "white",
            "linecolor": "white",
            "ticks": ""
           },
           "bgcolor": "#E5ECF6",
           "radialaxis": {
            "gridcolor": "white",
            "linecolor": "white",
            "ticks": ""
           }
          },
          "scene": {
           "xaxis": {
            "backgroundcolor": "#E5ECF6",
            "gridcolor": "white",
            "gridwidth": 2,
            "linecolor": "white",
            "showbackground": true,
            "ticks": "",
            "zerolinecolor": "white"
           },
           "yaxis": {
            "backgroundcolor": "#E5ECF6",
            "gridcolor": "white",
            "gridwidth": 2,
            "linecolor": "white",
            "showbackground": true,
            "ticks": "",
            "zerolinecolor": "white"
           },
           "zaxis": {
            "backgroundcolor": "#E5ECF6",
            "gridcolor": "white",
            "gridwidth": 2,
            "linecolor": "white",
            "showbackground": true,
            "ticks": "",
            "zerolinecolor": "white"
           }
          },
          "shapedefaults": {
           "line": {
            "color": "#2a3f5f"
           }
          },
          "ternary": {
           "aaxis": {
            "gridcolor": "white",
            "linecolor": "white",
            "ticks": ""
           },
           "baxis": {
            "gridcolor": "white",
            "linecolor": "white",
            "ticks": ""
           },
           "bgcolor": "#E5ECF6",
           "caxis": {
            "gridcolor": "white",
            "linecolor": "white",
            "ticks": ""
           }
          },
          "title": {
           "x": 0.05
          },
          "xaxis": {
           "automargin": true,
           "gridcolor": "white",
           "linecolor": "white",
           "ticks": "",
           "title": {
            "standoff": 15
           },
           "zerolinecolor": "white",
           "zerolinewidth": 2
          },
          "yaxis": {
           "automargin": true,
           "gridcolor": "white",
           "linecolor": "white",
           "ticks": "",
           "title": {
            "standoff": 15
           },
           "zerolinecolor": "white",
           "zerolinewidth": 2
          }
         }
        },
        "title": {
         "text": "Gene Annotation Visualization of Clock1 Relevant CpGs"
        },
        "width": 1200,
        "xaxis": {
         "anchor": "y",
         "domain": [
          0,
          1
         ]
        },
        "xaxis10": {
         "anchor": "y10",
         "domain": [
          0,
          1
         ]
        },
        "xaxis11": {
         "anchor": "y11",
         "domain": [
          0,
          1
         ]
        },
        "xaxis12": {
         "anchor": "y12",
         "domain": [
          0,
          1
         ]
        },
        "xaxis13": {
         "anchor": "y13",
         "domain": [
          0,
          1
         ]
        },
        "xaxis14": {
         "anchor": "y14",
         "domain": [
          0,
          1
         ]
        },
        "xaxis15": {
         "anchor": "y15",
         "domain": [
          0,
          1
         ]
        },
        "xaxis16": {
         "anchor": "y16",
         "domain": [
          0,
          1
         ]
        },
        "xaxis17": {
         "anchor": "y17",
         "domain": [
          0,
          1
         ]
        },
        "xaxis18": {
         "anchor": "y18",
         "domain": [
          0,
          1
         ]
        },
        "xaxis19": {
         "anchor": "y19",
         "domain": [
          0,
          1
         ]
        },
        "xaxis2": {
         "anchor": "y2",
         "domain": [
          0,
          1
         ]
        },
        "xaxis20": {
         "anchor": "y20",
         "domain": [
          0,
          1
         ]
        },
        "xaxis3": {
         "anchor": "y3",
         "domain": [
          0,
          1
         ]
        },
        "xaxis4": {
         "anchor": "y4",
         "domain": [
          0,
          1
         ]
        },
        "xaxis5": {
         "anchor": "y5",
         "domain": [
          0,
          1
         ]
        },
        "xaxis6": {
         "anchor": "y6",
         "domain": [
          0,
          1
         ]
        },
        "xaxis7": {
         "anchor": "y7",
         "domain": [
          0,
          1
         ]
        },
        "xaxis8": {
         "anchor": "y8",
         "domain": [
          0,
          1
         ]
        },
        "xaxis9": {
         "anchor": "y9",
         "domain": [
          0,
          1
         ]
        },
        "yaxis": {
         "anchor": "x",
         "domain": [
          0.969,
          1
         ],
         "showgrid": false,
         "showticklabels": false
        },
        "yaxis10": {
         "anchor": "x10",
         "domain": [
          0.51,
          0.541
         ],
         "showgrid": false,
         "showticklabels": false
        },
        "yaxis11": {
         "anchor": "x11",
         "domain": [
          0.459,
          0.49
         ],
         "showgrid": false,
         "showticklabels": false
        },
        "yaxis12": {
         "anchor": "x12",
         "domain": [
          0.40800000000000003,
          0.43900000000000006
         ],
         "showgrid": false,
         "showticklabels": false
        },
        "yaxis13": {
         "anchor": "x13",
         "domain": [
          0.357,
          0.388
         ],
         "showgrid": false,
         "showticklabels": false
        },
        "yaxis14": {
         "anchor": "x14",
         "domain": [
          0.306,
          0.33699999999999997
         ],
         "showgrid": false,
         "showticklabels": false
        },
        "yaxis15": {
         "anchor": "x15",
         "domain": [
          0.255,
          0.28600000000000003
         ],
         "showgrid": false,
         "showticklabels": false
        },
        "yaxis16": {
         "anchor": "x16",
         "domain": [
          0.20400000000000001,
          0.23500000000000001
         ],
         "showgrid": false,
         "showticklabels": false
        },
        "yaxis17": {
         "anchor": "x17",
         "domain": [
          0.153,
          0.184
         ],
         "showgrid": false,
         "showticklabels": false
        },
        "yaxis18": {
         "anchor": "x18",
         "domain": [
          0.10200000000000001,
          0.133
         ],
         "showgrid": false,
         "showticklabels": false
        },
        "yaxis19": {
         "anchor": "x19",
         "domain": [
          0.051000000000000004,
          0.082
         ],
         "showgrid": false,
         "showticklabels": false
        },
        "yaxis2": {
         "anchor": "x2",
         "domain": [
          0.918,
          0.9490000000000001
         ],
         "showgrid": false,
         "showticklabels": false
        },
        "yaxis20": {
         "anchor": "x20",
         "domain": [
          0,
          0.031
         ],
         "showgrid": false,
         "showticklabels": false
        },
        "yaxis3": {
         "anchor": "x3",
         "domain": [
          0.867,
          0.898
         ],
         "showgrid": false,
         "showticklabels": false
        },
        "yaxis4": {
         "anchor": "x4",
         "domain": [
          0.8160000000000001,
          0.8470000000000001
         ],
         "showgrid": false,
         "showticklabels": false
        },
        "yaxis5": {
         "anchor": "x5",
         "domain": [
          0.7649999999999999,
          0.7959999999999999
         ],
         "showgrid": false,
         "showticklabels": false
        },
        "yaxis6": {
         "anchor": "x6",
         "domain": [
          0.714,
          0.745
         ],
         "showgrid": false,
         "showticklabels": false
        },
        "yaxis7": {
         "anchor": "x7",
         "domain": [
          0.663,
          0.6940000000000001
         ],
         "showgrid": false,
         "showticklabels": false
        },
        "yaxis8": {
         "anchor": "x8",
         "domain": [
          0.612,
          0.643
         ],
         "showgrid": false,
         "showticklabels": false
        },
        "yaxis9": {
         "anchor": "x9",
         "domain": [
          0.5609999999999999,
          0.592
         ],
         "showgrid": false,
         "showticklabels": false
        }
       }
      }
     },
     "metadata": {},
     "output_type": "display_data"
    },
    {
     "data": {
      "application/vnd.plotly.v1+json": {
       "config": {
        "plotlyServerURL": "https://plot.ly"
       },
       "data": [
        {
         "hoverinfo": "text",
         "hovertext": [
          "cg06333141<br>PPP2R5A<br>Exon<br>212329287.0",
          "cg23287176<br>CASZ1<br>Intron<br>10672330.0",
          "cg25139325<br>POU2F1<br>Intron<br>167222453.0",
          "cg06392591<br>PBX1<br>Intron<br>164651460.0",
          "cg15343536<br>NFIA<br>Intron<br>61152215.0",
          "cg08402704<br>LINC01763<br>Exon<br>90851824.0",
          "cg09360996<br>PROX1<br>Exon<br>213996654.0",
          "cg10501210<br>MIR29B2CHG<br>Intron<br>207823675.0",
          "cg22673296<br>PLXNA2<br>Exon<br>208268218.0",
          "cg22903204<br>CASZ1<br>Intron<br>10672589.0",
          "cg10559644<br>NFASC<br>Exon<br>204968962.0",
          "cg09809672<br>EDARADD<br>fiveUTR<br>236394382.0",
          "cg10045881<br>CHI3L2<br>fiveUTR<br>111227669.0",
          "cg23405931<br>CDC7<br>Exon<br>91513975.0",
          "cg16599143<br>FMO3<br>Promoter<br>171089531.0",
          "cg02551294<br>LINC01739<br>Intron<br>62999399.0",
          "cg27228973<br>FOXO6-AS1<br>Intergenic_upstream<br>41404380.0",
          "cg21102477<br>CSMD2<br>fiveUTR<br>34165243.0",
          "cg00258262<br>LINC02609<br>Exon<br>90828767.0",
          "cg03521797<br>PHC2<br>Exon<br>33368611.0",
          "cg16717607<br>PHC2<br>Exon<br>33368598.0",
          "cg17818266<br>AMPD1<br>Exon<br>114688723.0",
          "cg01550545<br>NFIA<br>Intron<br>61447809.0",
          "cg15991909<br>ZBTB8A<br>Intron<br>32539339.0",
          "cg16853731<br>POU3F1<br>threeUTR<br>38044783.0",
          "cg02456804<br>FAM78B<br>Exon<br>166070621.0",
          "cg19291010<br>BCL9<br>Exon<br>147612914.0",
          "cg14565725<br>TBX15<br>fiveUTR<br>118989421.0",
          "cg01328716<br>RNF19B<br>Exon<br>32938452.0",
          "cg17504468<br>SDCCAG8<br>Exon<br>243476144.0",
          "cg00098422<br>WDR26<br>threeUTR<br>224389815.0",
          "cg18481180<br>HIPK1<br>Intron<br>113963552.0",
          "cg06655463<br>USH2A<br>Intron<br>216041211.0",
          "cg23088328<br>PRRX1<br>Promoter<br>170661790.0"
         ],
         "marker": {
          "color": [
           "#414487",
           "#440154",
           "#440154",
           "#440154",
           "#440154",
           "#414487",
           "#414487",
           "#440154",
           "#414487",
           "#440154",
           "#414487",
           "#7ad151",
           "#7ad151",
           "#414487",
           "#355f8d",
           "#440154",
           "#fde725",
           "#7ad151",
           "#414487",
           "#414487",
           "#414487",
           "#414487",
           "#440154",
           "#440154",
           "#21918c",
           "#414487",
           "#414487",
           "#7ad151",
           "#414487",
           "#414487",
           "#21918c",
           "#440154",
           "#440154",
           "#355f8d"
          ],
          "line": {
           "color": "black",
           "width": 0.5
          },
          "size": 10,
          "symbol": "square"
         },
         "mode": "markers+text",
         "showlegend": false,
         "text": [
          "PPP2R5A",
          "CASZ1",
          "POU2F1",
          "PBX1",
          "NFIA",
          "LINC01763",
          "PROX1",
          "MIR29B2CHG",
          "PLXNA2",
          "CASZ1",
          "NFASC",
          "EDARADD",
          "CHI3L2",
          "CDC7",
          "FMO3",
          "LINC01739",
          "FOXO6-AS1",
          "CSMD2",
          "LINC02609",
          "PHC2",
          "PHC2",
          "AMPD1",
          "NFIA",
          "ZBTB8A",
          "POU3F1",
          "FAM78B",
          "BCL9",
          "TBX15",
          "RNF19B",
          "SDCCAG8",
          "WDR26",
          "HIPK1",
          "USH2A",
          "PRRX1"
         ],
         "textfont": {
          "color": "black",
          "size": 10
         },
         "textposition": "top center",
         "type": "scatter",
         "x": [
          212329287,
          10672330,
          167222453,
          164651460,
          61152215,
          90851824,
          213996654,
          207823675,
          208268218,
          10672589,
          204968962,
          236394382,
          111227669,
          91513975,
          171089531,
          62999399,
          41404380,
          34165243,
          90828767,
          33368611,
          33368598,
          114688723,
          61447809,
          32539339,
          38044783,
          166070621,
          147612914,
          118989421,
          32938452,
          243476144,
          224389815,
          113963552,
          216041211,
          170661790
         ],
         "xaxis": "x",
         "y": [
          1,
          1,
          1,
          1,
          1,
          1,
          1,
          1,
          1,
          1,
          1,
          1,
          1,
          1,
          1,
          1,
          1,
          1,
          1,
          1,
          1,
          1,
          1,
          1,
          1,
          1,
          1,
          1,
          1,
          1,
          1,
          1,
          1,
          1
         ],
         "yaxis": "y"
        },
        {
         "hoverinfo": "text",
         "hovertext": [
          "cg08454381<br>PAX8-AS1<br>Exon<br>113244601.0",
          "cg22943590<br>MEIS1<br>Intergenic_upstream<br>66421665.0",
          "cg14361875<br>LINC01812<br>Intergenic_upstream<br>67846376.0",
          "cg16437032<br>PKP4<br>threeUTR<br>158577295.0",
          "cg17251355<br>LINC01793<br>Exon<br>59278032.0",
          "cg11235379<br>TBR1<br>Exon<br>161417813.0",
          "cg03957108<br>OTX1<br>Promoter<br>63049410.0",
          "cg14297772<br>EN1<br>fiveUTR<br>118847634.0",
          "cg22454769<br>FHL2<br>fiveUTR<br>105399310.0",
          "cg15237969<br>PSMD14<br>Intron<br>161356198.0",
          "cg19561061<br>LRPPRC<br>Intergenic_upstream<br>44033862.0",
          "cg17905888<br>LINC01876<br>Intergenic_downstream<br>155727368.0",
          "cg01998606<br>ZEB2<br>fiveUTR<br>144403976.0"
         ],
         "marker": {
          "color": [
           "#414487",
           "#fde725",
           "#fde725",
           "#21918c",
           "#414487",
           "#414487",
           "#355f8d",
           "#7ad151",
           "#7ad151",
           "#440154",
           "#fde725",
           "#44bf70",
           "#7ad151"
          ],
          "line": {
           "color": "black",
           "width": 0.5
          },
          "size": 10,
          "symbol": "square"
         },
         "mode": "markers+text",
         "showlegend": false,
         "text": [
          "PAX8-AS1",
          "MEIS1",
          "LINC01812",
          "PKP4",
          "LINC01793",
          "TBR1",
          "OTX1",
          "EN1",
          "FHL2",
          "PSMD14",
          "LRPPRC",
          "LINC01876",
          "ZEB2"
         ],
         "textfont": {
          "color": "black",
          "size": 10
         },
         "textposition": "top center",
         "type": "scatter",
         "x": [
          113244601,
          66421665,
          67846376,
          158577295,
          59278032,
          161417813,
          63049410,
          118847634,
          105399310,
          161356198,
          44033862,
          155727368,
          144403976
         ],
         "xaxis": "x2",
         "y": [
          2,
          2,
          2,
          2,
          2,
          2,
          2,
          2,
          2,
          2,
          2,
          2,
          2
         ],
         "yaxis": "y2"
        },
        {
         "hoverinfo": "text",
         "hovertext": [
          "cg08438614<br>SOX14<br>Intergenic_upstream<br>137606468.0",
          "cg27291552<br>ZBTB47<br>Exon<br>42659736.0",
          "cg01337143<br>SEMA5B<br>Exon<br>122926542.0",
          "cg17819031<br>SEMA5B<br>Exon<br>122926485.0",
          "cg19931377<br>ZBTB20<br>Intron<br>114616166.0",
          "cg15030317<br>RSRC1<br>Intron<br>158234032.0",
          "cg02692845<br>SOX2-OT<br>Exon<br>181712998.0",
          "cg12841266<br>LHFPL4<br>Exon<br>9552409.0",
          "cg05911522<br>LOC440982<br>fiveUTR<br>147406611.0",
          "cg06156376<br>RSRC1<br>fiveUTR<br>158106025.0",
          "cg05261703<br>SETD5<br>threeUTR<br>9434050.0",
          "cg00106940<br>SOX2-OT<br>Exon<br>181712691.0",
          "cg17356452<br>ZBTB38<br>Exon<br>141387078.0",
          "cg12722365<br>LINC02032<br>Promoter<br>148075939.0",
          "cg10246778<br>MECOM<br>Intron<br>169574481.0"
         ],
         "marker": {
          "color": [
           "#fde725",
           "#414487",
           "#414487",
           "#414487",
           "#440154",
           "#440154",
           "#414487",
           "#414487",
           "#7ad151",
           "#7ad151",
           "#21918c",
           "#414487",
           "#414487",
           "#355f8d",
           "#440154"
          ],
          "line": {
           "color": "black",
           "width": 0.5
          },
          "size": 10,
          "symbol": "square"
         },
         "mode": "markers+text",
         "showlegend": false,
         "text": [
          "SOX14",
          "ZBTB47",
          "SEMA5B",
          "SEMA5B",
          "ZBTB20",
          "RSRC1",
          "SOX2-OT",
          "LHFPL4",
          "LOC440982",
          "RSRC1",
          "SETD5",
          "SOX2-OT",
          "ZBTB38",
          "LINC02032",
          "MECOM"
         ],
         "textfont": {
          "color": "black",
          "size": 10
         },
         "textposition": "top center",
         "type": "scatter",
         "x": [
          137606468,
          42659736,
          122926542,
          122926485,
          114616166,
          158234032,
          181712998,
          9552409,
          147406611,
          158106025,
          9434050,
          181712691,
          141387078,
          148075939,
          169574481
         ],
         "xaxis": "x3",
         "y": [
          3,
          3,
          3,
          3,
          3,
          3,
          3,
          3,
          3,
          3,
          3,
          3,
          3,
          3,
          3
         ],
         "yaxis": "y3"
        },
        {
         "hoverinfo": "text",
         "hovertext": [
          "cg05584618<br>UNC5C<br>Intron<br>95505316.0",
          "cg14656600<br>MAML3<br>Intron<br>140151379.0",
          "cg02783173<br>NEUROG2-AS1<br>Intron<br>112521614.0"
         ],
         "marker": {
          "color": [
           "#440154",
           "#440154",
           "#440154"
          ],
          "line": {
           "color": "black",
           "width": 0.5
          },
          "size": 10,
          "symbol": "square"
         },
         "mode": "markers+text",
         "showlegend": false,
         "text": [
          "UNC5C",
          "MAML3",
          "NEUROG2-AS1"
         ],
         "textfont": {
          "color": "black",
          "size": 10
         },
         "textposition": "top center",
         "type": "scatter",
         "x": [
          95505316,
          140151379,
          112521614
         ],
         "xaxis": "x4",
         "y": [
          4,
          4,
          4
         ],
         "yaxis": "y4"
        },
        {
         "hoverinfo": "text",
         "hovertext": [
          "cg18304538<br>TBCA<br>Intron<br>77852294.0",
          "cg18814344<br>CXXC5<br>Intron<br>139660961.0",
          "cg20432508<br>SREK1<br>threeUTR<br>66162474.0",
          "cg14551953<br>TBCA<br>Intron<br>77847750.0",
          "cg20334331<br>TBCA<br>Intron<br>77847708.0",
          "cg15828158<br>SNX2<br>threeUTR<br>122816986.0",
          "cg15426572<br>FGF18<br>Intron<br>171421174.0",
          "cg18223258<br>ISL1<br>Intergenic_downstream<br>51399170.0",
          "cg08030321<br>NR2F1-AS1<br>Intergenic_downstream<br>93191253.0",
          "cg06482098<br>CTNND2<br>Exon<br>11384925.0",
          "cg23573900<br>CXXC5<br>Intron<br>139677209.0"
         ],
         "marker": {
          "color": [
           "#440154",
           "#440154",
           "#21918c",
           "#440154",
           "#440154",
           "#21918c",
           "#440154",
           "#44bf70",
           "#44bf70",
           "#414487",
           "#440154"
          ],
          "line": {
           "color": "black",
           "width": 0.5
          },
          "size": 10,
          "symbol": "square"
         },
         "mode": "markers+text",
         "showlegend": false,
         "text": [
          "TBCA",
          "CXXC5",
          "SREK1",
          "TBCA",
          "TBCA",
          "SNX2",
          "FGF18",
          "ISL1",
          "NR2F1-AS1",
          "CTNND2",
          "CXXC5"
         ],
         "textfont": {
          "color": "black",
          "size": 10
         },
         "textposition": "top center",
         "type": "scatter",
         "x": [
          77852294,
          139660961,
          66162474,
          77847750,
          77847708,
          122816986,
          171421174,
          51399170,
          93191253,
          11384925,
          139677209
         ],
         "xaxis": "x5",
         "y": [
          5,
          5,
          5,
          5,
          5,
          5,
          5,
          5,
          5,
          5,
          5
         ],
         "yaxis": "y5"
        },
        {
         "hoverinfo": "text",
         "hovertext": [
          "cg05844937<br>FOXC1<br>Intergenic_downstream<br>1613906.0",
          "cg06472065<br>SYNGAP1<br>Exon<br>33426669.0",
          "cg20212950<br>QKI<br>threeUTR<br>163566741.0",
          "cg17266282<br>LINC02527<br>Intergenic_upstream<br>111973329.0",
          "cg09817427<br>TBX18<br>fiveUTR<br>84764595.0",
          "cg00689383<br>GRM1<br>Exon<br>146399362.0",
          "cg16867657<br>ELOVL2-AS1<br>Exon<br>11044644.0",
          "cg19361075<br>ZFAND3<br>Intron<br>38119581.0",
          "cg18093751<br>NR2E1<br>Promoter<br>108165979.0",
          "cg21703944<br>SCUBE3<br>Intron<br>35243580.0",
          "cg10893516<br>PTCHD4<br>Exon<br>48068585.0",
          "cg22040809<br>HCG11<br>Exon<br>26522350.0",
          "cg13160087<br>POU3F2<br>Intergenic_upstream<br>98455100.0"
         ],
         "marker": {
          "color": [
           "#44bf70",
           "#414487",
           "#21918c",
           "#fde725",
           "#7ad151",
           "#414487",
           "#414487",
           "#440154",
           "#355f8d",
           "#440154",
           "#414487",
           "#414487",
           "#fde725"
          ],
          "line": {
           "color": "black",
           "width": 0.5
          },
          "size": 10,
          "symbol": "square"
         },
         "mode": "markers+text",
         "showlegend": false,
         "text": [
          "FOXC1",
          "SYNGAP1",
          "QKI",
          "LINC02527",
          "TBX18",
          "GRM1",
          "ELOVL2-AS1",
          "ZFAND3",
          "NR2E1",
          "SCUBE3",
          "PTCHD4",
          "HCG11",
          "POU3F2"
         ],
         "textfont": {
          "color": "black",
          "size": 10
         },
         "textposition": "top center",
         "type": "scatter",
         "x": [
          1613906,
          33426669,
          163566741,
          111973329,
          84764595,
          146399362,
          11044644,
          38119581,
          108165979,
          35243580,
          48068585,
          26522350,
          98455100
         ],
         "xaxis": "x6",
         "y": [
          6,
          6,
          6,
          6,
          6,
          6,
          6,
          6,
          6,
          6,
          6,
          6,
          6
         ],
         "yaxis": "y6"
        },
        {
         "hoverinfo": "text",
         "hovertext": [
          "cg12981876<br>GIGYF1<br>Exon<br>100682172.0",
          "cg14548925<br>ATXN7L1<br>Exon<br>105876510.0",
          "cg01019040<br>LHFPL3<br>Exon<br>104328968.0",
          "cg20705693<br>MIR148A<br>Promoter<br>25951193.0",
          "cg12307242<br>CADPS2<br>Intron<br>122328825.0",
          "cg03820088<br>TRA2A<br>fiveUTR<br>23522229.0",
          "cg05861987<br>CADPS2<br>Intron<br>122329496.0",
          "cg15171944<br>MIR148A<br>Exon<br>25949963.0",
          "cg09474015<br>HOXA10-HOXA9<br>Exon<br>27165104.0",
          "cg00096922<br>DLX5<br>fiveUTR<br>97024873.0",
          "cg07293320<br>UNCX<br>Intergenic_downstream<br>1237655.0",
          "cg14361627<br>KLF14<br>Promoter<br>130734307.0",
          "cg00250826<br>CALU<br>Exon<br>128754670.0",
          "cg11438204<br>CALU<br>Exon<br>128754286.0"
         ],
         "marker": {
          "color": [
           "#414487",
           "#414487",
           "#414487",
           "#355f8d",
           "#440154",
           "#7ad151",
           "#440154",
           "#414487",
           "#414487",
           "#7ad151",
           "#44bf70",
           "#355f8d",
           "#414487",
           "#414487"
          ],
          "line": {
           "color": "black",
           "width": 0.5
          },
          "size": 10,
          "symbol": "square"
         },
         "mode": "markers+text",
         "showlegend": false,
         "text": [
          "GIGYF1",
          "ATXN7L1",
          "LHFPL3",
          "MIR148A",
          "CADPS2",
          "TRA2A",
          "CADPS2",
          "MIR148A",
          "HOXA10-HOXA9",
          "DLX5",
          "UNCX",
          "KLF14",
          "CALU",
          "CALU"
         ],
         "textfont": {
          "color": "black",
          "size": 10
         },
         "textposition": "top center",
         "type": "scatter",
         "x": [
          100682172,
          105876510,
          104328968,
          25951193,
          122328825,
          23522229,
          122329496,
          25949963,
          27165104,
          97024873,
          1237655,
          130734307,
          128754670,
          128754286
         ],
         "xaxis": "x7",
         "y": [
          7,
          7,
          7,
          7,
          7,
          7,
          7,
          7,
          7,
          7,
          7,
          7,
          7,
          7
         ],
         "yaxis": "y7"
        },
        {
         "hoverinfo": "text",
         "hovertext": [
          "cg06250511<br>NSMCE2<br>Intron<br>125219571.0",
          "cg08321639<br>TRPS1<br>fiveUTR<br>115668975.0",
          "cg06878766<br>PLAG1<br>Promoter<br>56210721.0",
          "cg16296826<br>ADGRB1<br>Promoter<br>142449388.0",
          "cg18635807<br>EYA1<br>Exon<br>71354785.0",
          "cg12815291<br>ZC3H3<br>Intron<br>143439468.0",
          "cg18168101<br>BAALC-AS2<br>Promoter<br>103141399.0"
         ],
         "marker": {
          "color": [
           "#440154",
           "#7ad151",
           "#355f8d",
           "#355f8d",
           "#414487",
           "#440154",
           "#355f8d"
          ],
          "line": {
           "color": "black",
           "width": 0.5
          },
          "size": 10,
          "symbol": "square"
         },
         "mode": "markers+text",
         "showlegend": false,
         "text": [
          "NSMCE2",
          "TRPS1",
          "PLAG1",
          "ADGRB1",
          "EYA1",
          "ZC3H3",
          "BAALC-AS2"
         ],
         "textfont": {
          "color": "black",
          "size": 10
         },
         "textposition": "top center",
         "type": "scatter",
         "x": [
          125219571,
          115668975,
          56210721,
          142449388,
          71354785,
          143439468,
          103141399
         ],
         "xaxis": "x8",
         "y": [
          8,
          8,
          8,
          8,
          8,
          8,
          8
         ],
         "yaxis": "y8"
        },
        {
         "hoverinfo": "text",
         "hovertext": [
          "cg26275174<br>SMARCA2<br>Exon<br>2159835.0",
          "cg25229850<br>CNTLN<br>Exon<br>17332620.0",
          "cg09377007<br>MLLT3<br>Intron<br>20603560.0",
          "cg27547112<br>HNRNPK<br>Intron<br>83973650.0",
          "cg10186512<br>MAPKAP1<br>Intron<br>125546052.0",
          "cg26581729<br>NPDC1<br>Promoter<br>137045340.0",
          "cg09191327<br>PRDM12<br>Exon<br>130664721.0",
          "cg22661680<br>LINC01505<br>Intron<br>106638018.0",
          "cg17604804<br>PTCH1<br>Intron<br>95460145.0",
          "cg25651791<br>NR6A1<br>Intron<br>124769837.0",
          "cg24557436<br>TLE1<br>Exon<br>81687376.0"
         ],
         "marker": {
          "color": [
           "#414487",
           "#414487",
           "#440154",
           "#440154",
           "#440154",
           "#355f8d",
           "#414487",
           "#440154",
           "#440154",
           "#440154",
           "#414487"
          ],
          "line": {
           "color": "black",
           "width": 0.5
          },
          "size": 10,
          "symbol": "square"
         },
         "mode": "markers+text",
         "showlegend": false,
         "text": [
          "SMARCA2",
          "CNTLN",
          "MLLT3",
          "HNRNPK",
          "MAPKAP1",
          "NPDC1",
          "PRDM12",
          "LINC01505",
          "PTCH1",
          "NR6A1",
          "TLE1"
         ],
         "textfont": {
          "color": "black",
          "size": 10
         },
         "textposition": "top center",
         "type": "scatter",
         "x": [
          2159835,
          17332620,
          20603560,
          83973650,
          125546052,
          137045340,
          130664721,
          106638018,
          95460145,
          124769837,
          81687376
         ],
         "xaxis": "x9",
         "y": [
          9,
          9,
          9,
          9,
          9,
          9,
          9,
          9,
          9,
          9,
          9
         ],
         "yaxis": "y9"
        },
        {
         "hoverinfo": "text",
         "hovertext": [
          "cg25824158<br>CAMK2G<br>Exon<br>73839578.0",
          "cg04706544<br>DRGX<br>Promoter<br>49396706.0",
          "cg26102159<br>CAMK2G<br>Exon<br>73839584.0",
          "cg21509426<br>RHOBTB1<br>Exon<br>60892897.0",
          "cg26594414<br>SH3PXD2A<br>Exon<br>103622472.0",
          "cg17357006<br>VTI1A<br>Exon<br>112538434.0",
          "cg06721611<br>BTRC<br>Intron<br>101507443.0",
          "cg25368206<br>LRMDA<br>Intron<br>75703821.0",
          "cg13935834<br>EBF3<br>Intron<br>129849719.0",
          "cg11488183<br>PRKG1<br>Intron<br>51397876.0",
          "cg02360445<br>MIR1915HG<br>Intergenic_upstream<br>21509328.0"
         ],
         "marker": {
          "color": [
           "#414487",
           "#355f8d",
           "#414487",
           "#414487",
           "#414487",
           "#414487",
           "#440154",
           "#440154",
           "#440154",
           "#440154",
           "#fde725"
          ],
          "line": {
           "color": "black",
           "width": 0.5
          },
          "size": 10,
          "symbol": "square"
         },
         "mode": "markers+text",
         "showlegend": false,
         "text": [
          "CAMK2G",
          "DRGX",
          "CAMK2G",
          "RHOBTB1",
          "SH3PXD2A",
          "VTI1A",
          "BTRC",
          "LRMDA",
          "EBF3",
          "PRKG1",
          "MIR1915HG"
         ],
         "textfont": {
          "color": "black",
          "size": 10
         },
         "textposition": "top center",
         "type": "scatter",
         "x": [
          73839578,
          49396706,
          73839584,
          60892897,
          103622472,
          112538434,
          101507443,
          75703821,
          129849719,
          51397876,
          21509328
         ],
         "xaxis": "x10",
         "y": [
          10,
          10,
          10,
          10,
          10,
          10,
          10,
          10,
          10,
          10,
          10
         ],
         "yaxis": "y10"
        },
        {
         "hoverinfo": "text",
         "hovertext": [
          "cg27300575<br>YAP1<br>Exon<br>102209523.0",
          "cg20483513<br>LOC100130987<br>Exon<br>67365224.0",
          "cg24653269<br>BCL9L<br>Intron<br>118916022.0",
          "cg02968236<br>TENM4<br>Intron<br>78786107.0",
          "cg25184118<br>NRXN2<br>Exon<br>64690444.0",
          "cg14498322<br>SORL1<br>Intergenic_downstream<br>121656306.0",
          "cg10739250<br>MPPED2<br>Intron<br>30535950.0"
         ],
         "marker": {
          "color": [
           "#414487",
           "#414487",
           "#440154",
           "#440154",
           "#414487",
           "#44bf70",
           "#440154"
          ],
          "line": {
           "color": "black",
           "width": 0.5
          },
          "size": 10,
          "symbol": "square"
         },
         "mode": "markers+text",
         "showlegend": false,
         "text": [
          "YAP1",
          "LOC100130987",
          "BCL9L",
          "TENM4",
          "NRXN2",
          "SORL1",
          "MPPED2"
         ],
         "textfont": {
          "color": "black",
          "size": 10
         },
         "textposition": "top center",
         "type": "scatter",
         "x": [
          102209523,
          67365224,
          118916022,
          78786107,
          64690444,
          121656306,
          30535950
         ],
         "xaxis": "x11",
         "y": [
          11,
          11,
          11,
          11,
          11,
          11,
          11
         ],
         "yaxis": "y11"
        },
        {
         "hoverinfo": "text",
         "hovertext": [
          "cg09008979<br>SP7<br>Intron<br>53336382.0",
          "cg14903956<br>GRIN2B<br>Exon<br>13562916.0",
          "cg05537515<br>MBD6<br>Exon<br>57529196.0",
          "cg05916870<br>CHD4<br>Promoter<br>6613214.0",
          "cg17116410<br>HOXC4<br>Exon<br>54037896.0",
          "cg18094982<br>SLCO1C1<br>fiveUTR<br>20695438.0",
          "cg26781330<br>ATF7<br>fiveUTR<br>53600991.0",
          "cg16756969<br>LINC01234<br>Intron<br>113649565.0",
          "cg04204168<br>ATF7IP<br>Intergenic_upstream<br>14257734.0",
          "cg16278638<br>FAM222A<br>Intron<br>109718594.0",
          "cg13935553<br>BHLHE41<br>threeUTR<br>26120667.0",
          "cg24551749<br>ATP5MC2<br>Promoter<br>53677516.0",
          "cg08563010<br>SOX5<br>Intron<br>23921603.0",
          "cg14381350<br>STX2<br>Intron<br>130826483.0"
         ],
         "marker": {
          "color": [
           "#440154",
           "#414487",
           "#414487",
           "#355f8d",
           "#414487",
           "#7ad151",
           "#7ad151",
           "#440154",
           "#fde725",
           "#440154",
           "#21918c",
           "#355f8d",
           "#440154",
           "#440154"
          ],
          "line": {
           "color": "black",
           "width": 0.5
          },
          "size": 10,
          "symbol": "square"
         },
         "mode": "markers+text",
         "showlegend": false,
         "text": [
          "SP7",
          "GRIN2B",
          "MBD6",
          "CHD4",
          "HOXC4",
          "SLCO1C1",
          "ATF7",
          "LINC01234",
          "ATF7IP",
          "FAM222A",
          "BHLHE41",
          "ATP5MC2",
          "SOX5",
          "STX2"
         ],
         "textfont": {
          "color": "black",
          "size": 10
         },
         "textposition": "top center",
         "type": "scatter",
         "x": [
          53336382,
          13562916,
          57529196,
          6613214,
          54037896,
          20695438,
          53600991,
          113649565,
          14257734,
          109718594,
          26120667,
          53677516,
          23921603,
          130826483
         ],
         "xaxis": "x12",
         "y": [
          12,
          12,
          12,
          12,
          12,
          12,
          12,
          12,
          12,
          12,
          12,
          12,
          12,
          12
         ],
         "yaxis": "y12"
        },
        {
         "hoverinfo": "text",
         "hovertext": [
          "cg18894136<br>LINC00676<br>Intron<br>109667928.0",
          "cg24393114<br>FAM216B<br>Intergenic_upstream<br>42720528.0",
          "cg25639084<br>TNFRSF19<br>Intergenic_upstream<br>23559374.0",
          "cg09646392<br>TNFSF13B<br>Promoter<br>108268704.0",
          "cg00593462<br>COL4A1<br>Intron<br>110116146.0",
          "cg12973326<br>PCDH17<br>Exon<br>57632930.0",
          "cg01409964<br>LINC00331<br>Intergenic_upstream<br>78998527.0"
         ],
         "marker": {
          "color": [
           "#440154",
           "#fde725",
           "#fde725",
           "#355f8d",
           "#440154",
           "#414487",
           "#fde725"
          ],
          "line": {
           "color": "black",
           "width": 0.5
          },
          "size": 10,
          "symbol": "square"
         },
         "mode": "markers+text",
         "showlegend": false,
         "text": [
          "LINC00676",
          "FAM216B",
          "TNFRSF19",
          "TNFSF13B",
          "COL4A1",
          "PCDH17",
          "LINC00331"
         ],
         "textfont": {
          "color": "black",
          "size": 10
         },
         "textposition": "top center",
         "type": "scatter",
         "x": [
          109667928,
          42720528,
          23559374,
          108268704,
          110116146,
          57632930,
          78998527
         ],
         "xaxis": "x13",
         "y": [
          13,
          13,
          13,
          13,
          13,
          13,
          13
         ],
         "yaxis": "y13"
        },
        {
         "hoverinfo": "text",
         "hovertext": [
          "cg26957053<br>NPAS3<br>Exon<br>33800281.0",
          "cg20100200<br>PPP2R5E<br>threeUTR<br>63375966.0",
          "cg02864622<br>TRIP11<br>Intron<br>91983784.0",
          "cg05136138<br>NRXN3<br>Exon<br>79853592.0",
          "cg26476447<br>IFT43<br>Intron<br>76075669.0",
          "cg09750164<br>NPAS3<br>Exon<br>33800872.0",
          "cg06790494<br>ACIN1<br>threeUTR<br>23068647.0",
          "cg25184464<br>NPAS3<br>Intron<br>32941510.0",
          "cg15408728<br>DICER1<br>Intergenic_downstream<br>95008596.0",
          "cg07299823<br>UNC79<br>fiveUTR<br>93430776.0",
          "cg10211907<br>UNC79<br>fiveUTR<br>93430756.0",
          "cg21126148<br>ARF6<br>Exon<br>49894096.0",
          "cg12449245<br>DPF3<br>Exon<br>72619953.0",
          "cg27291660<br>PRMT5<br>Exon<br>22928580.0",
          "cg17458251<br>ACIN1<br>threeUTR<br>23068651.0",
          "cg22588813<br>PNN<br>Exon<br>39176528.0"
         ],
         "marker": {
          "color": [
           "#414487",
           "#21918c",
           "#440154",
           "#414487",
           "#440154",
           "#414487",
           "#21918c",
           "#440154",
           "#44bf70",
           "#7ad151",
           "#7ad151",
           "#414487",
           "#414487",
           "#414487",
           "#21918c",
           "#414487"
          ],
          "line": {
           "color": "black",
           "width": 0.5
          },
          "size": 10,
          "symbol": "square"
         },
         "mode": "markers+text",
         "showlegend": false,
         "text": [
          "NPAS3",
          "PPP2R5E",
          "TRIP11",
          "NRXN3",
          "IFT43",
          "NPAS3",
          "ACIN1",
          "NPAS3",
          "DICER1",
          "UNC79",
          "UNC79",
          "ARF6",
          "DPF3",
          "PRMT5",
          "ACIN1",
          "PNN"
         ],
         "textfont": {
          "color": "black",
          "size": 10
         },
         "textposition": "top center",
         "type": "scatter",
         "x": [
          33800281,
          63375966,
          91983784,
          79853592,
          76075669,
          33800872,
          23068647,
          32941510,
          95008596,
          93430776,
          93430756,
          49894096,
          72619953,
          22928580,
          23068651,
          39176528
         ],
         "xaxis": "x14",
         "y": [
          14,
          14,
          14,
          14,
          14,
          14,
          14,
          14,
          14,
          14,
          14,
          14,
          14,
          14,
          14,
          14
         ],
         "yaxis": "y14"
        },
        {
         "hoverinfo": "text",
         "hovertext": [
          "cg26869371<br>FAM227B<br>fiveUTR<br>49424281.0",
          "cg25771548<br>OAZ2<br>threeUTR<br>64688789.0",
          "cg03668418<br>C15orf41<br>Intergenic_upstream<br>36357037.0",
          "cg07564343<br>RORA<br>Intron<br>61227291.0",
          "cg14056866<br>POLG<br>Exon<br>89335140.0",
          "cg19296119<br>INSYN1-AS1<br>Intergenic_downstream<br>73774908.0"
         ],
         "marker": {
          "color": [
           "#7ad151",
           "#21918c",
           "#fde725",
           "#440154",
           "#414487",
           "#44bf70"
          ],
          "line": {
           "color": "black",
           "width": 0.5
          },
          "size": 10,
          "symbol": "square"
         },
         "mode": "markers+text",
         "showlegend": false,
         "text": [
          "FAM227B",
          "OAZ2",
          "C15orf41",
          "RORA",
          "POLG",
          "INSYN1-AS1"
         ],
         "textfont": {
          "color": "black",
          "size": 10
         },
         "textposition": "top center",
         "type": "scatter",
         "x": [
          49424281,
          64688789,
          36357037,
          61227291,
          89335140,
          73774908
         ],
         "xaxis": "x15",
         "y": [
          15,
          15,
          15,
          15,
          15,
          15
         ],
         "yaxis": "y15"
        },
        {
         "hoverinfo": "text",
         "hovertext": [
          "cg13379618<br>PRKCB<br>Exon<br>24123922.0",
          "cg06779064<br>TNRC6A<br>threeUTR<br>24818649.0",
          "cg06736685<br>GSE1<br>Intron<br>85555743.0",
          "cg03247467<br>CASC22<br>Intergenic_downstream<br>52351779.0",
          "cg03898602<br>JPH3<br>Exon<br>87603438.0",
          "cg17776554<br>ZFHX3<br>Intron<br>73048252.0",
          "cg16118197<br>MRPL28<br>Intergenic_downstream<br>361668.0"
         ],
         "marker": {
          "color": [
           "#414487",
           "#21918c",
           "#440154",
           "#44bf70",
           "#414487",
           "#440154",
           "#44bf70"
          ],
          "line": {
           "color": "black",
           "width": 0.5
          },
          "size": 10,
          "symbol": "square"
         },
         "mode": "markers+text",
         "showlegend": false,
         "text": [
          "PRKCB",
          "TNRC6A",
          "GSE1",
          "CASC22",
          "JPH3",
          "ZFHX3",
          "MRPL28"
         ],
         "textfont": {
          "color": "black",
          "size": 10
         },
         "textposition": "top center",
         "type": "scatter",
         "x": [
          24123922,
          24818649,
          85555743,
          52351779,
          87603438,
          73048252,
          361668
         ],
         "xaxis": "x16",
         "y": [
          16,
          16,
          16,
          16,
          16,
          16,
          16
         ],
         "yaxis": "y16"
        },
        {
         "hoverinfo": "text",
         "hovertext": [
          "cg20867091<br>MRM1<br>Intergenic_downstream<br>36721897.0",
          "cg08666298<br>DDX5<br>Exon<br>64501369.0",
          "cg26032884<br>HIC1<br>Exon<br>2058657.0",
          "cg07005811<br>PHF12<br>Exon<br>28912612.0",
          "cg12501063<br>TANC2<br>Exon<br>63412706.0",
          "cg05793328<br>FAM222B<br>fiveUTR<br>28759747.0",
          "cg10183248<br>UBTF<br>Exon<br>44218223.0",
          "cg12933950<br>RTN4RL1<br>Intron<br>1996667.0",
          "cg24975211<br>THRA<br>threeUTR<br>40093013.0",
          "cg10381180<br>THRA<br>threeUTR<br>40092513.0",
          "cg24924928<br>NUFIP2<br>Exon<br>29286101.0",
          "cg00871371<br>SEPTIN9<br>Exon<br>77375394.0",
          "cg09313705<br>HOXB-AS1<br>Exon<br>48545129.0",
          "cg02909927<br>RAI1<br>Intron<br>17784078.0",
          "cg00362836<br>LINC00670<br>Intergenic_upstream<br>12473058.0",
          "cg16848873<br>HOXB6<br>fiveUTR<br>48604946.0",
          "cg27637521<br>SOCS3<br>fiveUTR<br>78359121.0",
          "cg12642246<br>CDK5RAP3<br>Intron<br>47982387.0",
          "cg04267101<br>EPN3<br>threeUTR<br>50541676.0",
          "cg22144210<br>MSI2<br>threeUTR<br>57679579.0",
          "cg12564910<br>SOCS3<br>Exon<br>78358987.0"
         ],
         "marker": {
          "color": [
           "#44bf70",
           "#414487",
           "#414487",
           "#414487",
           "#414487",
           "#7ad151",
           "#414487",
           "#440154",
           "#21918c",
           "#21918c",
           "#414487",
           "#414487",
           "#414487",
           "#440154",
           "#fde725",
           "#7ad151",
           "#7ad151",
           "#440154",
           "#21918c",
           "#21918c",
           "#414487"
          ],
          "line": {
           "color": "black",
           "width": 0.5
          },
          "size": 10,
          "symbol": "square"
         },
         "mode": "markers+text",
         "showlegend": false,
         "text": [
          "MRM1",
          "DDX5",
          "HIC1",
          "PHF12",
          "TANC2",
          "FAM222B",
          "UBTF",
          "RTN4RL1",
          "THRA",
          "THRA",
          "NUFIP2",
          "SEPTIN9",
          "HOXB-AS1",
          "RAI1",
          "LINC00670",
          "HOXB6",
          "SOCS3",
          "CDK5RAP3",
          "EPN3",
          "MSI2",
          "SOCS3"
         ],
         "textfont": {
          "color": "black",
          "size": 10
         },
         "textposition": "top center",
         "type": "scatter",
         "x": [
          36721897,
          64501369,
          2058657,
          28912612,
          63412706,
          28759747,
          44218223,
          1996667,
          40093013,
          40092513,
          29286101,
          77375394,
          48545129,
          17784078,
          12473058,
          48604946,
          78359121,
          47982387,
          50541676,
          57679579,
          78358987
         ],
         "xaxis": "x17",
         "y": [
          17,
          17,
          17,
          17,
          17,
          17,
          17,
          17,
          17,
          17,
          17,
          17,
          17,
          17,
          17,
          17,
          17,
          17,
          17,
          17,
          17
         ],
         "yaxis": "y17"
        },
        {
         "hoverinfo": "text",
         "hovertext": [
          "cg21602520<br>BCL2<br>Exon<br>63318147.0",
          "cg25410683<br>SMAD7<br>Exon<br>48921744.0",
          "cg17769560<br>NOL4<br>Exon<br>34223154.0",
          "cg20025209<br>RELCH<br>Exon<br>62264820.0"
         ],
         "marker": {
          "color": [
           "#414487",
           "#414487",
           "#414487",
           "#414487"
          ],
          "line": {
           "color": "black",
           "width": 0.5
          },
          "size": 10,
          "symbol": "square"
         },
         "mode": "markers+text",
         "showlegend": false,
         "text": [
          "BCL2",
          "SMAD7",
          "NOL4",
          "RELCH"
         ],
         "textfont": {
          "color": "black",
          "size": 10
         },
         "textposition": "top center",
         "type": "scatter",
         "x": [
          63318147,
          48921744,
          34223154,
          62264820
         ],
         "xaxis": "x18",
         "y": [
          18,
          18,
          18,
          18
         ],
         "yaxis": "y18"
        },
        {
         "hoverinfo": "text",
         "hovertext": [
          "cg18024395<br>SNRNP70<br>threeUTR<br>49102146.0",
          "cg23344477<br>LOC100505585<br>Exon<br>41928629.0",
          "cg21089733<br>ZNF536<br>Intron<br>30686844.0",
          "cg12289045<br>SYT3<br>Intron<br>50638104.0",
          "cg01631669<br>TSHZ3<br>Intron<br>31346540.0"
         ],
         "marker": {
          "color": [
           "#21918c",
           "#414487",
           "#440154",
           "#440154",
           "#440154"
          ],
          "line": {
           "color": "black",
           "width": 0.5
          },
          "size": 10,
          "symbol": "square"
         },
         "mode": "markers+text",
         "showlegend": false,
         "text": [
          "SNRNP70",
          "LOC100505585",
          "ZNF536",
          "SYT3",
          "TSHZ3"
         ],
         "textfont": {
          "color": "black",
          "size": 10
         },
         "textposition": "top center",
         "type": "scatter",
         "x": [
          49102146,
          41928629,
          30686844,
          50638104,
          31346540
         ],
         "xaxis": "x19",
         "y": [
          19,
          19,
          19,
          19,
          19
         ],
         "yaxis": "y19"
        },
        {
         "hoverinfo": "text",
         "hovertext": [
          "cg07547549<br>SLC12A5<br>Intron<br>46029586.0",
          "cg15471501<br>LINC00237<br>Intron<br>21103492.0",
          "cg12761282<br>TGM3<br>Intron<br>2295925.0",
          "cg05704605<br>ZMYND8<br>Exon<br>47238916.0",
          "cg17318138<br>SCRT2<br>Promoter<br>676643.0",
          "cg14172937<br>SLC12A5<br>fiveUTR<br>46029210.0",
          "cg14762358<br>VSTM2L<br>Intron<br>37905847.0"
         ],
         "marker": {
          "color": [
           "#440154",
           "#440154",
           "#440154",
           "#414487",
           "#355f8d",
           "#7ad151",
           "#440154"
          ],
          "line": {
           "color": "black",
           "width": 0.5
          },
          "size": 10,
          "symbol": "square"
         },
         "mode": "markers+text",
         "showlegend": false,
         "text": [
          "SLC12A5",
          "LINC00237",
          "TGM3",
          "ZMYND8",
          "SCRT2",
          "SLC12A5",
          "VSTM2L"
         ],
         "textfont": {
          "color": "black",
          "size": 10
         },
         "textposition": "top center",
         "type": "scatter",
         "x": [
          46029586,
          21103492,
          2295925,
          47238916,
          676643,
          46029210,
          37905847
         ],
         "xaxis": "x20",
         "y": [
          20,
          20,
          20,
          20,
          20,
          20,
          20
         ],
         "yaxis": "y20"
        },
        {
         "hoverinfo": "text",
         "hovertext": [
          "cg10644072<br>DSCAM<br>Exon<br>40846625.0",
          "cg16095149<br>DSCAM<br>Exon<br>40846623.0"
         ],
         "marker": {
          "color": [
           "#414487",
           "#414487"
          ],
          "line": {
           "color": "black",
           "width": 0.5
          },
          "size": 10,
          "symbol": "square"
         },
         "mode": "markers+text",
         "showlegend": false,
         "text": [
          "DSCAM",
          "DSCAM"
         ],
         "textfont": {
          "color": "black",
          "size": 10
         },
         "textposition": "top center",
         "type": "scatter",
         "x": [
          40846625,
          40846623
         ],
         "xaxis": "x21",
         "y": [
          21,
          21
         ],
         "yaxis": "y21"
        },
        {
         "hoverinfo": "text",
         "hovertext": [
          "cg24597392<br>RBFOX2<br>Exon<br>35768289.0",
          "cg07423797<br>SCUBE1<br>Exon<br>43262719.0",
          "cg15746205<br>EWSR1<br>Exon<br>29290369.0",
          "cg00984060<br>CACNA1I<br>Intron<br>39685515.0",
          "cg05172686<br>CABP7<br>Exon<br>29729506.0",
          "cg01594275<br>EP300<br>Intron<br>41160539.0"
         ],
         "marker": {
          "color": [
           "#414487",
           "#414487",
           "#414487",
           "#440154",
           "#414487",
           "#440154"
          ],
          "line": {
           "color": "black",
           "width": 0.5
          },
          "size": 10,
          "symbol": "square"
         },
         "mode": "markers+text",
         "showlegend": false,
         "text": [
          "RBFOX2",
          "SCUBE1",
          "EWSR1",
          "CACNA1I",
          "CABP7",
          "EP300"
         ],
         "textfont": {
          "color": "black",
          "size": 10
         },
         "textposition": "top center",
         "type": "scatter",
         "x": [
          35768289,
          43262719,
          29290369,
          39685515,
          29729506,
          41160539
         ],
         "xaxis": "x22",
         "y": [
          22,
          22,
          22,
          22,
          22,
          22
         ],
         "yaxis": "y22"
        },
        {
         "hoverinfo": "text",
         "hovertext": [
          "cg26989456<br>GPR101<br>Intergenic_upstream<br>137237781.0"
         ],
         "marker": {
          "color": [
           "#fde725"
          ],
          "line": {
           "color": "black",
           "width": 0.5
          },
          "size": 10,
          "symbol": "square"
         },
         "mode": "markers+text",
         "showlegend": false,
         "text": [
          "GPR101"
         ],
         "textfont": {
          "color": "black",
          "size": 10
         },
         "textposition": "top center",
         "type": "scatter",
         "x": [
          137237781
         ],
         "xaxis": "x23",
         "y": [
          23
         ],
         "yaxis": "y23"
        },
        {
         "legendgroup": "Intron",
         "marker": {
          "color": "#440154",
          "size": 10,
          "symbol": "square"
         },
         "mode": "markers",
         "name": "Intron",
         "showlegend": true,
         "type": "scatter",
         "x": [
          null
         ],
         "y": [
          null
         ]
        },
        {
         "legendgroup": "Exon",
         "marker": {
          "color": "#414487",
          "size": 10,
          "symbol": "square"
         },
         "mode": "markers",
         "name": "Exon",
         "showlegend": true,
         "type": "scatter",
         "x": [
          null
         ],
         "y": [
          null
         ]
        },
        {
         "legendgroup": "Promoter",
         "marker": {
          "color": "#355f8d",
          "size": 10,
          "symbol": "square"
         },
         "mode": "markers",
         "name": "Promoter",
         "showlegend": true,
         "type": "scatter",
         "x": [
          null
         ],
         "y": [
          null
         ]
        },
        {
         "legendgroup": "threeUTR",
         "marker": {
          "color": "#21918c",
          "size": 10,
          "symbol": "square"
         },
         "mode": "markers",
         "name": "threeUTR",
         "showlegend": true,
         "type": "scatter",
         "x": [
          null
         ],
         "y": [
          null
         ]
        },
        {
         "legendgroup": "Intergenic_downstream",
         "marker": {
          "color": "#44bf70",
          "size": 10,
          "symbol": "square"
         },
         "mode": "markers",
         "name": "Intergenic_downstream",
         "showlegend": true,
         "type": "scatter",
         "x": [
          null
         ],
         "y": [
          null
         ]
        },
        {
         "legendgroup": "fiveUTR",
         "marker": {
          "color": "#7ad151",
          "size": 10,
          "symbol": "square"
         },
         "mode": "markers",
         "name": "fiveUTR",
         "showlegend": true,
         "type": "scatter",
         "x": [
          null
         ],
         "y": [
          null
         ]
        },
        {
         "legendgroup": "Intergenic_upstream",
         "marker": {
          "color": "#fde725",
          "size": 10,
          "symbol": "square"
         },
         "mode": "markers",
         "name": "Intergenic_upstream",
         "showlegend": true,
         "type": "scatter",
         "x": [
          null
         ],
         "y": [
          null
         ]
        }
       ],
       "layout": {
        "annotations": [
         {
          "font": {
           "size": 16
          },
          "showarrow": false,
          "text": "chr1",
          "x": 0.5,
          "xanchor": "center",
          "xref": "paper",
          "y": 1,
          "yanchor": "bottom",
          "yref": "paper"
         },
         {
          "font": {
           "size": 16
          },
          "showarrow": false,
          "text": "chr2",
          "x": 0.5,
          "xanchor": "center",
          "xref": "paper",
          "y": 0.9556521739130435,
          "yanchor": "bottom",
          "yref": "paper"
         },
         {
          "font": {
           "size": 16
          },
          "showarrow": false,
          "text": "chr3",
          "x": 0.5,
          "xanchor": "center",
          "xref": "paper",
          "y": 0.911304347826087,
          "yanchor": "bottom",
          "yref": "paper"
         },
         {
          "font": {
           "size": 16
          },
          "showarrow": false,
          "text": "chr4",
          "x": 0.5,
          "xanchor": "center",
          "xref": "paper",
          "y": 0.8669565217391305,
          "yanchor": "bottom",
          "yref": "paper"
         },
         {
          "font": {
           "size": 16
          },
          "showarrow": false,
          "text": "chr5",
          "x": 0.5,
          "xanchor": "center",
          "xref": "paper",
          "y": 0.8226086956521739,
          "yanchor": "bottom",
          "yref": "paper"
         },
         {
          "font": {
           "size": 16
          },
          "showarrow": false,
          "text": "chr6",
          "x": 0.5,
          "xanchor": "center",
          "xref": "paper",
          "y": 0.7782608695652175,
          "yanchor": "bottom",
          "yref": "paper"
         },
         {
          "font": {
           "size": 16
          },
          "showarrow": false,
          "text": "chr7",
          "x": 0.5,
          "xanchor": "center",
          "xref": "paper",
          "y": 0.7339130434782609,
          "yanchor": "bottom",
          "yref": "paper"
         },
         {
          "font": {
           "size": 16
          },
          "showarrow": false,
          "text": "chr8",
          "x": 0.5,
          "xanchor": "center",
          "xref": "paper",
          "y": 0.6895652173913044,
          "yanchor": "bottom",
          "yref": "paper"
         },
         {
          "font": {
           "size": 16
          },
          "showarrow": false,
          "text": "chr9",
          "x": 0.5,
          "xanchor": "center",
          "xref": "paper",
          "y": 0.645217391304348,
          "yanchor": "bottom",
          "yref": "paper"
         },
         {
          "font": {
           "size": 16
          },
          "showarrow": false,
          "text": "chr10",
          "x": 0.5,
          "xanchor": "center",
          "xref": "paper",
          "y": 0.6008695652173913,
          "yanchor": "bottom",
          "yref": "paper"
         },
         {
          "font": {
           "size": 16
          },
          "showarrow": false,
          "text": "chr11",
          "x": 0.5,
          "xanchor": "center",
          "xref": "paper",
          "y": 0.5565217391304348,
          "yanchor": "bottom",
          "yref": "paper"
         },
         {
          "font": {
           "size": 16
          },
          "showarrow": false,
          "text": "chr12",
          "x": 0.5,
          "xanchor": "center",
          "xref": "paper",
          "y": 0.5121739130434783,
          "yanchor": "bottom",
          "yref": "paper"
         },
         {
          "font": {
           "size": 16
          },
          "showarrow": false,
          "text": "chr13",
          "x": 0.5,
          "xanchor": "center",
          "xref": "paper",
          "y": 0.4678260869565218,
          "yanchor": "bottom",
          "yref": "paper"
         },
         {
          "font": {
           "size": 16
          },
          "showarrow": false,
          "text": "chr14",
          "x": 0.5,
          "xanchor": "center",
          "xref": "paper",
          "y": 0.4234782608695652,
          "yanchor": "bottom",
          "yref": "paper"
         },
         {
          "font": {
           "size": 16
          },
          "showarrow": false,
          "text": "chr15",
          "x": 0.5,
          "xanchor": "center",
          "xref": "paper",
          "y": 0.3791304347826087,
          "yanchor": "bottom",
          "yref": "paper"
         },
         {
          "font": {
           "size": 16
          },
          "showarrow": false,
          "text": "chr16",
          "x": 0.5,
          "xanchor": "center",
          "xref": "paper",
          "y": 0.33478260869565224,
          "yanchor": "bottom",
          "yref": "paper"
         },
         {
          "font": {
           "size": 16
          },
          "showarrow": false,
          "text": "chr17",
          "x": 0.5,
          "xanchor": "center",
          "xref": "paper",
          "y": 0.29043478260869565,
          "yanchor": "bottom",
          "yref": "paper"
         },
         {
          "font": {
           "size": 16
          },
          "showarrow": false,
          "text": "chr18",
          "x": 0.5,
          "xanchor": "center",
          "xref": "paper",
          "y": 0.24608695652173915,
          "yanchor": "bottom",
          "yref": "paper"
         },
         {
          "font": {
           "size": 16
          },
          "showarrow": false,
          "text": "chr19",
          "x": 0.5,
          "xanchor": "center",
          "xref": "paper",
          "y": 0.20173913043478262,
          "yanchor": "bottom",
          "yref": "paper"
         },
         {
          "font": {
           "size": 16
          },
          "showarrow": false,
          "text": "chr20",
          "x": 0.5,
          "xanchor": "center",
          "xref": "paper",
          "y": 0.15739130434782608,
          "yanchor": "bottom",
          "yref": "paper"
         },
         {
          "font": {
           "size": 16
          },
          "showarrow": false,
          "text": "chr21",
          "x": 0.5,
          "xanchor": "center",
          "xref": "paper",
          "y": 0.11304347826086958,
          "yanchor": "bottom",
          "yref": "paper"
         },
         {
          "font": {
           "size": 16
          },
          "showarrow": false,
          "text": "chr22",
          "x": 0.5,
          "xanchor": "center",
          "xref": "paper",
          "y": 0.06869565217391305,
          "yanchor": "bottom",
          "yref": "paper"
         },
         {
          "font": {
           "size": 16
          },
          "showarrow": false,
          "text": "chrX",
          "x": 0.5,
          "xanchor": "center",
          "xref": "paper",
          "y": 0.024347826086956525,
          "yanchor": "bottom",
          "yref": "paper"
         }
        ],
        "height": 2300,
        "hovermode": "closest",
        "showlegend": true,
        "template": {
         "data": {
          "bar": [
           {
            "error_x": {
             "color": "#2a3f5f"
            },
            "error_y": {
             "color": "#2a3f5f"
            },
            "marker": {
             "line": {
              "color": "#E5ECF6",
              "width": 0.5
             },
             "pattern": {
              "fillmode": "overlay",
              "size": 10,
              "solidity": 0.2
             }
            },
            "type": "bar"
           }
          ],
          "barpolar": [
           {
            "marker": {
             "line": {
              "color": "#E5ECF6",
              "width": 0.5
             },
             "pattern": {
              "fillmode": "overlay",
              "size": 10,
              "solidity": 0.2
             }
            },
            "type": "barpolar"
           }
          ],
          "carpet": [
           {
            "aaxis": {
             "endlinecolor": "#2a3f5f",
             "gridcolor": "white",
             "linecolor": "white",
             "minorgridcolor": "white",
             "startlinecolor": "#2a3f5f"
            },
            "baxis": {
             "endlinecolor": "#2a3f5f",
             "gridcolor": "white",
             "linecolor": "white",
             "minorgridcolor": "white",
             "startlinecolor": "#2a3f5f"
            },
            "type": "carpet"
           }
          ],
          "choropleth": [
           {
            "colorbar": {
             "outlinewidth": 0,
             "ticks": ""
            },
            "type": "choropleth"
           }
          ],
          "contour": [
           {
            "colorbar": {
             "outlinewidth": 0,
             "ticks": ""
            },
            "colorscale": [
             [
              0,
              "#0d0887"
             ],
             [
              0.1111111111111111,
              "#46039f"
             ],
             [
              0.2222222222222222,
              "#7201a8"
             ],
             [
              0.3333333333333333,
              "#9c179e"
             ],
             [
              0.4444444444444444,
              "#bd3786"
             ],
             [
              0.5555555555555556,
              "#d8576b"
             ],
             [
              0.6666666666666666,
              "#ed7953"
             ],
             [
              0.7777777777777778,
              "#fb9f3a"
             ],
             [
              0.8888888888888888,
              "#fdca26"
             ],
             [
              1,
              "#f0f921"
             ]
            ],
            "type": "contour"
           }
          ],
          "contourcarpet": [
           {
            "colorbar": {
             "outlinewidth": 0,
             "ticks": ""
            },
            "type": "contourcarpet"
           }
          ],
          "heatmap": [
           {
            "colorbar": {
             "outlinewidth": 0,
             "ticks": ""
            },
            "colorscale": [
             [
              0,
              "#0d0887"
             ],
             [
              0.1111111111111111,
              "#46039f"
             ],
             [
              0.2222222222222222,
              "#7201a8"
             ],
             [
              0.3333333333333333,
              "#9c179e"
             ],
             [
              0.4444444444444444,
              "#bd3786"
             ],
             [
              0.5555555555555556,
              "#d8576b"
             ],
             [
              0.6666666666666666,
              "#ed7953"
             ],
             [
              0.7777777777777778,
              "#fb9f3a"
             ],
             [
              0.8888888888888888,
              "#fdca26"
             ],
             [
              1,
              "#f0f921"
             ]
            ],
            "type": "heatmap"
           }
          ],
          "heatmapgl": [
           {
            "colorbar": {
             "outlinewidth": 0,
             "ticks": ""
            },
            "colorscale": [
             [
              0,
              "#0d0887"
             ],
             [
              0.1111111111111111,
              "#46039f"
             ],
             [
              0.2222222222222222,
              "#7201a8"
             ],
             [
              0.3333333333333333,
              "#9c179e"
             ],
             [
              0.4444444444444444,
              "#bd3786"
             ],
             [
              0.5555555555555556,
              "#d8576b"
             ],
             [
              0.6666666666666666,
              "#ed7953"
             ],
             [
              0.7777777777777778,
              "#fb9f3a"
             ],
             [
              0.8888888888888888,
              "#fdca26"
             ],
             [
              1,
              "#f0f921"
             ]
            ],
            "type": "heatmapgl"
           }
          ],
          "histogram": [
           {
            "marker": {
             "pattern": {
              "fillmode": "overlay",
              "size": 10,
              "solidity": 0.2
             }
            },
            "type": "histogram"
           }
          ],
          "histogram2d": [
           {
            "colorbar": {
             "outlinewidth": 0,
             "ticks": ""
            },
            "colorscale": [
             [
              0,
              "#0d0887"
             ],
             [
              0.1111111111111111,
              "#46039f"
             ],
             [
              0.2222222222222222,
              "#7201a8"
             ],
             [
              0.3333333333333333,
              "#9c179e"
             ],
             [
              0.4444444444444444,
              "#bd3786"
             ],
             [
              0.5555555555555556,
              "#d8576b"
             ],
             [
              0.6666666666666666,
              "#ed7953"
             ],
             [
              0.7777777777777778,
              "#fb9f3a"
             ],
             [
              0.8888888888888888,
              "#fdca26"
             ],
             [
              1,
              "#f0f921"
             ]
            ],
            "type": "histogram2d"
           }
          ],
          "histogram2dcontour": [
           {
            "colorbar": {
             "outlinewidth": 0,
             "ticks": ""
            },
            "colorscale": [
             [
              0,
              "#0d0887"
             ],
             [
              0.1111111111111111,
              "#46039f"
             ],
             [
              0.2222222222222222,
              "#7201a8"
             ],
             [
              0.3333333333333333,
              "#9c179e"
             ],
             [
              0.4444444444444444,
              "#bd3786"
             ],
             [
              0.5555555555555556,
              "#d8576b"
             ],
             [
              0.6666666666666666,
              "#ed7953"
             ],
             [
              0.7777777777777778,
              "#fb9f3a"
             ],
             [
              0.8888888888888888,
              "#fdca26"
             ],
             [
              1,
              "#f0f921"
             ]
            ],
            "type": "histogram2dcontour"
           }
          ],
          "mesh3d": [
           {
            "colorbar": {
             "outlinewidth": 0,
             "ticks": ""
            },
            "type": "mesh3d"
           }
          ],
          "parcoords": [
           {
            "line": {
             "colorbar": {
              "outlinewidth": 0,
              "ticks": ""
             }
            },
            "type": "parcoords"
           }
          ],
          "pie": [
           {
            "automargin": true,
            "type": "pie"
           }
          ],
          "scatter": [
           {
            "fillpattern": {
             "fillmode": "overlay",
             "size": 10,
             "solidity": 0.2
            },
            "type": "scatter"
           }
          ],
          "scatter3d": [
           {
            "line": {
             "colorbar": {
              "outlinewidth": 0,
              "ticks": ""
             }
            },
            "marker": {
             "colorbar": {
              "outlinewidth": 0,
              "ticks": ""
             }
            },
            "type": "scatter3d"
           }
          ],
          "scattercarpet": [
           {
            "marker": {
             "colorbar": {
              "outlinewidth": 0,
              "ticks": ""
             }
            },
            "type": "scattercarpet"
           }
          ],
          "scattergeo": [
           {
            "marker": {
             "colorbar": {
              "outlinewidth": 0,
              "ticks": ""
             }
            },
            "type": "scattergeo"
           }
          ],
          "scattergl": [
           {
            "marker": {
             "colorbar": {
              "outlinewidth": 0,
              "ticks": ""
             }
            },
            "type": "scattergl"
           }
          ],
          "scattermapbox": [
           {
            "marker": {
             "colorbar": {
              "outlinewidth": 0,
              "ticks": ""
             }
            },
            "type": "scattermapbox"
           }
          ],
          "scatterpolar": [
           {
            "marker": {
             "colorbar": {
              "outlinewidth": 0,
              "ticks": ""
             }
            },
            "type": "scatterpolar"
           }
          ],
          "scatterpolargl": [
           {
            "marker": {
             "colorbar": {
              "outlinewidth": 0,
              "ticks": ""
             }
            },
            "type": "scatterpolargl"
           }
          ],
          "scatterternary": [
           {
            "marker": {
             "colorbar": {
              "outlinewidth": 0,
              "ticks": ""
             }
            },
            "type": "scatterternary"
           }
          ],
          "surface": [
           {
            "colorbar": {
             "outlinewidth": 0,
             "ticks": ""
            },
            "colorscale": [
             [
              0,
              "#0d0887"
             ],
             [
              0.1111111111111111,
              "#46039f"
             ],
             [
              0.2222222222222222,
              "#7201a8"
             ],
             [
              0.3333333333333333,
              "#9c179e"
             ],
             [
              0.4444444444444444,
              "#bd3786"
             ],
             [
              0.5555555555555556,
              "#d8576b"
             ],
             [
              0.6666666666666666,
              "#ed7953"
             ],
             [
              0.7777777777777778,
              "#fb9f3a"
             ],
             [
              0.8888888888888888,
              "#fdca26"
             ],
             [
              1,
              "#f0f921"
             ]
            ],
            "type": "surface"
           }
          ],
          "table": [
           {
            "cells": {
             "fill": {
              "color": "#EBF0F8"
             },
             "line": {
              "color": "white"
             }
            },
            "header": {
             "fill": {
              "color": "#C8D4E3"
             },
             "line": {
              "color": "white"
             }
            },
            "type": "table"
           }
          ]
         },
         "layout": {
          "annotationdefaults": {
           "arrowcolor": "#2a3f5f",
           "arrowhead": 0,
           "arrowwidth": 1
          },
          "autotypenumbers": "strict",
          "coloraxis": {
           "colorbar": {
            "outlinewidth": 0,
            "ticks": ""
           }
          },
          "colorscale": {
           "diverging": [
            [
             0,
             "#8e0152"
            ],
            [
             0.1,
             "#c51b7d"
            ],
            [
             0.2,
             "#de77ae"
            ],
            [
             0.3,
             "#f1b6da"
            ],
            [
             0.4,
             "#fde0ef"
            ],
            [
             0.5,
             "#f7f7f7"
            ],
            [
             0.6,
             "#e6f5d0"
            ],
            [
             0.7,
             "#b8e186"
            ],
            [
             0.8,
             "#7fbc41"
            ],
            [
             0.9,
             "#4d9221"
            ],
            [
             1,
             "#276419"
            ]
           ],
           "sequential": [
            [
             0,
             "#0d0887"
            ],
            [
             0.1111111111111111,
             "#46039f"
            ],
            [
             0.2222222222222222,
             "#7201a8"
            ],
            [
             0.3333333333333333,
             "#9c179e"
            ],
            [
             0.4444444444444444,
             "#bd3786"
            ],
            [
             0.5555555555555556,
             "#d8576b"
            ],
            [
             0.6666666666666666,
             "#ed7953"
            ],
            [
             0.7777777777777778,
             "#fb9f3a"
            ],
            [
             0.8888888888888888,
             "#fdca26"
            ],
            [
             1,
             "#f0f921"
            ]
           ],
           "sequentialminus": [
            [
             0,
             "#0d0887"
            ],
            [
             0.1111111111111111,
             "#46039f"
            ],
            [
             0.2222222222222222,
             "#7201a8"
            ],
            [
             0.3333333333333333,
             "#9c179e"
            ],
            [
             0.4444444444444444,
             "#bd3786"
            ],
            [
             0.5555555555555556,
             "#d8576b"
            ],
            [
             0.6666666666666666,
             "#ed7953"
            ],
            [
             0.7777777777777778,
             "#fb9f3a"
            ],
            [
             0.8888888888888888,
             "#fdca26"
            ],
            [
             1,
             "#f0f921"
            ]
           ]
          },
          "colorway": [
           "#636efa",
           "#EF553B",
           "#00cc96",
           "#ab63fa",
           "#FFA15A",
           "#19d3f3",
           "#FF6692",
           "#B6E880",
           "#FF97FF",
           "#FECB52"
          ],
          "font": {
           "color": "#2a3f5f"
          },
          "geo": {
           "bgcolor": "white",
           "lakecolor": "white",
           "landcolor": "#E5ECF6",
           "showlakes": true,
           "showland": true,
           "subunitcolor": "white"
          },
          "hoverlabel": {
           "align": "left"
          },
          "hovermode": "closest",
          "mapbox": {
           "style": "light"
          },
          "paper_bgcolor": "white",
          "plot_bgcolor": "#E5ECF6",
          "polar": {
           "angularaxis": {
            "gridcolor": "white",
            "linecolor": "white",
            "ticks": ""
           },
           "bgcolor": "#E5ECF6",
           "radialaxis": {
            "gridcolor": "white",
            "linecolor": "white",
            "ticks": ""
           }
          },
          "scene": {
           "xaxis": {
            "backgroundcolor": "#E5ECF6",
            "gridcolor": "white",
            "gridwidth": 2,
            "linecolor": "white",
            "showbackground": true,
            "ticks": "",
            "zerolinecolor": "white"
           },
           "yaxis": {
            "backgroundcolor": "#E5ECF6",
            "gridcolor": "white",
            "gridwidth": 2,
            "linecolor": "white",
            "showbackground": true,
            "ticks": "",
            "zerolinecolor": "white"
           },
           "zaxis": {
            "backgroundcolor": "#E5ECF6",
            "gridcolor": "white",
            "gridwidth": 2,
            "linecolor": "white",
            "showbackground": true,
            "ticks": "",
            "zerolinecolor": "white"
           }
          },
          "shapedefaults": {
           "line": {
            "color": "#2a3f5f"
           }
          },
          "ternary": {
           "aaxis": {
            "gridcolor": "white",
            "linecolor": "white",
            "ticks": ""
           },
           "baxis": {
            "gridcolor": "white",
            "linecolor": "white",
            "ticks": ""
           },
           "bgcolor": "#E5ECF6",
           "caxis": {
            "gridcolor": "white",
            "linecolor": "white",
            "ticks": ""
           }
          },
          "title": {
           "x": 0.05
          },
          "xaxis": {
           "automargin": true,
           "gridcolor": "white",
           "linecolor": "white",
           "ticks": "",
           "title": {
            "standoff": 15
           },
           "zerolinecolor": "white",
           "zerolinewidth": 2
          },
          "yaxis": {
           "automargin": true,
           "gridcolor": "white",
           "linecolor": "white",
           "ticks": "",
           "title": {
            "standoff": 15
           },
           "zerolinecolor": "white",
           "zerolinewidth": 2
          }
         }
        },
        "title": {
         "text": "Gene Annotation Visualization of Clock2 Relevant CpGs"
        },
        "width": 1200,
        "xaxis": {
         "anchor": "y",
         "domain": [
          0,
          1
         ]
        },
        "xaxis10": {
         "anchor": "y10",
         "domain": [
          0,
          1
         ]
        },
        "xaxis11": {
         "anchor": "y11",
         "domain": [
          0,
          1
         ]
        },
        "xaxis12": {
         "anchor": "y12",
         "domain": [
          0,
          1
         ]
        },
        "xaxis13": {
         "anchor": "y13",
         "domain": [
          0,
          1
         ]
        },
        "xaxis14": {
         "anchor": "y14",
         "domain": [
          0,
          1
         ]
        },
        "xaxis15": {
         "anchor": "y15",
         "domain": [
          0,
          1
         ]
        },
        "xaxis16": {
         "anchor": "y16",
         "domain": [
          0,
          1
         ]
        },
        "xaxis17": {
         "anchor": "y17",
         "domain": [
          0,
          1
         ]
        },
        "xaxis18": {
         "anchor": "y18",
         "domain": [
          0,
          1
         ]
        },
        "xaxis19": {
         "anchor": "y19",
         "domain": [
          0,
          1
         ]
        },
        "xaxis2": {
         "anchor": "y2",
         "domain": [
          0,
          1
         ]
        },
        "xaxis20": {
         "anchor": "y20",
         "domain": [
          0,
          1
         ]
        },
        "xaxis21": {
         "anchor": "y21",
         "domain": [
          0,
          1
         ]
        },
        "xaxis22": {
         "anchor": "y22",
         "domain": [
          0,
          1
         ]
        },
        "xaxis23": {
         "anchor": "y23",
         "domain": [
          0,
          1
         ]
        },
        "xaxis3": {
         "anchor": "y3",
         "domain": [
          0,
          1
         ]
        },
        "xaxis4": {
         "anchor": "y4",
         "domain": [
          0,
          1
         ]
        },
        "xaxis5": {
         "anchor": "y5",
         "domain": [
          0,
          1
         ]
        },
        "xaxis6": {
         "anchor": "y6",
         "domain": [
          0,
          1
         ]
        },
        "xaxis7": {
         "anchor": "y7",
         "domain": [
          0,
          1
         ]
        },
        "xaxis8": {
         "anchor": "y8",
         "domain": [
          0,
          1
         ]
        },
        "xaxis9": {
         "anchor": "y9",
         "domain": [
          0,
          1
         ]
        },
        "yaxis": {
         "anchor": "x",
         "domain": [
          0.9756521739130435,
          1
         ],
         "showgrid": false,
         "showticklabels": false
        },
        "yaxis10": {
         "anchor": "x10",
         "domain": [
          0.5765217391304348,
          0.6008695652173913
         ],
         "showgrid": false,
         "showticklabels": false
        },
        "yaxis11": {
         "anchor": "x11",
         "domain": [
          0.5321739130434783,
          0.5565217391304348
         ],
         "showgrid": false,
         "showticklabels": false
        },
        "yaxis12": {
         "anchor": "x12",
         "domain": [
          0.48782608695652174,
          0.5121739130434783
         ],
         "showgrid": false,
         "showticklabels": false
        },
        "yaxis13": {
         "anchor": "x13",
         "domain": [
          0.44347826086956527,
          0.4678260869565218
         ],
         "showgrid": false,
         "showticklabels": false
        },
        "yaxis14": {
         "anchor": "x14",
         "domain": [
          0.3991304347826087,
          0.4234782608695652
         ],
         "showgrid": false,
         "showticklabels": false
        },
        "yaxis15": {
         "anchor": "x15",
         "domain": [
          0.3547826086956522,
          0.3791304347826087
         ],
         "showgrid": false,
         "showticklabels": false
        },
        "yaxis16": {
         "anchor": "x16",
         "domain": [
          0.3104347826086957,
          0.33478260869565224
         ],
         "showgrid": false,
         "showticklabels": false
        },
        "yaxis17": {
         "anchor": "x17",
         "domain": [
          0.26608695652173914,
          0.29043478260869565
         ],
         "showgrid": false,
         "showticklabels": false
        },
        "yaxis18": {
         "anchor": "x18",
         "domain": [
          0.22173913043478263,
          0.24608695652173915
         ],
         "showgrid": false,
         "showticklabels": false
        },
        "yaxis19": {
         "anchor": "x19",
         "domain": [
          0.1773913043478261,
          0.20173913043478262
         ],
         "showgrid": false,
         "showticklabels": false
        },
        "yaxis2": {
         "anchor": "x2",
         "domain": [
          0.931304347826087,
          0.9556521739130435
         ],
         "showgrid": false,
         "showticklabels": false
        },
        "yaxis20": {
         "anchor": "x20",
         "domain": [
          0.13304347826086957,
          0.15739130434782608
         ],
         "showgrid": false,
         "showticklabels": false
        },
        "yaxis21": {
         "anchor": "x21",
         "domain": [
          0.08869565217391305,
          0.11304347826086958
         ],
         "showgrid": false,
         "showticklabels": false
        },
        "yaxis22": {
         "anchor": "x22",
         "domain": [
          0.044347826086956525,
          0.06869565217391305
         ],
         "showgrid": false,
         "showticklabels": false
        },
        "yaxis23": {
         "anchor": "x23",
         "domain": [
          0,
          0.024347826086956525
         ],
         "showgrid": false,
         "showticklabels": false
        },
        "yaxis3": {
         "anchor": "x3",
         "domain": [
          0.8869565217391305,
          0.911304347826087
         ],
         "showgrid": false,
         "showticklabels": false
        },
        "yaxis4": {
         "anchor": "x4",
         "domain": [
          0.842608695652174,
          0.8669565217391305
         ],
         "showgrid": false,
         "showticklabels": false
        },
        "yaxis5": {
         "anchor": "x5",
         "domain": [
          0.7982608695652174,
          0.8226086956521739
         ],
         "showgrid": false,
         "showticklabels": false
        },
        "yaxis6": {
         "anchor": "x6",
         "domain": [
          0.7539130434782609,
          0.7782608695652175
         ],
         "showgrid": false,
         "showticklabels": false
        },
        "yaxis7": {
         "anchor": "x7",
         "domain": [
          0.7095652173913044,
          0.7339130434782609
         ],
         "showgrid": false,
         "showticklabels": false
        },
        "yaxis8": {
         "anchor": "x8",
         "domain": [
          0.6652173913043479,
          0.6895652173913044
         ],
         "showgrid": false,
         "showticklabels": false
        },
        "yaxis9": {
         "anchor": "x9",
         "domain": [
          0.6208695652173915,
          0.645217391304348
         ],
         "showgrid": false,
         "showticklabels": false
        }
       }
      }
     },
     "metadata": {},
     "output_type": "display_data"
    },
    {
     "data": {
      "application/vnd.plotly.v1+json": {
       "config": {
        "plotlyServerURL": "https://plot.ly"
       },
       "data": [
        {
         "hoverinfo": "text",
         "hovertext": [
          "cg02270238<br>RPL11<br>threeUTR<br>23696379.0",
          "cg05817746<br>ERI3<br>Intron<br>44296999.0",
          "cg23287176<br>CASZ1<br>Intron<br>10672330.0",
          "cg21278764<br>UTP11<br>Intron<br>38016093.0",
          "cg19719141<br>MKNK1-AS1<br>Intergenic_upstream<br>46526544.0",
          "cg08402704<br>LINC01763<br>Exon<br>90851824.0",
          "cg09360996<br>PROX1<br>Exon<br>213996654.0",
          "cg10501210<br>MIR29B2CHG<br>Intron<br>207823675.0",
          "cg14988489<br>CASZ1<br>Intergenic_upstream<br>10856467.0",
          "cg27245416<br>ARID1A<br>Exon<br>26772876.0",
          "cg09809672<br>EDARADD<br>fiveUTR<br>236394382.0",
          "cg23405931<br>CDC7<br>Exon<br>91513975.0",
          "cg27228973<br>FOXO6-AS1<br>Intergenic_upstream<br>41404380.0",
          "cg21102477<br>CSMD2<br>fiveUTR<br>34165243.0",
          "cg02681015<br>PRDM16<br>fiveUTR<br>3069253.0",
          "cg16717607<br>PHC2<br>Exon<br>33368598.0",
          "cg08040307<br>ZZZ3<br>fiveUTR<br>77633377.0",
          "cg23692250<br>NFIA-AS2<br>Intron<br>60936285.0",
          "cg13753818<br>WDR26<br>Exon<br>224431495.0",
          "cg21673805<br>POU2F1<br>fiveUTR<br>167220917.0",
          "cg02456804<br>FAM78B<br>Exon<br>166070621.0",
          "cg06413694<br>RPS6KC1<br>Intergenic_downstream<br>213340471.0",
          "cg19291010<br>BCL9<br>Exon<br>147612914.0",
          "cg18481180<br>HIPK1<br>Intron<br>113963552.0",
          "cg07388493<br>NDUFS5<br>Promoter<br>39025787.0",
          "cg21102110<br>LINC01739<br>Intron<br>62994313.0",
          "cg00258262<br>LINC02609<br>Exon<br>90828767.0"
         ],
         "marker": {
          "color": [
           "#21918c",
           "#440154",
           "#440154",
           "#440154",
           "#fde725",
           "#414487",
           "#414487",
           "#440154",
           "#fde725",
           "#414487",
           "#7ad151",
           "#414487",
           "#fde725",
           "#7ad151",
           "#7ad151",
           "#414487",
           "#7ad151",
           "#440154",
           "#414487",
           "#7ad151",
           "#414487",
           "#44bf70",
           "#414487",
           "#440154",
           "#355f8d",
           "#440154",
           "#414487"
          ],
          "line": {
           "color": "black",
           "width": 0.5
          },
          "size": 10,
          "symbol": "square"
         },
         "mode": "markers+text",
         "showlegend": false,
         "text": [
          "RPL11",
          "ERI3",
          "CASZ1",
          "UTP11",
          "MKNK1-AS1",
          "LINC01763",
          "PROX1",
          "MIR29B2CHG",
          "CASZ1",
          "ARID1A",
          "EDARADD",
          "CDC7",
          "FOXO6-AS1",
          "CSMD2",
          "PRDM16",
          "PHC2",
          "ZZZ3",
          "NFIA-AS2",
          "WDR26",
          "POU2F1",
          "FAM78B",
          "RPS6KC1",
          "BCL9",
          "HIPK1",
          "NDUFS5",
          "LINC01739",
          "LINC02609"
         ],
         "textfont": {
          "color": "black",
          "size": 10
         },
         "textposition": "top center",
         "type": "scatter",
         "x": [
          23696379,
          44296999,
          10672330,
          38016093,
          46526544,
          90851824,
          213996654,
          207823675,
          10856467,
          26772876,
          236394382,
          91513975,
          41404380,
          34165243,
          3069253,
          33368598,
          77633377,
          60936285,
          224431495,
          167220917,
          166070621,
          213340471,
          147612914,
          113963552,
          39025787,
          62994313,
          90828767
         ],
         "xaxis": "x",
         "y": [
          1,
          1,
          1,
          1,
          1,
          1,
          1,
          1,
          1,
          1,
          1,
          1,
          1,
          1,
          1,
          1,
          1,
          1,
          1,
          1,
          1,
          1,
          1,
          1,
          1,
          1,
          1
         ],
         "yaxis": "y"
        },
        {
         "hoverinfo": "text",
         "hovertext": [
          "cg18679961<br>MIR4432HG<br>Intron<br>59924543.0",
          "cg07900685<br>IKZF2<br>threeUTR<br>213056893.0",
          "cg20391664<br>NR4A2<br>Intron<br>156326973.0",
          "cg09227056<br>EVX2<br>Intergenic_downstream<br>176075721.0",
          "cg06807725<br>MYO3B<br>Exon<br>170214765.0",
          "cg02471195<br>ARHGAP15<br>Intron<br>143594437.0",
          "cg14361875<br>LINC01812<br>Intergenic_upstream<br>67846376.0",
          "cg11235379<br>TBR1<br>Exon<br>161417813.0",
          "cg22943590<br>MEIS1<br>Intergenic_upstream<br>66421665.0",
          "cg14297772<br>EN1<br>fiveUTR<br>118847634.0",
          "cg05322294<br>ZEB2-AS1<br>fiveUTR<br>144520585.0",
          "cg15253243<br>TMEM198<br>fiveUTR<br>219544069.0",
          "cg22454769<br>FHL2<br>fiveUTR<br>105399310.0",
          "cg15237969<br>PSMD14<br>Intron<br>161356198.0",
          "cg02828846<br>KCNH7<br>Intron<br>162421588.0",
          "cg17905888<br>LINC01876<br>Intergenic_downstream<br>155727368.0",
          "cg23627331<br>FAP<br>Intron<br>162188580.0",
          "cg01998606<br>ZEB2<br>fiveUTR<br>144403976.0"
         ],
         "marker": {
          "color": [
           "#440154",
           "#21918c",
           "#440154",
           "#44bf70",
           "#414487",
           "#440154",
           "#fde725",
           "#414487",
           "#fde725",
           "#7ad151",
           "#7ad151",
           "#7ad151",
           "#7ad151",
           "#440154",
           "#440154",
           "#44bf70",
           "#440154",
           "#7ad151"
          ],
          "line": {
           "color": "black",
           "width": 0.5
          },
          "size": 10,
          "symbol": "square"
         },
         "mode": "markers+text",
         "showlegend": false,
         "text": [
          "MIR4432HG",
          "IKZF2",
          "NR4A2",
          "EVX2",
          "MYO3B",
          "ARHGAP15",
          "LINC01812",
          "TBR1",
          "MEIS1",
          "EN1",
          "ZEB2-AS1",
          "TMEM198",
          "FHL2",
          "PSMD14",
          "KCNH7",
          "LINC01876",
          "FAP",
          "ZEB2"
         ],
         "textfont": {
          "color": "black",
          "size": 10
         },
         "textposition": "top center",
         "type": "scatter",
         "x": [
          59924543,
          213056893,
          156326973,
          176075721,
          170214765,
          143594437,
          67846376,
          161417813,
          66421665,
          118847634,
          144520585,
          219544069,
          105399310,
          161356198,
          162421588,
          155727368,
          162188580,
          144403976
         ],
         "xaxis": "x2",
         "y": [
          2,
          2,
          2,
          2,
          2,
          2,
          2,
          2,
          2,
          2,
          2,
          2,
          2,
          2,
          2,
          2,
          2,
          2
         ],
         "yaxis": "y2"
        },
        {
         "hoverinfo": "text",
         "hovertext": [
          "cg21871906<br>MECOM<br>Intron<br>169241235.0",
          "cg12841266<br>LHFPL4<br>Exon<br>9552409.0",
          "cg10710448<br>LOC440982<br>Exon<br>147410944.0",
          "cg06156376<br>RSRC1<br>fiveUTR<br>158106025.0",
          "cg05261703<br>SETD5<br>threeUTR<br>9434050.0",
          "cg05911522<br>LOC440982<br>fiveUTR<br>147406611.0",
          "cg17356452<br>ZBTB38<br>Exon<br>141387078.0"
         ],
         "marker": {
          "color": [
           "#440154",
           "#414487",
           "#414487",
           "#7ad151",
           "#21918c",
           "#7ad151",
           "#414487"
          ],
          "line": {
           "color": "black",
           "width": 0.5
          },
          "size": 10,
          "symbol": "square"
         },
         "mode": "markers+text",
         "showlegend": false,
         "text": [
          "MECOM",
          "LHFPL4",
          "LOC440982",
          "RSRC1",
          "SETD5",
          "LOC440982",
          "ZBTB38"
         ],
         "textfont": {
          "color": "black",
          "size": 10
         },
         "textposition": "top center",
         "type": "scatter",
         "x": [
          169241235,
          9552409,
          147410944,
          158106025,
          9434050,
          147406611,
          141387078
         ],
         "xaxis": "x3",
         "y": [
          3,
          3,
          3,
          3,
          3,
          3,
          3
         ],
         "yaxis": "y3"
        },
        {
         "hoverinfo": "text",
         "hovertext": [
          "cg06679388<br>MAML3<br>Intron<br>140094103.0",
          "cg24713486<br>C1QTNF7-AS1<br>Exon<br>15008358.0",
          "cg15741341<br>EPHA5<br>Exon<br>65490521.0",
          "cg05584618<br>UNC5C<br>Intron<br>95505316.0",
          "cg04577801<br>HAND2-AS1<br>Exon<br>173531182.0",
          "cg02783173<br>NEUROG2-AS1<br>Intron<br>112521614.0"
         ],
         "marker": {
          "color": [
           "#440154",
           "#414487",
           "#414487",
           "#440154",
           "#414487",
           "#440154"
          ],
          "line": {
           "color": "black",
           "width": 0.5
          },
          "size": 10,
          "symbol": "square"
         },
         "mode": "markers+text",
         "showlegend": false,
         "text": [
          "MAML3",
          "C1QTNF7-AS1",
          "EPHA5",
          "UNC5C",
          "HAND2-AS1",
          "NEUROG2-AS1"
         ],
         "textfont": {
          "color": "black",
          "size": 10
         },
         "textposition": "top center",
         "type": "scatter",
         "x": [
          140094103,
          15008358,
          65490521,
          95505316,
          173531182,
          112521614
         ],
         "xaxis": "x4",
         "y": [
          4,
          4,
          4,
          4,
          4,
          4
         ],
         "yaxis": "y4"
        },
        {
         "hoverinfo": "text",
         "hovertext": [
          "cg00422680<br>RANBP17<br>Intron<br>171294749.0",
          "cg08212459<br>TBCA<br>Intron<br>77847813.0",
          "cg18304538<br>TBCA<br>Intron<br>77852294.0",
          "cg15702573<br>NSD1<br>Exon<br>177293963.0",
          "cg00296110<br>PSD2-AS1<br>Intergenic_upstream<br>139759648.0",
          "cg18814344<br>CXXC5<br>Intron<br>139660961.0",
          "cg20432508<br>SREK1<br>threeUTR<br>66162474.0",
          "cg27088374<br>CLINT1<br>Exon<br>157816777.0",
          "cg08662919<br>NR2F1-AS1<br>Intergenic_downstream<br>92695765.0",
          "cg17942396<br>MSX2<br>Intergenic_downstream<br>174734038.0",
          "cg04363039<br>AP3B1<br>Intron<br>78017237.0",
          "cg06482098<br>CTNND2<br>Exon<br>11384925.0",
          "cg18223258<br>ISL1<br>Intergenic_downstream<br>51399170.0",
          "cg26879535<br>LOC102546299<br>Intron<br>165105792.0",
          "cg03856216<br>TGFBI<br>fiveUTR<br>136059173.0"
         ],
         "marker": {
          "color": [
           "#440154",
           "#440154",
           "#440154",
           "#414487",
           "#fde725",
           "#440154",
           "#21918c",
           "#414487",
           "#44bf70",
           "#44bf70",
           "#440154",
           "#414487",
           "#44bf70",
           "#440154",
           "#7ad151"
          ],
          "line": {
           "color": "black",
           "width": 0.5
          },
          "size": 10,
          "symbol": "square"
         },
         "mode": "markers+text",
         "showlegend": false,
         "text": [
          "RANBP17",
          "TBCA",
          "TBCA",
          "NSD1",
          "PSD2-AS1",
          "CXXC5",
          "SREK1",
          "CLINT1",
          "NR2F1-AS1",
          "MSX2",
          "AP3B1",
          "CTNND2",
          "ISL1",
          "LOC102546299",
          "TGFBI"
         ],
         "textfont": {
          "color": "black",
          "size": 10
         },
         "textposition": "top center",
         "type": "scatter",
         "x": [
          171294749,
          77847813,
          77852294,
          177293963,
          139759648,
          139660961,
          66162474,
          157816777,
          92695765,
          174734038,
          78017237,
          11384925,
          51399170,
          165105792,
          136059173
         ],
         "xaxis": "x5",
         "y": [
          5,
          5,
          5,
          5,
          5,
          5,
          5,
          5,
          5,
          5,
          5,
          5,
          5,
          5,
          5
         ],
         "yaxis": "y5"
        },
        {
         "hoverinfo": "text",
         "hovertext": [
          "cg05844937<br>FOXC1<br>Intergenic_downstream<br>1613906.0",
          "cg06472065<br>SYNGAP1<br>Exon<br>33426669.0",
          "cg07476673<br>DLL1<br>Intron<br>170293832.0",
          "cg17266282<br>LINC02527<br>Intergenic_upstream<br>111973329.0",
          "cg20212950<br>QKI<br>threeUTR<br>163566741.0",
          "cg18468088<br>TULP1<br>Intergenic_upstream<br>35523041.0",
          "cg09817427<br>TBX18<br>fiveUTR<br>84764595.0",
          "cg00689383<br>GRM1<br>Exon<br>146399362.0",
          "cg16867657<br>ELOVL2-AS1<br>Exon<br>11044644.0",
          "cg17820491<br>HTR1B<br>Exon<br>77462515.0",
          "cg14116948<br>SUPT3H<br>Exon<br>44932730.0",
          "cg22188876<br>SCUBE3<br>Exon<br>35243603.0"
         ],
         "marker": {
          "color": [
           "#44bf70",
           "#414487",
           "#440154",
           "#fde725",
           "#21918c",
           "#fde725",
           "#7ad151",
           "#414487",
           "#414487",
           "#414487",
           "#414487",
           "#414487"
          ],
          "line": {
           "color": "black",
           "width": 0.5
          },
          "size": 10,
          "symbol": "square"
         },
         "mode": "markers+text",
         "showlegend": false,
         "text": [
          "FOXC1",
          "SYNGAP1",
          "DLL1",
          "LINC02527",
          "QKI",
          "TULP1",
          "TBX18",
          "GRM1",
          "ELOVL2-AS1",
          "HTR1B",
          "SUPT3H",
          "SCUBE3"
         ],
         "textfont": {
          "color": "black",
          "size": 10
         },
         "textposition": "top center",
         "type": "scatter",
         "x": [
          1613906,
          33426669,
          170293832,
          111973329,
          163566741,
          35523041,
          84764595,
          146399362,
          11044644,
          77462515,
          44932730,
          35243603
         ],
         "xaxis": "x6",
         "y": [
          6,
          6,
          6,
          6,
          6,
          6,
          6,
          6,
          6,
          6,
          6,
          6
         ],
         "yaxis": "y6"
        },
        {
         "hoverinfo": "text",
         "hovertext": [
          "cg10042482<br>CUX1<br>Intron<br>101948104.0",
          "cg12981876<br>GIGYF1<br>Exon<br>100682172.0",
          "cg01053290<br>FOXP2<br>Intron<br>114659903.0",
          "cg25073174<br>ATXN7L1<br>Intron<br>105639406.0",
          "cg08570512<br>DGKI<br>fiveUTR<br>137623483.0",
          "cg03820088<br>TRA2A<br>fiveUTR<br>23522229.0",
          "cg01019040<br>LHFPL3<br>Exon<br>104328968.0",
          "cg12307242<br>CADPS2<br>Intron<br>122328825.0",
          "cg09474015<br>HOXA10-HOXA9<br>Exon<br>27165104.0",
          "cg00096922<br>DLX5<br>fiveUTR<br>97024873.0",
          "cg20726505<br>LHFPL3<br>fiveUTR<br>104328818.0",
          "cg26154615<br>AUTS2<br>Intron<br>70446597.0",
          "cg11438204<br>CALU<br>Exon<br>128754286.0"
         ],
         "marker": {
          "color": [
           "#440154",
           "#414487",
           "#440154",
           "#440154",
           "#7ad151",
           "#7ad151",
           "#414487",
           "#440154",
           "#414487",
           "#7ad151",
           "#7ad151",
           "#440154",
           "#414487"
          ],
          "line": {
           "color": "black",
           "width": 0.5
          },
          "size": 10,
          "symbol": "square"
         },
         "mode": "markers+text",
         "showlegend": false,
         "text": [
          "CUX1",
          "GIGYF1",
          "FOXP2",
          "ATXN7L1",
          "DGKI",
          "TRA2A",
          "LHFPL3",
          "CADPS2",
          "HOXA10-HOXA9",
          "DLX5",
          "LHFPL3",
          "AUTS2",
          "CALU"
         ],
         "textfont": {
          "color": "black",
          "size": 10
         },
         "textposition": "top center",
         "type": "scatter",
         "x": [
          101948104,
          100682172,
          114659903,
          105639406,
          137623483,
          23522229,
          104328968,
          122328825,
          27165104,
          97024873,
          104328818,
          70446597,
          128754286
         ],
         "xaxis": "x7",
         "y": [
          7,
          7,
          7,
          7,
          7,
          7,
          7,
          7,
          7,
          7,
          7,
          7,
          7
         ],
         "yaxis": "y7"
        },
        {
         "hoverinfo": "text",
         "hovertext": [
          "cg06250511<br>NSMCE2<br>Intron<br>125219571.0",
          "cg19691778<br>GDF6<br>Intron<br>96145528.0",
          "cg06878766<br>PLAG1<br>Promoter<br>56210721.0",
          "cg18635807<br>EYA1<br>Exon<br>71354785.0",
          "cg12815291<br>ZC3H3<br>Intron<br>143439468.0",
          "cg18168101<br>BAALC-AS2<br>Promoter<br>103141399.0"
         ],
         "marker": {
          "color": [
           "#440154",
           "#440154",
           "#355f8d",
           "#414487",
           "#440154",
           "#355f8d"
          ],
          "line": {
           "color": "black",
           "width": 0.5
          },
          "size": 10,
          "symbol": "square"
         },
         "mode": "markers+text",
         "showlegend": false,
         "text": [
          "NSMCE2",
          "GDF6",
          "PLAG1",
          "EYA1",
          "ZC3H3",
          "BAALC-AS2"
         ],
         "textfont": {
          "color": "black",
          "size": 10
         },
         "textposition": "top center",
         "type": "scatter",
         "x": [
          125219571,
          96145528,
          56210721,
          71354785,
          143439468,
          103141399
         ],
         "xaxis": "x8",
         "y": [
          8,
          8,
          8,
          8,
          8,
          8
         ],
         "yaxis": "y8"
        },
        {
         "hoverinfo": "text",
         "hovertext": [
          "cg05111574<br>MLLT3<br>Intron<br>20619597.0",
          "cg27547112<br>HNRNPK<br>Intron<br>83973650.0",
          "cg17516812<br>BNC2<br>Intron<br>16773158.0",
          "cg21633990<br>COL5A1<br>Exon<br>134830033.0",
          "cg09009312<br>DENND1A<br>Intron<br>123654382.0",
          "cg26581729<br>NPDC1<br>Promoter<br>137045340.0",
          "cg04902782<br>MLLT3<br>Intron<br>20379093.0",
          "cg02499612<br>LMX1B<br>Exon<br>126615424.0",
          "cg24638399<br>PBX3<br>Intron<br>125845524.0",
          "cg25651791<br>NR6A1<br>Intron<br>124769837.0"
         ],
         "marker": {
          "color": [
           "#440154",
           "#440154",
           "#440154",
           "#414487",
           "#440154",
           "#355f8d",
           "#440154",
           "#414487",
           "#440154",
           "#440154"
          ],
          "line": {
           "color": "black",
           "width": 0.5
          },
          "size": 10,
          "symbol": "square"
         },
         "mode": "markers+text",
         "showlegend": false,
         "text": [
          "MLLT3",
          "HNRNPK",
          "BNC2",
          "COL5A1",
          "DENND1A",
          "NPDC1",
          "MLLT3",
          "LMX1B",
          "PBX3",
          "NR6A1"
         ],
         "textfont": {
          "color": "black",
          "size": 10
         },
         "textposition": "top center",
         "type": "scatter",
         "x": [
          20619597,
          83973650,
          16773158,
          134830033,
          123654382,
          137045340,
          20379093,
          126615424,
          125845524,
          124769837
         ],
         "xaxis": "x9",
         "y": [
          9,
          9,
          9,
          9,
          9,
          9,
          9,
          9,
          9,
          9
         ],
         "yaxis": "y9"
        },
        {
         "hoverinfo": "text",
         "hovertext": [
          "cg07978738<br>ABLIM1<br>Intron<br>114538580.0",
          "cg04706544<br>DRGX<br>Promoter<br>49396706.0",
          "cg26102159<br>CAMK2G<br>Exon<br>73839584.0",
          "cg17357006<br>VTI1A<br>Exon<br>112538434.0",
          "cg11541320<br>LINC02681<br>Intergenic_upstream<br>101292826.0",
          "cg11488183<br>PRKG1<br>Intron<br>51397876.0"
         ],
         "marker": {
          "color": [
           "#440154",
           "#355f8d",
           "#414487",
           "#414487",
           "#fde725",
           "#440154"
          ],
          "line": {
           "color": "black",
           "width": 0.5
          },
          "size": 10,
          "symbol": "square"
         },
         "mode": "markers+text",
         "showlegend": false,
         "text": [
          "ABLIM1",
          "DRGX",
          "CAMK2G",
          "VTI1A",
          "LINC02681",
          "PRKG1"
         ],
         "textfont": {
          "color": "black",
          "size": 10
         },
         "textposition": "top center",
         "type": "scatter",
         "x": [
          114538580,
          49396706,
          73839584,
          112538434,
          101292826,
          51397876
         ],
         "xaxis": "x10",
         "y": [
          10,
          10,
          10,
          10,
          10,
          10
         ],
         "yaxis": "y10"
        },
        {
         "hoverinfo": "text",
         "hovertext": [
          "cg27300575<br>YAP1<br>Exon<br>102209523.0",
          "cg01038105<br>TMX2-CTNND1<br>fiveUTR<br>57794027.0",
          "cg16925789<br>NRXN2<br>Intron<br>64632811.0",
          "cg24653269<br>BCL9L<br>Intron<br>118916022.0",
          "cg02968236<br>TENM4<br>Intron<br>78786107.0",
          "cg11124915<br>EIF4G2<br>Exon<br>10806872.0",
          "cg01137681<br>TEAD1<br>fiveUTR<br>12764208.0",
          "cg07987507<br>DLG2<br>Intron<br>83484266.0"
         ],
         "marker": {
          "color": [
           "#414487",
           "#7ad151",
           "#440154",
           "#440154",
           "#440154",
           "#414487",
           "#7ad151",
           "#440154"
          ],
          "line": {
           "color": "black",
           "width": 0.5
          },
          "size": 10,
          "symbol": "square"
         },
         "mode": "markers+text",
         "showlegend": false,
         "text": [
          "YAP1",
          "TMX2-CTNND1",
          "NRXN2",
          "BCL9L",
          "TENM4",
          "EIF4G2",
          "TEAD1",
          "DLG2"
         ],
         "textfont": {
          "color": "black",
          "size": 10
         },
         "textposition": "top center",
         "type": "scatter",
         "x": [
          102209523,
          57794027,
          64632811,
          118916022,
          78786107,
          10806872,
          12764208,
          83484266
         ],
         "xaxis": "x11",
         "y": [
          11,
          11,
          11,
          11,
          11,
          11,
          11,
          11
         ],
         "yaxis": "y11"
        },
        {
         "hoverinfo": "text",
         "hovertext": [
          "cg09008979<br>SP7<br>Intron<br>53336382.0",
          "cg09010707<br>SSPN<br>Intron<br>26239634.0",
          "cg24856447<br>PHLDA1<br>Intron<br>75848675.0",
          "cg16986738<br>CACNA1C<br>Exon<br>2633643.0",
          "cg14903956<br>GRIN2B<br>Exon<br>13562916.0",
          "cg15405572<br>NAV3<br>Intron<br>77830772.0",
          "cg08522676<br>HOXC12<br>Promoter<br>53949918.0",
          "cg05916870<br>CHD4<br>Promoter<br>6613214.0",
          "cg17116410<br>HOXC4<br>Exon<br>54037896.0",
          "cg18094982<br>SLCO1C1<br>fiveUTR<br>20695438.0",
          "cg26781330<br>ATF7<br>fiveUTR<br>53600991.0",
          "cg04204168<br>ATF7IP<br>Intergenic_upstream<br>14257734.0",
          "cg13935553<br>BHLHE41<br>threeUTR<br>26120667.0",
          "cg08563010<br>SOX5<br>Intron<br>23921603.0",
          "cg01772613<br>HECTD4<br>Exon<br>112252429.0"
         ],
         "marker": {
          "color": [
           "#440154",
           "#440154",
           "#440154",
           "#414487",
           "#414487",
           "#440154",
           "#355f8d",
           "#355f8d",
           "#414487",
           "#7ad151",
           "#7ad151",
           "#fde725",
           "#21918c",
           "#440154",
           "#414487"
          ],
          "line": {
           "color": "black",
           "width": 0.5
          },
          "size": 10,
          "symbol": "square"
         },
         "mode": "markers+text",
         "showlegend": false,
         "text": [
          "SP7",
          "SSPN",
          "PHLDA1",
          "CACNA1C",
          "GRIN2B",
          "NAV3",
          "HOXC12",
          "CHD4",
          "HOXC4",
          "SLCO1C1",
          "ATF7",
          "ATF7IP",
          "BHLHE41",
          "SOX5",
          "HECTD4"
         ],
         "textfont": {
          "color": "black",
          "size": 10
         },
         "textposition": "top center",
         "type": "scatter",
         "x": [
          53336382,
          26239634,
          75848675,
          2633643,
          13562916,
          77830772,
          53949918,
          6613214,
          54037896,
          20695438,
          53600991,
          14257734,
          26120667,
          23921603,
          112252429
         ],
         "xaxis": "x12",
         "y": [
          12,
          12,
          12,
          12,
          12,
          12,
          12,
          12,
          12,
          12,
          12,
          12,
          12,
          12,
          12
         ],
         "yaxis": "y12"
        },
        {
         "hoverinfo": "text",
         "hovertext": [
          "cg18894136<br>LINC00676<br>Intron<br>109667928.0",
          "cg24393114<br>FAM216B<br>Intergenic_upstream<br>42720528.0",
          "cg25639084<br>TNFRSF19<br>Intergenic_upstream<br>23559374.0",
          "cg15425194<br>NBEA<br>Intron<br>35470857.0",
          "cg13294690<br>SLITRK1<br>fiveUTR<br>83881566.0",
          "cg19051359<br>MIR1297<br>Intergenic_upstream<br>54394457.0"
         ],
         "marker": {
          "color": [
           "#440154",
           "#fde725",
           "#fde725",
           "#440154",
           "#7ad151",
           "#fde725"
          ],
          "line": {
           "color": "black",
           "width": 0.5
          },
          "size": 10,
          "symbol": "square"
         },
         "mode": "markers+text",
         "showlegend": false,
         "text": [
          "LINC00676",
          "FAM216B",
          "TNFRSF19",
          "NBEA",
          "SLITRK1",
          "MIR1297"
         ],
         "textfont": {
          "color": "black",
          "size": 10
         },
         "textposition": "top center",
         "type": "scatter",
         "x": [
          109667928,
          42720528,
          23559374,
          35470857,
          83881566,
          54394457
         ],
         "xaxis": "x13",
         "y": [
          13,
          13,
          13,
          13,
          13,
          13
         ],
         "yaxis": "y13"
        },
        {
         "hoverinfo": "text",
         "hovertext": [
          "cg26957053<br>NPAS3<br>Exon<br>33800281.0",
          "cg12967137<br>LINC01551<br>Exon<br>28778399.0",
          "cg20100200<br>PPP2R5E<br>threeUTR<br>63375966.0",
          "cg13313332<br>HNRNPC<br>fiveUTR<br>21263267.0",
          "cg24787338<br>FERMT2<br>Exon<br>52950527.0",
          "cg15408728<br>DICER1<br>Intergenic_downstream<br>95008596.0",
          "cg20896439<br>GALNT16<br>Exon<br>69260375.0",
          "cg12449245<br>DPF3<br>Exon<br>72619953.0",
          "cg14472711<br>ACIN1<br>threeUTR<br>23068659.0"
         ],
         "marker": {
          "color": [
           "#414487",
           "#414487",
           "#21918c",
           "#7ad151",
           "#414487",
           "#44bf70",
           "#414487",
           "#414487",
           "#21918c"
          ],
          "line": {
           "color": "black",
           "width": 0.5
          },
          "size": 10,
          "symbol": "square"
         },
         "mode": "markers+text",
         "showlegend": false,
         "text": [
          "NPAS3",
          "LINC01551",
          "PPP2R5E",
          "HNRNPC",
          "FERMT2",
          "DICER1",
          "GALNT16",
          "DPF3",
          "ACIN1"
         ],
         "textfont": {
          "color": "black",
          "size": 10
         },
         "textposition": "top center",
         "type": "scatter",
         "x": [
          33800281,
          28778399,
          63375966,
          21263267,
          52950527,
          95008596,
          69260375,
          72619953,
          23068659
         ],
         "xaxis": "x14",
         "y": [
          14,
          14,
          14,
          14,
          14,
          14,
          14,
          14,
          14
         ],
         "yaxis": "y14"
        },
        {
         "hoverinfo": "text",
         "hovertext": [
          "cg13301933<br>RORA<br>fiveUTR<br>61229240.0",
          "cg06147321<br>MEIS2<br>threeUTR<br>36889356.0",
          "cg25771548<br>OAZ2<br>threeUTR<br>64688789.0",
          "cg10040836<br>NR2F2<br>Exon<br>96332460.0",
          "cg01910711<br>DLL4<br>Exon<br>40930850.0",
          "cg07564343<br>RORA<br>Intron<br>61227291.0",
          "cg19296119<br>INSYN1-AS1<br>Intergenic_downstream<br>73774908.0"
         ],
         "marker": {
          "color": [
           "#7ad151",
           "#21918c",
           "#21918c",
           "#414487",
           "#414487",
           "#440154",
           "#44bf70"
          ],
          "line": {
           "color": "black",
           "width": 0.5
          },
          "size": 10,
          "symbol": "square"
         },
         "mode": "markers+text",
         "showlegend": false,
         "text": [
          "RORA",
          "MEIS2",
          "OAZ2",
          "NR2F2",
          "DLL4",
          "RORA",
          "INSYN1-AS1"
         ],
         "textfont": {
          "color": "black",
          "size": 10
         },
         "textposition": "top center",
         "type": "scatter",
         "x": [
          61229240,
          36889356,
          64688789,
          96332460,
          40930850,
          61227291,
          73774908
         ],
         "xaxis": "x15",
         "y": [
          15,
          15,
          15,
          15,
          15,
          15,
          15
         ],
         "yaxis": "y15"
        },
        {
         "hoverinfo": "text",
         "hovertext": [
          "cg06736685<br>GSE1<br>Intron<br>85555743.0",
          "cg26922708<br>C16orf78<br>Intergenic_downstream<br>49416200.0",
          "cg03247467<br>CASC22<br>Intergenic_downstream<br>52351779.0",
          "cg13909487<br>SALL1<br>Promoter<br>51151546.0"
         ],
         "marker": {
          "color": [
           "#440154",
           "#44bf70",
           "#44bf70",
           "#355f8d"
          ],
          "line": {
           "color": "black",
           "width": 0.5
          },
          "size": 10,
          "symbol": "square"
         },
         "mode": "markers+text",
         "showlegend": false,
         "text": [
          "GSE1",
          "C16orf78",
          "CASC22",
          "SALL1"
         ],
         "textfont": {
          "color": "black",
          "size": 10
         },
         "textposition": "top center",
         "type": "scatter",
         "x": [
          85555743,
          49416200,
          52351779,
          51151546
         ],
         "xaxis": "x16",
         "y": [
          16,
          16,
          16,
          16
         ],
         "yaxis": "y16"
        },
        {
         "hoverinfo": "text",
         "hovertext": [
          "cg07005811<br>PHF12<br>Exon<br>28912612.0",
          "cg12501063<br>TANC2<br>Exon<br>63412706.0",
          "cg02909927<br>RAI1<br>Intron<br>17784078.0",
          "cg24975211<br>THRA<br>threeUTR<br>40093013.0",
          "cg23320654<br>AXIN2<br>Intron<br>65558878.0",
          "cg10381180<br>THRA<br>threeUTR<br>40092513.0",
          "cg24924928<br>NUFIP2<br>Exon<br>29286101.0",
          "cg00871371<br>SEPTIN9<br>Exon<br>77375394.0",
          "cg17369088<br>NSRP1<br>fiveUTR<br>30117050.0",
          "cg20265593<br>NOG<br>Exon<br>56594853.0",
          "cg03679521<br>NEUROD2<br>fiveUTR<br>39607900.0",
          "cg12642246<br>CDK5RAP3<br>Intron<br>47982387.0",
          "cg11407867<br>NLK<br>Exon<br>28191075.0",
          "cg22144210<br>MSI2<br>threeUTR<br>57679579.0"
         ],
         "marker": {
          "color": [
           "#414487",
           "#414487",
           "#440154",
           "#21918c",
           "#440154",
           "#21918c",
           "#414487",
           "#414487",
           "#7ad151",
           "#414487",
           "#7ad151",
           "#440154",
           "#414487",
           "#21918c"
          ],
          "line": {
           "color": "black",
           "width": 0.5
          },
          "size": 10,
          "symbol": "square"
         },
         "mode": "markers+text",
         "showlegend": false,
         "text": [
          "PHF12",
          "TANC2",
          "RAI1",
          "THRA",
          "AXIN2",
          "THRA",
          "NUFIP2",
          "SEPTIN9",
          "NSRP1",
          "NOG",
          "NEUROD2",
          "CDK5RAP3",
          "NLK",
          "MSI2"
         ],
         "textfont": {
          "color": "black",
          "size": 10
         },
         "textposition": "top center",
         "type": "scatter",
         "x": [
          28912612,
          63412706,
          17784078,
          40093013,
          65558878,
          40092513,
          29286101,
          77375394,
          30117050,
          56594853,
          39607900,
          47982387,
          28191075,
          57679579
         ],
         "xaxis": "x17",
         "y": [
          17,
          17,
          17,
          17,
          17,
          17,
          17,
          17,
          17,
          17,
          17,
          17,
          17,
          17
         ],
         "yaxis": "y17"
        },
        {
         "hoverinfo": "text",
         "hovertext": [
          "cg21602520<br>BCL2<br>Exon<br>63318147.0",
          "cg03663497<br>CCDC178<br>Intron<br>32975004.0",
          "cg27593991<br>TCF4<br>fiveUTR<br>55587081.0",
          "cg10324939<br>CTAGE1<br>Intergenic_upstream<br>22559629.0",
          "cg25410683<br>SMAD7<br>Exon<br>48921744.0",
          "cg01450059<br>ZNF521<br>Intron<br>25140479.0",
          "cg02184281<br>SMAD7<br>Exon<br>48921427.0",
          "cg18221275<br>RNF165<br>threeUTR<br>46460595.0"
         ],
         "marker": {
          "color": [
           "#414487",
           "#440154",
           "#7ad151",
           "#fde725",
           "#414487",
           "#440154",
           "#414487",
           "#21918c"
          ],
          "line": {
           "color": "black",
           "width": 0.5
          },
          "size": 10,
          "symbol": "square"
         },
         "mode": "markers+text",
         "showlegend": false,
         "text": [
          "BCL2",
          "CCDC178",
          "TCF4",
          "CTAGE1",
          "SMAD7",
          "ZNF521",
          "SMAD7",
          "RNF165"
         ],
         "textfont": {
          "color": "black",
          "size": 10
         },
         "textposition": "top center",
         "type": "scatter",
         "x": [
          63318147,
          32975004,
          55587081,
          22559629,
          48921744,
          25140479,
          48921427,
          46460595
         ],
         "xaxis": "x18",
         "y": [
          18,
          18,
          18,
          18,
          18,
          18,
          18,
          18
         ],
         "yaxis": "y18"
        },
        {
         "hoverinfo": "text",
         "hovertext": [
          "cg24080303<br>DAZAP1<br>Exon<br>1425903.0",
          "cg02376954<br>DAZAP1<br>Exon<br>1425897.0",
          "cg06459870<br>DAZAP1<br>Intron<br>1425865.0",
          "cg15547854<br>TNPO2<br>Exon<br>12702167.0",
          "cg05750171<br>ZNF574<br>Exon<br>42080086.0",
          "cg06197482<br>NFIX<br>Promoter<br>12996438.0",
          "cg21839725<br>KMT2B<br>Exon<br>35723809.0",
          "cg25383995<br>MIDN<br>Exon<br>1253999.0",
          "cg02753151<br>SLC44A2<br>Exon<br>10642919.0"
         ],
         "marker": {
          "color": [
           "#414487",
           "#414487",
           "#440154",
           "#414487",
           "#414487",
           "#355f8d",
           "#414487",
           "#414487",
           "#414487"
          ],
          "line": {
           "color": "black",
           "width": 0.5
          },
          "size": 10,
          "symbol": "square"
         },
         "mode": "markers+text",
         "showlegend": false,
         "text": [
          "DAZAP1",
          "DAZAP1",
          "DAZAP1",
          "TNPO2",
          "ZNF574",
          "NFIX",
          "KMT2B",
          "MIDN",
          "SLC44A2"
         ],
         "textfont": {
          "color": "black",
          "size": 10
         },
         "textposition": "top center",
         "type": "scatter",
         "x": [
          1425903,
          1425897,
          1425865,
          12702167,
          42080086,
          12996438,
          35723809,
          1253999,
          10642919
         ],
         "xaxis": "x19",
         "y": [
          19,
          19,
          19,
          19,
          19,
          19,
          19,
          19,
          19
         ],
         "yaxis": "y19"
        },
        {
         "hoverinfo": "text",
         "hovertext": [
          "cg07547549<br>SLC12A5<br>Intron<br>46029586.0",
          "cg15471501<br>LINC00237<br>Intron<br>21103492.0",
          "cg14172937<br>SLC12A5<br>fiveUTR<br>46029210.0"
         ],
         "marker": {
          "color": [
           "#440154",
           "#440154",
           "#7ad151"
          ],
          "line": {
           "color": "black",
           "width": 0.5
          },
          "size": 10,
          "symbol": "square"
         },
         "mode": "markers+text",
         "showlegend": false,
         "text": [
          "SLC12A5",
          "LINC00237",
          "SLC12A5"
         ],
         "textfont": {
          "color": "black",
          "size": 10
         },
         "textposition": "top center",
         "type": "scatter",
         "x": [
          46029586,
          21103492,
          46029210
         ],
         "xaxis": "x20",
         "y": [
          20,
          20,
          20
         ],
         "yaxis": "y20"
        },
        {
         "hoverinfo": "text",
         "hovertext": [
          "cg10644072<br>DSCAM<br>Exon<br>40846625.0"
         ],
         "marker": {
          "color": [
           "#414487"
          ],
          "line": {
           "color": "black",
           "width": 0.5
          },
          "size": 10,
          "symbol": "square"
         },
         "mode": "markers+text",
         "showlegend": false,
         "text": [
          "DSCAM"
         ],
         "textfont": {
          "color": "black",
          "size": 10
         },
         "textposition": "top center",
         "type": "scatter",
         "x": [
          40846625
         ],
         "xaxis": "x21",
         "y": [
          21
         ],
         "yaxis": "y21"
        },
        {
         "hoverinfo": "text",
         "hovertext": [
          "cg24597392<br>RBFOX2<br>Exon<br>35768289.0",
          "cg07423797<br>SCUBE1<br>Exon<br>43262719.0",
          "cg15746205<br>EWSR1<br>Exon<br>29290369.0"
         ],
         "marker": {
          "color": [
           "#414487",
           "#414487",
           "#414487"
          ],
          "line": {
           "color": "black",
           "width": 0.5
          },
          "size": 10,
          "symbol": "square"
         },
         "mode": "markers+text",
         "showlegend": false,
         "text": [
          "RBFOX2",
          "SCUBE1",
          "EWSR1"
         ],
         "textfont": {
          "color": "black",
          "size": 10
         },
         "textposition": "top center",
         "type": "scatter",
         "x": [
          35768289,
          43262719,
          29290369
         ],
         "xaxis": "x22",
         "y": [
          22,
          22,
          22
         ],
         "yaxis": "y22"
        },
        {
         "hoverinfo": "text",
         "hovertext": [
          "cg05901294<br>NLGN3<br>Exon<br>71148868.0",
          "cg17829569<br>LINC01282<br>Intergenic_upstream<br>39514829.0"
         ],
         "marker": {
          "color": [
           "#414487",
           "#fde725"
          ],
          "line": {
           "color": "black",
           "width": 0.5
          },
          "size": 10,
          "symbol": "square"
         },
         "mode": "markers+text",
         "showlegend": false,
         "text": [
          "NLGN3",
          "LINC01282"
         ],
         "textfont": {
          "color": "black",
          "size": 10
         },
         "textposition": "top center",
         "type": "scatter",
         "x": [
          71148868,
          39514829
         ],
         "xaxis": "x23",
         "y": [
          23,
          23
         ],
         "yaxis": "y23"
        },
        {
         "legendgroup": "Intron",
         "marker": {
          "color": "#440154",
          "size": 10,
          "symbol": "square"
         },
         "mode": "markers",
         "name": "Intron",
         "showlegend": true,
         "type": "scatter",
         "x": [
          null
         ],
         "y": [
          null
         ]
        },
        {
         "legendgroup": "Exon",
         "marker": {
          "color": "#414487",
          "size": 10,
          "symbol": "square"
         },
         "mode": "markers",
         "name": "Exon",
         "showlegend": true,
         "type": "scatter",
         "x": [
          null
         ],
         "y": [
          null
         ]
        },
        {
         "legendgroup": "Promoter",
         "marker": {
          "color": "#355f8d",
          "size": 10,
          "symbol": "square"
         },
         "mode": "markers",
         "name": "Promoter",
         "showlegend": true,
         "type": "scatter",
         "x": [
          null
         ],
         "y": [
          null
         ]
        },
        {
         "legendgroup": "threeUTR",
         "marker": {
          "color": "#21918c",
          "size": 10,
          "symbol": "square"
         },
         "mode": "markers",
         "name": "threeUTR",
         "showlegend": true,
         "type": "scatter",
         "x": [
          null
         ],
         "y": [
          null
         ]
        },
        {
         "legendgroup": "Intergenic_downstream",
         "marker": {
          "color": "#44bf70",
          "size": 10,
          "symbol": "square"
         },
         "mode": "markers",
         "name": "Intergenic_downstream",
         "showlegend": true,
         "type": "scatter",
         "x": [
          null
         ],
         "y": [
          null
         ]
        },
        {
         "legendgroup": "fiveUTR",
         "marker": {
          "color": "#7ad151",
          "size": 10,
          "symbol": "square"
         },
         "mode": "markers",
         "name": "fiveUTR",
         "showlegend": true,
         "type": "scatter",
         "x": [
          null
         ],
         "y": [
          null
         ]
        },
        {
         "legendgroup": "Intergenic_upstream",
         "marker": {
          "color": "#fde725",
          "size": 10,
          "symbol": "square"
         },
         "mode": "markers",
         "name": "Intergenic_upstream",
         "showlegend": true,
         "type": "scatter",
         "x": [
          null
         ],
         "y": [
          null
         ]
        }
       ],
       "layout": {
        "annotations": [
         {
          "font": {
           "size": 16
          },
          "showarrow": false,
          "text": "chr1",
          "x": 0.5,
          "xanchor": "center",
          "xref": "paper",
          "y": 1,
          "yanchor": "bottom",
          "yref": "paper"
         },
         {
          "font": {
           "size": 16
          },
          "showarrow": false,
          "text": "chr2",
          "x": 0.5,
          "xanchor": "center",
          "xref": "paper",
          "y": 0.9556521739130435,
          "yanchor": "bottom",
          "yref": "paper"
         },
         {
          "font": {
           "size": 16
          },
          "showarrow": false,
          "text": "chr3",
          "x": 0.5,
          "xanchor": "center",
          "xref": "paper",
          "y": 0.911304347826087,
          "yanchor": "bottom",
          "yref": "paper"
         },
         {
          "font": {
           "size": 16
          },
          "showarrow": false,
          "text": "chr4",
          "x": 0.5,
          "xanchor": "center",
          "xref": "paper",
          "y": 0.8669565217391305,
          "yanchor": "bottom",
          "yref": "paper"
         },
         {
          "font": {
           "size": 16
          },
          "showarrow": false,
          "text": "chr5",
          "x": 0.5,
          "xanchor": "center",
          "xref": "paper",
          "y": 0.8226086956521739,
          "yanchor": "bottom",
          "yref": "paper"
         },
         {
          "font": {
           "size": 16
          },
          "showarrow": false,
          "text": "chr6",
          "x": 0.5,
          "xanchor": "center",
          "xref": "paper",
          "y": 0.7782608695652175,
          "yanchor": "bottom",
          "yref": "paper"
         },
         {
          "font": {
           "size": 16
          },
          "showarrow": false,
          "text": "chr7",
          "x": 0.5,
          "xanchor": "center",
          "xref": "paper",
          "y": 0.7339130434782609,
          "yanchor": "bottom",
          "yref": "paper"
         },
         {
          "font": {
           "size": 16
          },
          "showarrow": false,
          "text": "chr8",
          "x": 0.5,
          "xanchor": "center",
          "xref": "paper",
          "y": 0.6895652173913044,
          "yanchor": "bottom",
          "yref": "paper"
         },
         {
          "font": {
           "size": 16
          },
          "showarrow": false,
          "text": "chr9",
          "x": 0.5,
          "xanchor": "center",
          "xref": "paper",
          "y": 0.645217391304348,
          "yanchor": "bottom",
          "yref": "paper"
         },
         {
          "font": {
           "size": 16
          },
          "showarrow": false,
          "text": "chr10",
          "x": 0.5,
          "xanchor": "center",
          "xref": "paper",
          "y": 0.6008695652173913,
          "yanchor": "bottom",
          "yref": "paper"
         },
         {
          "font": {
           "size": 16
          },
          "showarrow": false,
          "text": "chr11",
          "x": 0.5,
          "xanchor": "center",
          "xref": "paper",
          "y": 0.5565217391304348,
          "yanchor": "bottom",
          "yref": "paper"
         },
         {
          "font": {
           "size": 16
          },
          "showarrow": false,
          "text": "chr12",
          "x": 0.5,
          "xanchor": "center",
          "xref": "paper",
          "y": 0.5121739130434783,
          "yanchor": "bottom",
          "yref": "paper"
         },
         {
          "font": {
           "size": 16
          },
          "showarrow": false,
          "text": "chr13",
          "x": 0.5,
          "xanchor": "center",
          "xref": "paper",
          "y": 0.4678260869565218,
          "yanchor": "bottom",
          "yref": "paper"
         },
         {
          "font": {
           "size": 16
          },
          "showarrow": false,
          "text": "chr14",
          "x": 0.5,
          "xanchor": "center",
          "xref": "paper",
          "y": 0.4234782608695652,
          "yanchor": "bottom",
          "yref": "paper"
         },
         {
          "font": {
           "size": 16
          },
          "showarrow": false,
          "text": "chr15",
          "x": 0.5,
          "xanchor": "center",
          "xref": "paper",
          "y": 0.3791304347826087,
          "yanchor": "bottom",
          "yref": "paper"
         },
         {
          "font": {
           "size": 16
          },
          "showarrow": false,
          "text": "chr16",
          "x": 0.5,
          "xanchor": "center",
          "xref": "paper",
          "y": 0.33478260869565224,
          "yanchor": "bottom",
          "yref": "paper"
         },
         {
          "font": {
           "size": 16
          },
          "showarrow": false,
          "text": "chr17",
          "x": 0.5,
          "xanchor": "center",
          "xref": "paper",
          "y": 0.29043478260869565,
          "yanchor": "bottom",
          "yref": "paper"
         },
         {
          "font": {
           "size": 16
          },
          "showarrow": false,
          "text": "chr18",
          "x": 0.5,
          "xanchor": "center",
          "xref": "paper",
          "y": 0.24608695652173915,
          "yanchor": "bottom",
          "yref": "paper"
         },
         {
          "font": {
           "size": 16
          },
          "showarrow": false,
          "text": "chr19",
          "x": 0.5,
          "xanchor": "center",
          "xref": "paper",
          "y": 0.20173913043478262,
          "yanchor": "bottom",
          "yref": "paper"
         },
         {
          "font": {
           "size": 16
          },
          "showarrow": false,
          "text": "chr20",
          "x": 0.5,
          "xanchor": "center",
          "xref": "paper",
          "y": 0.15739130434782608,
          "yanchor": "bottom",
          "yref": "paper"
         },
         {
          "font": {
           "size": 16
          },
          "showarrow": false,
          "text": "chr21",
          "x": 0.5,
          "xanchor": "center",
          "xref": "paper",
          "y": 0.11304347826086958,
          "yanchor": "bottom",
          "yref": "paper"
         },
         {
          "font": {
           "size": 16
          },
          "showarrow": false,
          "text": "chr22",
          "x": 0.5,
          "xanchor": "center",
          "xref": "paper",
          "y": 0.06869565217391305,
          "yanchor": "bottom",
          "yref": "paper"
         },
         {
          "font": {
           "size": 16
          },
          "showarrow": false,
          "text": "chrX",
          "x": 0.5,
          "xanchor": "center",
          "xref": "paper",
          "y": 0.024347826086956525,
          "yanchor": "bottom",
          "yref": "paper"
         }
        ],
        "height": 2300,
        "hovermode": "closest",
        "showlegend": true,
        "template": {
         "data": {
          "bar": [
           {
            "error_x": {
             "color": "#2a3f5f"
            },
            "error_y": {
             "color": "#2a3f5f"
            },
            "marker": {
             "line": {
              "color": "#E5ECF6",
              "width": 0.5
             },
             "pattern": {
              "fillmode": "overlay",
              "size": 10,
              "solidity": 0.2
             }
            },
            "type": "bar"
           }
          ],
          "barpolar": [
           {
            "marker": {
             "line": {
              "color": "#E5ECF6",
              "width": 0.5
             },
             "pattern": {
              "fillmode": "overlay",
              "size": 10,
              "solidity": 0.2
             }
            },
            "type": "barpolar"
           }
          ],
          "carpet": [
           {
            "aaxis": {
             "endlinecolor": "#2a3f5f",
             "gridcolor": "white",
             "linecolor": "white",
             "minorgridcolor": "white",
             "startlinecolor": "#2a3f5f"
            },
            "baxis": {
             "endlinecolor": "#2a3f5f",
             "gridcolor": "white",
             "linecolor": "white",
             "minorgridcolor": "white",
             "startlinecolor": "#2a3f5f"
            },
            "type": "carpet"
           }
          ],
          "choropleth": [
           {
            "colorbar": {
             "outlinewidth": 0,
             "ticks": ""
            },
            "type": "choropleth"
           }
          ],
          "contour": [
           {
            "colorbar": {
             "outlinewidth": 0,
             "ticks": ""
            },
            "colorscale": [
             [
              0,
              "#0d0887"
             ],
             [
              0.1111111111111111,
              "#46039f"
             ],
             [
              0.2222222222222222,
              "#7201a8"
             ],
             [
              0.3333333333333333,
              "#9c179e"
             ],
             [
              0.4444444444444444,
              "#bd3786"
             ],
             [
              0.5555555555555556,
              "#d8576b"
             ],
             [
              0.6666666666666666,
              "#ed7953"
             ],
             [
              0.7777777777777778,
              "#fb9f3a"
             ],
             [
              0.8888888888888888,
              "#fdca26"
             ],
             [
              1,
              "#f0f921"
             ]
            ],
            "type": "contour"
           }
          ],
          "contourcarpet": [
           {
            "colorbar": {
             "outlinewidth": 0,
             "ticks": ""
            },
            "type": "contourcarpet"
           }
          ],
          "heatmap": [
           {
            "colorbar": {
             "outlinewidth": 0,
             "ticks": ""
            },
            "colorscale": [
             [
              0,
              "#0d0887"
             ],
             [
              0.1111111111111111,
              "#46039f"
             ],
             [
              0.2222222222222222,
              "#7201a8"
             ],
             [
              0.3333333333333333,
              "#9c179e"
             ],
             [
              0.4444444444444444,
              "#bd3786"
             ],
             [
              0.5555555555555556,
              "#d8576b"
             ],
             [
              0.6666666666666666,
              "#ed7953"
             ],
             [
              0.7777777777777778,
              "#fb9f3a"
             ],
             [
              0.8888888888888888,
              "#fdca26"
             ],
             [
              1,
              "#f0f921"
             ]
            ],
            "type": "heatmap"
           }
          ],
          "heatmapgl": [
           {
            "colorbar": {
             "outlinewidth": 0,
             "ticks": ""
            },
            "colorscale": [
             [
              0,
              "#0d0887"
             ],
             [
              0.1111111111111111,
              "#46039f"
             ],
             [
              0.2222222222222222,
              "#7201a8"
             ],
             [
              0.3333333333333333,
              "#9c179e"
             ],
             [
              0.4444444444444444,
              "#bd3786"
             ],
             [
              0.5555555555555556,
              "#d8576b"
             ],
             [
              0.6666666666666666,
              "#ed7953"
             ],
             [
              0.7777777777777778,
              "#fb9f3a"
             ],
             [
              0.8888888888888888,
              "#fdca26"
             ],
             [
              1,
              "#f0f921"
             ]
            ],
            "type": "heatmapgl"
           }
          ],
          "histogram": [
           {
            "marker": {
             "pattern": {
              "fillmode": "overlay",
              "size": 10,
              "solidity": 0.2
             }
            },
            "type": "histogram"
           }
          ],
          "histogram2d": [
           {
            "colorbar": {
             "outlinewidth": 0,
             "ticks": ""
            },
            "colorscale": [
             [
              0,
              "#0d0887"
             ],
             [
              0.1111111111111111,
              "#46039f"
             ],
             [
              0.2222222222222222,
              "#7201a8"
             ],
             [
              0.3333333333333333,
              "#9c179e"
             ],
             [
              0.4444444444444444,
              "#bd3786"
             ],
             [
              0.5555555555555556,
              "#d8576b"
             ],
             [
              0.6666666666666666,
              "#ed7953"
             ],
             [
              0.7777777777777778,
              "#fb9f3a"
             ],
             [
              0.8888888888888888,
              "#fdca26"
             ],
             [
              1,
              "#f0f921"
             ]
            ],
            "type": "histogram2d"
           }
          ],
          "histogram2dcontour": [
           {
            "colorbar": {
             "outlinewidth": 0,
             "ticks": ""
            },
            "colorscale": [
             [
              0,
              "#0d0887"
             ],
             [
              0.1111111111111111,
              "#46039f"
             ],
             [
              0.2222222222222222,
              "#7201a8"
             ],
             [
              0.3333333333333333,
              "#9c179e"
             ],
             [
              0.4444444444444444,
              "#bd3786"
             ],
             [
              0.5555555555555556,
              "#d8576b"
             ],
             [
              0.6666666666666666,
              "#ed7953"
             ],
             [
              0.7777777777777778,
              "#fb9f3a"
             ],
             [
              0.8888888888888888,
              "#fdca26"
             ],
             [
              1,
              "#f0f921"
             ]
            ],
            "type": "histogram2dcontour"
           }
          ],
          "mesh3d": [
           {
            "colorbar": {
             "outlinewidth": 0,
             "ticks": ""
            },
            "type": "mesh3d"
           }
          ],
          "parcoords": [
           {
            "line": {
             "colorbar": {
              "outlinewidth": 0,
              "ticks": ""
             }
            },
            "type": "parcoords"
           }
          ],
          "pie": [
           {
            "automargin": true,
            "type": "pie"
           }
          ],
          "scatter": [
           {
            "fillpattern": {
             "fillmode": "overlay",
             "size": 10,
             "solidity": 0.2
            },
            "type": "scatter"
           }
          ],
          "scatter3d": [
           {
            "line": {
             "colorbar": {
              "outlinewidth": 0,
              "ticks": ""
             }
            },
            "marker": {
             "colorbar": {
              "outlinewidth": 0,
              "ticks": ""
             }
            },
            "type": "scatter3d"
           }
          ],
          "scattercarpet": [
           {
            "marker": {
             "colorbar": {
              "outlinewidth": 0,
              "ticks": ""
             }
            },
            "type": "scattercarpet"
           }
          ],
          "scattergeo": [
           {
            "marker": {
             "colorbar": {
              "outlinewidth": 0,
              "ticks": ""
             }
            },
            "type": "scattergeo"
           }
          ],
          "scattergl": [
           {
            "marker": {
             "colorbar": {
              "outlinewidth": 0,
              "ticks": ""
             }
            },
            "type": "scattergl"
           }
          ],
          "scattermapbox": [
           {
            "marker": {
             "colorbar": {
              "outlinewidth": 0,
              "ticks": ""
             }
            },
            "type": "scattermapbox"
           }
          ],
          "scatterpolar": [
           {
            "marker": {
             "colorbar": {
              "outlinewidth": 0,
              "ticks": ""
             }
            },
            "type": "scatterpolar"
           }
          ],
          "scatterpolargl": [
           {
            "marker": {
             "colorbar": {
              "outlinewidth": 0,
              "ticks": ""
             }
            },
            "type": "scatterpolargl"
           }
          ],
          "scatterternary": [
           {
            "marker": {
             "colorbar": {
              "outlinewidth": 0,
              "ticks": ""
             }
            },
            "type": "scatterternary"
           }
          ],
          "surface": [
           {
            "colorbar": {
             "outlinewidth": 0,
             "ticks": ""
            },
            "colorscale": [
             [
              0,
              "#0d0887"
             ],
             [
              0.1111111111111111,
              "#46039f"
             ],
             [
              0.2222222222222222,
              "#7201a8"
             ],
             [
              0.3333333333333333,
              "#9c179e"
             ],
             [
              0.4444444444444444,
              "#bd3786"
             ],
             [
              0.5555555555555556,
              "#d8576b"
             ],
             [
              0.6666666666666666,
              "#ed7953"
             ],
             [
              0.7777777777777778,
              "#fb9f3a"
             ],
             [
              0.8888888888888888,
              "#fdca26"
             ],
             [
              1,
              "#f0f921"
             ]
            ],
            "type": "surface"
           }
          ],
          "table": [
           {
            "cells": {
             "fill": {
              "color": "#EBF0F8"
             },
             "line": {
              "color": "white"
             }
            },
            "header": {
             "fill": {
              "color": "#C8D4E3"
             },
             "line": {
              "color": "white"
             }
            },
            "type": "table"
           }
          ]
         },
         "layout": {
          "annotationdefaults": {
           "arrowcolor": "#2a3f5f",
           "arrowhead": 0,
           "arrowwidth": 1
          },
          "autotypenumbers": "strict",
          "coloraxis": {
           "colorbar": {
            "outlinewidth": 0,
            "ticks": ""
           }
          },
          "colorscale": {
           "diverging": [
            [
             0,
             "#8e0152"
            ],
            [
             0.1,
             "#c51b7d"
            ],
            [
             0.2,
             "#de77ae"
            ],
            [
             0.3,
             "#f1b6da"
            ],
            [
             0.4,
             "#fde0ef"
            ],
            [
             0.5,
             "#f7f7f7"
            ],
            [
             0.6,
             "#e6f5d0"
            ],
            [
             0.7,
             "#b8e186"
            ],
            [
             0.8,
             "#7fbc41"
            ],
            [
             0.9,
             "#4d9221"
            ],
            [
             1,
             "#276419"
            ]
           ],
           "sequential": [
            [
             0,
             "#0d0887"
            ],
            [
             0.1111111111111111,
             "#46039f"
            ],
            [
             0.2222222222222222,
             "#7201a8"
            ],
            [
             0.3333333333333333,
             "#9c179e"
            ],
            [
             0.4444444444444444,
             "#bd3786"
            ],
            [
             0.5555555555555556,
             "#d8576b"
            ],
            [
             0.6666666666666666,
             "#ed7953"
            ],
            [
             0.7777777777777778,
             "#fb9f3a"
            ],
            [
             0.8888888888888888,
             "#fdca26"
            ],
            [
             1,
             "#f0f921"
            ]
           ],
           "sequentialminus": [
            [
             0,
             "#0d0887"
            ],
            [
             0.1111111111111111,
             "#46039f"
            ],
            [
             0.2222222222222222,
             "#7201a8"
            ],
            [
             0.3333333333333333,
             "#9c179e"
            ],
            [
             0.4444444444444444,
             "#bd3786"
            ],
            [
             0.5555555555555556,
             "#d8576b"
            ],
            [
             0.6666666666666666,
             "#ed7953"
            ],
            [
             0.7777777777777778,
             "#fb9f3a"
            ],
            [
             0.8888888888888888,
             "#fdca26"
            ],
            [
             1,
             "#f0f921"
            ]
           ]
          },
          "colorway": [
           "#636efa",
           "#EF553B",
           "#00cc96",
           "#ab63fa",
           "#FFA15A",
           "#19d3f3",
           "#FF6692",
           "#B6E880",
           "#FF97FF",
           "#FECB52"
          ],
          "font": {
           "color": "#2a3f5f"
          },
          "geo": {
           "bgcolor": "white",
           "lakecolor": "white",
           "landcolor": "#E5ECF6",
           "showlakes": true,
           "showland": true,
           "subunitcolor": "white"
          },
          "hoverlabel": {
           "align": "left"
          },
          "hovermode": "closest",
          "mapbox": {
           "style": "light"
          },
          "paper_bgcolor": "white",
          "plot_bgcolor": "#E5ECF6",
          "polar": {
           "angularaxis": {
            "gridcolor": "white",
            "linecolor": "white",
            "ticks": ""
           },
           "bgcolor": "#E5ECF6",
           "radialaxis": {
            "gridcolor": "white",
            "linecolor": "white",
            "ticks": ""
           }
          },
          "scene": {
           "xaxis": {
            "backgroundcolor": "#E5ECF6",
            "gridcolor": "white",
            "gridwidth": 2,
            "linecolor": "white",
            "showbackground": true,
            "ticks": "",
            "zerolinecolor": "white"
           },
           "yaxis": {
            "backgroundcolor": "#E5ECF6",
            "gridcolor": "white",
            "gridwidth": 2,
            "linecolor": "white",
            "showbackground": true,
            "ticks": "",
            "zerolinecolor": "white"
           },
           "zaxis": {
            "backgroundcolor": "#E5ECF6",
            "gridcolor": "white",
            "gridwidth": 2,
            "linecolor": "white",
            "showbackground": true,
            "ticks": "",
            "zerolinecolor": "white"
           }
          },
          "shapedefaults": {
           "line": {
            "color": "#2a3f5f"
           }
          },
          "ternary": {
           "aaxis": {
            "gridcolor": "white",
            "linecolor": "white",
            "ticks": ""
           },
           "baxis": {
            "gridcolor": "white",
            "linecolor": "white",
            "ticks": ""
           },
           "bgcolor": "#E5ECF6",
           "caxis": {
            "gridcolor": "white",
            "linecolor": "white",
            "ticks": ""
           }
          },
          "title": {
           "x": 0.05
          },
          "xaxis": {
           "automargin": true,
           "gridcolor": "white",
           "linecolor": "white",
           "ticks": "",
           "title": {
            "standoff": 15
           },
           "zerolinecolor": "white",
           "zerolinewidth": 2
          },
          "yaxis": {
           "automargin": true,
           "gridcolor": "white",
           "linecolor": "white",
           "ticks": "",
           "title": {
            "standoff": 15
           },
           "zerolinecolor": "white",
           "zerolinewidth": 2
          }
         }
        },
        "title": {
         "text": "Gene Annotation Visualization of Clock3 Relevant CpGs"
        },
        "width": 1200,
        "xaxis": {
         "anchor": "y",
         "domain": [
          0,
          1
         ]
        },
        "xaxis10": {
         "anchor": "y10",
         "domain": [
          0,
          1
         ]
        },
        "xaxis11": {
         "anchor": "y11",
         "domain": [
          0,
          1
         ]
        },
        "xaxis12": {
         "anchor": "y12",
         "domain": [
          0,
          1
         ]
        },
        "xaxis13": {
         "anchor": "y13",
         "domain": [
          0,
          1
         ]
        },
        "xaxis14": {
         "anchor": "y14",
         "domain": [
          0,
          1
         ]
        },
        "xaxis15": {
         "anchor": "y15",
         "domain": [
          0,
          1
         ]
        },
        "xaxis16": {
         "anchor": "y16",
         "domain": [
          0,
          1
         ]
        },
        "xaxis17": {
         "anchor": "y17",
         "domain": [
          0,
          1
         ]
        },
        "xaxis18": {
         "anchor": "y18",
         "domain": [
          0,
          1
         ]
        },
        "xaxis19": {
         "anchor": "y19",
         "domain": [
          0,
          1
         ]
        },
        "xaxis2": {
         "anchor": "y2",
         "domain": [
          0,
          1
         ]
        },
        "xaxis20": {
         "anchor": "y20",
         "domain": [
          0,
          1
         ]
        },
        "xaxis21": {
         "anchor": "y21",
         "domain": [
          0,
          1
         ]
        },
        "xaxis22": {
         "anchor": "y22",
         "domain": [
          0,
          1
         ]
        },
        "xaxis23": {
         "anchor": "y23",
         "domain": [
          0,
          1
         ]
        },
        "xaxis3": {
         "anchor": "y3",
         "domain": [
          0,
          1
         ]
        },
        "xaxis4": {
         "anchor": "y4",
         "domain": [
          0,
          1
         ]
        },
        "xaxis5": {
         "anchor": "y5",
         "domain": [
          0,
          1
         ]
        },
        "xaxis6": {
         "anchor": "y6",
         "domain": [
          0,
          1
         ]
        },
        "xaxis7": {
         "anchor": "y7",
         "domain": [
          0,
          1
         ]
        },
        "xaxis8": {
         "anchor": "y8",
         "domain": [
          0,
          1
         ]
        },
        "xaxis9": {
         "anchor": "y9",
         "domain": [
          0,
          1
         ]
        },
        "yaxis": {
         "anchor": "x",
         "domain": [
          0.9756521739130435,
          1
         ],
         "showgrid": false,
         "showticklabels": false
        },
        "yaxis10": {
         "anchor": "x10",
         "domain": [
          0.5765217391304348,
          0.6008695652173913
         ],
         "showgrid": false,
         "showticklabels": false
        },
        "yaxis11": {
         "anchor": "x11",
         "domain": [
          0.5321739130434783,
          0.5565217391304348
         ],
         "showgrid": false,
         "showticklabels": false
        },
        "yaxis12": {
         "anchor": "x12",
         "domain": [
          0.48782608695652174,
          0.5121739130434783
         ],
         "showgrid": false,
         "showticklabels": false
        },
        "yaxis13": {
         "anchor": "x13",
         "domain": [
          0.44347826086956527,
          0.4678260869565218
         ],
         "showgrid": false,
         "showticklabels": false
        },
        "yaxis14": {
         "anchor": "x14",
         "domain": [
          0.3991304347826087,
          0.4234782608695652
         ],
         "showgrid": false,
         "showticklabels": false
        },
        "yaxis15": {
         "anchor": "x15",
         "domain": [
          0.3547826086956522,
          0.3791304347826087
         ],
         "showgrid": false,
         "showticklabels": false
        },
        "yaxis16": {
         "anchor": "x16",
         "domain": [
          0.3104347826086957,
          0.33478260869565224
         ],
         "showgrid": false,
         "showticklabels": false
        },
        "yaxis17": {
         "anchor": "x17",
         "domain": [
          0.26608695652173914,
          0.29043478260869565
         ],
         "showgrid": false,
         "showticklabels": false
        },
        "yaxis18": {
         "anchor": "x18",
         "domain": [
          0.22173913043478263,
          0.24608695652173915
         ],
         "showgrid": false,
         "showticklabels": false
        },
        "yaxis19": {
         "anchor": "x19",
         "domain": [
          0.1773913043478261,
          0.20173913043478262
         ],
         "showgrid": false,
         "showticklabels": false
        },
        "yaxis2": {
         "anchor": "x2",
         "domain": [
          0.931304347826087,
          0.9556521739130435
         ],
         "showgrid": false,
         "showticklabels": false
        },
        "yaxis20": {
         "anchor": "x20",
         "domain": [
          0.13304347826086957,
          0.15739130434782608
         ],
         "showgrid": false,
         "showticklabels": false
        },
        "yaxis21": {
         "anchor": "x21",
         "domain": [
          0.08869565217391305,
          0.11304347826086958
         ],
         "showgrid": false,
         "showticklabels": false
        },
        "yaxis22": {
         "anchor": "x22",
         "domain": [
          0.044347826086956525,
          0.06869565217391305
         ],
         "showgrid": false,
         "showticklabels": false
        },
        "yaxis23": {
         "anchor": "x23",
         "domain": [
          0,
          0.024347826086956525
         ],
         "showgrid": false,
         "showticklabels": false
        },
        "yaxis3": {
         "anchor": "x3",
         "domain": [
          0.8869565217391305,
          0.911304347826087
         ],
         "showgrid": false,
         "showticklabels": false
        },
        "yaxis4": {
         "anchor": "x4",
         "domain": [
          0.842608695652174,
          0.8669565217391305
         ],
         "showgrid": false,
         "showticklabels": false
        },
        "yaxis5": {
         "anchor": "x5",
         "domain": [
          0.7982608695652174,
          0.8226086956521739
         ],
         "showgrid": false,
         "showticklabels": false
        },
        "yaxis6": {
         "anchor": "x6",
         "domain": [
          0.7539130434782609,
          0.7782608695652175
         ],
         "showgrid": false,
         "showticklabels": false
        },
        "yaxis7": {
         "anchor": "x7",
         "domain": [
          0.7095652173913044,
          0.7339130434782609
         ],
         "showgrid": false,
         "showticklabels": false
        },
        "yaxis8": {
         "anchor": "x8",
         "domain": [
          0.6652173913043479,
          0.6895652173913044
         ],
         "showgrid": false,
         "showticklabels": false
        },
        "yaxis9": {
         "anchor": "x9",
         "domain": [
          0.6208695652173915,
          0.645217391304348
         ],
         "showgrid": false,
         "showticklabels": false
        }
       }
      }
     },
     "metadata": {},
     "output_type": "display_data"
    },
    {
     "data": {
      "application/vnd.plotly.v1+json": {
       "config": {
        "plotlyServerURL": "https://plot.ly"
       },
       "data": [
        {
         "hoverinfo": "text",
         "hovertext": [
          "cg05817746<br>ERI3<br>Intron<br>44296999.0",
          "cg06392591<br>PBX1<br>Intron<br>164651460.0",
          "cg08402704<br>LINC01763<br>Exon<br>90851824.0",
          "cg09360996<br>PROX1<br>Exon<br>213996654.0",
          "cg10501210<br>MIR29B2CHG<br>Intron<br>207823675.0",
          "cg09809672<br>EDARADD<br>fiveUTR<br>236394382.0",
          "cg23405931<br>CDC7<br>Exon<br>91513975.0",
          "cg27228973<br>FOXO6-AS1<br>Intergenic_upstream<br>41404380.0",
          "cg21102477<br>CSMD2<br>fiveUTR<br>34165243.0",
          "cg02551294<br>LINC01739<br>Intron<br>62999399.0",
          "cg02456804<br>FAM78B<br>Exon<br>166070621.0",
          "cg19291010<br>BCL9<br>Exon<br>147612914.0",
          "cg00098422<br>WDR26<br>threeUTR<br>224389815.0",
          "cg00258262<br>LINC02609<br>Exon<br>90828767.0"
         ],
         "marker": {
          "color": [
           "#440154",
           "#440154",
           "#414487",
           "#414487",
           "#440154",
           "#7ad151",
           "#414487",
           "#fde725",
           "#7ad151",
           "#440154",
           "#414487",
           "#414487",
           "#21918c",
           "#414487"
          ],
          "line": {
           "color": "black",
           "width": 0.5
          },
          "size": 10,
          "symbol": "square"
         },
         "mode": "markers+text",
         "showlegend": false,
         "text": [
          "ERI3",
          "PBX1",
          "LINC01763",
          "PROX1",
          "MIR29B2CHG",
          "EDARADD",
          "CDC7",
          "FOXO6-AS1",
          "CSMD2",
          "LINC01739",
          "FAM78B",
          "BCL9",
          "WDR26",
          "LINC02609"
         ],
         "textfont": {
          "color": "black",
          "size": 10
         },
         "textposition": "top center",
         "type": "scatter",
         "x": [
          44296999,
          164651460,
          90851824,
          213996654,
          207823675,
          236394382,
          91513975,
          41404380,
          34165243,
          62999399,
          166070621,
          147612914,
          224389815,
          90828767
         ],
         "xaxis": "x",
         "y": [
          1,
          1,
          1,
          1,
          1,
          1,
          1,
          1,
          1,
          1,
          1,
          1,
          1,
          1
         ],
         "yaxis": "y"
        },
        {
         "hoverinfo": "text",
         "hovertext": [
          "cg01998606<br>ZEB2<br>fiveUTR<br>144403976.0",
          "cg14361875<br>LINC01812<br>Intergenic_upstream<br>67846376.0",
          "cg22454769<br>FHL2<br>fiveUTR<br>105399310.0",
          "cg17905888<br>LINC01876<br>Intergenic_downstream<br>155727368.0"
         ],
         "marker": {
          "color": [
           "#7ad151",
           "#fde725",
           "#7ad151",
           "#44bf70"
          ],
          "line": {
           "color": "black",
           "width": 0.5
          },
          "size": 10,
          "symbol": "square"
         },
         "mode": "markers+text",
         "showlegend": false,
         "text": [
          "ZEB2",
          "LINC01812",
          "FHL2",
          "LINC01876"
         ],
         "textfont": {
          "color": "black",
          "size": 10
         },
         "textposition": "top center",
         "type": "scatter",
         "x": [
          144403976,
          67846376,
          105399310,
          155727368
         ],
         "xaxis": "x2",
         "y": [
          2,
          2,
          2,
          2
         ],
         "yaxis": "y2"
        },
        {
         "hoverinfo": "text",
         "hovertext": [
          "cg19931377<br>ZBTB20<br>Intron<br>114616166.0",
          "cg06156376<br>RSRC1<br>fiveUTR<br>158106025.0",
          "cg05261703<br>SETD5<br>threeUTR<br>9434050.0",
          "cg00106940<br>SOX2-OT<br>Exon<br>181712691.0",
          "cg10246778<br>MECOM<br>Intron<br>169574481.0"
         ],
         "marker": {
          "color": [
           "#440154",
           "#7ad151",
           "#21918c",
           "#414487",
           "#440154"
          ],
          "line": {
           "color": "black",
           "width": 0.5
          },
          "size": 10,
          "symbol": "square"
         },
         "mode": "markers+text",
         "showlegend": false,
         "text": [
          "ZBTB20",
          "RSRC1",
          "SETD5",
          "SOX2-OT",
          "MECOM"
         ],
         "textfont": {
          "color": "black",
          "size": 10
         },
         "textposition": "top center",
         "type": "scatter",
         "x": [
          114616166,
          158106025,
          9434050,
          181712691,
          169574481
         ],
         "xaxis": "x3",
         "y": [
          3,
          3,
          3,
          3,
          3
         ],
         "yaxis": "y3"
        },
        {
         "hoverinfo": "text",
         "hovertext": [
          "cg05584618<br>UNC5C<br>Intron<br>95505316.0"
         ],
         "marker": {
          "color": [
           "#440154"
          ],
          "line": {
           "color": "black",
           "width": 0.5
          },
          "size": 10,
          "symbol": "square"
         },
         "mode": "markers+text",
         "showlegend": false,
         "text": [
          "UNC5C"
         ],
         "textfont": {
          "color": "black",
          "size": 10
         },
         "textposition": "top center",
         "type": "scatter",
         "x": [
          95505316
         ],
         "xaxis": "x4",
         "y": [
          4
         ],
         "yaxis": "y4"
        },
        {
         "hoverinfo": "text",
         "hovertext": [
          "cg20432508<br>SREK1<br>threeUTR<br>66162474.0",
          "cg08030321<br>NR2F1-AS1<br>Intergenic_downstream<br>93191253.0",
          "cg18223258<br>ISL1<br>Intergenic_downstream<br>51399170.0",
          "cg06482098<br>CTNND2<br>Exon<br>11384925.0"
         ],
         "marker": {
          "color": [
           "#21918c",
           "#44bf70",
           "#44bf70",
           "#414487"
          ],
          "line": {
           "color": "black",
           "width": 0.5
          },
          "size": 10,
          "symbol": "square"
         },
         "mode": "markers+text",
         "showlegend": false,
         "text": [
          "SREK1",
          "NR2F1-AS1",
          "ISL1",
          "CTNND2"
         ],
         "textfont": {
          "color": "black",
          "size": 10
         },
         "textposition": "top center",
         "type": "scatter",
         "x": [
          66162474,
          93191253,
          51399170,
          11384925
         ],
         "xaxis": "x5",
         "y": [
          5,
          5,
          5,
          5
         ],
         "yaxis": "y5"
        },
        {
         "hoverinfo": "text",
         "hovertext": [
          "cg05844937<br>FOXC1<br>Intergenic_downstream<br>1613906.0",
          "cg06472065<br>SYNGAP1<br>Exon<br>33426669.0",
          "cg11614630<br>DLL1<br>Intron<br>170293823.0",
          "cg20212950<br>QKI<br>threeUTR<br>163566741.0",
          "cg09817427<br>TBX18<br>fiveUTR<br>84764595.0",
          "cg00689383<br>GRM1<br>Exon<br>146399362.0",
          "cg16867657<br>ELOVL2-AS1<br>Exon<br>11044644.0",
          "cg17266282<br>LINC02527<br>Intergenic_upstream<br>111973329.0",
          "cg18093751<br>NR2E1<br>Promoter<br>108165979.0",
          "cg21703944<br>SCUBE3<br>Intron<br>35243580.0"
         ],
         "marker": {
          "color": [
           "#44bf70",
           "#414487",
           "#440154",
           "#21918c",
           "#7ad151",
           "#414487",
           "#414487",
           "#fde725",
           "#355f8d",
           "#440154"
          ],
          "line": {
           "color": "black",
           "width": 0.5
          },
          "size": 10,
          "symbol": "square"
         },
         "mode": "markers+text",
         "showlegend": false,
         "text": [
          "FOXC1",
          "SYNGAP1",
          "DLL1",
          "QKI",
          "TBX18",
          "GRM1",
          "ELOVL2-AS1",
          "LINC02527",
          "NR2E1",
          "SCUBE3"
         ],
         "textfont": {
          "color": "black",
          "size": 10
         },
         "textposition": "top center",
         "type": "scatter",
         "x": [
          1613906,
          33426669,
          170293823,
          163566741,
          84764595,
          146399362,
          11044644,
          111973329,
          108165979,
          35243580
         ],
         "xaxis": "x6",
         "y": [
          6,
          6,
          6,
          6,
          6,
          6,
          6,
          6,
          6,
          6
         ],
         "yaxis": "y6"
        },
        {
         "hoverinfo": "text",
         "hovertext": [
          "cg12981876<br>GIGYF1<br>Exon<br>100682172.0",
          "cg08570512<br>DGKI<br>fiveUTR<br>137623483.0",
          "cg03820088<br>TRA2A<br>fiveUTR<br>23522229.0",
          "cg01019040<br>LHFPL3<br>Exon<br>104328968.0",
          "cg15171944<br>MIR148A<br>Exon<br>25949963.0",
          "cg14548925<br>ATXN7L1<br>Exon<br>105876510.0",
          "cg09474015<br>HOXA10-HOXA9<br>Exon<br>27165104.0",
          "cg00096922<br>DLX5<br>fiveUTR<br>97024873.0",
          "cg07293320<br>UNCX<br>Intergenic_downstream<br>1237655.0",
          "cg00250826<br>CALU<br>Exon<br>128754670.0"
         ],
         "marker": {
          "color": [
           "#414487",
           "#7ad151",
           "#7ad151",
           "#414487",
           "#414487",
           "#414487",
           "#414487",
           "#7ad151",
           "#44bf70",
           "#414487"
          ],
          "line": {
           "color": "black",
           "width": 0.5
          },
          "size": 10,
          "symbol": "square"
         },
         "mode": "markers+text",
         "showlegend": false,
         "text": [
          "GIGYF1",
          "DGKI",
          "TRA2A",
          "LHFPL3",
          "MIR148A",
          "ATXN7L1",
          "HOXA10-HOXA9",
          "DLX5",
          "UNCX",
          "CALU"
         ],
         "textfont": {
          "color": "black",
          "size": 10
         },
         "textposition": "top center",
         "type": "scatter",
         "x": [
          100682172,
          137623483,
          23522229,
          104328968,
          25949963,
          105876510,
          27165104,
          97024873,
          1237655,
          128754670
         ],
         "xaxis": "x7",
         "y": [
          7,
          7,
          7,
          7,
          7,
          7,
          7,
          7,
          7,
          7
         ],
         "yaxis": "y7"
        },
        {
         "hoverinfo": "text",
         "hovertext": [
          "cg06250511<br>NSMCE2<br>Intron<br>125219571.0",
          "cg06878766<br>PLAG1<br>Promoter<br>56210721.0",
          "cg18635807<br>EYA1<br>Exon<br>71354785.0",
          "cg12815291<br>ZC3H3<br>Intron<br>143439468.0",
          "cg18168101<br>BAALC-AS2<br>Promoter<br>103141399.0"
         ],
         "marker": {
          "color": [
           "#440154",
           "#355f8d",
           "#414487",
           "#440154",
           "#355f8d"
          ],
          "line": {
           "color": "black",
           "width": 0.5
          },
          "size": 10,
          "symbol": "square"
         },
         "mode": "markers+text",
         "showlegend": false,
         "text": [
          "NSMCE2",
          "PLAG1",
          "EYA1",
          "ZC3H3",
          "BAALC-AS2"
         ],
         "textfont": {
          "color": "black",
          "size": 10
         },
         "textposition": "top center",
         "type": "scatter",
         "x": [
          125219571,
          56210721,
          71354785,
          143439468,
          103141399
         ],
         "xaxis": "x8",
         "y": [
          8,
          8,
          8,
          8,
          8
         ],
         "yaxis": "y8"
        },
        {
         "hoverinfo": "text",
         "hovertext": [
          "cg09377007<br>MLLT3<br>Intron<br>20603560.0",
          "cg27547112<br>HNRNPK<br>Intron<br>83973650.0",
          "cg17516812<br>BNC2<br>Intron<br>16773158.0",
          "cg21633990<br>COL5A1<br>Exon<br>134830033.0",
          "cg10186512<br>MAPKAP1<br>Intron<br>125546052.0",
          "cg26581729<br>NPDC1<br>Promoter<br>137045340.0",
          "cg17604804<br>PTCH1<br>Intron<br>95460145.0"
         ],
         "marker": {
          "color": [
           "#440154",
           "#440154",
           "#440154",
           "#414487",
           "#440154",
           "#355f8d",
           "#440154"
          ],
          "line": {
           "color": "black",
           "width": 0.5
          },
          "size": 10,
          "symbol": "square"
         },
         "mode": "markers+text",
         "showlegend": false,
         "text": [
          "MLLT3",
          "HNRNPK",
          "BNC2",
          "COL5A1",
          "MAPKAP1",
          "NPDC1",
          "PTCH1"
         ],
         "textfont": {
          "color": "black",
          "size": 10
         },
         "textposition": "top center",
         "type": "scatter",
         "x": [
          20603560,
          83973650,
          16773158,
          134830033,
          125546052,
          137045340,
          95460145
         ],
         "xaxis": "x9",
         "y": [
          9,
          9,
          9,
          9,
          9,
          9,
          9
         ],
         "yaxis": "y9"
        },
        {
         "hoverinfo": "text",
         "hovertext": [
          "cg25824158<br>CAMK2G<br>Exon<br>73839578.0",
          "cg04706544<br>DRGX<br>Promoter<br>49396706.0",
          "cg17357006<br>VTI1A<br>Exon<br>112538434.0",
          "cg13935834<br>EBF3<br>Intron<br>129849719.0",
          "cg11488183<br>PRKG1<br>Intron<br>51397876.0",
          "cg16100840<br>PAX2<br>Intergenic_upstream<br>100707267.0"
         ],
         "marker": {
          "color": [
           "#414487",
           "#355f8d",
           "#414487",
           "#440154",
           "#440154",
           "#fde725"
          ],
          "line": {
           "color": "black",
           "width": 0.5
          },
          "size": 10,
          "symbol": "square"
         },
         "mode": "markers+text",
         "showlegend": false,
         "text": [
          "CAMK2G",
          "DRGX",
          "VTI1A",
          "EBF3",
          "PRKG1",
          "PAX2"
         ],
         "textfont": {
          "color": "black",
          "size": 10
         },
         "textposition": "top center",
         "type": "scatter",
         "x": [
          73839578,
          49396706,
          112538434,
          129849719,
          51397876,
          100707267
         ],
         "xaxis": "x10",
         "y": [
          10,
          10,
          10,
          10,
          10,
          10
         ],
         "yaxis": "y10"
        },
        {
         "hoverinfo": "text",
         "hovertext": [
          "cg27300575<br>YAP1<br>Exon<br>102209523.0",
          "cg01038105<br>TMX2-CTNND1<br>fiveUTR<br>57794027.0",
          "cg24653269<br>BCL9L<br>Intron<br>118916022.0",
          "cg02968236<br>TENM4<br>Intron<br>78786107.0",
          "cg25184118<br>NRXN2<br>Exon<br>64690444.0"
         ],
         "marker": {
          "color": [
           "#414487",
           "#7ad151",
           "#440154",
           "#440154",
           "#414487"
          ],
          "line": {
           "color": "black",
           "width": 0.5
          },
          "size": 10,
          "symbol": "square"
         },
         "mode": "markers+text",
         "showlegend": false,
         "text": [
          "YAP1",
          "TMX2-CTNND1",
          "BCL9L",
          "TENM4",
          "NRXN2"
         ],
         "textfont": {
          "color": "black",
          "size": 10
         },
         "textposition": "top center",
         "type": "scatter",
         "x": [
          102209523,
          57794027,
          118916022,
          78786107,
          64690444
         ],
         "xaxis": "x11",
         "y": [
          11,
          11,
          11,
          11,
          11
         ],
         "yaxis": "y11"
        },
        {
         "hoverinfo": "text",
         "hovertext": [
          "cg09008979<br>SP7<br>Intron<br>53336382.0",
          "cg14903956<br>GRIN2B<br>Exon<br>13562916.0",
          "cg05537515<br>MBD6<br>Exon<br>57529196.0",
          "cg05916870<br>CHD4<br>Promoter<br>6613214.0",
          "cg17116410<br>HOXC4<br>Exon<br>54037896.0",
          "cg18094982<br>SLCO1C1<br>fiveUTR<br>20695438.0",
          "cg26781330<br>ATF7<br>fiveUTR<br>53600991.0",
          "cg04204168<br>ATF7IP<br>Intergenic_upstream<br>14257734.0",
          "cg08563010<br>SOX5<br>Intron<br>23921603.0",
          "cg13935553<br>BHLHE41<br>threeUTR<br>26120667.0"
         ],
         "marker": {
          "color": [
           "#440154",
           "#414487",
           "#414487",
           "#355f8d",
           "#414487",
           "#7ad151",
           "#7ad151",
           "#fde725",
           "#440154",
           "#21918c"
          ],
          "line": {
           "color": "black",
           "width": 0.5
          },
          "size": 10,
          "symbol": "square"
         },
         "mode": "markers+text",
         "showlegend": false,
         "text": [
          "SP7",
          "GRIN2B",
          "MBD6",
          "CHD4",
          "HOXC4",
          "SLCO1C1",
          "ATF7",
          "ATF7IP",
          "SOX5",
          "BHLHE41"
         ],
         "textfont": {
          "color": "black",
          "size": 10
         },
         "textposition": "top center",
         "type": "scatter",
         "x": [
          53336382,
          13562916,
          57529196,
          6613214,
          54037896,
          20695438,
          53600991,
          14257734,
          23921603,
          26120667
         ],
         "xaxis": "x12",
         "y": [
          12,
          12,
          12,
          12,
          12,
          12,
          12,
          12,
          12,
          12
         ],
         "yaxis": "y12"
        },
        {
         "hoverinfo": "text",
         "hovertext": [
          "cg18894136<br>LINC00676<br>Intron<br>109667928.0",
          "cg24393114<br>FAM216B<br>Intergenic_upstream<br>42720528.0",
          "cg25639084<br>TNFRSF19<br>Intergenic_upstream<br>23559374.0",
          "cg12973326<br>PCDH17<br>Exon<br>57632930.0"
         ],
         "marker": {
          "color": [
           "#440154",
           "#fde725",
           "#fde725",
           "#414487"
          ],
          "line": {
           "color": "black",
           "width": 0.5
          },
          "size": 10,
          "symbol": "square"
         },
         "mode": "markers+text",
         "showlegend": false,
         "text": [
          "LINC00676",
          "FAM216B",
          "TNFRSF19",
          "PCDH17"
         ],
         "textfont": {
          "color": "black",
          "size": 10
         },
         "textposition": "top center",
         "type": "scatter",
         "x": [
          109667928,
          42720528,
          23559374,
          57632930
         ],
         "xaxis": "x13",
         "y": [
          13,
          13,
          13,
          13
         ],
         "yaxis": "y13"
        },
        {
         "hoverinfo": "text",
         "hovertext": [
          "cg20100200<br>PPP2R5E<br>threeUTR<br>63375966.0",
          "cg26476447<br>IFT43<br>Intron<br>76075669.0",
          "cg06790494<br>ACIN1<br>threeUTR<br>23068647.0",
          "cg15408728<br>DICER1<br>Intergenic_downstream<br>95008596.0",
          "cg07299823<br>UNC79<br>fiveUTR<br>93430776.0",
          "cg12449245<br>DPF3<br>Exon<br>72619953.0"
         ],
         "marker": {
          "color": [
           "#21918c",
           "#440154",
           "#21918c",
           "#44bf70",
           "#7ad151",
           "#414487"
          ],
          "line": {
           "color": "black",
           "width": 0.5
          },
          "size": 10,
          "symbol": "square"
         },
         "mode": "markers+text",
         "showlegend": false,
         "text": [
          "PPP2R5E",
          "IFT43",
          "ACIN1",
          "DICER1",
          "UNC79",
          "DPF3"
         ],
         "textfont": {
          "color": "black",
          "size": 10
         },
         "textposition": "top center",
         "type": "scatter",
         "x": [
          63375966,
          76075669,
          23068647,
          95008596,
          93430776,
          72619953
         ],
         "xaxis": "x14",
         "y": [
          14,
          14,
          14,
          14,
          14,
          14
         ],
         "yaxis": "y14"
        },
        {
         "hoverinfo": "text",
         "hovertext": [
          "cg25771548<br>OAZ2<br>threeUTR<br>64688789.0",
          "cg19296119<br>INSYN1-AS1<br>Intergenic_downstream<br>73774908.0"
         ],
         "marker": {
          "color": [
           "#21918c",
           "#44bf70"
          ],
          "line": {
           "color": "black",
           "width": 0.5
          },
          "size": 10,
          "symbol": "square"
         },
         "mode": "markers+text",
         "showlegend": false,
         "text": [
          "OAZ2",
          "INSYN1-AS1"
         ],
         "textfont": {
          "color": "black",
          "size": 10
         },
         "textposition": "top center",
         "type": "scatter",
         "x": [
          64688789,
          73774908
         ],
         "xaxis": "x15",
         "y": [
          15,
          15
         ],
         "yaxis": "y15"
        },
        {
         "hoverinfo": "text",
         "hovertext": [
          "cg13379618<br>PRKCB<br>Exon<br>24123922.0",
          "cg06779064<br>TNRC6A<br>threeUTR<br>24818649.0",
          "cg06736685<br>GSE1<br>Intron<br>85555743.0"
         ],
         "marker": {
          "color": [
           "#414487",
           "#21918c",
           "#440154"
          ],
          "line": {
           "color": "black",
           "width": 0.5
          },
          "size": 10,
          "symbol": "square"
         },
         "mode": "markers+text",
         "showlegend": false,
         "text": [
          "PRKCB",
          "TNRC6A",
          "GSE1"
         ],
         "textfont": {
          "color": "black",
          "size": 10
         },
         "textposition": "top center",
         "type": "scatter",
         "x": [
          24123922,
          24818649,
          85555743
         ],
         "xaxis": "x16",
         "y": [
          16,
          16,
          16
         ],
         "yaxis": "y16"
        },
        {
         "hoverinfo": "text",
         "hovertext": [
          "cg07005811<br>PHF12<br>Exon<br>28912612.0",
          "cg12501063<br>TANC2<br>Exon<br>63412706.0",
          "cg10381180<br>THRA<br>threeUTR<br>40092513.0",
          "cg24924928<br>NUFIP2<br>Exon<br>29286101.0",
          "cg00871371<br>SEPTIN9<br>Exon<br>77375394.0",
          "cg22144210<br>MSI2<br>threeUTR<br>57679579.0"
         ],
         "marker": {
          "color": [
           "#414487",
           "#414487",
           "#21918c",
           "#414487",
           "#414487",
           "#21918c"
          ],
          "line": {
           "color": "black",
           "width": 0.5
          },
          "size": 10,
          "symbol": "square"
         },
         "mode": "markers+text",
         "showlegend": false,
         "text": [
          "PHF12",
          "TANC2",
          "THRA",
          "NUFIP2",
          "SEPTIN9",
          "MSI2"
         ],
         "textfont": {
          "color": "black",
          "size": 10
         },
         "textposition": "top center",
         "type": "scatter",
         "x": [
          28912612,
          63412706,
          40092513,
          29286101,
          77375394,
          57679579
         ],
         "xaxis": "x17",
         "y": [
          17,
          17,
          17,
          17,
          17,
          17
         ],
         "yaxis": "y17"
        },
        {
         "hoverinfo": "text",
         "hovertext": [
          "cg21602520<br>BCL2<br>Exon<br>63318147.0",
          "cg27593991<br>TCF4<br>fiveUTR<br>55587081.0",
          "cg17769560<br>NOL4<br>Exon<br>34223154.0"
         ],
         "marker": {
          "color": [
           "#414487",
           "#7ad151",
           "#414487"
          ],
          "line": {
           "color": "black",
           "width": 0.5
          },
          "size": 10,
          "symbol": "square"
         },
         "mode": "markers+text",
         "showlegend": false,
         "text": [
          "BCL2",
          "TCF4",
          "NOL4"
         ],
         "textfont": {
          "color": "black",
          "size": 10
         },
         "textposition": "top center",
         "type": "scatter",
         "x": [
          63318147,
          55587081,
          34223154
         ],
         "xaxis": "x18",
         "y": [
          18,
          18,
          18
         ],
         "yaxis": "y18"
        },
        {
         "hoverinfo": "text",
         "hovertext": [
          "cg02376954<br>DAZAP1<br>Exon<br>1425897.0"
         ],
         "marker": {
          "color": [
           "#414487"
          ],
          "line": {
           "color": "black",
           "width": 0.5
          },
          "size": 10,
          "symbol": "square"
         },
         "mode": "markers+text",
         "showlegend": false,
         "text": [
          "DAZAP1"
         ],
         "textfont": {
          "color": "black",
          "size": 10
         },
         "textposition": "top center",
         "type": "scatter",
         "x": [
          1425897
         ],
         "xaxis": "x19",
         "y": [
          19
         ],
         "yaxis": "y19"
        },
        {
         "hoverinfo": "text",
         "hovertext": [
          "cg07547549<br>SLC12A5<br>Intron<br>46029586.0"
         ],
         "marker": {
          "color": [
           "#440154"
          ],
          "line": {
           "color": "black",
           "width": 0.5
          },
          "size": 10,
          "symbol": "square"
         },
         "mode": "markers+text",
         "showlegend": false,
         "text": [
          "SLC12A5"
         ],
         "textfont": {
          "color": "black",
          "size": 10
         },
         "textposition": "top center",
         "type": "scatter",
         "x": [
          46029586
         ],
         "xaxis": "x20",
         "y": [
          20
         ],
         "yaxis": "y20"
        },
        {
         "hoverinfo": "text",
         "hovertext": [
          "cg10644072<br>DSCAM<br>Exon<br>40846625.0"
         ],
         "marker": {
          "color": [
           "#414487"
          ],
          "line": {
           "color": "black",
           "width": 0.5
          },
          "size": 10,
          "symbol": "square"
         },
         "mode": "markers+text",
         "showlegend": false,
         "text": [
          "DSCAM"
         ],
         "textfont": {
          "color": "black",
          "size": 10
         },
         "textposition": "top center",
         "type": "scatter",
         "x": [
          40846625
         ],
         "xaxis": "x21",
         "y": [
          21
         ],
         "yaxis": "y21"
        },
        {
         "hoverinfo": "text",
         "hovertext": [
          "cg24597392<br>RBFOX2<br>Exon<br>35768289.0",
          "cg07423797<br>SCUBE1<br>Exon<br>43262719.0",
          "cg01594275<br>EP300<br>Intron<br>41160539.0"
         ],
         "marker": {
          "color": [
           "#414487",
           "#414487",
           "#440154"
          ],
          "line": {
           "color": "black",
           "width": 0.5
          },
          "size": 10,
          "symbol": "square"
         },
         "mode": "markers+text",
         "showlegend": false,
         "text": [
          "RBFOX2",
          "SCUBE1",
          "EP300"
         ],
         "textfont": {
          "color": "black",
          "size": 10
         },
         "textposition": "top center",
         "type": "scatter",
         "x": [
          35768289,
          43262719,
          41160539
         ],
         "xaxis": "x22",
         "y": [
          22,
          22,
          22
         ],
         "yaxis": "y22"
        },
        {
         "hoverinfo": "text",
         "hovertext": [
          "cg03222030<br>OGT<br>Exon<br>71547046.0"
         ],
         "marker": {
          "color": [
           "#414487"
          ],
          "line": {
           "color": "black",
           "width": 0.5
          },
          "size": 10,
          "symbol": "square"
         },
         "mode": "markers+text",
         "showlegend": false,
         "text": [
          "OGT"
         ],
         "textfont": {
          "color": "black",
          "size": 10
         },
         "textposition": "top center",
         "type": "scatter",
         "x": [
          71547046
         ],
         "xaxis": "x23",
         "y": [
          23
         ],
         "yaxis": "y23"
        },
        {
         "legendgroup": "Intron",
         "marker": {
          "color": "#440154",
          "size": 10,
          "symbol": "square"
         },
         "mode": "markers",
         "name": "Intron",
         "showlegend": true,
         "type": "scatter",
         "x": [
          null
         ],
         "y": [
          null
         ]
        },
        {
         "legendgroup": "Exon",
         "marker": {
          "color": "#414487",
          "size": 10,
          "symbol": "square"
         },
         "mode": "markers",
         "name": "Exon",
         "showlegend": true,
         "type": "scatter",
         "x": [
          null
         ],
         "y": [
          null
         ]
        },
        {
         "legendgroup": "Promoter",
         "marker": {
          "color": "#355f8d",
          "size": 10,
          "symbol": "square"
         },
         "mode": "markers",
         "name": "Promoter",
         "showlegend": true,
         "type": "scatter",
         "x": [
          null
         ],
         "y": [
          null
         ]
        },
        {
         "legendgroup": "threeUTR",
         "marker": {
          "color": "#21918c",
          "size": 10,
          "symbol": "square"
         },
         "mode": "markers",
         "name": "threeUTR",
         "showlegend": true,
         "type": "scatter",
         "x": [
          null
         ],
         "y": [
          null
         ]
        },
        {
         "legendgroup": "Intergenic_downstream",
         "marker": {
          "color": "#44bf70",
          "size": 10,
          "symbol": "square"
         },
         "mode": "markers",
         "name": "Intergenic_downstream",
         "showlegend": true,
         "type": "scatter",
         "x": [
          null
         ],
         "y": [
          null
         ]
        },
        {
         "legendgroup": "fiveUTR",
         "marker": {
          "color": "#7ad151",
          "size": 10,
          "symbol": "square"
         },
         "mode": "markers",
         "name": "fiveUTR",
         "showlegend": true,
         "type": "scatter",
         "x": [
          null
         ],
         "y": [
          null
         ]
        },
        {
         "legendgroup": "Intergenic_upstream",
         "marker": {
          "color": "#fde725",
          "size": 10,
          "symbol": "square"
         },
         "mode": "markers",
         "name": "Intergenic_upstream",
         "showlegend": true,
         "type": "scatter",
         "x": [
          null
         ],
         "y": [
          null
         ]
        }
       ],
       "layout": {
        "annotations": [
         {
          "font": {
           "size": 16
          },
          "showarrow": false,
          "text": "chr1",
          "x": 0.5,
          "xanchor": "center",
          "xref": "paper",
          "y": 1,
          "yanchor": "bottom",
          "yref": "paper"
         },
         {
          "font": {
           "size": 16
          },
          "showarrow": false,
          "text": "chr2",
          "x": 0.5,
          "xanchor": "center",
          "xref": "paper",
          "y": 0.9556521739130435,
          "yanchor": "bottom",
          "yref": "paper"
         },
         {
          "font": {
           "size": 16
          },
          "showarrow": false,
          "text": "chr3",
          "x": 0.5,
          "xanchor": "center",
          "xref": "paper",
          "y": 0.911304347826087,
          "yanchor": "bottom",
          "yref": "paper"
         },
         {
          "font": {
           "size": 16
          },
          "showarrow": false,
          "text": "chr4",
          "x": 0.5,
          "xanchor": "center",
          "xref": "paper",
          "y": 0.8669565217391305,
          "yanchor": "bottom",
          "yref": "paper"
         },
         {
          "font": {
           "size": 16
          },
          "showarrow": false,
          "text": "chr5",
          "x": 0.5,
          "xanchor": "center",
          "xref": "paper",
          "y": 0.8226086956521739,
          "yanchor": "bottom",
          "yref": "paper"
         },
         {
          "font": {
           "size": 16
          },
          "showarrow": false,
          "text": "chr6",
          "x": 0.5,
          "xanchor": "center",
          "xref": "paper",
          "y": 0.7782608695652175,
          "yanchor": "bottom",
          "yref": "paper"
         },
         {
          "font": {
           "size": 16
          },
          "showarrow": false,
          "text": "chr7",
          "x": 0.5,
          "xanchor": "center",
          "xref": "paper",
          "y": 0.7339130434782609,
          "yanchor": "bottom",
          "yref": "paper"
         },
         {
          "font": {
           "size": 16
          },
          "showarrow": false,
          "text": "chr8",
          "x": 0.5,
          "xanchor": "center",
          "xref": "paper",
          "y": 0.6895652173913044,
          "yanchor": "bottom",
          "yref": "paper"
         },
         {
          "font": {
           "size": 16
          },
          "showarrow": false,
          "text": "chr9",
          "x": 0.5,
          "xanchor": "center",
          "xref": "paper",
          "y": 0.645217391304348,
          "yanchor": "bottom",
          "yref": "paper"
         },
         {
          "font": {
           "size": 16
          },
          "showarrow": false,
          "text": "chr10",
          "x": 0.5,
          "xanchor": "center",
          "xref": "paper",
          "y": 0.6008695652173913,
          "yanchor": "bottom",
          "yref": "paper"
         },
         {
          "font": {
           "size": 16
          },
          "showarrow": false,
          "text": "chr11",
          "x": 0.5,
          "xanchor": "center",
          "xref": "paper",
          "y": 0.5565217391304348,
          "yanchor": "bottom",
          "yref": "paper"
         },
         {
          "font": {
           "size": 16
          },
          "showarrow": false,
          "text": "chr12",
          "x": 0.5,
          "xanchor": "center",
          "xref": "paper",
          "y": 0.5121739130434783,
          "yanchor": "bottom",
          "yref": "paper"
         },
         {
          "font": {
           "size": 16
          },
          "showarrow": false,
          "text": "chr13",
          "x": 0.5,
          "xanchor": "center",
          "xref": "paper",
          "y": 0.4678260869565218,
          "yanchor": "bottom",
          "yref": "paper"
         },
         {
          "font": {
           "size": 16
          },
          "showarrow": false,
          "text": "chr14",
          "x": 0.5,
          "xanchor": "center",
          "xref": "paper",
          "y": 0.4234782608695652,
          "yanchor": "bottom",
          "yref": "paper"
         },
         {
          "font": {
           "size": 16
          },
          "showarrow": false,
          "text": "chr15",
          "x": 0.5,
          "xanchor": "center",
          "xref": "paper",
          "y": 0.3791304347826087,
          "yanchor": "bottom",
          "yref": "paper"
         },
         {
          "font": {
           "size": 16
          },
          "showarrow": false,
          "text": "chr16",
          "x": 0.5,
          "xanchor": "center",
          "xref": "paper",
          "y": 0.33478260869565224,
          "yanchor": "bottom",
          "yref": "paper"
         },
         {
          "font": {
           "size": 16
          },
          "showarrow": false,
          "text": "chr17",
          "x": 0.5,
          "xanchor": "center",
          "xref": "paper",
          "y": 0.29043478260869565,
          "yanchor": "bottom",
          "yref": "paper"
         },
         {
          "font": {
           "size": 16
          },
          "showarrow": false,
          "text": "chr18",
          "x": 0.5,
          "xanchor": "center",
          "xref": "paper",
          "y": 0.24608695652173915,
          "yanchor": "bottom",
          "yref": "paper"
         },
         {
          "font": {
           "size": 16
          },
          "showarrow": false,
          "text": "chr19",
          "x": 0.5,
          "xanchor": "center",
          "xref": "paper",
          "y": 0.20173913043478262,
          "yanchor": "bottom",
          "yref": "paper"
         },
         {
          "font": {
           "size": 16
          },
          "showarrow": false,
          "text": "chr20",
          "x": 0.5,
          "xanchor": "center",
          "xref": "paper",
          "y": 0.15739130434782608,
          "yanchor": "bottom",
          "yref": "paper"
         },
         {
          "font": {
           "size": 16
          },
          "showarrow": false,
          "text": "chr21",
          "x": 0.5,
          "xanchor": "center",
          "xref": "paper",
          "y": 0.11304347826086958,
          "yanchor": "bottom",
          "yref": "paper"
         },
         {
          "font": {
           "size": 16
          },
          "showarrow": false,
          "text": "chr22",
          "x": 0.5,
          "xanchor": "center",
          "xref": "paper",
          "y": 0.06869565217391305,
          "yanchor": "bottom",
          "yref": "paper"
         },
         {
          "font": {
           "size": 16
          },
          "showarrow": false,
          "text": "chrX",
          "x": 0.5,
          "xanchor": "center",
          "xref": "paper",
          "y": 0.024347826086956525,
          "yanchor": "bottom",
          "yref": "paper"
         }
        ],
        "height": 2300,
        "hovermode": "closest",
        "showlegend": true,
        "template": {
         "data": {
          "bar": [
           {
            "error_x": {
             "color": "#2a3f5f"
            },
            "error_y": {
             "color": "#2a3f5f"
            },
            "marker": {
             "line": {
              "color": "#E5ECF6",
              "width": 0.5
             },
             "pattern": {
              "fillmode": "overlay",
              "size": 10,
              "solidity": 0.2
             }
            },
            "type": "bar"
           }
          ],
          "barpolar": [
           {
            "marker": {
             "line": {
              "color": "#E5ECF6",
              "width": 0.5
             },
             "pattern": {
              "fillmode": "overlay",
              "size": 10,
              "solidity": 0.2
             }
            },
            "type": "barpolar"
           }
          ],
          "carpet": [
           {
            "aaxis": {
             "endlinecolor": "#2a3f5f",
             "gridcolor": "white",
             "linecolor": "white",
             "minorgridcolor": "white",
             "startlinecolor": "#2a3f5f"
            },
            "baxis": {
             "endlinecolor": "#2a3f5f",
             "gridcolor": "white",
             "linecolor": "white",
             "minorgridcolor": "white",
             "startlinecolor": "#2a3f5f"
            },
            "type": "carpet"
           }
          ],
          "choropleth": [
           {
            "colorbar": {
             "outlinewidth": 0,
             "ticks": ""
            },
            "type": "choropleth"
           }
          ],
          "contour": [
           {
            "colorbar": {
             "outlinewidth": 0,
             "ticks": ""
            },
            "colorscale": [
             [
              0,
              "#0d0887"
             ],
             [
              0.1111111111111111,
              "#46039f"
             ],
             [
              0.2222222222222222,
              "#7201a8"
             ],
             [
              0.3333333333333333,
              "#9c179e"
             ],
             [
              0.4444444444444444,
              "#bd3786"
             ],
             [
              0.5555555555555556,
              "#d8576b"
             ],
             [
              0.6666666666666666,
              "#ed7953"
             ],
             [
              0.7777777777777778,
              "#fb9f3a"
             ],
             [
              0.8888888888888888,
              "#fdca26"
             ],
             [
              1,
              "#f0f921"
             ]
            ],
            "type": "contour"
           }
          ],
          "contourcarpet": [
           {
            "colorbar": {
             "outlinewidth": 0,
             "ticks": ""
            },
            "type": "contourcarpet"
           }
          ],
          "heatmap": [
           {
            "colorbar": {
             "outlinewidth": 0,
             "ticks": ""
            },
            "colorscale": [
             [
              0,
              "#0d0887"
             ],
             [
              0.1111111111111111,
              "#46039f"
             ],
             [
              0.2222222222222222,
              "#7201a8"
             ],
             [
              0.3333333333333333,
              "#9c179e"
             ],
             [
              0.4444444444444444,
              "#bd3786"
             ],
             [
              0.5555555555555556,
              "#d8576b"
             ],
             [
              0.6666666666666666,
              "#ed7953"
             ],
             [
              0.7777777777777778,
              "#fb9f3a"
             ],
             [
              0.8888888888888888,
              "#fdca26"
             ],
             [
              1,
              "#f0f921"
             ]
            ],
            "type": "heatmap"
           }
          ],
          "heatmapgl": [
           {
            "colorbar": {
             "outlinewidth": 0,
             "ticks": ""
            },
            "colorscale": [
             [
              0,
              "#0d0887"
             ],
             [
              0.1111111111111111,
              "#46039f"
             ],
             [
              0.2222222222222222,
              "#7201a8"
             ],
             [
              0.3333333333333333,
              "#9c179e"
             ],
             [
              0.4444444444444444,
              "#bd3786"
             ],
             [
              0.5555555555555556,
              "#d8576b"
             ],
             [
              0.6666666666666666,
              "#ed7953"
             ],
             [
              0.7777777777777778,
              "#fb9f3a"
             ],
             [
              0.8888888888888888,
              "#fdca26"
             ],
             [
              1,
              "#f0f921"
             ]
            ],
            "type": "heatmapgl"
           }
          ],
          "histogram": [
           {
            "marker": {
             "pattern": {
              "fillmode": "overlay",
              "size": 10,
              "solidity": 0.2
             }
            },
            "type": "histogram"
           }
          ],
          "histogram2d": [
           {
            "colorbar": {
             "outlinewidth": 0,
             "ticks": ""
            },
            "colorscale": [
             [
              0,
              "#0d0887"
             ],
             [
              0.1111111111111111,
              "#46039f"
             ],
             [
              0.2222222222222222,
              "#7201a8"
             ],
             [
              0.3333333333333333,
              "#9c179e"
             ],
             [
              0.4444444444444444,
              "#bd3786"
             ],
             [
              0.5555555555555556,
              "#d8576b"
             ],
             [
              0.6666666666666666,
              "#ed7953"
             ],
             [
              0.7777777777777778,
              "#fb9f3a"
             ],
             [
              0.8888888888888888,
              "#fdca26"
             ],
             [
              1,
              "#f0f921"
             ]
            ],
            "type": "histogram2d"
           }
          ],
          "histogram2dcontour": [
           {
            "colorbar": {
             "outlinewidth": 0,
             "ticks": ""
            },
            "colorscale": [
             [
              0,
              "#0d0887"
             ],
             [
              0.1111111111111111,
              "#46039f"
             ],
             [
              0.2222222222222222,
              "#7201a8"
             ],
             [
              0.3333333333333333,
              "#9c179e"
             ],
             [
              0.4444444444444444,
              "#bd3786"
             ],
             [
              0.5555555555555556,
              "#d8576b"
             ],
             [
              0.6666666666666666,
              "#ed7953"
             ],
             [
              0.7777777777777778,
              "#fb9f3a"
             ],
             [
              0.8888888888888888,
              "#fdca26"
             ],
             [
              1,
              "#f0f921"
             ]
            ],
            "type": "histogram2dcontour"
           }
          ],
          "mesh3d": [
           {
            "colorbar": {
             "outlinewidth": 0,
             "ticks": ""
            },
            "type": "mesh3d"
           }
          ],
          "parcoords": [
           {
            "line": {
             "colorbar": {
              "outlinewidth": 0,
              "ticks": ""
             }
            },
            "type": "parcoords"
           }
          ],
          "pie": [
           {
            "automargin": true,
            "type": "pie"
           }
          ],
          "scatter": [
           {
            "fillpattern": {
             "fillmode": "overlay",
             "size": 10,
             "solidity": 0.2
            },
            "type": "scatter"
           }
          ],
          "scatter3d": [
           {
            "line": {
             "colorbar": {
              "outlinewidth": 0,
              "ticks": ""
             }
            },
            "marker": {
             "colorbar": {
              "outlinewidth": 0,
              "ticks": ""
             }
            },
            "type": "scatter3d"
           }
          ],
          "scattercarpet": [
           {
            "marker": {
             "colorbar": {
              "outlinewidth": 0,
              "ticks": ""
             }
            },
            "type": "scattercarpet"
           }
          ],
          "scattergeo": [
           {
            "marker": {
             "colorbar": {
              "outlinewidth": 0,
              "ticks": ""
             }
            },
            "type": "scattergeo"
           }
          ],
          "scattergl": [
           {
            "marker": {
             "colorbar": {
              "outlinewidth": 0,
              "ticks": ""
             }
            },
            "type": "scattergl"
           }
          ],
          "scattermapbox": [
           {
            "marker": {
             "colorbar": {
              "outlinewidth": 0,
              "ticks": ""
             }
            },
            "type": "scattermapbox"
           }
          ],
          "scatterpolar": [
           {
            "marker": {
             "colorbar": {
              "outlinewidth": 0,
              "ticks": ""
             }
            },
            "type": "scatterpolar"
           }
          ],
          "scatterpolargl": [
           {
            "marker": {
             "colorbar": {
              "outlinewidth": 0,
              "ticks": ""
             }
            },
            "type": "scatterpolargl"
           }
          ],
          "scatterternary": [
           {
            "marker": {
             "colorbar": {
              "outlinewidth": 0,
              "ticks": ""
             }
            },
            "type": "scatterternary"
           }
          ],
          "surface": [
           {
            "colorbar": {
             "outlinewidth": 0,
             "ticks": ""
            },
            "colorscale": [
             [
              0,
              "#0d0887"
             ],
             [
              0.1111111111111111,
              "#46039f"
             ],
             [
              0.2222222222222222,
              "#7201a8"
             ],
             [
              0.3333333333333333,
              "#9c179e"
             ],
             [
              0.4444444444444444,
              "#bd3786"
             ],
             [
              0.5555555555555556,
              "#d8576b"
             ],
             [
              0.6666666666666666,
              "#ed7953"
             ],
             [
              0.7777777777777778,
              "#fb9f3a"
             ],
             [
              0.8888888888888888,
              "#fdca26"
             ],
             [
              1,
              "#f0f921"
             ]
            ],
            "type": "surface"
           }
          ],
          "table": [
           {
            "cells": {
             "fill": {
              "color": "#EBF0F8"
             },
             "line": {
              "color": "white"
             }
            },
            "header": {
             "fill": {
              "color": "#C8D4E3"
             },
             "line": {
              "color": "white"
             }
            },
            "type": "table"
           }
          ]
         },
         "layout": {
          "annotationdefaults": {
           "arrowcolor": "#2a3f5f",
           "arrowhead": 0,
           "arrowwidth": 1
          },
          "autotypenumbers": "strict",
          "coloraxis": {
           "colorbar": {
            "outlinewidth": 0,
            "ticks": ""
           }
          },
          "colorscale": {
           "diverging": [
            [
             0,
             "#8e0152"
            ],
            [
             0.1,
             "#c51b7d"
            ],
            [
             0.2,
             "#de77ae"
            ],
            [
             0.3,
             "#f1b6da"
            ],
            [
             0.4,
             "#fde0ef"
            ],
            [
             0.5,
             "#f7f7f7"
            ],
            [
             0.6,
             "#e6f5d0"
            ],
            [
             0.7,
             "#b8e186"
            ],
            [
             0.8,
             "#7fbc41"
            ],
            [
             0.9,
             "#4d9221"
            ],
            [
             1,
             "#276419"
            ]
           ],
           "sequential": [
            [
             0,
             "#0d0887"
            ],
            [
             0.1111111111111111,
             "#46039f"
            ],
            [
             0.2222222222222222,
             "#7201a8"
            ],
            [
             0.3333333333333333,
             "#9c179e"
            ],
            [
             0.4444444444444444,
             "#bd3786"
            ],
            [
             0.5555555555555556,
             "#d8576b"
            ],
            [
             0.6666666666666666,
             "#ed7953"
            ],
            [
             0.7777777777777778,
             "#fb9f3a"
            ],
            [
             0.8888888888888888,
             "#fdca26"
            ],
            [
             1,
             "#f0f921"
            ]
           ],
           "sequentialminus": [
            [
             0,
             "#0d0887"
            ],
            [
             0.1111111111111111,
             "#46039f"
            ],
            [
             0.2222222222222222,
             "#7201a8"
            ],
            [
             0.3333333333333333,
             "#9c179e"
            ],
            [
             0.4444444444444444,
             "#bd3786"
            ],
            [
             0.5555555555555556,
             "#d8576b"
            ],
            [
             0.6666666666666666,
             "#ed7953"
            ],
            [
             0.7777777777777778,
             "#fb9f3a"
            ],
            [
             0.8888888888888888,
             "#fdca26"
            ],
            [
             1,
             "#f0f921"
            ]
           ]
          },
          "colorway": [
           "#636efa",
           "#EF553B",
           "#00cc96",
           "#ab63fa",
           "#FFA15A",
           "#19d3f3",
           "#FF6692",
           "#B6E880",
           "#FF97FF",
           "#FECB52"
          ],
          "font": {
           "color": "#2a3f5f"
          },
          "geo": {
           "bgcolor": "white",
           "lakecolor": "white",
           "landcolor": "#E5ECF6",
           "showlakes": true,
           "showland": true,
           "subunitcolor": "white"
          },
          "hoverlabel": {
           "align": "left"
          },
          "hovermode": "closest",
          "mapbox": {
           "style": "light"
          },
          "paper_bgcolor": "white",
          "plot_bgcolor": "#E5ECF6",
          "polar": {
           "angularaxis": {
            "gridcolor": "white",
            "linecolor": "white",
            "ticks": ""
           },
           "bgcolor": "#E5ECF6",
           "radialaxis": {
            "gridcolor": "white",
            "linecolor": "white",
            "ticks": ""
           }
          },
          "scene": {
           "xaxis": {
            "backgroundcolor": "#E5ECF6",
            "gridcolor": "white",
            "gridwidth": 2,
            "linecolor": "white",
            "showbackground": true,
            "ticks": "",
            "zerolinecolor": "white"
           },
           "yaxis": {
            "backgroundcolor": "#E5ECF6",
            "gridcolor": "white",
            "gridwidth": 2,
            "linecolor": "white",
            "showbackground": true,
            "ticks": "",
            "zerolinecolor": "white"
           },
           "zaxis": {
            "backgroundcolor": "#E5ECF6",
            "gridcolor": "white",
            "gridwidth": 2,
            "linecolor": "white",
            "showbackground": true,
            "ticks": "",
            "zerolinecolor": "white"
           }
          },
          "shapedefaults": {
           "line": {
            "color": "#2a3f5f"
           }
          },
          "ternary": {
           "aaxis": {
            "gridcolor": "white",
            "linecolor": "white",
            "ticks": ""
           },
           "baxis": {
            "gridcolor": "white",
            "linecolor": "white",
            "ticks": ""
           },
           "bgcolor": "#E5ECF6",
           "caxis": {
            "gridcolor": "white",
            "linecolor": "white",
            "ticks": ""
           }
          },
          "title": {
           "x": 0.05
          },
          "xaxis": {
           "automargin": true,
           "gridcolor": "white",
           "linecolor": "white",
           "ticks": "",
           "title": {
            "standoff": 15
           },
           "zerolinecolor": "white",
           "zerolinewidth": 2
          },
          "yaxis": {
           "automargin": true,
           "gridcolor": "white",
           "linecolor": "white",
           "ticks": "",
           "title": {
            "standoff": 15
           },
           "zerolinecolor": "white",
           "zerolinewidth": 2
          }
         }
        },
        "title": {
         "text": "Gene Annotation Visualization of Clock2_3 Relevant CpGs"
        },
        "width": 1200,
        "xaxis": {
         "anchor": "y",
         "domain": [
          0,
          1
         ]
        },
        "xaxis10": {
         "anchor": "y10",
         "domain": [
          0,
          1
         ]
        },
        "xaxis11": {
         "anchor": "y11",
         "domain": [
          0,
          1
         ]
        },
        "xaxis12": {
         "anchor": "y12",
         "domain": [
          0,
          1
         ]
        },
        "xaxis13": {
         "anchor": "y13",
         "domain": [
          0,
          1
         ]
        },
        "xaxis14": {
         "anchor": "y14",
         "domain": [
          0,
          1
         ]
        },
        "xaxis15": {
         "anchor": "y15",
         "domain": [
          0,
          1
         ]
        },
        "xaxis16": {
         "anchor": "y16",
         "domain": [
          0,
          1
         ]
        },
        "xaxis17": {
         "anchor": "y17",
         "domain": [
          0,
          1
         ]
        },
        "xaxis18": {
         "anchor": "y18",
         "domain": [
          0,
          1
         ]
        },
        "xaxis19": {
         "anchor": "y19",
         "domain": [
          0,
          1
         ]
        },
        "xaxis2": {
         "anchor": "y2",
         "domain": [
          0,
          1
         ]
        },
        "xaxis20": {
         "anchor": "y20",
         "domain": [
          0,
          1
         ]
        },
        "xaxis21": {
         "anchor": "y21",
         "domain": [
          0,
          1
         ]
        },
        "xaxis22": {
         "anchor": "y22",
         "domain": [
          0,
          1
         ]
        },
        "xaxis23": {
         "anchor": "y23",
         "domain": [
          0,
          1
         ]
        },
        "xaxis3": {
         "anchor": "y3",
         "domain": [
          0,
          1
         ]
        },
        "xaxis4": {
         "anchor": "y4",
         "domain": [
          0,
          1
         ]
        },
        "xaxis5": {
         "anchor": "y5",
         "domain": [
          0,
          1
         ]
        },
        "xaxis6": {
         "anchor": "y6",
         "domain": [
          0,
          1
         ]
        },
        "xaxis7": {
         "anchor": "y7",
         "domain": [
          0,
          1
         ]
        },
        "xaxis8": {
         "anchor": "y8",
         "domain": [
          0,
          1
         ]
        },
        "xaxis9": {
         "anchor": "y9",
         "domain": [
          0,
          1
         ]
        },
        "yaxis": {
         "anchor": "x",
         "domain": [
          0.9756521739130435,
          1
         ],
         "showgrid": false,
         "showticklabels": false
        },
        "yaxis10": {
         "anchor": "x10",
         "domain": [
          0.5765217391304348,
          0.6008695652173913
         ],
         "showgrid": false,
         "showticklabels": false
        },
        "yaxis11": {
         "anchor": "x11",
         "domain": [
          0.5321739130434783,
          0.5565217391304348
         ],
         "showgrid": false,
         "showticklabels": false
        },
        "yaxis12": {
         "anchor": "x12",
         "domain": [
          0.48782608695652174,
          0.5121739130434783
         ],
         "showgrid": false,
         "showticklabels": false
        },
        "yaxis13": {
         "anchor": "x13",
         "domain": [
          0.44347826086956527,
          0.4678260869565218
         ],
         "showgrid": false,
         "showticklabels": false
        },
        "yaxis14": {
         "anchor": "x14",
         "domain": [
          0.3991304347826087,
          0.4234782608695652
         ],
         "showgrid": false,
         "showticklabels": false
        },
        "yaxis15": {
         "anchor": "x15",
         "domain": [
          0.3547826086956522,
          0.3791304347826087
         ],
         "showgrid": false,
         "showticklabels": false
        },
        "yaxis16": {
         "anchor": "x16",
         "domain": [
          0.3104347826086957,
          0.33478260869565224
         ],
         "showgrid": false,
         "showticklabels": false
        },
        "yaxis17": {
         "anchor": "x17",
         "domain": [
          0.26608695652173914,
          0.29043478260869565
         ],
         "showgrid": false,
         "showticklabels": false
        },
        "yaxis18": {
         "anchor": "x18",
         "domain": [
          0.22173913043478263,
          0.24608695652173915
         ],
         "showgrid": false,
         "showticklabels": false
        },
        "yaxis19": {
         "anchor": "x19",
         "domain": [
          0.1773913043478261,
          0.20173913043478262
         ],
         "showgrid": false,
         "showticklabels": false
        },
        "yaxis2": {
         "anchor": "x2",
         "domain": [
          0.931304347826087,
          0.9556521739130435
         ],
         "showgrid": false,
         "showticklabels": false
        },
        "yaxis20": {
         "anchor": "x20",
         "domain": [
          0.13304347826086957,
          0.15739130434782608
         ],
         "showgrid": false,
         "showticklabels": false
        },
        "yaxis21": {
         "anchor": "x21",
         "domain": [
          0.08869565217391305,
          0.11304347826086958
         ],
         "showgrid": false,
         "showticklabels": false
        },
        "yaxis22": {
         "anchor": "x22",
         "domain": [
          0.044347826086956525,
          0.06869565217391305
         ],
         "showgrid": false,
         "showticklabels": false
        },
        "yaxis23": {
         "anchor": "x23",
         "domain": [
          0,
          0.024347826086956525
         ],
         "showgrid": false,
         "showticklabels": false
        },
        "yaxis3": {
         "anchor": "x3",
         "domain": [
          0.8869565217391305,
          0.911304347826087
         ],
         "showgrid": false,
         "showticklabels": false
        },
        "yaxis4": {
         "anchor": "x4",
         "domain": [
          0.842608695652174,
          0.8669565217391305
         ],
         "showgrid": false,
         "showticklabels": false
        },
        "yaxis5": {
         "anchor": "x5",
         "domain": [
          0.7982608695652174,
          0.8226086956521739
         ],
         "showgrid": false,
         "showticklabels": false
        },
        "yaxis6": {
         "anchor": "x6",
         "domain": [
          0.7539130434782609,
          0.7782608695652175
         ],
         "showgrid": false,
         "showticklabels": false
        },
        "yaxis7": {
         "anchor": "x7",
         "domain": [
          0.7095652173913044,
          0.7339130434782609
         ],
         "showgrid": false,
         "showticklabels": false
        },
        "yaxis8": {
         "anchor": "x8",
         "domain": [
          0.6652173913043479,
          0.6895652173913044
         ],
         "showgrid": false,
         "showticklabels": false
        },
        "yaxis9": {
         "anchor": "x9",
         "domain": [
          0.6208695652173915,
          0.645217391304348
         ],
         "showgrid": false,
         "showticklabels": false
        }
       }
      }
     },
     "metadata": {},
     "output_type": "display_data"
    }
   ],
   "source": [
    "### Chromosome-wise visualization of the gene annotations of the relevant CpGs in Clock1 - Loop\n",
    "\n",
    "# Function to sort chromosomes\n",
    "def chromosome_sort_key(x):\n",
    "    x = x.replace('chr', '')\n",
    "    if x.isdigit():\n",
    "        return int(x)\n",
    "    elif x == 'X':\n",
    "        return 23\n",
    "    elif x == 'Y':\n",
    "        return 24\n",
    "    else:\n",
    "        return 25  # for any other non-standard chromosomes\n",
    "\n",
    "# Chromosome sizes for the hg38 genome\n",
    "chromosome_sizes = {\n",
    "    'chr1': 248956422,\n",
    "    'chr2': 242193529,\n",
    "    'chr3': 198295559,\n",
    "    'chr4': 190214555,\n",
    "    'chr5': 181538259,\n",
    "    'chr6': 170805979,\n",
    "    'chr7': 159345973,\n",
    "    'chr8': 145138636,\n",
    "    'chr9': 138394717,\n",
    "    'chr10': 133797422,\n",
    "    'chr11': 135086622,\n",
    "    'chr12': 133275309,\n",
    "    'chr13': 114364328,\n",
    "    'chr14': 107043718,\n",
    "    'chr15': 101991189,\n",
    "    'chr16': 90338345,\n",
    "    'chr17': 83257441,\n",
    "    'chr18': 80373285,\n",
    "    'chr19': 58617616,\n",
    "    'chr20': 64444167,\n",
    "    'chr21': 46709983,\n",
    "    'chr22': 50818468,\n",
    "    'chrX': 156040895,\n",
    "    'chrY': 57227415\n",
    "}\n",
    "\n",
    "# Viridis color palette\n",
    "viridis_colors = plt.cm.viridis([0, 0.1, 0.2, 0.3, 0.5, 0.7, 0.8, 1.0])\n",
    "\n",
    "# Map the categories to the Viridis colors\n",
    "color_map = {\n",
    "    'Intron': mcolors.to_hex(viridis_colors[0]), \n",
    "    'Exon': mcolors.to_hex(viridis_colors[2]), \n",
    "    'Promoter': mcolors.to_hex(viridis_colors[3]), \n",
    "    'threeUTR': mcolors.to_hex(viridis_colors[4]), \n",
    "    'Intergenic_downstream': mcolors.to_hex(viridis_colors[5]), \n",
    "    'fiveUTR': mcolors.to_hex(viridis_colors[6]), \n",
    "    'Intergenic_upstream': mcolors.to_hex(viridis_colors[7]) \n",
    "}\n",
    "\n",
    "# Loop through each clock dataframe in the dictionary\n",
    "for clock_name, cpg_annotations in rel_cpgs_dict.items():\n",
    "    # Get unique chromosomes and sort them\n",
    "    chromosomes = sorted(cpg_annotations['chr'].unique(), key=chromosome_sort_key)\n",
    "\n",
    "    # Create subplots\n",
    "    fig = make_subplots(rows=len(chromosomes), cols=1, \n",
    "                        shared_xaxes=False, vertical_spacing=0.02,  # shared_xaxes set to False\n",
    "                        subplot_titles=chromosomes)\n",
    "\n",
    "    # Add traces for each chromosome\n",
    "    for i, chr in enumerate(chromosomes, start=1):\n",
    "        chr_cpg_annotations = cpg_annotations[cpg_annotations['chr'] == chr]\n",
    "\n",
    "        # Add gene annotations\n",
    "        fig.add_trace(\n",
    "            go.Scatter(\n",
    "                x=chr_cpg_annotations['start'],\n",
    "                y=[i]*len(chr_cpg_annotations),\n",
    "                mode='markers+text',\n",
    "                marker=dict(\n",
    "                    size=10,\n",
    "                    color=[color_map[cat] for cat in chr_cpg_annotations['category']],\n",
    "                    symbol='square', \n",
    "                    line=dict(width=0.5, color='black')\n",
    "                ),\n",
    "                text=chr_cpg_annotations['gene'],\n",
    "                textposition='top center',        \n",
    "                textfont=dict(color='black', size=10),\n",
    "                hoverinfo='text',\n",
    "                hovertext=[f\"{cpg}<br>{gene}<br>{cat}<br>{start}\" \n",
    "                           for cpg, gene, cat, start in zip(chr_cpg_annotations['CpG'], chr_cpg_annotations['gene'], \n",
    "                                                            chr_cpg_annotations['category'], chr_cpg_annotations['start'])],\n",
    "                showlegend=False\n",
    "            ),\n",
    "            row=i, col=1\n",
    "        )\n",
    "\n",
    "        # Set the x-axis range to the actual size of the chromosome\n",
    "        # fig.update_xaxes(title_text=f'Genomic Position of {chr}', showgrid=False, row=i, col=1, range=[0, chromosome_sizes[chr]])\n",
    "\n",
    "    # Add legend entries\n",
    "    for category, color in color_map.items():\n",
    "        fig.add_trace(\n",
    "            go.Scatter(\n",
    "                x=[None], y=[None],\n",
    "                mode='markers',\n",
    "                marker=dict(size=10, color=color, symbol='square'),\n",
    "                legendgroup=category,\n",
    "                showlegend=True,\n",
    "                name=category\n",
    "            )\n",
    "        )\n",
    "\n",
    "    # Update layout\n",
    "    fig.update_layout(\n",
    "        height=100*len(chromosomes),\n",
    "        width=1200,\n",
    "        showlegend=True,\n",
    "        title=f'Gene Annotation Visualization of {clock_name.capitalize()} Relevant CpGs',\n",
    "        hovermode='closest'\n",
    "    )\n",
    "\n",
    "    # Update y-axes\n",
    "    fig.update_yaxes(showticklabels=False, showgrid=False)\n",
    "\n",
    "    # Ensure the output directory exists\n",
    "    output_dir = f'../../FunctionalAnalysis/Annotations/Annotations Results'\n",
    "    os.makedirs(output_dir, exist_ok=True)\n",
    "    \n",
    "    # Save the plot \n",
    "    output_path = os.path.join(output_dir, f'{clock_name}_gene_annotation_chromosome_view.html')\n",
    "    fig.write_html(output_path)\n",
    "\n",
    "    # Show the plot\n",
    "    fig.show()\n",
    "\n"
   ]
  }
 ],
 "metadata": {
  "kernelspec": {
   "display_name": "Python 3",
   "language": "python",
   "name": "python3"
  },
  "language_info": {
   "codemirror_mode": {
    "name": "ipython",
    "version": 3
   },
   "file_extension": ".py",
   "mimetype": "text/x-python",
   "name": "python",
   "nbconvert_exporter": "python",
   "pygments_lexer": "ipython3",
   "version": "3.12.2"
  }
 },
 "nbformat": 4,
 "nbformat_minor": 2
}
