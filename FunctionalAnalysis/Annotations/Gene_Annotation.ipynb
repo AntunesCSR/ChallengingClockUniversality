{
 "cells": [
  {
   "cell_type": "markdown",
   "metadata": {},
   "source": [
    "# Gene Annotation"
   ]
  },
  {
   "cell_type": "markdown",
   "metadata": {},
   "source": [
    "Mapping of the relevant CpGs identified by clustering and the associated genes.\n",
    "The CpGs can be found in folder 'Mammal_Methylation_Levels/Cluster Analysis/Relevant CpGS'. There will be at least 3 files, each with the relevant CpGs of each of the 3 Clocks. "
   ]
  },
  {
   "cell_type": "code",
   "execution_count": 2,
   "metadata": {},
   "outputs": [],
   "source": [
    "### Libraries\n",
    "\n",
    "from Bio import Entrez, SeqIO\n",
    "from Bio.SeqFeature import SeqFeature, FeatureLocation\n",
    "from Bio.SeqRecord import SeqRecord\n",
    "\n",
    "import pandas as pd\n",
    "\n",
    "import plotly.graph_objects as go\n",
    "from plotly.subplots import make_subplots\n",
    "import matplotlib.pyplot as plt\n",
    "import matplotlib.colors as mcolors\n",
    "import pandas as pd\n"
   ]
  },
  {
   "cell_type": "code",
   "execution_count": 4,
   "metadata": {},
   "outputs": [
    {
     "data": {
      "text/html": [
       "<div>\n",
       "<style scoped>\n",
       "    .dataframe tbody tr th:only-of-type {\n",
       "        vertical-align: middle;\n",
       "    }\n",
       "\n",
       "    .dataframe tbody tr th {\n",
       "        vertical-align: top;\n",
       "    }\n",
       "\n",
       "    .dataframe thead th {\n",
       "        text-align: right;\n",
       "    }\n",
       "</style>\n",
       "<table border=\"1\" class=\"dataframe\">\n",
       "  <thead>\n",
       "    <tr style=\"text-align: right;\">\n",
       "      <th></th>\n",
       "      <th>CpG</th>\n",
       "    </tr>\n",
       "  </thead>\n",
       "  <tbody>\n",
       "    <tr>\n",
       "      <th>0</th>\n",
       "      <td>cg02499612</td>\n",
       "    </tr>\n",
       "    <tr>\n",
       "      <th>1</th>\n",
       "      <td>cg10061379</td>\n",
       "    </tr>\n",
       "    <tr>\n",
       "      <th>2</th>\n",
       "      <td>cg09568652</td>\n",
       "    </tr>\n",
       "    <tr>\n",
       "      <th>3</th>\n",
       "      <td>cg18918349</td>\n",
       "    </tr>\n",
       "    <tr>\n",
       "      <th>4</th>\n",
       "      <td>cg15991909</td>\n",
       "    </tr>\n",
       "  </tbody>\n",
       "</table>\n",
       "</div>"
      ],
      "text/plain": [
       "          CpG\n",
       "0  cg02499612\n",
       "1  cg10061379\n",
       "2  cg09568652\n",
       "3  cg18918349\n",
       "4  cg15991909"
      ]
     },
     "execution_count": 4,
     "metadata": {},
     "output_type": "execute_result"
    }
   ],
   "source": [
    "# Load the csv with the relevant CpGs (Clock1)\n",
    "\n",
    "rel_cpgs_clock1 = pd.read_csv('../../Mammal_Methylation_Levels/Cluster Analysis/Relevant CpGs/relevant_cpgs.csv') # need to uodated name of this file in the cluster analysis notebook \n",
    "rel_cpgs_clock1.rename(columns={'0':'CpG'}, inplace=True)\n",
    "rel_cpgs_clock1.head()\n"
   ]
  },
  {
   "cell_type": "code",
   "execution_count": 5,
   "metadata": {},
   "outputs": [
    {
     "data": {
      "text/html": [
       "<div>\n",
       "<style scoped>\n",
       "    .dataframe tbody tr th:only-of-type {\n",
       "        vertical-align: middle;\n",
       "    }\n",
       "\n",
       "    .dataframe tbody tr th {\n",
       "        vertical-align: top;\n",
       "    }\n",
       "\n",
       "    .dataframe thead th {\n",
       "        text-align: right;\n",
       "    }\n",
       "</style>\n",
       "<table border=\"1\" class=\"dataframe\">\n",
       "  <thead>\n",
       "    <tr style=\"text-align: right;\">\n",
       "      <th></th>\n",
       "      <th>IlmnID</th>\n",
       "      <th>Name</th>\n",
       "      <th>AddressA_ID</th>\n",
       "      <th>AlleleA_ProbeSeq</th>\n",
       "      <th>ProbeA_Ref_CIGAR</th>\n",
       "      <th>AddressB_ID</th>\n",
       "      <th>AlleleB_ProbeSeq</th>\n",
       "      <th>ProbeB_Ref_CIGAR</th>\n",
       "      <th>StrandFR</th>\n",
       "      <th>StrandTB</th>\n",
       "      <th>...</th>\n",
       "      <th>Elephant.loxAfr3.100_CGstart</th>\n",
       "      <th>Elephant.loxAfr3.100_CGend</th>\n",
       "      <th>Elephant.loxAfr3.100_seqnames</th>\n",
       "      <th>Elephant.loxAfr3.100_SYMBOL</th>\n",
       "      <th>Elephant.loxAfr3.100_main_Categories</th>\n",
       "      <th>Cattle.ARS-UCD1.2_CGstart</th>\n",
       "      <th>Cattle.ARS-UCD1.2_CGend</th>\n",
       "      <th>Cattle.ARS-UCD1.2_seqnames</th>\n",
       "      <th>Cattle.ARS-UCD1.2_SYMBOL</th>\n",
       "      <th>Cattle.ARS-UCD1.2_main_Categories</th>\n",
       "    </tr>\n",
       "  </thead>\n",
       "  <tbody>\n",
       "    <tr>\n",
       "      <th>1</th>\n",
       "      <td>cg00000165</td>\n",
       "      <td>cg00000165_B_C_II_16W28R4_Y</td>\n",
       "      <td>61688267</td>\n",
       "      <td>CAAAATCTATTAATACWATAACTTTTAATAAAACAACTAAAACACR...</td>\n",
       "      <td>16W28R4</td>\n",
       "      <td>NaN</td>\n",
       "      <td>NaN</td>\n",
       "      <td>NaN</td>\n",
       "      <td>R</td>\n",
       "      <td>B</td>\n",
       "      <td>...</td>\n",
       "      <td>11412983.0</td>\n",
       "      <td>11412984.0</td>\n",
       "      <td>scaffold_60</td>\n",
       "      <td>BARHL2</td>\n",
       "      <td>Intergenic_upstream</td>\n",
       "      <td>52520158.0</td>\n",
       "      <td>52520159.0</td>\n",
       "      <td>3</td>\n",
       "      <td>BARHL2</td>\n",
       "      <td>Intergenic_upstream</td>\n",
       "    </tr>\n",
       "    <tr>\n",
       "      <th>2</th>\n",
       "      <td>cg00001209</td>\n",
       "      <td>cg00001209_B_C_II_15M34_Y</td>\n",
       "      <td>99653471</td>\n",
       "      <td>TCTTAACATTATAAAMAAAACAAAATAATACAAAATATATTCAACC...</td>\n",
       "      <td>15M34</td>\n",
       "      <td>NaN</td>\n",
       "      <td>NaN</td>\n",
       "      <td>NaN</td>\n",
       "      <td>F</td>\n",
       "      <td>B</td>\n",
       "      <td>...</td>\n",
       "      <td>64819638.0</td>\n",
       "      <td>64819639.0</td>\n",
       "      <td>scaffold_7</td>\n",
       "      <td>KIF2A</td>\n",
       "      <td>Intergenic_upstream</td>\n",
       "      <td>17450440.0</td>\n",
       "      <td>17450441.0</td>\n",
       "      <td>20</td>\n",
       "      <td>KIF2A</td>\n",
       "      <td>Intergenic_upstream</td>\n",
       "    </tr>\n",
       "    <tr>\n",
       "      <th>3</th>\n",
       "      <td>cg00001364</td>\n",
       "      <td>cg00001364_B_C_II_28Y21_Y</td>\n",
       "      <td>94653210</td>\n",
       "      <td>ACCAATTTAATATAAATCRCTTATATAAYAAACACCTAAAAACAAA...</td>\n",
       "      <td>28Y21</td>\n",
       "      <td>NaN</td>\n",
       "      <td>NaN</td>\n",
       "      <td>NaN</td>\n",
       "      <td>R</td>\n",
       "      <td>B</td>\n",
       "      <td>...</td>\n",
       "      <td>1266053.0</td>\n",
       "      <td>1266054.0</td>\n",
       "      <td>scaffold_74</td>\n",
       "      <td>PROX1</td>\n",
       "      <td>Exon</td>\n",
       "      <td>69576644.0</td>\n",
       "      <td>69576645.0</td>\n",
       "      <td>16</td>\n",
       "      <td>PROX1</td>\n",
       "      <td>Exon</td>\n",
       "    </tr>\n",
       "    <tr>\n",
       "      <th>4</th>\n",
       "      <td>cg00001582</td>\n",
       "      <td>cg00001582_B_C_II_17M32_Y</td>\n",
       "      <td>88781221</td>\n",
       "      <td>AACCCTTTAAAAATAAAMTAACCAATATAATCTAACACTTCAACTT...</td>\n",
       "      <td>17M32</td>\n",
       "      <td>NaN</td>\n",
       "      <td>NaN</td>\n",
       "      <td>NaN</td>\n",
       "      <td>R</td>\n",
       "      <td>B</td>\n",
       "      <td>...</td>\n",
       "      <td>NaN</td>\n",
       "      <td>NaN</td>\n",
       "      <td>NaN</td>\n",
       "      <td>NaN</td>\n",
       "      <td>NaN</td>\n",
       "      <td>34702943.0</td>\n",
       "      <td>34702944.0</td>\n",
       "      <td>28</td>\n",
       "      <td>ZMIZ1</td>\n",
       "      <td>Intergenic_upstream</td>\n",
       "    </tr>\n",
       "    <tr>\n",
       "      <th>5</th>\n",
       "      <td>cg00002920</td>\n",
       "      <td>cg00002920_B_C_II_M40Y5Y2_Y</td>\n",
       "      <td>03643387</td>\n",
       "      <td>MCATAATTTATTTTCTTAAAATATTAATTTATCAACAACTTYCCTA...</td>\n",
       "      <td>M40Y5Y2</td>\n",
       "      <td>NaN</td>\n",
       "      <td>NaN</td>\n",
       "      <td>NaN</td>\n",
       "      <td>R</td>\n",
       "      <td>B</td>\n",
       "      <td>...</td>\n",
       "      <td>NaN</td>\n",
       "      <td>NaN</td>\n",
       "      <td>NaN</td>\n",
       "      <td>NaN</td>\n",
       "      <td>NaN</td>\n",
       "      <td>47915351.0</td>\n",
       "      <td>47915352.0</td>\n",
       "      <td>26</td>\n",
       "      <td>MKI67</td>\n",
       "      <td>Intergenic_upstream</td>\n",
       "    </tr>\n",
       "  </tbody>\n",
       "</table>\n",
       "<p>5 rows × 81 columns</p>\n",
       "</div>"
      ],
      "text/plain": [
       "       IlmnID                         Name AddressA_ID  \\\n",
       "1  cg00000165  cg00000165_B_C_II_16W28R4_Y    61688267   \n",
       "2  cg00001209    cg00001209_B_C_II_15M34_Y    99653471   \n",
       "3  cg00001364    cg00001364_B_C_II_28Y21_Y    94653210   \n",
       "4  cg00001582    cg00001582_B_C_II_17M32_Y    88781221   \n",
       "5  cg00002920  cg00002920_B_C_II_M40Y5Y2_Y    03643387   \n",
       "\n",
       "                                    AlleleA_ProbeSeq ProbeA_Ref_CIGAR  \\\n",
       "1  CAAAATCTATTAATACWATAACTTTTAATAAAACAACTAAAACACR...          16W28R4   \n",
       "2  TCTTAACATTATAAAMAAAACAAAATAATACAAAATATATTCAACC...            15M34   \n",
       "3  ACCAATTTAATATAAATCRCTTATATAAYAAACACCTAAAAACAAA...            28Y21   \n",
       "4  AACCCTTTAAAAATAAAMTAACCAATATAATCTAACACTTCAACTT...            17M32   \n",
       "5  MCATAATTTATTTTCTTAAAATATTAATTTATCAACAACTTYCCTA...          M40Y5Y2   \n",
       "\n",
       "   AddressB_ID AlleleB_ProbeSeq ProbeB_Ref_CIGAR StrandFR StrandTB  ...  \\\n",
       "1          NaN              NaN              NaN        R        B  ...   \n",
       "2          NaN              NaN              NaN        F        B  ...   \n",
       "3          NaN              NaN              NaN        R        B  ...   \n",
       "4          NaN              NaN              NaN        R        B  ...   \n",
       "5          NaN              NaN              NaN        R        B  ...   \n",
       "\n",
       "  Elephant.loxAfr3.100_CGstart Elephant.loxAfr3.100_CGend  \\\n",
       "1                   11412983.0                 11412984.0   \n",
       "2                   64819638.0                 64819639.0   \n",
       "3                    1266053.0                  1266054.0   \n",
       "4                          NaN                        NaN   \n",
       "5                          NaN                        NaN   \n",
       "\n",
       "  Elephant.loxAfr3.100_seqnames Elephant.loxAfr3.100_SYMBOL  \\\n",
       "1                   scaffold_60                      BARHL2   \n",
       "2                    scaffold_7                       KIF2A   \n",
       "3                   scaffold_74                       PROX1   \n",
       "4                           NaN                         NaN   \n",
       "5                           NaN                         NaN   \n",
       "\n",
       "  Elephant.loxAfr3.100_main_Categories Cattle.ARS-UCD1.2_CGstart  \\\n",
       "1                  Intergenic_upstream                52520158.0   \n",
       "2                  Intergenic_upstream                17450440.0   \n",
       "3                                 Exon                69576644.0   \n",
       "4                                  NaN                34702943.0   \n",
       "5                                  NaN                47915351.0   \n",
       "\n",
       "  Cattle.ARS-UCD1.2_CGend Cattle.ARS-UCD1.2_seqnames Cattle.ARS-UCD1.2_SYMBOL  \\\n",
       "1              52520159.0                          3                   BARHL2   \n",
       "2              17450441.0                         20                    KIF2A   \n",
       "3              69576645.0                         16                    PROX1   \n",
       "4              34702944.0                         28                    ZMIZ1   \n",
       "5              47915352.0                         26                    MKI67   \n",
       "\n",
       "  Cattle.ARS-UCD1.2_main_Categories  \n",
       "1               Intergenic_upstream  \n",
       "2               Intergenic_upstream  \n",
       "3                              Exon  \n",
       "4               Intergenic_upstream  \n",
       "5               Intergenic_upstream  \n",
       "\n",
       "[5 rows x 81 columns]"
      ]
     },
     "execution_count": 5,
     "metadata": {},
     "output_type": "execute_result"
    }
   ],
   "source": [
    "# Load the HorvathMammalMethylChip40 annotation file\n",
    "\n",
    "annotation_file = \"HorvathMammalMethylChip40.csv\"\n",
    "annotations = pd.read_csv(annotation_file, index_col=0, low_memory=False)\n",
    "annotations.head()"
   ]
  },
  {
   "cell_type": "code",
   "execution_count": 5,
   "metadata": {},
   "outputs": [
    {
     "name": "stdout",
     "output_type": "stream",
     "text": [
      "Index(['IlmnID', 'Name', 'AddressA_ID', 'AlleleA_ProbeSeq', 'ProbeA_Ref_CIGAR',\n",
      "       'AddressB_ID', 'AlleleB_ProbeSeq', 'ProbeB_Ref_CIGAR', 'StrandFR',\n",
      "       'StrandTB', 'StrandCO', 'Design_Sequence', 'Forward_Sequence',\n",
      "       'Top_Sequence', 'SourceSeq', 'Infinium_Design_Type', 'Next_Base',\n",
      "       'Color_Channel', 'Next_Base_Alt', 'Color_Channel_Alt', 'CG.',\n",
      "       'SNP_Count', 'CPG_Count', 'Replicate_Number', 'Replicate_Count',\n",
      "       'IlmnID_Old', 'Human.Hg19_CGstart', 'Human.Hg19_CGend',\n",
      "       'Human.Hg19_seqnames', 'Human.Hg19_SYMBOL',\n",
      "       'Human.Hg19_main_Categories', 'Human.Hg38_start', 'Human.Hg38_end',\n",
      "       'Human.Hg38_seqnames', 'Human.Hg38_SYMBOL',\n",
      "       'Human.Hg38_main_Categories', 'Mouse.GRCm38.100_CGstart',\n",
      "       'Mouse.GRCm38.100_CGend', 'Mouse.GRCm38.100_seqnames',\n",
      "       'Mouse.GRCm38.100_SYMBOL', 'Mouse.GRCm38.100_main_Categories',\n",
      "       'Rat.Rnor.6.0.101_CGstart', 'Rat.Rnor.6.0.101_CGend',\n",
      "       'Rat.Rnor.6.0.101_seqnames', 'Rat.Rnor.6.0.101_SYMBOL',\n",
      "       'Rat.Rnor.6.0.101_main_Categories', 'Horse.EquCab3.0.100_CGstart',\n",
      "       'Horse.EquCab3.0.100_CGend', 'Horse.EquCab3.0.100_seqnames',\n",
      "       'Horse.EquCab3.0.100_SYMBOL', 'Horse.EquCab3.0.100_main_Categories',\n",
      "       'Pig.Sscrofa11.1.100_CGstart', 'Pig.Sscrofa11.1.100_CGend',\n",
      "       'Pig.Sscrofa11.1.100_seqnames', 'Pig.Sscrofa11.1.100_SYMBOL',\n",
      "       'Pig.Sscrofa11.1.100_main_Categories', 'Cat.FC.9.0.100_CGstart',\n",
      "       'Cat.FC.9.0.100_CGend', 'Cat.FC.9.0.100_seqnames',\n",
      "       'Cat.FC.9.0.100_SYMBOL', 'Cat.FC.9.0.100_main_Categories',\n",
      "       'Dog.CanFam3.1_CGstart', 'Dog.CanFam3.1_CGend',\n",
      "       'Dog.CanFam3.1_seqnames', 'Dog.CanFam3.1_SYMBOL',\n",
      "       'Dog.CanFam3.1_main_Categories', 'Dolphine.turTru1.100_CGstart',\n",
      "       'Dolphine.turTru1.100_CGend', 'Dolphine.turTru1.100_seqnames',\n",
      "       'Dolphine.turTru1.100_SYMBOL', 'Dolphine.turTru1.100_main_Categories',\n",
      "       'Elephant.loxAfr3.100_CGstart', 'Elephant.loxAfr3.100_CGend',\n",
      "       'Elephant.loxAfr3.100_seqnames', 'Elephant.loxAfr3.100_SYMBOL',\n",
      "       'Elephant.loxAfr3.100_main_Categories', 'Cattle.ARS-UCD1.2_CGstart',\n",
      "       'Cattle.ARS-UCD1.2_CGend', 'Cattle.ARS-UCD1.2_seqnames',\n",
      "       'Cattle.ARS-UCD1.2_SYMBOL', 'Cattle.ARS-UCD1.2_main_Categories'],\n",
      "      dtype='object')\n"
     ]
    }
   ],
   "source": [
    "# Display all column names to see what we have\n",
    "print(annotations.columns)"
   ]
  },
  {
   "cell_type": "markdown",
   "metadata": {},
   "source": [
    "The annotations csv contains the gene annotations for all the species used in the analysis. For now, we will focus on human CpGs and genes."
   ]
  },
  {
   "cell_type": "code",
   "execution_count": 31,
   "metadata": {},
   "outputs": [
    {
     "name": "stdout",
     "output_type": "stream",
     "text": [
      "          CpG    chr        start          end    gene  category\n",
      "0  cg02499612   chr9  126615424.0  126615425.0   LMX1B      Exon\n",
      "1  cg10061379   chr1  167222434.0  167222435.0  POU2F1    Intron\n",
      "2  cg09568652  chr17   64505527.0   64505528.0    DDX5      Exon\n",
      "3  cg18918349   chr6  108165956.0  108165957.0   NR2E1  Promoter\n",
      "4  cg15991909   chr1   32539339.0   32539340.0  ZBTB8A    Intron\n"
     ]
    }
   ],
   "source": [
    "# Selecting relevant human annotation columns\n",
    "\n",
    "annotation_cols = [\n",
    "    'IlmnID', \n",
    "    'Human.Hg38_seqnames', \n",
    "    'Human.Hg38_start', \n",
    "    'Human.Hg38_end', \n",
    "    'Human.Hg38_SYMBOL', \n",
    "    'Human.Hg38_main_Categories'\n",
    "]\n",
    "\n",
    "# Filter the annotation DataFrame to include only the necessary columns\n",
    "filtered_annotations = annotations.copy()[annotation_cols]\n",
    "filtered_annotations.head()\n",
    "\n",
    "# Rename columns for easier understanding and to match desired output\n",
    "filtered_annotations.rename(columns={\n",
    "    'IlmnID': 'CpG',\n",
    "    'Human.Hg38_seqnames': 'chr',\n",
    "    'Human.Hg38_start': 'start',\n",
    "    'Human.Hg38_end': 'end',\n",
    "    'Human.Hg38_SYMBOL': 'gene',\n",
    "    'Human.Hg38_main_Categories': 'category'\n",
    "}, inplace=True)\n",
    "filtered_annotations.head()\n",
    "\n",
    "# Merge CpG names with annotations to get genomic coordinates and gene information\n",
    "cpg_annotations = pd.merge(rel_cpgs_clock1, filtered_annotations, on='CpG', how='left')\n",
    "\n",
    "# Display the merged DataFrame\n",
    "print(cpg_annotations.head())"
   ]
  },
  {
   "cell_type": "code",
   "execution_count": 32,
   "metadata": {},
   "outputs": [
    {
     "name": "stdout",
     "output_type": "stream",
     "text": [
      "Annotation complete. The annotated CpGs have been saved to 'clock1_annotated_relevant_cpgs.csv'.\n"
     ]
    }
   ],
   "source": [
    "# Function to determine region type\n",
    "\n",
    "def determine_region_type(category):\n",
    "    if pd.isna(category):\n",
    "        return 'intergenic'\n",
    "    if 'TSS1500' in category or 'TSS200' in category: # TSS1500 and TSS200 are both promoter regions\n",
    "        return 'promoter'\n",
    "    elif '5\\'UTR' in category or '1stExon' in category or 'Body' in category: # 5'UTR, 1stExon, and Body are all gene body regions\n",
    "        return 'gene body'\n",
    "    else:\n",
    "        return 'intergenic'\n",
    "\n",
    "# Apply the function to determine the region type for each CpG\n",
    "cpg_annotations['region_type'] = cpg_annotations['category'].apply(determine_region_type)\n",
    "\n",
    "# Save the annotated CpGs to a CSV file\n",
    "cpg_annotations.to_csv(\"clock1_annotated_relevant_cpgs.csv\", index=False)\n",
    "\n",
    "print(\"Annotation complete. The annotated CpGs have been saved to 'clock1_annotated_relevant_cpgs.csv'.\")"
   ]
  },
  {
   "cell_type": "code",
   "execution_count": 18,
   "metadata": {},
   "outputs": [
    {
     "data": {
      "text/html": [
       "<div>\n",
       "<style scoped>\n",
       "    .dataframe tbody tr th:only-of-type {\n",
       "        vertical-align: middle;\n",
       "    }\n",
       "\n",
       "    .dataframe tbody tr th {\n",
       "        vertical-align: top;\n",
       "    }\n",
       "\n",
       "    .dataframe thead th {\n",
       "        text-align: right;\n",
       "    }\n",
       "</style>\n",
       "<table border=\"1\" class=\"dataframe\">\n",
       "  <thead>\n",
       "    <tr style=\"text-align: right;\">\n",
       "      <th></th>\n",
       "      <th>CpG</th>\n",
       "      <th>chr</th>\n",
       "      <th>start</th>\n",
       "      <th>end</th>\n",
       "      <th>gene</th>\n",
       "      <th>category</th>\n",
       "      <th>region_type</th>\n",
       "    </tr>\n",
       "  </thead>\n",
       "  <tbody>\n",
       "    <tr>\n",
       "      <th>0</th>\n",
       "      <td>cg02499612</td>\n",
       "      <td>chr9</td>\n",
       "      <td>126615424.0</td>\n",
       "      <td>126615425.0</td>\n",
       "      <td>LMX1B</td>\n",
       "      <td>Exon</td>\n",
       "      <td>intergenic</td>\n",
       "    </tr>\n",
       "    <tr>\n",
       "      <th>1</th>\n",
       "      <td>cg10061379</td>\n",
       "      <td>chr1</td>\n",
       "      <td>167222434.0</td>\n",
       "      <td>167222435.0</td>\n",
       "      <td>POU2F1</td>\n",
       "      <td>Intron</td>\n",
       "      <td>intergenic</td>\n",
       "    </tr>\n",
       "    <tr>\n",
       "      <th>2</th>\n",
       "      <td>cg09568652</td>\n",
       "      <td>chr17</td>\n",
       "      <td>64505527.0</td>\n",
       "      <td>64505528.0</td>\n",
       "      <td>DDX5</td>\n",
       "      <td>Exon</td>\n",
       "      <td>intergenic</td>\n",
       "    </tr>\n",
       "    <tr>\n",
       "      <th>3</th>\n",
       "      <td>cg18918349</td>\n",
       "      <td>chr6</td>\n",
       "      <td>108165956.0</td>\n",
       "      <td>108165957.0</td>\n",
       "      <td>NR2E1</td>\n",
       "      <td>Promoter</td>\n",
       "      <td>intergenic</td>\n",
       "    </tr>\n",
       "    <tr>\n",
       "      <th>4</th>\n",
       "      <td>cg15991909</td>\n",
       "      <td>chr1</td>\n",
       "      <td>32539339.0</td>\n",
       "      <td>32539340.0</td>\n",
       "      <td>ZBTB8A</td>\n",
       "      <td>Intron</td>\n",
       "      <td>intergenic</td>\n",
       "    </tr>\n",
       "  </tbody>\n",
       "</table>\n",
       "</div>"
      ],
      "text/plain": [
       "          CpG    chr        start          end    gene  category region_type\n",
       "0  cg02499612   chr9  126615424.0  126615425.0   LMX1B      Exon  intergenic\n",
       "1  cg10061379   chr1  167222434.0  167222435.0  POU2F1    Intron  intergenic\n",
       "2  cg09568652  chr17   64505527.0   64505528.0    DDX5      Exon  intergenic\n",
       "3  cg18918349   chr6  108165956.0  108165957.0   NR2E1  Promoter  intergenic\n",
       "4  cg15991909   chr1   32539339.0   32539340.0  ZBTB8A    Intron  intergenic"
      ]
     },
     "execution_count": 18,
     "metadata": {},
     "output_type": "execute_result"
    }
   ],
   "source": [
    "cpg_annotations.head()"
   ]
  },
  {
   "cell_type": "code",
   "execution_count": 45,
   "metadata": {},
   "outputs": [
    {
     "data": {
      "image/png": "[encoded data removed]",
      "text/plain": [
       "<Figure size 1200x600 with 2 Axes>"
      ]
     },
     "metadata": {},
     "output_type": "display_data"
    }
   ],
   "source": [
    "# Viridis color palette\n",
    "viridis_colors = plt.cm.viridis([0, 0.1, 0.2, 0.3, 0.5, 0.7, 0.8, 1.0])\n",
    "\n",
    "# Map the categories to the Viridis colors\n",
    "color_map = {\n",
    "    'Exon': mcolors.to_hex(viridis_colors[1]),\n",
    "    'Intron': mcolors.to_hex(viridis_colors[0]),\n",
    "    'Promoter': mcolors.to_hex(viridis_colors[2]),\n",
    "    'threeUTR': mcolors.to_hex(viridis_colors[3]),\n",
    "    'fiveUTR': mcolors.to_hex(viridis_colors[5]),\n",
    "    'Intergenic_downstream': mcolors.to_hex(viridis_colors[4]),\n",
    "    'Intergenic_upstream': mcolors.to_hex(viridis_colors[6])\n",
    "}\n",
    "\n",
    "# Create subplots\n",
    "fig, ax = plt.subplots(1, 2, figsize=(12, 6))\n",
    "\n",
    "# Plot category counts with predefined colors\n",
    "category_counts = cpg_annotations['category'].value_counts()\n",
    "category_colors = [color_map[cat] for cat in category_counts.index]\n",
    "category_counts.plot(kind='bar', ax=ax[0], color=category_colors)\n",
    "ax[0].set_title('Category Counts')\n",
    "ax[0].set_xlabel('Category')\n",
    "ax[0].set_ylabel('Count')\n",
    "ax[0].xaxis.set_tick_params(rotation=45)\n",
    "\n",
    "# Plot region type counts with Viridis colors\n",
    "(len(cpg_annotations['region_type'].unique()))\n",
    "region_type_counts = cpg_annotations['region_type'].value_counts()\n",
    "region_type_counts.plot(kind='bar', ax=ax[1], color=viridis_colors[7])\n",
    "ax[1].set_title('Region Type Counts')\n",
    "ax[1].set_xlabel('Region Type')\n",
    "ax[1].set_ylabel('Count')\n",
    "ax[1].xaxis.set_tick_params(rotation=45)\n",
    "\n",
    "plt.tight_layout()\n",
    "plt.show()"
   ]
  },
  {
   "cell_type": "code",
   "execution_count": 115,
   "metadata": {},
   "outputs": [
    {
     "data": {
      "application/vnd.plotly.v1+json": {
       "config": {
        "plotlyServerURL": "https://plot.ly"
       },
       "data": [
        {
         "hoverinfo": "text",
         "hovertext": [
          "cg10061379<br>POU2F1<br>Intron<br>167222434.0",
          "cg15991909<br>ZBTB8A<br>Intron<br>32539339.0",
          "cg27228973<br>FOXO6-AS1<br>Intergenic_upstream<br>41404380.0",
          "cg25019875<br>MIR4255<br>Intron<br>37275026.0",
          "cg24315421<br>MIR29B2CHG<br>Intron<br>207866908.0",
          "cg09360996<br>PROX1<br>Exon<br>213996654.0",
          "cg10501210<br>MIR29B2CHG<br>Intron<br>207823675.0",
          "cg09025625<br>SHC1<br>Exon<br>154970033.0",
          "cg03564272<br>CASZ1<br>Intron<br>10673616.0",
          "cg16599143<br>FMO3<br>Promoter<br>171089531.0"
         ],
         "marker": {
          "color": [
           "#440154",
           "#440154",
           "#fde725",
           "#440154",
           "#440154",
           "#414487",
           "#440154",
           "#414487",
           "#440154",
           "#355f8d"
          ],
          "line": {
           "color": "black",
           "width": 0.5
          },
          "size": 10,
          "symbol": "square"
         },
         "mode": "markers+text",
         "showlegend": false,
         "text": [
          "POU2F1",
          "ZBTB8A",
          "FOXO6-AS1",
          "MIR4255",
          "MIR29B2CHG",
          "PROX1",
          "MIR29B2CHG",
          "SHC1",
          "CASZ1",
          "FMO3"
         ],
         "textfont": {
          "color": "black",
          "size": 10
         },
         "textposition": "top center",
         "type": "scatter",
         "x": [
          167222434,
          32539339,
          41404380,
          37275026,
          207866908,
          213996654,
          207823675,
          154970033,
          10673616,
          171089531
         ],
         "xaxis": "x",
         "y": [
          1,
          1,
          1,
          1,
          1,
          1,
          1,
          1,
          1,
          1
         ],
         "yaxis": "y"
        },
        {
         "hoverinfo": "text",
         "hovertext": [
          "cg20804050<br>EN1<br>Promoter<br>118847865.0",
          "cg26012482<br>LINC00299<br>Intron<br>8283025.0",
          "cg10480998<br>HOXD3<br>Intron<br>176146250.0",
          "cg14384416<br>SH3YL1<br>Intergenic_downstream<br>193393.0",
          "cg14361875<br>LINC01812<br>Intergenic_upstream<br>67846376.0",
          "cg18672716<br>SH3YL1<br>Intergenic_downstream<br>193256.0",
          "cg17905888<br>LINC01876<br>Intergenic_downstream<br>155727368.0"
         ],
         "marker": {
          "color": [
           "#355f8d",
           "#440154",
           "#440154",
           "#44bf70",
           "#fde725",
           "#44bf70",
           "#44bf70"
          ],
          "line": {
           "color": "black",
           "width": 0.5
          },
          "size": 10,
          "symbol": "square"
         },
         "mode": "markers+text",
         "showlegend": false,
         "text": [
          "EN1",
          "LINC00299",
          "HOXD3",
          "SH3YL1",
          "LINC01812",
          "SH3YL1",
          "LINC01876"
         ],
         "textfont": {
          "color": "black",
          "size": 10
         },
         "textposition": "top center",
         "type": "scatter",
         "x": [
          118847865,
          8283025,
          176146250,
          193393,
          67846376,
          193256,
          155727368
         ],
         "xaxis": "x2",
         "y": [
          2,
          2,
          2,
          2,
          2,
          2,
          2
         ],
         "yaxis": "y2"
        },
        {
         "hoverinfo": "text",
         "hovertext": [
          "cg26614073<br>SCAP<br>Promoter<br>47476329.0",
          "cg22264409<br>PROK2<br>Intron<br>71779257.0",
          "cg12841266<br>LHFPL4<br>Exon<br>9552409.0",
          "cg25033328<br>MBNL1<br>Intron<br>152446541.0"
         ],
         "marker": {
          "color": [
           "#355f8d",
           "#440154",
           "#414487",
           "#440154"
          ],
          "line": {
           "color": "black",
           "width": 0.5
          },
          "size": 10,
          "symbol": "square"
         },
         "mode": "markers+text",
         "showlegend": false,
         "text": [
          "SCAP",
          "PROK2",
          "LHFPL4",
          "MBNL1"
         ],
         "textfont": {
          "color": "black",
          "size": 10
         },
         "textposition": "top center",
         "type": "scatter",
         "x": [
          47476329,
          71779257,
          9552409,
          152446541
         ],
         "xaxis": "x3",
         "y": [
          3,
          3,
          3,
          3
         ],
         "yaxis": "y3"
        },
        {
         "hoverinfo": "text",
         "hovertext": [
          "cg10603790<br>LEF1<br>Intron<br>108141597.0",
          "cg03605454<br>IQCM<br>Intron<br>149885131.0",
          "cg01511232<br>LRAT<br>Intron<br>154740777.0"
         ],
         "marker": {
          "color": [
           "#440154",
           "#440154",
           "#440154"
          ],
          "line": {
           "color": "black",
           "width": 0.5
          },
          "size": 10,
          "symbol": "square"
         },
         "mode": "markers+text",
         "showlegend": false,
         "text": [
          "LEF1",
          "IQCM",
          "LRAT"
         ],
         "textfont": {
          "color": "black",
          "size": 10
         },
         "textposition": "top center",
         "type": "scatter",
         "x": [
          108141597,
          149885131,
          154740777
         ],
         "xaxis": "x4",
         "y": [
          4,
          4,
          4
         ],
         "yaxis": "y4"
        },
        {
         "hoverinfo": "text",
         "hovertext": [
          "cg20113482<br>ARL15<br>Intron<br>54215550.0",
          "cg18223258<br>ISL1<br>Intergenic_downstream<br>51399170.0",
          "cg24119607<br>CXXC5<br>Intron<br>139668154.0"
         ],
         "marker": {
          "color": [
           "#440154",
           "#44bf70",
           "#440154"
          ],
          "line": {
           "color": "black",
           "width": 0.5
          },
          "size": 10,
          "symbol": "square"
         },
         "mode": "markers+text",
         "showlegend": false,
         "text": [
          "ARL15",
          "ISL1",
          "CXXC5"
         ],
         "textfont": {
          "color": "black",
          "size": 10
         },
         "textposition": "top center",
         "type": "scatter",
         "x": [
          54215550,
          51399170,
          139668154
         ],
         "xaxis": "x5",
         "y": [
          5,
          5,
          5
         ],
         "yaxis": "y5"
        },
        {
         "hoverinfo": "text",
         "hovertext": [
          "cg18918349<br>NR2E1<br>Promoter<br>108165956.0",
          "cg16867657<br>ELOVL2-AS1<br>Exon<br>11044644.0",
          "cg09618893<br>EHMT2<br>Exon<br>31888996.0",
          "cg19098934<br>BACH2<br>Intron<br>90079771.0",
          "cg06472065<br>SYNGAP1<br>Exon<br>33426669.0"
         ],
         "marker": {
          "color": [
           "#355f8d",
           "#414487",
           "#414487",
           "#440154",
           "#414487"
          ],
          "line": {
           "color": "black",
           "width": 0.5
          },
          "size": 10,
          "symbol": "square"
         },
         "mode": "markers+text",
         "showlegend": false,
         "text": [
          "NR2E1",
          "ELOVL2-AS1",
          "EHMT2",
          "BACH2",
          "SYNGAP1"
         ],
         "textfont": {
          "color": "black",
          "size": 10
         },
         "textposition": "top center",
         "type": "scatter",
         "x": [
          108165956,
          11044644,
          31888996,
          90079771,
          33426669
         ],
         "xaxis": "x6",
         "y": [
          6,
          6,
          6,
          6,
          6
         ],
         "yaxis": "y6"
        },
        {
         "hoverinfo": "text",
         "hovertext": [
          "cg01019040<br>LHFPL3<br>Exon<br>104328968.0",
          "cg04051518<br>CDK6<br>Intron<br>92755491.0",
          "cg03820088<br>TRA2A<br>fiveUTR<br>23522229.0",
          "cg00250826<br>CALU<br>Exon<br>128754670.0",
          "cg11516694<br>HOXA-AS3<br>Intron<br>27147848.0"
         ],
         "marker": {
          "color": [
           "#414487",
           "#440154",
           "#7ad151",
           "#414487",
           "#440154"
          ],
          "line": {
           "color": "black",
           "width": 0.5
          },
          "size": 10,
          "symbol": "square"
         },
         "mode": "markers+text",
         "showlegend": false,
         "text": [
          "LHFPL3",
          "CDK6",
          "TRA2A",
          "CALU",
          "HOXA-AS3"
         ],
         "textfont": {
          "color": "black",
          "size": 10
         },
         "textposition": "top center",
         "type": "scatter",
         "x": [
          104328968,
          92755491,
          23522229,
          128754670,
          27147848
         ],
         "xaxis": "x7",
         "y": [
          7,
          7,
          7,
          7,
          7
         ],
         "yaxis": "y7"
        },
        {
         "hoverinfo": "text",
         "hovertext": [
          "cg09681292<br>ST18<br>Intron<br>52327626.0",
          "cg12815291<br>ZC3H3<br>Intron<br>143439468.0",
          "cg18168101<br>BAALC-AS2<br>Promoter<br>103141399.0"
         ],
         "marker": {
          "color": [
           "#440154",
           "#440154",
           "#355f8d"
          ],
          "line": {
           "color": "black",
           "width": 0.5
          },
          "size": 10,
          "symbol": "square"
         },
         "mode": "markers+text",
         "showlegend": false,
         "text": [
          "ST18",
          "ZC3H3",
          "BAALC-AS2"
         ],
         "textfont": {
          "color": "black",
          "size": 10
         },
         "textposition": "top center",
         "type": "scatter",
         "x": [
          52327626,
          143439468,
          103141399
         ],
         "xaxis": "x8",
         "y": [
          8,
          8,
          8
         ],
         "yaxis": "y8"
        },
        {
         "hoverinfo": "text",
         "hovertext": [
          "cg02499612<br>LMX1B<br>Exon<br>126615424.0",
          "cg26581729<br>NPDC1<br>Promoter<br>137045340.0",
          "cg17516812<br>BNC2<br>Intron<br>16773158.0"
         ],
         "marker": {
          "color": [
           "#414487",
           "#355f8d",
           "#440154"
          ],
          "line": {
           "color": "black",
           "width": 0.5
          },
          "size": 10,
          "symbol": "square"
         },
         "mode": "markers+text",
         "showlegend": false,
         "text": [
          "LMX1B",
          "NPDC1",
          "BNC2"
         ],
         "textfont": {
          "color": "black",
          "size": 10
         },
         "textposition": "top center",
         "type": "scatter",
         "x": [
          126615424,
          137045340,
          16773158
         ],
         "xaxis": "x9",
         "y": [
          9,
          9,
          9
         ],
         "yaxis": "y9"
        },
        {
         "hoverinfo": "text",
         "hovertext": [
          "cg04706544<br>DRGX<br>Promoter<br>49396706.0",
          "cg07938388<br>DRGX<br>Promoter<br>49396731.0",
          "cg09622673<br>BTRC<br>Intron<br>101452071.0",
          "cg01656216<br>ZNF438<br>Intron<br>30984781.0",
          "cg18738190<br>CHST3<br>Intron<br>71980533.0",
          "cg17357006<br>VTI1A<br>Exon<br>112538434.0",
          "cg17850367<br>ABI1<br>Promoter<br>26861569.0",
          "cg17499466<br>ZNF503<br>Intron<br>75379424.0",
          "cg06098215<br>NCOA4<br>Intron<br>46020119.0",
          "cg26662324<br>CTBP2<br>Intron<br>125057293.0"
         ],
         "marker": {
          "color": [
           "#355f8d",
           "#355f8d",
           "#440154",
           "#440154",
           "#440154",
           "#414487",
           "#355f8d",
           "#440154",
           "#440154",
           "#440154"
          ],
          "line": {
           "color": "black",
           "width": 0.5
          },
          "size": 10,
          "symbol": "square"
         },
         "mode": "markers+text",
         "showlegend": false,
         "text": [
          "DRGX",
          "DRGX",
          "BTRC",
          "ZNF438",
          "CHST3",
          "VTI1A",
          "ABI1",
          "ZNF503",
          "NCOA4",
          "CTBP2"
         ],
         "textfont": {
          "color": "black",
          "size": 10
         },
         "textposition": "top center",
         "type": "scatter",
         "x": [
          49396706,
          49396731,
          101452071,
          30984781,
          71980533,
          112538434,
          26861569,
          75379424,
          46020119,
          125057293
         ],
         "xaxis": "x10",
         "y": [
          10,
          10,
          10,
          10,
          10,
          10,
          10,
          10,
          10,
          10
         ],
         "yaxis": "y10"
        },
        {
         "hoverinfo": "text",
         "hovertext": [
          "cg05401971<br>KDM2A<br>Exon<br>67250713.0",
          "cg23501051<br>NAV2<br>Intron<br>19715366.0",
          "cg25184118<br>NRXN2<br>Exon<br>64690444.0",
          "cg00513357<br>EIF4G2<br>Exon<br>10806046.0",
          "cg10739250<br>MPPED2<br>Intron<br>30535950.0",
          "cg15496507<br>CREBZF<br>threeUTR<br>85660576.0"
         ],
         "marker": {
          "color": [
           "#414487",
           "#440154",
           "#414487",
           "#414487",
           "#440154",
           "#21918c"
          ],
          "line": {
           "color": "black",
           "width": 0.5
          },
          "size": 10,
          "symbol": "square"
         },
         "mode": "markers+text",
         "showlegend": false,
         "text": [
          "KDM2A",
          "NAV2",
          "NRXN2",
          "EIF4G2",
          "MPPED2",
          "CREBZF"
         ],
         "textfont": {
          "color": "black",
          "size": 10
         },
         "textposition": "top center",
         "type": "scatter",
         "x": [
          67250713,
          19715366,
          64690444,
          10806046,
          30535950,
          85660576
         ],
         "xaxis": "x11",
         "y": [
          11,
          11,
          11,
          11,
          11,
          11
         ],
         "yaxis": "y11"
        },
        {
         "hoverinfo": "text",
         "hovertext": [
          "cg21345677<br>LINC01234<br>Intron<br>113664715.0",
          "cg17116410<br>HOXC4<br>Exon<br>54037896.0",
          "cg18094982<br>SLCO1C1<br>fiveUTR<br>20695438.0",
          "cg16756969<br>LINC01234<br>Intron<br>113649565.0",
          "cg13935553<br>BHLHE41<br>threeUTR<br>26120667.0",
          "cg24551749<br>ATP5MC2<br>Promoter<br>53677516.0",
          "cg23931487<br>ATP5MC2<br>Promoter<br>53677480.0",
          "cg08563010<br>SOX5<br>Intron<br>23921603.0",
          "cg14381350<br>STX2<br>Intron<br>130826483.0",
          "cg26311454<br>TUBA1B<br>Intergenic_downstream<br>49126865.0"
         ],
         "marker": {
          "color": [
           "#440154",
           "#414487",
           "#7ad151",
           "#440154",
           "#21918c",
           "#355f8d",
           "#355f8d",
           "#440154",
           "#440154",
           "#44bf70"
          ],
          "line": {
           "color": "black",
           "width": 0.5
          },
          "size": 10,
          "symbol": "square"
         },
         "mode": "markers+text",
         "showlegend": false,
         "text": [
          "LINC01234",
          "HOXC4",
          "SLCO1C1",
          "LINC01234",
          "BHLHE41",
          "ATP5MC2",
          "ATP5MC2",
          "SOX5",
          "STX2",
          "TUBA1B"
         ],
         "textfont": {
          "color": "black",
          "size": 10
         },
         "textposition": "top center",
         "type": "scatter",
         "x": [
          113664715,
          54037896,
          20695438,
          113649565,
          26120667,
          53677516,
          53677480,
          23921603,
          130826483,
          49126865
         ],
         "xaxis": "x12",
         "y": [
          12,
          12,
          12,
          12,
          12,
          12,
          12,
          12,
          12,
          12
         ],
         "yaxis": "y12"
        },
        {
         "hoverinfo": "text",
         "hovertext": [
          "cg09605634<br>DCLK1<br>Exon<br>35947401.0",
          "cg00593462<br>COL4A1<br>Intron<br>110116146.0"
         ],
         "marker": {
          "color": [
           "#414487",
           "#440154"
          ],
          "line": {
           "color": "black",
           "width": 0.5
          },
          "size": 10,
          "symbol": "square"
         },
         "mode": "markers+text",
         "showlegend": false,
         "text": [
          "DCLK1",
          "COL4A1"
         ],
         "textfont": {
          "color": "black",
          "size": 10
         },
         "textposition": "top center",
         "type": "scatter",
         "x": [
          35947401,
          110116146
         ],
         "xaxis": "x13",
         "y": [
          13,
          13
         ],
         "yaxis": "y13"
        },
        {
         "hoverinfo": "text",
         "hovertext": [
          "cg03098892<br>KCNK10<br>fiveUTR<br>88322804.0",
          "cg09750164<br>NPAS3<br>Exon<br>33800872.0",
          "cg15089111<br>NPAS3<br>Exon<br>33800907.0",
          "cg24058132<br>GALC<br>fiveUTR<br>87993522.0",
          "cg12449245<br>DPF3<br>Exon<br>72619953.0",
          "cg24805210<br>ACIN1<br>Intron<br>23068755.0"
         ],
         "marker": {
          "color": [
           "#7ad151",
           "#414487",
           "#414487",
           "#7ad151",
           "#414487",
           "#440154"
          ],
          "line": {
           "color": "black",
           "width": 0.5
          },
          "size": 10,
          "symbol": "square"
         },
         "mode": "markers+text",
         "showlegend": false,
         "text": [
          "KCNK10",
          "NPAS3",
          "NPAS3",
          "GALC",
          "DPF3",
          "ACIN1"
         ],
         "textfont": {
          "color": "black",
          "size": 10
         },
         "textposition": "top center",
         "type": "scatter",
         "x": [
          88322804,
          33800872,
          33800907,
          87993522,
          72619953,
          23068755
         ],
         "xaxis": "x14",
         "y": [
          14,
          14,
          14,
          14,
          14,
          14
         ],
         "yaxis": "y14"
        },
        {
         "hoverinfo": "text",
         "hovertext": [
          "cg00687674<br>EWSAT1<br>Exon<br>69080920.0",
          "cg03668418<br>C15orf41<br>Intergenic_upstream<br>36357037.0",
          "cg04211240<br>MIR9-3HG<br>Intron<br>89372943.0",
          "cg24888049<br>FURIN<br>threeUTR<br>90883437.0"
         ],
         "marker": {
          "color": [
           "#414487",
           "#fde725",
           "#440154",
           "#21918c"
          ],
          "line": {
           "color": "black",
           "width": 0.5
          },
          "size": 10,
          "symbol": "square"
         },
         "mode": "markers+text",
         "showlegend": false,
         "text": [
          "EWSAT1",
          "C15orf41",
          "MIR9-3HG",
          "FURIN"
         ],
         "textfont": {
          "color": "black",
          "size": 10
         },
         "textposition": "top center",
         "type": "scatter",
         "x": [
          69080920,
          36357037,
          89372943,
          90883437
         ],
         "xaxis": "x15",
         "y": [
          15,
          15,
          15,
          15
         ],
         "yaxis": "y15"
        },
        {
         "hoverinfo": "text",
         "hovertext": [
          "cg19591642<br>TNRC6A<br>threeUTR<br>24815260.0",
          "cg09461098<br>TNRC6A<br>threeUTR<br>24815270.0",
          "cg03898602<br>JPH3<br>Exon<br>87603438.0"
         ],
         "marker": {
          "color": [
           "#21918c",
           "#21918c",
           "#414487"
          ],
          "line": {
           "color": "black",
           "width": 0.5
          },
          "size": 10,
          "symbol": "square"
         },
         "mode": "markers+text",
         "showlegend": false,
         "text": [
          "TNRC6A",
          "TNRC6A",
          "JPH3"
         ],
         "textfont": {
          "color": "black",
          "size": 10
         },
         "textposition": "top center",
         "type": "scatter",
         "x": [
          24815260,
          24815270,
          87603438
         ],
         "xaxis": "x16",
         "y": [
          16,
          16,
          16
         ],
         "yaxis": "y16"
        },
        {
         "hoverinfo": "text",
         "hovertext": [
          "cg09568652<br>DDX5<br>Exon<br>64505527.0",
          "cg19513247<br>UBTF<br>fiveUTR<br>44219685.0",
          "cg03370924<br>DERL2<br>threeUTR<br>5481375.0",
          "cg00362836<br>LINC00670<br>Intergenic_upstream<br>12473058.0",
          "cg09313705<br>HOXB-AS1<br>Exon<br>48545129.0"
         ],
         "marker": {
          "color": [
           "#414487",
           "#7ad151",
           "#21918c",
           "#fde725",
           "#414487"
          ],
          "line": {
           "color": "black",
           "width": 0.5
          },
          "size": 10,
          "symbol": "square"
         },
         "mode": "markers+text",
         "showlegend": false,
         "text": [
          "DDX5",
          "UBTF",
          "DERL2",
          "LINC00670",
          "HOXB-AS1"
         ],
         "textfont": {
          "color": "black",
          "size": 10
         },
         "textposition": "top center",
         "type": "scatter",
         "x": [
          64505527,
          44219685,
          5481375,
          12473058,
          48545129
         ],
         "xaxis": "x17",
         "y": [
          17,
          17,
          17,
          17,
          17
         ],
         "yaxis": "y17"
        },
        {
         "hoverinfo": "text",
         "hovertext": [
          "cg15580396<br>ZNF521<br>Intron<br>25231018.0",
          "cg05562063<br>WDR7<br>Exon<br>56873931.0",
          "cg03185524<br>CELF4<br>Intron<br>37351229.0",
          "cg26418994<br>CELF4<br>Intron<br>37351224.0",
          "cg07903650<br>ONECUT2<br>Exon<br>57435872.0"
         ],
         "marker": {
          "color": [
           "#440154",
           "#414487",
           "#440154",
           "#440154",
           "#414487"
          ],
          "line": {
           "color": "black",
           "width": 0.5
          },
          "size": 10,
          "symbol": "square"
         },
         "mode": "markers+text",
         "showlegend": false,
         "text": [
          "ZNF521",
          "WDR7",
          "CELF4",
          "CELF4",
          "ONECUT2"
         ],
         "textfont": {
          "color": "black",
          "size": 10
         },
         "textposition": "top center",
         "type": "scatter",
         "x": [
          25231018,
          56873931,
          37351229,
          37351224,
          57435872
         ],
         "xaxis": "x18",
         "y": [
          18,
          18,
          18,
          18,
          18
         ],
         "yaxis": "y18"
        },
        {
         "hoverinfo": "text",
         "hovertext": [
          "cg17633063<br>PTPRT<br>Intron<br>42897077.0",
          "cg19358608<br>PDYN-AS1<br>Promoter<br>1943919.0"
         ],
         "marker": {
          "color": [
           "#440154",
           "#355f8d"
          ],
          "line": {
           "color": "black",
           "width": 0.5
          },
          "size": 10,
          "symbol": "square"
         },
         "mode": "markers+text",
         "showlegend": false,
         "text": [
          "PTPRT",
          "PDYN-AS1"
         ],
         "textfont": {
          "color": "black",
          "size": 10
         },
         "textposition": "top center",
         "type": "scatter",
         "x": [
          42897077,
          1943919
         ],
         "xaxis": "x19",
         "y": [
          19,
          19
         ],
         "yaxis": "y19"
        },
        {
         "hoverinfo": "text",
         "hovertext": [
          "cg08665685<br>SMTN<br>threeUTR<br>31104411.0",
          "cg18194685<br>MN1<br>Intergenic_downstream<br>27557962.0",
          "cg15746205<br>EWSR1<br>Exon<br>29290369.0"
         ],
         "marker": {
          "color": [
           "#21918c",
           "#44bf70",
           "#414487"
          ],
          "line": {
           "color": "black",
           "width": 0.5
          },
          "size": 10,
          "symbol": "square"
         },
         "mode": "markers+text",
         "showlegend": false,
         "text": [
          "SMTN",
          "MN1",
          "EWSR1"
         ],
         "textfont": {
          "color": "black",
          "size": 10
         },
         "textposition": "top center",
         "type": "scatter",
         "x": [
          31104411,
          27557962,
          29290369
         ],
         "xaxis": "x20",
         "y": [
          20,
          20,
          20
         ],
         "yaxis": "y20"
        },
        {
         "legendgroup": "Intron",
         "marker": {
          "color": "#440154",
          "size": 10,
          "symbol": "square"
         },
         "mode": "markers",
         "name": "Intron",
         "showlegend": true,
         "type": "scatter",
         "x": [
          null
         ],
         "y": [
          null
         ]
        },
        {
         "legendgroup": "Exon",
         "marker": {
          "color": "#414487",
          "size": 10,
          "symbol": "square"
         },
         "mode": "markers",
         "name": "Exon",
         "showlegend": true,
         "type": "scatter",
         "x": [
          null
         ],
         "y": [
          null
         ]
        },
        {
         "legendgroup": "Promoter",
         "marker": {
          "color": "#355f8d",
          "size": 10,
          "symbol": "square"
         },
         "mode": "markers",
         "name": "Promoter",
         "showlegend": true,
         "type": "scatter",
         "x": [
          null
         ],
         "y": [
          null
         ]
        },
        {
         "legendgroup": "threeUTR",
         "marker": {
          "color": "#21918c",
          "size": 10,
          "symbol": "square"
         },
         "mode": "markers",
         "name": "threeUTR",
         "showlegend": true,
         "type": "scatter",
         "x": [
          null
         ],
         "y": [
          null
         ]
        },
        {
         "legendgroup": "Intergenic_downstream",
         "marker": {
          "color": "#44bf70",
          "size": 10,
          "symbol": "square"
         },
         "mode": "markers",
         "name": "Intergenic_downstream",
         "showlegend": true,
         "type": "scatter",
         "x": [
          null
         ],
         "y": [
          null
         ]
        },
        {
         "legendgroup": "fiveUTR",
         "marker": {
          "color": "#7ad151",
          "size": 10,
          "symbol": "square"
         },
         "mode": "markers",
         "name": "fiveUTR",
         "showlegend": true,
         "type": "scatter",
         "x": [
          null
         ],
         "y": [
          null
         ]
        },
        {
         "legendgroup": "Intergenic_upstream",
         "marker": {
          "color": "#fde725",
          "size": 10,
          "symbol": "square"
         },
         "mode": "markers",
         "name": "Intergenic_upstream",
         "showlegend": true,
         "type": "scatter",
         "x": [
          null
         ],
         "y": [
          null
         ]
        }
       ],
       "layout": {
        "annotations": [
         {
          "font": {
           "size": 16
          },
          "showarrow": false,
          "text": "chr1",
          "x": 0.5,
          "xanchor": "center",
          "xref": "paper",
          "y": 1,
          "yanchor": "bottom",
          "yref": "paper"
         },
         {
          "font": {
           "size": 16
          },
          "showarrow": false,
          "text": "chr2",
          "x": 0.5,
          "xanchor": "center",
          "xref": "paper",
          "y": 0.9490000000000001,
          "yanchor": "bottom",
          "yref": "paper"
         },
         {
          "font": {
           "size": 16
          },
          "showarrow": false,
          "text": "chr3",
          "x": 0.5,
          "xanchor": "center",
          "xref": "paper",
          "y": 0.898,
          "yanchor": "bottom",
          "yref": "paper"
         },
         {
          "font": {
           "size": 16
          },
          "showarrow": false,
          "text": "chr4",
          "x": 0.5,
          "xanchor": "center",
          "xref": "paper",
          "y": 0.8470000000000001,
          "yanchor": "bottom",
          "yref": "paper"
         },
         {
          "font": {
           "size": 16
          },
          "showarrow": false,
          "text": "chr5",
          "x": 0.5,
          "xanchor": "center",
          "xref": "paper",
          "y": 0.7959999999999999,
          "yanchor": "bottom",
          "yref": "paper"
         },
         {
          "font": {
           "size": 16
          },
          "showarrow": false,
          "text": "chr6",
          "x": 0.5,
          "xanchor": "center",
          "xref": "paper",
          "y": 0.745,
          "yanchor": "bottom",
          "yref": "paper"
         },
         {
          "font": {
           "size": 16
          },
          "showarrow": false,
          "text": "chr7",
          "x": 0.5,
          "xanchor": "center",
          "xref": "paper",
          "y": 0.6940000000000001,
          "yanchor": "bottom",
          "yref": "paper"
         },
         {
          "font": {
           "size": 16
          },
          "showarrow": false,
          "text": "chr8",
          "x": 0.5,
          "xanchor": "center",
          "xref": "paper",
          "y": 0.643,
          "yanchor": "bottom",
          "yref": "paper"
         },
         {
          "font": {
           "size": 16
          },
          "showarrow": false,
          "text": "chr9",
          "x": 0.5,
          "xanchor": "center",
          "xref": "paper",
          "y": 0.592,
          "yanchor": "bottom",
          "yref": "paper"
         },
         {
          "font": {
           "size": 16
          },
          "showarrow": false,
          "text": "chr10",
          "x": 0.5,
          "xanchor": "center",
          "xref": "paper",
          "y": 0.541,
          "yanchor": "bottom",
          "yref": "paper"
         },
         {
          "font": {
           "size": 16
          },
          "showarrow": false,
          "text": "chr11",
          "x": 0.5,
          "xanchor": "center",
          "xref": "paper",
          "y": 0.49,
          "yanchor": "bottom",
          "yref": "paper"
         },
         {
          "font": {
           "size": 16
          },
          "showarrow": false,
          "text": "chr12",
          "x": 0.5,
          "xanchor": "center",
          "xref": "paper",
          "y": 0.43900000000000006,
          "yanchor": "bottom",
          "yref": "paper"
         },
         {
          "font": {
           "size": 16
          },
          "showarrow": false,
          "text": "chr13",
          "x": 0.5,
          "xanchor": "center",
          "xref": "paper",
          "y": 0.388,
          "yanchor": "bottom",
          "yref": "paper"
         },
         {
          "font": {
           "size": 16
          },
          "showarrow": false,
          "text": "chr14",
          "x": 0.5,
          "xanchor": "center",
          "xref": "paper",
          "y": 0.33699999999999997,
          "yanchor": "bottom",
          "yref": "paper"
         },
         {
          "font": {
           "size": 16
          },
          "showarrow": false,
          "text": "chr15",
          "x": 0.5,
          "xanchor": "center",
          "xref": "paper",
          "y": 0.28600000000000003,
          "yanchor": "bottom",
          "yref": "paper"
         },
         {
          "font": {
           "size": 16
          },
          "showarrow": false,
          "text": "chr16",
          "x": 0.5,
          "xanchor": "center",
          "xref": "paper",
          "y": 0.23500000000000001,
          "yanchor": "bottom",
          "yref": "paper"
         },
         {
          "font": {
           "size": 16
          },
          "showarrow": false,
          "text": "chr17",
          "x": 0.5,
          "xanchor": "center",
          "xref": "paper",
          "y": 0.184,
          "yanchor": "bottom",
          "yref": "paper"
         },
         {
          "font": {
           "size": 16
          },
          "showarrow": false,
          "text": "chr18",
          "x": 0.5,
          "xanchor": "center",
          "xref": "paper",
          "y": 0.133,
          "yanchor": "bottom",
          "yref": "paper"
         },
         {
          "font": {
           "size": 16
          },
          "showarrow": false,
          "text": "chr20",
          "x": 0.5,
          "xanchor": "center",
          "xref": "paper",
          "y": 0.082,
          "yanchor": "bottom",
          "yref": "paper"
         },
         {
          "font": {
           "size": 16
          },
          "showarrow": false,
          "text": "chr22",
          "x": 0.5,
          "xanchor": "center",
          "xref": "paper",
          "y": 0.031,
          "yanchor": "bottom",
          "yref": "paper"
         }
        ],
        "height": 2000,
        "hovermode": "closest",
        "showlegend": true,
        "template": {
         "data": {
          "bar": [
           {
            "error_x": {
             "color": "#2a3f5f"
            },
            "error_y": {
             "color": "#2a3f5f"
            },
            "marker": {
             "line": {
              "color": "#E5ECF6",
              "width": 0.5
             },
             "pattern": {
              "fillmode": "overlay",
              "size": 10,
              "solidity": 0.2
             }
            },
            "type": "bar"
           }
          ],
          "barpolar": [
           {
            "marker": {
             "line": {
              "color": "#E5ECF6",
              "width": 0.5
             },
             "pattern": {
              "fillmode": "overlay",
              "size": 10,
              "solidity": 0.2
             }
            },
            "type": "barpolar"
           }
          ],
          "carpet": [
           {
            "aaxis": {
             "endlinecolor": "#2a3f5f",
             "gridcolor": "white",
             "linecolor": "white",
             "minorgridcolor": "white",
             "startlinecolor": "#2a3f5f"
            },
            "baxis": {
             "endlinecolor": "#2a3f5f",
             "gridcolor": "white",
             "linecolor": "white",
             "minorgridcolor": "white",
             "startlinecolor": "#2a3f5f"
            },
            "type": "carpet"
           }
          ],
          "choropleth": [
           {
            "colorbar": {
             "outlinewidth": 0,
             "ticks": ""
            },
            "type": "choropleth"
           }
          ],
          "contour": [
           {
            "colorbar": {
             "outlinewidth": 0,
             "ticks": ""
            },
            "colorscale": [
             [
              0,
              "#0d0887"
             ],
             [
              0.1111111111111111,
              "#46039f"
             ],
             [
              0.2222222222222222,
              "#7201a8"
             ],
             [
              0.3333333333333333,
              "#9c179e"
             ],
             [
              0.4444444444444444,
              "#bd3786"
             ],
             [
              0.5555555555555556,
              "#d8576b"
             ],
             [
              0.6666666666666666,
              "#ed7953"
             ],
             [
              0.7777777777777778,
              "#fb9f3a"
             ],
             [
              0.8888888888888888,
              "#fdca26"
             ],
             [
              1,
              "#f0f921"
             ]
            ],
            "type": "contour"
           }
          ],
          "contourcarpet": [
           {
            "colorbar": {
             "outlinewidth": 0,
             "ticks": ""
            },
            "type": "contourcarpet"
           }
          ],
          "heatmap": [
           {
            "colorbar": {
             "outlinewidth": 0,
             "ticks": ""
            },
            "colorscale": [
             [
              0,
              "#0d0887"
             ],
             [
              0.1111111111111111,
              "#46039f"
             ],
             [
              0.2222222222222222,
              "#7201a8"
             ],
             [
              0.3333333333333333,
              "#9c179e"
             ],
             [
              0.4444444444444444,
              "#bd3786"
             ],
             [
              0.5555555555555556,
              "#d8576b"
             ],
             [
              0.6666666666666666,
              "#ed7953"
             ],
             [
              0.7777777777777778,
              "#fb9f3a"
             ],
             [
              0.8888888888888888,
              "#fdca26"
             ],
             [
              1,
              "#f0f921"
             ]
            ],
            "type": "heatmap"
           }
          ],
          "heatmapgl": [
           {
            "colorbar": {
             "outlinewidth": 0,
             "ticks": ""
            },
            "colorscale": [
             [
              0,
              "#0d0887"
             ],
             [
              0.1111111111111111,
              "#46039f"
             ],
             [
              0.2222222222222222,
              "#7201a8"
             ],
             [
              0.3333333333333333,
              "#9c179e"
             ],
             [
              0.4444444444444444,
              "#bd3786"
             ],
             [
              0.5555555555555556,
              "#d8576b"
             ],
             [
              0.6666666666666666,
              "#ed7953"
             ],
             [
              0.7777777777777778,
              "#fb9f3a"
             ],
             [
              0.8888888888888888,
              "#fdca26"
             ],
             [
              1,
              "#f0f921"
             ]
            ],
            "type": "heatmapgl"
           }
          ],
          "histogram": [
           {
            "marker": {
             "pattern": {
              "fillmode": "overlay",
              "size": 10,
              "solidity": 0.2
             }
            },
            "type": "histogram"
           }
          ],
          "histogram2d": [
           {
            "colorbar": {
             "outlinewidth": 0,
             "ticks": ""
            },
            "colorscale": [
             [
              0,
              "#0d0887"
             ],
             [
              0.1111111111111111,
              "#46039f"
             ],
             [
              0.2222222222222222,
              "#7201a8"
             ],
             [
              0.3333333333333333,
              "#9c179e"
             ],
             [
              0.4444444444444444,
              "#bd3786"
             ],
             [
              0.5555555555555556,
              "#d8576b"
             ],
             [
              0.6666666666666666,
              "#ed7953"
             ],
             [
              0.7777777777777778,
              "#fb9f3a"
             ],
             [
              0.8888888888888888,
              "#fdca26"
             ],
             [
              1,
              "#f0f921"
             ]
            ],
            "type": "histogram2d"
           }
          ],
          "histogram2dcontour": [
           {
            "colorbar": {
             "outlinewidth": 0,
             "ticks": ""
            },
            "colorscale": [
             [
              0,
              "#0d0887"
             ],
             [
              0.1111111111111111,
              "#46039f"
             ],
             [
              0.2222222222222222,
              "#7201a8"
             ],
             [
              0.3333333333333333,
              "#9c179e"
             ],
             [
              0.4444444444444444,
              "#bd3786"
             ],
             [
              0.5555555555555556,
              "#d8576b"
             ],
             [
              0.6666666666666666,
              "#ed7953"
             ],
             [
              0.7777777777777778,
              "#fb9f3a"
             ],
             [
              0.8888888888888888,
              "#fdca26"
             ],
             [
              1,
              "#f0f921"
             ]
            ],
            "type": "histogram2dcontour"
           }
          ],
          "mesh3d": [
           {
            "colorbar": {
             "outlinewidth": 0,
             "ticks": ""
            },
            "type": "mesh3d"
           }
          ],
          "parcoords": [
           {
            "line": {
             "colorbar": {
              "outlinewidth": 0,
              "ticks": ""
             }
            },
            "type": "parcoords"
           }
          ],
          "pie": [
           {
            "automargin": true,
            "type": "pie"
           }
          ],
          "scatter": [
           {
            "fillpattern": {
             "fillmode": "overlay",
             "size": 10,
             "solidity": 0.2
            },
            "type": "scatter"
           }
          ],
          "scatter3d": [
           {
            "line": {
             "colorbar": {
              "outlinewidth": 0,
              "ticks": ""
             }
            },
            "marker": {
             "colorbar": {
              "outlinewidth": 0,
              "ticks": ""
             }
            },
            "type": "scatter3d"
           }
          ],
          "scattercarpet": [
           {
            "marker": {
             "colorbar": {
              "outlinewidth": 0,
              "ticks": ""
             }
            },
            "type": "scattercarpet"
           }
          ],
          "scattergeo": [
           {
            "marker": {
             "colorbar": {
              "outlinewidth": 0,
              "ticks": ""
             }
            },
            "type": "scattergeo"
           }
          ],
          "scattergl": [
           {
            "marker": {
             "colorbar": {
              "outlinewidth": 0,
              "ticks": ""
             }
            },
            "type": "scattergl"
           }
          ],
          "scattermapbox": [
           {
            "marker": {
             "colorbar": {
              "outlinewidth": 0,
              "ticks": ""
             }
            },
            "type": "scattermapbox"
           }
          ],
          "scatterpolar": [
           {
            "marker": {
             "colorbar": {
              "outlinewidth": 0,
              "ticks": ""
             }
            },
            "type": "scatterpolar"
           }
          ],
          "scatterpolargl": [
           {
            "marker": {
             "colorbar": {
              "outlinewidth": 0,
              "ticks": ""
             }
            },
            "type": "scatterpolargl"
           }
          ],
          "scatterternary": [
           {
            "marker": {
             "colorbar": {
              "outlinewidth": 0,
              "ticks": ""
             }
            },
            "type": "scatterternary"
           }
          ],
          "surface": [
           {
            "colorbar": {
             "outlinewidth": 0,
             "ticks": ""
            },
            "colorscale": [
             [
              0,
              "#0d0887"
             ],
             [
              0.1111111111111111,
              "#46039f"
             ],
             [
              0.2222222222222222,
              "#7201a8"
             ],
             [
              0.3333333333333333,
              "#9c179e"
             ],
             [
              0.4444444444444444,
              "#bd3786"
             ],
             [
              0.5555555555555556,
              "#d8576b"
             ],
             [
              0.6666666666666666,
              "#ed7953"
             ],
             [
              0.7777777777777778,
              "#fb9f3a"
             ],
             [
              0.8888888888888888,
              "#fdca26"
             ],
             [
              1,
              "#f0f921"
             ]
            ],
            "type": "surface"
           }
          ],
          "table": [
           {
            "cells": {
             "fill": {
              "color": "#EBF0F8"
             },
             "line": {
              "color": "white"
             }
            },
            "header": {
             "fill": {
              "color": "#C8D4E3"
             },
             "line": {
              "color": "white"
             }
            },
            "type": "table"
           }
          ]
         },
         "layout": {
          "annotationdefaults": {
           "arrowcolor": "#2a3f5f",
           "arrowhead": 0,
           "arrowwidth": 1
          },
          "autotypenumbers": "strict",
          "coloraxis": {
           "colorbar": {
            "outlinewidth": 0,
            "ticks": ""
           }
          },
          "colorscale": {
           "diverging": [
            [
             0,
             "#8e0152"
            ],
            [
             0.1,
             "#c51b7d"
            ],
            [
             0.2,
             "#de77ae"
            ],
            [
             0.3,
             "#f1b6da"
            ],
            [
             0.4,
             "#fde0ef"
            ],
            [
             0.5,
             "#f7f7f7"
            ],
            [
             0.6,
             "#e6f5d0"
            ],
            [
             0.7,
             "#b8e186"
            ],
            [
             0.8,
             "#7fbc41"
            ],
            [
             0.9,
             "#4d9221"
            ],
            [
             1,
             "#276419"
            ]
           ],
           "sequential": [
            [
             0,
             "#0d0887"
            ],
            [
             0.1111111111111111,
             "#46039f"
            ],
            [
             0.2222222222222222,
             "#7201a8"
            ],
            [
             0.3333333333333333,
             "#9c179e"
            ],
            [
             0.4444444444444444,
             "#bd3786"
            ],
            [
             0.5555555555555556,
             "#d8576b"
            ],
            [
             0.6666666666666666,
             "#ed7953"
            ],
            [
             0.7777777777777778,
             "#fb9f3a"
            ],
            [
             0.8888888888888888,
             "#fdca26"
            ],
            [
             1,
             "#f0f921"
            ]
           ],
           "sequentialminus": [
            [
             0,
             "#0d0887"
            ],
            [
             0.1111111111111111,
             "#46039f"
            ],
            [
             0.2222222222222222,
             "#7201a8"
            ],
            [
             0.3333333333333333,
             "#9c179e"
            ],
            [
             0.4444444444444444,
             "#bd3786"
            ],
            [
             0.5555555555555556,
             "#d8576b"
            ],
            [
             0.6666666666666666,
             "#ed7953"
            ],
            [
             0.7777777777777778,
             "#fb9f3a"
            ],
            [
             0.8888888888888888,
             "#fdca26"
            ],
            [
             1,
             "#f0f921"
            ]
           ]
          },
          "colorway": [
           "#636efa",
           "#EF553B",
           "#00cc96",
           "#ab63fa",
           "#FFA15A",
           "#19d3f3",
           "#FF6692",
           "#B6E880",
           "#FF97FF",
           "#FECB52"
          ],
          "font": {
           "color": "#2a3f5f"
          },
          "geo": {
           "bgcolor": "white",
           "lakecolor": "white",
           "landcolor": "#E5ECF6",
           "showlakes": true,
           "showland": true,
           "subunitcolor": "white"
          },
          "hoverlabel": {
           "align": "left"
          },
          "hovermode": "closest",
          "mapbox": {
           "style": "light"
          },
          "paper_bgcolor": "white",
          "plot_bgcolor": "#E5ECF6",
          "polar": {
           "angularaxis": {
            "gridcolor": "white",
            "linecolor": "white",
            "ticks": ""
           },
           "bgcolor": "#E5ECF6",
           "radialaxis": {
            "gridcolor": "white",
            "linecolor": "white",
            "ticks": ""
           }
          },
          "scene": {
           "xaxis": {
            "backgroundcolor": "#E5ECF6",
            "gridcolor": "white",
            "gridwidth": 2,
            "linecolor": "white",
            "showbackground": true,
            "ticks": "",
            "zerolinecolor": "white"
           },
           "yaxis": {
            "backgroundcolor": "#E5ECF6",
            "gridcolor": "white",
            "gridwidth": 2,
            "linecolor": "white",
            "showbackground": true,
            "ticks": "",
            "zerolinecolor": "white"
           },
           "zaxis": {
            "backgroundcolor": "#E5ECF6",
            "gridcolor": "white",
            "gridwidth": 2,
            "linecolor": "white",
            "showbackground": true,
            "ticks": "",
            "zerolinecolor": "white"
           }
          },
          "shapedefaults": {
           "line": {
            "color": "#2a3f5f"
           }
          },
          "ternary": {
           "aaxis": {
            "gridcolor": "white",
            "linecolor": "white",
            "ticks": ""
           },
           "baxis": {
            "gridcolor": "white",
            "linecolor": "white",
            "ticks": ""
           },
           "bgcolor": "#E5ECF6",
           "caxis": {
            "gridcolor": "white",
            "linecolor": "white",
            "ticks": ""
           }
          },
          "title": {
           "x": 0.05
          },
          "xaxis": {
           "automargin": true,
           "gridcolor": "white",
           "linecolor": "white",
           "ticks": "",
           "title": {
            "standoff": 15
           },
           "zerolinecolor": "white",
           "zerolinewidth": 2
          },
          "yaxis": {
           "automargin": true,
           "gridcolor": "white",
           "linecolor": "white",
           "ticks": "",
           "title": {
            "standoff": 15
           },
           "zerolinecolor": "white",
           "zerolinewidth": 2
          }
         }
        },
        "title": {
         "text": "Gene Annotation Visualization of Clock 1 Relevant CpGs"
        },
        "width": 1200,
        "xaxis": {
         "anchor": "y",
         "domain": [
          0,
          1
         ],
         "matches": "x20",
         "range": [
          0,
          null
         ],
         "showgrid": false,
         "showticklabels": false,
         "title": {
          "text": "Genomic Position"
         }
        },
        "xaxis10": {
         "anchor": "y10",
         "domain": [
          0,
          1
         ],
         "matches": "x20",
         "range": [
          0,
          null
         ],
         "showgrid": false,
         "showticklabels": false,
         "title": {
          "text": "Genomic Position"
         }
        },
        "xaxis11": {
         "anchor": "y11",
         "domain": [
          0,
          1
         ],
         "matches": "x20",
         "range": [
          0,
          null
         ],
         "showgrid": false,
         "showticklabels": false,
         "title": {
          "text": "Genomic Position"
         }
        },
        "xaxis12": {
         "anchor": "y12",
         "domain": [
          0,
          1
         ],
         "matches": "x20",
         "range": [
          0,
          null
         ],
         "showgrid": false,
         "showticklabels": false,
         "title": {
          "text": "Genomic Position"
         }
        },
        "xaxis13": {
         "anchor": "y13",
         "domain": [
          0,
          1
         ],
         "matches": "x20",
         "range": [
          0,
          null
         ],
         "showgrid": false,
         "showticklabels": false,
         "title": {
          "text": "Genomic Position"
         }
        },
        "xaxis14": {
         "anchor": "y14",
         "domain": [
          0,
          1
         ],
         "matches": "x20",
         "range": [
          0,
          null
         ],
         "showgrid": false,
         "showticklabels": false,
         "title": {
          "text": "Genomic Position"
         }
        },
        "xaxis15": {
         "anchor": "y15",
         "domain": [
          0,
          1
         ],
         "matches": "x20",
         "range": [
          0,
          null
         ],
         "showgrid": false,
         "showticklabels": false,
         "title": {
          "text": "Genomic Position"
         }
        },
        "xaxis16": {
         "anchor": "y16",
         "domain": [
          0,
          1
         ],
         "matches": "x20",
         "range": [
          0,
          null
         ],
         "showgrid": false,
         "showticklabels": false,
         "title": {
          "text": "Genomic Position"
         }
        },
        "xaxis17": {
         "anchor": "y17",
         "domain": [
          0,
          1
         ],
         "matches": "x20",
         "range": [
          0,
          null
         ],
         "showgrid": false,
         "showticklabels": false,
         "title": {
          "text": "Genomic Position"
         }
        },
        "xaxis18": {
         "anchor": "y18",
         "domain": [
          0,
          1
         ],
         "matches": "x20",
         "range": [
          0,
          null
         ],
         "showgrid": false,
         "showticklabels": false,
         "title": {
          "text": "Genomic Position"
         }
        },
        "xaxis19": {
         "anchor": "y19",
         "domain": [
          0,
          1
         ],
         "matches": "x20",
         "range": [
          0,
          null
         ],
         "showgrid": false,
         "showticklabels": false,
         "title": {
          "text": "Genomic Position"
         }
        },
        "xaxis2": {
         "anchor": "y2",
         "domain": [
          0,
          1
         ],
         "matches": "x20",
         "range": [
          0,
          null
         ],
         "showgrid": false,
         "showticklabels": false,
         "title": {
          "text": "Genomic Position"
         }
        },
        "xaxis20": {
         "anchor": "y20",
         "domain": [
          0,
          1
         ],
         "range": [
          0,
          null
         ],
         "showgrid": false,
         "title": {
          "text": "Genomic Position"
         }
        },
        "xaxis3": {
         "anchor": "y3",
         "domain": [
          0,
          1
         ],
         "matches": "x20",
         "range": [
          0,
          null
         ],
         "showgrid": false,
         "showticklabels": false,
         "title": {
          "text": "Genomic Position"
         }
        },
        "xaxis4": {
         "anchor": "y4",
         "domain": [
          0,
          1
         ],
         "matches": "x20",
         "range": [
          0,
          null
         ],
         "showgrid": false,
         "showticklabels": false,
         "title": {
          "text": "Genomic Position"
         }
        },
        "xaxis5": {
         "anchor": "y5",
         "domain": [
          0,
          1
         ],
         "matches": "x20",
         "range": [
          0,
          null
         ],
         "showgrid": false,
         "showticklabels": false,
         "title": {
          "text": "Genomic Position"
         }
        },
        "xaxis6": {
         "anchor": "y6",
         "domain": [
          0,
          1
         ],
         "matches": "x20",
         "range": [
          0,
          null
         ],
         "showgrid": false,
         "showticklabels": false,
         "title": {
          "text": "Genomic Position"
         }
        },
        "xaxis7": {
         "anchor": "y7",
         "domain": [
          0,
          1
         ],
         "matches": "x20",
         "range": [
          0,
          null
         ],
         "showgrid": false,
         "showticklabels": false,
         "title": {
          "text": "Genomic Position"
         }
        },
        "xaxis8": {
         "anchor": "y8",
         "domain": [
          0,
          1
         ],
         "matches": "x20",
         "range": [
          0,
          null
         ],
         "showgrid": false,
         "showticklabels": false,
         "title": {
          "text": "Genomic Position"
         }
        },
        "xaxis9": {
         "anchor": "y9",
         "domain": [
          0,
          1
         ],
         "matches": "x20",
         "range": [
          0,
          null
         ],
         "showgrid": false,
         "showticklabels": false,
         "title": {
          "text": "Genomic Position"
         }
        },
        "yaxis": {
         "anchor": "x",
         "domain": [
          0.969,
          1
         ],
         "showgrid": false,
         "showticklabels": false
        },
        "yaxis10": {
         "anchor": "x10",
         "domain": [
          0.51,
          0.541
         ],
         "showgrid": false,
         "showticklabels": false
        },
        "yaxis11": {
         "anchor": "x11",
         "domain": [
          0.459,
          0.49
         ],
         "showgrid": false,
         "showticklabels": false
        },
        "yaxis12": {
         "anchor": "x12",
         "domain": [
          0.40800000000000003,
          0.43900000000000006
         ],
         "showgrid": false,
         "showticklabels": false
        },
        "yaxis13": {
         "anchor": "x13",
         "domain": [
          0.357,
          0.388
         ],
         "showgrid": false,
         "showticklabels": false
        },
        "yaxis14": {
         "anchor": "x14",
         "domain": [
          0.306,
          0.33699999999999997
         ],
         "showgrid": false,
         "showticklabels": false
        },
        "yaxis15": {
         "anchor": "x15",
         "domain": [
          0.255,
          0.28600000000000003
         ],
         "showgrid": false,
         "showticklabels": false
        },
        "yaxis16": {
         "anchor": "x16",
         "domain": [
          0.20400000000000001,
          0.23500000000000001
         ],
         "showgrid": false,
         "showticklabels": false
        },
        "yaxis17": {
         "anchor": "x17",
         "domain": [
          0.153,
          0.184
         ],
         "showgrid": false,
         "showticklabels": false
        },
        "yaxis18": {
         "anchor": "x18",
         "domain": [
          0.10200000000000001,
          0.133
         ],
         "showgrid": false,
         "showticklabels": false
        },
        "yaxis19": {
         "anchor": "x19",
         "domain": [
          0.051000000000000004,
          0.082
         ],
         "showgrid": false,
         "showticklabels": false
        },
        "yaxis2": {
         "anchor": "x2",
         "domain": [
          0.918,
          0.9490000000000001
         ],
         "showgrid": false,
         "showticklabels": false
        },
        "yaxis20": {
         "anchor": "x20",
         "domain": [
          0,
          0.031
         ],
         "showgrid": false,
         "showticklabels": false
        },
        "yaxis3": {
         "anchor": "x3",
         "domain": [
          0.867,
          0.898
         ],
         "showgrid": false,
         "showticklabels": false
        },
        "yaxis4": {
         "anchor": "x4",
         "domain": [
          0.8160000000000001,
          0.8470000000000001
         ],
         "showgrid": false,
         "showticklabels": false
        },
        "yaxis5": {
         "anchor": "x5",
         "domain": [
          0.7649999999999999,
          0.7959999999999999
         ],
         "showgrid": false,
         "showticklabels": false
        },
        "yaxis6": {
         "anchor": "x6",
         "domain": [
          0.714,
          0.745
         ],
         "showgrid": false,
         "showticklabels": false
        },
        "yaxis7": {
         "anchor": "x7",
         "domain": [
          0.663,
          0.6940000000000001
         ],
         "showgrid": false,
         "showticklabels": false
        },
        "yaxis8": {
         "anchor": "x8",
         "domain": [
          0.612,
          0.643
         ],
         "showgrid": false,
         "showticklabels": false
        },
        "yaxis9": {
         "anchor": "x9",
         "domain": [
          0.5609999999999999,
          0.592
         ],
         "showgrid": false,
         "showticklabels": false
        }
       }
      }
     },
     "metadata": {},
     "output_type": "display_data"
    }
   ],
   "source": [
    "### Chromosome-wise visualization of the gene annotations of the relevant CpGs in Clock1\n",
    "\n",
    "# Viridis color palette\n",
    "viridis_colors = plt.cm.viridis([0, 0.1, 0.2, 0.3, 0.5, 0.7, 0.8, 1.0])\n",
    "\n",
    "# Map the categories to the Viridis colors\n",
    "color_map = {\n",
    "    'Intron': mcolors.to_hex(viridis_colors[0]), #0\n",
    "    'Exon': mcolors.to_hex(viridis_colors[2]), #1\n",
    "    'Promoter': mcolors.to_hex(viridis_colors[3]), #2\n",
    "    'threeUTR': mcolors.to_hex(viridis_colors[4]), #3\n",
    "    'Intergenic_downstream': mcolors.to_hex(viridis_colors[5]), #4\n",
    "    'fiveUTR': mcolors.to_hex(viridis_colors[6]), #5\n",
    "    'Intergenic_upstream': mcolors.to_hex(viridis_colors[7]) #6\n",
    "}\n",
    "\n",
    "# Get unique chromosomes and sort them\n",
    "chromosomes = sorted(cpg_annotations['chr'].unique(), key=lambda x: int(x.replace('chr', '')))\n",
    "\n",
    "# Create subplots\n",
    "fig = make_subplots(rows=len(chromosomes), cols=1, \n",
    "                    shared_xaxes=True, vertical_spacing=0.02,\n",
    "                    subplot_titles=chromosomes)\n",
    "\n",
    "# Add traces for each chromosome\n",
    "for i, chr in enumerate(chromosomes, start=1):\n",
    "    chr_cpg_annotations = cpg_annotations[cpg_annotations['chr'] == chr]\n",
    "    \n",
    "    # Add gene annotations\n",
    "    fig.add_trace(\n",
    "        go.Scatter(\n",
    "            x=chr_cpg_annotations['start'],\n",
    "            y=[i]*len(chr_cpg_annotations),\n",
    "            mode='markers+text',\n",
    "            marker=dict(\n",
    "                size=10,\n",
    "                color=[color_map[cat] for cat in chr_cpg_annotations['category']],\n",
    "                symbol='square', \n",
    "                line=dict(width=0.5, color='black')\n",
    "            ),\n",
    "            text=chr_cpg_annotations['gene'],\n",
    "            textposition='top center',        \n",
    "            textfont=dict(color='black', size=10),\n",
    "            hoverinfo='text',\n",
    "            hovertext=[f\"{cpg}<br>{gene}<br>{cat}<br>{start}\" \n",
    "                       for cpg, gene, cat, start in zip(chr_cpg_annotations['CpG'], chr_cpg_annotations['gene'], \n",
    "                                                        chr_cpg_annotations['category'], chr_cpg_annotations['start'])],\n",
    "            showlegend=False\n",
    "        ),\n",
    "        row=i, col=1\n",
    "    )\n",
    "\n",
    "\n",
    "# Add legend entries\n",
    "for category, color in color_map.items():\n",
    "    fig.add_trace(\n",
    "        go.Scatter(\n",
    "            x=[None], y=[None],\n",
    "            mode='markers',\n",
    "            marker=dict(size=10, color=color, symbol='square'),\n",
    "            legendgroup=category,\n",
    "            showlegend=True,\n",
    "            name=category\n",
    "        )\n",
    "    )\n",
    "\n",
    "# Update layout\n",
    "fig.update_layout(\n",
    "    height=100*len(chromosomes),\n",
    "    width=1200,\n",
    "    showlegend=True,\n",
    "    title='Gene Annotation Visualization of Clock 1 Relevant CpGs',\n",
    "    hovermode='closest'\n",
    ")\n",
    "\n",
    "# Update y-axes\n",
    "fig.update_yaxes(showticklabels=False, showgrid=False)\n",
    "\n",
    "\n",
    "# Update x-axes\n",
    "fig.update_xaxes(title_text='Genomic Position', showgrid=False, range=[0, None]) # range starting at 0 as not to show the x line. If a bit of padding is needed, modify here.\n",
    "\n",
    "\n",
    "# Show the plot\n",
    "fig.show()"
   ]
  }
 ],
 "metadata": {
  "kernelspec": {
   "display_name": "Python 3",
   "language": "python",
   "name": "python3"
  },
  "language_info": {
   "codemirror_mode": {
    "name": "ipython",
    "version": 3
   },
   "file_extension": ".py",
   "mimetype": "text/x-python",
   "name": "python",
   "nbconvert_exporter": "python",
   "pygments_lexer": "ipython3",
   "version": "3.12.2"
  }
 },
 "nbformat": 4,
 "nbformat_minor": 2
}
