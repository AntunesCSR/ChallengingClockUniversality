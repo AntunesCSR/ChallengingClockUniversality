{
 "cells": [
  {
   "cell_type": "markdown",
   "metadata": {},
   "source": [
    "# Gene Annotation"
   ]
  },
  {
   "cell_type": "markdown",
   "metadata": {},
   "source": [
    "Mapping of the relevant CpGs identified by clustering and the associated genes.\n",
    "The CpGs can be found in folder 'Mammal_Methylation_Levels/Cluster Analysis/Relevant CpGS'. There will be at least 3 files, each with the relevant CpGs of each of the 3 Clocks. "
   ]
  },
  {
   "cell_type": "code",
   "execution_count": 1,
   "metadata": {},
   "outputs": [],
   "source": [
    "### Libraries\n",
    "\n",
    "import os\n",
    "from Bio import Entrez, SeqIO\n",
    "from Bio.SeqFeature import SeqFeature, FeatureLocation\n",
    "from Bio.SeqRecord import SeqRecord\n",
    "import pandas as pd\n",
    "import plotly.graph_objects as go\n",
    "from plotly.subplots import make_subplots\n",
    "import matplotlib.pyplot as plt\n",
    "import matplotlib.colors as mcolors\n",
    "import pandas as pd"
   ]
  },
  {
   "cell_type": "code",
   "execution_count": 2,
   "metadata": {},
   "outputs": [
    {
     "data": {
      "text/html": [
       "<div>\n",
       "<style scoped>\n",
       "    .dataframe tbody tr th:only-of-type {\n",
       "        vertical-align: middle;\n",
       "    }\n",
       "\n",
       "    .dataframe tbody tr th {\n",
       "        vertical-align: top;\n",
       "    }\n",
       "\n",
       "    .dataframe thead th {\n",
       "        text-align: right;\n",
       "    }\n",
       "</style>\n",
       "<table border=\"1\" class=\"dataframe\">\n",
       "  <thead>\n",
       "    <tr style=\"text-align: right;\">\n",
       "      <th></th>\n",
       "      <th>index</th>\n",
       "      <th>CpG</th>\n",
       "      <th>beta_clock1</th>\n",
       "      <th>CHR</th>\n",
       "      <th>bp_hg38</th>\n",
       "      <th>Gene</th>\n",
       "      <th>Gene.hg19</th>\n",
       "      <th>ENTREZID</th>\n",
       "      <th>conservationInMouse</th>\n",
       "      <th>GeneRegionID</th>\n",
       "      <th>...</th>\n",
       "      <th>CHR_y</th>\n",
       "      <th>bp_hg38_y</th>\n",
       "      <th>Gene.hg19_y</th>\n",
       "      <th>ENTREZID_y</th>\n",
       "      <th>conservationInMouse_y</th>\n",
       "      <th>GeneRegionID_y</th>\n",
       "      <th>annotation_y</th>\n",
       "      <th>CHR_mm10_y</th>\n",
       "      <th>bp_mm10_y</th>\n",
       "      <th>Gene_mm10_y</th>\n",
       "    </tr>\n",
       "  </thead>\n",
       "  <tbody>\n",
       "    <tr>\n",
       "      <th>0</th>\n",
       "      <td>143.0</td>\n",
       "      <td>cg11728741</td>\n",
       "      <td>0.928874</td>\n",
       "      <td>8</td>\n",
       "      <td>41896469.0</td>\n",
       "      <td>ANK1</td>\n",
       "      <td>ANK1</td>\n",
       "      <td>286</td>\n",
       "      <td>conserved gene and region in mouse and human</td>\n",
       "      <td>ANK1_Exon</td>\n",
       "      <td>...</td>\n",
       "      <td>NaN</td>\n",
       "      <td>NaN</td>\n",
       "      <td>NaN</td>\n",
       "      <td>NaN</td>\n",
       "      <td>NaN</td>\n",
       "      <td>NaN</td>\n",
       "      <td>NaN</td>\n",
       "      <td>NaN</td>\n",
       "      <td>NaN</td>\n",
       "      <td>NaN</td>\n",
       "    </tr>\n",
       "    <tr>\n",
       "      <th>1</th>\n",
       "      <td>297.0</td>\n",
       "      <td>cg24352905</td>\n",
       "      <td>0.853268</td>\n",
       "      <td>5</td>\n",
       "      <td>77645452.0</td>\n",
       "      <td>OTP</td>\n",
       "      <td>OTP</td>\n",
       "      <td>23440</td>\n",
       "      <td>conserved gene and region in mouse and human</td>\n",
       "      <td>OTP_Promoter</td>\n",
       "      <td>...</td>\n",
       "      <td>NaN</td>\n",
       "      <td>NaN</td>\n",
       "      <td>NaN</td>\n",
       "      <td>NaN</td>\n",
       "      <td>NaN</td>\n",
       "      <td>NaN</td>\n",
       "      <td>NaN</td>\n",
       "      <td>NaN</td>\n",
       "      <td>NaN</td>\n",
       "      <td>NaN</td>\n",
       "    </tr>\n",
       "    <tr>\n",
       "      <th>2</th>\n",
       "      <td>98.0</td>\n",
       "      <td>cg08938156</td>\n",
       "      <td>0.843749</td>\n",
       "      <td>3</td>\n",
       "      <td>147409417.0</td>\n",
       "      <td>LOC440982</td>\n",
       "      <td>ZIC1</td>\n",
       "      <td>440982</td>\n",
       "      <td>mapped to different gene in human and mouse</td>\n",
       "      <td>LOC440982_fiveUTR</td>\n",
       "      <td>...</td>\n",
       "      <td>NaN</td>\n",
       "      <td>NaN</td>\n",
       "      <td>NaN</td>\n",
       "      <td>NaN</td>\n",
       "      <td>NaN</td>\n",
       "      <td>NaN</td>\n",
       "      <td>NaN</td>\n",
       "      <td>NaN</td>\n",
       "      <td>NaN</td>\n",
       "      <td>NaN</td>\n",
       "    </tr>\n",
       "    <tr>\n",
       "      <th>3</th>\n",
       "      <td>160.0</td>\n",
       "      <td>cg13058338</td>\n",
       "      <td>0.638660</td>\n",
       "      <td>12</td>\n",
       "      <td>54173598.0</td>\n",
       "      <td>SMUG1</td>\n",
       "      <td>SMUG1</td>\n",
       "      <td>23583</td>\n",
       "      <td>mapped to different gene in human and mouse</td>\n",
       "      <td>SMUG1_Intron</td>\n",
       "      <td>...</td>\n",
       "      <td>NaN</td>\n",
       "      <td>NaN</td>\n",
       "      <td>NaN</td>\n",
       "      <td>NaN</td>\n",
       "      <td>NaN</td>\n",
       "      <td>NaN</td>\n",
       "      <td>NaN</td>\n",
       "      <td>NaN</td>\n",
       "      <td>NaN</td>\n",
       "      <td>NaN</td>\n",
       "    </tr>\n",
       "    <tr>\n",
       "      <th>4</th>\n",
       "      <td>316.0</td>\n",
       "      <td>cg26067250</td>\n",
       "      <td>0.510613</td>\n",
       "      <td>2</td>\n",
       "      <td>172085721.0</td>\n",
       "      <td>DLX1</td>\n",
       "      <td>DLX1</td>\n",
       "      <td>1745</td>\n",
       "      <td>mapped to different gene in human and mouse</td>\n",
       "      <td>DLX1_Exon</td>\n",
       "      <td>...</td>\n",
       "      <td>NaN</td>\n",
       "      <td>NaN</td>\n",
       "      <td>NaN</td>\n",
       "      <td>NaN</td>\n",
       "      <td>NaN</td>\n",
       "      <td>NaN</td>\n",
       "      <td>NaN</td>\n",
       "      <td>NaN</td>\n",
       "      <td>NaN</td>\n",
       "      <td>NaN</td>\n",
       "    </tr>\n",
       "  </tbody>\n",
       "</table>\n",
       "<p>5 rows × 38 columns</p>\n",
       "</div>"
      ],
      "text/plain": [
       "   index         CpG  beta_clock1 CHR      bp_hg38       Gene Gene.hg19  \\\n",
       "0  143.0  cg11728741     0.928874   8   41896469.0       ANK1      ANK1   \n",
       "1  297.0  cg24352905     0.853268   5   77645452.0        OTP       OTP   \n",
       "2   98.0  cg08938156     0.843749   3  147409417.0  LOC440982      ZIC1   \n",
       "3  160.0  cg13058338     0.638660  12   54173598.0      SMUG1     SMUG1   \n",
       "4  316.0  cg26067250     0.510613   2  172085721.0       DLX1      DLX1   \n",
       "\n",
       "   ENTREZID                           conservationInMouse       GeneRegionID  \\\n",
       "0       286  conserved gene and region in mouse and human          ANK1_Exon   \n",
       "1     23440  conserved gene and region in mouse and human       OTP_Promoter   \n",
       "2    440982   mapped to different gene in human and mouse  LOC440982_fiveUTR   \n",
       "3     23583   mapped to different gene in human and mouse       SMUG1_Intron   \n",
       "4      1745   mapped to different gene in human and mouse          DLX1_Exon   \n",
       "\n",
       "   ... CHR_y bp_hg38_y  Gene.hg19_y ENTREZID_y  conservationInMouse_y  \\\n",
       "0  ...   NaN       NaN          NaN        NaN                    NaN   \n",
       "1  ...   NaN       NaN          NaN        NaN                    NaN   \n",
       "2  ...   NaN       NaN          NaN        NaN                    NaN   \n",
       "3  ...   NaN       NaN          NaN        NaN                    NaN   \n",
       "4  ...   NaN       NaN          NaN        NaN                    NaN   \n",
       "\n",
       "   GeneRegionID_y  annotation_y CHR_mm10_y  bp_mm10_y Gene_mm10_y  \n",
       "0             NaN           NaN        NaN        NaN         NaN  \n",
       "1             NaN           NaN        NaN        NaN         NaN  \n",
       "2             NaN           NaN        NaN        NaN         NaN  \n",
       "3             NaN           NaN        NaN        NaN         NaN  \n",
       "4             NaN           NaN        NaN        NaN         NaN  \n",
       "\n",
       "[5 rows x 38 columns]"
      ]
     },
     "execution_count": 2,
     "metadata": {},
     "output_type": "execute_result"
    }
   ],
   "source": [
    "### Load the Clocks metadata - [Combined]\n",
    "# this was needed because ENTREZID was needed for downstream analysis\n",
    "\n",
    "\n",
    "# Original file names\n",
    "ori_clock_name = ['clock_1_ordered.csv', 'clock_2_ordered.csv', 'clock_3_ordered.csv', 'overlap_2_3_ordered.csv']\n",
    "\n",
    "# Mapping of original file names to desired clock names\n",
    "clock_name_mapping = {\n",
    "    'clock_1_ordered.csv': 'clock1',\n",
    "    'clock_2_ordered.csv': 'clock2',\n",
    "    'clock_3_ordered.csv': 'clock3',\n",
    "    'overlap_2_3_ordered.csv': 'clock2_3'\n",
    "}\n",
    "\n",
    "# List to store dataframes\n",
    "df_list = []\n",
    "\n",
    "# Load the CSV files into the dictionary with the desired names\n",
    "for clock_name in ori_clock_name:\n",
    "    new_name = clock_name_mapping[clock_name]\n",
    "    df = pd.read_csv(f'../../FunctionalAnalysis/{clock_name}')\n",
    "    df.rename(columns={'var': 'CpG'}, inplace=True)  # Rename 'var' column to 'CpG'\n",
    "\n",
    "    # For clock2_3, rename 'var_x' to 'CpG' and 'ENTREZID_x' to 'ENTREZID'\n",
    "    if new_name == 'clock2_3':\n",
    "        df.rename(columns={'var_x': 'CpG', 'ENTREZID_x': 'ENTREZID'}, inplace=True)\n",
    "    \n",
    "    df_list.append(df)\n",
    "\n",
    "# Concatenate all dataframes\n",
    "combined_clocks_df = pd.concat(df_list, ignore_index=True)\n",
    "\n",
    "# Drop duplicates based on 'CpG' and 'ENTREZID' columns\n",
    "combined_clocks_df.drop_duplicates(subset=['CpG', 'ENTREZID'], inplace=True)\n",
    "\n",
    "# Reset index\n",
    "combined_clocks_df.reset_index(drop=True, inplace=True)\n",
    "\n",
    "# Display the combined dataframe\n",
    "combined_clocks_df.head()\n"
   ]
  },
  {
   "cell_type": "code",
   "execution_count": 4,
   "metadata": {},
   "outputs": [
    {
     "name": "stdout",
     "output_type": "stream",
     "text": [
      "all_clocks_high_methylated_cpgs has 17 CpGs\n",
      "all_clocks_low_methylated_cpgs has 42 CpGs\n",
      "all_clocks_variable_methylated_cpgs has 81 CpGs\n",
      "anova_all_clocks_significant_cpgs has 17 CpGs\n",
      "all_clocks_variable_high_overlap_methylated_cpgs has 13 CpGs\n",
      "all_clocks_variable_low_overlap_methylated_cpgs has 19 CpGs\n",
      "all_clocks_variable_no_overlap_methylated_cpgs has 49 CpGs\n"
     ]
    }
   ],
   "source": [
    "### Load the csv with the relevant CpGs for each of the crosstissue methylation \n",
    "\n",
    "# List of clock names\n",
    "dataset_names = ['all_clocks_high_methylated_cpgs', # high methylation\n",
    "                    'all_clocks_low_methylated_cpgs', # low methylation\n",
    "                    'all_clocks_variable_methylated_cpgs',  # variable methylation (all)\n",
    "                    'anova_all_clocks_significant_cpgs', # significant CpGs from ANOVA\n",
    "                    'all_clocks_variable_high_overlap_methylated_cpgs', # High methylation overlap with variable\n",
    "                    'all_clocks_variable_low_overlap_methylated_cpgs', # Low methylation overlap with variable\n",
    "                    'all_clocks_variable_no_overlap_methylated_cpgs' # No overlap with variable\n",
    "                ]\n",
    "\n",
    "# Dictionary to store the dataframes for each dataset\n",
    "rel_cpgs_dict = {}\n",
    "\n",
    "# Loop through each clock name\n",
    "for dataset in dataset_names:\n",
    "    # Read the CSV file for the relevant CpGs\n",
    "    file_path = f'../../Mammal_Methylation_Levels/Cross-Tissue Methylation Patterns/{dataset}.csv'\n",
    "    df = pd.read_csv(file_path)\n",
    "    \n",
    "    # Store the dataframe in the dictionary\n",
    "    rel_cpgs_dict[dataset] = df\n",
    "    \n",
    "    # Print the number of CpGs for the current clock\n",
    "    print(f'{dataset} has {len(df)} CpGs')\n"
   ]
  },
  {
   "cell_type": "code",
   "execution_count": 5,
   "metadata": {},
   "outputs": [
    {
     "data": {
      "text/html": [
       "<div>\n",
       "<style scoped>\n",
       "    .dataframe tbody tr th:only-of-type {\n",
       "        vertical-align: middle;\n",
       "    }\n",
       "\n",
       "    .dataframe tbody tr th {\n",
       "        vertical-align: top;\n",
       "    }\n",
       "\n",
       "    .dataframe thead th {\n",
       "        text-align: right;\n",
       "    }\n",
       "</style>\n",
       "<table border=\"1\" class=\"dataframe\">\n",
       "  <thead>\n",
       "    <tr style=\"text-align: right;\">\n",
       "      <th></th>\n",
       "      <th>CpG</th>\n",
       "    </tr>\n",
       "  </thead>\n",
       "  <tbody>\n",
       "    <tr>\n",
       "      <th>0</th>\n",
       "      <td>cg14443903</td>\n",
       "    </tr>\n",
       "    <tr>\n",
       "      <th>1</th>\n",
       "      <td>cg05401971</td>\n",
       "    </tr>\n",
       "    <tr>\n",
       "      <th>2</th>\n",
       "      <td>cg21907062</td>\n",
       "    </tr>\n",
       "    <tr>\n",
       "      <th>3</th>\n",
       "      <td>cg23778391</td>\n",
       "    </tr>\n",
       "    <tr>\n",
       "      <th>4</th>\n",
       "      <td>cg17516812</td>\n",
       "    </tr>\n",
       "  </tbody>\n",
       "</table>\n",
       "</div>"
      ],
      "text/plain": [
       "          CpG\n",
       "0  cg14443903\n",
       "1  cg05401971\n",
       "2  cg21907062\n",
       "3  cg23778391\n",
       "4  cg17516812"
      ]
     },
     "execution_count": 5,
     "metadata": {},
     "output_type": "execute_result"
    }
   ],
   "source": [
    "rel_cpgs_dict['all_clocks_high_methylated_cpgs'].head()"
   ]
  },
  {
   "cell_type": "code",
   "execution_count": 5,
   "metadata": {},
   "outputs": [
    {
     "data": {
      "text/html": [
       "<div>\n",
       "<style scoped>\n",
       "    .dataframe tbody tr th:only-of-type {\n",
       "        vertical-align: middle;\n",
       "    }\n",
       "\n",
       "    .dataframe tbody tr th {\n",
       "        vertical-align: top;\n",
       "    }\n",
       "\n",
       "    .dataframe thead th {\n",
       "        text-align: right;\n",
       "    }\n",
       "</style>\n",
       "<table border=\"1\" class=\"dataframe\">\n",
       "  <thead>\n",
       "    <tr style=\"text-align: right;\">\n",
       "      <th></th>\n",
       "      <th>IlmnID</th>\n",
       "      <th>Name</th>\n",
       "      <th>AddressA_ID</th>\n",
       "      <th>AlleleA_ProbeSeq</th>\n",
       "      <th>ProbeA_Ref_CIGAR</th>\n",
       "      <th>AddressB_ID</th>\n",
       "      <th>AlleleB_ProbeSeq</th>\n",
       "      <th>ProbeB_Ref_CIGAR</th>\n",
       "      <th>StrandFR</th>\n",
       "      <th>StrandTB</th>\n",
       "      <th>...</th>\n",
       "      <th>Elephant.loxAfr3.100_CGstart</th>\n",
       "      <th>Elephant.loxAfr3.100_CGend</th>\n",
       "      <th>Elephant.loxAfr3.100_seqnames</th>\n",
       "      <th>Elephant.loxAfr3.100_SYMBOL</th>\n",
       "      <th>Elephant.loxAfr3.100_main_Categories</th>\n",
       "      <th>Cattle.ARS-UCD1.2_CGstart</th>\n",
       "      <th>Cattle.ARS-UCD1.2_CGend</th>\n",
       "      <th>Cattle.ARS-UCD1.2_seqnames</th>\n",
       "      <th>Cattle.ARS-UCD1.2_SYMBOL</th>\n",
       "      <th>Cattle.ARS-UCD1.2_main_Categories</th>\n",
       "    </tr>\n",
       "  </thead>\n",
       "  <tbody>\n",
       "    <tr>\n",
       "      <th>1</th>\n",
       "      <td>cg00000165</td>\n",
       "      <td>cg00000165_B_C_II_16W28R4_Y</td>\n",
       "      <td>61688267</td>\n",
       "      <td>CAAAATCTATTAATACWATAACTTTTAATAAAACAACTAAAACACR...</td>\n",
       "      <td>16W28R4</td>\n",
       "      <td>NaN</td>\n",
       "      <td>NaN</td>\n",
       "      <td>NaN</td>\n",
       "      <td>R</td>\n",
       "      <td>B</td>\n",
       "      <td>...</td>\n",
       "      <td>11412983.0</td>\n",
       "      <td>11412984.0</td>\n",
       "      <td>scaffold_60</td>\n",
       "      <td>BARHL2</td>\n",
       "      <td>Intergenic_upstream</td>\n",
       "      <td>52520158.0</td>\n",
       "      <td>52520159.0</td>\n",
       "      <td>3</td>\n",
       "      <td>BARHL2</td>\n",
       "      <td>Intergenic_upstream</td>\n",
       "    </tr>\n",
       "    <tr>\n",
       "      <th>2</th>\n",
       "      <td>cg00001209</td>\n",
       "      <td>cg00001209_B_C_II_15M34_Y</td>\n",
       "      <td>99653471</td>\n",
       "      <td>TCTTAACATTATAAAMAAAACAAAATAATACAAAATATATTCAACC...</td>\n",
       "      <td>15M34</td>\n",
       "      <td>NaN</td>\n",
       "      <td>NaN</td>\n",
       "      <td>NaN</td>\n",
       "      <td>F</td>\n",
       "      <td>B</td>\n",
       "      <td>...</td>\n",
       "      <td>64819638.0</td>\n",
       "      <td>64819639.0</td>\n",
       "      <td>scaffold_7</td>\n",
       "      <td>KIF2A</td>\n",
       "      <td>Intergenic_upstream</td>\n",
       "      <td>17450440.0</td>\n",
       "      <td>17450441.0</td>\n",
       "      <td>20</td>\n",
       "      <td>KIF2A</td>\n",
       "      <td>Intergenic_upstream</td>\n",
       "    </tr>\n",
       "    <tr>\n",
       "      <th>3</th>\n",
       "      <td>cg00001364</td>\n",
       "      <td>cg00001364_B_C_II_28Y21_Y</td>\n",
       "      <td>94653210</td>\n",
       "      <td>ACCAATTTAATATAAATCRCTTATATAAYAAACACCTAAAAACAAA...</td>\n",
       "      <td>28Y21</td>\n",
       "      <td>NaN</td>\n",
       "      <td>NaN</td>\n",
       "      <td>NaN</td>\n",
       "      <td>R</td>\n",
       "      <td>B</td>\n",
       "      <td>...</td>\n",
       "      <td>1266053.0</td>\n",
       "      <td>1266054.0</td>\n",
       "      <td>scaffold_74</td>\n",
       "      <td>PROX1</td>\n",
       "      <td>Exon</td>\n",
       "      <td>69576644.0</td>\n",
       "      <td>69576645.0</td>\n",
       "      <td>16</td>\n",
       "      <td>PROX1</td>\n",
       "      <td>Exon</td>\n",
       "    </tr>\n",
       "    <tr>\n",
       "      <th>4</th>\n",
       "      <td>cg00001582</td>\n",
       "      <td>cg00001582_B_C_II_17M32_Y</td>\n",
       "      <td>88781221</td>\n",
       "      <td>AACCCTTTAAAAATAAAMTAACCAATATAATCTAACACTTCAACTT...</td>\n",
       "      <td>17M32</td>\n",
       "      <td>NaN</td>\n",
       "      <td>NaN</td>\n",
       "      <td>NaN</td>\n",
       "      <td>R</td>\n",
       "      <td>B</td>\n",
       "      <td>...</td>\n",
       "      <td>NaN</td>\n",
       "      <td>NaN</td>\n",
       "      <td>NaN</td>\n",
       "      <td>NaN</td>\n",
       "      <td>NaN</td>\n",
       "      <td>34702943.0</td>\n",
       "      <td>34702944.0</td>\n",
       "      <td>28</td>\n",
       "      <td>ZMIZ1</td>\n",
       "      <td>Intergenic_upstream</td>\n",
       "    </tr>\n",
       "    <tr>\n",
       "      <th>5</th>\n",
       "      <td>cg00002920</td>\n",
       "      <td>cg00002920_B_C_II_M40Y5Y2_Y</td>\n",
       "      <td>03643387</td>\n",
       "      <td>MCATAATTTATTTTCTTAAAATATTAATTTATCAACAACTTYCCTA...</td>\n",
       "      <td>M40Y5Y2</td>\n",
       "      <td>NaN</td>\n",
       "      <td>NaN</td>\n",
       "      <td>NaN</td>\n",
       "      <td>R</td>\n",
       "      <td>B</td>\n",
       "      <td>...</td>\n",
       "      <td>NaN</td>\n",
       "      <td>NaN</td>\n",
       "      <td>NaN</td>\n",
       "      <td>NaN</td>\n",
       "      <td>NaN</td>\n",
       "      <td>47915351.0</td>\n",
       "      <td>47915352.0</td>\n",
       "      <td>26</td>\n",
       "      <td>MKI67</td>\n",
       "      <td>Intergenic_upstream</td>\n",
       "    </tr>\n",
       "  </tbody>\n",
       "</table>\n",
       "<p>5 rows × 81 columns</p>\n",
       "</div>"
      ],
      "text/plain": [
       "       IlmnID                         Name AddressA_ID  \\\n",
       "1  cg00000165  cg00000165_B_C_II_16W28R4_Y    61688267   \n",
       "2  cg00001209    cg00001209_B_C_II_15M34_Y    99653471   \n",
       "3  cg00001364    cg00001364_B_C_II_28Y21_Y    94653210   \n",
       "4  cg00001582    cg00001582_B_C_II_17M32_Y    88781221   \n",
       "5  cg00002920  cg00002920_B_C_II_M40Y5Y2_Y    03643387   \n",
       "\n",
       "                                    AlleleA_ProbeSeq ProbeA_Ref_CIGAR  \\\n",
       "1  CAAAATCTATTAATACWATAACTTTTAATAAAACAACTAAAACACR...          16W28R4   \n",
       "2  TCTTAACATTATAAAMAAAACAAAATAATACAAAATATATTCAACC...            15M34   \n",
       "3  ACCAATTTAATATAAATCRCTTATATAAYAAACACCTAAAAACAAA...            28Y21   \n",
       "4  AACCCTTTAAAAATAAAMTAACCAATATAATCTAACACTTCAACTT...            17M32   \n",
       "5  MCATAATTTATTTTCTTAAAATATTAATTTATCAACAACTTYCCTA...          M40Y5Y2   \n",
       "\n",
       "   AddressB_ID AlleleB_ProbeSeq ProbeB_Ref_CIGAR StrandFR StrandTB  ...  \\\n",
       "1          NaN              NaN              NaN        R        B  ...   \n",
       "2          NaN              NaN              NaN        F        B  ...   \n",
       "3          NaN              NaN              NaN        R        B  ...   \n",
       "4          NaN              NaN              NaN        R        B  ...   \n",
       "5          NaN              NaN              NaN        R        B  ...   \n",
       "\n",
       "  Elephant.loxAfr3.100_CGstart Elephant.loxAfr3.100_CGend  \\\n",
       "1                   11412983.0                 11412984.0   \n",
       "2                   64819638.0                 64819639.0   \n",
       "3                    1266053.0                  1266054.0   \n",
       "4                          NaN                        NaN   \n",
       "5                          NaN                        NaN   \n",
       "\n",
       "  Elephant.loxAfr3.100_seqnames Elephant.loxAfr3.100_SYMBOL  \\\n",
       "1                   scaffold_60                      BARHL2   \n",
       "2                    scaffold_7                       KIF2A   \n",
       "3                   scaffold_74                       PROX1   \n",
       "4                           NaN                         NaN   \n",
       "5                           NaN                         NaN   \n",
       "\n",
       "  Elephant.loxAfr3.100_main_Categories Cattle.ARS-UCD1.2_CGstart  \\\n",
       "1                  Intergenic_upstream                52520158.0   \n",
       "2                  Intergenic_upstream                17450440.0   \n",
       "3                                 Exon                69576644.0   \n",
       "4                                  NaN                34702943.0   \n",
       "5                                  NaN                47915351.0   \n",
       "\n",
       "  Cattle.ARS-UCD1.2_CGend Cattle.ARS-UCD1.2_seqnames Cattle.ARS-UCD1.2_SYMBOL  \\\n",
       "1              52520159.0                          3                   BARHL2   \n",
       "2              17450441.0                         20                    KIF2A   \n",
       "3              69576645.0                         16                    PROX1   \n",
       "4              34702944.0                         28                    ZMIZ1   \n",
       "5              47915352.0                         26                    MKI67   \n",
       "\n",
       "  Cattle.ARS-UCD1.2_main_Categories  \n",
       "1               Intergenic_upstream  \n",
       "2               Intergenic_upstream  \n",
       "3                              Exon  \n",
       "4               Intergenic_upstream  \n",
       "5               Intergenic_upstream  \n",
       "\n",
       "[5 rows x 81 columns]"
      ]
     },
     "execution_count": 5,
     "metadata": {},
     "output_type": "execute_result"
    }
   ],
   "source": [
    "### Load the HorvathMammalMethylChip40 annotation file\n",
    "\n",
    "annotation_file = \"HorvathMammalMethylChip40.csv\"\n",
    "annotations = pd.read_csv(annotation_file, index_col=0, low_memory=False)\n",
    "annotations.head()"
   ]
  },
  {
   "cell_type": "code",
   "execution_count": 7,
   "metadata": {},
   "outputs": [
    {
     "name": "stdout",
     "output_type": "stream",
     "text": [
      "Index(['IlmnID', 'Name', 'AddressA_ID', 'AlleleA_ProbeSeq', 'ProbeA_Ref_CIGAR',\n",
      "       'AddressB_ID', 'AlleleB_ProbeSeq', 'ProbeB_Ref_CIGAR', 'StrandFR',\n",
      "       'StrandTB', 'StrandCO', 'Design_Sequence', 'Forward_Sequence',\n",
      "       'Top_Sequence', 'SourceSeq', 'Infinium_Design_Type', 'Next_Base',\n",
      "       'Color_Channel', 'Next_Base_Alt', 'Color_Channel_Alt', 'CG.',\n",
      "       'SNP_Count', 'CPG_Count', 'Replicate_Number', 'Replicate_Count',\n",
      "       'IlmnID_Old', 'Human.Hg19_CGstart', 'Human.Hg19_CGend',\n",
      "       'Human.Hg19_seqnames', 'Human.Hg19_SYMBOL',\n",
      "       'Human.Hg19_main_Categories', 'Human.Hg38_start', 'Human.Hg38_end',\n",
      "       'Human.Hg38_seqnames', 'Human.Hg38_SYMBOL',\n",
      "       'Human.Hg38_main_Categories', 'Mouse.GRCm38.100_CGstart',\n",
      "       'Mouse.GRCm38.100_CGend', 'Mouse.GRCm38.100_seqnames',\n",
      "       'Mouse.GRCm38.100_SYMBOL', 'Mouse.GRCm38.100_main_Categories',\n",
      "       'Rat.Rnor.6.0.101_CGstart', 'Rat.Rnor.6.0.101_CGend',\n",
      "       'Rat.Rnor.6.0.101_seqnames', 'Rat.Rnor.6.0.101_SYMBOL',\n",
      "       'Rat.Rnor.6.0.101_main_Categories', 'Horse.EquCab3.0.100_CGstart',\n",
      "       'Horse.EquCab3.0.100_CGend', 'Horse.EquCab3.0.100_seqnames',\n",
      "       'Horse.EquCab3.0.100_SYMBOL', 'Horse.EquCab3.0.100_main_Categories',\n",
      "       'Pig.Sscrofa11.1.100_CGstart', 'Pig.Sscrofa11.1.100_CGend',\n",
      "       'Pig.Sscrofa11.1.100_seqnames', 'Pig.Sscrofa11.1.100_SYMBOL',\n",
      "       'Pig.Sscrofa11.1.100_main_Categories', 'Cat.FC.9.0.100_CGstart',\n",
      "       'Cat.FC.9.0.100_CGend', 'Cat.FC.9.0.100_seqnames',\n",
      "       'Cat.FC.9.0.100_SYMBOL', 'Cat.FC.9.0.100_main_Categories',\n",
      "       'Dog.CanFam3.1_CGstart', 'Dog.CanFam3.1_CGend',\n",
      "       'Dog.CanFam3.1_seqnames', 'Dog.CanFam3.1_SYMBOL',\n",
      "       'Dog.CanFam3.1_main_Categories', 'Dolphine.turTru1.100_CGstart',\n",
      "       'Dolphine.turTru1.100_CGend', 'Dolphine.turTru1.100_seqnames',\n",
      "       'Dolphine.turTru1.100_SYMBOL', 'Dolphine.turTru1.100_main_Categories',\n",
      "       'Elephant.loxAfr3.100_CGstart', 'Elephant.loxAfr3.100_CGend',\n",
      "       'Elephant.loxAfr3.100_seqnames', 'Elephant.loxAfr3.100_SYMBOL',\n",
      "       'Elephant.loxAfr3.100_main_Categories', 'Cattle.ARS-UCD1.2_CGstart',\n",
      "       'Cattle.ARS-UCD1.2_CGend', 'Cattle.ARS-UCD1.2_seqnames',\n",
      "       'Cattle.ARS-UCD1.2_SYMBOL', 'Cattle.ARS-UCD1.2_main_Categories'],\n",
      "      dtype='object')\n"
     ]
    }
   ],
   "source": [
    "### Display all column names to see what we have\n",
    "print(annotations.columns)"
   ]
  },
  {
   "cell_type": "markdown",
   "metadata": {},
   "source": [
    "The annotations csv contains the gene annotations for all the species used in the analysis. For now, we will focus on human CpGs and genes."
   ]
  },
  {
   "cell_type": "code",
   "execution_count": 6,
   "metadata": {},
   "outputs": [],
   "source": [
    "### Selecting relevant human annotation columns\n",
    "\n",
    "annotation_cols = [\n",
    "    'IlmnID', \n",
    "    'Human.Hg38_seqnames', \n",
    "    'Human.Hg38_start', \n",
    "    'Human.Hg38_end', \n",
    "    'Human.Hg38_SYMBOL', \n",
    "    'Human.Hg38_main_Categories'\n",
    "]\n",
    "\n",
    "# Filter the annotation DataFrame to include only the necessary columns\n",
    "filtered_annotations = annotations.copy()[annotation_cols]\n",
    "filtered_annotations.head()\n",
    "\n",
    "# Rename columns for easier understanding and to match desired output\n",
    "filtered_annotations.rename(columns={\n",
    "    'IlmnID': 'CpG',\n",
    "    'Human.Hg38_seqnames': 'chr',\n",
    "    'Human.Hg38_start': 'start',\n",
    "    'Human.Hg38_end': 'end',\n",
    "    'Human.Hg38_SYMBOL': 'gene',\n",
    "    'Human.Hg38_main_Categories': 'category'\n",
    "}, inplace=True)\n",
    "filtered_annotations.head()\n",
    "\n",
    "# Merge CpG names with annotations to get genomic coordinates and gene information\n",
    "## load and add to the df in the dictionary\n",
    "rel_cpgs_dict['all_clocks_high_methylated_cpgs'] = pd.merge(rel_cpgs_dict['all_clocks_high_methylated_cpgs'], filtered_annotations, on='CpG', how='left')\n",
    "rel_cpgs_dict['all_clocks_low_methylated_cpgs'] = pd.merge(rel_cpgs_dict['all_clocks_low_methylated_cpgs'], filtered_annotations, on='CpG', how='left')\n",
    "rel_cpgs_dict['all_clocks_variable_methylated_cpgs'] = pd.merge(rel_cpgs_dict['all_clocks_variable_methylated_cpgs'], filtered_annotations, on='CpG', how='left')\n",
    "rel_cpgs_dict['anova_all_clocks_significant_cpgs'] = pd.merge(rel_cpgs_dict['anova_all_clocks_significant_cpgs'], filtered_annotations, on='CpG', how='left')\n",
    "rel_cpgs_dict['all_clocks_variable_high_overlap_methylated_cpgs'] = pd.merge(rel_cpgs_dict['all_clocks_variable_high_overlap_methylated_cpgs'], filtered_annotations, on='CpG', how='left')\n",
    "rel_cpgs_dict['all_clocks_variable_low_overlap_methylated_cpgs'] = pd.merge(rel_cpgs_dict['all_clocks_variable_low_overlap_methylated_cpgs'], filtered_annotations, on='CpG', how='left')\n",
    "rel_cpgs_dict['all_clocks_variable_no_overlap_methylated_cpgs'] = pd.merge(rel_cpgs_dict['all_clocks_variable_no_overlap_methylated_cpgs'], filtered_annotations, on='CpG', how='left')\n"
   ]
  },
  {
   "cell_type": "code",
   "execution_count": 7,
   "metadata": {},
   "outputs": [],
   "source": [
    "### Function to determine region type\n",
    "\n",
    "def determine_region_type(category):\n",
    "    \n",
    "    if pd.isna(category):\n",
    "        return 'intergenic'\n",
    "    \n",
    "    category = category.lower()  # Convert to lowercase for case-insensitive matching\n",
    "    \n",
    "    if 'promoter' in category:\n",
    "        return 'promoter'\n",
    "    \n",
    "    elif any(term in category for term in ['exon', 'intron', 'utr']): # Because some categories contain 'exon', 'intron', 'utr'\n",
    "        return 'gene body'\n",
    "    \n",
    "    elif 'intergenic' in category:\n",
    "        return 'intergenic'\n",
    "    \n",
    "    else:\n",
    "        return 'other'  # For any unforeseen categories"
   ]
  },
  {
   "cell_type": "code",
   "execution_count": 8,
   "metadata": {},
   "outputs": [],
   "source": [
    "### Annotation Loop\n",
    "\n",
    "for dataset_name, df in rel_cpgs_dict.items():\n",
    "\n",
    "    # Determine the region type for each CpG and add it to the DataFrame\n",
    "    df['region'] = df['category'].apply(determine_region_type)\n",
    "\n",
    "    # Add ENTREZID column to the DataFrame\n",
    "    df = pd.merge(df, combined_clocks_df[['CpG', 'ENTREZID']], on='CpG', how='left')\n",
    "\n",
    "    # update the dictionary\n",
    "    rel_cpgs_dict[dataset_name] = df\n",
    "\n",
    "    output_path = f'../../FunctionalAnalysis/Annotations/Annotations Results/Cross-Tissue Methylation/{dataset_name}_annotated_relevant_CpGs.csv'\n",
    "    os.makedirs(os.path.dirname(output_path), exist_ok=True)\n",
    "    \n",
    "    df.to_csv(output_path, index=False)"
   ]
  },
  {
   "cell_type": "code",
   "execution_count": 9,
   "metadata": {},
   "outputs": [
    {
     "data": {
      "text/html": [
       "<div>\n",
       "<style scoped>\n",
       "    .dataframe tbody tr th:only-of-type {\n",
       "        vertical-align: middle;\n",
       "    }\n",
       "\n",
       "    .dataframe tbody tr th {\n",
       "        vertical-align: top;\n",
       "    }\n",
       "\n",
       "    .dataframe thead th {\n",
       "        text-align: right;\n",
       "    }\n",
       "</style>\n",
       "<table border=\"1\" class=\"dataframe\">\n",
       "  <thead>\n",
       "    <tr style=\"text-align: right;\">\n",
       "      <th></th>\n",
       "      <th>CpG</th>\n",
       "      <th>chr</th>\n",
       "      <th>start</th>\n",
       "      <th>end</th>\n",
       "      <th>gene</th>\n",
       "      <th>category</th>\n",
       "      <th>region</th>\n",
       "      <th>ENTREZID</th>\n",
       "    </tr>\n",
       "  </thead>\n",
       "  <tbody>\n",
       "    <tr>\n",
       "      <th>0</th>\n",
       "      <td>cg27547112</td>\n",
       "      <td>chr9</td>\n",
       "      <td>83973650.0</td>\n",
       "      <td>83973651.0</td>\n",
       "      <td>HNRNPK</td>\n",
       "      <td>Intron</td>\n",
       "      <td>gene body</td>\n",
       "      <td>3190</td>\n",
       "    </tr>\n",
       "    <tr>\n",
       "      <th>1</th>\n",
       "      <td>cg12382554</td>\n",
       "      <td>chr8</td>\n",
       "      <td>104869303.0</td>\n",
       "      <td>104869304.0</td>\n",
       "      <td>ZFPM2</td>\n",
       "      <td>Intron</td>\n",
       "      <td>gene body</td>\n",
       "      <td>23414</td>\n",
       "    </tr>\n",
       "    <tr>\n",
       "      <th>2</th>\n",
       "      <td>cg19195912</td>\n",
       "      <td>chr2</td>\n",
       "      <td>163944507.0</td>\n",
       "      <td>163944508.0</td>\n",
       "      <td>FIGN</td>\n",
       "      <td>Intron</td>\n",
       "      <td>gene body</td>\n",
       "      <td>55137</td>\n",
       "    </tr>\n",
       "    <tr>\n",
       "      <th>3</th>\n",
       "      <td>cg15340018</td>\n",
       "      <td>chr16</td>\n",
       "      <td>71756157.0</td>\n",
       "      <td>71756158.0</td>\n",
       "      <td>AP1G1</td>\n",
       "      <td>threeUTR</td>\n",
       "      <td>gene body</td>\n",
       "      <td>164</td>\n",
       "    </tr>\n",
       "    <tr>\n",
       "      <th>4</th>\n",
       "      <td>cg17516812</td>\n",
       "      <td>chr9</td>\n",
       "      <td>16773158.0</td>\n",
       "      <td>16773159.0</td>\n",
       "      <td>BNC2</td>\n",
       "      <td>Intron</td>\n",
       "      <td>gene body</td>\n",
       "      <td>54796</td>\n",
       "    </tr>\n",
       "  </tbody>\n",
       "</table>\n",
       "</div>"
      ],
      "text/plain": [
       "          CpG    chr        start          end    gene  category     region  \\\n",
       "0  cg27547112   chr9   83973650.0   83973651.0  HNRNPK    Intron  gene body   \n",
       "1  cg12382554   chr8  104869303.0  104869304.0   ZFPM2    Intron  gene body   \n",
       "2  cg19195912   chr2  163944507.0  163944508.0    FIGN    Intron  gene body   \n",
       "3  cg15340018  chr16   71756157.0   71756158.0   AP1G1  threeUTR  gene body   \n",
       "4  cg17516812   chr9   16773158.0   16773159.0    BNC2    Intron  gene body   \n",
       "\n",
       "   ENTREZID  \n",
       "0      3190  \n",
       "1     23414  \n",
       "2     55137  \n",
       "3       164  \n",
       "4     54796  "
      ]
     },
     "execution_count": 9,
     "metadata": {},
     "output_type": "execute_result"
    }
   ],
   "source": [
    "rel_cpgs_dict['all_clocks_high_methylated_cpgs'].head()"
   ]
  },
  {
   "cell_type": "code",
   "execution_count": 10,
   "metadata": {},
   "outputs": [
    {
     "data": {
      "image/png": "[encoded data removed]",
      "text/plain": [
       "<Figure size 1200x600 with 2 Axes>"
      ]
     },
     "metadata": {},
     "output_type": "display_data"
    },
    {
     "data": {
      "image/png": "[encoded data removed]",
      "text/plain": [
       "<Figure size 1200x600 with 2 Axes>"
      ]
     },
     "metadata": {},
     "output_type": "display_data"
    },
    {
     "data": {
      "image/png": "[encoded data removed]",
      "text/plain": [
       "<Figure size 1200x600 with 2 Axes>"
      ]
     },
     "metadata": {},
     "output_type": "display_data"
    },
    {
     "data": {
      "image/png": "[encoded data removed]",
      "text/plain": [
       "<Figure size 1200x600 with 2 Axes>"
      ]
     },
     "metadata": {},
     "output_type": "display_data"
    },
    {
     "data": {
      "image/png": "[encoded data removed]",
      "text/plain": [
       "<Figure size 1200x600 with 2 Axes>"
      ]
     },
     "metadata": {},
     "output_type": "display_data"
    },
    {
     "data": {
      "image/png": "[encoded data removed]",
      "text/plain": [
       "<Figure size 1200x600 with 2 Axes>"
      ]
     },
     "metadata": {},
     "output_type": "display_data"
    },
    {
     "data": {
      "image/png": "[encoded data removed]",
      "text/plain": [
       "<Figure size 1200x600 with 2 Axes>"
      ]
     },
     "metadata": {},
     "output_type": "display_data"
    }
   ],
   "source": [
    "import matplotlib.pyplot as plt\n",
    "import matplotlib.colors as mcolors\n",
    "import pandas as pd\n",
    "\n",
    "# Sample Viridis color palette at various positions\n",
    "viridis_colors = plt.cm.viridis([0, 0.1, 0.2, 0.3, 0.5, 0.7, 0.8, 1.0])\n",
    "\n",
    "# Map the categories to specific Viridis colors\n",
    "color_map = {\n",
    "    'Exon': mcolors.to_hex(viridis_colors[1]),\n",
    "    'Intron': mcolors.to_hex(viridis_colors[0]),\n",
    "    'Promoter': mcolors.to_hex(viridis_colors[2]),\n",
    "    'threeUTR': mcolors.to_hex(viridis_colors[3]),\n",
    "    'fiveUTR': mcolors.to_hex(viridis_colors[5]),\n",
    "    'Intergenic_downstream': mcolors.to_hex(viridis_colors[4]),\n",
    "    'Intergenic_upstream': mcolors.to_hex(viridis_colors[6])\n",
    "}\n",
    "\n",
    "# Loop through each clock dataframe in the dictionary\n",
    "for clock_name, cpg_annotations in rel_cpgs_dict.items():\n",
    "    # Create subplots\n",
    "    fig, ax = plt.subplots(1, 2, figsize=(12, 6))\n",
    "\n",
    "    # Plot category counts with predefined colors\n",
    "    category_counts = cpg_annotations['category'].value_counts()\n",
    "    category_colors = [color_map[cat] for cat in category_counts.index]\n",
    "    category_counts.plot(kind='bar', ax=ax[0], color=category_colors)\n",
    "    ax[0].set_title(f'{clock_name} - Category Counts')\n",
    "    ax[0].set_xlabel('Category')\n",
    "    ax[0].set_ylabel('Count')\n",
    "    ax[0].xaxis.set_tick_params(rotation=45)\n",
    "\n",
    "    # Plot region type counts with colors from the end of the Viridis spectrum\n",
    "    viridis_end_colors = plt.cm.viridis([0.8, 0.9, 1.0])\n",
    "    region_colors = [mcolors.to_hex(viridis_end_colors[i]) for i in range(len(viridis_end_colors))]\n",
    "    \n",
    "    region_type_counts = cpg_annotations['region'].value_counts()\n",
    "    region_colors = region_colors[:len(region_type_counts)]\n",
    "    region_type_counts.plot(kind='bar', ax=ax[1], color=region_colors)\n",
    "    ax[1].set_title(f'{clock_name} - Region Type Counts')\n",
    "    ax[1].set_xlabel('Region Type')\n",
    "    ax[1].set_ylabel('Count')\n",
    "    ax[1].xaxis.set_tick_params(rotation=45)\n",
    "\n",
    "    plt.tight_layout()\n",
    "    plt.show()\n"
   ]
  },
  {
   "cell_type": "code",
   "execution_count": 16,
   "metadata": {},
   "outputs": [
    {
     "data": {
      "application/vnd.plotly.v1+json": {
       "config": {
        "plotlyServerURL": "https://plot.ly"
       },
       "data": [
        {
         "hoverinfo": "text",
         "hovertext": [
          "cg23778391<br>CASZ1<br>Intron<br>10698402.0",
          "cg06004718<br>POU2F1<br>threeUTR<br>167398080.0",
          "cg17718834<br>PEX14<br>threeUTR<br>10623271.0"
         ],
         "marker": {
          "color": [
           "#440154",
           "#21918c",
           "#21918c"
          ],
          "line": {
           "color": "black",
           "width": 0.5
          },
          "size": 10,
          "symbol": "square"
         },
         "mode": "markers+text",
         "showlegend": false,
         "text": [
          "CASZ1",
          "POU2F1",
          "PEX14"
         ],
         "textfont": {
          "color": "black",
          "size": 10
         },
         "textposition": "top center",
         "type": "scatter",
         "x": [
          10698402,
          167398080,
          10623271
         ],
         "xaxis": "x",
         "y": [
          1,
          1,
          1
         ],
         "yaxis": "y"
        },
        {
         "hoverinfo": "text",
         "hovertext": [
          "cg21907062<br>OLA1<br>Exon<br>174081061.0",
          "cg19195912<br>FIGN<br>Intron<br>163944507.0"
         ],
         "marker": {
          "color": [
           "#414487",
           "#440154"
          ],
          "line": {
           "color": "black",
           "width": 0.5
          },
          "size": 10,
          "symbol": "square"
         },
         "mode": "markers+text",
         "showlegend": false,
         "text": [
          "OLA1",
          "FIGN"
         ],
         "textfont": {
          "color": "black",
          "size": 10
         },
         "textposition": "top center",
         "type": "scatter",
         "x": [
          174081061,
          163944507
         ],
         "xaxis": "x2",
         "y": [
          2,
          2
         ],
         "yaxis": "y2"
        },
        {
         "hoverinfo": "text",
         "hovertext": [
          "cg06679868<br>GRIA2<br>Exon<br>157363026.0"
         ],
         "marker": {
          "color": [
           "#414487"
          ],
          "line": {
           "color": "black",
           "width": 0.5
          },
          "size": 10,
          "symbol": "square"
         },
         "mode": "markers+text",
         "showlegend": false,
         "text": [
          "GRIA2"
         ],
         "textfont": {
          "color": "black",
          "size": 10
         },
         "textposition": "top center",
         "type": "scatter",
         "x": [
          157363026
         ],
         "xaxis": "x3",
         "y": [
          3
         ],
         "yaxis": "y3"
        },
        {
         "hoverinfo": "text",
         "hovertext": [
          "cg03820088<br>TRA2A<br>fiveUTR<br>23522229.0"
         ],
         "marker": {
          "color": [
           "#7ad151"
          ],
          "line": {
           "color": "black",
           "width": 0.5
          },
          "size": 10,
          "symbol": "square"
         },
         "mode": "markers+text",
         "showlegend": false,
         "text": [
          "TRA2A"
         ],
         "textfont": {
          "color": "black",
          "size": 10
         },
         "textposition": "top center",
         "type": "scatter",
         "x": [
          23522229
         ],
         "xaxis": "x4",
         "y": [
          4
         ],
         "yaxis": "y4"
        },
        {
         "hoverinfo": "text",
         "hovertext": [
          "cg12382554<br>ZFPM2<br>Intron<br>104869303.0"
         ],
         "marker": {
          "color": [
           "#440154"
          ],
          "line": {
           "color": "black",
           "width": 0.5
          },
          "size": 10,
          "symbol": "square"
         },
         "mode": "markers+text",
         "showlegend": false,
         "text": [
          "ZFPM2"
         ],
         "textfont": {
          "color": "black",
          "size": 10
         },
         "textposition": "top center",
         "type": "scatter",
         "x": [
          104869303
         ],
         "xaxis": "x5",
         "y": [
          5
         ],
         "yaxis": "y5"
        },
        {
         "hoverinfo": "text",
         "hovertext": [
          "cg17516812<br>BNC2<br>Intron<br>16773158.0",
          "cg27547112<br>HNRNPK<br>Intron<br>83973650.0"
         ],
         "marker": {
          "color": [
           "#440154",
           "#440154"
          ],
          "line": {
           "color": "black",
           "width": 0.5
          },
          "size": 10,
          "symbol": "square"
         },
         "mode": "markers+text",
         "showlegend": false,
         "text": [
          "BNC2",
          "HNRNPK"
         ],
         "textfont": {
          "color": "black",
          "size": 10
         },
         "textposition": "top center",
         "type": "scatter",
         "x": [
          16773158,
          83973650
         ],
         "xaxis": "x6",
         "y": [
          6,
          6
         ],
         "yaxis": "y6"
        },
        {
         "hoverinfo": "text",
         "hovertext": [
          "cg17357006<br>VTI1A<br>Exon<br>112538434.0"
         ],
         "marker": {
          "color": [
           "#414487"
          ],
          "line": {
           "color": "black",
           "width": 0.5
          },
          "size": 10,
          "symbol": "square"
         },
         "mode": "markers+text",
         "showlegend": false,
         "text": [
          "VTI1A"
         ],
         "textfont": {
          "color": "black",
          "size": 10
         },
         "textposition": "top center",
         "type": "scatter",
         "x": [
          112538434
         ],
         "xaxis": "x7",
         "y": [
          7
         ],
         "yaxis": "y7"
        },
        {
         "hoverinfo": "text",
         "hovertext": [
          "cg05401971<br>KDM2A<br>Exon<br>67250713.0"
         ],
         "marker": {
          "color": [
           "#414487"
          ],
          "line": {
           "color": "black",
           "width": 0.5
          },
          "size": 10,
          "symbol": "square"
         },
         "mode": "markers+text",
         "showlegend": false,
         "text": [
          "KDM2A"
         ],
         "textfont": {
          "color": "black",
          "size": 10
         },
         "textposition": "top center",
         "type": "scatter",
         "x": [
          67250713
         ],
         "xaxis": "x8",
         "y": [
          8
         ],
         "yaxis": "y8"
        },
        {
         "hoverinfo": "text",
         "hovertext": [
          "cg12449245<br>DPF3<br>Exon<br>72619953.0"
         ],
         "marker": {
          "color": [
           "#414487"
          ],
          "line": {
           "color": "black",
           "width": 0.5
          },
          "size": 10,
          "symbol": "square"
         },
         "mode": "markers+text",
         "showlegend": false,
         "text": [
          "DPF3"
         ],
         "textfont": {
          "color": "black",
          "size": 10
         },
         "textposition": "top center",
         "type": "scatter",
         "x": [
          72619953
         ],
         "xaxis": "x9",
         "y": [
          9
         ],
         "yaxis": "y9"
        },
        {
         "hoverinfo": "text",
         "hovertext": [
          "cg15340018<br>AP1G1<br>threeUTR<br>71756157.0"
         ],
         "marker": {
          "color": [
           "#21918c"
          ],
          "line": {
           "color": "black",
           "width": 0.5
          },
          "size": 10,
          "symbol": "square"
         },
         "mode": "markers+text",
         "showlegend": false,
         "text": [
          "AP1G1"
         ],
         "textfont": {
          "color": "black",
          "size": 10
         },
         "textposition": "top center",
         "type": "scatter",
         "x": [
          71756157
         ],
         "xaxis": "x10",
         "y": [
          10
         ],
         "yaxis": "y10"
        },
        {
         "hoverinfo": "text",
         "hovertext": [
          "cg17114460<br>FLOT2<br>Exon<br>28884283.0"
         ],
         "marker": {
          "color": [
           "#414487"
          ],
          "line": {
           "color": "black",
           "width": 0.5
          },
          "size": 10,
          "symbol": "square"
         },
         "mode": "markers+text",
         "showlegend": false,
         "text": [
          "FLOT2"
         ],
         "textfont": {
          "color": "black",
          "size": 10
         },
         "textposition": "top center",
         "type": "scatter",
         "x": [
          28884283
         ],
         "xaxis": "x11",
         "y": [
          11
         ],
         "yaxis": "y11"
        },
        {
         "hoverinfo": "text",
         "hovertext": [
          "cg14701342<br>LINC01029<br>Intergenic_downstream<br>77833139.0"
         ],
         "marker": {
          "color": [
           "#44bf70"
          ],
          "line": {
           "color": "black",
           "width": 0.5
          },
          "size": 10,
          "symbol": "square"
         },
         "mode": "markers+text",
         "showlegend": false,
         "text": [
          "LINC01029"
         ],
         "textfont": {
          "color": "black",
          "size": 10
         },
         "textposition": "top center",
         "type": "scatter",
         "x": [
          77833139
         ],
         "xaxis": "x12",
         "y": [
          12
         ],
         "yaxis": "y12"
        },
        {
         "hoverinfo": "text",
         "hovertext": [
          "cg14443903<br>ZNF536<br>Intergenic_downstream<br>30718448.0"
         ],
         "marker": {
          "color": [
           "#44bf70"
          ],
          "line": {
           "color": "black",
           "width": 0.5
          },
          "size": 10,
          "symbol": "square"
         },
         "mode": "markers+text",
         "showlegend": false,
         "text": [
          "ZNF536"
         ],
         "textfont": {
          "color": "black",
          "size": 10
         },
         "textposition": "top center",
         "type": "scatter",
         "x": [
          30718448
         ],
         "xaxis": "x13",
         "y": [
          13
         ],
         "yaxis": "y13"
        },
        {
         "legendgroup": "Intron",
         "marker": {
          "color": "#440154",
          "size": 10,
          "symbol": "square"
         },
         "mode": "markers",
         "name": "Intron",
         "showlegend": true,
         "type": "scatter",
         "x": [
          null
         ],
         "y": [
          null
         ]
        },
        {
         "legendgroup": "Exon",
         "marker": {
          "color": "#414487",
          "size": 10,
          "symbol": "square"
         },
         "mode": "markers",
         "name": "Exon",
         "showlegend": true,
         "type": "scatter",
         "x": [
          null
         ],
         "y": [
          null
         ]
        },
        {
         "legendgroup": "Promoter",
         "marker": {
          "color": "#355f8d",
          "size": 10,
          "symbol": "square"
         },
         "mode": "markers",
         "name": "Promoter",
         "showlegend": true,
         "type": "scatter",
         "x": [
          null
         ],
         "y": [
          null
         ]
        },
        {
         "legendgroup": "threeUTR",
         "marker": {
          "color": "#21918c",
          "size": 10,
          "symbol": "square"
         },
         "mode": "markers",
         "name": "threeUTR",
         "showlegend": true,
         "type": "scatter",
         "x": [
          null
         ],
         "y": [
          null
         ]
        },
        {
         "legendgroup": "Intergenic_downstream",
         "marker": {
          "color": "#44bf70",
          "size": 10,
          "symbol": "square"
         },
         "mode": "markers",
         "name": "Intergenic_downstream",
         "showlegend": true,
         "type": "scatter",
         "x": [
          null
         ],
         "y": [
          null
         ]
        },
        {
         "legendgroup": "fiveUTR",
         "marker": {
          "color": "#7ad151",
          "size": 10,
          "symbol": "square"
         },
         "mode": "markers",
         "name": "fiveUTR",
         "showlegend": true,
         "type": "scatter",
         "x": [
          null
         ],
         "y": [
          null
         ]
        },
        {
         "legendgroup": "Intergenic_upstream",
         "marker": {
          "color": "#fde725",
          "size": 10,
          "symbol": "square"
         },
         "mode": "markers",
         "name": "Intergenic_upstream",
         "showlegend": true,
         "type": "scatter",
         "x": [
          null
         ],
         "y": [
          null
         ]
        }
       ],
       "layout": {
        "annotations": [
         {
          "font": {
           "size": 16
          },
          "showarrow": false,
          "text": "chr1",
          "x": 0.5,
          "xanchor": "center",
          "xref": "paper",
          "y": 1,
          "yanchor": "bottom",
          "yref": "paper"
         },
         {
          "font": {
           "size": 16
          },
          "showarrow": false,
          "text": "chr2",
          "x": 0.5,
          "xanchor": "center",
          "xref": "paper",
          "y": 0.9215384615384615,
          "yanchor": "bottom",
          "yref": "paper"
         },
         {
          "font": {
           "size": 16
          },
          "showarrow": false,
          "text": "chr4",
          "x": 0.5,
          "xanchor": "center",
          "xref": "paper",
          "y": 0.8430769230769232,
          "yanchor": "bottom",
          "yref": "paper"
         },
         {
          "font": {
           "size": 16
          },
          "showarrow": false,
          "text": "chr7",
          "x": 0.5,
          "xanchor": "center",
          "xref": "paper",
          "y": 0.7646153846153846,
          "yanchor": "bottom",
          "yref": "paper"
         },
         {
          "font": {
           "size": 16
          },
          "showarrow": false,
          "text": "chr8",
          "x": 0.5,
          "xanchor": "center",
          "xref": "paper",
          "y": 0.6861538461538461,
          "yanchor": "bottom",
          "yref": "paper"
         },
         {
          "font": {
           "size": 16
          },
          "showarrow": false,
          "text": "chr9",
          "x": 0.5,
          "xanchor": "center",
          "xref": "paper",
          "y": 0.6076923076923076,
          "yanchor": "bottom",
          "yref": "paper"
         },
         {
          "font": {
           "size": 16
          },
          "showarrow": false,
          "text": "chr10",
          "x": 0.5,
          "xanchor": "center",
          "xref": "paper",
          "y": 0.5292307692307693,
          "yanchor": "bottom",
          "yref": "paper"
         },
         {
          "font": {
           "size": 16
          },
          "showarrow": false,
          "text": "chr11",
          "x": 0.5,
          "xanchor": "center",
          "xref": "paper",
          "y": 0.4507692307692308,
          "yanchor": "bottom",
          "yref": "paper"
         },
         {
          "font": {
           "size": 16
          },
          "showarrow": false,
          "text": "chr14",
          "x": 0.5,
          "xanchor": "center",
          "xref": "paper",
          "y": 0.3723076923076923,
          "yanchor": "bottom",
          "yref": "paper"
         },
         {
          "font": {
           "size": 16
          },
          "showarrow": false,
          "text": "chr16",
          "x": 0.5,
          "xanchor": "center",
          "xref": "paper",
          "y": 0.29384615384615387,
          "yanchor": "bottom",
          "yref": "paper"
         },
         {
          "font": {
           "size": 16
          },
          "showarrow": false,
          "text": "chr17",
          "x": 0.5,
          "xanchor": "center",
          "xref": "paper",
          "y": 0.21538461538461537,
          "yanchor": "bottom",
          "yref": "paper"
         },
         {
          "font": {
           "size": 16
          },
          "showarrow": false,
          "text": "chr18",
          "x": 0.5,
          "xanchor": "center",
          "xref": "paper",
          "y": 0.13692307692307693,
          "yanchor": "bottom",
          "yref": "paper"
         },
         {
          "font": {
           "size": 16
          },
          "showarrow": false,
          "text": "chr19",
          "x": 0.5,
          "xanchor": "center",
          "xref": "paper",
          "y": 0.05846153846153846,
          "yanchor": "bottom",
          "yref": "paper"
         }
        ],
        "height": 1300,
        "hovermode": "closest",
        "showlegend": true,
        "template": {
         "data": {
          "bar": [
           {
            "error_x": {
             "color": "#2a3f5f"
            },
            "error_y": {
             "color": "#2a3f5f"
            },
            "marker": {
             "line": {
              "color": "#E5ECF6",
              "width": 0.5
             },
             "pattern": {
              "fillmode": "overlay",
              "size": 10,
              "solidity": 0.2
             }
            },
            "type": "bar"
           }
          ],
          "barpolar": [
           {
            "marker": {
             "line": {
              "color": "#E5ECF6",
              "width": 0.5
             },
             "pattern": {
              "fillmode": "overlay",
              "size": 10,
              "solidity": 0.2
             }
            },
            "type": "barpolar"
           }
          ],
          "carpet": [
           {
            "aaxis": {
             "endlinecolor": "#2a3f5f",
             "gridcolor": "white",
             "linecolor": "white",
             "minorgridcolor": "white",
             "startlinecolor": "#2a3f5f"
            },
            "baxis": {
             "endlinecolor": "#2a3f5f",
             "gridcolor": "white",
             "linecolor": "white",
             "minorgridcolor": "white",
             "startlinecolor": "#2a3f5f"
            },
            "type": "carpet"
           }
          ],
          "choropleth": [
           {
            "colorbar": {
             "outlinewidth": 0,
             "ticks": ""
            },
            "type": "choropleth"
           }
          ],
          "contour": [
           {
            "colorbar": {
             "outlinewidth": 0,
             "ticks": ""
            },
            "colorscale": [
             [
              0,
              "#0d0887"
             ],
             [
              0.1111111111111111,
              "#46039f"
             ],
             [
              0.2222222222222222,
              "#7201a8"
             ],
             [
              0.3333333333333333,
              "#9c179e"
             ],
             [
              0.4444444444444444,
              "#bd3786"
             ],
             [
              0.5555555555555556,
              "#d8576b"
             ],
             [
              0.6666666666666666,
              "#ed7953"
             ],
             [
              0.7777777777777778,
              "#fb9f3a"
             ],
             [
              0.8888888888888888,
              "#fdca26"
             ],
             [
              1,
              "#f0f921"
             ]
            ],
            "type": "contour"
           }
          ],
          "contourcarpet": [
           {
            "colorbar": {
             "outlinewidth": 0,
             "ticks": ""
            },
            "type": "contourcarpet"
           }
          ],
          "heatmap": [
           {
            "colorbar": {
             "outlinewidth": 0,
             "ticks": ""
            },
            "colorscale": [
             [
              0,
              "#0d0887"
             ],
             [
              0.1111111111111111,
              "#46039f"
             ],
             [
              0.2222222222222222,
              "#7201a8"
             ],
             [
              0.3333333333333333,
              "#9c179e"
             ],
             [
              0.4444444444444444,
              "#bd3786"
             ],
             [
              0.5555555555555556,
              "#d8576b"
             ],
             [
              0.6666666666666666,
              "#ed7953"
             ],
             [
              0.7777777777777778,
              "#fb9f3a"
             ],
             [
              0.8888888888888888,
              "#fdca26"
             ],
             [
              1,
              "#f0f921"
             ]
            ],
            "type": "heatmap"
           }
          ],
          "heatmapgl": [
           {
            "colorbar": {
             "outlinewidth": 0,
             "ticks": ""
            },
            "colorscale": [
             [
              0,
              "#0d0887"
             ],
             [
              0.1111111111111111,
              "#46039f"
             ],
             [
              0.2222222222222222,
              "#7201a8"
             ],
             [
              0.3333333333333333,
              "#9c179e"
             ],
             [
              0.4444444444444444,
              "#bd3786"
             ],
             [
              0.5555555555555556,
              "#d8576b"
             ],
             [
              0.6666666666666666,
              "#ed7953"
             ],
             [
              0.7777777777777778,
              "#fb9f3a"
             ],
             [
              0.8888888888888888,
              "#fdca26"
             ],
             [
              1,
              "#f0f921"
             ]
            ],
            "type": "heatmapgl"
           }
          ],
          "histogram": [
           {
            "marker": {
             "pattern": {
              "fillmode": "overlay",
              "size": 10,
              "solidity": 0.2
             }
            },
            "type": "histogram"
           }
          ],
          "histogram2d": [
           {
            "colorbar": {
             "outlinewidth": 0,
             "ticks": ""
            },
            "colorscale": [
             [
              0,
              "#0d0887"
             ],
             [
              0.1111111111111111,
              "#46039f"
             ],
             [
              0.2222222222222222,
              "#7201a8"
             ],
             [
              0.3333333333333333,
              "#9c179e"
             ],
             [
              0.4444444444444444,
              "#bd3786"
             ],
             [
              0.5555555555555556,
              "#d8576b"
             ],
             [
              0.6666666666666666,
              "#ed7953"
             ],
             [
              0.7777777777777778,
              "#fb9f3a"
             ],
             [
              0.8888888888888888,
              "#fdca26"
             ],
             [
              1,
              "#f0f921"
             ]
            ],
            "type": "histogram2d"
           }
          ],
          "histogram2dcontour": [
           {
            "colorbar": {
             "outlinewidth": 0,
             "ticks": ""
            },
            "colorscale": [
             [
              0,
              "#0d0887"
             ],
             [
              0.1111111111111111,
              "#46039f"
             ],
             [
              0.2222222222222222,
              "#7201a8"
             ],
             [
              0.3333333333333333,
              "#9c179e"
             ],
             [
              0.4444444444444444,
              "#bd3786"
             ],
             [
              0.5555555555555556,
              "#d8576b"
             ],
             [
              0.6666666666666666,
              "#ed7953"
             ],
             [
              0.7777777777777778,
              "#fb9f3a"
             ],
             [
              0.8888888888888888,
              "#fdca26"
             ],
             [
              1,
              "#f0f921"
             ]
            ],
            "type": "histogram2dcontour"
           }
          ],
          "mesh3d": [
           {
            "colorbar": {
             "outlinewidth": 0,
             "ticks": ""
            },
            "type": "mesh3d"
           }
          ],
          "parcoords": [
           {
            "line": {
             "colorbar": {
              "outlinewidth": 0,
              "ticks": ""
             }
            },
            "type": "parcoords"
           }
          ],
          "pie": [
           {
            "automargin": true,
            "type": "pie"
           }
          ],
          "scatter": [
           {
            "fillpattern": {
             "fillmode": "overlay",
             "size": 10,
             "solidity": 0.2
            },
            "type": "scatter"
           }
          ],
          "scatter3d": [
           {
            "line": {
             "colorbar": {
              "outlinewidth": 0,
              "ticks": ""
             }
            },
            "marker": {
             "colorbar": {
              "outlinewidth": 0,
              "ticks": ""
             }
            },
            "type": "scatter3d"
           }
          ],
          "scattercarpet": [
           {
            "marker": {
             "colorbar": {
              "outlinewidth": 0,
              "ticks": ""
             }
            },
            "type": "scattercarpet"
           }
          ],
          "scattergeo": [
           {
            "marker": {
             "colorbar": {
              "outlinewidth": 0,
              "ticks": ""
             }
            },
            "type": "scattergeo"
           }
          ],
          "scattergl": [
           {
            "marker": {
             "colorbar": {
              "outlinewidth": 0,
              "ticks": ""
             }
            },
            "type": "scattergl"
           }
          ],
          "scattermapbox": [
           {
            "marker": {
             "colorbar": {
              "outlinewidth": 0,
              "ticks": ""
             }
            },
            "type": "scattermapbox"
           }
          ],
          "scatterpolar": [
           {
            "marker": {
             "colorbar": {
              "outlinewidth": 0,
              "ticks": ""
             }
            },
            "type": "scatterpolar"
           }
          ],
          "scatterpolargl": [
           {
            "marker": {
             "colorbar": {
              "outlinewidth": 0,
              "ticks": ""
             }
            },
            "type": "scatterpolargl"
           }
          ],
          "scatterternary": [
           {
            "marker": {
             "colorbar": {
              "outlinewidth": 0,
              "ticks": ""
             }
            },
            "type": "scatterternary"
           }
          ],
          "surface": [
           {
            "colorbar": {
             "outlinewidth": 0,
             "ticks": ""
            },
            "colorscale": [
             [
              0,
              "#0d0887"
             ],
             [
              0.1111111111111111,
              "#46039f"
             ],
             [
              0.2222222222222222,
              "#7201a8"
             ],
             [
              0.3333333333333333,
              "#9c179e"
             ],
             [
              0.4444444444444444,
              "#bd3786"
             ],
             [
              0.5555555555555556,
              "#d8576b"
             ],
             [
              0.6666666666666666,
              "#ed7953"
             ],
             [
              0.7777777777777778,
              "#fb9f3a"
             ],
             [
              0.8888888888888888,
              "#fdca26"
             ],
             [
              1,
              "#f0f921"
             ]
            ],
            "type": "surface"
           }
          ],
          "table": [
           {
            "cells": {
             "fill": {
              "color": "#EBF0F8"
             },
             "line": {
              "color": "white"
             }
            },
            "header": {
             "fill": {
              "color": "#C8D4E3"
             },
             "line": {
              "color": "white"
             }
            },
            "type": "table"
           }
          ]
         },
         "layout": {
          "annotationdefaults": {
           "arrowcolor": "#2a3f5f",
           "arrowhead": 0,
           "arrowwidth": 1
          },
          "autotypenumbers": "strict",
          "coloraxis": {
           "colorbar": {
            "outlinewidth": 0,
            "ticks": ""
           }
          },
          "colorscale": {
           "diverging": [
            [
             0,
             "#8e0152"
            ],
            [
             0.1,
             "#c51b7d"
            ],
            [
             0.2,
             "#de77ae"
            ],
            [
             0.3,
             "#f1b6da"
            ],
            [
             0.4,
             "#fde0ef"
            ],
            [
             0.5,
             "#f7f7f7"
            ],
            [
             0.6,
             "#e6f5d0"
            ],
            [
             0.7,
             "#b8e186"
            ],
            [
             0.8,
             "#7fbc41"
            ],
            [
             0.9,
             "#4d9221"
            ],
            [
             1,
             "#276419"
            ]
           ],
           "sequential": [
            [
             0,
             "#0d0887"
            ],
            [
             0.1111111111111111,
             "#46039f"
            ],
            [
             0.2222222222222222,
             "#7201a8"
            ],
            [
             0.3333333333333333,
             "#9c179e"
            ],
            [
             0.4444444444444444,
             "#bd3786"
            ],
            [
             0.5555555555555556,
             "#d8576b"
            ],
            [
             0.6666666666666666,
             "#ed7953"
            ],
            [
             0.7777777777777778,
             "#fb9f3a"
            ],
            [
             0.8888888888888888,
             "#fdca26"
            ],
            [
             1,
             "#f0f921"
            ]
           ],
           "sequentialminus": [
            [
             0,
             "#0d0887"
            ],
            [
             0.1111111111111111,
             "#46039f"
            ],
            [
             0.2222222222222222,
             "#7201a8"
            ],
            [
             0.3333333333333333,
             "#9c179e"
            ],
            [
             0.4444444444444444,
             "#bd3786"
            ],
            [
             0.5555555555555556,
             "#d8576b"
            ],
            [
             0.6666666666666666,
             "#ed7953"
            ],
            [
             0.7777777777777778,
             "#fb9f3a"
            ],
            [
             0.8888888888888888,
             "#fdca26"
            ],
            [
             1,
             "#f0f921"
            ]
           ]
          },
          "colorway": [
           "#636efa",
           "#EF553B",
           "#00cc96",
           "#ab63fa",
           "#FFA15A",
           "#19d3f3",
           "#FF6692",
           "#B6E880",
           "#FF97FF",
           "#FECB52"
          ],
          "font": {
           "color": "#2a3f5f"
          },
          "geo": {
           "bgcolor": "white",
           "lakecolor": "white",
           "landcolor": "#E5ECF6",
           "showlakes": true,
           "showland": true,
           "subunitcolor": "white"
          },
          "hoverlabel": {
           "align": "left"
          },
          "hovermode": "closest",
          "mapbox": {
           "style": "light"
          },
          "paper_bgcolor": "white",
          "plot_bgcolor": "#E5ECF6",
          "polar": {
           "angularaxis": {
            "gridcolor": "white",
            "linecolor": "white",
            "ticks": ""
           },
           "bgcolor": "#E5ECF6",
           "radialaxis": {
            "gridcolor": "white",
            "linecolor": "white",
            "ticks": ""
           }
          },
          "scene": {
           "xaxis": {
            "backgroundcolor": "#E5ECF6",
            "gridcolor": "white",
            "gridwidth": 2,
            "linecolor": "white",
            "showbackground": true,
            "ticks": "",
            "zerolinecolor": "white"
           },
           "yaxis": {
            "backgroundcolor": "#E5ECF6",
            "gridcolor": "white",
            "gridwidth": 2,
            "linecolor": "white",
            "showbackground": true,
            "ticks": "",
            "zerolinecolor": "white"
           },
           "zaxis": {
            "backgroundcolor": "#E5ECF6",
            "gridcolor": "white",
            "gridwidth": 2,
            "linecolor": "white",
            "showbackground": true,
            "ticks": "",
            "zerolinecolor": "white"
           }
          },
          "shapedefaults": {
           "line": {
            "color": "#2a3f5f"
           }
          },
          "ternary": {
           "aaxis": {
            "gridcolor": "white",
            "linecolor": "white",
            "ticks": ""
           },
           "baxis": {
            "gridcolor": "white",
            "linecolor": "white",
            "ticks": ""
           },
           "bgcolor": "#E5ECF6",
           "caxis": {
            "gridcolor": "white",
            "linecolor": "white",
            "ticks": ""
           }
          },
          "title": {
           "x": 0.05
          },
          "xaxis": {
           "automargin": true,
           "gridcolor": "white",
           "linecolor": "white",
           "ticks": "",
           "title": {
            "standoff": 15
           },
           "zerolinecolor": "white",
           "zerolinewidth": 2
          },
          "yaxis": {
           "automargin": true,
           "gridcolor": "white",
           "linecolor": "white",
           "ticks": "",
           "title": {
            "standoff": 15
           },
           "zerolinecolor": "white",
           "zerolinewidth": 2
          }
         }
        },
        "title": {
         "text": "Gene Annotation Visualization of All_clocks_high_methylated_cpgs Relevant CpGs"
        },
        "width": 1200,
        "xaxis": {
         "anchor": "y",
         "domain": [
          0,
          1
         ]
        },
        "xaxis10": {
         "anchor": "y10",
         "domain": [
          0,
          1
         ]
        },
        "xaxis11": {
         "anchor": "y11",
         "domain": [
          0,
          1
         ]
        },
        "xaxis12": {
         "anchor": "y12",
         "domain": [
          0,
          1
         ]
        },
        "xaxis13": {
         "anchor": "y13",
         "domain": [
          0,
          1
         ]
        },
        "xaxis2": {
         "anchor": "y2",
         "domain": [
          0,
          1
         ]
        },
        "xaxis3": {
         "anchor": "y3",
         "domain": [
          0,
          1
         ]
        },
        "xaxis4": {
         "anchor": "y4",
         "domain": [
          0,
          1
         ]
        },
        "xaxis5": {
         "anchor": "y5",
         "domain": [
          0,
          1
         ]
        },
        "xaxis6": {
         "anchor": "y6",
         "domain": [
          0,
          1
         ]
        },
        "xaxis7": {
         "anchor": "y7",
         "domain": [
          0,
          1
         ]
        },
        "xaxis8": {
         "anchor": "y8",
         "domain": [
          0,
          1
         ]
        },
        "xaxis9": {
         "anchor": "y9",
         "domain": [
          0,
          1
         ]
        },
        "yaxis": {
         "anchor": "x",
         "domain": [
          0.9415384615384615,
          1
         ],
         "showgrid": false,
         "showticklabels": false
        },
        "yaxis10": {
         "anchor": "x10",
         "domain": [
          0.2353846153846154,
          0.29384615384615387
         ],
         "showgrid": false,
         "showticklabels": false
        },
        "yaxis11": {
         "anchor": "x11",
         "domain": [
          0.15692307692307692,
          0.21538461538461537
         ],
         "showgrid": false,
         "showticklabels": false
        },
        "yaxis12": {
         "anchor": "x12",
         "domain": [
          0.07846153846153846,
          0.13692307692307693
         ],
         "showgrid": false,
         "showticklabels": false
        },
        "yaxis13": {
         "anchor": "x13",
         "domain": [
          0,
          0.05846153846153846
         ],
         "showgrid": false,
         "showticklabels": false
        },
        "yaxis2": {
         "anchor": "x2",
         "domain": [
          0.8630769230769231,
          0.9215384615384615
         ],
         "showgrid": false,
         "showticklabels": false
        },
        "yaxis3": {
         "anchor": "x3",
         "domain": [
          0.7846153846153847,
          0.8430769230769232
         ],
         "showgrid": false,
         "showticklabels": false
        },
        "yaxis4": {
         "anchor": "x4",
         "domain": [
          0.7061538461538461,
          0.7646153846153846
         ],
         "showgrid": false,
         "showticklabels": false
        },
        "yaxis5": {
         "anchor": "x5",
         "domain": [
          0.6276923076923077,
          0.6861538461538461
         ],
         "showgrid": false,
         "showticklabels": false
        },
        "yaxis6": {
         "anchor": "x6",
         "domain": [
          0.5492307692307692,
          0.6076923076923076
         ],
         "showgrid": false,
         "showticklabels": false
        },
        "yaxis7": {
         "anchor": "x7",
         "domain": [
          0.4707692307692308,
          0.5292307692307693
         ],
         "showgrid": false,
         "showticklabels": false
        },
        "yaxis8": {
         "anchor": "x8",
         "domain": [
          0.39230769230769236,
          0.4507692307692308
         ],
         "showgrid": false,
         "showticklabels": false
        },
        "yaxis9": {
         "anchor": "x9",
         "domain": [
          0.31384615384615383,
          0.3723076923076923
         ],
         "showgrid": false,
         "showticklabels": false
        }
       }
      }
     },
     "metadata": {},
     "output_type": "display_data"
    },
    {
     "data": {
      "application/vnd.plotly.v1+json": {
       "config": {
        "plotlyServerURL": "https://plot.ly"
       },
       "data": [
        {
         "hoverinfo": "text",
         "hovertext": [
          "cg00694357<br>ZBTB7B<br>Intron<br>155004171.0",
          "cg27228973<br>FOXO6-AS1<br>Intergenic_upstream<br>41404380.0",
          "cg12651099<br>KCNC4<br>Exon<br>110211650.0",
          "cg22354333<br>CDKN2C<br>Intergenic_downstream<br>50977563.0"
         ],
         "marker": {
          "color": [
           "#440154",
           "#fde725",
           "#414487",
           "#44bf70"
          ],
          "line": {
           "color": "black",
           "width": 0.5
          },
          "size": 10,
          "symbol": "square"
         },
         "mode": "markers+text",
         "showlegend": false,
         "text": [
          "ZBTB7B",
          "FOXO6-AS1",
          "KCNC4",
          "CDKN2C"
         ],
         "textfont": {
          "color": "black",
          "size": 10
         },
         "textposition": "top center",
         "type": "scatter",
         "x": [
          155004171,
          41404380,
          110211650,
          50977563
         ],
         "xaxis": "x",
         "y": [
          1,
          1,
          1,
          1
         ],
         "yaxis": "y"
        },
        {
         "hoverinfo": "text",
         "hovertext": [
          "cg11235379<br>TBR1<br>Exon<br>161417813.0",
          "cg20804050<br>EN1<br>Promoter<br>118847865.0",
          "cg14361875<br>LINC01812<br>Intergenic_upstream<br>67846376.0"
         ],
         "marker": {
          "color": [
           "#414487",
           "#355f8d",
           "#fde725"
          ],
          "line": {
           "color": "black",
           "width": 0.5
          },
          "size": 10,
          "symbol": "square"
         },
         "mode": "markers+text",
         "showlegend": false,
         "text": [
          "TBR1",
          "EN1",
          "LINC01812"
         ],
         "textfont": {
          "color": "black",
          "size": 10
         },
         "textposition": "top center",
         "type": "scatter",
         "x": [
          161417813,
          118847865,
          67846376
         ],
         "xaxis": "x2",
         "y": [
          2,
          2,
          2
         ],
         "yaxis": "y2"
        },
        {
         "hoverinfo": "text",
         "hovertext": [
          "cg15809488<br>RARB<br>fiveUTR<br>25428622.0",
          "cg08938156<br>LOC440982<br>fiveUTR<br>147409417.0",
          "cg12841266<br>LHFPL4<br>Exon<br>9552409.0",
          "cg19981759<br>LOC440982<br>fiveUTR<br>147409413.0",
          "cg02692845<br>SOX2-OT<br>Exon<br>181712998.0"
         ],
         "marker": {
          "color": [
           "#7ad151",
           "#7ad151",
           "#414487",
           "#7ad151",
           "#414487"
          ],
          "line": {
           "color": "black",
           "width": 0.5
          },
          "size": 10,
          "symbol": "square"
         },
         "mode": "markers+text",
         "showlegend": false,
         "text": [
          "RARB",
          "LOC440982",
          "LHFPL4",
          "LOC440982",
          "SOX2-OT"
         ],
         "textfont": {
          "color": "black",
          "size": 10
         },
         "textposition": "top center",
         "type": "scatter",
         "x": [
          25428622,
          147409417,
          9552409,
          147409413,
          181712998
         ],
         "xaxis": "x3",
         "y": [
          3,
          3,
          3,
          3,
          3
         ],
         "yaxis": "y3"
        },
        {
         "hoverinfo": "text",
         "hovertext": [
          "cg07875786<br>NR2F1<br>fiveUTR<br>93583221.0",
          "cg18223258<br>ISL1<br>Intergenic_downstream<br>51399170.0",
          "cg26844246<br>TLX3<br>fiveUTR<br>171309273.0",
          "cg04998737<br>OTP<br>Promoter<br>77645403.0",
          "cg24352905<br>OTP<br>Promoter<br>77645452.0",
          "cg13242392<br>NIPBL-DT<br>Promoter<br>36876728.0"
         ],
         "marker": {
          "color": [
           "#7ad151",
           "#44bf70",
           "#7ad151",
           "#355f8d",
           "#355f8d",
           "#355f8d"
          ],
          "line": {
           "color": "black",
           "width": 0.5
          },
          "size": 10,
          "symbol": "square"
         },
         "mode": "markers+text",
         "showlegend": false,
         "text": [
          "NR2F1",
          "ISL1",
          "TLX3",
          "OTP",
          "OTP",
          "NIPBL-DT"
         ],
         "textfont": {
          "color": "black",
          "size": 10
         },
         "textposition": "top center",
         "type": "scatter",
         "x": [
          93583221,
          51399170,
          171309273,
          77645403,
          77645452,
          36876728
         ],
         "xaxis": "x4",
         "y": [
          4,
          4,
          4,
          4,
          4,
          4
         ],
         "yaxis": "y4"
        },
        {
         "hoverinfo": "text",
         "hovertext": [
          "cg18918349<br>NR2E1<br>Promoter<br>108165956.0"
         ],
         "marker": {
          "color": [
           "#355f8d"
          ],
          "line": {
           "color": "black",
           "width": 0.5
          },
          "size": 10,
          "symbol": "square"
         },
         "mode": "markers+text",
         "showlegend": false,
         "text": [
          "NR2E1"
         ],
         "textfont": {
          "color": "black",
          "size": 10
         },
         "textposition": "top center",
         "type": "scatter",
         "x": [
          108165956
         ],
         "xaxis": "x5",
         "y": [
          5
         ],
         "yaxis": "y5"
        },
        {
         "hoverinfo": "text",
         "hovertext": [
          "cg09710440<br>LHFPL3<br>Exon<br>104328932.0",
          "cg11516694<br>HOXA-AS3<br>Intron<br>27147848.0",
          "cg08074329<br>IGF2BP3<br>Promoter<br>23470655.0",
          "cg13188467<br>DLX6-AS1<br>Intron<br>96998781.0",
          "cg01019040<br>LHFPL3<br>Exon<br>104328968.0",
          "cg26512254<br>HOTTIP<br>Intron<br>27200144.0"
         ],
         "marker": {
          "color": [
           "#414487",
           "#440154",
           "#355f8d",
           "#440154",
           "#414487",
           "#440154"
          ],
          "line": {
           "color": "black",
           "width": 0.5
          },
          "size": 10,
          "symbol": "square"
         },
         "mode": "markers+text",
         "showlegend": false,
         "text": [
          "LHFPL3",
          "HOXA-AS3",
          "IGF2BP3",
          "DLX6-AS1",
          "LHFPL3",
          "HOTTIP"
         ],
         "textfont": {
          "color": "black",
          "size": 10
         },
         "textposition": "top center",
         "type": "scatter",
         "x": [
          104328932,
          27147848,
          23470655,
          96998781,
          104328968,
          27200144
         ],
         "xaxis": "x6",
         "y": [
          6,
          6,
          6,
          6,
          6,
          6
         ],
         "yaxis": "y6"
        },
        {
         "hoverinfo": "text",
         "hovertext": [
          "cg18502834<br>EGR3<br>Exon<br>22692929.0"
         ],
         "marker": {
          "color": [
           "#414487"
          ],
          "line": {
           "color": "black",
           "width": 0.5
          },
          "size": 10,
          "symbol": "square"
         },
         "mode": "markers+text",
         "showlegend": false,
         "text": [
          "EGR3"
         ],
         "textfont": {
          "color": "black",
          "size": 10
         },
         "textposition": "top center",
         "type": "scatter",
         "x": [
          22692929
         ],
         "xaxis": "x7",
         "y": [
          7
         ],
         "yaxis": "y7"
        },
        {
         "hoverinfo": "text",
         "hovertext": [
          "cg04368876<br>LCOR<br>Intron<br>96833840.0",
          "cg05575054<br>ADRB1<br>Exon<br>114045209.0",
          "cg19090691<br>NKX2-3<br>Intergenic_downstream<br>99537359.0",
          "cg04706544<br>DRGX<br>Promoter<br>49396706.0"
         ],
         "marker": {
          "color": [
           "#440154",
           "#414487",
           "#44bf70",
           "#355f8d"
          ],
          "line": {
           "color": "black",
           "width": 0.5
          },
          "size": 10,
          "symbol": "square"
         },
         "mode": "markers+text",
         "showlegend": false,
         "text": [
          "LCOR",
          "ADRB1",
          "NKX2-3",
          "DRGX"
         ],
         "textfont": {
          "color": "black",
          "size": 10
         },
         "textposition": "top center",
         "type": "scatter",
         "x": [
          96833840,
          114045209,
          99537359,
          49396706
         ],
         "xaxis": "x8",
         "y": [
          8,
          8,
          8,
          8
         ],
         "yaxis": "y8"
        },
        {
         "hoverinfo": "text",
         "hovertext": [
          "cg27201382<br>BDNF<br>fiveUTR<br>27720483.0"
         ],
         "marker": {
          "color": [
           "#7ad151"
          ],
          "line": {
           "color": "black",
           "width": 0.5
          },
          "size": 10,
          "symbol": "square"
         },
         "mode": "markers+text",
         "showlegend": false,
         "text": [
          "BDNF"
         ],
         "textfont": {
          "color": "black",
          "size": 10
         },
         "textposition": "top center",
         "type": "scatter",
         "x": [
          27720483
         ],
         "xaxis": "x9",
         "y": [
          9
         ],
         "yaxis": "y9"
        },
        {
         "hoverinfo": "text",
         "hovertext": [
          "cg13058338<br>SMUG1<br>Intron<br>54173598.0"
         ],
         "marker": {
          "color": [
           "#440154"
          ],
          "line": {
           "color": "black",
           "width": 0.5
          },
          "size": 10,
          "symbol": "square"
         },
         "mode": "markers+text",
         "showlegend": false,
         "text": [
          "SMUG1"
         ],
         "textfont": {
          "color": "black",
          "size": 10
         },
         "textposition": "top center",
         "type": "scatter",
         "x": [
          54173598
         ],
         "xaxis": "x10",
         "y": [
          10
         ],
         "yaxis": "y10"
        },
        {
         "hoverinfo": "text",
         "hovertext": [
          "cg22338839<br>FAM155A<br>Exon<br>107866521.0",
          "cg23415880<br>GSX1<br>Promoter<br>27792287.0",
          "cg23985931<br>OBI1-AS1<br>Intron<br>78594976.0"
         ],
         "marker": {
          "color": [
           "#414487",
           "#355f8d",
           "#440154"
          ],
          "line": {
           "color": "black",
           "width": 0.5
          },
          "size": 10,
          "symbol": "square"
         },
         "mode": "markers+text",
         "showlegend": false,
         "text": [
          "FAM155A",
          "GSX1",
          "OBI1-AS1"
         ],
         "textfont": {
          "color": "black",
          "size": 10
         },
         "textposition": "top center",
         "type": "scatter",
         "x": [
          107866521,
          27792287,
          78594976
         ],
         "xaxis": "x11",
         "y": [
          11,
          11,
          11
         ],
         "yaxis": "y11"
        },
        {
         "hoverinfo": "text",
         "hovertext": [
          "cg24504442<br>MEIS2<br>fiveUTR<br>37099474.0",
          "cg23087015<br>CELF6<br>threeUTR<br>72319625.0",
          "cg01153166<br>NR2F2<br>fiveUTR<br>96331473.0"
         ],
         "marker": {
          "color": [
           "#7ad151",
           "#21918c",
           "#7ad151"
          ],
          "line": {
           "color": "black",
           "width": 0.5
          },
          "size": 10,
          "symbol": "square"
         },
         "mode": "markers+text",
         "showlegend": false,
         "text": [
          "MEIS2",
          "CELF6",
          "NR2F2"
         ],
         "textfont": {
          "color": "black",
          "size": 10
         },
         "textposition": "top center",
         "type": "scatter",
         "x": [
          37099474,
          72319625,
          96331473
         ],
         "xaxis": "x12",
         "y": [
          12,
          12,
          12
         ],
         "yaxis": "y12"
        },
        {
         "hoverinfo": "text",
         "hovertext": [
          "cg06736685<br>GSE1<br>Intron<br>85555743.0"
         ],
         "marker": {
          "color": [
           "#440154"
          ],
          "line": {
           "color": "black",
           "width": 0.5
          },
          "size": 10,
          "symbol": "square"
         },
         "mode": "markers+text",
         "showlegend": false,
         "text": [
          "GSE1"
         ],
         "textfont": {
          "color": "black",
          "size": 10
         },
         "textposition": "top center",
         "type": "scatter",
         "x": [
          85555743
         ],
         "xaxis": "x13",
         "y": [
          13
         ],
         "yaxis": "y13"
        },
        {
         "hoverinfo": "text",
         "hovertext": [
          "cg08446005<br>SOCS3<br>Exon<br>78359055.0",
          "cg02532525<br>MIR212<br>Exon<br>2050353.0"
         ],
         "marker": {
          "color": [
           "#414487",
           "#414487"
          ],
          "line": {
           "color": "black",
           "width": 0.5
          },
          "size": 10,
          "symbol": "square"
         },
         "mode": "markers+text",
         "showlegend": false,
         "text": [
          "SOCS3",
          "MIR212"
         ],
         "textfont": {
          "color": "black",
          "size": 10
         },
         "textposition": "top center",
         "type": "scatter",
         "x": [
          78359055,
          2050353
         ],
         "xaxis": "x14",
         "y": [
          14,
          14
         ],
         "yaxis": "y14"
        },
        {
         "hoverinfo": "text",
         "hovertext": [
          "cg14919591<br>KCTD15<br>Promoter<br>33796112.0"
         ],
         "marker": {
          "color": [
           "#355f8d"
          ],
          "line": {
           "color": "black",
           "width": 0.5
          },
          "size": 10,
          "symbol": "square"
         },
         "mode": "markers+text",
         "showlegend": false,
         "text": [
          "KCTD15"
         ],
         "textfont": {
          "color": "black",
          "size": 10
         },
         "textposition": "top center",
         "type": "scatter",
         "x": [
          33796112
         ],
         "xaxis": "x15",
         "y": [
          15
         ],
         "yaxis": "y15"
        },
        {
         "legendgroup": "Intron",
         "marker": {
          "color": "#440154",
          "size": 10,
          "symbol": "square"
         },
         "mode": "markers",
         "name": "Intron",
         "showlegend": true,
         "type": "scatter",
         "x": [
          null
         ],
         "y": [
          null
         ]
        },
        {
         "legendgroup": "Exon",
         "marker": {
          "color": "#414487",
          "size": 10,
          "symbol": "square"
         },
         "mode": "markers",
         "name": "Exon",
         "showlegend": true,
         "type": "scatter",
         "x": [
          null
         ],
         "y": [
          null
         ]
        },
        {
         "legendgroup": "Promoter",
         "marker": {
          "color": "#355f8d",
          "size": 10,
          "symbol": "square"
         },
         "mode": "markers",
         "name": "Promoter",
         "showlegend": true,
         "type": "scatter",
         "x": [
          null
         ],
         "y": [
          null
         ]
        },
        {
         "legendgroup": "threeUTR",
         "marker": {
          "color": "#21918c",
          "size": 10,
          "symbol": "square"
         },
         "mode": "markers",
         "name": "threeUTR",
         "showlegend": true,
         "type": "scatter",
         "x": [
          null
         ],
         "y": [
          null
         ]
        },
        {
         "legendgroup": "Intergenic_downstream",
         "marker": {
          "color": "#44bf70",
          "size": 10,
          "symbol": "square"
         },
         "mode": "markers",
         "name": "Intergenic_downstream",
         "showlegend": true,
         "type": "scatter",
         "x": [
          null
         ],
         "y": [
          null
         ]
        },
        {
         "legendgroup": "fiveUTR",
         "marker": {
          "color": "#7ad151",
          "size": 10,
          "symbol": "square"
         },
         "mode": "markers",
         "name": "fiveUTR",
         "showlegend": true,
         "type": "scatter",
         "x": [
          null
         ],
         "y": [
          null
         ]
        },
        {
         "legendgroup": "Intergenic_upstream",
         "marker": {
          "color": "#fde725",
          "size": 10,
          "symbol": "square"
         },
         "mode": "markers",
         "name": "Intergenic_upstream",
         "showlegend": true,
         "type": "scatter",
         "x": [
          null
         ],
         "y": [
          null
         ]
        }
       ],
       "layout": {
        "annotations": [
         {
          "font": {
           "size": 16
          },
          "showarrow": false,
          "text": "chr1",
          "x": 0.5,
          "xanchor": "center",
          "xref": "paper",
          "y": 1,
          "yanchor": "bottom",
          "yref": "paper"
         },
         {
          "font": {
           "size": 16
          },
          "showarrow": false,
          "text": "chr2",
          "x": 0.5,
          "xanchor": "center",
          "xref": "paper",
          "y": 0.932,
          "yanchor": "bottom",
          "yref": "paper"
         },
         {
          "font": {
           "size": 16
          },
          "showarrow": false,
          "text": "chr3",
          "x": 0.5,
          "xanchor": "center",
          "xref": "paper",
          "y": 0.8640000000000001,
          "yanchor": "bottom",
          "yref": "paper"
         },
         {
          "font": {
           "size": 16
          },
          "showarrow": false,
          "text": "chr5",
          "x": 0.5,
          "xanchor": "center",
          "xref": "paper",
          "y": 0.796,
          "yanchor": "bottom",
          "yref": "paper"
         },
         {
          "font": {
           "size": 16
          },
          "showarrow": false,
          "text": "chr6",
          "x": 0.5,
          "xanchor": "center",
          "xref": "paper",
          "y": 0.728,
          "yanchor": "bottom",
          "yref": "paper"
         },
         {
          "font": {
           "size": 16
          },
          "showarrow": false,
          "text": "chr7",
          "x": 0.5,
          "xanchor": "center",
          "xref": "paper",
          "y": 0.66,
          "yanchor": "bottom",
          "yref": "paper"
         },
         {
          "font": {
           "size": 16
          },
          "showarrow": false,
          "text": "chr8",
          "x": 0.5,
          "xanchor": "center",
          "xref": "paper",
          "y": 0.5920000000000001,
          "yanchor": "bottom",
          "yref": "paper"
         },
         {
          "font": {
           "size": 16
          },
          "showarrow": false,
          "text": "chr10",
          "x": 0.5,
          "xanchor": "center",
          "xref": "paper",
          "y": 0.524,
          "yanchor": "bottom",
          "yref": "paper"
         },
         {
          "font": {
           "size": 16
          },
          "showarrow": false,
          "text": "chr11",
          "x": 0.5,
          "xanchor": "center",
          "xref": "paper",
          "y": 0.456,
          "yanchor": "bottom",
          "yref": "paper"
         },
         {
          "font": {
           "size": 16
          },
          "showarrow": false,
          "text": "chr12",
          "x": 0.5,
          "xanchor": "center",
          "xref": "paper",
          "y": 0.38799999999999996,
          "yanchor": "bottom",
          "yref": "paper"
         },
         {
          "font": {
           "size": 16
          },
          "showarrow": false,
          "text": "chr13",
          "x": 0.5,
          "xanchor": "center",
          "xref": "paper",
          "y": 0.32,
          "yanchor": "bottom",
          "yref": "paper"
         },
         {
          "font": {
           "size": 16
          },
          "showarrow": false,
          "text": "chr15",
          "x": 0.5,
          "xanchor": "center",
          "xref": "paper",
          "y": 0.252,
          "yanchor": "bottom",
          "yref": "paper"
         },
         {
          "font": {
           "size": 16
          },
          "showarrow": false,
          "text": "chr16",
          "x": 0.5,
          "xanchor": "center",
          "xref": "paper",
          "y": 0.184,
          "yanchor": "bottom",
          "yref": "paper"
         },
         {
          "font": {
           "size": 16
          },
          "showarrow": false,
          "text": "chr17",
          "x": 0.5,
          "xanchor": "center",
          "xref": "paper",
          "y": 0.116,
          "yanchor": "bottom",
          "yref": "paper"
         },
         {
          "font": {
           "size": 16
          },
          "showarrow": false,
          "text": "chr19",
          "x": 0.5,
          "xanchor": "center",
          "xref": "paper",
          "y": 0.048,
          "yanchor": "bottom",
          "yref": "paper"
         }
        ],
        "height": 1500,
        "hovermode": "closest",
        "showlegend": true,
        "template": {
         "data": {
          "bar": [
           {
            "error_x": {
             "color": "#2a3f5f"
            },
            "error_y": {
             "color": "#2a3f5f"
            },
            "marker": {
             "line": {
              "color": "#E5ECF6",
              "width": 0.5
             },
             "pattern": {
              "fillmode": "overlay",
              "size": 10,
              "solidity": 0.2
             }
            },
            "type": "bar"
           }
          ],
          "barpolar": [
           {
            "marker": {
             "line": {
              "color": "#E5ECF6",
              "width": 0.5
             },
             "pattern": {
              "fillmode": "overlay",
              "size": 10,
              "solidity": 0.2
             }
            },
            "type": "barpolar"
           }
          ],
          "carpet": [
           {
            "aaxis": {
             "endlinecolor": "#2a3f5f",
             "gridcolor": "white",
             "linecolor": "white",
             "minorgridcolor": "white",
             "startlinecolor": "#2a3f5f"
            },
            "baxis": {
             "endlinecolor": "#2a3f5f",
             "gridcolor": "white",
             "linecolor": "white",
             "minorgridcolor": "white",
             "startlinecolor": "#2a3f5f"
            },
            "type": "carpet"
           }
          ],
          "choropleth": [
           {
            "colorbar": {
             "outlinewidth": 0,
             "ticks": ""
            },
            "type": "choropleth"
           }
          ],
          "contour": [
           {
            "colorbar": {
             "outlinewidth": 0,
             "ticks": ""
            },
            "colorscale": [
             [
              0,
              "#0d0887"
             ],
             [
              0.1111111111111111,
              "#46039f"
             ],
             [
              0.2222222222222222,
              "#7201a8"
             ],
             [
              0.3333333333333333,
              "#9c179e"
             ],
             [
              0.4444444444444444,
              "#bd3786"
             ],
             [
              0.5555555555555556,
              "#d8576b"
             ],
             [
              0.6666666666666666,
              "#ed7953"
             ],
             [
              0.7777777777777778,
              "#fb9f3a"
             ],
             [
              0.8888888888888888,
              "#fdca26"
             ],
             [
              1,
              "#f0f921"
             ]
            ],
            "type": "contour"
           }
          ],
          "contourcarpet": [
           {
            "colorbar": {
             "outlinewidth": 0,
             "ticks": ""
            },
            "type": "contourcarpet"
           }
          ],
          "heatmap": [
           {
            "colorbar": {
             "outlinewidth": 0,
             "ticks": ""
            },
            "colorscale": [
             [
              0,
              "#0d0887"
             ],
             [
              0.1111111111111111,
              "#46039f"
             ],
             [
              0.2222222222222222,
              "#7201a8"
             ],
             [
              0.3333333333333333,
              "#9c179e"
             ],
             [
              0.4444444444444444,
              "#bd3786"
             ],
             [
              0.5555555555555556,
              "#d8576b"
             ],
             [
              0.6666666666666666,
              "#ed7953"
             ],
             [
              0.7777777777777778,
              "#fb9f3a"
             ],
             [
              0.8888888888888888,
              "#fdca26"
             ],
             [
              1,
              "#f0f921"
             ]
            ],
            "type": "heatmap"
           }
          ],
          "heatmapgl": [
           {
            "colorbar": {
             "outlinewidth": 0,
             "ticks": ""
            },
            "colorscale": [
             [
              0,
              "#0d0887"
             ],
             [
              0.1111111111111111,
              "#46039f"
             ],
             [
              0.2222222222222222,
              "#7201a8"
             ],
             [
              0.3333333333333333,
              "#9c179e"
             ],
             [
              0.4444444444444444,
              "#bd3786"
             ],
             [
              0.5555555555555556,
              "#d8576b"
             ],
             [
              0.6666666666666666,
              "#ed7953"
             ],
             [
              0.7777777777777778,
              "#fb9f3a"
             ],
             [
              0.8888888888888888,
              "#fdca26"
             ],
             [
              1,
              "#f0f921"
             ]
            ],
            "type": "heatmapgl"
           }
          ],
          "histogram": [
           {
            "marker": {
             "pattern": {
              "fillmode": "overlay",
              "size": 10,
              "solidity": 0.2
             }
            },
            "type": "histogram"
           }
          ],
          "histogram2d": [
           {
            "colorbar": {
             "outlinewidth": 0,
             "ticks": ""
            },
            "colorscale": [
             [
              0,
              "#0d0887"
             ],
             [
              0.1111111111111111,
              "#46039f"
             ],
             [
              0.2222222222222222,
              "#7201a8"
             ],
             [
              0.3333333333333333,
              "#9c179e"
             ],
             [
              0.4444444444444444,
              "#bd3786"
             ],
             [
              0.5555555555555556,
              "#d8576b"
             ],
             [
              0.6666666666666666,
              "#ed7953"
             ],
             [
              0.7777777777777778,
              "#fb9f3a"
             ],
             [
              0.8888888888888888,
              "#fdca26"
             ],
             [
              1,
              "#f0f921"
             ]
            ],
            "type": "histogram2d"
           }
          ],
          "histogram2dcontour": [
           {
            "colorbar": {
             "outlinewidth": 0,
             "ticks": ""
            },
            "colorscale": [
             [
              0,
              "#0d0887"
             ],
             [
              0.1111111111111111,
              "#46039f"
             ],
             [
              0.2222222222222222,
              "#7201a8"
             ],
             [
              0.3333333333333333,
              "#9c179e"
             ],
             [
              0.4444444444444444,
              "#bd3786"
             ],
             [
              0.5555555555555556,
              "#d8576b"
             ],
             [
              0.6666666666666666,
              "#ed7953"
             ],
             [
              0.7777777777777778,
              "#fb9f3a"
             ],
             [
              0.8888888888888888,
              "#fdca26"
             ],
             [
              1,
              "#f0f921"
             ]
            ],
            "type": "histogram2dcontour"
           }
          ],
          "mesh3d": [
           {
            "colorbar": {
             "outlinewidth": 0,
             "ticks": ""
            },
            "type": "mesh3d"
           }
          ],
          "parcoords": [
           {
            "line": {
             "colorbar": {
              "outlinewidth": 0,
              "ticks": ""
             }
            },
            "type": "parcoords"
           }
          ],
          "pie": [
           {
            "automargin": true,
            "type": "pie"
           }
          ],
          "scatter": [
           {
            "fillpattern": {
             "fillmode": "overlay",
             "size": 10,
             "solidity": 0.2
            },
            "type": "scatter"
           }
          ],
          "scatter3d": [
           {
            "line": {
             "colorbar": {
              "outlinewidth": 0,
              "ticks": ""
             }
            },
            "marker": {
             "colorbar": {
              "outlinewidth": 0,
              "ticks": ""
             }
            },
            "type": "scatter3d"
           }
          ],
          "scattercarpet": [
           {
            "marker": {
             "colorbar": {
              "outlinewidth": 0,
              "ticks": ""
             }
            },
            "type": "scattercarpet"
           }
          ],
          "scattergeo": [
           {
            "marker": {
             "colorbar": {
              "outlinewidth": 0,
              "ticks": ""
             }
            },
            "type": "scattergeo"
           }
          ],
          "scattergl": [
           {
            "marker": {
             "colorbar": {
              "outlinewidth": 0,
              "ticks": ""
             }
            },
            "type": "scattergl"
           }
          ],
          "scattermapbox": [
           {
            "marker": {
             "colorbar": {
              "outlinewidth": 0,
              "ticks": ""
             }
            },
            "type": "scattermapbox"
           }
          ],
          "scatterpolar": [
           {
            "marker": {
             "colorbar": {
              "outlinewidth": 0,
              "ticks": ""
             }
            },
            "type": "scatterpolar"
           }
          ],
          "scatterpolargl": [
           {
            "marker": {
             "colorbar": {
              "outlinewidth": 0,
              "ticks": ""
             }
            },
            "type": "scatterpolargl"
           }
          ],
          "scatterternary": [
           {
            "marker": {
             "colorbar": {
              "outlinewidth": 0,
              "ticks": ""
             }
            },
            "type": "scatterternary"
           }
          ],
          "surface": [
           {
            "colorbar": {
             "outlinewidth": 0,
             "ticks": ""
            },
            "colorscale": [
             [
              0,
              "#0d0887"
             ],
             [
              0.1111111111111111,
              "#46039f"
             ],
             [
              0.2222222222222222,
              "#7201a8"
             ],
             [
              0.3333333333333333,
              "#9c179e"
             ],
             [
              0.4444444444444444,
              "#bd3786"
             ],
             [
              0.5555555555555556,
              "#d8576b"
             ],
             [
              0.6666666666666666,
              "#ed7953"
             ],
             [
              0.7777777777777778,
              "#fb9f3a"
             ],
             [
              0.8888888888888888,
              "#fdca26"
             ],
             [
              1,
              "#f0f921"
             ]
            ],
            "type": "surface"
           }
          ],
          "table": [
           {
            "cells": {
             "fill": {
              "color": "#EBF0F8"
             },
             "line": {
              "color": "white"
             }
            },
            "header": {
             "fill": {
              "color": "#C8D4E3"
             },
             "line": {
              "color": "white"
             }
            },
            "type": "table"
           }
          ]
         },
         "layout": {
          "annotationdefaults": {
           "arrowcolor": "#2a3f5f",
           "arrowhead": 0,
           "arrowwidth": 1
          },
          "autotypenumbers": "strict",
          "coloraxis": {
           "colorbar": {
            "outlinewidth": 0,
            "ticks": ""
           }
          },
          "colorscale": {
           "diverging": [
            [
             0,
             "#8e0152"
            ],
            [
             0.1,
             "#c51b7d"
            ],
            [
             0.2,
             "#de77ae"
            ],
            [
             0.3,
             "#f1b6da"
            ],
            [
             0.4,
             "#fde0ef"
            ],
            [
             0.5,
             "#f7f7f7"
            ],
            [
             0.6,
             "#e6f5d0"
            ],
            [
             0.7,
             "#b8e186"
            ],
            [
             0.8,
             "#7fbc41"
            ],
            [
             0.9,
             "#4d9221"
            ],
            [
             1,
             "#276419"
            ]
           ],
           "sequential": [
            [
             0,
             "#0d0887"
            ],
            [
             0.1111111111111111,
             "#46039f"
            ],
            [
             0.2222222222222222,
             "#7201a8"
            ],
            [
             0.3333333333333333,
             "#9c179e"
            ],
            [
             0.4444444444444444,
             "#bd3786"
            ],
            [
             0.5555555555555556,
             "#d8576b"
            ],
            [
             0.6666666666666666,
             "#ed7953"
            ],
            [
             0.7777777777777778,
             "#fb9f3a"
            ],
            [
             0.8888888888888888,
             "#fdca26"
            ],
            [
             1,
             "#f0f921"
            ]
           ],
           "sequentialminus": [
            [
             0,
             "#0d0887"
            ],
            [
             0.1111111111111111,
             "#46039f"
            ],
            [
             0.2222222222222222,
             "#7201a8"
            ],
            [
             0.3333333333333333,
             "#9c179e"
            ],
            [
             0.4444444444444444,
             "#bd3786"
            ],
            [
             0.5555555555555556,
             "#d8576b"
            ],
            [
             0.6666666666666666,
             "#ed7953"
            ],
            [
             0.7777777777777778,
             "#fb9f3a"
            ],
            [
             0.8888888888888888,
             "#fdca26"
            ],
            [
             1,
             "#f0f921"
            ]
           ]
          },
          "colorway": [
           "#636efa",
           "#EF553B",
           "#00cc96",
           "#ab63fa",
           "#FFA15A",
           "#19d3f3",
           "#FF6692",
           "#B6E880",
           "#FF97FF",
           "#FECB52"
          ],
          "font": {
           "color": "#2a3f5f"
          },
          "geo": {
           "bgcolor": "white",
           "lakecolor": "white",
           "landcolor": "#E5ECF6",
           "showlakes": true,
           "showland": true,
           "subunitcolor": "white"
          },
          "hoverlabel": {
           "align": "left"
          },
          "hovermode": "closest",
          "mapbox": {
           "style": "light"
          },
          "paper_bgcolor": "white",
          "plot_bgcolor": "#E5ECF6",
          "polar": {
           "angularaxis": {
            "gridcolor": "white",
            "linecolor": "white",
            "ticks": ""
           },
           "bgcolor": "#E5ECF6",
           "radialaxis": {
            "gridcolor": "white",
            "linecolor": "white",
            "ticks": ""
           }
          },
          "scene": {
           "xaxis": {
            "backgroundcolor": "#E5ECF6",
            "gridcolor": "white",
            "gridwidth": 2,
            "linecolor": "white",
            "showbackground": true,
            "ticks": "",
            "zerolinecolor": "white"
           },
           "yaxis": {
            "backgroundcolor": "#E5ECF6",
            "gridcolor": "white",
            "gridwidth": 2,
            "linecolor": "white",
            "showbackground": true,
            "ticks": "",
            "zerolinecolor": "white"
           },
           "zaxis": {
            "backgroundcolor": "#E5ECF6",
            "gridcolor": "white",
            "gridwidth": 2,
            "linecolor": "white",
            "showbackground": true,
            "ticks": "",
            "zerolinecolor": "white"
           }
          },
          "shapedefaults": {
           "line": {
            "color": "#2a3f5f"
           }
          },
          "ternary": {
           "aaxis": {
            "gridcolor": "white",
            "linecolor": "white",
            "ticks": ""
           },
           "baxis": {
            "gridcolor": "white",
            "linecolor": "white",
            "ticks": ""
           },
           "bgcolor": "#E5ECF6",
           "caxis": {
            "gridcolor": "white",
            "linecolor": "white",
            "ticks": ""
           }
          },
          "title": {
           "x": 0.05
          },
          "xaxis": {
           "automargin": true,
           "gridcolor": "white",
           "linecolor": "white",
           "ticks": "",
           "title": {
            "standoff": 15
           },
           "zerolinecolor": "white",
           "zerolinewidth": 2
          },
          "yaxis": {
           "automargin": true,
           "gridcolor": "white",
           "linecolor": "white",
           "ticks": "",
           "title": {
            "standoff": 15
           },
           "zerolinecolor": "white",
           "zerolinewidth": 2
          }
         }
        },
        "title": {
         "text": "Gene Annotation Visualization of All_clocks_low_methylated_cpgs Relevant CpGs"
        },
        "width": 1200,
        "xaxis": {
         "anchor": "y",
         "domain": [
          0,
          1
         ]
        },
        "xaxis10": {
         "anchor": "y10",
         "domain": [
          0,
          1
         ]
        },
        "xaxis11": {
         "anchor": "y11",
         "domain": [
          0,
          1
         ]
        },
        "xaxis12": {
         "anchor": "y12",
         "domain": [
          0,
          1
         ]
        },
        "xaxis13": {
         "anchor": "y13",
         "domain": [
          0,
          1
         ]
        },
        "xaxis14": {
         "anchor": "y14",
         "domain": [
          0,
          1
         ]
        },
        "xaxis15": {
         "anchor": "y15",
         "domain": [
          0,
          1
         ]
        },
        "xaxis2": {
         "anchor": "y2",
         "domain": [
          0,
          1
         ]
        },
        "xaxis3": {
         "anchor": "y3",
         "domain": [
          0,
          1
         ]
        },
        "xaxis4": {
         "anchor": "y4",
         "domain": [
          0,
          1
         ]
        },
        "xaxis5": {
         "anchor": "y5",
         "domain": [
          0,
          1
         ]
        },
        "xaxis6": {
         "anchor": "y6",
         "domain": [
          0,
          1
         ]
        },
        "xaxis7": {
         "anchor": "y7",
         "domain": [
          0,
          1
         ]
        },
        "xaxis8": {
         "anchor": "y8",
         "domain": [
          0,
          1
         ]
        },
        "xaxis9": {
         "anchor": "y9",
         "domain": [
          0,
          1
         ]
        },
        "yaxis": {
         "anchor": "x",
         "domain": [
          0.9520000000000001,
          1
         ],
         "showgrid": false,
         "showticklabels": false
        },
        "yaxis10": {
         "anchor": "x10",
         "domain": [
          0.33999999999999997,
          0.38799999999999996
         ],
         "showgrid": false,
         "showticklabels": false
        },
        "yaxis11": {
         "anchor": "x11",
         "domain": [
          0.272,
          0.32
         ],
         "showgrid": false,
         "showticklabels": false
        },
        "yaxis12": {
         "anchor": "x12",
         "domain": [
          0.20400000000000001,
          0.252
         ],
         "showgrid": false,
         "showticklabels": false
        },
        "yaxis13": {
         "anchor": "x13",
         "domain": [
          0.136,
          0.184
         ],
         "showgrid": false,
         "showticklabels": false
        },
        "yaxis14": {
         "anchor": "x14",
         "domain": [
          0.068,
          0.116
         ],
         "showgrid": false,
         "showticklabels": false
        },
        "yaxis15": {
         "anchor": "x15",
         "domain": [
          0,
          0.048
         ],
         "showgrid": false,
         "showticklabels": false
        },
        "yaxis2": {
         "anchor": "x2",
         "domain": [
          0.884,
          0.932
         ],
         "showgrid": false,
         "showticklabels": false
        },
        "yaxis3": {
         "anchor": "x3",
         "domain": [
          0.8160000000000001,
          0.8640000000000001
         ],
         "showgrid": false,
         "showticklabels": false
        },
        "yaxis4": {
         "anchor": "x4",
         "domain": [
          0.748,
          0.796
         ],
         "showgrid": false,
         "showticklabels": false
        },
        "yaxis5": {
         "anchor": "x5",
         "domain": [
          0.6799999999999999,
          0.728
         ],
         "showgrid": false,
         "showticklabels": false
        },
        "yaxis6": {
         "anchor": "x6",
         "domain": [
          0.612,
          0.66
         ],
         "showgrid": false,
         "showticklabels": false
        },
        "yaxis7": {
         "anchor": "x7",
         "domain": [
          0.544,
          0.5920000000000001
         ],
         "showgrid": false,
         "showticklabels": false
        },
        "yaxis8": {
         "anchor": "x8",
         "domain": [
          0.47600000000000003,
          0.524
         ],
         "showgrid": false,
         "showticklabels": false
        },
        "yaxis9": {
         "anchor": "x9",
         "domain": [
          0.40800000000000003,
          0.456
         ],
         "showgrid": false,
         "showticklabels": false
        }
       }
      }
     },
     "metadata": {},
     "output_type": "display_data"
    },
    {
     "data": {
      "application/vnd.plotly.v1+json": {
       "config": {
        "plotlyServerURL": "https://plot.ly"
       },
       "data": [
        {
         "hoverinfo": "text",
         "hovertext": [
          "cg27228973<br>FOXO6-AS1<br>Intergenic_upstream<br>41404380.0",
          "cg17267107<br>CASZ1<br>Intron<br>10669966.0",
          "cg10501210<br>MIR29B2CHG<br>Intron<br>207823675.0",
          "cg09360996<br>PROX1<br>Exon<br>213996654.0",
          "cg17718834<br>PEX14<br>threeUTR<br>10623271.0",
          "cg01169686<br>GORAB<br>Intergenic_downstream<br>170564460.0"
         ],
         "marker": {
          "color": [
           "#fde725",
           "#440154",
           "#440154",
           "#414487",
           "#21918c",
           "#44bf70"
          ],
          "line": {
           "color": "black",
           "width": 0.5
          },
          "size": 10,
          "symbol": "square"
         },
         "mode": "markers+text",
         "showlegend": false,
         "text": [
          "FOXO6-AS1",
          "CASZ1",
          "MIR29B2CHG",
          "PROX1",
          "PEX14",
          "GORAB"
         ],
         "textfont": {
          "color": "black",
          "size": 10
         },
         "textposition": "top center",
         "type": "scatter",
         "x": [
          41404380,
          10669966,
          207823675,
          213996654,
          10623271,
          170564460
         ],
         "xaxis": "x",
         "y": [
          1,
          1,
          1,
          1,
          1,
          1
         ],
         "yaxis": "y"
        },
        {
         "hoverinfo": "text",
         "hovertext": [
          "cg11235379<br>TBR1<br>Exon<br>161417813.0",
          "cg19195912<br>FIGN<br>Intron<br>163944507.0",
          "cg17905888<br>LINC01876<br>Intergenic_downstream<br>155727368.0",
          "cg09227056<br>EVX2<br>Intergenic_downstream<br>176075721.0",
          "cg18433728<br>CHN1<br>Exon<br>174846961.0",
          "cg22267613<br>ZEB2-AS1<br>Exon<br>144521227.0",
          "cg14361875<br>LINC01812<br>Intergenic_upstream<br>67846376.0",
          "cg21907062<br>OLA1<br>Exon<br>174081061.0"
         ],
         "marker": {
          "color": [
           "#414487",
           "#440154",
           "#44bf70",
           "#44bf70",
           "#414487",
           "#414487",
           "#fde725",
           "#414487"
          ],
          "line": {
           "color": "black",
           "width": 0.5
          },
          "size": 10,
          "symbol": "square"
         },
         "mode": "markers+text",
         "showlegend": false,
         "text": [
          "TBR1",
          "FIGN",
          "LINC01876",
          "EVX2",
          "CHN1",
          "ZEB2-AS1",
          "LINC01812",
          "OLA1"
         ],
         "textfont": {
          "color": "black",
          "size": 10
         },
         "textposition": "top center",
         "type": "scatter",
         "x": [
          161417813,
          163944507,
          155727368,
          176075721,
          174846961,
          144521227,
          67846376,
          174081061
         ],
         "xaxis": "x2",
         "y": [
          2,
          2,
          2,
          2,
          2,
          2,
          2,
          2
         ],
         "yaxis": "y2"
        },
        {
         "hoverinfo": "text",
         "hovertext": [
          "cg11084334<br>LHFPL4<br>Exon<br>9552580.0",
          "cg19981759<br>LOC440982<br>fiveUTR<br>147409413.0",
          "cg05844902<br>SLC9A9<br>Exon<br>143848183.0",
          "cg12841266<br>LHFPL4<br>Exon<br>9552409.0",
          "cg24952195<br>SATB1<br>Intron<br>18356048.0",
          "cg15809488<br>RARB<br>fiveUTR<br>25428622.0",
          "cg12965599<br>LOC440982<br>Intron<br>147408137.0",
          "cg08938156<br>LOC440982<br>fiveUTR<br>147409417.0",
          "cg12830057<br>MITF<br>Exon<br>69879222.0"
         ],
         "marker": {
          "color": [
           "#414487",
           "#7ad151",
           "#414487",
           "#414487",
           "#440154",
           "#7ad151",
           "#440154",
           "#7ad151",
           "#414487"
          ],
          "line": {
           "color": "black",
           "width": 0.5
          },
          "size": 10,
          "symbol": "square"
         },
         "mode": "markers+text",
         "showlegend": false,
         "text": [
          "LHFPL4",
          "LOC440982",
          "SLC9A9",
          "LHFPL4",
          "SATB1",
          "RARB",
          "LOC440982",
          "LOC440982",
          "MITF"
         ],
         "textfont": {
          "color": "black",
          "size": 10
         },
         "textposition": "top center",
         "type": "scatter",
         "x": [
          9552580,
          147409413,
          143848183,
          9552409,
          18356048,
          25428622,
          147408137,
          147409417,
          69879222
         ],
         "xaxis": "x3",
         "y": [
          3,
          3,
          3,
          3,
          3,
          3,
          3,
          3,
          3
         ],
         "yaxis": "y3"
        },
        {
         "hoverinfo": "text",
         "hovertext": [
          "cg18304538<br>TBCA<br>Intron<br>77852294.0",
          "cg20615601<br>PURA<br>threeUTR<br>140115517.0",
          "cg26844246<br>TLX3<br>fiveUTR<br>171309273.0",
          "cg07875786<br>NR2F1<br>fiveUTR<br>93583221.0",
          "cg18814344<br>CXXC5<br>Intron<br>139660961.0"
         ],
         "marker": {
          "color": [
           "#440154",
           "#21918c",
           "#7ad151",
           "#7ad151",
           "#440154"
          ],
          "line": {
           "color": "black",
           "width": 0.5
          },
          "size": 10,
          "symbol": "square"
         },
         "mode": "markers+text",
         "showlegend": false,
         "text": [
          "TBCA",
          "PURA",
          "TLX3",
          "NR2F1",
          "CXXC5"
         ],
         "textfont": {
          "color": "black",
          "size": 10
         },
         "textposition": "top center",
         "type": "scatter",
         "x": [
          77852294,
          140115517,
          171309273,
          93583221,
          139660961
         ],
         "xaxis": "x4",
         "y": [
          4,
          4,
          4,
          4,
          4
         ],
         "yaxis": "y4"
        },
        {
         "hoverinfo": "text",
         "hovertext": [
          "cg02963786<br>TFAP2A<br>Intron<br>10395521.0",
          "cg06472065<br>SYNGAP1<br>Exon<br>33426669.0"
         ],
         "marker": {
          "color": [
           "#440154",
           "#414487"
          ],
          "line": {
           "color": "black",
           "width": 0.5
          },
          "size": 10,
          "symbol": "square"
         },
         "mode": "markers+text",
         "showlegend": false,
         "text": [
          "TFAP2A",
          "SYNGAP1"
         ],
         "textfont": {
          "color": "black",
          "size": 10
         },
         "textposition": "top center",
         "type": "scatter",
         "x": [
          10395521,
          33426669
         ],
         "xaxis": "x5",
         "y": [
          5,
          5
         ],
         "yaxis": "y5"
        },
        {
         "hoverinfo": "text",
         "hovertext": [
          "cg09710440<br>LHFPL3<br>Exon<br>104328932.0",
          "cg11516694<br>HOXA-AS3<br>Intron<br>27147848.0",
          "cg13188467<br>DLX6-AS1<br>Intron<br>96998781.0",
          "cg03820088<br>TRA2A<br>fiveUTR<br>23522229.0",
          "cg07323940<br>DGKB<br>Intron<br>14197482.0"
         ],
         "marker": {
          "color": [
           "#414487",
           "#440154",
           "#440154",
           "#7ad151",
           "#440154"
          ],
          "line": {
           "color": "black",
           "width": 0.5
          },
          "size": 10,
          "symbol": "square"
         },
         "mode": "markers+text",
         "showlegend": false,
         "text": [
          "LHFPL3",
          "HOXA-AS3",
          "DLX6-AS1",
          "TRA2A",
          "DGKB"
         ],
         "textfont": {
          "color": "black",
          "size": 10
         },
         "textposition": "top center",
         "type": "scatter",
         "x": [
          104328932,
          27147848,
          96998781,
          23522229,
          14197482
         ],
         "xaxis": "x6",
         "y": [
          6,
          6,
          6,
          6,
          6
         ],
         "yaxis": "y6"
        },
        {
         "hoverinfo": "text",
         "hovertext": [
          "cg18168101<br>BAALC-AS2<br>Promoter<br>103141399.0",
          "cg22416332<br>XPO7<br>Exon<br>21990865.0",
          "cg12815291<br>ZC3H3<br>Intron<br>143439468.0",
          "cg12382554<br>ZFPM2<br>Intron<br>104869303.0"
         ],
         "marker": {
          "color": [
           "#355f8d",
           "#414487",
           "#440154",
           "#440154"
          ],
          "line": {
           "color": "black",
           "width": 0.5
          },
          "size": 10,
          "symbol": "square"
         },
         "mode": "markers+text",
         "showlegend": false,
         "text": [
          "BAALC-AS2",
          "XPO7",
          "ZC3H3",
          "ZFPM2"
         ],
         "textfont": {
          "color": "black",
          "size": 10
         },
         "textposition": "top center",
         "type": "scatter",
         "x": [
          103141399,
          21990865,
          143439468,
          104869303
         ],
         "xaxis": "x7",
         "y": [
          7,
          7,
          7,
          7
         ],
         "yaxis": "y7"
        },
        {
         "hoverinfo": "text",
         "hovertext": [
          "cg17437489<br>PBX3<br>Intron<br>125763666.0",
          "cg15437942<br>LHX2<br>Intron<br>124018172.0",
          "cg21633990<br>COL5A1<br>Exon<br>134830033.0",
          "cg03942000<br>MIR219A2<br>Exon<br>128393488.0",
          "cg17516812<br>BNC2<br>Intron<br>16773158.0",
          "cg03320248<br>MED27<br>Intergenic_upstream<br>132099317.0",
          "cg23510032<br>SMARCA2<br>Exon<br>2159889.0",
          "cg10439738<br>MAPKAP1<br>Intron<br>125542176.0",
          "cg27547112<br>HNRNPK<br>Intron<br>83973650.0"
         ],
         "marker": {
          "color": [
           "#440154",
           "#440154",
           "#414487",
           "#414487",
           "#440154",
           "#fde725",
           "#414487",
           "#440154",
           "#440154"
          ],
          "line": {
           "color": "black",
           "width": 0.5
          },
          "size": 10,
          "symbol": "square"
         },
         "mode": "markers+text",
         "showlegend": false,
         "text": [
          "PBX3",
          "LHX2",
          "COL5A1",
          "MIR219A2",
          "BNC2",
          "MED27",
          "SMARCA2",
          "MAPKAP1",
          "HNRNPK"
         ],
         "textfont": {
          "color": "black",
          "size": 10
         },
         "textposition": "top center",
         "type": "scatter",
         "x": [
          125763666,
          124018172,
          134830033,
          128393488,
          16773158,
          132099317,
          2159889,
          125542176,
          83973650
         ],
         "xaxis": "x8",
         "y": [
          8,
          8,
          8,
          8,
          8,
          8,
          8,
          8,
          8
         ],
         "yaxis": "y8"
        },
        {
         "hoverinfo": "text",
         "hovertext": [
          "cg04706544<br>DRGX<br>Promoter<br>49396706.0",
          "cg19090691<br>NKX2-3<br>Intergenic_downstream<br>99537359.0",
          "cg01429475<br>BTRC<br>Intron<br>101451718.0",
          "cg17357006<br>VTI1A<br>Exon<br>112538434.0"
         ],
         "marker": {
          "color": [
           "#355f8d",
           "#44bf70",
           "#440154",
           "#414487"
          ],
          "line": {
           "color": "black",
           "width": 0.5
          },
          "size": 10,
          "symbol": "square"
         },
         "mode": "markers+text",
         "showlegend": false,
         "text": [
          "DRGX",
          "NKX2-3",
          "BTRC",
          "VTI1A"
         ],
         "textfont": {
          "color": "black",
          "size": 10
         },
         "textposition": "top center",
         "type": "scatter",
         "x": [
          49396706,
          99537359,
          101451718,
          112538434
         ],
         "xaxis": "x9",
         "y": [
          9,
          9,
          9,
          9
         ],
         "yaxis": "y9"
        },
        {
         "hoverinfo": "text",
         "hovertext": [
          "cg27201382<br>BDNF<br>fiveUTR<br>27720483.0",
          "cg01975510<br>KDM2A<br>Exon<br>67250350.0"
         ],
         "marker": {
          "color": [
           "#7ad151",
           "#414487"
          ],
          "line": {
           "color": "black",
           "width": 0.5
          },
          "size": 10,
          "symbol": "square"
         },
         "mode": "markers+text",
         "showlegend": false,
         "text": [
          "BDNF",
          "KDM2A"
         ],
         "textfont": {
          "color": "black",
          "size": 10
         },
         "textposition": "top center",
         "type": "scatter",
         "x": [
          27720483,
          67250350
         ],
         "xaxis": "x10",
         "y": [
          10,
          10
         ],
         "yaxis": "y10"
        },
        {
         "hoverinfo": "text",
         "hovertext": [
          "cg14903956<br>GRIN2B<br>Exon<br>13562916.0",
          "cg13935553<br>BHLHE41<br>threeUTR<br>26120667.0",
          "cg08563010<br>SOX5<br>Intron<br>23921603.0",
          "cg18094982<br>SLCO1C1<br>fiveUTR<br>20695438.0",
          "cg10466667<br>CALCOCO1<br>threeUTR<br>53710077.0",
          "cg17116410<br>HOXC4<br>Exon<br>54037896.0"
         ],
         "marker": {
          "color": [
           "#414487",
           "#21918c",
           "#440154",
           "#7ad151",
           "#21918c",
           "#414487"
          ],
          "line": {
           "color": "black",
           "width": 0.5
          },
          "size": 10,
          "symbol": "square"
         },
         "mode": "markers+text",
         "showlegend": false,
         "text": [
          "GRIN2B",
          "BHLHE41",
          "SOX5",
          "SLCO1C1",
          "CALCOCO1",
          "HOXC4"
         ],
         "textfont": {
          "color": "black",
          "size": 10
         },
         "textposition": "top center",
         "type": "scatter",
         "x": [
          13562916,
          26120667,
          23921603,
          20695438,
          53710077,
          54037896
         ],
         "xaxis": "x11",
         "y": [
          11,
          11,
          11,
          11,
          11,
          11
         ],
         "yaxis": "y11"
        },
        {
         "hoverinfo": "text",
         "hovertext": [
          "cg23985931<br>OBI1-AS1<br>Intron<br>78594976.0",
          "cg23415880<br>GSX1<br>Promoter<br>27792287.0"
         ],
         "marker": {
          "color": [
           "#440154",
           "#355f8d"
          ],
          "line": {
           "color": "black",
           "width": 0.5
          },
          "size": 10,
          "symbol": "square"
         },
         "mode": "markers+text",
         "showlegend": false,
         "text": [
          "OBI1-AS1",
          "GSX1"
         ],
         "textfont": {
          "color": "black",
          "size": 10
         },
         "textposition": "top center",
         "type": "scatter",
         "x": [
          78594976,
          27792287
         ],
         "xaxis": "x12",
         "y": [
          12,
          12
         ],
         "yaxis": "y12"
        },
        {
         "hoverinfo": "text",
         "hovertext": [
          "cg11690941<br>UNC79<br>fiveUTR<br>93474290.0",
          "cg12449245<br>DPF3<br>Exon<br>72619953.0"
         ],
         "marker": {
          "color": [
           "#7ad151",
           "#414487"
          ],
          "line": {
           "color": "black",
           "width": 0.5
          },
          "size": 10,
          "symbol": "square"
         },
         "mode": "markers+text",
         "showlegend": false,
         "text": [
          "UNC79",
          "DPF3"
         ],
         "textfont": {
          "color": "black",
          "size": 10
         },
         "textposition": "top center",
         "type": "scatter",
         "x": [
          93474290,
          72619953
         ],
         "xaxis": "x13",
         "y": [
          13,
          13
         ],
         "yaxis": "y13"
        },
        {
         "hoverinfo": "text",
         "hovertext": [
          "cg23087015<br>CELF6<br>threeUTR<br>72319625.0",
          "cg12156848<br>RORA<br>Exon<br>60677183.0"
         ],
         "marker": {
          "color": [
           "#21918c",
           "#414487"
          ],
          "line": {
           "color": "black",
           "width": 0.5
          },
          "size": 10,
          "symbol": "square"
         },
         "mode": "markers+text",
         "showlegend": false,
         "text": [
          "CELF6",
          "RORA"
         ],
         "textfont": {
          "color": "black",
          "size": 10
         },
         "textposition": "top center",
         "type": "scatter",
         "x": [
          72319625,
          60677183
         ],
         "xaxis": "x14",
         "y": [
          14,
          14
         ],
         "yaxis": "y14"
        },
        {
         "hoverinfo": "text",
         "hovertext": [
          "cg09461098<br>TNRC6A<br>threeUTR<br>24815270.0",
          "cg15340018<br>AP1G1<br>threeUTR<br>71756157.0",
          "cg19591642<br>TNRC6A<br>threeUTR<br>24815260.0",
          "cg11948733<br>YPEL3<br>fiveUTR<br>30095371.0",
          "cg26709300<br>YPEL3<br>Exon<br>30095361.0"
         ],
         "marker": {
          "color": [
           "#21918c",
           "#21918c",
           "#21918c",
           "#7ad151",
           "#414487"
          ],
          "line": {
           "color": "black",
           "width": 0.5
          },
          "size": 10,
          "symbol": "square"
         },
         "mode": "markers+text",
         "showlegend": false,
         "text": [
          "TNRC6A",
          "AP1G1",
          "TNRC6A",
          "YPEL3",
          "YPEL3"
         ],
         "textfont": {
          "color": "black",
          "size": 10
         },
         "textposition": "top center",
         "type": "scatter",
         "x": [
          24815270,
          71756157,
          24815260,
          30095371,
          30095361
         ],
         "xaxis": "x15",
         "y": [
          15,
          15,
          15,
          15,
          15
         ],
         "yaxis": "y15"
        },
        {
         "hoverinfo": "text",
         "hovertext": [
          "cg08446005<br>SOCS3<br>Exon<br>78359055.0",
          "cg26072749<br>HOXB3<br>Exon<br>48579912.0",
          "cg02909927<br>RAI1<br>Intron<br>17784078.0",
          "cg07005811<br>PHF12<br>Exon<br>28912612.0",
          "cg17114460<br>FLOT2<br>Exon<br>28884283.0"
         ],
         "marker": {
          "color": [
           "#414487",
           "#414487",
           "#440154",
           "#414487",
           "#414487"
          ],
          "line": {
           "color": "black",
           "width": 0.5
          },
          "size": 10,
          "symbol": "square"
         },
         "mode": "markers+text",
         "showlegend": false,
         "text": [
          "SOCS3",
          "HOXB3",
          "RAI1",
          "PHF12",
          "FLOT2"
         ],
         "textfont": {
          "color": "black",
          "size": 10
         },
         "textposition": "top center",
         "type": "scatter",
         "x": [
          78359055,
          48579912,
          17784078,
          28912612,
          28884283
         ],
         "xaxis": "x16",
         "y": [
          16,
          16,
          16,
          16,
          16
         ],
         "yaxis": "y16"
        },
        {
         "hoverinfo": "text",
         "hovertext": [
          "cg14701342<br>LINC01029<br>Intergenic_downstream<br>77833139.0",
          "cg13608832<br>ZNF521<br>Intron<br>25231172.0"
         ],
         "marker": {
          "color": [
           "#44bf70",
           "#440154"
          ],
          "line": {
           "color": "black",
           "width": 0.5
          },
          "size": 10,
          "symbol": "square"
         },
         "mode": "markers+text",
         "showlegend": false,
         "text": [
          "LINC01029",
          "ZNF521"
         ],
         "textfont": {
          "color": "black",
          "size": 10
         },
         "textposition": "top center",
         "type": "scatter",
         "x": [
          77833139,
          25231172
         ],
         "xaxis": "x17",
         "y": [
          17,
          17
         ],
         "yaxis": "y17"
        },
        {
         "hoverinfo": "text",
         "hovertext": [
          "cg11666770<br>LOC100505585<br>Intron<br>41926758.0",
          "cg14443903<br>ZNF536<br>Intergenic_downstream<br>30718448.0"
         ],
         "marker": {
          "color": [
           "#440154",
           "#44bf70"
          ],
          "line": {
           "color": "black",
           "width": 0.5
          },
          "size": 10,
          "symbol": "square"
         },
         "mode": "markers+text",
         "showlegend": false,
         "text": [
          "LOC100505585",
          "ZNF536"
         ],
         "textfont": {
          "color": "black",
          "size": 10
         },
         "textposition": "top center",
         "type": "scatter",
         "x": [
          41926758,
          30718448
         ],
         "xaxis": "x18",
         "y": [
          18,
          18
         ],
         "yaxis": "y18"
        },
        {
         "hoverinfo": "text",
         "hovertext": [
          "cg15746205<br>EWSR1<br>Exon<br>29290369.0"
         ],
         "marker": {
          "color": [
           "#414487"
          ],
          "line": {
           "color": "black",
           "width": 0.5
          },
          "size": 10,
          "symbol": "square"
         },
         "mode": "markers+text",
         "showlegend": false,
         "text": [
          "EWSR1"
         ],
         "textfont": {
          "color": "black",
          "size": 10
         },
         "textposition": "top center",
         "type": "scatter",
         "x": [
          29290369
         ],
         "xaxis": "x19",
         "y": [
          19
         ],
         "yaxis": "y19"
        },
        {
         "legendgroup": "Intron",
         "marker": {
          "color": "#440154",
          "size": 10,
          "symbol": "square"
         },
         "mode": "markers",
         "name": "Intron",
         "showlegend": true,
         "type": "scatter",
         "x": [
          null
         ],
         "y": [
          null
         ]
        },
        {
         "legendgroup": "Exon",
         "marker": {
          "color": "#414487",
          "size": 10,
          "symbol": "square"
         },
         "mode": "markers",
         "name": "Exon",
         "showlegend": true,
         "type": "scatter",
         "x": [
          null
         ],
         "y": [
          null
         ]
        },
        {
         "legendgroup": "Promoter",
         "marker": {
          "color": "#355f8d",
          "size": 10,
          "symbol": "square"
         },
         "mode": "markers",
         "name": "Promoter",
         "showlegend": true,
         "type": "scatter",
         "x": [
          null
         ],
         "y": [
          null
         ]
        },
        {
         "legendgroup": "threeUTR",
         "marker": {
          "color": "#21918c",
          "size": 10,
          "symbol": "square"
         },
         "mode": "markers",
         "name": "threeUTR",
         "showlegend": true,
         "type": "scatter",
         "x": [
          null
         ],
         "y": [
          null
         ]
        },
        {
         "legendgroup": "Intergenic_downstream",
         "marker": {
          "color": "#44bf70",
          "size": 10,
          "symbol": "square"
         },
         "mode": "markers",
         "name": "Intergenic_downstream",
         "showlegend": true,
         "type": "scatter",
         "x": [
          null
         ],
         "y": [
          null
         ]
        },
        {
         "legendgroup": "fiveUTR",
         "marker": {
          "color": "#7ad151",
          "size": 10,
          "symbol": "square"
         },
         "mode": "markers",
         "name": "fiveUTR",
         "showlegend": true,
         "type": "scatter",
         "x": [
          null
         ],
         "y": [
          null
         ]
        },
        {
         "legendgroup": "Intergenic_upstream",
         "marker": {
          "color": "#fde725",
          "size": 10,
          "symbol": "square"
         },
         "mode": "markers",
         "name": "Intergenic_upstream",
         "showlegend": true,
         "type": "scatter",
         "x": [
          null
         ],
         "y": [
          null
         ]
        }
       ],
       "layout": {
        "annotations": [
         {
          "font": {
           "size": 16
          },
          "showarrow": false,
          "text": "chr1",
          "x": 0.5,
          "xanchor": "center",
          "xref": "paper",
          "y": 0.9999999999999999,
          "yanchor": "bottom",
          "yref": "paper"
         },
         {
          "font": {
           "size": 16
          },
          "showarrow": false,
          "text": "chr2",
          "x": 0.5,
          "xanchor": "center",
          "xref": "paper",
          "y": 0.9463157894736842,
          "yanchor": "bottom",
          "yref": "paper"
         },
         {
          "font": {
           "size": 16
          },
          "showarrow": false,
          "text": "chr3",
          "x": 0.5,
          "xanchor": "center",
          "xref": "paper",
          "y": 0.8926315789473684,
          "yanchor": "bottom",
          "yref": "paper"
         },
         {
          "font": {
           "size": 16
          },
          "showarrow": false,
          "text": "chr5",
          "x": 0.5,
          "xanchor": "center",
          "xref": "paper",
          "y": 0.8389473684210527,
          "yanchor": "bottom",
          "yref": "paper"
         },
         {
          "font": {
           "size": 16
          },
          "showarrow": false,
          "text": "chr6",
          "x": 0.5,
          "xanchor": "center",
          "xref": "paper",
          "y": 0.7852631578947369,
          "yanchor": "bottom",
          "yref": "paper"
         },
         {
          "font": {
           "size": 16
          },
          "showarrow": false,
          "text": "chr7",
          "x": 0.5,
          "xanchor": "center",
          "xref": "paper",
          "y": 0.731578947368421,
          "yanchor": "bottom",
          "yref": "paper"
         },
         {
          "font": {
           "size": 16
          },
          "showarrow": false,
          "text": "chr8",
          "x": 0.5,
          "xanchor": "center",
          "xref": "paper",
          "y": 0.6778947368421052,
          "yanchor": "bottom",
          "yref": "paper"
         },
         {
          "font": {
           "size": 16
          },
          "showarrow": false,
          "text": "chr9",
          "x": 0.5,
          "xanchor": "center",
          "xref": "paper",
          "y": 0.6242105263157894,
          "yanchor": "bottom",
          "yref": "paper"
         },
         {
          "font": {
           "size": 16
          },
          "showarrow": false,
          "text": "chr10",
          "x": 0.5,
          "xanchor": "center",
          "xref": "paper",
          "y": 0.5705263157894737,
          "yanchor": "bottom",
          "yref": "paper"
         },
         {
          "font": {
           "size": 16
          },
          "showarrow": false,
          "text": "chr11",
          "x": 0.5,
          "xanchor": "center",
          "xref": "paper",
          "y": 0.5168421052631579,
          "yanchor": "bottom",
          "yref": "paper"
         },
         {
          "font": {
           "size": 16
          },
          "showarrow": false,
          "text": "chr12",
          "x": 0.5,
          "xanchor": "center",
          "xref": "paper",
          "y": 0.4631578947368421,
          "yanchor": "bottom",
          "yref": "paper"
         },
         {
          "font": {
           "size": 16
          },
          "showarrow": false,
          "text": "chr13",
          "x": 0.5,
          "xanchor": "center",
          "xref": "paper",
          "y": 0.4094736842105263,
          "yanchor": "bottom",
          "yref": "paper"
         },
         {
          "font": {
           "size": 16
          },
          "showarrow": false,
          "text": "chr14",
          "x": 0.5,
          "xanchor": "center",
          "xref": "paper",
          "y": 0.35578947368421054,
          "yanchor": "bottom",
          "yref": "paper"
         },
         {
          "font": {
           "size": 16
          },
          "showarrow": false,
          "text": "chr15",
          "x": 0.5,
          "xanchor": "center",
          "xref": "paper",
          "y": 0.30210526315789477,
          "yanchor": "bottom",
          "yref": "paper"
         },
         {
          "font": {
           "size": 16
          },
          "showarrow": false,
          "text": "chr16",
          "x": 0.5,
          "xanchor": "center",
          "xref": "paper",
          "y": 0.24842105263157896,
          "yanchor": "bottom",
          "yref": "paper"
         },
         {
          "font": {
           "size": 16
          },
          "showarrow": false,
          "text": "chr17",
          "x": 0.5,
          "xanchor": "center",
          "xref": "paper",
          "y": 0.19473684210526315,
          "yanchor": "bottom",
          "yref": "paper"
         },
         {
          "font": {
           "size": 16
          },
          "showarrow": false,
          "text": "chr18",
          "x": 0.5,
          "xanchor": "center",
          "xref": "paper",
          "y": 0.14105263157894737,
          "yanchor": "bottom",
          "yref": "paper"
         },
         {
          "font": {
           "size": 16
          },
          "showarrow": false,
          "text": "chr19",
          "x": 0.5,
          "xanchor": "center",
          "xref": "paper",
          "y": 0.08736842105263158,
          "yanchor": "bottom",
          "yref": "paper"
         },
         {
          "font": {
           "size": 16
          },
          "showarrow": false,
          "text": "chr22",
          "x": 0.5,
          "xanchor": "center",
          "xref": "paper",
          "y": 0.03368421052631579,
          "yanchor": "bottom",
          "yref": "paper"
         }
        ],
        "height": 1900,
        "hovermode": "closest",
        "showlegend": true,
        "template": {
         "data": {
          "bar": [
           {
            "error_x": {
             "color": "#2a3f5f"
            },
            "error_y": {
             "color": "#2a3f5f"
            },
            "marker": {
             "line": {
              "color": "#E5ECF6",
              "width": 0.5
             },
             "pattern": {
              "fillmode": "overlay",
              "size": 10,
              "solidity": 0.2
             }
            },
            "type": "bar"
           }
          ],
          "barpolar": [
           {
            "marker": {
             "line": {
              "color": "#E5ECF6",
              "width": 0.5
             },
             "pattern": {
              "fillmode": "overlay",
              "size": 10,
              "solidity": 0.2
             }
            },
            "type": "barpolar"
           }
          ],
          "carpet": [
           {
            "aaxis": {
             "endlinecolor": "#2a3f5f",
             "gridcolor": "white",
             "linecolor": "white",
             "minorgridcolor": "white",
             "startlinecolor": "#2a3f5f"
            },
            "baxis": {
             "endlinecolor": "#2a3f5f",
             "gridcolor": "white",
             "linecolor": "white",
             "minorgridcolor": "white",
             "startlinecolor": "#2a3f5f"
            },
            "type": "carpet"
           }
          ],
          "choropleth": [
           {
            "colorbar": {
             "outlinewidth": 0,
             "ticks": ""
            },
            "type": "choropleth"
           }
          ],
          "contour": [
           {
            "colorbar": {
             "outlinewidth": 0,
             "ticks": ""
            },
            "colorscale": [
             [
              0,
              "#0d0887"
             ],
             [
              0.1111111111111111,
              "#46039f"
             ],
             [
              0.2222222222222222,
              "#7201a8"
             ],
             [
              0.3333333333333333,
              "#9c179e"
             ],
             [
              0.4444444444444444,
              "#bd3786"
             ],
             [
              0.5555555555555556,
              "#d8576b"
             ],
             [
              0.6666666666666666,
              "#ed7953"
             ],
             [
              0.7777777777777778,
              "#fb9f3a"
             ],
             [
              0.8888888888888888,
              "#fdca26"
             ],
             [
              1,
              "#f0f921"
             ]
            ],
            "type": "contour"
           }
          ],
          "contourcarpet": [
           {
            "colorbar": {
             "outlinewidth": 0,
             "ticks": ""
            },
            "type": "contourcarpet"
           }
          ],
          "heatmap": [
           {
            "colorbar": {
             "outlinewidth": 0,
             "ticks": ""
            },
            "colorscale": [
             [
              0,
              "#0d0887"
             ],
             [
              0.1111111111111111,
              "#46039f"
             ],
             [
              0.2222222222222222,
              "#7201a8"
             ],
             [
              0.3333333333333333,
              "#9c179e"
             ],
             [
              0.4444444444444444,
              "#bd3786"
             ],
             [
              0.5555555555555556,
              "#d8576b"
             ],
             [
              0.6666666666666666,
              "#ed7953"
             ],
             [
              0.7777777777777778,
              "#fb9f3a"
             ],
             [
              0.8888888888888888,
              "#fdca26"
             ],
             [
              1,
              "#f0f921"
             ]
            ],
            "type": "heatmap"
           }
          ],
          "heatmapgl": [
           {
            "colorbar": {
             "outlinewidth": 0,
             "ticks": ""
            },
            "colorscale": [
             [
              0,
              "#0d0887"
             ],
             [
              0.1111111111111111,
              "#46039f"
             ],
             [
              0.2222222222222222,
              "#7201a8"
             ],
             [
              0.3333333333333333,
              "#9c179e"
             ],
             [
              0.4444444444444444,
              "#bd3786"
             ],
             [
              0.5555555555555556,
              "#d8576b"
             ],
             [
              0.6666666666666666,
              "#ed7953"
             ],
             [
              0.7777777777777778,
              "#fb9f3a"
             ],
             [
              0.8888888888888888,
              "#fdca26"
             ],
             [
              1,
              "#f0f921"
             ]
            ],
            "type": "heatmapgl"
           }
          ],
          "histogram": [
           {
            "marker": {
             "pattern": {
              "fillmode": "overlay",
              "size": 10,
              "solidity": 0.2
             }
            },
            "type": "histogram"
           }
          ],
          "histogram2d": [
           {
            "colorbar": {
             "outlinewidth": 0,
             "ticks": ""
            },
            "colorscale": [
             [
              0,
              "#0d0887"
             ],
             [
              0.1111111111111111,
              "#46039f"
             ],
             [
              0.2222222222222222,
              "#7201a8"
             ],
             [
              0.3333333333333333,
              "#9c179e"
             ],
             [
              0.4444444444444444,
              "#bd3786"
             ],
             [
              0.5555555555555556,
              "#d8576b"
             ],
             [
              0.6666666666666666,
              "#ed7953"
             ],
             [
              0.7777777777777778,
              "#fb9f3a"
             ],
             [
              0.8888888888888888,
              "#fdca26"
             ],
             [
              1,
              "#f0f921"
             ]
            ],
            "type": "histogram2d"
           }
          ],
          "histogram2dcontour": [
           {
            "colorbar": {
             "outlinewidth": 0,
             "ticks": ""
            },
            "colorscale": [
             [
              0,
              "#0d0887"
             ],
             [
              0.1111111111111111,
              "#46039f"
             ],
             [
              0.2222222222222222,
              "#7201a8"
             ],
             [
              0.3333333333333333,
              "#9c179e"
             ],
             [
              0.4444444444444444,
              "#bd3786"
             ],
             [
              0.5555555555555556,
              "#d8576b"
             ],
             [
              0.6666666666666666,
              "#ed7953"
             ],
             [
              0.7777777777777778,
              "#fb9f3a"
             ],
             [
              0.8888888888888888,
              "#fdca26"
             ],
             [
              1,
              "#f0f921"
             ]
            ],
            "type": "histogram2dcontour"
           }
          ],
          "mesh3d": [
           {
            "colorbar": {
             "outlinewidth": 0,
             "ticks": ""
            },
            "type": "mesh3d"
           }
          ],
          "parcoords": [
           {
            "line": {
             "colorbar": {
              "outlinewidth": 0,
              "ticks": ""
             }
            },
            "type": "parcoords"
           }
          ],
          "pie": [
           {
            "automargin": true,
            "type": "pie"
           }
          ],
          "scatter": [
           {
            "fillpattern": {
             "fillmode": "overlay",
             "size": 10,
             "solidity": 0.2
            },
            "type": "scatter"
           }
          ],
          "scatter3d": [
           {
            "line": {
             "colorbar": {
              "outlinewidth": 0,
              "ticks": ""
             }
            },
            "marker": {
             "colorbar": {
              "outlinewidth": 0,
              "ticks": ""
             }
            },
            "type": "scatter3d"
           }
          ],
          "scattercarpet": [
           {
            "marker": {
             "colorbar": {
              "outlinewidth": 0,
              "ticks": ""
             }
            },
            "type": "scattercarpet"
           }
          ],
          "scattergeo": [
           {
            "marker": {
             "colorbar": {
              "outlinewidth": 0,
              "ticks": ""
             }
            },
            "type": "scattergeo"
           }
          ],
          "scattergl": [
           {
            "marker": {
             "colorbar": {
              "outlinewidth": 0,
              "ticks": ""
             }
            },
            "type": "scattergl"
           }
          ],
          "scattermapbox": [
           {
            "marker": {
             "colorbar": {
              "outlinewidth": 0,
              "ticks": ""
             }
            },
            "type": "scattermapbox"
           }
          ],
          "scatterpolar": [
           {
            "marker": {
             "colorbar": {
              "outlinewidth": 0,
              "ticks": ""
             }
            },
            "type": "scatterpolar"
           }
          ],
          "scatterpolargl": [
           {
            "marker": {
             "colorbar": {
              "outlinewidth": 0,
              "ticks": ""
             }
            },
            "type": "scatterpolargl"
           }
          ],
          "scatterternary": [
           {
            "marker": {
             "colorbar": {
              "outlinewidth": 0,
              "ticks": ""
             }
            },
            "type": "scatterternary"
           }
          ],
          "surface": [
           {
            "colorbar": {
             "outlinewidth": 0,
             "ticks": ""
            },
            "colorscale": [
             [
              0,
              "#0d0887"
             ],
             [
              0.1111111111111111,
              "#46039f"
             ],
             [
              0.2222222222222222,
              "#7201a8"
             ],
             [
              0.3333333333333333,
              "#9c179e"
             ],
             [
              0.4444444444444444,
              "#bd3786"
             ],
             [
              0.5555555555555556,
              "#d8576b"
             ],
             [
              0.6666666666666666,
              "#ed7953"
             ],
             [
              0.7777777777777778,
              "#fb9f3a"
             ],
             [
              0.8888888888888888,
              "#fdca26"
             ],
             [
              1,
              "#f0f921"
             ]
            ],
            "type": "surface"
           }
          ],
          "table": [
           {
            "cells": {
             "fill": {
              "color": "#EBF0F8"
             },
             "line": {
              "color": "white"
             }
            },
            "header": {
             "fill": {
              "color": "#C8D4E3"
             },
             "line": {
              "color": "white"
             }
            },
            "type": "table"
           }
          ]
         },
         "layout": {
          "annotationdefaults": {
           "arrowcolor": "#2a3f5f",
           "arrowhead": 0,
           "arrowwidth": 1
          },
          "autotypenumbers": "strict",
          "coloraxis": {
           "colorbar": {
            "outlinewidth": 0,
            "ticks": ""
           }
          },
          "colorscale": {
           "diverging": [
            [
             0,
             "#8e0152"
            ],
            [
             0.1,
             "#c51b7d"
            ],
            [
             0.2,
             "#de77ae"
            ],
            [
             0.3,
             "#f1b6da"
            ],
            [
             0.4,
             "#fde0ef"
            ],
            [
             0.5,
             "#f7f7f7"
            ],
            [
             0.6,
             "#e6f5d0"
            ],
            [
             0.7,
             "#b8e186"
            ],
            [
             0.8,
             "#7fbc41"
            ],
            [
             0.9,
             "#4d9221"
            ],
            [
             1,
             "#276419"
            ]
           ],
           "sequential": [
            [
             0,
             "#0d0887"
            ],
            [
             0.1111111111111111,
             "#46039f"
            ],
            [
             0.2222222222222222,
             "#7201a8"
            ],
            [
             0.3333333333333333,
             "#9c179e"
            ],
            [
             0.4444444444444444,
             "#bd3786"
            ],
            [
             0.5555555555555556,
             "#d8576b"
            ],
            [
             0.6666666666666666,
             "#ed7953"
            ],
            [
             0.7777777777777778,
             "#fb9f3a"
            ],
            [
             0.8888888888888888,
             "#fdca26"
            ],
            [
             1,
             "#f0f921"
            ]
           ],
           "sequentialminus": [
            [
             0,
             "#0d0887"
            ],
            [
             0.1111111111111111,
             "#46039f"
            ],
            [
             0.2222222222222222,
             "#7201a8"
            ],
            [
             0.3333333333333333,
             "#9c179e"
            ],
            [
             0.4444444444444444,
             "#bd3786"
            ],
            [
             0.5555555555555556,
             "#d8576b"
            ],
            [
             0.6666666666666666,
             "#ed7953"
            ],
            [
             0.7777777777777778,
             "#fb9f3a"
            ],
            [
             0.8888888888888888,
             "#fdca26"
            ],
            [
             1,
             "#f0f921"
            ]
           ]
          },
          "colorway": [
           "#636efa",
           "#EF553B",
           "#00cc96",
           "#ab63fa",
           "#FFA15A",
           "#19d3f3",
           "#FF6692",
           "#B6E880",
           "#FF97FF",
           "#FECB52"
          ],
          "font": {
           "color": "#2a3f5f"
          },
          "geo": {
           "bgcolor": "white",
           "lakecolor": "white",
           "landcolor": "#E5ECF6",
           "showlakes": true,
           "showland": true,
           "subunitcolor": "white"
          },
          "hoverlabel": {
           "align": "left"
          },
          "hovermode": "closest",
          "mapbox": {
           "style": "light"
          },
          "paper_bgcolor": "white",
          "plot_bgcolor": "#E5ECF6",
          "polar": {
           "angularaxis": {
            "gridcolor": "white",
            "linecolor": "white",
            "ticks": ""
           },
           "bgcolor": "#E5ECF6",
           "radialaxis": {
            "gridcolor": "white",
            "linecolor": "white",
            "ticks": ""
           }
          },
          "scene": {
           "xaxis": {
            "backgroundcolor": "#E5ECF6",
            "gridcolor": "white",
            "gridwidth": 2,
            "linecolor": "white",
            "showbackground": true,
            "ticks": "",
            "zerolinecolor": "white"
           },
           "yaxis": {
            "backgroundcolor": "#E5ECF6",
            "gridcolor": "white",
            "gridwidth": 2,
            "linecolor": "white",
            "showbackground": true,
            "ticks": "",
            "zerolinecolor": "white"
           },
           "zaxis": {
            "backgroundcolor": "#E5ECF6",
            "gridcolor": "white",
            "gridwidth": 2,
            "linecolor": "white",
            "showbackground": true,
            "ticks": "",
            "zerolinecolor": "white"
           }
          },
          "shapedefaults": {
           "line": {
            "color": "#2a3f5f"
           }
          },
          "ternary": {
           "aaxis": {
            "gridcolor": "white",
            "linecolor": "white",
            "ticks": ""
           },
           "baxis": {
            "gridcolor": "white",
            "linecolor": "white",
            "ticks": ""
           },
           "bgcolor": "#E5ECF6",
           "caxis": {
            "gridcolor": "white",
            "linecolor": "white",
            "ticks": ""
           }
          },
          "title": {
           "x": 0.05
          },
          "xaxis": {
           "automargin": true,
           "gridcolor": "white",
           "linecolor": "white",
           "ticks": "",
           "title": {
            "standoff": 15
           },
           "zerolinecolor": "white",
           "zerolinewidth": 2
          },
          "yaxis": {
           "automargin": true,
           "gridcolor": "white",
           "linecolor": "white",
           "ticks": "",
           "title": {
            "standoff": 15
           },
           "zerolinecolor": "white",
           "zerolinewidth": 2
          }
         }
        },
        "title": {
         "text": "Gene Annotation Visualization of All_clocks_variable_methylated_cpgs Relevant CpGs"
        },
        "width": 1200,
        "xaxis": {
         "anchor": "y",
         "domain": [
          0,
          1
         ]
        },
        "xaxis10": {
         "anchor": "y10",
         "domain": [
          0,
          1
         ]
        },
        "xaxis11": {
         "anchor": "y11",
         "domain": [
          0,
          1
         ]
        },
        "xaxis12": {
         "anchor": "y12",
         "domain": [
          0,
          1
         ]
        },
        "xaxis13": {
         "anchor": "y13",
         "domain": [
          0,
          1
         ]
        },
        "xaxis14": {
         "anchor": "y14",
         "domain": [
          0,
          1
         ]
        },
        "xaxis15": {
         "anchor": "y15",
         "domain": [
          0,
          1
         ]
        },
        "xaxis16": {
         "anchor": "y16",
         "domain": [
          0,
          1
         ]
        },
        "xaxis17": {
         "anchor": "y17",
         "domain": [
          0,
          1
         ]
        },
        "xaxis18": {
         "anchor": "y18",
         "domain": [
          0,
          1
         ]
        },
        "xaxis19": {
         "anchor": "y19",
         "domain": [
          0,
          1
         ]
        },
        "xaxis2": {
         "anchor": "y2",
         "domain": [
          0,
          1
         ]
        },
        "xaxis3": {
         "anchor": "y3",
         "domain": [
          0,
          1
         ]
        },
        "xaxis4": {
         "anchor": "y4",
         "domain": [
          0,
          1
         ]
        },
        "xaxis5": {
         "anchor": "y5",
         "domain": [
          0,
          1
         ]
        },
        "xaxis6": {
         "anchor": "y6",
         "domain": [
          0,
          1
         ]
        },
        "xaxis7": {
         "anchor": "y7",
         "domain": [
          0,
          1
         ]
        },
        "xaxis8": {
         "anchor": "y8",
         "domain": [
          0,
          1
         ]
        },
        "xaxis9": {
         "anchor": "y9",
         "domain": [
          0,
          1
         ]
        },
        "yaxis": {
         "anchor": "x",
         "domain": [
          0.9663157894736841,
          0.9999999999999999
         ],
         "showgrid": false,
         "showticklabels": false
        },
        "yaxis10": {
         "anchor": "x10",
         "domain": [
          0.48315789473684206,
          0.5168421052631579
         ],
         "showgrid": false,
         "showticklabels": false
        },
        "yaxis11": {
         "anchor": "x11",
         "domain": [
          0.42947368421052634,
          0.4631578947368421
         ],
         "showgrid": false,
         "showticklabels": false
        },
        "yaxis12": {
         "anchor": "x12",
         "domain": [
          0.37578947368421056,
          0.4094736842105263
         ],
         "showgrid": false,
         "showticklabels": false
        },
        "yaxis13": {
         "anchor": "x13",
         "domain": [
          0.32210526315789473,
          0.35578947368421054
         ],
         "showgrid": false,
         "showticklabels": false
        },
        "yaxis14": {
         "anchor": "x14",
         "domain": [
          0.26842105263157895,
          0.30210526315789477
         ],
         "showgrid": false,
         "showticklabels": false
        },
        "yaxis15": {
         "anchor": "x15",
         "domain": [
          0.21473684210526317,
          0.24842105263157896
         ],
         "showgrid": false,
         "showticklabels": false
        },
        "yaxis16": {
         "anchor": "x16",
         "domain": [
          0.16105263157894736,
          0.19473684210526315
         ],
         "showgrid": false,
         "showticklabels": false
        },
        "yaxis17": {
         "anchor": "x17",
         "domain": [
          0.10736842105263159,
          0.14105263157894737
         ],
         "showgrid": false,
         "showticklabels": false
        },
        "yaxis18": {
         "anchor": "x18",
         "domain": [
          0.05368421052631579,
          0.08736842105263158
         ],
         "showgrid": false,
         "showticklabels": false
        },
        "yaxis19": {
         "anchor": "x19",
         "domain": [
          0,
          0.03368421052631579
         ],
         "showgrid": false,
         "showticklabels": false
        },
        "yaxis2": {
         "anchor": "x2",
         "domain": [
          0.9126315789473685,
          0.9463157894736842
         ],
         "showgrid": false,
         "showticklabels": false
        },
        "yaxis3": {
         "anchor": "x3",
         "domain": [
          0.8589473684210527,
          0.8926315789473684
         ],
         "showgrid": false,
         "showticklabels": false
        },
        "yaxis4": {
         "anchor": "x4",
         "domain": [
          0.8052631578947369,
          0.8389473684210527
         ],
         "showgrid": false,
         "showticklabels": false
        },
        "yaxis5": {
         "anchor": "x5",
         "domain": [
          0.7515789473684211,
          0.7852631578947369
         ],
         "showgrid": false,
         "showticklabels": false
        },
        "yaxis6": {
         "anchor": "x6",
         "domain": [
          0.6978947368421052,
          0.731578947368421
         ],
         "showgrid": false,
         "showticklabels": false
        },
        "yaxis7": {
         "anchor": "x7",
         "domain": [
          0.6442105263157895,
          0.6778947368421052
         ],
         "showgrid": false,
         "showticklabels": false
        },
        "yaxis8": {
         "anchor": "x8",
         "domain": [
          0.5905263157894737,
          0.6242105263157894
         ],
         "showgrid": false,
         "showticklabels": false
        },
        "yaxis9": {
         "anchor": "x9",
         "domain": [
          0.5368421052631579,
          0.5705263157894737
         ],
         "showgrid": false,
         "showticklabels": false
        }
       }
      }
     },
     "metadata": {},
     "output_type": "display_data"
    },
    {
     "data": {
      "application/vnd.plotly.v1+json": {
       "config": {
        "plotlyServerURL": "https://plot.ly"
       },
       "data": [
        {
         "hoverinfo": "text",
         "hovertext": [
          "cg27228973<br>FOXO6-AS1<br>Intergenic_upstream<br>41404380.0"
         ],
         "marker": {
          "color": [
           "#fde725"
          ],
          "line": {
           "color": "black",
           "width": 0.5
          },
          "size": 10,
          "symbol": "square"
         },
         "mode": "markers+text",
         "showlegend": false,
         "text": [
          "FOXO6-AS1"
         ],
         "textfont": {
          "color": "black",
          "size": 10
         },
         "textposition": "top center",
         "type": "scatter",
         "x": [
          41404380
         ],
         "xaxis": "x",
         "y": [
          1
         ],
         "yaxis": "y"
        },
        {
         "hoverinfo": "text",
         "hovertext": [
          "cg14361875<br>LINC01812<br>Intergenic_upstream<br>67846376.0",
          "cg11235379<br>TBR1<br>Exon<br>161417813.0"
         ],
         "marker": {
          "color": [
           "#fde725",
           "#414487"
          ],
          "line": {
           "color": "black",
           "width": 0.5
          },
          "size": 10,
          "symbol": "square"
         },
         "mode": "markers+text",
         "showlegend": false,
         "text": [
          "LINC01812",
          "TBR1"
         ],
         "textfont": {
          "color": "black",
          "size": 10
         },
         "textposition": "top center",
         "type": "scatter",
         "x": [
          67846376,
          161417813
         ],
         "xaxis": "x2",
         "y": [
          2,
          2
         ],
         "yaxis": "y2"
        },
        {
         "hoverinfo": "text",
         "hovertext": [
          "cg11084334<br>LHFPL4<br>Exon<br>9552580.0",
          "cg08938156<br>LOC440982<br>fiveUTR<br>147409417.0",
          "cg19981759<br>LOC440982<br>fiveUTR<br>147409413.0",
          "cg05844902<br>SLC9A9<br>Exon<br>143848183.0"
         ],
         "marker": {
          "color": [
           "#414487",
           "#7ad151",
           "#7ad151",
           "#414487"
          ],
          "line": {
           "color": "black",
           "width": 0.5
          },
          "size": 10,
          "symbol": "square"
         },
         "mode": "markers+text",
         "showlegend": false,
         "text": [
          "LHFPL4",
          "LOC440982",
          "LOC440982",
          "SLC9A9"
         ],
         "textfont": {
          "color": "black",
          "size": 10
         },
         "textposition": "top center",
         "type": "scatter",
         "x": [
          9552580,
          147409417,
          147409413,
          143848183
         ],
         "xaxis": "x3",
         "y": [
          3,
          3,
          3,
          3
         ],
         "yaxis": "y3"
        },
        {
         "hoverinfo": "text",
         "hovertext": [
          "cg07875786<br>NR2F1<br>fiveUTR<br>93583221.0"
         ],
         "marker": {
          "color": [
           "#7ad151"
          ],
          "line": {
           "color": "black",
           "width": 0.5
          },
          "size": 10,
          "symbol": "square"
         },
         "mode": "markers+text",
         "showlegend": false,
         "text": [
          "NR2F1"
         ],
         "textfont": {
          "color": "black",
          "size": 10
         },
         "textposition": "top center",
         "type": "scatter",
         "x": [
          93583221
         ],
         "xaxis": "x4",
         "y": [
          4
         ],
         "yaxis": "y4"
        },
        {
         "hoverinfo": "text",
         "hovertext": [
          "cg07323940<br>DGKB<br>Intron<br>14197482.0",
          "cg13188467<br>DLX6-AS1<br>Intron<br>96998781.0",
          "cg11516694<br>HOXA-AS3<br>Intron<br>27147848.0"
         ],
         "marker": {
          "color": [
           "#440154",
           "#440154",
           "#440154"
          ],
          "line": {
           "color": "black",
           "width": 0.5
          },
          "size": 10,
          "symbol": "square"
         },
         "mode": "markers+text",
         "showlegend": false,
         "text": [
          "DGKB",
          "DLX6-AS1",
          "HOXA-AS3"
         ],
         "textfont": {
          "color": "black",
          "size": 10
         },
         "textposition": "top center",
         "type": "scatter",
         "x": [
          14197482,
          96998781,
          27147848
         ],
         "xaxis": "x5",
         "y": [
          5,
          5,
          5
         ],
         "yaxis": "y5"
        },
        {
         "hoverinfo": "text",
         "hovertext": [
          "cg15437942<br>LHX2<br>Intron<br>124018172.0",
          "cg23510032<br>SMARCA2<br>Exon<br>2159889.0"
         ],
         "marker": {
          "color": [
           "#440154",
           "#414487"
          ],
          "line": {
           "color": "black",
           "width": 0.5
          },
          "size": 10,
          "symbol": "square"
         },
         "mode": "markers+text",
         "showlegend": false,
         "text": [
          "LHX2",
          "SMARCA2"
         ],
         "textfont": {
          "color": "black",
          "size": 10
         },
         "textposition": "top center",
         "type": "scatter",
         "x": [
          124018172,
          2159889
         ],
         "xaxis": "x6",
         "y": [
          6,
          6
         ],
         "yaxis": "y6"
        },
        {
         "hoverinfo": "text",
         "hovertext": [
          "cg27201382<br>BDNF<br>fiveUTR<br>27720483.0"
         ],
         "marker": {
          "color": [
           "#7ad151"
          ],
          "line": {
           "color": "black",
           "width": 0.5
          },
          "size": 10,
          "symbol": "square"
         },
         "mode": "markers+text",
         "showlegend": false,
         "text": [
          "BDNF"
         ],
         "textfont": {
          "color": "black",
          "size": 10
         },
         "textposition": "top center",
         "type": "scatter",
         "x": [
          27720483
         ],
         "xaxis": "x7",
         "y": [
          7
         ],
         "yaxis": "y7"
        },
        {
         "hoverinfo": "text",
         "hovertext": [
          "cg23415880<br>GSX1<br>Promoter<br>27792287.0"
         ],
         "marker": {
          "color": [
           "#355f8d"
          ],
          "line": {
           "color": "black",
           "width": 0.5
          },
          "size": 10,
          "symbol": "square"
         },
         "mode": "markers+text",
         "showlegend": false,
         "text": [
          "GSX1"
         ],
         "textfont": {
          "color": "black",
          "size": 10
         },
         "textposition": "top center",
         "type": "scatter",
         "x": [
          27792287
         ],
         "xaxis": "x8",
         "y": [
          8
         ],
         "yaxis": "y8"
        },
        {
         "hoverinfo": "text",
         "hovertext": [
          "cg23087015<br>CELF6<br>threeUTR<br>72319625.0"
         ],
         "marker": {
          "color": [
           "#21918c"
          ],
          "line": {
           "color": "black",
           "width": 0.5
          },
          "size": 10,
          "symbol": "square"
         },
         "mode": "markers+text",
         "showlegend": false,
         "text": [
          "CELF6"
         ],
         "textfont": {
          "color": "black",
          "size": 10
         },
         "textposition": "top center",
         "type": "scatter",
         "x": [
          72319625
         ],
         "xaxis": "x9",
         "y": [
          9
         ],
         "yaxis": "y9"
        },
        {
         "hoverinfo": "text",
         "hovertext": [
          "cg26072749<br>HOXB3<br>Exon<br>48579912.0"
         ],
         "marker": {
          "color": [
           "#414487"
          ],
          "line": {
           "color": "black",
           "width": 0.5
          },
          "size": 10,
          "symbol": "square"
         },
         "mode": "markers+text",
         "showlegend": false,
         "text": [
          "HOXB3"
         ],
         "textfont": {
          "color": "black",
          "size": 10
         },
         "textposition": "top center",
         "type": "scatter",
         "x": [
          48579912
         ],
         "xaxis": "x10",
         "y": [
          10
         ],
         "yaxis": "y10"
        },
        {
         "legendgroup": "Intron",
         "marker": {
          "color": "#440154",
          "size": 10,
          "symbol": "square"
         },
         "mode": "markers",
         "name": "Intron",
         "showlegend": true,
         "type": "scatter",
         "x": [
          null
         ],
         "y": [
          null
         ]
        },
        {
         "legendgroup": "Exon",
         "marker": {
          "color": "#414487",
          "size": 10,
          "symbol": "square"
         },
         "mode": "markers",
         "name": "Exon",
         "showlegend": true,
         "type": "scatter",
         "x": [
          null
         ],
         "y": [
          null
         ]
        },
        {
         "legendgroup": "Promoter",
         "marker": {
          "color": "#355f8d",
          "size": 10,
          "symbol": "square"
         },
         "mode": "markers",
         "name": "Promoter",
         "showlegend": true,
         "type": "scatter",
         "x": [
          null
         ],
         "y": [
          null
         ]
        },
        {
         "legendgroup": "threeUTR",
         "marker": {
          "color": "#21918c",
          "size": 10,
          "symbol": "square"
         },
         "mode": "markers",
         "name": "threeUTR",
         "showlegend": true,
         "type": "scatter",
         "x": [
          null
         ],
         "y": [
          null
         ]
        },
        {
         "legendgroup": "Intergenic_downstream",
         "marker": {
          "color": "#44bf70",
          "size": 10,
          "symbol": "square"
         },
         "mode": "markers",
         "name": "Intergenic_downstream",
         "showlegend": true,
         "type": "scatter",
         "x": [
          null
         ],
         "y": [
          null
         ]
        },
        {
         "legendgroup": "fiveUTR",
         "marker": {
          "color": "#7ad151",
          "size": 10,
          "symbol": "square"
         },
         "mode": "markers",
         "name": "fiveUTR",
         "showlegend": true,
         "type": "scatter",
         "x": [
          null
         ],
         "y": [
          null
         ]
        },
        {
         "legendgroup": "Intergenic_upstream",
         "marker": {
          "color": "#fde725",
          "size": 10,
          "symbol": "square"
         },
         "mode": "markers",
         "name": "Intergenic_upstream",
         "showlegend": true,
         "type": "scatter",
         "x": [
          null
         ],
         "y": [
          null
         ]
        }
       ],
       "layout": {
        "annotations": [
         {
          "font": {
           "size": 16
          },
          "showarrow": false,
          "text": "chr1",
          "x": 0.5,
          "xanchor": "center",
          "xref": "paper",
          "y": 0.9999999999999999,
          "yanchor": "bottom",
          "yref": "paper"
         },
         {
          "font": {
           "size": 16
          },
          "showarrow": false,
          "text": "chr2",
          "x": 0.5,
          "xanchor": "center",
          "xref": "paper",
          "y": 0.898,
          "yanchor": "bottom",
          "yref": "paper"
         },
         {
          "font": {
           "size": 16
          },
          "showarrow": false,
          "text": "chr3",
          "x": 0.5,
          "xanchor": "center",
          "xref": "paper",
          "y": 0.796,
          "yanchor": "bottom",
          "yref": "paper"
         },
         {
          "font": {
           "size": 16
          },
          "showarrow": false,
          "text": "chr5",
          "x": 0.5,
          "xanchor": "center",
          "xref": "paper",
          "y": 0.694,
          "yanchor": "bottom",
          "yref": "paper"
         },
         {
          "font": {
           "size": 16
          },
          "showarrow": false,
          "text": "chr7",
          "x": 0.5,
          "xanchor": "center",
          "xref": "paper",
          "y": 0.592,
          "yanchor": "bottom",
          "yref": "paper"
         },
         {
          "font": {
           "size": 16
          },
          "showarrow": false,
          "text": "chr9",
          "x": 0.5,
          "xanchor": "center",
          "xref": "paper",
          "y": 0.49000000000000005,
          "yanchor": "bottom",
          "yref": "paper"
         },
         {
          "font": {
           "size": 16
          },
          "showarrow": false,
          "text": "chr11",
          "x": 0.5,
          "xanchor": "center",
          "xref": "paper",
          "y": 0.388,
          "yanchor": "bottom",
          "yref": "paper"
         },
         {
          "font": {
           "size": 16
          },
          "showarrow": false,
          "text": "chr13",
          "x": 0.5,
          "xanchor": "center",
          "xref": "paper",
          "y": 0.28600000000000003,
          "yanchor": "bottom",
          "yref": "paper"
         },
         {
          "font": {
           "size": 16
          },
          "showarrow": false,
          "text": "chr15",
          "x": 0.5,
          "xanchor": "center",
          "xref": "paper",
          "y": 0.184,
          "yanchor": "bottom",
          "yref": "paper"
         },
         {
          "font": {
           "size": 16
          },
          "showarrow": false,
          "text": "chr17",
          "x": 0.5,
          "xanchor": "center",
          "xref": "paper",
          "y": 0.082,
          "yanchor": "bottom",
          "yref": "paper"
         }
        ],
        "height": 1000,
        "hovermode": "closest",
        "showlegend": true,
        "template": {
         "data": {
          "bar": [
           {
            "error_x": {
             "color": "#2a3f5f"
            },
            "error_y": {
             "color": "#2a3f5f"
            },
            "marker": {
             "line": {
              "color": "#E5ECF6",
              "width": 0.5
             },
             "pattern": {
              "fillmode": "overlay",
              "size": 10,
              "solidity": 0.2
             }
            },
            "type": "bar"
           }
          ],
          "barpolar": [
           {
            "marker": {
             "line": {
              "color": "#E5ECF6",
              "width": 0.5
             },
             "pattern": {
              "fillmode": "overlay",
              "size": 10,
              "solidity": 0.2
             }
            },
            "type": "barpolar"
           }
          ],
          "carpet": [
           {
            "aaxis": {
             "endlinecolor": "#2a3f5f",
             "gridcolor": "white",
             "linecolor": "white",
             "minorgridcolor": "white",
             "startlinecolor": "#2a3f5f"
            },
            "baxis": {
             "endlinecolor": "#2a3f5f",
             "gridcolor": "white",
             "linecolor": "white",
             "minorgridcolor": "white",
             "startlinecolor": "#2a3f5f"
            },
            "type": "carpet"
           }
          ],
          "choropleth": [
           {
            "colorbar": {
             "outlinewidth": 0,
             "ticks": ""
            },
            "type": "choropleth"
           }
          ],
          "contour": [
           {
            "colorbar": {
             "outlinewidth": 0,
             "ticks": ""
            },
            "colorscale": [
             [
              0,
              "#0d0887"
             ],
             [
              0.1111111111111111,
              "#46039f"
             ],
             [
              0.2222222222222222,
              "#7201a8"
             ],
             [
              0.3333333333333333,
              "#9c179e"
             ],
             [
              0.4444444444444444,
              "#bd3786"
             ],
             [
              0.5555555555555556,
              "#d8576b"
             ],
             [
              0.6666666666666666,
              "#ed7953"
             ],
             [
              0.7777777777777778,
              "#fb9f3a"
             ],
             [
              0.8888888888888888,
              "#fdca26"
             ],
             [
              1,
              "#f0f921"
             ]
            ],
            "type": "contour"
           }
          ],
          "contourcarpet": [
           {
            "colorbar": {
             "outlinewidth": 0,
             "ticks": ""
            },
            "type": "contourcarpet"
           }
          ],
          "heatmap": [
           {
            "colorbar": {
             "outlinewidth": 0,
             "ticks": ""
            },
            "colorscale": [
             [
              0,
              "#0d0887"
             ],
             [
              0.1111111111111111,
              "#46039f"
             ],
             [
              0.2222222222222222,
              "#7201a8"
             ],
             [
              0.3333333333333333,
              "#9c179e"
             ],
             [
              0.4444444444444444,
              "#bd3786"
             ],
             [
              0.5555555555555556,
              "#d8576b"
             ],
             [
              0.6666666666666666,
              "#ed7953"
             ],
             [
              0.7777777777777778,
              "#fb9f3a"
             ],
             [
              0.8888888888888888,
              "#fdca26"
             ],
             [
              1,
              "#f0f921"
             ]
            ],
            "type": "heatmap"
           }
          ],
          "heatmapgl": [
           {
            "colorbar": {
             "outlinewidth": 0,
             "ticks": ""
            },
            "colorscale": [
             [
              0,
              "#0d0887"
             ],
             [
              0.1111111111111111,
              "#46039f"
             ],
             [
              0.2222222222222222,
              "#7201a8"
             ],
             [
              0.3333333333333333,
              "#9c179e"
             ],
             [
              0.4444444444444444,
              "#bd3786"
             ],
             [
              0.5555555555555556,
              "#d8576b"
             ],
             [
              0.6666666666666666,
              "#ed7953"
             ],
             [
              0.7777777777777778,
              "#fb9f3a"
             ],
             [
              0.8888888888888888,
              "#fdca26"
             ],
             [
              1,
              "#f0f921"
             ]
            ],
            "type": "heatmapgl"
           }
          ],
          "histogram": [
           {
            "marker": {
             "pattern": {
              "fillmode": "overlay",
              "size": 10,
              "solidity": 0.2
             }
            },
            "type": "histogram"
           }
          ],
          "histogram2d": [
           {
            "colorbar": {
             "outlinewidth": 0,
             "ticks": ""
            },
            "colorscale": [
             [
              0,
              "#0d0887"
             ],
             [
              0.1111111111111111,
              "#46039f"
             ],
             [
              0.2222222222222222,
              "#7201a8"
             ],
             [
              0.3333333333333333,
              "#9c179e"
             ],
             [
              0.4444444444444444,
              "#bd3786"
             ],
             [
              0.5555555555555556,
              "#d8576b"
             ],
             [
              0.6666666666666666,
              "#ed7953"
             ],
             [
              0.7777777777777778,
              "#fb9f3a"
             ],
             [
              0.8888888888888888,
              "#fdca26"
             ],
             [
              1,
              "#f0f921"
             ]
            ],
            "type": "histogram2d"
           }
          ],
          "histogram2dcontour": [
           {
            "colorbar": {
             "outlinewidth": 0,
             "ticks": ""
            },
            "colorscale": [
             [
              0,
              "#0d0887"
             ],
             [
              0.1111111111111111,
              "#46039f"
             ],
             [
              0.2222222222222222,
              "#7201a8"
             ],
             [
              0.3333333333333333,
              "#9c179e"
             ],
             [
              0.4444444444444444,
              "#bd3786"
             ],
             [
              0.5555555555555556,
              "#d8576b"
             ],
             [
              0.6666666666666666,
              "#ed7953"
             ],
             [
              0.7777777777777778,
              "#fb9f3a"
             ],
             [
              0.8888888888888888,
              "#fdca26"
             ],
             [
              1,
              "#f0f921"
             ]
            ],
            "type": "histogram2dcontour"
           }
          ],
          "mesh3d": [
           {
            "colorbar": {
             "outlinewidth": 0,
             "ticks": ""
            },
            "type": "mesh3d"
           }
          ],
          "parcoords": [
           {
            "line": {
             "colorbar": {
              "outlinewidth": 0,
              "ticks": ""
             }
            },
            "type": "parcoords"
           }
          ],
          "pie": [
           {
            "automargin": true,
            "type": "pie"
           }
          ],
          "scatter": [
           {
            "fillpattern": {
             "fillmode": "overlay",
             "size": 10,
             "solidity": 0.2
            },
            "type": "scatter"
           }
          ],
          "scatter3d": [
           {
            "line": {
             "colorbar": {
              "outlinewidth": 0,
              "ticks": ""
             }
            },
            "marker": {
             "colorbar": {
              "outlinewidth": 0,
              "ticks": ""
             }
            },
            "type": "scatter3d"
           }
          ],
          "scattercarpet": [
           {
            "marker": {
             "colorbar": {
              "outlinewidth": 0,
              "ticks": ""
             }
            },
            "type": "scattercarpet"
           }
          ],
          "scattergeo": [
           {
            "marker": {
             "colorbar": {
              "outlinewidth": 0,
              "ticks": ""
             }
            },
            "type": "scattergeo"
           }
          ],
          "scattergl": [
           {
            "marker": {
             "colorbar": {
              "outlinewidth": 0,
              "ticks": ""
             }
            },
            "type": "scattergl"
           }
          ],
          "scattermapbox": [
           {
            "marker": {
             "colorbar": {
              "outlinewidth": 0,
              "ticks": ""
             }
            },
            "type": "scattermapbox"
           }
          ],
          "scatterpolar": [
           {
            "marker": {
             "colorbar": {
              "outlinewidth": 0,
              "ticks": ""
             }
            },
            "type": "scatterpolar"
           }
          ],
          "scatterpolargl": [
           {
            "marker": {
             "colorbar": {
              "outlinewidth": 0,
              "ticks": ""
             }
            },
            "type": "scatterpolargl"
           }
          ],
          "scatterternary": [
           {
            "marker": {
             "colorbar": {
              "outlinewidth": 0,
              "ticks": ""
             }
            },
            "type": "scatterternary"
           }
          ],
          "surface": [
           {
            "colorbar": {
             "outlinewidth": 0,
             "ticks": ""
            },
            "colorscale": [
             [
              0,
              "#0d0887"
             ],
             [
              0.1111111111111111,
              "#46039f"
             ],
             [
              0.2222222222222222,
              "#7201a8"
             ],
             [
              0.3333333333333333,
              "#9c179e"
             ],
             [
              0.4444444444444444,
              "#bd3786"
             ],
             [
              0.5555555555555556,
              "#d8576b"
             ],
             [
              0.6666666666666666,
              "#ed7953"
             ],
             [
              0.7777777777777778,
              "#fb9f3a"
             ],
             [
              0.8888888888888888,
              "#fdca26"
             ],
             [
              1,
              "#f0f921"
             ]
            ],
            "type": "surface"
           }
          ],
          "table": [
           {
            "cells": {
             "fill": {
              "color": "#EBF0F8"
             },
             "line": {
              "color": "white"
             }
            },
            "header": {
             "fill": {
              "color": "#C8D4E3"
             },
             "line": {
              "color": "white"
             }
            },
            "type": "table"
           }
          ]
         },
         "layout": {
          "annotationdefaults": {
           "arrowcolor": "#2a3f5f",
           "arrowhead": 0,
           "arrowwidth": 1
          },
          "autotypenumbers": "strict",
          "coloraxis": {
           "colorbar": {
            "outlinewidth": 0,
            "ticks": ""
           }
          },
          "colorscale": {
           "diverging": [
            [
             0,
             "#8e0152"
            ],
            [
             0.1,
             "#c51b7d"
            ],
            [
             0.2,
             "#de77ae"
            ],
            [
             0.3,
             "#f1b6da"
            ],
            [
             0.4,
             "#fde0ef"
            ],
            [
             0.5,
             "#f7f7f7"
            ],
            [
             0.6,
             "#e6f5d0"
            ],
            [
             0.7,
             "#b8e186"
            ],
            [
             0.8,
             "#7fbc41"
            ],
            [
             0.9,
             "#4d9221"
            ],
            [
             1,
             "#276419"
            ]
           ],
           "sequential": [
            [
             0,
             "#0d0887"
            ],
            [
             0.1111111111111111,
             "#46039f"
            ],
            [
             0.2222222222222222,
             "#7201a8"
            ],
            [
             0.3333333333333333,
             "#9c179e"
            ],
            [
             0.4444444444444444,
             "#bd3786"
            ],
            [
             0.5555555555555556,
             "#d8576b"
            ],
            [
             0.6666666666666666,
             "#ed7953"
            ],
            [
             0.7777777777777778,
             "#fb9f3a"
            ],
            [
             0.8888888888888888,
             "#fdca26"
            ],
            [
             1,
             "#f0f921"
            ]
           ],
           "sequentialminus": [
            [
             0,
             "#0d0887"
            ],
            [
             0.1111111111111111,
             "#46039f"
            ],
            [
             0.2222222222222222,
             "#7201a8"
            ],
            [
             0.3333333333333333,
             "#9c179e"
            ],
            [
             0.4444444444444444,
             "#bd3786"
            ],
            [
             0.5555555555555556,
             "#d8576b"
            ],
            [
             0.6666666666666666,
             "#ed7953"
            ],
            [
             0.7777777777777778,
             "#fb9f3a"
            ],
            [
             0.8888888888888888,
             "#fdca26"
            ],
            [
             1,
             "#f0f921"
            ]
           ]
          },
          "colorway": [
           "#636efa",
           "#EF553B",
           "#00cc96",
           "#ab63fa",
           "#FFA15A",
           "#19d3f3",
           "#FF6692",
           "#B6E880",
           "#FF97FF",
           "#FECB52"
          ],
          "font": {
           "color": "#2a3f5f"
          },
          "geo": {
           "bgcolor": "white",
           "lakecolor": "white",
           "landcolor": "#E5ECF6",
           "showlakes": true,
           "showland": true,
           "subunitcolor": "white"
          },
          "hoverlabel": {
           "align": "left"
          },
          "hovermode": "closest",
          "mapbox": {
           "style": "light"
          },
          "paper_bgcolor": "white",
          "plot_bgcolor": "#E5ECF6",
          "polar": {
           "angularaxis": {
            "gridcolor": "white",
            "linecolor": "white",
            "ticks": ""
           },
           "bgcolor": "#E5ECF6",
           "radialaxis": {
            "gridcolor": "white",
            "linecolor": "white",
            "ticks": ""
           }
          },
          "scene": {
           "xaxis": {
            "backgroundcolor": "#E5ECF6",
            "gridcolor": "white",
            "gridwidth": 2,
            "linecolor": "white",
            "showbackground": true,
            "ticks": "",
            "zerolinecolor": "white"
           },
           "yaxis": {
            "backgroundcolor": "#E5ECF6",
            "gridcolor": "white",
            "gridwidth": 2,
            "linecolor": "white",
            "showbackground": true,
            "ticks": "",
            "zerolinecolor": "white"
           },
           "zaxis": {
            "backgroundcolor": "#E5ECF6",
            "gridcolor": "white",
            "gridwidth": 2,
            "linecolor": "white",
            "showbackground": true,
            "ticks": "",
            "zerolinecolor": "white"
           }
          },
          "shapedefaults": {
           "line": {
            "color": "#2a3f5f"
           }
          },
          "ternary": {
           "aaxis": {
            "gridcolor": "white",
            "linecolor": "white",
            "ticks": ""
           },
           "baxis": {
            "gridcolor": "white",
            "linecolor": "white",
            "ticks": ""
           },
           "bgcolor": "#E5ECF6",
           "caxis": {
            "gridcolor": "white",
            "linecolor": "white",
            "ticks": ""
           }
          },
          "title": {
           "x": 0.05
          },
          "xaxis": {
           "automargin": true,
           "gridcolor": "white",
           "linecolor": "white",
           "ticks": "",
           "title": {
            "standoff": 15
           },
           "zerolinecolor": "white",
           "zerolinewidth": 2
          },
          "yaxis": {
           "automargin": true,
           "gridcolor": "white",
           "linecolor": "white",
           "ticks": "",
           "title": {
            "standoff": 15
           },
           "zerolinecolor": "white",
           "zerolinewidth": 2
          }
         }
        },
        "title": {
         "text": "Gene Annotation Visualization of Anova_all_clocks_significant_cpgs Relevant CpGs"
        },
        "width": 1200,
        "xaxis": {
         "anchor": "y",
         "domain": [
          0,
          1
         ]
        },
        "xaxis10": {
         "anchor": "y10",
         "domain": [
          0,
          1
         ]
        },
        "xaxis2": {
         "anchor": "y2",
         "domain": [
          0,
          1
         ]
        },
        "xaxis3": {
         "anchor": "y3",
         "domain": [
          0,
          1
         ]
        },
        "xaxis4": {
         "anchor": "y4",
         "domain": [
          0,
          1
         ]
        },
        "xaxis5": {
         "anchor": "y5",
         "domain": [
          0,
          1
         ]
        },
        "xaxis6": {
         "anchor": "y6",
         "domain": [
          0,
          1
         ]
        },
        "xaxis7": {
         "anchor": "y7",
         "domain": [
          0,
          1
         ]
        },
        "xaxis8": {
         "anchor": "y8",
         "domain": [
          0,
          1
         ]
        },
        "xaxis9": {
         "anchor": "y9",
         "domain": [
          0,
          1
         ]
        },
        "yaxis": {
         "anchor": "x",
         "domain": [
          0.9179999999999999,
          0.9999999999999999
         ],
         "showgrid": false,
         "showticklabels": false
        },
        "yaxis10": {
         "anchor": "x10",
         "domain": [
          0,
          0.082
         ],
         "showgrid": false,
         "showticklabels": false
        },
        "yaxis2": {
         "anchor": "x2",
         "domain": [
          0.8160000000000001,
          0.898
         ],
         "showgrid": false,
         "showticklabels": false
        },
        "yaxis3": {
         "anchor": "x3",
         "domain": [
          0.7140000000000001,
          0.796
         ],
         "showgrid": false,
         "showticklabels": false
        },
        "yaxis4": {
         "anchor": "x4",
         "domain": [
          0.612,
          0.694
         ],
         "showgrid": false,
         "showticklabels": false
        },
        "yaxis5": {
         "anchor": "x5",
         "domain": [
          0.51,
          0.592
         ],
         "showgrid": false,
         "showticklabels": false
        },
        "yaxis6": {
         "anchor": "x6",
         "domain": [
          0.40800000000000003,
          0.49000000000000005
         ],
         "showgrid": false,
         "showticklabels": false
        },
        "yaxis7": {
         "anchor": "x7",
         "domain": [
          0.306,
          0.388
         ],
         "showgrid": false,
         "showticklabels": false
        },
        "yaxis8": {
         "anchor": "x8",
         "domain": [
          0.20400000000000001,
          0.28600000000000003
         ],
         "showgrid": false,
         "showticklabels": false
        },
        "yaxis9": {
         "anchor": "x9",
         "domain": [
          0.10200000000000001,
          0.184
         ],
         "showgrid": false,
         "showticklabels": false
        }
       }
      }
     },
     "metadata": {},
     "output_type": "display_data"
    }
   ],
   "source": [
    "### Chromosome-wise visualization of the gene annotations of the Cross-Tissue Methylation sites result - Loop\n",
    "\n",
    "# Function to sort chromosomes\n",
    "def chromosome_sort_key(x):\n",
    "    x = x.replace('chr', '')\n",
    "    if x.isdigit():\n",
    "        return int(x)\n",
    "    elif x == 'X':\n",
    "        return 23\n",
    "    elif x == 'Y':\n",
    "        return 24\n",
    "    else:\n",
    "        return 25  # for any other non-standard chromosomes\n",
    "\n",
    "# Chromosome sizes for the hg38 genome\n",
    "chromosome_sizes = {\n",
    "    'chr1': 248956422,\n",
    "    'chr2': 242193529,\n",
    "    'chr3': 198295559,\n",
    "    'chr4': 190214555,\n",
    "    'chr5': 181538259,\n",
    "    'chr6': 170805979,\n",
    "    'chr7': 159345973,\n",
    "    'chr8': 145138636,\n",
    "    'chr9': 138394717,\n",
    "    'chr10': 133797422,\n",
    "    'chr11': 135086622,\n",
    "    'chr12': 133275309,\n",
    "    'chr13': 114364328,\n",
    "    'chr14': 107043718,\n",
    "    'chr15': 101991189,\n",
    "    'chr16': 90338345,\n",
    "    'chr17': 83257441,\n",
    "    'chr18': 80373285,\n",
    "    'chr19': 58617616,\n",
    "    'chr20': 64444167,\n",
    "    'chr21': 46709983,\n",
    "    'chr22': 50818468,\n",
    "    'chrX': 156040895,\n",
    "    'chrY': 57227415\n",
    "}\n",
    "\n",
    "# Viridis color palette\n",
    "viridis_colors = plt.cm.viridis([0, 0.1, 0.2, 0.3, 0.5, 0.7, 0.8, 1.0])\n",
    "\n",
    "# Map the categories to the Viridis colors\n",
    "color_map = {\n",
    "    'Intron': mcolors.to_hex(viridis_colors[0]), \n",
    "    'Exon': mcolors.to_hex(viridis_colors[2]), \n",
    "    'Promoter': mcolors.to_hex(viridis_colors[3]), \n",
    "    'threeUTR': mcolors.to_hex(viridis_colors[4]), \n",
    "    'Intergenic_downstream': mcolors.to_hex(viridis_colors[5]), \n",
    "    'fiveUTR': mcolors.to_hex(viridis_colors[6]), \n",
    "    'Intergenic_upstream': mcolors.to_hex(viridis_colors[7]) \n",
    "}\n",
    "\n",
    "# Loop through each clock dataframe in the dictionary\n",
    "for clock_name, cpg_annotations in rel_cpgs_dict.items():\n",
    "    # Get unique chromosomes and sort them\n",
    "    chromosomes = sorted(cpg_annotations['chr'].unique(), key=chromosome_sort_key)\n",
    "\n",
    "    # Create subplots\n",
    "    fig = make_subplots(rows=len(chromosomes), cols=1, \n",
    "                        shared_xaxes=False, vertical_spacing=0.02,  # shared_xaxes set to False\n",
    "                        subplot_titles=chromosomes)\n",
    "\n",
    "    # Add traces for each chromosome\n",
    "    for i, chr in enumerate(chromosomes, start=1):\n",
    "        chr_cpg_annotations = cpg_annotations[cpg_annotations['chr'] == chr]\n",
    "\n",
    "        # Add gene annotations\n",
    "        fig.add_trace(\n",
    "            go.Scatter(\n",
    "                x=chr_cpg_annotations['start'],\n",
    "                y=[i]*len(chr_cpg_annotations),\n",
    "                mode='markers+text',\n",
    "                marker=dict(\n",
    "                    size=10,\n",
    "                    color=[color_map[cat] for cat in chr_cpg_annotations['category']],\n",
    "                    symbol='square', \n",
    "                    line=dict(width=0.5, color='black')\n",
    "                ),\n",
    "                text=chr_cpg_annotations['gene'],\n",
    "                textposition='top center',        \n",
    "                textfont=dict(color='black', size=10),\n",
    "                hoverinfo='text',\n",
    "                hovertext=[f\"{cpg}<br>{gene}<br>{cat}<br>{start}\" \n",
    "                           for cpg, gene, cat, start in zip(chr_cpg_annotations['CpG'], chr_cpg_annotations['gene'], \n",
    "                                                            chr_cpg_annotations['category'], chr_cpg_annotations['start'])],\n",
    "                showlegend=False\n",
    "            ),\n",
    "            row=i, col=1\n",
    "        )\n",
    "\n",
    "        # Set the x-axis range to the actual size of the chromosome\n",
    "        # fig.update_xaxes(title_text=f'Genomic Position of {chr}', showgrid=False, row=i, col=1, range=[0, chromosome_sizes[chr]])\n",
    "\n",
    "    # Add legend entries\n",
    "    for category, color in color_map.items():\n",
    "        fig.add_trace(\n",
    "            go.Scatter(\n",
    "                x=[None], y=[None],\n",
    "                mode='markers',\n",
    "                marker=dict(size=10, color=color, symbol='square'),\n",
    "                legendgroup=category,\n",
    "                showlegend=True,\n",
    "                name=category\n",
    "            )\n",
    "        )\n",
    "\n",
    "    # Update layout\n",
    "    fig.update_layout(\n",
    "        height=100*len(chromosomes),\n",
    "        width=1200,\n",
    "        showlegend=True,\n",
    "        title=f'Gene Annotation Visualization of {clock_name.capitalize()} Relevant CpGs',\n",
    "        hovermode='closest'\n",
    "    )\n",
    "\n",
    "    # Update y-axes\n",
    "    fig.update_yaxes(showticklabels=False, showgrid=False)\n",
    "\n",
    "    # Ensure the output directory exists\n",
    "    output_dir = f'../../FunctionalAnalysis/Annotations/Annotations Results/Cross-Tissue Methylation'\n",
    "    os.makedirs(output_dir, exist_ok=True)\n",
    "    \n",
    "    # Save the plot \n",
    "    output_path = os.path.join(output_dir, f'{clock_name}_gene_annotation_chromosome_view.html')\n",
    "    fig.write_html(output_path)\n",
    "\n",
    "    # Show the plot\n",
    "    fig.show()\n",
    "\n"
   ]
  },
  {
   "cell_type": "code",
   "execution_count": 15,
   "metadata": {},
   "outputs": [
    {
     "data": {
      "application/vnd.plotly.v1+json": {
       "config": {
        "plotlyServerURL": "https://plot.ly"
       },
       "data": [
        {
         "hoverinfo": "text",
         "hovertext": [
          "cg23778391<br>CASZ1<br>Intron<br>10698402.0",
          "cg06004718<br>POU2F1<br>threeUTR<br>167398080.0",
          "cg17718834<br>PEX14<br>threeUTR<br>10623271.0"
         ],
         "marker": {
          "color": [
           "#440154",
           "#21918c",
           "#21918c"
          ],
          "line": {
           "color": "black",
           "width": 0.5
          },
          "size": 10,
          "symbol": "square"
         },
         "mode": "markers+text",
         "showlegend": false,
         "text": [
          "CASZ1",
          "POU2F1",
          "PEX14"
         ],
         "textfont": {
          "color": "black",
          "size": 10
         },
         "textposition": "top center",
         "type": "scatter",
         "x": [
          10698402,
          167398080,
          10623271
         ],
         "xaxis": "x",
         "y": [
          1,
          1,
          1
         ],
         "yaxis": "y"
        },
        {
         "hoverinfo": "text",
         "hovertext": [
          "cg21907062<br>OLA1<br>Exon<br>174081061.0",
          "cg19195912<br>FIGN<br>Intron<br>163944507.0"
         ],
         "marker": {
          "color": [
           "#414487",
           "#440154"
          ],
          "line": {
           "color": "black",
           "width": 0.5
          },
          "size": 10,
          "symbol": "square"
         },
         "mode": "markers+text",
         "showlegend": false,
         "text": [
          "OLA1",
          "FIGN"
         ],
         "textfont": {
          "color": "black",
          "size": 10
         },
         "textposition": "top center",
         "type": "scatter",
         "x": [
          174081061,
          163944507
         ],
         "xaxis": "x2",
         "y": [
          2,
          2
         ],
         "yaxis": "y2"
        },
        {
         "hoverinfo": "text",
         "hovertext": [
          "cg06679868<br>GRIA2<br>Exon<br>157363026.0"
         ],
         "marker": {
          "color": [
           "#414487"
          ],
          "line": {
           "color": "black",
           "width": 0.5
          },
          "size": 10,
          "symbol": "square"
         },
         "mode": "markers+text",
         "showlegend": false,
         "text": [
          "GRIA2"
         ],
         "textfont": {
          "color": "black",
          "size": 10
         },
         "textposition": "top center",
         "type": "scatter",
         "x": [
          157363026
         ],
         "xaxis": "x3",
         "y": [
          3
         ],
         "yaxis": "y3"
        },
        {
         "hoverinfo": "text",
         "hovertext": [
          "cg03820088<br>TRA2A<br>fiveUTR<br>23522229.0"
         ],
         "marker": {
          "color": [
           "#7ad151"
          ],
          "line": {
           "color": "black",
           "width": 0.5
          },
          "size": 10,
          "symbol": "square"
         },
         "mode": "markers+text",
         "showlegend": false,
         "text": [
          "TRA2A"
         ],
         "textfont": {
          "color": "black",
          "size": 10
         },
         "textposition": "top center",
         "type": "scatter",
         "x": [
          23522229
         ],
         "xaxis": "x4",
         "y": [
          4
         ],
         "yaxis": "y4"
        },
        {
         "hoverinfo": "text",
         "hovertext": [
          "cg12382554<br>ZFPM2<br>Intron<br>104869303.0"
         ],
         "marker": {
          "color": [
           "#440154"
          ],
          "line": {
           "color": "black",
           "width": 0.5
          },
          "size": 10,
          "symbol": "square"
         },
         "mode": "markers+text",
         "showlegend": false,
         "text": [
          "ZFPM2"
         ],
         "textfont": {
          "color": "black",
          "size": 10
         },
         "textposition": "top center",
         "type": "scatter",
         "x": [
          104869303
         ],
         "xaxis": "x5",
         "y": [
          5
         ],
         "yaxis": "y5"
        },
        {
         "hoverinfo": "text",
         "hovertext": [
          "cg17516812<br>BNC2<br>Intron<br>16773158.0",
          "cg27547112<br>HNRNPK<br>Intron<br>83973650.0"
         ],
         "marker": {
          "color": [
           "#440154",
           "#440154"
          ],
          "line": {
           "color": "black",
           "width": 0.5
          },
          "size": 10,
          "symbol": "square"
         },
         "mode": "markers+text",
         "showlegend": false,
         "text": [
          "BNC2",
          "HNRNPK"
         ],
         "textfont": {
          "color": "black",
          "size": 10
         },
         "textposition": "top center",
         "type": "scatter",
         "x": [
          16773158,
          83973650
         ],
         "xaxis": "x6",
         "y": [
          6,
          6
         ],
         "yaxis": "y6"
        },
        {
         "hoverinfo": "text",
         "hovertext": [
          "cg17357006<br>VTI1A<br>Exon<br>112538434.0"
         ],
         "marker": {
          "color": [
           "#414487"
          ],
          "line": {
           "color": "black",
           "width": 0.5
          },
          "size": 10,
          "symbol": "square"
         },
         "mode": "markers+text",
         "showlegend": false,
         "text": [
          "VTI1A"
         ],
         "textfont": {
          "color": "black",
          "size": 10
         },
         "textposition": "top center",
         "type": "scatter",
         "x": [
          112538434
         ],
         "xaxis": "x7",
         "y": [
          7
         ],
         "yaxis": "y7"
        },
        {
         "hoverinfo": "text",
         "hovertext": [
          "cg05401971<br>KDM2A<br>Exon<br>67250713.0"
         ],
         "marker": {
          "color": [
           "#414487"
          ],
          "line": {
           "color": "black",
           "width": 0.5
          },
          "size": 10,
          "symbol": "square"
         },
         "mode": "markers+text",
         "showlegend": false,
         "text": [
          "KDM2A"
         ],
         "textfont": {
          "color": "black",
          "size": 10
         },
         "textposition": "top center",
         "type": "scatter",
         "x": [
          67250713
         ],
         "xaxis": "x8",
         "y": [
          8
         ],
         "yaxis": "y8"
        },
        {
         "hoverinfo": "text",
         "hovertext": [
          "cg12449245<br>DPF3<br>Exon<br>72619953.0"
         ],
         "marker": {
          "color": [
           "#414487"
          ],
          "line": {
           "color": "black",
           "width": 0.5
          },
          "size": 10,
          "symbol": "square"
         },
         "mode": "markers+text",
         "showlegend": false,
         "text": [
          "DPF3"
         ],
         "textfont": {
          "color": "black",
          "size": 10
         },
         "textposition": "top center",
         "type": "scatter",
         "x": [
          72619953
         ],
         "xaxis": "x9",
         "y": [
          9
         ],
         "yaxis": "y9"
        },
        {
         "hoverinfo": "text",
         "hovertext": [
          "cg15340018<br>AP1G1<br>threeUTR<br>71756157.0"
         ],
         "marker": {
          "color": [
           "#21918c"
          ],
          "line": {
           "color": "black",
           "width": 0.5
          },
          "size": 10,
          "symbol": "square"
         },
         "mode": "markers+text",
         "showlegend": false,
         "text": [
          "AP1G1"
         ],
         "textfont": {
          "color": "black",
          "size": 10
         },
         "textposition": "top center",
         "type": "scatter",
         "x": [
          71756157
         ],
         "xaxis": "x10",
         "y": [
          10
         ],
         "yaxis": "y10"
        },
        {
         "hoverinfo": "text",
         "hovertext": [
          "cg17114460<br>FLOT2<br>Exon<br>28884283.0"
         ],
         "marker": {
          "color": [
           "#414487"
          ],
          "line": {
           "color": "black",
           "width": 0.5
          },
          "size": 10,
          "symbol": "square"
         },
         "mode": "markers+text",
         "showlegend": false,
         "text": [
          "FLOT2"
         ],
         "textfont": {
          "color": "black",
          "size": 10
         },
         "textposition": "top center",
         "type": "scatter",
         "x": [
          28884283
         ],
         "xaxis": "x11",
         "y": [
          11
         ],
         "yaxis": "y11"
        },
        {
         "hoverinfo": "text",
         "hovertext": [
          "cg14701342<br>LINC01029<br>Intergenic_downstream<br>77833139.0"
         ],
         "marker": {
          "color": [
           "#44bf70"
          ],
          "line": {
           "color": "black",
           "width": 0.5
          },
          "size": 10,
          "symbol": "square"
         },
         "mode": "markers+text",
         "showlegend": false,
         "text": [
          "LINC01029"
         ],
         "textfont": {
          "color": "black",
          "size": 10
         },
         "textposition": "top center",
         "type": "scatter",
         "x": [
          77833139
         ],
         "xaxis": "x12",
         "y": [
          12
         ],
         "yaxis": "y12"
        },
        {
         "hoverinfo": "text",
         "hovertext": [
          "cg14443903<br>ZNF536<br>Intergenic_downstream<br>30718448.0"
         ],
         "marker": {
          "color": [
           "#44bf70"
          ],
          "line": {
           "color": "black",
           "width": 0.5
          },
          "size": 10,
          "symbol": "square"
         },
         "mode": "markers+text",
         "showlegend": false,
         "text": [
          "ZNF536"
         ],
         "textfont": {
          "color": "black",
          "size": 10
         },
         "textposition": "top center",
         "type": "scatter",
         "x": [
          30718448
         ],
         "xaxis": "x13",
         "y": [
          13
         ],
         "yaxis": "y13"
        },
        {
         "legendgroup": "Intron",
         "marker": {
          "color": "#440154",
          "size": 10,
          "symbol": "square"
         },
         "mode": "markers",
         "name": "Intron",
         "showlegend": true,
         "type": "scatter",
         "x": [
          null
         ],
         "y": [
          null
         ]
        },
        {
         "legendgroup": "Exon",
         "marker": {
          "color": "#414487",
          "size": 10,
          "symbol": "square"
         },
         "mode": "markers",
         "name": "Exon",
         "showlegend": true,
         "type": "scatter",
         "x": [
          null
         ],
         "y": [
          null
         ]
        },
        {
         "legendgroup": "Promoter",
         "marker": {
          "color": "#355f8d",
          "size": 10,
          "symbol": "square"
         },
         "mode": "markers",
         "name": "Promoter",
         "showlegend": true,
         "type": "scatter",
         "x": [
          null
         ],
         "y": [
          null
         ]
        },
        {
         "legendgroup": "threeUTR",
         "marker": {
          "color": "#21918c",
          "size": 10,
          "symbol": "square"
         },
         "mode": "markers",
         "name": "threeUTR",
         "showlegend": true,
         "type": "scatter",
         "x": [
          null
         ],
         "y": [
          null
         ]
        },
        {
         "legendgroup": "Intergenic_downstream",
         "marker": {
          "color": "#44bf70",
          "size": 10,
          "symbol": "square"
         },
         "mode": "markers",
         "name": "Intergenic_downstream",
         "showlegend": true,
         "type": "scatter",
         "x": [
          null
         ],
         "y": [
          null
         ]
        },
        {
         "legendgroup": "fiveUTR",
         "marker": {
          "color": "#7ad151",
          "size": 10,
          "symbol": "square"
         },
         "mode": "markers",
         "name": "fiveUTR",
         "showlegend": true,
         "type": "scatter",
         "x": [
          null
         ],
         "y": [
          null
         ]
        },
        {
         "legendgroup": "Intergenic_upstream",
         "marker": {
          "color": "#fde725",
          "size": 10,
          "symbol": "square"
         },
         "mode": "markers",
         "name": "Intergenic_upstream",
         "showlegend": true,
         "type": "scatter",
         "x": [
          null
         ],
         "y": [
          null
         ]
        }
       ],
       "layout": {
        "height": 1300,
        "hovermode": "closest",
        "showlegend": true,
        "template": {
         "data": {
          "bar": [
           {
            "error_x": {
             "color": "#2a3f5f"
            },
            "error_y": {
             "color": "#2a3f5f"
            },
            "marker": {
             "line": {
              "color": "#E5ECF6",
              "width": 0.5
             },
             "pattern": {
              "fillmode": "overlay",
              "size": 10,
              "solidity": 0.2
             }
            },
            "type": "bar"
           }
          ],
          "barpolar": [
           {
            "marker": {
             "line": {
              "color": "#E5ECF6",
              "width": 0.5
             },
             "pattern": {
              "fillmode": "overlay",
              "size": 10,
              "solidity": 0.2
             }
            },
            "type": "barpolar"
           }
          ],
          "carpet": [
           {
            "aaxis": {
             "endlinecolor": "#2a3f5f",
             "gridcolor": "white",
             "linecolor": "white",
             "minorgridcolor": "white",
             "startlinecolor": "#2a3f5f"
            },
            "baxis": {
             "endlinecolor": "#2a3f5f",
             "gridcolor": "white",
             "linecolor": "white",
             "minorgridcolor": "white",
             "startlinecolor": "#2a3f5f"
            },
            "type": "carpet"
           }
          ],
          "choropleth": [
           {
            "colorbar": {
             "outlinewidth": 0,
             "ticks": ""
            },
            "type": "choropleth"
           }
          ],
          "contour": [
           {
            "colorbar": {
             "outlinewidth": 0,
             "ticks": ""
            },
            "colorscale": [
             [
              0,
              "#0d0887"
             ],
             [
              0.1111111111111111,
              "#46039f"
             ],
             [
              0.2222222222222222,
              "#7201a8"
             ],
             [
              0.3333333333333333,
              "#9c179e"
             ],
             [
              0.4444444444444444,
              "#bd3786"
             ],
             [
              0.5555555555555556,
              "#d8576b"
             ],
             [
              0.6666666666666666,
              "#ed7953"
             ],
             [
              0.7777777777777778,
              "#fb9f3a"
             ],
             [
              0.8888888888888888,
              "#fdca26"
             ],
             [
              1,
              "#f0f921"
             ]
            ],
            "type": "contour"
           }
          ],
          "contourcarpet": [
           {
            "colorbar": {
             "outlinewidth": 0,
             "ticks": ""
            },
            "type": "contourcarpet"
           }
          ],
          "heatmap": [
           {
            "colorbar": {
             "outlinewidth": 0,
             "ticks": ""
            },
            "colorscale": [
             [
              0,
              "#0d0887"
             ],
             [
              0.1111111111111111,
              "#46039f"
             ],
             [
              0.2222222222222222,
              "#7201a8"
             ],
             [
              0.3333333333333333,
              "#9c179e"
             ],
             [
              0.4444444444444444,
              "#bd3786"
             ],
             [
              0.5555555555555556,
              "#d8576b"
             ],
             [
              0.6666666666666666,
              "#ed7953"
             ],
             [
              0.7777777777777778,
              "#fb9f3a"
             ],
             [
              0.8888888888888888,
              "#fdca26"
             ],
             [
              1,
              "#f0f921"
             ]
            ],
            "type": "heatmap"
           }
          ],
          "heatmapgl": [
           {
            "colorbar": {
             "outlinewidth": 0,
             "ticks": ""
            },
            "colorscale": [
             [
              0,
              "#0d0887"
             ],
             [
              0.1111111111111111,
              "#46039f"
             ],
             [
              0.2222222222222222,
              "#7201a8"
             ],
             [
              0.3333333333333333,
              "#9c179e"
             ],
             [
              0.4444444444444444,
              "#bd3786"
             ],
             [
              0.5555555555555556,
              "#d8576b"
             ],
             [
              0.6666666666666666,
              "#ed7953"
             ],
             [
              0.7777777777777778,
              "#fb9f3a"
             ],
             [
              0.8888888888888888,
              "#fdca26"
             ],
             [
              1,
              "#f0f921"
             ]
            ],
            "type": "heatmapgl"
           }
          ],
          "histogram": [
           {
            "marker": {
             "pattern": {
              "fillmode": "overlay",
              "size": 10,
              "solidity": 0.2
             }
            },
            "type": "histogram"
           }
          ],
          "histogram2d": [
           {
            "colorbar": {
             "outlinewidth": 0,
             "ticks": ""
            },
            "colorscale": [
             [
              0,
              "#0d0887"
             ],
             [
              0.1111111111111111,
              "#46039f"
             ],
             [
              0.2222222222222222,
              "#7201a8"
             ],
             [
              0.3333333333333333,
              "#9c179e"
             ],
             [
              0.4444444444444444,
              "#bd3786"
             ],
             [
              0.5555555555555556,
              "#d8576b"
             ],
             [
              0.6666666666666666,
              "#ed7953"
             ],
             [
              0.7777777777777778,
              "#fb9f3a"
             ],
             [
              0.8888888888888888,
              "#fdca26"
             ],
             [
              1,
              "#f0f921"
             ]
            ],
            "type": "histogram2d"
           }
          ],
          "histogram2dcontour": [
           {
            "colorbar": {
             "outlinewidth": 0,
             "ticks": ""
            },
            "colorscale": [
             [
              0,
              "#0d0887"
             ],
             [
              0.1111111111111111,
              "#46039f"
             ],
             [
              0.2222222222222222,
              "#7201a8"
             ],
             [
              0.3333333333333333,
              "#9c179e"
             ],
             [
              0.4444444444444444,
              "#bd3786"
             ],
             [
              0.5555555555555556,
              "#d8576b"
             ],
             [
              0.6666666666666666,
              "#ed7953"
             ],
             [
              0.7777777777777778,
              "#fb9f3a"
             ],
             [
              0.8888888888888888,
              "#fdca26"
             ],
             [
              1,
              "#f0f921"
             ]
            ],
            "type": "histogram2dcontour"
           }
          ],
          "mesh3d": [
           {
            "colorbar": {
             "outlinewidth": 0,
             "ticks": ""
            },
            "type": "mesh3d"
           }
          ],
          "parcoords": [
           {
            "line": {
             "colorbar": {
              "outlinewidth": 0,
              "ticks": ""
             }
            },
            "type": "parcoords"
           }
          ],
          "pie": [
           {
            "automargin": true,
            "type": "pie"
           }
          ],
          "scatter": [
           {
            "fillpattern": {
             "fillmode": "overlay",
             "size": 10,
             "solidity": 0.2
            },
            "type": "scatter"
           }
          ],
          "scatter3d": [
           {
            "line": {
             "colorbar": {
              "outlinewidth": 0,
              "ticks": ""
             }
            },
            "marker": {
             "colorbar": {
              "outlinewidth": 0,
              "ticks": ""
             }
            },
            "type": "scatter3d"
           }
          ],
          "scattercarpet": [
           {
            "marker": {
             "colorbar": {
              "outlinewidth": 0,
              "ticks": ""
             }
            },
            "type": "scattercarpet"
           }
          ],
          "scattergeo": [
           {
            "marker": {
             "colorbar": {
              "outlinewidth": 0,
              "ticks": ""
             }
            },
            "type": "scattergeo"
           }
          ],
          "scattergl": [
           {
            "marker": {
             "colorbar": {
              "outlinewidth": 0,
              "ticks": ""
             }
            },
            "type": "scattergl"
           }
          ],
          "scattermapbox": [
           {
            "marker": {
             "colorbar": {
              "outlinewidth": 0,
              "ticks": ""
             }
            },
            "type": "scattermapbox"
           }
          ],
          "scatterpolar": [
           {
            "marker": {
             "colorbar": {
              "outlinewidth": 0,
              "ticks": ""
             }
            },
            "type": "scatterpolar"
           }
          ],
          "scatterpolargl": [
           {
            "marker": {
             "colorbar": {
              "outlinewidth": 0,
              "ticks": ""
             }
            },
            "type": "scatterpolargl"
           }
          ],
          "scatterternary": [
           {
            "marker": {
             "colorbar": {
              "outlinewidth": 0,
              "ticks": ""
             }
            },
            "type": "scatterternary"
           }
          ],
          "surface": [
           {
            "colorbar": {
             "outlinewidth": 0,
             "ticks": ""
            },
            "colorscale": [
             [
              0,
              "#0d0887"
             ],
             [
              0.1111111111111111,
              "#46039f"
             ],
             [
              0.2222222222222222,
              "#7201a8"
             ],
             [
              0.3333333333333333,
              "#9c179e"
             ],
             [
              0.4444444444444444,
              "#bd3786"
             ],
             [
              0.5555555555555556,
              "#d8576b"
             ],
             [
              0.6666666666666666,
              "#ed7953"
             ],
             [
              0.7777777777777778,
              "#fb9f3a"
             ],
             [
              0.8888888888888888,
              "#fdca26"
             ],
             [
              1,
              "#f0f921"
             ]
            ],
            "type": "surface"
           }
          ],
          "table": [
           {
            "cells": {
             "fill": {
              "color": "#EBF0F8"
             },
             "line": {
              "color": "white"
             }
            },
            "header": {
             "fill": {
              "color": "#C8D4E3"
             },
             "line": {
              "color": "white"
             }
            },
            "type": "table"
           }
          ]
         },
         "layout": {
          "annotationdefaults": {
           "arrowcolor": "#2a3f5f",
           "arrowhead": 0,
           "arrowwidth": 1
          },
          "autotypenumbers": "strict",
          "coloraxis": {
           "colorbar": {
            "outlinewidth": 0,
            "ticks": ""
           }
          },
          "colorscale": {
           "diverging": [
            [
             0,
             "#8e0152"
            ],
            [
             0.1,
             "#c51b7d"
            ],
            [
             0.2,
             "#de77ae"
            ],
            [
             0.3,
             "#f1b6da"
            ],
            [
             0.4,
             "#fde0ef"
            ],
            [
             0.5,
             "#f7f7f7"
            ],
            [
             0.6,
             "#e6f5d0"
            ],
            [
             0.7,
             "#b8e186"
            ],
            [
             0.8,
             "#7fbc41"
            ],
            [
             0.9,
             "#4d9221"
            ],
            [
             1,
             "#276419"
            ]
           ],
           "sequential": [
            [
             0,
             "#0d0887"
            ],
            [
             0.1111111111111111,
             "#46039f"
            ],
            [
             0.2222222222222222,
             "#7201a8"
            ],
            [
             0.3333333333333333,
             "#9c179e"
            ],
            [
             0.4444444444444444,
             "#bd3786"
            ],
            [
             0.5555555555555556,
             "#d8576b"
            ],
            [
             0.6666666666666666,
             "#ed7953"
            ],
            [
             0.7777777777777778,
             "#fb9f3a"
            ],
            [
             0.8888888888888888,
             "#fdca26"
            ],
            [
             1,
             "#f0f921"
            ]
           ],
           "sequentialminus": [
            [
             0,
             "#0d0887"
            ],
            [
             0.1111111111111111,
             "#46039f"
            ],
            [
             0.2222222222222222,
             "#7201a8"
            ],
            [
             0.3333333333333333,
             "#9c179e"
            ],
            [
             0.4444444444444444,
             "#bd3786"
            ],
            [
             0.5555555555555556,
             "#d8576b"
            ],
            [
             0.6666666666666666,
             "#ed7953"
            ],
            [
             0.7777777777777778,
             "#fb9f3a"
            ],
            [
             0.8888888888888888,
             "#fdca26"
            ],
            [
             1,
             "#f0f921"
            ]
           ]
          },
          "colorway": [
           "#636efa",
           "#EF553B",
           "#00cc96",
           "#ab63fa",
           "#FFA15A",
           "#19d3f3",
           "#FF6692",
           "#B6E880",
           "#FF97FF",
           "#FECB52"
          ],
          "font": {
           "color": "#2a3f5f"
          },
          "geo": {
           "bgcolor": "white",
           "lakecolor": "white",
           "landcolor": "#E5ECF6",
           "showlakes": true,
           "showland": true,
           "subunitcolor": "white"
          },
          "hoverlabel": {
           "align": "left"
          },
          "hovermode": "closest",
          "mapbox": {
           "style": "light"
          },
          "paper_bgcolor": "white",
          "plot_bgcolor": "#E5ECF6",
          "polar": {
           "angularaxis": {
            "gridcolor": "white",
            "linecolor": "white",
            "ticks": ""
           },
           "bgcolor": "#E5ECF6",
           "radialaxis": {
            "gridcolor": "white",
            "linecolor": "white",
            "ticks": ""
           }
          },
          "scene": {
           "xaxis": {
            "backgroundcolor": "#E5ECF6",
            "gridcolor": "white",
            "gridwidth": 2,
            "linecolor": "white",
            "showbackground": true,
            "ticks": "",
            "zerolinecolor": "white"
           },
           "yaxis": {
            "backgroundcolor": "#E5ECF6",
            "gridcolor": "white",
            "gridwidth": 2,
            "linecolor": "white",
            "showbackground": true,
            "ticks": "",
            "zerolinecolor": "white"
           },
           "zaxis": {
            "backgroundcolor": "#E5ECF6",
            "gridcolor": "white",
            "gridwidth": 2,
            "linecolor": "white",
            "showbackground": true,
            "ticks": "",
            "zerolinecolor": "white"
           }
          },
          "shapedefaults": {
           "line": {
            "color": "#2a3f5f"
           }
          },
          "ternary": {
           "aaxis": {
            "gridcolor": "white",
            "linecolor": "white",
            "ticks": ""
           },
           "baxis": {
            "gridcolor": "white",
            "linecolor": "white",
            "ticks": ""
           },
           "bgcolor": "#E5ECF6",
           "caxis": {
            "gridcolor": "white",
            "linecolor": "white",
            "ticks": ""
           }
          },
          "title": {
           "x": 0.05
          },
          "xaxis": {
           "automargin": true,
           "gridcolor": "white",
           "linecolor": "white",
           "ticks": "",
           "title": {
            "standoff": 15
           },
           "zerolinecolor": "white",
           "zerolinewidth": 2
          },
          "yaxis": {
           "automargin": true,
           "gridcolor": "white",
           "linecolor": "white",
           "ticks": "",
           "title": {
            "standoff": 15
           },
           "zerolinecolor": "white",
           "zerolinewidth": 2
          }
         }
        },
        "title": {
         "text": "Gene Annotation Visualization of All_clocks_high_methylated_cpgs Relevant CpGs"
        },
        "width": 1200,
        "xaxis": {
         "anchor": "y",
         "domain": [
          0,
          1
         ]
        },
        "xaxis10": {
         "anchor": "y10",
         "domain": [
          0,
          1
         ]
        },
        "xaxis11": {
         "anchor": "y11",
         "domain": [
          0,
          1
         ]
        },
        "xaxis12": {
         "anchor": "y12",
         "domain": [
          0,
          1
         ]
        },
        "xaxis13": {
         "anchor": "y13",
         "domain": [
          0,
          1
         ]
        },
        "xaxis2": {
         "anchor": "y2",
         "domain": [
          0,
          1
         ]
        },
        "xaxis3": {
         "anchor": "y3",
         "domain": [
          0,
          1
         ]
        },
        "xaxis4": {
         "anchor": "y4",
         "domain": [
          0,
          1
         ]
        },
        "xaxis5": {
         "anchor": "y5",
         "domain": [
          0,
          1
         ]
        },
        "xaxis6": {
         "anchor": "y6",
         "domain": [
          0,
          1
         ]
        },
        "xaxis7": {
         "anchor": "y7",
         "domain": [
          0,
          1
         ]
        },
        "xaxis8": {
         "anchor": "y8",
         "domain": [
          0,
          1
         ]
        },
        "xaxis9": {
         "anchor": "y9",
         "domain": [
          0,
          1
         ]
        },
        "yaxis": {
         "anchor": "x",
         "domain": [
          0.9415384615384615,
          1
         ],
         "showgrid": false,
         "ticktext": [
          "chr1",
          "chr2",
          "chr4",
          "chr7",
          "chr8",
          "chr9",
          "chr10",
          "chr11",
          "chr14",
          "chr16",
          "chr17",
          "chr18",
          "chr19"
         ],
         "tickvals": [
          1,
          2,
          3,
          4,
          5,
          6,
          7,
          8,
          9,
          10,
          11,
          12,
          13
         ]
        },
        "yaxis10": {
         "anchor": "x10",
         "domain": [
          0.2353846153846154,
          0.29384615384615387
         ],
         "showgrid": false,
         "ticktext": [
          "chr1",
          "chr2",
          "chr4",
          "chr7",
          "chr8",
          "chr9",
          "chr10",
          "chr11",
          "chr14",
          "chr16",
          "chr17",
          "chr18",
          "chr19"
         ],
         "tickvals": [
          1,
          2,
          3,
          4,
          5,
          6,
          7,
          8,
          9,
          10,
          11,
          12,
          13
         ]
        },
        "yaxis11": {
         "anchor": "x11",
         "domain": [
          0.15692307692307692,
          0.21538461538461537
         ],
         "showgrid": false,
         "ticktext": [
          "chr1",
          "chr2",
          "chr4",
          "chr7",
          "chr8",
          "chr9",
          "chr10",
          "chr11",
          "chr14",
          "chr16",
          "chr17",
          "chr18",
          "chr19"
         ],
         "tickvals": [
          1,
          2,
          3,
          4,
          5,
          6,
          7,
          8,
          9,
          10,
          11,
          12,
          13
         ]
        },
        "yaxis12": {
         "anchor": "x12",
         "domain": [
          0.07846153846153846,
          0.13692307692307693
         ],
         "showgrid": false,
         "ticktext": [
          "chr1",
          "chr2",
          "chr4",
          "chr7",
          "chr8",
          "chr9",
          "chr10",
          "chr11",
          "chr14",
          "chr16",
          "chr17",
          "chr18",
          "chr19"
         ],
         "tickvals": [
          1,
          2,
          3,
          4,
          5,
          6,
          7,
          8,
          9,
          10,
          11,
          12,
          13
         ]
        },
        "yaxis13": {
         "anchor": "x13",
         "domain": [
          0,
          0.05846153846153846
         ],
         "showgrid": false,
         "ticktext": [
          "chr1",
          "chr2",
          "chr4",
          "chr7",
          "chr8",
          "chr9",
          "chr10",
          "chr11",
          "chr14",
          "chr16",
          "chr17",
          "chr18",
          "chr19"
         ],
         "tickvals": [
          1,
          2,
          3,
          4,
          5,
          6,
          7,
          8,
          9,
          10,
          11,
          12,
          13
         ]
        },
        "yaxis2": {
         "anchor": "x2",
         "domain": [
          0.8630769230769231,
          0.9215384615384615
         ],
         "showgrid": false,
         "ticktext": [
          "chr1",
          "chr2",
          "chr4",
          "chr7",
          "chr8",
          "chr9",
          "chr10",
          "chr11",
          "chr14",
          "chr16",
          "chr17",
          "chr18",
          "chr19"
         ],
         "tickvals": [
          1,
          2,
          3,
          4,
          5,
          6,
          7,
          8,
          9,
          10,
          11,
          12,
          13
         ]
        },
        "yaxis3": {
         "anchor": "x3",
         "domain": [
          0.7846153846153847,
          0.8430769230769232
         ],
         "showgrid": false,
         "ticktext": [
          "chr1",
          "chr2",
          "chr4",
          "chr7",
          "chr8",
          "chr9",
          "chr10",
          "chr11",
          "chr14",
          "chr16",
          "chr17",
          "chr18",
          "chr19"
         ],
         "tickvals": [
          1,
          2,
          3,
          4,
          5,
          6,
          7,
          8,
          9,
          10,
          11,
          12,
          13
         ]
        },
        "yaxis4": {
         "anchor": "x4",
         "domain": [
          0.7061538461538461,
          0.7646153846153846
         ],
         "showgrid": false,
         "ticktext": [
          "chr1",
          "chr2",
          "chr4",
          "chr7",
          "chr8",
          "chr9",
          "chr10",
          "chr11",
          "chr14",
          "chr16",
          "chr17",
          "chr18",
          "chr19"
         ],
         "tickvals": [
          1,
          2,
          3,
          4,
          5,
          6,
          7,
          8,
          9,
          10,
          11,
          12,
          13
         ]
        },
        "yaxis5": {
         "anchor": "x5",
         "domain": [
          0.6276923076923077,
          0.6861538461538461
         ],
         "showgrid": false,
         "ticktext": [
          "chr1",
          "chr2",
          "chr4",
          "chr7",
          "chr8",
          "chr9",
          "chr10",
          "chr11",
          "chr14",
          "chr16",
          "chr17",
          "chr18",
          "chr19"
         ],
         "tickvals": [
          1,
          2,
          3,
          4,
          5,
          6,
          7,
          8,
          9,
          10,
          11,
          12,
          13
         ]
        },
        "yaxis6": {
         "anchor": "x6",
         "domain": [
          0.5492307692307692,
          0.6076923076923076
         ],
         "showgrid": false,
         "ticktext": [
          "chr1",
          "chr2",
          "chr4",
          "chr7",
          "chr8",
          "chr9",
          "chr10",
          "chr11",
          "chr14",
          "chr16",
          "chr17",
          "chr18",
          "chr19"
         ],
         "tickvals": [
          1,
          2,
          3,
          4,
          5,
          6,
          7,
          8,
          9,
          10,
          11,
          12,
          13
         ]
        },
        "yaxis7": {
         "anchor": "x7",
         "domain": [
          0.4707692307692308,
          0.5292307692307693
         ],
         "showgrid": false,
         "ticktext": [
          "chr1",
          "chr2",
          "chr4",
          "chr7",
          "chr8",
          "chr9",
          "chr10",
          "chr11",
          "chr14",
          "chr16",
          "chr17",
          "chr18",
          "chr19"
         ],
         "tickvals": [
          1,
          2,
          3,
          4,
          5,
          6,
          7,
          8,
          9,
          10,
          11,
          12,
          13
         ]
        },
        "yaxis8": {
         "anchor": "x8",
         "domain": [
          0.39230769230769236,
          0.4507692307692308
         ],
         "showgrid": false,
         "ticktext": [
          "chr1",
          "chr2",
          "chr4",
          "chr7",
          "chr8",
          "chr9",
          "chr10",
          "chr11",
          "chr14",
          "chr16",
          "chr17",
          "chr18",
          "chr19"
         ],
         "tickvals": [
          1,
          2,
          3,
          4,
          5,
          6,
          7,
          8,
          9,
          10,
          11,
          12,
          13
         ]
        },
        "yaxis9": {
         "anchor": "x9",
         "domain": [
          0.31384615384615383,
          0.3723076923076923
         ],
         "showgrid": false,
         "ticktext": [
          "chr1",
          "chr2",
          "chr4",
          "chr7",
          "chr8",
          "chr9",
          "chr10",
          "chr11",
          "chr14",
          "chr16",
          "chr17",
          "chr18",
          "chr19"
         ],
         "tickvals": [
          1,
          2,
          3,
          4,
          5,
          6,
          7,
          8,
          9,
          10,
          11,
          12,
          13
         ]
        }
       }
      }
     },
     "metadata": {},
     "output_type": "display_data"
    },
    {
     "data": {
      "application/vnd.plotly.v1+json": {
       "config": {
        "plotlyServerURL": "https://plot.ly"
       },
       "data": [
        {
         "hoverinfo": "text",
         "hovertext": [
          "cg00694357<br>ZBTB7B<br>Intron<br>155004171.0",
          "cg27228973<br>FOXO6-AS1<br>Intergenic_upstream<br>41404380.0",
          "cg12651099<br>KCNC4<br>Exon<br>110211650.0",
          "cg22354333<br>CDKN2C<br>Intergenic_downstream<br>50977563.0"
         ],
         "marker": {
          "color": [
           "#440154",
           "#fde725",
           "#414487",
           "#44bf70"
          ],
          "line": {
           "color": "black",
           "width": 0.5
          },
          "size": 10,
          "symbol": "square"
         },
         "mode": "markers+text",
         "showlegend": false,
         "text": [
          "ZBTB7B",
          "FOXO6-AS1",
          "KCNC4",
          "CDKN2C"
         ],
         "textfont": {
          "color": "black",
          "size": 10
         },
         "textposition": "top center",
         "type": "scatter",
         "x": [
          155004171,
          41404380,
          110211650,
          50977563
         ],
         "xaxis": "x",
         "y": [
          1,
          1,
          1,
          1
         ],
         "yaxis": "y"
        },
        {
         "hoverinfo": "text",
         "hovertext": [
          "cg11235379<br>TBR1<br>Exon<br>161417813.0",
          "cg20804050<br>EN1<br>Promoter<br>118847865.0",
          "cg14361875<br>LINC01812<br>Intergenic_upstream<br>67846376.0"
         ],
         "marker": {
          "color": [
           "#414487",
           "#355f8d",
           "#fde725"
          ],
          "line": {
           "color": "black",
           "width": 0.5
          },
          "size": 10,
          "symbol": "square"
         },
         "mode": "markers+text",
         "showlegend": false,
         "text": [
          "TBR1",
          "EN1",
          "LINC01812"
         ],
         "textfont": {
          "color": "black",
          "size": 10
         },
         "textposition": "top center",
         "type": "scatter",
         "x": [
          161417813,
          118847865,
          67846376
         ],
         "xaxis": "x2",
         "y": [
          2,
          2,
          2
         ],
         "yaxis": "y2"
        },
        {
         "hoverinfo": "text",
         "hovertext": [
          "cg15809488<br>RARB<br>fiveUTR<br>25428622.0",
          "cg08938156<br>LOC440982<br>fiveUTR<br>147409417.0",
          "cg12841266<br>LHFPL4<br>Exon<br>9552409.0",
          "cg19981759<br>LOC440982<br>fiveUTR<br>147409413.0",
          "cg02692845<br>SOX2-OT<br>Exon<br>181712998.0"
         ],
         "marker": {
          "color": [
           "#7ad151",
           "#7ad151",
           "#414487",
           "#7ad151",
           "#414487"
          ],
          "line": {
           "color": "black",
           "width": 0.5
          },
          "size": 10,
          "symbol": "square"
         },
         "mode": "markers+text",
         "showlegend": false,
         "text": [
          "RARB",
          "LOC440982",
          "LHFPL4",
          "LOC440982",
          "SOX2-OT"
         ],
         "textfont": {
          "color": "black",
          "size": 10
         },
         "textposition": "top center",
         "type": "scatter",
         "x": [
          25428622,
          147409417,
          9552409,
          147409413,
          181712998
         ],
         "xaxis": "x3",
         "y": [
          3,
          3,
          3,
          3,
          3
         ],
         "yaxis": "y3"
        },
        {
         "hoverinfo": "text",
         "hovertext": [
          "cg07875786<br>NR2F1<br>fiveUTR<br>93583221.0",
          "cg18223258<br>ISL1<br>Intergenic_downstream<br>51399170.0",
          "cg26844246<br>TLX3<br>fiveUTR<br>171309273.0",
          "cg04998737<br>OTP<br>Promoter<br>77645403.0",
          "cg24352905<br>OTP<br>Promoter<br>77645452.0",
          "cg13242392<br>NIPBL-DT<br>Promoter<br>36876728.0"
         ],
         "marker": {
          "color": [
           "#7ad151",
           "#44bf70",
           "#7ad151",
           "#355f8d",
           "#355f8d",
           "#355f8d"
          ],
          "line": {
           "color": "black",
           "width": 0.5
          },
          "size": 10,
          "symbol": "square"
         },
         "mode": "markers+text",
         "showlegend": false,
         "text": [
          "NR2F1",
          "ISL1",
          "TLX3",
          "OTP",
          "OTP",
          "NIPBL-DT"
         ],
         "textfont": {
          "color": "black",
          "size": 10
         },
         "textposition": "top center",
         "type": "scatter",
         "x": [
          93583221,
          51399170,
          171309273,
          77645403,
          77645452,
          36876728
         ],
         "xaxis": "x4",
         "y": [
          4,
          4,
          4,
          4,
          4,
          4
         ],
         "yaxis": "y4"
        },
        {
         "hoverinfo": "text",
         "hovertext": [
          "cg18918349<br>NR2E1<br>Promoter<br>108165956.0"
         ],
         "marker": {
          "color": [
           "#355f8d"
          ],
          "line": {
           "color": "black",
           "width": 0.5
          },
          "size": 10,
          "symbol": "square"
         },
         "mode": "markers+text",
         "showlegend": false,
         "text": [
          "NR2E1"
         ],
         "textfont": {
          "color": "black",
          "size": 10
         },
         "textposition": "top center",
         "type": "scatter",
         "x": [
          108165956
         ],
         "xaxis": "x5",
         "y": [
          5
         ],
         "yaxis": "y5"
        },
        {
         "hoverinfo": "text",
         "hovertext": [
          "cg09710440<br>LHFPL3<br>Exon<br>104328932.0",
          "cg11516694<br>HOXA-AS3<br>Intron<br>27147848.0",
          "cg08074329<br>IGF2BP3<br>Promoter<br>23470655.0",
          "cg13188467<br>DLX6-AS1<br>Intron<br>96998781.0",
          "cg01019040<br>LHFPL3<br>Exon<br>104328968.0",
          "cg26512254<br>HOTTIP<br>Intron<br>27200144.0"
         ],
         "marker": {
          "color": [
           "#414487",
           "#440154",
           "#355f8d",
           "#440154",
           "#414487",
           "#440154"
          ],
          "line": {
           "color": "black",
           "width": 0.5
          },
          "size": 10,
          "symbol": "square"
         },
         "mode": "markers+text",
         "showlegend": false,
         "text": [
          "LHFPL3",
          "HOXA-AS3",
          "IGF2BP3",
          "DLX6-AS1",
          "LHFPL3",
          "HOTTIP"
         ],
         "textfont": {
          "color": "black",
          "size": 10
         },
         "textposition": "top center",
         "type": "scatter",
         "x": [
          104328932,
          27147848,
          23470655,
          96998781,
          104328968,
          27200144
         ],
         "xaxis": "x6",
         "y": [
          6,
          6,
          6,
          6,
          6,
          6
         ],
         "yaxis": "y6"
        },
        {
         "hoverinfo": "text",
         "hovertext": [
          "cg18502834<br>EGR3<br>Exon<br>22692929.0"
         ],
         "marker": {
          "color": [
           "#414487"
          ],
          "line": {
           "color": "black",
           "width": 0.5
          },
          "size": 10,
          "symbol": "square"
         },
         "mode": "markers+text",
         "showlegend": false,
         "text": [
          "EGR3"
         ],
         "textfont": {
          "color": "black",
          "size": 10
         },
         "textposition": "top center",
         "type": "scatter",
         "x": [
          22692929
         ],
         "xaxis": "x7",
         "y": [
          7
         ],
         "yaxis": "y7"
        },
        {
         "hoverinfo": "text",
         "hovertext": [
          "cg04368876<br>LCOR<br>Intron<br>96833840.0",
          "cg05575054<br>ADRB1<br>Exon<br>114045209.0",
          "cg19090691<br>NKX2-3<br>Intergenic_downstream<br>99537359.0",
          "cg04706544<br>DRGX<br>Promoter<br>49396706.0"
         ],
         "marker": {
          "color": [
           "#440154",
           "#414487",
           "#44bf70",
           "#355f8d"
          ],
          "line": {
           "color": "black",
           "width": 0.5
          },
          "size": 10,
          "symbol": "square"
         },
         "mode": "markers+text",
         "showlegend": false,
         "text": [
          "LCOR",
          "ADRB1",
          "NKX2-3",
          "DRGX"
         ],
         "textfont": {
          "color": "black",
          "size": 10
         },
         "textposition": "top center",
         "type": "scatter",
         "x": [
          96833840,
          114045209,
          99537359,
          49396706
         ],
         "xaxis": "x8",
         "y": [
          8,
          8,
          8,
          8
         ],
         "yaxis": "y8"
        },
        {
         "hoverinfo": "text",
         "hovertext": [
          "cg27201382<br>BDNF<br>fiveUTR<br>27720483.0"
         ],
         "marker": {
          "color": [
           "#7ad151"
          ],
          "line": {
           "color": "black",
           "width": 0.5
          },
          "size": 10,
          "symbol": "square"
         },
         "mode": "markers+text",
         "showlegend": false,
         "text": [
          "BDNF"
         ],
         "textfont": {
          "color": "black",
          "size": 10
         },
         "textposition": "top center",
         "type": "scatter",
         "x": [
          27720483
         ],
         "xaxis": "x9",
         "y": [
          9
         ],
         "yaxis": "y9"
        },
        {
         "hoverinfo": "text",
         "hovertext": [
          "cg13058338<br>SMUG1<br>Intron<br>54173598.0"
         ],
         "marker": {
          "color": [
           "#440154"
          ],
          "line": {
           "color": "black",
           "width": 0.5
          },
          "size": 10,
          "symbol": "square"
         },
         "mode": "markers+text",
         "showlegend": false,
         "text": [
          "SMUG1"
         ],
         "textfont": {
          "color": "black",
          "size": 10
         },
         "textposition": "top center",
         "type": "scatter",
         "x": [
          54173598
         ],
         "xaxis": "x10",
         "y": [
          10
         ],
         "yaxis": "y10"
        },
        {
         "hoverinfo": "text",
         "hovertext": [
          "cg22338839<br>FAM155A<br>Exon<br>107866521.0",
          "cg23415880<br>GSX1<br>Promoter<br>27792287.0",
          "cg23985931<br>OBI1-AS1<br>Intron<br>78594976.0"
         ],
         "marker": {
          "color": [
           "#414487",
           "#355f8d",
           "#440154"
          ],
          "line": {
           "color": "black",
           "width": 0.5
          },
          "size": 10,
          "symbol": "square"
         },
         "mode": "markers+text",
         "showlegend": false,
         "text": [
          "FAM155A",
          "GSX1",
          "OBI1-AS1"
         ],
         "textfont": {
          "color": "black",
          "size": 10
         },
         "textposition": "top center",
         "type": "scatter",
         "x": [
          107866521,
          27792287,
          78594976
         ],
         "xaxis": "x11",
         "y": [
          11,
          11,
          11
         ],
         "yaxis": "y11"
        },
        {
         "hoverinfo": "text",
         "hovertext": [
          "cg24504442<br>MEIS2<br>fiveUTR<br>37099474.0",
          "cg23087015<br>CELF6<br>threeUTR<br>72319625.0",
          "cg01153166<br>NR2F2<br>fiveUTR<br>96331473.0"
         ],
         "marker": {
          "color": [
           "#7ad151",
           "#21918c",
           "#7ad151"
          ],
          "line": {
           "color": "black",
           "width": 0.5
          },
          "size": 10,
          "symbol": "square"
         },
         "mode": "markers+text",
         "showlegend": false,
         "text": [
          "MEIS2",
          "CELF6",
          "NR2F2"
         ],
         "textfont": {
          "color": "black",
          "size": 10
         },
         "textposition": "top center",
         "type": "scatter",
         "x": [
          37099474,
          72319625,
          96331473
         ],
         "xaxis": "x12",
         "y": [
          12,
          12,
          12
         ],
         "yaxis": "y12"
        },
        {
         "hoverinfo": "text",
         "hovertext": [
          "cg06736685<br>GSE1<br>Intron<br>85555743.0"
         ],
         "marker": {
          "color": [
           "#440154"
          ],
          "line": {
           "color": "black",
           "width": 0.5
          },
          "size": 10,
          "symbol": "square"
         },
         "mode": "markers+text",
         "showlegend": false,
         "text": [
          "GSE1"
         ],
         "textfont": {
          "color": "black",
          "size": 10
         },
         "textposition": "top center",
         "type": "scatter",
         "x": [
          85555743
         ],
         "xaxis": "x13",
         "y": [
          13
         ],
         "yaxis": "y13"
        },
        {
         "hoverinfo": "text",
         "hovertext": [
          "cg08446005<br>SOCS3<br>Exon<br>78359055.0",
          "cg02532525<br>MIR212<br>Exon<br>2050353.0"
         ],
         "marker": {
          "color": [
           "#414487",
           "#414487"
          ],
          "line": {
           "color": "black",
           "width": 0.5
          },
          "size": 10,
          "symbol": "square"
         },
         "mode": "markers+text",
         "showlegend": false,
         "text": [
          "SOCS3",
          "MIR212"
         ],
         "textfont": {
          "color": "black",
          "size": 10
         },
         "textposition": "top center",
         "type": "scatter",
         "x": [
          78359055,
          2050353
         ],
         "xaxis": "x14",
         "y": [
          14,
          14
         ],
         "yaxis": "y14"
        },
        {
         "hoverinfo": "text",
         "hovertext": [
          "cg14919591<br>KCTD15<br>Promoter<br>33796112.0"
         ],
         "marker": {
          "color": [
           "#355f8d"
          ],
          "line": {
           "color": "black",
           "width": 0.5
          },
          "size": 10,
          "symbol": "square"
         },
         "mode": "markers+text",
         "showlegend": false,
         "text": [
          "KCTD15"
         ],
         "textfont": {
          "color": "black",
          "size": 10
         },
         "textposition": "top center",
         "type": "scatter",
         "x": [
          33796112
         ],
         "xaxis": "x15",
         "y": [
          15
         ],
         "yaxis": "y15"
        },
        {
         "legendgroup": "Intron",
         "marker": {
          "color": "#440154",
          "size": 10,
          "symbol": "square"
         },
         "mode": "markers",
         "name": "Intron",
         "showlegend": true,
         "type": "scatter",
         "x": [
          null
         ],
         "y": [
          null
         ]
        },
        {
         "legendgroup": "Exon",
         "marker": {
          "color": "#414487",
          "size": 10,
          "symbol": "square"
         },
         "mode": "markers",
         "name": "Exon",
         "showlegend": true,
         "type": "scatter",
         "x": [
          null
         ],
         "y": [
          null
         ]
        },
        {
         "legendgroup": "Promoter",
         "marker": {
          "color": "#355f8d",
          "size": 10,
          "symbol": "square"
         },
         "mode": "markers",
         "name": "Promoter",
         "showlegend": true,
         "type": "scatter",
         "x": [
          null
         ],
         "y": [
          null
         ]
        },
        {
         "legendgroup": "threeUTR",
         "marker": {
          "color": "#21918c",
          "size": 10,
          "symbol": "square"
         },
         "mode": "markers",
         "name": "threeUTR",
         "showlegend": true,
         "type": "scatter",
         "x": [
          null
         ],
         "y": [
          null
         ]
        },
        {
         "legendgroup": "Intergenic_downstream",
         "marker": {
          "color": "#44bf70",
          "size": 10,
          "symbol": "square"
         },
         "mode": "markers",
         "name": "Intergenic_downstream",
         "showlegend": true,
         "type": "scatter",
         "x": [
          null
         ],
         "y": [
          null
         ]
        },
        {
         "legendgroup": "fiveUTR",
         "marker": {
          "color": "#7ad151",
          "size": 10,
          "symbol": "square"
         },
         "mode": "markers",
         "name": "fiveUTR",
         "showlegend": true,
         "type": "scatter",
         "x": [
          null
         ],
         "y": [
          null
         ]
        },
        {
         "legendgroup": "Intergenic_upstream",
         "marker": {
          "color": "#fde725",
          "size": 10,
          "symbol": "square"
         },
         "mode": "markers",
         "name": "Intergenic_upstream",
         "showlegend": true,
         "type": "scatter",
         "x": [
          null
         ],
         "y": [
          null
         ]
        }
       ],
       "layout": {
        "height": 1500,
        "hovermode": "closest",
        "showlegend": true,
        "template": {
         "data": {
          "bar": [
           {
            "error_x": {
             "color": "#2a3f5f"
            },
            "error_y": {
             "color": "#2a3f5f"
            },
            "marker": {
             "line": {
              "color": "#E5ECF6",
              "width": 0.5
             },
             "pattern": {
              "fillmode": "overlay",
              "size": 10,
              "solidity": 0.2
             }
            },
            "type": "bar"
           }
          ],
          "barpolar": [
           {
            "marker": {
             "line": {
              "color": "#E5ECF6",
              "width": 0.5
             },
             "pattern": {
              "fillmode": "overlay",
              "size": 10,
              "solidity": 0.2
             }
            },
            "type": "barpolar"
           }
          ],
          "carpet": [
           {
            "aaxis": {
             "endlinecolor": "#2a3f5f",
             "gridcolor": "white",
             "linecolor": "white",
             "minorgridcolor": "white",
             "startlinecolor": "#2a3f5f"
            },
            "baxis": {
             "endlinecolor": "#2a3f5f",
             "gridcolor": "white",
             "linecolor": "white",
             "minorgridcolor": "white",
             "startlinecolor": "#2a3f5f"
            },
            "type": "carpet"
           }
          ],
          "choropleth": [
           {
            "colorbar": {
             "outlinewidth": 0,
             "ticks": ""
            },
            "type": "choropleth"
           }
          ],
          "contour": [
           {
            "colorbar": {
             "outlinewidth": 0,
             "ticks": ""
            },
            "colorscale": [
             [
              0,
              "#0d0887"
             ],
             [
              0.1111111111111111,
              "#46039f"
             ],
             [
              0.2222222222222222,
              "#7201a8"
             ],
             [
              0.3333333333333333,
              "#9c179e"
             ],
             [
              0.4444444444444444,
              "#bd3786"
             ],
             [
              0.5555555555555556,
              "#d8576b"
             ],
             [
              0.6666666666666666,
              "#ed7953"
             ],
             [
              0.7777777777777778,
              "#fb9f3a"
             ],
             [
              0.8888888888888888,
              "#fdca26"
             ],
             [
              1,
              "#f0f921"
             ]
            ],
            "type": "contour"
           }
          ],
          "contourcarpet": [
           {
            "colorbar": {
             "outlinewidth": 0,
             "ticks": ""
            },
            "type": "contourcarpet"
           }
          ],
          "heatmap": [
           {
            "colorbar": {
             "outlinewidth": 0,
             "ticks": ""
            },
            "colorscale": [
             [
              0,
              "#0d0887"
             ],
             [
              0.1111111111111111,
              "#46039f"
             ],
             [
              0.2222222222222222,
              "#7201a8"
             ],
             [
              0.3333333333333333,
              "#9c179e"
             ],
             [
              0.4444444444444444,
              "#bd3786"
             ],
             [
              0.5555555555555556,
              "#d8576b"
             ],
             [
              0.6666666666666666,
              "#ed7953"
             ],
             [
              0.7777777777777778,
              "#fb9f3a"
             ],
             [
              0.8888888888888888,
              "#fdca26"
             ],
             [
              1,
              "#f0f921"
             ]
            ],
            "type": "heatmap"
           }
          ],
          "heatmapgl": [
           {
            "colorbar": {
             "outlinewidth": 0,
             "ticks": ""
            },
            "colorscale": [
             [
              0,
              "#0d0887"
             ],
             [
              0.1111111111111111,
              "#46039f"
             ],
             [
              0.2222222222222222,
              "#7201a8"
             ],
             [
              0.3333333333333333,
              "#9c179e"
             ],
             [
              0.4444444444444444,
              "#bd3786"
             ],
             [
              0.5555555555555556,
              "#d8576b"
             ],
             [
              0.6666666666666666,
              "#ed7953"
             ],
             [
              0.7777777777777778,
              "#fb9f3a"
             ],
             [
              0.8888888888888888,
              "#fdca26"
             ],
             [
              1,
              "#f0f921"
             ]
            ],
            "type": "heatmapgl"
           }
          ],
          "histogram": [
           {
            "marker": {
             "pattern": {
              "fillmode": "overlay",
              "size": 10,
              "solidity": 0.2
             }
            },
            "type": "histogram"
           }
          ],
          "histogram2d": [
           {
            "colorbar": {
             "outlinewidth": 0,
             "ticks": ""
            },
            "colorscale": [
             [
              0,
              "#0d0887"
             ],
             [
              0.1111111111111111,
              "#46039f"
             ],
             [
              0.2222222222222222,
              "#7201a8"
             ],
             [
              0.3333333333333333,
              "#9c179e"
             ],
             [
              0.4444444444444444,
              "#bd3786"
             ],
             [
              0.5555555555555556,
              "#d8576b"
             ],
             [
              0.6666666666666666,
              "#ed7953"
             ],
             [
              0.7777777777777778,
              "#fb9f3a"
             ],
             [
              0.8888888888888888,
              "#fdca26"
             ],
             [
              1,
              "#f0f921"
             ]
            ],
            "type": "histogram2d"
           }
          ],
          "histogram2dcontour": [
           {
            "colorbar": {
             "outlinewidth": 0,
             "ticks": ""
            },
            "colorscale": [
             [
              0,
              "#0d0887"
             ],
             [
              0.1111111111111111,
              "#46039f"
             ],
             [
              0.2222222222222222,
              "#7201a8"
             ],
             [
              0.3333333333333333,
              "#9c179e"
             ],
             [
              0.4444444444444444,
              "#bd3786"
             ],
             [
              0.5555555555555556,
              "#d8576b"
             ],
             [
              0.6666666666666666,
              "#ed7953"
             ],
             [
              0.7777777777777778,
              "#fb9f3a"
             ],
             [
              0.8888888888888888,
              "#fdca26"
             ],
             [
              1,
              "#f0f921"
             ]
            ],
            "type": "histogram2dcontour"
           }
          ],
          "mesh3d": [
           {
            "colorbar": {
             "outlinewidth": 0,
             "ticks": ""
            },
            "type": "mesh3d"
           }
          ],
          "parcoords": [
           {
            "line": {
             "colorbar": {
              "outlinewidth": 0,
              "ticks": ""
             }
            },
            "type": "parcoords"
           }
          ],
          "pie": [
           {
            "automargin": true,
            "type": "pie"
           }
          ],
          "scatter": [
           {
            "fillpattern": {
             "fillmode": "overlay",
             "size": 10,
             "solidity": 0.2
            },
            "type": "scatter"
           }
          ],
          "scatter3d": [
           {
            "line": {
             "colorbar": {
              "outlinewidth": 0,
              "ticks": ""
             }
            },
            "marker": {
             "colorbar": {
              "outlinewidth": 0,
              "ticks": ""
             }
            },
            "type": "scatter3d"
           }
          ],
          "scattercarpet": [
           {
            "marker": {
             "colorbar": {
              "outlinewidth": 0,
              "ticks": ""
             }
            },
            "type": "scattercarpet"
           }
          ],
          "scattergeo": [
           {
            "marker": {
             "colorbar": {
              "outlinewidth": 0,
              "ticks": ""
             }
            },
            "type": "scattergeo"
           }
          ],
          "scattergl": [
           {
            "marker": {
             "colorbar": {
              "outlinewidth": 0,
              "ticks": ""
             }
            },
            "type": "scattergl"
           }
          ],
          "scattermapbox": [
           {
            "marker": {
             "colorbar": {
              "outlinewidth": 0,
              "ticks": ""
             }
            },
            "type": "scattermapbox"
           }
          ],
          "scatterpolar": [
           {
            "marker": {
             "colorbar": {
              "outlinewidth": 0,
              "ticks": ""
             }
            },
            "type": "scatterpolar"
           }
          ],
          "scatterpolargl": [
           {
            "marker": {
             "colorbar": {
              "outlinewidth": 0,
              "ticks": ""
             }
            },
            "type": "scatterpolargl"
           }
          ],
          "scatterternary": [
           {
            "marker": {
             "colorbar": {
              "outlinewidth": 0,
              "ticks": ""
             }
            },
            "type": "scatterternary"
           }
          ],
          "surface": [
           {
            "colorbar": {
             "outlinewidth": 0,
             "ticks": ""
            },
            "colorscale": [
             [
              0,
              "#0d0887"
             ],
             [
              0.1111111111111111,
              "#46039f"
             ],
             [
              0.2222222222222222,
              "#7201a8"
             ],
             [
              0.3333333333333333,
              "#9c179e"
             ],
             [
              0.4444444444444444,
              "#bd3786"
             ],
             [
              0.5555555555555556,
              "#d8576b"
             ],
             [
              0.6666666666666666,
              "#ed7953"
             ],
             [
              0.7777777777777778,
              "#fb9f3a"
             ],
             [
              0.8888888888888888,
              "#fdca26"
             ],
             [
              1,
              "#f0f921"
             ]
            ],
            "type": "surface"
           }
          ],
          "table": [
           {
            "cells": {
             "fill": {
              "color": "#EBF0F8"
             },
             "line": {
              "color": "white"
             }
            },
            "header": {
             "fill": {
              "color": "#C8D4E3"
             },
             "line": {
              "color": "white"
             }
            },
            "type": "table"
           }
          ]
         },
         "layout": {
          "annotationdefaults": {
           "arrowcolor": "#2a3f5f",
           "arrowhead": 0,
           "arrowwidth": 1
          },
          "autotypenumbers": "strict",
          "coloraxis": {
           "colorbar": {
            "outlinewidth": 0,
            "ticks": ""
           }
          },
          "colorscale": {
           "diverging": [
            [
             0,
             "#8e0152"
            ],
            [
             0.1,
             "#c51b7d"
            ],
            [
             0.2,
             "#de77ae"
            ],
            [
             0.3,
             "#f1b6da"
            ],
            [
             0.4,
             "#fde0ef"
            ],
            [
             0.5,
             "#f7f7f7"
            ],
            [
             0.6,
             "#e6f5d0"
            ],
            [
             0.7,
             "#b8e186"
            ],
            [
             0.8,
             "#7fbc41"
            ],
            [
             0.9,
             "#4d9221"
            ],
            [
             1,
             "#276419"
            ]
           ],
           "sequential": [
            [
             0,
             "#0d0887"
            ],
            [
             0.1111111111111111,
             "#46039f"
            ],
            [
             0.2222222222222222,
             "#7201a8"
            ],
            [
             0.3333333333333333,
             "#9c179e"
            ],
            [
             0.4444444444444444,
             "#bd3786"
            ],
            [
             0.5555555555555556,
             "#d8576b"
            ],
            [
             0.6666666666666666,
             "#ed7953"
            ],
            [
             0.7777777777777778,
             "#fb9f3a"
            ],
            [
             0.8888888888888888,
             "#fdca26"
            ],
            [
             1,
             "#f0f921"
            ]
           ],
           "sequentialminus": [
            [
             0,
             "#0d0887"
            ],
            [
             0.1111111111111111,
             "#46039f"
            ],
            [
             0.2222222222222222,
             "#7201a8"
            ],
            [
             0.3333333333333333,
             "#9c179e"
            ],
            [
             0.4444444444444444,
             "#bd3786"
            ],
            [
             0.5555555555555556,
             "#d8576b"
            ],
            [
             0.6666666666666666,
             "#ed7953"
            ],
            [
             0.7777777777777778,
             "#fb9f3a"
            ],
            [
             0.8888888888888888,
             "#fdca26"
            ],
            [
             1,
             "#f0f921"
            ]
           ]
          },
          "colorway": [
           "#636efa",
           "#EF553B",
           "#00cc96",
           "#ab63fa",
           "#FFA15A",
           "#19d3f3",
           "#FF6692",
           "#B6E880",
           "#FF97FF",
           "#FECB52"
          ],
          "font": {
           "color": "#2a3f5f"
          },
          "geo": {
           "bgcolor": "white",
           "lakecolor": "white",
           "landcolor": "#E5ECF6",
           "showlakes": true,
           "showland": true,
           "subunitcolor": "white"
          },
          "hoverlabel": {
           "align": "left"
          },
          "hovermode": "closest",
          "mapbox": {
           "style": "light"
          },
          "paper_bgcolor": "white",
          "plot_bgcolor": "#E5ECF6",
          "polar": {
           "angularaxis": {
            "gridcolor": "white",
            "linecolor": "white",
            "ticks": ""
           },
           "bgcolor": "#E5ECF6",
           "radialaxis": {
            "gridcolor": "white",
            "linecolor": "white",
            "ticks": ""
           }
          },
          "scene": {
           "xaxis": {
            "backgroundcolor": "#E5ECF6",
            "gridcolor": "white",
            "gridwidth": 2,
            "linecolor": "white",
            "showbackground": true,
            "ticks": "",
            "zerolinecolor": "white"
           },
           "yaxis": {
            "backgroundcolor": "#E5ECF6",
            "gridcolor": "white",
            "gridwidth": 2,
            "linecolor": "white",
            "showbackground": true,
            "ticks": "",
            "zerolinecolor": "white"
           },
           "zaxis": {
            "backgroundcolor": "#E5ECF6",
            "gridcolor": "white",
            "gridwidth": 2,
            "linecolor": "white",
            "showbackground": true,
            "ticks": "",
            "zerolinecolor": "white"
           }
          },
          "shapedefaults": {
           "line": {
            "color": "#2a3f5f"
           }
          },
          "ternary": {
           "aaxis": {
            "gridcolor": "white",
            "linecolor": "white",
            "ticks": ""
           },
           "baxis": {
            "gridcolor": "white",
            "linecolor": "white",
            "ticks": ""
           },
           "bgcolor": "#E5ECF6",
           "caxis": {
            "gridcolor": "white",
            "linecolor": "white",
            "ticks": ""
           }
          },
          "title": {
           "x": 0.05
          },
          "xaxis": {
           "automargin": true,
           "gridcolor": "white",
           "linecolor": "white",
           "ticks": "",
           "title": {
            "standoff": 15
           },
           "zerolinecolor": "white",
           "zerolinewidth": 2
          },
          "yaxis": {
           "automargin": true,
           "gridcolor": "white",
           "linecolor": "white",
           "ticks": "",
           "title": {
            "standoff": 15
           },
           "zerolinecolor": "white",
           "zerolinewidth": 2
          }
         }
        },
        "title": {
         "text": "Gene Annotation Visualization of All_clocks_low_methylated_cpgs Relevant CpGs"
        },
        "width": 1200,
        "xaxis": {
         "anchor": "y",
         "domain": [
          0,
          1
         ]
        },
        "xaxis10": {
         "anchor": "y10",
         "domain": [
          0,
          1
         ]
        },
        "xaxis11": {
         "anchor": "y11",
         "domain": [
          0,
          1
         ]
        },
        "xaxis12": {
         "anchor": "y12",
         "domain": [
          0,
          1
         ]
        },
        "xaxis13": {
         "anchor": "y13",
         "domain": [
          0,
          1
         ]
        },
        "xaxis14": {
         "anchor": "y14",
         "domain": [
          0,
          1
         ]
        },
        "xaxis15": {
         "anchor": "y15",
         "domain": [
          0,
          1
         ]
        },
        "xaxis2": {
         "anchor": "y2",
         "domain": [
          0,
          1
         ]
        },
        "xaxis3": {
         "anchor": "y3",
         "domain": [
          0,
          1
         ]
        },
        "xaxis4": {
         "anchor": "y4",
         "domain": [
          0,
          1
         ]
        },
        "xaxis5": {
         "anchor": "y5",
         "domain": [
          0,
          1
         ]
        },
        "xaxis6": {
         "anchor": "y6",
         "domain": [
          0,
          1
         ]
        },
        "xaxis7": {
         "anchor": "y7",
         "domain": [
          0,
          1
         ]
        },
        "xaxis8": {
         "anchor": "y8",
         "domain": [
          0,
          1
         ]
        },
        "xaxis9": {
         "anchor": "y9",
         "domain": [
          0,
          1
         ]
        },
        "yaxis": {
         "anchor": "x",
         "domain": [
          0.9520000000000001,
          1
         ],
         "showgrid": false,
         "ticktext": [
          "chr1",
          "chr2",
          "chr3",
          "chr5",
          "chr6",
          "chr7",
          "chr8",
          "chr10",
          "chr11",
          "chr12",
          "chr13",
          "chr15",
          "chr16",
          "chr17",
          "chr19"
         ],
         "tickvals": [
          1,
          2,
          3,
          4,
          5,
          6,
          7,
          8,
          9,
          10,
          11,
          12,
          13,
          14,
          15
         ]
        },
        "yaxis10": {
         "anchor": "x10",
         "domain": [
          0.33999999999999997,
          0.38799999999999996
         ],
         "showgrid": false,
         "ticktext": [
          "chr1",
          "chr2",
          "chr3",
          "chr5",
          "chr6",
          "chr7",
          "chr8",
          "chr10",
          "chr11",
          "chr12",
          "chr13",
          "chr15",
          "chr16",
          "chr17",
          "chr19"
         ],
         "tickvals": [
          1,
          2,
          3,
          4,
          5,
          6,
          7,
          8,
          9,
          10,
          11,
          12,
          13,
          14,
          15
         ]
        },
        "yaxis11": {
         "anchor": "x11",
         "domain": [
          0.272,
          0.32
         ],
         "showgrid": false,
         "ticktext": [
          "chr1",
          "chr2",
          "chr3",
          "chr5",
          "chr6",
          "chr7",
          "chr8",
          "chr10",
          "chr11",
          "chr12",
          "chr13",
          "chr15",
          "chr16",
          "chr17",
          "chr19"
         ],
         "tickvals": [
          1,
          2,
          3,
          4,
          5,
          6,
          7,
          8,
          9,
          10,
          11,
          12,
          13,
          14,
          15
         ]
        },
        "yaxis12": {
         "anchor": "x12",
         "domain": [
          0.20400000000000001,
          0.252
         ],
         "showgrid": false,
         "ticktext": [
          "chr1",
          "chr2",
          "chr3",
          "chr5",
          "chr6",
          "chr7",
          "chr8",
          "chr10",
          "chr11",
          "chr12",
          "chr13",
          "chr15",
          "chr16",
          "chr17",
          "chr19"
         ],
         "tickvals": [
          1,
          2,
          3,
          4,
          5,
          6,
          7,
          8,
          9,
          10,
          11,
          12,
          13,
          14,
          15
         ]
        },
        "yaxis13": {
         "anchor": "x13",
         "domain": [
          0.136,
          0.184
         ],
         "showgrid": false,
         "ticktext": [
          "chr1",
          "chr2",
          "chr3",
          "chr5",
          "chr6",
          "chr7",
          "chr8",
          "chr10",
          "chr11",
          "chr12",
          "chr13",
          "chr15",
          "chr16",
          "chr17",
          "chr19"
         ],
         "tickvals": [
          1,
          2,
          3,
          4,
          5,
          6,
          7,
          8,
          9,
          10,
          11,
          12,
          13,
          14,
          15
         ]
        },
        "yaxis14": {
         "anchor": "x14",
         "domain": [
          0.068,
          0.116
         ],
         "showgrid": false,
         "ticktext": [
          "chr1",
          "chr2",
          "chr3",
          "chr5",
          "chr6",
          "chr7",
          "chr8",
          "chr10",
          "chr11",
          "chr12",
          "chr13",
          "chr15",
          "chr16",
          "chr17",
          "chr19"
         ],
         "tickvals": [
          1,
          2,
          3,
          4,
          5,
          6,
          7,
          8,
          9,
          10,
          11,
          12,
          13,
          14,
          15
         ]
        },
        "yaxis15": {
         "anchor": "x15",
         "domain": [
          0,
          0.048
         ],
         "showgrid": false,
         "ticktext": [
          "chr1",
          "chr2",
          "chr3",
          "chr5",
          "chr6",
          "chr7",
          "chr8",
          "chr10",
          "chr11",
          "chr12",
          "chr13",
          "chr15",
          "chr16",
          "chr17",
          "chr19"
         ],
         "tickvals": [
          1,
          2,
          3,
          4,
          5,
          6,
          7,
          8,
          9,
          10,
          11,
          12,
          13,
          14,
          15
         ]
        },
        "yaxis2": {
         "anchor": "x2",
         "domain": [
          0.884,
          0.932
         ],
         "showgrid": false,
         "ticktext": [
          "chr1",
          "chr2",
          "chr3",
          "chr5",
          "chr6",
          "chr7",
          "chr8",
          "chr10",
          "chr11",
          "chr12",
          "chr13",
          "chr15",
          "chr16",
          "chr17",
          "chr19"
         ],
         "tickvals": [
          1,
          2,
          3,
          4,
          5,
          6,
          7,
          8,
          9,
          10,
          11,
          12,
          13,
          14,
          15
         ]
        },
        "yaxis3": {
         "anchor": "x3",
         "domain": [
          0.8160000000000001,
          0.8640000000000001
         ],
         "showgrid": false,
         "ticktext": [
          "chr1",
          "chr2",
          "chr3",
          "chr5",
          "chr6",
          "chr7",
          "chr8",
          "chr10",
          "chr11",
          "chr12",
          "chr13",
          "chr15",
          "chr16",
          "chr17",
          "chr19"
         ],
         "tickvals": [
          1,
          2,
          3,
          4,
          5,
          6,
          7,
          8,
          9,
          10,
          11,
          12,
          13,
          14,
          15
         ]
        },
        "yaxis4": {
         "anchor": "x4",
         "domain": [
          0.748,
          0.796
         ],
         "showgrid": false,
         "ticktext": [
          "chr1",
          "chr2",
          "chr3",
          "chr5",
          "chr6",
          "chr7",
          "chr8",
          "chr10",
          "chr11",
          "chr12",
          "chr13",
          "chr15",
          "chr16",
          "chr17",
          "chr19"
         ],
         "tickvals": [
          1,
          2,
          3,
          4,
          5,
          6,
          7,
          8,
          9,
          10,
          11,
          12,
          13,
          14,
          15
         ]
        },
        "yaxis5": {
         "anchor": "x5",
         "domain": [
          0.6799999999999999,
          0.728
         ],
         "showgrid": false,
         "ticktext": [
          "chr1",
          "chr2",
          "chr3",
          "chr5",
          "chr6",
          "chr7",
          "chr8",
          "chr10",
          "chr11",
          "chr12",
          "chr13",
          "chr15",
          "chr16",
          "chr17",
          "chr19"
         ],
         "tickvals": [
          1,
          2,
          3,
          4,
          5,
          6,
          7,
          8,
          9,
          10,
          11,
          12,
          13,
          14,
          15
         ]
        },
        "yaxis6": {
         "anchor": "x6",
         "domain": [
          0.612,
          0.66
         ],
         "showgrid": false,
         "ticktext": [
          "chr1",
          "chr2",
          "chr3",
          "chr5",
          "chr6",
          "chr7",
          "chr8",
          "chr10",
          "chr11",
          "chr12",
          "chr13",
          "chr15",
          "chr16",
          "chr17",
          "chr19"
         ],
         "tickvals": [
          1,
          2,
          3,
          4,
          5,
          6,
          7,
          8,
          9,
          10,
          11,
          12,
          13,
          14,
          15
         ]
        },
        "yaxis7": {
         "anchor": "x7",
         "domain": [
          0.544,
          0.5920000000000001
         ],
         "showgrid": false,
         "ticktext": [
          "chr1",
          "chr2",
          "chr3",
          "chr5",
          "chr6",
          "chr7",
          "chr8",
          "chr10",
          "chr11",
          "chr12",
          "chr13",
          "chr15",
          "chr16",
          "chr17",
          "chr19"
         ],
         "tickvals": [
          1,
          2,
          3,
          4,
          5,
          6,
          7,
          8,
          9,
          10,
          11,
          12,
          13,
          14,
          15
         ]
        },
        "yaxis8": {
         "anchor": "x8",
         "domain": [
          0.47600000000000003,
          0.524
         ],
         "showgrid": false,
         "ticktext": [
          "chr1",
          "chr2",
          "chr3",
          "chr5",
          "chr6",
          "chr7",
          "chr8",
          "chr10",
          "chr11",
          "chr12",
          "chr13",
          "chr15",
          "chr16",
          "chr17",
          "chr19"
         ],
         "tickvals": [
          1,
          2,
          3,
          4,
          5,
          6,
          7,
          8,
          9,
          10,
          11,
          12,
          13,
          14,
          15
         ]
        },
        "yaxis9": {
         "anchor": "x9",
         "domain": [
          0.40800000000000003,
          0.456
         ],
         "showgrid": false,
         "ticktext": [
          "chr1",
          "chr2",
          "chr3",
          "chr5",
          "chr6",
          "chr7",
          "chr8",
          "chr10",
          "chr11",
          "chr12",
          "chr13",
          "chr15",
          "chr16",
          "chr17",
          "chr19"
         ],
         "tickvals": [
          1,
          2,
          3,
          4,
          5,
          6,
          7,
          8,
          9,
          10,
          11,
          12,
          13,
          14,
          15
         ]
        }
       }
      }
     },
     "metadata": {},
     "output_type": "display_data"
    },
    {
     "data": {
      "application/vnd.plotly.v1+json": {
       "config": {
        "plotlyServerURL": "https://plot.ly"
       },
       "data": [
        {
         "hoverinfo": "text",
         "hovertext": [
          "cg27228973<br>FOXO6-AS1<br>Intergenic_upstream<br>41404380.0",
          "cg17267107<br>CASZ1<br>Intron<br>10669966.0",
          "cg10501210<br>MIR29B2CHG<br>Intron<br>207823675.0",
          "cg09360996<br>PROX1<br>Exon<br>213996654.0",
          "cg17718834<br>PEX14<br>threeUTR<br>10623271.0",
          "cg01169686<br>GORAB<br>Intergenic_downstream<br>170564460.0"
         ],
         "marker": {
          "color": [
           "#fde725",
           "#440154",
           "#440154",
           "#414487",
           "#21918c",
           "#44bf70"
          ],
          "line": {
           "color": "black",
           "width": 0.5
          },
          "size": 10,
          "symbol": "square"
         },
         "mode": "markers+text",
         "showlegend": false,
         "text": [
          "FOXO6-AS1",
          "CASZ1",
          "MIR29B2CHG",
          "PROX1",
          "PEX14",
          "GORAB"
         ],
         "textfont": {
          "color": "black",
          "size": 10
         },
         "textposition": "top center",
         "type": "scatter",
         "x": [
          41404380,
          10669966,
          207823675,
          213996654,
          10623271,
          170564460
         ],
         "xaxis": "x",
         "y": [
          1,
          1,
          1,
          1,
          1,
          1
         ],
         "yaxis": "y"
        },
        {
         "hoverinfo": "text",
         "hovertext": [
          "cg11235379<br>TBR1<br>Exon<br>161417813.0",
          "cg19195912<br>FIGN<br>Intron<br>163944507.0",
          "cg17905888<br>LINC01876<br>Intergenic_downstream<br>155727368.0",
          "cg09227056<br>EVX2<br>Intergenic_downstream<br>176075721.0",
          "cg18433728<br>CHN1<br>Exon<br>174846961.0",
          "cg22267613<br>ZEB2-AS1<br>Exon<br>144521227.0",
          "cg14361875<br>LINC01812<br>Intergenic_upstream<br>67846376.0",
          "cg21907062<br>OLA1<br>Exon<br>174081061.0"
         ],
         "marker": {
          "color": [
           "#414487",
           "#440154",
           "#44bf70",
           "#44bf70",
           "#414487",
           "#414487",
           "#fde725",
           "#414487"
          ],
          "line": {
           "color": "black",
           "width": 0.5
          },
          "size": 10,
          "symbol": "square"
         },
         "mode": "markers+text",
         "showlegend": false,
         "text": [
          "TBR1",
          "FIGN",
          "LINC01876",
          "EVX2",
          "CHN1",
          "ZEB2-AS1",
          "LINC01812",
          "OLA1"
         ],
         "textfont": {
          "color": "black",
          "size": 10
         },
         "textposition": "top center",
         "type": "scatter",
         "x": [
          161417813,
          163944507,
          155727368,
          176075721,
          174846961,
          144521227,
          67846376,
          174081061
         ],
         "xaxis": "x2",
         "y": [
          2,
          2,
          2,
          2,
          2,
          2,
          2,
          2
         ],
         "yaxis": "y2"
        },
        {
         "hoverinfo": "text",
         "hovertext": [
          "cg11084334<br>LHFPL4<br>Exon<br>9552580.0",
          "cg19981759<br>LOC440982<br>fiveUTR<br>147409413.0",
          "cg05844902<br>SLC9A9<br>Exon<br>143848183.0",
          "cg12841266<br>LHFPL4<br>Exon<br>9552409.0",
          "cg24952195<br>SATB1<br>Intron<br>18356048.0",
          "cg15809488<br>RARB<br>fiveUTR<br>25428622.0",
          "cg12965599<br>LOC440982<br>Intron<br>147408137.0",
          "cg08938156<br>LOC440982<br>fiveUTR<br>147409417.0",
          "cg12830057<br>MITF<br>Exon<br>69879222.0"
         ],
         "marker": {
          "color": [
           "#414487",
           "#7ad151",
           "#414487",
           "#414487",
           "#440154",
           "#7ad151",
           "#440154",
           "#7ad151",
           "#414487"
          ],
          "line": {
           "color": "black",
           "width": 0.5
          },
          "size": 10,
          "symbol": "square"
         },
         "mode": "markers+text",
         "showlegend": false,
         "text": [
          "LHFPL4",
          "LOC440982",
          "SLC9A9",
          "LHFPL4",
          "SATB1",
          "RARB",
          "LOC440982",
          "LOC440982",
          "MITF"
         ],
         "textfont": {
          "color": "black",
          "size": 10
         },
         "textposition": "top center",
         "type": "scatter",
         "x": [
          9552580,
          147409413,
          143848183,
          9552409,
          18356048,
          25428622,
          147408137,
          147409417,
          69879222
         ],
         "xaxis": "x3",
         "y": [
          3,
          3,
          3,
          3,
          3,
          3,
          3,
          3,
          3
         ],
         "yaxis": "y3"
        },
        {
         "hoverinfo": "text",
         "hovertext": [
          "cg18304538<br>TBCA<br>Intron<br>77852294.0",
          "cg20615601<br>PURA<br>threeUTR<br>140115517.0",
          "cg26844246<br>TLX3<br>fiveUTR<br>171309273.0",
          "cg07875786<br>NR2F1<br>fiveUTR<br>93583221.0",
          "cg18814344<br>CXXC5<br>Intron<br>139660961.0"
         ],
         "marker": {
          "color": [
           "#440154",
           "#21918c",
           "#7ad151",
           "#7ad151",
           "#440154"
          ],
          "line": {
           "color": "black",
           "width": 0.5
          },
          "size": 10,
          "symbol": "square"
         },
         "mode": "markers+text",
         "showlegend": false,
         "text": [
          "TBCA",
          "PURA",
          "TLX3",
          "NR2F1",
          "CXXC5"
         ],
         "textfont": {
          "color": "black",
          "size": 10
         },
         "textposition": "top center",
         "type": "scatter",
         "x": [
          77852294,
          140115517,
          171309273,
          93583221,
          139660961
         ],
         "xaxis": "x4",
         "y": [
          4,
          4,
          4,
          4,
          4
         ],
         "yaxis": "y4"
        },
        {
         "hoverinfo": "text",
         "hovertext": [
          "cg02963786<br>TFAP2A<br>Intron<br>10395521.0",
          "cg06472065<br>SYNGAP1<br>Exon<br>33426669.0"
         ],
         "marker": {
          "color": [
           "#440154",
           "#414487"
          ],
          "line": {
           "color": "black",
           "width": 0.5
          },
          "size": 10,
          "symbol": "square"
         },
         "mode": "markers+text",
         "showlegend": false,
         "text": [
          "TFAP2A",
          "SYNGAP1"
         ],
         "textfont": {
          "color": "black",
          "size": 10
         },
         "textposition": "top center",
         "type": "scatter",
         "x": [
          10395521,
          33426669
         ],
         "xaxis": "x5",
         "y": [
          5,
          5
         ],
         "yaxis": "y5"
        },
        {
         "hoverinfo": "text",
         "hovertext": [
          "cg09710440<br>LHFPL3<br>Exon<br>104328932.0",
          "cg11516694<br>HOXA-AS3<br>Intron<br>27147848.0",
          "cg13188467<br>DLX6-AS1<br>Intron<br>96998781.0",
          "cg03820088<br>TRA2A<br>fiveUTR<br>23522229.0",
          "cg07323940<br>DGKB<br>Intron<br>14197482.0"
         ],
         "marker": {
          "color": [
           "#414487",
           "#440154",
           "#440154",
           "#7ad151",
           "#440154"
          ],
          "line": {
           "color": "black",
           "width": 0.5
          },
          "size": 10,
          "symbol": "square"
         },
         "mode": "markers+text",
         "showlegend": false,
         "text": [
          "LHFPL3",
          "HOXA-AS3",
          "DLX6-AS1",
          "TRA2A",
          "DGKB"
         ],
         "textfont": {
          "color": "black",
          "size": 10
         },
         "textposition": "top center",
         "type": "scatter",
         "x": [
          104328932,
          27147848,
          96998781,
          23522229,
          14197482
         ],
         "xaxis": "x6",
         "y": [
          6,
          6,
          6,
          6,
          6
         ],
         "yaxis": "y6"
        },
        {
         "hoverinfo": "text",
         "hovertext": [
          "cg18168101<br>BAALC-AS2<br>Promoter<br>103141399.0",
          "cg22416332<br>XPO7<br>Exon<br>21990865.0",
          "cg12815291<br>ZC3H3<br>Intron<br>143439468.0",
          "cg12382554<br>ZFPM2<br>Intron<br>104869303.0"
         ],
         "marker": {
          "color": [
           "#355f8d",
           "#414487",
           "#440154",
           "#440154"
          ],
          "line": {
           "color": "black",
           "width": 0.5
          },
          "size": 10,
          "symbol": "square"
         },
         "mode": "markers+text",
         "showlegend": false,
         "text": [
          "BAALC-AS2",
          "XPO7",
          "ZC3H3",
          "ZFPM2"
         ],
         "textfont": {
          "color": "black",
          "size": 10
         },
         "textposition": "top center",
         "type": "scatter",
         "x": [
          103141399,
          21990865,
          143439468,
          104869303
         ],
         "xaxis": "x7",
         "y": [
          7,
          7,
          7,
          7
         ],
         "yaxis": "y7"
        },
        {
         "hoverinfo": "text",
         "hovertext": [
          "cg17437489<br>PBX3<br>Intron<br>125763666.0",
          "cg15437942<br>LHX2<br>Intron<br>124018172.0",
          "cg21633990<br>COL5A1<br>Exon<br>134830033.0",
          "cg03942000<br>MIR219A2<br>Exon<br>128393488.0",
          "cg17516812<br>BNC2<br>Intron<br>16773158.0",
          "cg03320248<br>MED27<br>Intergenic_upstream<br>132099317.0",
          "cg23510032<br>SMARCA2<br>Exon<br>2159889.0",
          "cg10439738<br>MAPKAP1<br>Intron<br>125542176.0",
          "cg27547112<br>HNRNPK<br>Intron<br>83973650.0"
         ],
         "marker": {
          "color": [
           "#440154",
           "#440154",
           "#414487",
           "#414487",
           "#440154",
           "#fde725",
           "#414487",
           "#440154",
           "#440154"
          ],
          "line": {
           "color": "black",
           "width": 0.5
          },
          "size": 10,
          "symbol": "square"
         },
         "mode": "markers+text",
         "showlegend": false,
         "text": [
          "PBX3",
          "LHX2",
          "COL5A1",
          "MIR219A2",
          "BNC2",
          "MED27",
          "SMARCA2",
          "MAPKAP1",
          "HNRNPK"
         ],
         "textfont": {
          "color": "black",
          "size": 10
         },
         "textposition": "top center",
         "type": "scatter",
         "x": [
          125763666,
          124018172,
          134830033,
          128393488,
          16773158,
          132099317,
          2159889,
          125542176,
          83973650
         ],
         "xaxis": "x8",
         "y": [
          8,
          8,
          8,
          8,
          8,
          8,
          8,
          8,
          8
         ],
         "yaxis": "y8"
        },
        {
         "hoverinfo": "text",
         "hovertext": [
          "cg04706544<br>DRGX<br>Promoter<br>49396706.0",
          "cg19090691<br>NKX2-3<br>Intergenic_downstream<br>99537359.0",
          "cg01429475<br>BTRC<br>Intron<br>101451718.0",
          "cg17357006<br>VTI1A<br>Exon<br>112538434.0"
         ],
         "marker": {
          "color": [
           "#355f8d",
           "#44bf70",
           "#440154",
           "#414487"
          ],
          "line": {
           "color": "black",
           "width": 0.5
          },
          "size": 10,
          "symbol": "square"
         },
         "mode": "markers+text",
         "showlegend": false,
         "text": [
          "DRGX",
          "NKX2-3",
          "BTRC",
          "VTI1A"
         ],
         "textfont": {
          "color": "black",
          "size": 10
         },
         "textposition": "top center",
         "type": "scatter",
         "x": [
          49396706,
          99537359,
          101451718,
          112538434
         ],
         "xaxis": "x9",
         "y": [
          9,
          9,
          9,
          9
         ],
         "yaxis": "y9"
        },
        {
         "hoverinfo": "text",
         "hovertext": [
          "cg27201382<br>BDNF<br>fiveUTR<br>27720483.0",
          "cg01975510<br>KDM2A<br>Exon<br>67250350.0"
         ],
         "marker": {
          "color": [
           "#7ad151",
           "#414487"
          ],
          "line": {
           "color": "black",
           "width": 0.5
          },
          "size": 10,
          "symbol": "square"
         },
         "mode": "markers+text",
         "showlegend": false,
         "text": [
          "BDNF",
          "KDM2A"
         ],
         "textfont": {
          "color": "black",
          "size": 10
         },
         "textposition": "top center",
         "type": "scatter",
         "x": [
          27720483,
          67250350
         ],
         "xaxis": "x10",
         "y": [
          10,
          10
         ],
         "yaxis": "y10"
        },
        {
         "hoverinfo": "text",
         "hovertext": [
          "cg14903956<br>GRIN2B<br>Exon<br>13562916.0",
          "cg13935553<br>BHLHE41<br>threeUTR<br>26120667.0",
          "cg08563010<br>SOX5<br>Intron<br>23921603.0",
          "cg18094982<br>SLCO1C1<br>fiveUTR<br>20695438.0",
          "cg10466667<br>CALCOCO1<br>threeUTR<br>53710077.0",
          "cg17116410<br>HOXC4<br>Exon<br>54037896.0"
         ],
         "marker": {
          "color": [
           "#414487",
           "#21918c",
           "#440154",
           "#7ad151",
           "#21918c",
           "#414487"
          ],
          "line": {
           "color": "black",
           "width": 0.5
          },
          "size": 10,
          "symbol": "square"
         },
         "mode": "markers+text",
         "showlegend": false,
         "text": [
          "GRIN2B",
          "BHLHE41",
          "SOX5",
          "SLCO1C1",
          "CALCOCO1",
          "HOXC4"
         ],
         "textfont": {
          "color": "black",
          "size": 10
         },
         "textposition": "top center",
         "type": "scatter",
         "x": [
          13562916,
          26120667,
          23921603,
          20695438,
          53710077,
          54037896
         ],
         "xaxis": "x11",
         "y": [
          11,
          11,
          11,
          11,
          11,
          11
         ],
         "yaxis": "y11"
        },
        {
         "hoverinfo": "text",
         "hovertext": [
          "cg23985931<br>OBI1-AS1<br>Intron<br>78594976.0",
          "cg23415880<br>GSX1<br>Promoter<br>27792287.0"
         ],
         "marker": {
          "color": [
           "#440154",
           "#355f8d"
          ],
          "line": {
           "color": "black",
           "width": 0.5
          },
          "size": 10,
          "symbol": "square"
         },
         "mode": "markers+text",
         "showlegend": false,
         "text": [
          "OBI1-AS1",
          "GSX1"
         ],
         "textfont": {
          "color": "black",
          "size": 10
         },
         "textposition": "top center",
         "type": "scatter",
         "x": [
          78594976,
          27792287
         ],
         "xaxis": "x12",
         "y": [
          12,
          12
         ],
         "yaxis": "y12"
        },
        {
         "hoverinfo": "text",
         "hovertext": [
          "cg11690941<br>UNC79<br>fiveUTR<br>93474290.0",
          "cg12449245<br>DPF3<br>Exon<br>72619953.0"
         ],
         "marker": {
          "color": [
           "#7ad151",
           "#414487"
          ],
          "line": {
           "color": "black",
           "width": 0.5
          },
          "size": 10,
          "symbol": "square"
         },
         "mode": "markers+text",
         "showlegend": false,
         "text": [
          "UNC79",
          "DPF3"
         ],
         "textfont": {
          "color": "black",
          "size": 10
         },
         "textposition": "top center",
         "type": "scatter",
         "x": [
          93474290,
          72619953
         ],
         "xaxis": "x13",
         "y": [
          13,
          13
         ],
         "yaxis": "y13"
        },
        {
         "hoverinfo": "text",
         "hovertext": [
          "cg23087015<br>CELF6<br>threeUTR<br>72319625.0",
          "cg12156848<br>RORA<br>Exon<br>60677183.0"
         ],
         "marker": {
          "color": [
           "#21918c",
           "#414487"
          ],
          "line": {
           "color": "black",
           "width": 0.5
          },
          "size": 10,
          "symbol": "square"
         },
         "mode": "markers+text",
         "showlegend": false,
         "text": [
          "CELF6",
          "RORA"
         ],
         "textfont": {
          "color": "black",
          "size": 10
         },
         "textposition": "top center",
         "type": "scatter",
         "x": [
          72319625,
          60677183
         ],
         "xaxis": "x14",
         "y": [
          14,
          14
         ],
         "yaxis": "y14"
        },
        {
         "hoverinfo": "text",
         "hovertext": [
          "cg09461098<br>TNRC6A<br>threeUTR<br>24815270.0",
          "cg15340018<br>AP1G1<br>threeUTR<br>71756157.0",
          "cg19591642<br>TNRC6A<br>threeUTR<br>24815260.0",
          "cg11948733<br>YPEL3<br>fiveUTR<br>30095371.0",
          "cg26709300<br>YPEL3<br>Exon<br>30095361.0"
         ],
         "marker": {
          "color": [
           "#21918c",
           "#21918c",
           "#21918c",
           "#7ad151",
           "#414487"
          ],
          "line": {
           "color": "black",
           "width": 0.5
          },
          "size": 10,
          "symbol": "square"
         },
         "mode": "markers+text",
         "showlegend": false,
         "text": [
          "TNRC6A",
          "AP1G1",
          "TNRC6A",
          "YPEL3",
          "YPEL3"
         ],
         "textfont": {
          "color": "black",
          "size": 10
         },
         "textposition": "top center",
         "type": "scatter",
         "x": [
          24815270,
          71756157,
          24815260,
          30095371,
          30095361
         ],
         "xaxis": "x15",
         "y": [
          15,
          15,
          15,
          15,
          15
         ],
         "yaxis": "y15"
        },
        {
         "hoverinfo": "text",
         "hovertext": [
          "cg08446005<br>SOCS3<br>Exon<br>78359055.0",
          "cg26072749<br>HOXB3<br>Exon<br>48579912.0",
          "cg02909927<br>RAI1<br>Intron<br>17784078.0",
          "cg07005811<br>PHF12<br>Exon<br>28912612.0",
          "cg17114460<br>FLOT2<br>Exon<br>28884283.0"
         ],
         "marker": {
          "color": [
           "#414487",
           "#414487",
           "#440154",
           "#414487",
           "#414487"
          ],
          "line": {
           "color": "black",
           "width": 0.5
          },
          "size": 10,
          "symbol": "square"
         },
         "mode": "markers+text",
         "showlegend": false,
         "text": [
          "SOCS3",
          "HOXB3",
          "RAI1",
          "PHF12",
          "FLOT2"
         ],
         "textfont": {
          "color": "black",
          "size": 10
         },
         "textposition": "top center",
         "type": "scatter",
         "x": [
          78359055,
          48579912,
          17784078,
          28912612,
          28884283
         ],
         "xaxis": "x16",
         "y": [
          16,
          16,
          16,
          16,
          16
         ],
         "yaxis": "y16"
        },
        {
         "hoverinfo": "text",
         "hovertext": [
          "cg14701342<br>LINC01029<br>Intergenic_downstream<br>77833139.0",
          "cg13608832<br>ZNF521<br>Intron<br>25231172.0"
         ],
         "marker": {
          "color": [
           "#44bf70",
           "#440154"
          ],
          "line": {
           "color": "black",
           "width": 0.5
          },
          "size": 10,
          "symbol": "square"
         },
         "mode": "markers+text",
         "showlegend": false,
         "text": [
          "LINC01029",
          "ZNF521"
         ],
         "textfont": {
          "color": "black",
          "size": 10
         },
         "textposition": "top center",
         "type": "scatter",
         "x": [
          77833139,
          25231172
         ],
         "xaxis": "x17",
         "y": [
          17,
          17
         ],
         "yaxis": "y17"
        },
        {
         "hoverinfo": "text",
         "hovertext": [
          "cg11666770<br>LOC100505585<br>Intron<br>41926758.0",
          "cg14443903<br>ZNF536<br>Intergenic_downstream<br>30718448.0"
         ],
         "marker": {
          "color": [
           "#440154",
           "#44bf70"
          ],
          "line": {
           "color": "black",
           "width": 0.5
          },
          "size": 10,
          "symbol": "square"
         },
         "mode": "markers+text",
         "showlegend": false,
         "text": [
          "LOC100505585",
          "ZNF536"
         ],
         "textfont": {
          "color": "black",
          "size": 10
         },
         "textposition": "top center",
         "type": "scatter",
         "x": [
          41926758,
          30718448
         ],
         "xaxis": "x18",
         "y": [
          18,
          18
         ],
         "yaxis": "y18"
        },
        {
         "hoverinfo": "text",
         "hovertext": [
          "cg15746205<br>EWSR1<br>Exon<br>29290369.0"
         ],
         "marker": {
          "color": [
           "#414487"
          ],
          "line": {
           "color": "black",
           "width": 0.5
          },
          "size": 10,
          "symbol": "square"
         },
         "mode": "markers+text",
         "showlegend": false,
         "text": [
          "EWSR1"
         ],
         "textfont": {
          "color": "black",
          "size": 10
         },
         "textposition": "top center",
         "type": "scatter",
         "x": [
          29290369
         ],
         "xaxis": "x19",
         "y": [
          19
         ],
         "yaxis": "y19"
        },
        {
         "legendgroup": "Intron",
         "marker": {
          "color": "#440154",
          "size": 10,
          "symbol": "square"
         },
         "mode": "markers",
         "name": "Intron",
         "showlegend": true,
         "type": "scatter",
         "x": [
          null
         ],
         "y": [
          null
         ]
        },
        {
         "legendgroup": "Exon",
         "marker": {
          "color": "#414487",
          "size": 10,
          "symbol": "square"
         },
         "mode": "markers",
         "name": "Exon",
         "showlegend": true,
         "type": "scatter",
         "x": [
          null
         ],
         "y": [
          null
         ]
        },
        {
         "legendgroup": "Promoter",
         "marker": {
          "color": "#355f8d",
          "size": 10,
          "symbol": "square"
         },
         "mode": "markers",
         "name": "Promoter",
         "showlegend": true,
         "type": "scatter",
         "x": [
          null
         ],
         "y": [
          null
         ]
        },
        {
         "legendgroup": "threeUTR",
         "marker": {
          "color": "#21918c",
          "size": 10,
          "symbol": "square"
         },
         "mode": "markers",
         "name": "threeUTR",
         "showlegend": true,
         "type": "scatter",
         "x": [
          null
         ],
         "y": [
          null
         ]
        },
        {
         "legendgroup": "Intergenic_downstream",
         "marker": {
          "color": "#44bf70",
          "size": 10,
          "symbol": "square"
         },
         "mode": "markers",
         "name": "Intergenic_downstream",
         "showlegend": true,
         "type": "scatter",
         "x": [
          null
         ],
         "y": [
          null
         ]
        },
        {
         "legendgroup": "fiveUTR",
         "marker": {
          "color": "#7ad151",
          "size": 10,
          "symbol": "square"
         },
         "mode": "markers",
         "name": "fiveUTR",
         "showlegend": true,
         "type": "scatter",
         "x": [
          null
         ],
         "y": [
          null
         ]
        },
        {
         "legendgroup": "Intergenic_upstream",
         "marker": {
          "color": "#fde725",
          "size": 10,
          "symbol": "square"
         },
         "mode": "markers",
         "name": "Intergenic_upstream",
         "showlegend": true,
         "type": "scatter",
         "x": [
          null
         ],
         "y": [
          null
         ]
        }
       ],
       "layout": {
        "height": 1900,
        "hovermode": "closest",
        "showlegend": true,
        "template": {
         "data": {
          "bar": [
           {
            "error_x": {
             "color": "#2a3f5f"
            },
            "error_y": {
             "color": "#2a3f5f"
            },
            "marker": {
             "line": {
              "color": "#E5ECF6",
              "width": 0.5
             },
             "pattern": {
              "fillmode": "overlay",
              "size": 10,
              "solidity": 0.2
             }
            },
            "type": "bar"
           }
          ],
          "barpolar": [
           {
            "marker": {
             "line": {
              "color": "#E5ECF6",
              "width": 0.5
             },
             "pattern": {
              "fillmode": "overlay",
              "size": 10,
              "solidity": 0.2
             }
            },
            "type": "barpolar"
           }
          ],
          "carpet": [
           {
            "aaxis": {
             "endlinecolor": "#2a3f5f",
             "gridcolor": "white",
             "linecolor": "white",
             "minorgridcolor": "white",
             "startlinecolor": "#2a3f5f"
            },
            "baxis": {
             "endlinecolor": "#2a3f5f",
             "gridcolor": "white",
             "linecolor": "white",
             "minorgridcolor": "white",
             "startlinecolor": "#2a3f5f"
            },
            "type": "carpet"
           }
          ],
          "choropleth": [
           {
            "colorbar": {
             "outlinewidth": 0,
             "ticks": ""
            },
            "type": "choropleth"
           }
          ],
          "contour": [
           {
            "colorbar": {
             "outlinewidth": 0,
             "ticks": ""
            },
            "colorscale": [
             [
              0,
              "#0d0887"
             ],
             [
              0.1111111111111111,
              "#46039f"
             ],
             [
              0.2222222222222222,
              "#7201a8"
             ],
             [
              0.3333333333333333,
              "#9c179e"
             ],
             [
              0.4444444444444444,
              "#bd3786"
             ],
             [
              0.5555555555555556,
              "#d8576b"
             ],
             [
              0.6666666666666666,
              "#ed7953"
             ],
             [
              0.7777777777777778,
              "#fb9f3a"
             ],
             [
              0.8888888888888888,
              "#fdca26"
             ],
             [
              1,
              "#f0f921"
             ]
            ],
            "type": "contour"
           }
          ],
          "contourcarpet": [
           {
            "colorbar": {
             "outlinewidth": 0,
             "ticks": ""
            },
            "type": "contourcarpet"
           }
          ],
          "heatmap": [
           {
            "colorbar": {
             "outlinewidth": 0,
             "ticks": ""
            },
            "colorscale": [
             [
              0,
              "#0d0887"
             ],
             [
              0.1111111111111111,
              "#46039f"
             ],
             [
              0.2222222222222222,
              "#7201a8"
             ],
             [
              0.3333333333333333,
              "#9c179e"
             ],
             [
              0.4444444444444444,
              "#bd3786"
             ],
             [
              0.5555555555555556,
              "#d8576b"
             ],
             [
              0.6666666666666666,
              "#ed7953"
             ],
             [
              0.7777777777777778,
              "#fb9f3a"
             ],
             [
              0.8888888888888888,
              "#fdca26"
             ],
             [
              1,
              "#f0f921"
             ]
            ],
            "type": "heatmap"
           }
          ],
          "heatmapgl": [
           {
            "colorbar": {
             "outlinewidth": 0,
             "ticks": ""
            },
            "colorscale": [
             [
              0,
              "#0d0887"
             ],
             [
              0.1111111111111111,
              "#46039f"
             ],
             [
              0.2222222222222222,
              "#7201a8"
             ],
             [
              0.3333333333333333,
              "#9c179e"
             ],
             [
              0.4444444444444444,
              "#bd3786"
             ],
             [
              0.5555555555555556,
              "#d8576b"
             ],
             [
              0.6666666666666666,
              "#ed7953"
             ],
             [
              0.7777777777777778,
              "#fb9f3a"
             ],
             [
              0.8888888888888888,
              "#fdca26"
             ],
             [
              1,
              "#f0f921"
             ]
            ],
            "type": "heatmapgl"
           }
          ],
          "histogram": [
           {
            "marker": {
             "pattern": {
              "fillmode": "overlay",
              "size": 10,
              "solidity": 0.2
             }
            },
            "type": "histogram"
           }
          ],
          "histogram2d": [
           {
            "colorbar": {
             "outlinewidth": 0,
             "ticks": ""
            },
            "colorscale": [
             [
              0,
              "#0d0887"
             ],
             [
              0.1111111111111111,
              "#46039f"
             ],
             [
              0.2222222222222222,
              "#7201a8"
             ],
             [
              0.3333333333333333,
              "#9c179e"
             ],
             [
              0.4444444444444444,
              "#bd3786"
             ],
             [
              0.5555555555555556,
              "#d8576b"
             ],
             [
              0.6666666666666666,
              "#ed7953"
             ],
             [
              0.7777777777777778,
              "#fb9f3a"
             ],
             [
              0.8888888888888888,
              "#fdca26"
             ],
             [
              1,
              "#f0f921"
             ]
            ],
            "type": "histogram2d"
           }
          ],
          "histogram2dcontour": [
           {
            "colorbar": {
             "outlinewidth": 0,
             "ticks": ""
            },
            "colorscale": [
             [
              0,
              "#0d0887"
             ],
             [
              0.1111111111111111,
              "#46039f"
             ],
             [
              0.2222222222222222,
              "#7201a8"
             ],
             [
              0.3333333333333333,
              "#9c179e"
             ],
             [
              0.4444444444444444,
              "#bd3786"
             ],
             [
              0.5555555555555556,
              "#d8576b"
             ],
             [
              0.6666666666666666,
              "#ed7953"
             ],
             [
              0.7777777777777778,
              "#fb9f3a"
             ],
             [
              0.8888888888888888,
              "#fdca26"
             ],
             [
              1,
              "#f0f921"
             ]
            ],
            "type": "histogram2dcontour"
           }
          ],
          "mesh3d": [
           {
            "colorbar": {
             "outlinewidth": 0,
             "ticks": ""
            },
            "type": "mesh3d"
           }
          ],
          "parcoords": [
           {
            "line": {
             "colorbar": {
              "outlinewidth": 0,
              "ticks": ""
             }
            },
            "type": "parcoords"
           }
          ],
          "pie": [
           {
            "automargin": true,
            "type": "pie"
           }
          ],
          "scatter": [
           {
            "fillpattern": {
             "fillmode": "overlay",
             "size": 10,
             "solidity": 0.2
            },
            "type": "scatter"
           }
          ],
          "scatter3d": [
           {
            "line": {
             "colorbar": {
              "outlinewidth": 0,
              "ticks": ""
             }
            },
            "marker": {
             "colorbar": {
              "outlinewidth": 0,
              "ticks": ""
             }
            },
            "type": "scatter3d"
           }
          ],
          "scattercarpet": [
           {
            "marker": {
             "colorbar": {
              "outlinewidth": 0,
              "ticks": ""
             }
            },
            "type": "scattercarpet"
           }
          ],
          "scattergeo": [
           {
            "marker": {
             "colorbar": {
              "outlinewidth": 0,
              "ticks": ""
             }
            },
            "type": "scattergeo"
           }
          ],
          "scattergl": [
           {
            "marker": {
             "colorbar": {
              "outlinewidth": 0,
              "ticks": ""
             }
            },
            "type": "scattergl"
           }
          ],
          "scattermapbox": [
           {
            "marker": {
             "colorbar": {
              "outlinewidth": 0,
              "ticks": ""
             }
            },
            "type": "scattermapbox"
           }
          ],
          "scatterpolar": [
           {
            "marker": {
             "colorbar": {
              "outlinewidth": 0,
              "ticks": ""
             }
            },
            "type": "scatterpolar"
           }
          ],
          "scatterpolargl": [
           {
            "marker": {
             "colorbar": {
              "outlinewidth": 0,
              "ticks": ""
             }
            },
            "type": "scatterpolargl"
           }
          ],
          "scatterternary": [
           {
            "marker": {
             "colorbar": {
              "outlinewidth": 0,
              "ticks": ""
             }
            },
            "type": "scatterternary"
           }
          ],
          "surface": [
           {
            "colorbar": {
             "outlinewidth": 0,
             "ticks": ""
            },
            "colorscale": [
             [
              0,
              "#0d0887"
             ],
             [
              0.1111111111111111,
              "#46039f"
             ],
             [
              0.2222222222222222,
              "#7201a8"
             ],
             [
              0.3333333333333333,
              "#9c179e"
             ],
             [
              0.4444444444444444,
              "#bd3786"
             ],
             [
              0.5555555555555556,
              "#d8576b"
             ],
             [
              0.6666666666666666,
              "#ed7953"
             ],
             [
              0.7777777777777778,
              "#fb9f3a"
             ],
             [
              0.8888888888888888,
              "#fdca26"
             ],
             [
              1,
              "#f0f921"
             ]
            ],
            "type": "surface"
           }
          ],
          "table": [
           {
            "cells": {
             "fill": {
              "color": "#EBF0F8"
             },
             "line": {
              "color": "white"
             }
            },
            "header": {
             "fill": {
              "color": "#C8D4E3"
             },
             "line": {
              "color": "white"
             }
            },
            "type": "table"
           }
          ]
         },
         "layout": {
          "annotationdefaults": {
           "arrowcolor": "#2a3f5f",
           "arrowhead": 0,
           "arrowwidth": 1
          },
          "autotypenumbers": "strict",
          "coloraxis": {
           "colorbar": {
            "outlinewidth": 0,
            "ticks": ""
           }
          },
          "colorscale": {
           "diverging": [
            [
             0,
             "#8e0152"
            ],
            [
             0.1,
             "#c51b7d"
            ],
            [
             0.2,
             "#de77ae"
            ],
            [
             0.3,
             "#f1b6da"
            ],
            [
             0.4,
             "#fde0ef"
            ],
            [
             0.5,
             "#f7f7f7"
            ],
            [
             0.6,
             "#e6f5d0"
            ],
            [
             0.7,
             "#b8e186"
            ],
            [
             0.8,
             "#7fbc41"
            ],
            [
             0.9,
             "#4d9221"
            ],
            [
             1,
             "#276419"
            ]
           ],
           "sequential": [
            [
             0,
             "#0d0887"
            ],
            [
             0.1111111111111111,
             "#46039f"
            ],
            [
             0.2222222222222222,
             "#7201a8"
            ],
            [
             0.3333333333333333,
             "#9c179e"
            ],
            [
             0.4444444444444444,
             "#bd3786"
            ],
            [
             0.5555555555555556,
             "#d8576b"
            ],
            [
             0.6666666666666666,
             "#ed7953"
            ],
            [
             0.7777777777777778,
             "#fb9f3a"
            ],
            [
             0.8888888888888888,
             "#fdca26"
            ],
            [
             1,
             "#f0f921"
            ]
           ],
           "sequentialminus": [
            [
             0,
             "#0d0887"
            ],
            [
             0.1111111111111111,
             "#46039f"
            ],
            [
             0.2222222222222222,
             "#7201a8"
            ],
            [
             0.3333333333333333,
             "#9c179e"
            ],
            [
             0.4444444444444444,
             "#bd3786"
            ],
            [
             0.5555555555555556,
             "#d8576b"
            ],
            [
             0.6666666666666666,
             "#ed7953"
            ],
            [
             0.7777777777777778,
             "#fb9f3a"
            ],
            [
             0.8888888888888888,
             "#fdca26"
            ],
            [
             1,
             "#f0f921"
            ]
           ]
          },
          "colorway": [
           "#636efa",
           "#EF553B",
           "#00cc96",
           "#ab63fa",
           "#FFA15A",
           "#19d3f3",
           "#FF6692",
           "#B6E880",
           "#FF97FF",
           "#FECB52"
          ],
          "font": {
           "color": "#2a3f5f"
          },
          "geo": {
           "bgcolor": "white",
           "lakecolor": "white",
           "landcolor": "#E5ECF6",
           "showlakes": true,
           "showland": true,
           "subunitcolor": "white"
          },
          "hoverlabel": {
           "align": "left"
          },
          "hovermode": "closest",
          "mapbox": {
           "style": "light"
          },
          "paper_bgcolor": "white",
          "plot_bgcolor": "#E5ECF6",
          "polar": {
           "angularaxis": {
            "gridcolor": "white",
            "linecolor": "white",
            "ticks": ""
           },
           "bgcolor": "#E5ECF6",
           "radialaxis": {
            "gridcolor": "white",
            "linecolor": "white",
            "ticks": ""
           }
          },
          "scene": {
           "xaxis": {
            "backgroundcolor": "#E5ECF6",
            "gridcolor": "white",
            "gridwidth": 2,
            "linecolor": "white",
            "showbackground": true,
            "ticks": "",
            "zerolinecolor": "white"
           },
           "yaxis": {
            "backgroundcolor": "#E5ECF6",
            "gridcolor": "white",
            "gridwidth": 2,
            "linecolor": "white",
            "showbackground": true,
            "ticks": "",
            "zerolinecolor": "white"
           },
           "zaxis": {
            "backgroundcolor": "#E5ECF6",
            "gridcolor": "white",
            "gridwidth": 2,
            "linecolor": "white",
            "showbackground": true,
            "ticks": "",
            "zerolinecolor": "white"
           }
          },
          "shapedefaults": {
           "line": {
            "color": "#2a3f5f"
           }
          },
          "ternary": {
           "aaxis": {
            "gridcolor": "white",
            "linecolor": "white",
            "ticks": ""
           },
           "baxis": {
            "gridcolor": "white",
            "linecolor": "white",
            "ticks": ""
           },
           "bgcolor": "#E5ECF6",
           "caxis": {
            "gridcolor": "white",
            "linecolor": "white",
            "ticks": ""
           }
          },
          "title": {
           "x": 0.05
          },
          "xaxis": {
           "automargin": true,
           "gridcolor": "white",
           "linecolor": "white",
           "ticks": "",
           "title": {
            "standoff": 15
           },
           "zerolinecolor": "white",
           "zerolinewidth": 2
          },
          "yaxis": {
           "automargin": true,
           "gridcolor": "white",
           "linecolor": "white",
           "ticks": "",
           "title": {
            "standoff": 15
           },
           "zerolinecolor": "white",
           "zerolinewidth": 2
          }
         }
        },
        "title": {
         "text": "Gene Annotation Visualization of All_clocks_variable_methylated_cpgs Relevant CpGs"
        },
        "width": 1200,
        "xaxis": {
         "anchor": "y",
         "domain": [
          0,
          1
         ]
        },
        "xaxis10": {
         "anchor": "y10",
         "domain": [
          0,
          1
         ]
        },
        "xaxis11": {
         "anchor": "y11",
         "domain": [
          0,
          1
         ]
        },
        "xaxis12": {
         "anchor": "y12",
         "domain": [
          0,
          1
         ]
        },
        "xaxis13": {
         "anchor": "y13",
         "domain": [
          0,
          1
         ]
        },
        "xaxis14": {
         "anchor": "y14",
         "domain": [
          0,
          1
         ]
        },
        "xaxis15": {
         "anchor": "y15",
         "domain": [
          0,
          1
         ]
        },
        "xaxis16": {
         "anchor": "y16",
         "domain": [
          0,
          1
         ]
        },
        "xaxis17": {
         "anchor": "y17",
         "domain": [
          0,
          1
         ]
        },
        "xaxis18": {
         "anchor": "y18",
         "domain": [
          0,
          1
         ]
        },
        "xaxis19": {
         "anchor": "y19",
         "domain": [
          0,
          1
         ]
        },
        "xaxis2": {
         "anchor": "y2",
         "domain": [
          0,
          1
         ]
        },
        "xaxis3": {
         "anchor": "y3",
         "domain": [
          0,
          1
         ]
        },
        "xaxis4": {
         "anchor": "y4",
         "domain": [
          0,
          1
         ]
        },
        "xaxis5": {
         "anchor": "y5",
         "domain": [
          0,
          1
         ]
        },
        "xaxis6": {
         "anchor": "y6",
         "domain": [
          0,
          1
         ]
        },
        "xaxis7": {
         "anchor": "y7",
         "domain": [
          0,
          1
         ]
        },
        "xaxis8": {
         "anchor": "y8",
         "domain": [
          0,
          1
         ]
        },
        "xaxis9": {
         "anchor": "y9",
         "domain": [
          0,
          1
         ]
        },
        "yaxis": {
         "anchor": "x",
         "domain": [
          0.9663157894736841,
          0.9999999999999999
         ],
         "showgrid": false,
         "ticktext": [
          "chr1",
          "chr2",
          "chr3",
          "chr5",
          "chr6",
          "chr7",
          "chr8",
          "chr9",
          "chr10",
          "chr11",
          "chr12",
          "chr13",
          "chr14",
          "chr15",
          "chr16",
          "chr17",
          "chr18",
          "chr19",
          "chr22"
         ],
         "tickvals": [
          1,
          2,
          3,
          4,
          5,
          6,
          7,
          8,
          9,
          10,
          11,
          12,
          13,
          14,
          15,
          16,
          17,
          18,
          19
         ]
        },
        "yaxis10": {
         "anchor": "x10",
         "domain": [
          0.48315789473684206,
          0.5168421052631579
         ],
         "showgrid": false,
         "ticktext": [
          "chr1",
          "chr2",
          "chr3",
          "chr5",
          "chr6",
          "chr7",
          "chr8",
          "chr9",
          "chr10",
          "chr11",
          "chr12",
          "chr13",
          "chr14",
          "chr15",
          "chr16",
          "chr17",
          "chr18",
          "chr19",
          "chr22"
         ],
         "tickvals": [
          1,
          2,
          3,
          4,
          5,
          6,
          7,
          8,
          9,
          10,
          11,
          12,
          13,
          14,
          15,
          16,
          17,
          18,
          19
         ]
        },
        "yaxis11": {
         "anchor": "x11",
         "domain": [
          0.42947368421052634,
          0.4631578947368421
         ],
         "showgrid": false,
         "ticktext": [
          "chr1",
          "chr2",
          "chr3",
          "chr5",
          "chr6",
          "chr7",
          "chr8",
          "chr9",
          "chr10",
          "chr11",
          "chr12",
          "chr13",
          "chr14",
          "chr15",
          "chr16",
          "chr17",
          "chr18",
          "chr19",
          "chr22"
         ],
         "tickvals": [
          1,
          2,
          3,
          4,
          5,
          6,
          7,
          8,
          9,
          10,
          11,
          12,
          13,
          14,
          15,
          16,
          17,
          18,
          19
         ]
        },
        "yaxis12": {
         "anchor": "x12",
         "domain": [
          0.37578947368421056,
          0.4094736842105263
         ],
         "showgrid": false,
         "ticktext": [
          "chr1",
          "chr2",
          "chr3",
          "chr5",
          "chr6",
          "chr7",
          "chr8",
          "chr9",
          "chr10",
          "chr11",
          "chr12",
          "chr13",
          "chr14",
          "chr15",
          "chr16",
          "chr17",
          "chr18",
          "chr19",
          "chr22"
         ],
         "tickvals": [
          1,
          2,
          3,
          4,
          5,
          6,
          7,
          8,
          9,
          10,
          11,
          12,
          13,
          14,
          15,
          16,
          17,
          18,
          19
         ]
        },
        "yaxis13": {
         "anchor": "x13",
         "domain": [
          0.32210526315789473,
          0.35578947368421054
         ],
         "showgrid": false,
         "ticktext": [
          "chr1",
          "chr2",
          "chr3",
          "chr5",
          "chr6",
          "chr7",
          "chr8",
          "chr9",
          "chr10",
          "chr11",
          "chr12",
          "chr13",
          "chr14",
          "chr15",
          "chr16",
          "chr17",
          "chr18",
          "chr19",
          "chr22"
         ],
         "tickvals": [
          1,
          2,
          3,
          4,
          5,
          6,
          7,
          8,
          9,
          10,
          11,
          12,
          13,
          14,
          15,
          16,
          17,
          18,
          19
         ]
        },
        "yaxis14": {
         "anchor": "x14",
         "domain": [
          0.26842105263157895,
          0.30210526315789477
         ],
         "showgrid": false,
         "ticktext": [
          "chr1",
          "chr2",
          "chr3",
          "chr5",
          "chr6",
          "chr7",
          "chr8",
          "chr9",
          "chr10",
          "chr11",
          "chr12",
          "chr13",
          "chr14",
          "chr15",
          "chr16",
          "chr17",
          "chr18",
          "chr19",
          "chr22"
         ],
         "tickvals": [
          1,
          2,
          3,
          4,
          5,
          6,
          7,
          8,
          9,
          10,
          11,
          12,
          13,
          14,
          15,
          16,
          17,
          18,
          19
         ]
        },
        "yaxis15": {
         "anchor": "x15",
         "domain": [
          0.21473684210526317,
          0.24842105263157896
         ],
         "showgrid": false,
         "ticktext": [
          "chr1",
          "chr2",
          "chr3",
          "chr5",
          "chr6",
          "chr7",
          "chr8",
          "chr9",
          "chr10",
          "chr11",
          "chr12",
          "chr13",
          "chr14",
          "chr15",
          "chr16",
          "chr17",
          "chr18",
          "chr19",
          "chr22"
         ],
         "tickvals": [
          1,
          2,
          3,
          4,
          5,
          6,
          7,
          8,
          9,
          10,
          11,
          12,
          13,
          14,
          15,
          16,
          17,
          18,
          19
         ]
        },
        "yaxis16": {
         "anchor": "x16",
         "domain": [
          0.16105263157894736,
          0.19473684210526315
         ],
         "showgrid": false,
         "ticktext": [
          "chr1",
          "chr2",
          "chr3",
          "chr5",
          "chr6",
          "chr7",
          "chr8",
          "chr9",
          "chr10",
          "chr11",
          "chr12",
          "chr13",
          "chr14",
          "chr15",
          "chr16",
          "chr17",
          "chr18",
          "chr19",
          "chr22"
         ],
         "tickvals": [
          1,
          2,
          3,
          4,
          5,
          6,
          7,
          8,
          9,
          10,
          11,
          12,
          13,
          14,
          15,
          16,
          17,
          18,
          19
         ]
        },
        "yaxis17": {
         "anchor": "x17",
         "domain": [
          0.10736842105263159,
          0.14105263157894737
         ],
         "showgrid": false,
         "ticktext": [
          "chr1",
          "chr2",
          "chr3",
          "chr5",
          "chr6",
          "chr7",
          "chr8",
          "chr9",
          "chr10",
          "chr11",
          "chr12",
          "chr13",
          "chr14",
          "chr15",
          "chr16",
          "chr17",
          "chr18",
          "chr19",
          "chr22"
         ],
         "tickvals": [
          1,
          2,
          3,
          4,
          5,
          6,
          7,
          8,
          9,
          10,
          11,
          12,
          13,
          14,
          15,
          16,
          17,
          18,
          19
         ]
        },
        "yaxis18": {
         "anchor": "x18",
         "domain": [
          0.05368421052631579,
          0.08736842105263158
         ],
         "showgrid": false,
         "ticktext": [
          "chr1",
          "chr2",
          "chr3",
          "chr5",
          "chr6",
          "chr7",
          "chr8",
          "chr9",
          "chr10",
          "chr11",
          "chr12",
          "chr13",
          "chr14",
          "chr15",
          "chr16",
          "chr17",
          "chr18",
          "chr19",
          "chr22"
         ],
         "tickvals": [
          1,
          2,
          3,
          4,
          5,
          6,
          7,
          8,
          9,
          10,
          11,
          12,
          13,
          14,
          15,
          16,
          17,
          18,
          19
         ]
        },
        "yaxis19": {
         "anchor": "x19",
         "domain": [
          0,
          0.03368421052631579
         ],
         "showgrid": false,
         "ticktext": [
          "chr1",
          "chr2",
          "chr3",
          "chr5",
          "chr6",
          "chr7",
          "chr8",
          "chr9",
          "chr10",
          "chr11",
          "chr12",
          "chr13",
          "chr14",
          "chr15",
          "chr16",
          "chr17",
          "chr18",
          "chr19",
          "chr22"
         ],
         "tickvals": [
          1,
          2,
          3,
          4,
          5,
          6,
          7,
          8,
          9,
          10,
          11,
          12,
          13,
          14,
          15,
          16,
          17,
          18,
          19
         ]
        },
        "yaxis2": {
         "anchor": "x2",
         "domain": [
          0.9126315789473685,
          0.9463157894736842
         ],
         "showgrid": false,
         "ticktext": [
          "chr1",
          "chr2",
          "chr3",
          "chr5",
          "chr6",
          "chr7",
          "chr8",
          "chr9",
          "chr10",
          "chr11",
          "chr12",
          "chr13",
          "chr14",
          "chr15",
          "chr16",
          "chr17",
          "chr18",
          "chr19",
          "chr22"
         ],
         "tickvals": [
          1,
          2,
          3,
          4,
          5,
          6,
          7,
          8,
          9,
          10,
          11,
          12,
          13,
          14,
          15,
          16,
          17,
          18,
          19
         ]
        },
        "yaxis3": {
         "anchor": "x3",
         "domain": [
          0.8589473684210527,
          0.8926315789473684
         ],
         "showgrid": false,
         "ticktext": [
          "chr1",
          "chr2",
          "chr3",
          "chr5",
          "chr6",
          "chr7",
          "chr8",
          "chr9",
          "chr10",
          "chr11",
          "chr12",
          "chr13",
          "chr14",
          "chr15",
          "chr16",
          "chr17",
          "chr18",
          "chr19",
          "chr22"
         ],
         "tickvals": [
          1,
          2,
          3,
          4,
          5,
          6,
          7,
          8,
          9,
          10,
          11,
          12,
          13,
          14,
          15,
          16,
          17,
          18,
          19
         ]
        },
        "yaxis4": {
         "anchor": "x4",
         "domain": [
          0.8052631578947369,
          0.8389473684210527
         ],
         "showgrid": false,
         "ticktext": [
          "chr1",
          "chr2",
          "chr3",
          "chr5",
          "chr6",
          "chr7",
          "chr8",
          "chr9",
          "chr10",
          "chr11",
          "chr12",
          "chr13",
          "chr14",
          "chr15",
          "chr16",
          "chr17",
          "chr18",
          "chr19",
          "chr22"
         ],
         "tickvals": [
          1,
          2,
          3,
          4,
          5,
          6,
          7,
          8,
          9,
          10,
          11,
          12,
          13,
          14,
          15,
          16,
          17,
          18,
          19
         ]
        },
        "yaxis5": {
         "anchor": "x5",
         "domain": [
          0.7515789473684211,
          0.7852631578947369
         ],
         "showgrid": false,
         "ticktext": [
          "chr1",
          "chr2",
          "chr3",
          "chr5",
          "chr6",
          "chr7",
          "chr8",
          "chr9",
          "chr10",
          "chr11",
          "chr12",
          "chr13",
          "chr14",
          "chr15",
          "chr16",
          "chr17",
          "chr18",
          "chr19",
          "chr22"
         ],
         "tickvals": [
          1,
          2,
          3,
          4,
          5,
          6,
          7,
          8,
          9,
          10,
          11,
          12,
          13,
          14,
          15,
          16,
          17,
          18,
          19
         ]
        },
        "yaxis6": {
         "anchor": "x6",
         "domain": [
          0.6978947368421052,
          0.731578947368421
         ],
         "showgrid": false,
         "ticktext": [
          "chr1",
          "chr2",
          "chr3",
          "chr5",
          "chr6",
          "chr7",
          "chr8",
          "chr9",
          "chr10",
          "chr11",
          "chr12",
          "chr13",
          "chr14",
          "chr15",
          "chr16",
          "chr17",
          "chr18",
          "chr19",
          "chr22"
         ],
         "tickvals": [
          1,
          2,
          3,
          4,
          5,
          6,
          7,
          8,
          9,
          10,
          11,
          12,
          13,
          14,
          15,
          16,
          17,
          18,
          19
         ]
        },
        "yaxis7": {
         "anchor": "x7",
         "domain": [
          0.6442105263157895,
          0.6778947368421052
         ],
         "showgrid": false,
         "ticktext": [
          "chr1",
          "chr2",
          "chr3",
          "chr5",
          "chr6",
          "chr7",
          "chr8",
          "chr9",
          "chr10",
          "chr11",
          "chr12",
          "chr13",
          "chr14",
          "chr15",
          "chr16",
          "chr17",
          "chr18",
          "chr19",
          "chr22"
         ],
         "tickvals": [
          1,
          2,
          3,
          4,
          5,
          6,
          7,
          8,
          9,
          10,
          11,
          12,
          13,
          14,
          15,
          16,
          17,
          18,
          19
         ]
        },
        "yaxis8": {
         "anchor": "x8",
         "domain": [
          0.5905263157894737,
          0.6242105263157894
         ],
         "showgrid": false,
         "ticktext": [
          "chr1",
          "chr2",
          "chr3",
          "chr5",
          "chr6",
          "chr7",
          "chr8",
          "chr9",
          "chr10",
          "chr11",
          "chr12",
          "chr13",
          "chr14",
          "chr15",
          "chr16",
          "chr17",
          "chr18",
          "chr19",
          "chr22"
         ],
         "tickvals": [
          1,
          2,
          3,
          4,
          5,
          6,
          7,
          8,
          9,
          10,
          11,
          12,
          13,
          14,
          15,
          16,
          17,
          18,
          19
         ]
        },
        "yaxis9": {
         "anchor": "x9",
         "domain": [
          0.5368421052631579,
          0.5705263157894737
         ],
         "showgrid": false,
         "ticktext": [
          "chr1",
          "chr2",
          "chr3",
          "chr5",
          "chr6",
          "chr7",
          "chr8",
          "chr9",
          "chr10",
          "chr11",
          "chr12",
          "chr13",
          "chr14",
          "chr15",
          "chr16",
          "chr17",
          "chr18",
          "chr19",
          "chr22"
         ],
         "tickvals": [
          1,
          2,
          3,
          4,
          5,
          6,
          7,
          8,
          9,
          10,
          11,
          12,
          13,
          14,
          15,
          16,
          17,
          18,
          19
         ]
        }
       }
      }
     },
     "metadata": {},
     "output_type": "display_data"
    },
    {
     "data": {
      "application/vnd.plotly.v1+json": {
       "config": {
        "plotlyServerURL": "https://plot.ly"
       },
       "data": [
        {
         "hoverinfo": "text",
         "hovertext": [
          "cg27228973<br>FOXO6-AS1<br>Intergenic_upstream<br>41404380.0"
         ],
         "marker": {
          "color": [
           "#fde725"
          ],
          "line": {
           "color": "black",
           "width": 0.5
          },
          "size": 10,
          "symbol": "square"
         },
         "mode": "markers+text",
         "showlegend": false,
         "text": [
          "FOXO6-AS1"
         ],
         "textfont": {
          "color": "black",
          "size": 10
         },
         "textposition": "top center",
         "type": "scatter",
         "x": [
          41404380
         ],
         "xaxis": "x",
         "y": [
          1
         ],
         "yaxis": "y"
        },
        {
         "hoverinfo": "text",
         "hovertext": [
          "cg14361875<br>LINC01812<br>Intergenic_upstream<br>67846376.0",
          "cg11235379<br>TBR1<br>Exon<br>161417813.0"
         ],
         "marker": {
          "color": [
           "#fde725",
           "#414487"
          ],
          "line": {
           "color": "black",
           "width": 0.5
          },
          "size": 10,
          "symbol": "square"
         },
         "mode": "markers+text",
         "showlegend": false,
         "text": [
          "LINC01812",
          "TBR1"
         ],
         "textfont": {
          "color": "black",
          "size": 10
         },
         "textposition": "top center",
         "type": "scatter",
         "x": [
          67846376,
          161417813
         ],
         "xaxis": "x2",
         "y": [
          2,
          2
         ],
         "yaxis": "y2"
        },
        {
         "hoverinfo": "text",
         "hovertext": [
          "cg11084334<br>LHFPL4<br>Exon<br>9552580.0",
          "cg08938156<br>LOC440982<br>fiveUTR<br>147409417.0",
          "cg19981759<br>LOC440982<br>fiveUTR<br>147409413.0",
          "cg05844902<br>SLC9A9<br>Exon<br>143848183.0"
         ],
         "marker": {
          "color": [
           "#414487",
           "#7ad151",
           "#7ad151",
           "#414487"
          ],
          "line": {
           "color": "black",
           "width": 0.5
          },
          "size": 10,
          "symbol": "square"
         },
         "mode": "markers+text",
         "showlegend": false,
         "text": [
          "LHFPL4",
          "LOC440982",
          "LOC440982",
          "SLC9A9"
         ],
         "textfont": {
          "color": "black",
          "size": 10
         },
         "textposition": "top center",
         "type": "scatter",
         "x": [
          9552580,
          147409417,
          147409413,
          143848183
         ],
         "xaxis": "x3",
         "y": [
          3,
          3,
          3,
          3
         ],
         "yaxis": "y3"
        },
        {
         "hoverinfo": "text",
         "hovertext": [
          "cg07875786<br>NR2F1<br>fiveUTR<br>93583221.0"
         ],
         "marker": {
          "color": [
           "#7ad151"
          ],
          "line": {
           "color": "black",
           "width": 0.5
          },
          "size": 10,
          "symbol": "square"
         },
         "mode": "markers+text",
         "showlegend": false,
         "text": [
          "NR2F1"
         ],
         "textfont": {
          "color": "black",
          "size": 10
         },
         "textposition": "top center",
         "type": "scatter",
         "x": [
          93583221
         ],
         "xaxis": "x4",
         "y": [
          4
         ],
         "yaxis": "y4"
        },
        {
         "hoverinfo": "text",
         "hovertext": [
          "cg07323940<br>DGKB<br>Intron<br>14197482.0",
          "cg13188467<br>DLX6-AS1<br>Intron<br>96998781.0",
          "cg11516694<br>HOXA-AS3<br>Intron<br>27147848.0"
         ],
         "marker": {
          "color": [
           "#440154",
           "#440154",
           "#440154"
          ],
          "line": {
           "color": "black",
           "width": 0.5
          },
          "size": 10,
          "symbol": "square"
         },
         "mode": "markers+text",
         "showlegend": false,
         "text": [
          "DGKB",
          "DLX6-AS1",
          "HOXA-AS3"
         ],
         "textfont": {
          "color": "black",
          "size": 10
         },
         "textposition": "top center",
         "type": "scatter",
         "x": [
          14197482,
          96998781,
          27147848
         ],
         "xaxis": "x5",
         "y": [
          5,
          5,
          5
         ],
         "yaxis": "y5"
        },
        {
         "hoverinfo": "text",
         "hovertext": [
          "cg15437942<br>LHX2<br>Intron<br>124018172.0",
          "cg23510032<br>SMARCA2<br>Exon<br>2159889.0"
         ],
         "marker": {
          "color": [
           "#440154",
           "#414487"
          ],
          "line": {
           "color": "black",
           "width": 0.5
          },
          "size": 10,
          "symbol": "square"
         },
         "mode": "markers+text",
         "showlegend": false,
         "text": [
          "LHX2",
          "SMARCA2"
         ],
         "textfont": {
          "color": "black",
          "size": 10
         },
         "textposition": "top center",
         "type": "scatter",
         "x": [
          124018172,
          2159889
         ],
         "xaxis": "x6",
         "y": [
          6,
          6
         ],
         "yaxis": "y6"
        },
        {
         "hoverinfo": "text",
         "hovertext": [
          "cg27201382<br>BDNF<br>fiveUTR<br>27720483.0"
         ],
         "marker": {
          "color": [
           "#7ad151"
          ],
          "line": {
           "color": "black",
           "width": 0.5
          },
          "size": 10,
          "symbol": "square"
         },
         "mode": "markers+text",
         "showlegend": false,
         "text": [
          "BDNF"
         ],
         "textfont": {
          "color": "black",
          "size": 10
         },
         "textposition": "top center",
         "type": "scatter",
         "x": [
          27720483
         ],
         "xaxis": "x7",
         "y": [
          7
         ],
         "yaxis": "y7"
        },
        {
         "hoverinfo": "text",
         "hovertext": [
          "cg23415880<br>GSX1<br>Promoter<br>27792287.0"
         ],
         "marker": {
          "color": [
           "#355f8d"
          ],
          "line": {
           "color": "black",
           "width": 0.5
          },
          "size": 10,
          "symbol": "square"
         },
         "mode": "markers+text",
         "showlegend": false,
         "text": [
          "GSX1"
         ],
         "textfont": {
          "color": "black",
          "size": 10
         },
         "textposition": "top center",
         "type": "scatter",
         "x": [
          27792287
         ],
         "xaxis": "x8",
         "y": [
          8
         ],
         "yaxis": "y8"
        },
        {
         "hoverinfo": "text",
         "hovertext": [
          "cg23087015<br>CELF6<br>threeUTR<br>72319625.0"
         ],
         "marker": {
          "color": [
           "#21918c"
          ],
          "line": {
           "color": "black",
           "width": 0.5
          },
          "size": 10,
          "symbol": "square"
         },
         "mode": "markers+text",
         "showlegend": false,
         "text": [
          "CELF6"
         ],
         "textfont": {
          "color": "black",
          "size": 10
         },
         "textposition": "top center",
         "type": "scatter",
         "x": [
          72319625
         ],
         "xaxis": "x9",
         "y": [
          9
         ],
         "yaxis": "y9"
        },
        {
         "hoverinfo": "text",
         "hovertext": [
          "cg26072749<br>HOXB3<br>Exon<br>48579912.0"
         ],
         "marker": {
          "color": [
           "#414487"
          ],
          "line": {
           "color": "black",
           "width": 0.5
          },
          "size": 10,
          "symbol": "square"
         },
         "mode": "markers+text",
         "showlegend": false,
         "text": [
          "HOXB3"
         ],
         "textfont": {
          "color": "black",
          "size": 10
         },
         "textposition": "top center",
         "type": "scatter",
         "x": [
          48579912
         ],
         "xaxis": "x10",
         "y": [
          10
         ],
         "yaxis": "y10"
        },
        {
         "legendgroup": "Intron",
         "marker": {
          "color": "#440154",
          "size": 10,
          "symbol": "square"
         },
         "mode": "markers",
         "name": "Intron",
         "showlegend": true,
         "type": "scatter",
         "x": [
          null
         ],
         "y": [
          null
         ]
        },
        {
         "legendgroup": "Exon",
         "marker": {
          "color": "#414487",
          "size": 10,
          "symbol": "square"
         },
         "mode": "markers",
         "name": "Exon",
         "showlegend": true,
         "type": "scatter",
         "x": [
          null
         ],
         "y": [
          null
         ]
        },
        {
         "legendgroup": "Promoter",
         "marker": {
          "color": "#355f8d",
          "size": 10,
          "symbol": "square"
         },
         "mode": "markers",
         "name": "Promoter",
         "showlegend": true,
         "type": "scatter",
         "x": [
          null
         ],
         "y": [
          null
         ]
        },
        {
         "legendgroup": "threeUTR",
         "marker": {
          "color": "#21918c",
          "size": 10,
          "symbol": "square"
         },
         "mode": "markers",
         "name": "threeUTR",
         "showlegend": true,
         "type": "scatter",
         "x": [
          null
         ],
         "y": [
          null
         ]
        },
        {
         "legendgroup": "Intergenic_downstream",
         "marker": {
          "color": "#44bf70",
          "size": 10,
          "symbol": "square"
         },
         "mode": "markers",
         "name": "Intergenic_downstream",
         "showlegend": true,
         "type": "scatter",
         "x": [
          null
         ],
         "y": [
          null
         ]
        },
        {
         "legendgroup": "fiveUTR",
         "marker": {
          "color": "#7ad151",
          "size": 10,
          "symbol": "square"
         },
         "mode": "markers",
         "name": "fiveUTR",
         "showlegend": true,
         "type": "scatter",
         "x": [
          null
         ],
         "y": [
          null
         ]
        },
        {
         "legendgroup": "Intergenic_upstream",
         "marker": {
          "color": "#fde725",
          "size": 10,
          "symbol": "square"
         },
         "mode": "markers",
         "name": "Intergenic_upstream",
         "showlegend": true,
         "type": "scatter",
         "x": [
          null
         ],
         "y": [
          null
         ]
        }
       ],
       "layout": {
        "height": 1000,
        "hovermode": "closest",
        "showlegend": true,
        "template": {
         "data": {
          "bar": [
           {
            "error_x": {
             "color": "#2a3f5f"
            },
            "error_y": {
             "color": "#2a3f5f"
            },
            "marker": {
             "line": {
              "color": "#E5ECF6",
              "width": 0.5
             },
             "pattern": {
              "fillmode": "overlay",
              "size": 10,
              "solidity": 0.2
             }
            },
            "type": "bar"
           }
          ],
          "barpolar": [
           {
            "marker": {
             "line": {
              "color": "#E5ECF6",
              "width": 0.5
             },
             "pattern": {
              "fillmode": "overlay",
              "size": 10,
              "solidity": 0.2
             }
            },
            "type": "barpolar"
           }
          ],
          "carpet": [
           {
            "aaxis": {
             "endlinecolor": "#2a3f5f",
             "gridcolor": "white",
             "linecolor": "white",
             "minorgridcolor": "white",
             "startlinecolor": "#2a3f5f"
            },
            "baxis": {
             "endlinecolor": "#2a3f5f",
             "gridcolor": "white",
             "linecolor": "white",
             "minorgridcolor": "white",
             "startlinecolor": "#2a3f5f"
            },
            "type": "carpet"
           }
          ],
          "choropleth": [
           {
            "colorbar": {
             "outlinewidth": 0,
             "ticks": ""
            },
            "type": "choropleth"
           }
          ],
          "contour": [
           {
            "colorbar": {
             "outlinewidth": 0,
             "ticks": ""
            },
            "colorscale": [
             [
              0,
              "#0d0887"
             ],
             [
              0.1111111111111111,
              "#46039f"
             ],
             [
              0.2222222222222222,
              "#7201a8"
             ],
             [
              0.3333333333333333,
              "#9c179e"
             ],
             [
              0.4444444444444444,
              "#bd3786"
             ],
             [
              0.5555555555555556,
              "#d8576b"
             ],
             [
              0.6666666666666666,
              "#ed7953"
             ],
             [
              0.7777777777777778,
              "#fb9f3a"
             ],
             [
              0.8888888888888888,
              "#fdca26"
             ],
             [
              1,
              "#f0f921"
             ]
            ],
            "type": "contour"
           }
          ],
          "contourcarpet": [
           {
            "colorbar": {
             "outlinewidth": 0,
             "ticks": ""
            },
            "type": "contourcarpet"
           }
          ],
          "heatmap": [
           {
            "colorbar": {
             "outlinewidth": 0,
             "ticks": ""
            },
            "colorscale": [
             [
              0,
              "#0d0887"
             ],
             [
              0.1111111111111111,
              "#46039f"
             ],
             [
              0.2222222222222222,
              "#7201a8"
             ],
             [
              0.3333333333333333,
              "#9c179e"
             ],
             [
              0.4444444444444444,
              "#bd3786"
             ],
             [
              0.5555555555555556,
              "#d8576b"
             ],
             [
              0.6666666666666666,
              "#ed7953"
             ],
             [
              0.7777777777777778,
              "#fb9f3a"
             ],
             [
              0.8888888888888888,
              "#fdca26"
             ],
             [
              1,
              "#f0f921"
             ]
            ],
            "type": "heatmap"
           }
          ],
          "heatmapgl": [
           {
            "colorbar": {
             "outlinewidth": 0,
             "ticks": ""
            },
            "colorscale": [
             [
              0,
              "#0d0887"
             ],
             [
              0.1111111111111111,
              "#46039f"
             ],
             [
              0.2222222222222222,
              "#7201a8"
             ],
             [
              0.3333333333333333,
              "#9c179e"
             ],
             [
              0.4444444444444444,
              "#bd3786"
             ],
             [
              0.5555555555555556,
              "#d8576b"
             ],
             [
              0.6666666666666666,
              "#ed7953"
             ],
             [
              0.7777777777777778,
              "#fb9f3a"
             ],
             [
              0.8888888888888888,
              "#fdca26"
             ],
             [
              1,
              "#f0f921"
             ]
            ],
            "type": "heatmapgl"
           }
          ],
          "histogram": [
           {
            "marker": {
             "pattern": {
              "fillmode": "overlay",
              "size": 10,
              "solidity": 0.2
             }
            },
            "type": "histogram"
           }
          ],
          "histogram2d": [
           {
            "colorbar": {
             "outlinewidth": 0,
             "ticks": ""
            },
            "colorscale": [
             [
              0,
              "#0d0887"
             ],
             [
              0.1111111111111111,
              "#46039f"
             ],
             [
              0.2222222222222222,
              "#7201a8"
             ],
             [
              0.3333333333333333,
              "#9c179e"
             ],
             [
              0.4444444444444444,
              "#bd3786"
             ],
             [
              0.5555555555555556,
              "#d8576b"
             ],
             [
              0.6666666666666666,
              "#ed7953"
             ],
             [
              0.7777777777777778,
              "#fb9f3a"
             ],
             [
              0.8888888888888888,
              "#fdca26"
             ],
             [
              1,
              "#f0f921"
             ]
            ],
            "type": "histogram2d"
           }
          ],
          "histogram2dcontour": [
           {
            "colorbar": {
             "outlinewidth": 0,
             "ticks": ""
            },
            "colorscale": [
             [
              0,
              "#0d0887"
             ],
             [
              0.1111111111111111,
              "#46039f"
             ],
             [
              0.2222222222222222,
              "#7201a8"
             ],
             [
              0.3333333333333333,
              "#9c179e"
             ],
             [
              0.4444444444444444,
              "#bd3786"
             ],
             [
              0.5555555555555556,
              "#d8576b"
             ],
             [
              0.6666666666666666,
              "#ed7953"
             ],
             [
              0.7777777777777778,
              "#fb9f3a"
             ],
             [
              0.8888888888888888,
              "#fdca26"
             ],
             [
              1,
              "#f0f921"
             ]
            ],
            "type": "histogram2dcontour"
           }
          ],
          "mesh3d": [
           {
            "colorbar": {
             "outlinewidth": 0,
             "ticks": ""
            },
            "type": "mesh3d"
           }
          ],
          "parcoords": [
           {
            "line": {
             "colorbar": {
              "outlinewidth": 0,
              "ticks": ""
             }
            },
            "type": "parcoords"
           }
          ],
          "pie": [
           {
            "automargin": true,
            "type": "pie"
           }
          ],
          "scatter": [
           {
            "fillpattern": {
             "fillmode": "overlay",
             "size": 10,
             "solidity": 0.2
            },
            "type": "scatter"
           }
          ],
          "scatter3d": [
           {
            "line": {
             "colorbar": {
              "outlinewidth": 0,
              "ticks": ""
             }
            },
            "marker": {
             "colorbar": {
              "outlinewidth": 0,
              "ticks": ""
             }
            },
            "type": "scatter3d"
           }
          ],
          "scattercarpet": [
           {
            "marker": {
             "colorbar": {
              "outlinewidth": 0,
              "ticks": ""
             }
            },
            "type": "scattercarpet"
           }
          ],
          "scattergeo": [
           {
            "marker": {
             "colorbar": {
              "outlinewidth": 0,
              "ticks": ""
             }
            },
            "type": "scattergeo"
           }
          ],
          "scattergl": [
           {
            "marker": {
             "colorbar": {
              "outlinewidth": 0,
              "ticks": ""
             }
            },
            "type": "scattergl"
           }
          ],
          "scattermapbox": [
           {
            "marker": {
             "colorbar": {
              "outlinewidth": 0,
              "ticks": ""
             }
            },
            "type": "scattermapbox"
           }
          ],
          "scatterpolar": [
           {
            "marker": {
             "colorbar": {
              "outlinewidth": 0,
              "ticks": ""
             }
            },
            "type": "scatterpolar"
           }
          ],
          "scatterpolargl": [
           {
            "marker": {
             "colorbar": {
              "outlinewidth": 0,
              "ticks": ""
             }
            },
            "type": "scatterpolargl"
           }
          ],
          "scatterternary": [
           {
            "marker": {
             "colorbar": {
              "outlinewidth": 0,
              "ticks": ""
             }
            },
            "type": "scatterternary"
           }
          ],
          "surface": [
           {
            "colorbar": {
             "outlinewidth": 0,
             "ticks": ""
            },
            "colorscale": [
             [
              0,
              "#0d0887"
             ],
             [
              0.1111111111111111,
              "#46039f"
             ],
             [
              0.2222222222222222,
              "#7201a8"
             ],
             [
              0.3333333333333333,
              "#9c179e"
             ],
             [
              0.4444444444444444,
              "#bd3786"
             ],
             [
              0.5555555555555556,
              "#d8576b"
             ],
             [
              0.6666666666666666,
              "#ed7953"
             ],
             [
              0.7777777777777778,
              "#fb9f3a"
             ],
             [
              0.8888888888888888,
              "#fdca26"
             ],
             [
              1,
              "#f0f921"
             ]
            ],
            "type": "surface"
           }
          ],
          "table": [
           {
            "cells": {
             "fill": {
              "color": "#EBF0F8"
             },
             "line": {
              "color": "white"
             }
            },
            "header": {
             "fill": {
              "color": "#C8D4E3"
             },
             "line": {
              "color": "white"
             }
            },
            "type": "table"
           }
          ]
         },
         "layout": {
          "annotationdefaults": {
           "arrowcolor": "#2a3f5f",
           "arrowhead": 0,
           "arrowwidth": 1
          },
          "autotypenumbers": "strict",
          "coloraxis": {
           "colorbar": {
            "outlinewidth": 0,
            "ticks": ""
           }
          },
          "colorscale": {
           "diverging": [
            [
             0,
             "#8e0152"
            ],
            [
             0.1,
             "#c51b7d"
            ],
            [
             0.2,
             "#de77ae"
            ],
            [
             0.3,
             "#f1b6da"
            ],
            [
             0.4,
             "#fde0ef"
            ],
            [
             0.5,
             "#f7f7f7"
            ],
            [
             0.6,
             "#e6f5d0"
            ],
            [
             0.7,
             "#b8e186"
            ],
            [
             0.8,
             "#7fbc41"
            ],
            [
             0.9,
             "#4d9221"
            ],
            [
             1,
             "#276419"
            ]
           ],
           "sequential": [
            [
             0,
             "#0d0887"
            ],
            [
             0.1111111111111111,
             "#46039f"
            ],
            [
             0.2222222222222222,
             "#7201a8"
            ],
            [
             0.3333333333333333,
             "#9c179e"
            ],
            [
             0.4444444444444444,
             "#bd3786"
            ],
            [
             0.5555555555555556,
             "#d8576b"
            ],
            [
             0.6666666666666666,
             "#ed7953"
            ],
            [
             0.7777777777777778,
             "#fb9f3a"
            ],
            [
             0.8888888888888888,
             "#fdca26"
            ],
            [
             1,
             "#f0f921"
            ]
           ],
           "sequentialminus": [
            [
             0,
             "#0d0887"
            ],
            [
             0.1111111111111111,
             "#46039f"
            ],
            [
             0.2222222222222222,
             "#7201a8"
            ],
            [
             0.3333333333333333,
             "#9c179e"
            ],
            [
             0.4444444444444444,
             "#bd3786"
            ],
            [
             0.5555555555555556,
             "#d8576b"
            ],
            [
             0.6666666666666666,
             "#ed7953"
            ],
            [
             0.7777777777777778,
             "#fb9f3a"
            ],
            [
             0.8888888888888888,
             "#fdca26"
            ],
            [
             1,
             "#f0f921"
            ]
           ]
          },
          "colorway": [
           "#636efa",
           "#EF553B",
           "#00cc96",
           "#ab63fa",
           "#FFA15A",
           "#19d3f3",
           "#FF6692",
           "#B6E880",
           "#FF97FF",
           "#FECB52"
          ],
          "font": {
           "color": "#2a3f5f"
          },
          "geo": {
           "bgcolor": "white",
           "lakecolor": "white",
           "landcolor": "#E5ECF6",
           "showlakes": true,
           "showland": true,
           "subunitcolor": "white"
          },
          "hoverlabel": {
           "align": "left"
          },
          "hovermode": "closest",
          "mapbox": {
           "style": "light"
          },
          "paper_bgcolor": "white",
          "plot_bgcolor": "#E5ECF6",
          "polar": {
           "angularaxis": {
            "gridcolor": "white",
            "linecolor": "white",
            "ticks": ""
           },
           "bgcolor": "#E5ECF6",
           "radialaxis": {
            "gridcolor": "white",
            "linecolor": "white",
            "ticks": ""
           }
          },
          "scene": {
           "xaxis": {
            "backgroundcolor": "#E5ECF6",
            "gridcolor": "white",
            "gridwidth": 2,
            "linecolor": "white",
            "showbackground": true,
            "ticks": "",
            "zerolinecolor": "white"
           },
           "yaxis": {
            "backgroundcolor": "#E5ECF6",
            "gridcolor": "white",
            "gridwidth": 2,
            "linecolor": "white",
            "showbackground": true,
            "ticks": "",
            "zerolinecolor": "white"
           },
           "zaxis": {
            "backgroundcolor": "#E5ECF6",
            "gridcolor": "white",
            "gridwidth": 2,
            "linecolor": "white",
            "showbackground": true,
            "ticks": "",
            "zerolinecolor": "white"
           }
          },
          "shapedefaults": {
           "line": {
            "color": "#2a3f5f"
           }
          },
          "ternary": {
           "aaxis": {
            "gridcolor": "white",
            "linecolor": "white",
            "ticks": ""
           },
           "baxis": {
            "gridcolor": "white",
            "linecolor": "white",
            "ticks": ""
           },
           "bgcolor": "#E5ECF6",
           "caxis": {
            "gridcolor": "white",
            "linecolor": "white",
            "ticks": ""
           }
          },
          "title": {
           "x": 0.05
          },
          "xaxis": {
           "automargin": true,
           "gridcolor": "white",
           "linecolor": "white",
           "ticks": "",
           "title": {
            "standoff": 15
           },
           "zerolinecolor": "white",
           "zerolinewidth": 2
          },
          "yaxis": {
           "automargin": true,
           "gridcolor": "white",
           "linecolor": "white",
           "ticks": "",
           "title": {
            "standoff": 15
           },
           "zerolinecolor": "white",
           "zerolinewidth": 2
          }
         }
        },
        "title": {
         "text": "Gene Annotation Visualization of Anova_all_clocks_significant_cpgs Relevant CpGs"
        },
        "width": 1200,
        "xaxis": {
         "anchor": "y",
         "domain": [
          0,
          1
         ]
        },
        "xaxis10": {
         "anchor": "y10",
         "domain": [
          0,
          1
         ]
        },
        "xaxis2": {
         "anchor": "y2",
         "domain": [
          0,
          1
         ]
        },
        "xaxis3": {
         "anchor": "y3",
         "domain": [
          0,
          1
         ]
        },
        "xaxis4": {
         "anchor": "y4",
         "domain": [
          0,
          1
         ]
        },
        "xaxis5": {
         "anchor": "y5",
         "domain": [
          0,
          1
         ]
        },
        "xaxis6": {
         "anchor": "y6",
         "domain": [
          0,
          1
         ]
        },
        "xaxis7": {
         "anchor": "y7",
         "domain": [
          0,
          1
         ]
        },
        "xaxis8": {
         "anchor": "y8",
         "domain": [
          0,
          1
         ]
        },
        "xaxis9": {
         "anchor": "y9",
         "domain": [
          0,
          1
         ]
        },
        "yaxis": {
         "anchor": "x",
         "domain": [
          0.9179999999999999,
          0.9999999999999999
         ],
         "showgrid": false,
         "ticktext": [
          "chr1",
          "chr2",
          "chr3",
          "chr5",
          "chr7",
          "chr9",
          "chr11",
          "chr13",
          "chr15",
          "chr17"
         ],
         "tickvals": [
          1,
          2,
          3,
          4,
          5,
          6,
          7,
          8,
          9,
          10
         ]
        },
        "yaxis10": {
         "anchor": "x10",
         "domain": [
          0,
          0.082
         ],
         "showgrid": false,
         "ticktext": [
          "chr1",
          "chr2",
          "chr3",
          "chr5",
          "chr7",
          "chr9",
          "chr11",
          "chr13",
          "chr15",
          "chr17"
         ],
         "tickvals": [
          1,
          2,
          3,
          4,
          5,
          6,
          7,
          8,
          9,
          10
         ]
        },
        "yaxis2": {
         "anchor": "x2",
         "domain": [
          0.8160000000000001,
          0.898
         ],
         "showgrid": false,
         "ticktext": [
          "chr1",
          "chr2",
          "chr3",
          "chr5",
          "chr7",
          "chr9",
          "chr11",
          "chr13",
          "chr15",
          "chr17"
         ],
         "tickvals": [
          1,
          2,
          3,
          4,
          5,
          6,
          7,
          8,
          9,
          10
         ]
        },
        "yaxis3": {
         "anchor": "x3",
         "domain": [
          0.7140000000000001,
          0.796
         ],
         "showgrid": false,
         "ticktext": [
          "chr1",
          "chr2",
          "chr3",
          "chr5",
          "chr7",
          "chr9",
          "chr11",
          "chr13",
          "chr15",
          "chr17"
         ],
         "tickvals": [
          1,
          2,
          3,
          4,
          5,
          6,
          7,
          8,
          9,
          10
         ]
        },
        "yaxis4": {
         "anchor": "x4",
         "domain": [
          0.612,
          0.694
         ],
         "showgrid": false,
         "ticktext": [
          "chr1",
          "chr2",
          "chr3",
          "chr5",
          "chr7",
          "chr9",
          "chr11",
          "chr13",
          "chr15",
          "chr17"
         ],
         "tickvals": [
          1,
          2,
          3,
          4,
          5,
          6,
          7,
          8,
          9,
          10
         ]
        },
        "yaxis5": {
         "anchor": "x5",
         "domain": [
          0.51,
          0.592
         ],
         "showgrid": false,
         "ticktext": [
          "chr1",
          "chr2",
          "chr3",
          "chr5",
          "chr7",
          "chr9",
          "chr11",
          "chr13",
          "chr15",
          "chr17"
         ],
         "tickvals": [
          1,
          2,
          3,
          4,
          5,
          6,
          7,
          8,
          9,
          10
         ]
        },
        "yaxis6": {
         "anchor": "x6",
         "domain": [
          0.40800000000000003,
          0.49000000000000005
         ],
         "showgrid": false,
         "ticktext": [
          "chr1",
          "chr2",
          "chr3",
          "chr5",
          "chr7",
          "chr9",
          "chr11",
          "chr13",
          "chr15",
          "chr17"
         ],
         "tickvals": [
          1,
          2,
          3,
          4,
          5,
          6,
          7,
          8,
          9,
          10
         ]
        },
        "yaxis7": {
         "anchor": "x7",
         "domain": [
          0.306,
          0.388
         ],
         "showgrid": false,
         "ticktext": [
          "chr1",
          "chr2",
          "chr3",
          "chr5",
          "chr7",
          "chr9",
          "chr11",
          "chr13",
          "chr15",
          "chr17"
         ],
         "tickvals": [
          1,
          2,
          3,
          4,
          5,
          6,
          7,
          8,
          9,
          10
         ]
        },
        "yaxis8": {
         "anchor": "x8",
         "domain": [
          0.20400000000000001,
          0.28600000000000003
         ],
         "showgrid": false,
         "ticktext": [
          "chr1",
          "chr2",
          "chr3",
          "chr5",
          "chr7",
          "chr9",
          "chr11",
          "chr13",
          "chr15",
          "chr17"
         ],
         "tickvals": [
          1,
          2,
          3,
          4,
          5,
          6,
          7,
          8,
          9,
          10
         ]
        },
        "yaxis9": {
         "anchor": "x9",
         "domain": [
          0.10200000000000001,
          0.184
         ],
         "showgrid": false,
         "ticktext": [
          "chr1",
          "chr2",
          "chr3",
          "chr5",
          "chr7",
          "chr9",
          "chr11",
          "chr13",
          "chr15",
          "chr17"
         ],
         "tickvals": [
          1,
          2,
          3,
          4,
          5,
          6,
          7,
          8,
          9,
          10
         ]
        }
       }
      }
     },
     "metadata": {},
     "output_type": "display_data"
    }
   ],
   "source": [
    "### Chromosome-wise visualization of the gene annotations of the relevant CpGs in Clock2_3 - Loop\n",
    "# Tried to move the chr titles to the left but now looks weird. Need to fix it. \n",
    "\n",
    "# # Function to sort chromosomes\n",
    "# def chromosome_sort_key(x):\n",
    "#     x = x.replace('chr', '')\n",
    "#     if x.isdigit():\n",
    "#         return int(x)\n",
    "#     elif x == 'X':\n",
    "#         return 23\n",
    "#     elif x == 'Y':\n",
    "#         return 24\n",
    "#     else:\n",
    "#         return 25  # for any other non-standard chromosomes\n",
    "\n",
    "# # Chromosome sizes for the hg38 genome\n",
    "# chromosome_sizes = {\n",
    "#     'chr1': 248956422,\n",
    "#     'chr2': 242193529,\n",
    "#     'chr3': 198295559,\n",
    "#     'chr4': 190214555,\n",
    "#     'chr5': 181538259,\n",
    "#     'chr6': 170805979,\n",
    "#     'chr7': 159345973,\n",
    "#     'chr8': 145138636,\n",
    "#     'chr9': 138394717,\n",
    "#     'chr10': 133797422,\n",
    "#     'chr11': 135086622,\n",
    "#     'chr12': 133275309,\n",
    "#     'chr13': 114364328,\n",
    "#     'chr14': 107043718,\n",
    "#     'chr15': 101991189,\n",
    "#     'chr16': 90338345,\n",
    "#     'chr17': 83257441,\n",
    "#     'chr18': 80373285,\n",
    "#     'chr19': 58617616,\n",
    "#     'chr20': 64444167,\n",
    "#     'chr21': 46709983,\n",
    "#     'chr22': 50818468,\n",
    "#     'chrX': 156040895,\n",
    "#     'chrY': 57227415\n",
    "# }\n",
    "\n",
    "# # Viridis color palette\n",
    "# viridis_colors = plt.cm.viridis([0, 0.1, 0.2, 0.3, 0.5, 0.7, 0.8, 1.0])\n",
    "\n",
    "# # Map the categories to the Viridis colors\n",
    "# color_map = {\n",
    "#     'Intron': mcolors.to_hex(viridis_colors[0]),\n",
    "#     'Exon': mcolors.to_hex(viridis_colors[2]),\n",
    "#     'Promoter': mcolors.to_hex(viridis_colors[3]),\n",
    "#     'threeUTR': mcolors.to_hex(viridis_colors[4]),\n",
    "#     'Intergenic_downstream': mcolors.to_hex(viridis_colors[5]),\n",
    "#     'fiveUTR': mcolors.to_hex(viridis_colors[6]),\n",
    "#     'Intergenic_upstream': mcolors.to_hex(viridis_colors[7])\n",
    "# }\n",
    "\n",
    "# # Loop through each clock dataframe in the dictionary\n",
    "# for clock_name, cpg_annotations in rel_cpgs_dict.items():\n",
    "#     # Get unique chromosomes and sort them\n",
    "#     chromosomes = sorted(cpg_annotations['chr'].unique(), key=chromosome_sort_key)\n",
    "\n",
    "#     # Create subplots\n",
    "#     fig = make_subplots(rows=len(chromosomes), cols=1,\n",
    "#                         shared_xaxes=False, vertical_spacing=0.02)\n",
    "\n",
    "#     # Add traces for each chromosome\n",
    "#     for i, chr in enumerate(chromosomes, start=1):\n",
    "#         chr_cpg_annotations = cpg_annotations[cpg_annotations['chr'] == chr]\n",
    "\n",
    "#         # Add gene annotations\n",
    "#         fig.add_trace(\n",
    "#             go.Scatter(\n",
    "#                 x=chr_cpg_annotations['start'],\n",
    "#                 y=[i] * len(chr_cpg_annotations),\n",
    "#                 mode='markers+text',\n",
    "#                 marker=dict(\n",
    "#                     size=10,\n",
    "#                     color=[color_map[cat] for cat in chr_cpg_annotations['category']],\n",
    "#                     symbol='square',\n",
    "#                     line=dict(width=0.5, color='black')\n",
    "#                 ),\n",
    "#                 text=chr_cpg_annotations['gene'],\n",
    "#                 textposition='top center',\n",
    "#                 textfont=dict(color='black', size=10),\n",
    "#                 hoverinfo='text',\n",
    "#                 hovertext=[f\"{cpg}<br>{gene}<br>{cat}<br>{start}\"\n",
    "#                            for cpg, gene, cat, start in zip(chr_cpg_annotations['CpG'], chr_cpg_annotations['gene'],\n",
    "#                                                             chr_cpg_annotations['category'], chr_cpg_annotations['start'])],\n",
    "#                 showlegend=False\n",
    "#             ),\n",
    "#             row=i, col=1\n",
    "#         )\n",
    "\n",
    "#     # Add legend entries\n",
    "#     for category, color in color_map.items():\n",
    "#         fig.add_trace(\n",
    "#             go.Scatter(\n",
    "#                 x=[None], y=[None],\n",
    "#                 mode='markers',\n",
    "#                 marker=dict(size=10, color=color, symbol='square'),\n",
    "#                 legendgroup=category,\n",
    "#                 showlegend=True,\n",
    "#                 name=category\n",
    "#             )\n",
    "#         )\n",
    "\n",
    "#     # Update layout\n",
    "#     fig.update_layout(\n",
    "#         height=100 * len(chromosomes),\n",
    "#         width=1200,\n",
    "#         showlegend=True,\n",
    "#         title=f'Gene Annotation Visualization of {clock_name.capitalize()} Relevant CpGs',\n",
    "#         hovermode='closest'\n",
    "#     )\n",
    "\n",
    "#     # Update y-axes with chromosome labels\n",
    "#     fig.update_yaxes(tickvals=list(range(1, len(chromosomes) + 1)),\n",
    "#                      ticktext=chromosomes, showgrid=False)\n",
    "\n",
    "#     # Ensure the output directory exists\n",
    "#     output_dir = f'../../FunctionalAnalysis/Annotations/Annotations Results'\n",
    "#     os.makedirs(output_dir, exist_ok=True)\n",
    "\n",
    "#     # Save the plot\n",
    "#     output_path = os.path.join(output_dir, f'{clock_name}_gene_annotation_chromosome_view.html')\n",
    "#     fig.write_html(output_path)\n",
    "\n",
    "#     # Show the plot\n",
    "#     fig.show()\n",
    "\n"
   ]
  }
 ],
 "metadata": {
  "kernelspec": {
   "display_name": "Python 3",
   "language": "python",
   "name": "python3"
  },
  "language_info": {
   "codemirror_mode": {
    "name": "ipython",
    "version": 3
   },
   "file_extension": ".py",
   "mimetype": "text/x-python",
   "name": "python",
   "nbconvert_exporter": "python",
   "pygments_lexer": "ipython3",
   "version": "3.12.2"
  }
 },
 "nbformat": 4,
 "nbformat_minor": 2
}
