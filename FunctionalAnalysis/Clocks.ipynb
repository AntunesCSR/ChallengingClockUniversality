{
 "cells": [
  {
   "cell_type": "code",
   "execution_count": 2,
   "metadata": {},
   "outputs": [],
   "source": [
    "# Import required libraries\n",
    "import pandas as pd"
   ]
  },
  {
   "cell_type": "code",
   "execution_count": 3,
   "metadata": {},
   "outputs": [],
   "source": [
    "# Load epi clock results from excel\n",
    "clocks_excel_file = \"sup_data_2_43587_2023_462_MOESM3_ESM.xlsx\"\n",
    "\n",
    "# Specify the sheets to import \n",
    "sheets_to_import = list(range(15, 18)) #  sheets 16 to 18 (table S3.1-3.3)\n",
    "\n",
    "# Load the sheets, each as a separate data frame\n",
    "clocks_dfs = [pd.read_excel(clocks_excel_file, sheet_name=sheet, skiprows=[0, 1, 3]) for sheet in sheets_to_import] # skipping rows 1, 2, and 4 to remove the legends and intercept rows\n",
    " \n",
    "# Separate the data frames into individual data frames (clocks 1, 2, and 3)\n",
    "clock_1_df, clock_2_df, clock_3_df = clocks_dfs\n",
    "\n",
    "# Create the overlapped dfs for clocks 1, 2 and 3 \n",
    "overlap_1_2_df = pd.merge(clock_1_df, clock_2_df, on='Gene', how='inner')\n",
    "overlap_1_2_3_df = pd.merge(overlap_1_2_df, clock_3_df, on='Gene', how='inner')\n",
    "overlap_1_2_3_df = overlap_1_2_3_df.drop_duplicates(subset='Gene') # Drop duplicate columns resulting from the merge\n",
    "\n",
    "# Create the overlapped dfs for clocks 2 and 3\n",
    "overlap_2_3_df = pd.merge(clock_2_df, clock_3_df, on='Gene', how='inner')\n",
    "overlap_2_3_df = overlap_2_3_df.drop_duplicates(subset='Gene') # Drop duplicate columns resulting from the merge"
   ]
  },
  {
   "cell_type": "code",
   "execution_count": 4,
   "metadata": {},
   "outputs": [
    {
     "name": "stdout",
     "output_type": "stream",
     "text": [
      "Clock 1: (335, 14)\n",
      "Clock 2: (816, 14)\n",
      "Clock 3: (760, 14)\n",
      "Overlap 1 and 2: (435, 27)\n",
      "Overlap 2 and 3: (401, 27)\n",
      "Overlap 1, 2 and 3: (140, 40)\n"
     ]
    }
   ],
   "source": [
    "# Check size of data frames\n",
    "print(f\"Clock 1: {clock_1_df.shape}\")\n",
    "print(f\"Clock 2: {clock_2_df.shape}\")\n",
    "print(f\"Clock 3: {clock_3_df.shape}\")\n",
    "print(f\"Overlap 1 and 2: {overlap_1_2_df.shape}\")\n",
    "print(f\"Overlap 2 and 3: {overlap_2_3_df.shape}\") # should be 401\n",
    "print(f\"Overlap 1, 2 and 3: {overlap_1_2_3_df.shape}\") # should be 140"
   ]
  },
  {
   "cell_type": "code",
   "execution_count": 13,
   "metadata": {},
   "outputs": [
    {
     "name": "stdout",
     "output_type": "stream",
     "text": [
      "Ciceri genes in clock 1: []\n",
      "Ciceri genes in clock 2: ['CHD3', 'SOX4', 'CHD3', 'SOX4', 'SOX4']\n",
      "Ciceri genes in clock 3: ['SOX4', 'SOX4']\n",
      "Ciceri genes in overlap 1, 2 and 3: []\n",
      "Ciceri genes in overlap 2 and 3: ['SOX4']\n"
     ]
    }
   ],
   "source": [
    "# Checking genes from Ciceri 2024 present in each clock\n",
    "\n",
    "ciceri_genes = ['EZH2','MTA2','RBBP4','BRD1','RCOR2','SMARCE1',\n",
    "                'KDM5B','SMARCD1','SMARCA4','MTF3', 'EPC1','RNF2',\n",
    "                'CHD3','KMT5B','EPC2','SMARCAD2','CBX5','HDAC2',\n",
    "                'DM1A','KLF12','SOX4','SOX11'\n",
    "                ]\n",
    "\n",
    "# Check if the genes are present in the clocks\n",
    "ciceri_genes_in_clock_1 = clock_1_df[clock_1_df['Gene'].isin(ciceri_genes)]\n",
    "ciceri_genes_in_clock_2 = clock_2_df[clock_2_df['Gene'].isin(ciceri_genes)]\n",
    "ciceri_genes_in_clock_3 = clock_3_df[clock_3_df['Gene'].isin(ciceri_genes)]\n",
    "ciceri_genes_in_overlap_1_2_3 = overlap_1_2_3_df[overlap_1_2_3_df['Gene'].isin(ciceri_genes)]\n",
    "ciceri_genes_in_overlap_2_3 = overlap_2_3_df[overlap_2_3_df['Gene'].isin(ciceri_genes)]\n",
    "\n",
    "# Make list of ciceri genes present in each clock\n",
    "ciceri_genes_in_clock_1_list = ciceri_genes_in_clock_1['Gene'].tolist()\n",
    "ciceri_genes_in_clock_2_list = ciceri_genes_in_clock_2['Gene'].tolist()\n",
    "ciceri_genes_in_clock_3_list = ciceri_genes_in_clock_3['Gene'].tolist()\n",
    "ciceri_genes_in_overlap_1_2_3_list = ciceri_genes_in_overlap_1_2_3['Gene'].tolist()\n",
    "ciceri_genes_in_overlap_2_3_list = ciceri_genes_in_overlap_2_3['Gene'].tolist()\n",
    "\n",
    "# Print the results\n",
    "print(f\"Ciceri genes in clock 1: {ciceri_genes_in_clock_1_list}\")\n",
    "print(f\"Ciceri genes in clock 2: {ciceri_genes_in_clock_2_list}\")\n",
    "print(f\"Ciceri genes in clock 3: {ciceri_genes_in_clock_3_list}\")\n",
    "print(f\"Ciceri genes in overlap 1, 2 and 3: {ciceri_genes_in_overlap_1_2_3_list}\")\n",
    "print(f\"Ciceri genes in overlap 2 and 3: {ciceri_genes_in_overlap_2_3_list}\")"
   ]
  }
 ],
 "metadata": {
  "kernelspec": {
   "display_name": "Python 3",
   "language": "python",
   "name": "python3"
  },
  "language_info": {
   "codemirror_mode": {
    "name": "ipython",
    "version": 3
   },
   "file_extension": ".py",
   "mimetype": "text/x-python",
   "name": "python",
   "nbconvert_exporter": "python",
   "pygments_lexer": "ipython3",
   "version": "3.12.2"
  }
 },
 "nbformat": 4,
 "nbformat_minor": 2
}
