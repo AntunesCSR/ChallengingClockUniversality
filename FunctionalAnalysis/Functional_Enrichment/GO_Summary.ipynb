{
 "cells": [
  {
   "cell_type": "code",
   "execution_count": 9,
   "metadata": {},
   "outputs": [],
   "source": [
    "import pandas as pd\n",
    "import numpy as np\n",
    "import matplotlib.pyplot as plt\n",
    "import seaborn as sns\n",
    "import plotly.graph_objects as go\n",
    "from plotly.subplots import make_subplots\n",
    "from plotly.colors import sample_colorscale\n",
    "from plotly.offline import plot\n",
    "from plotly import express as px"
   ]
  },
  {
   "cell_type": "markdown",
   "metadata": {},
   "source": [
    "### 1. Clock 1"
   ]
  },
  {
   "cell_type": "code",
   "execution_count": 116,
   "metadata": {},
   "outputs": [],
   "source": [
    "# Import GO analysis results of clock one for each of the three GO categories\n",
    "\n",
    "bp_results_clock1 = pd.read_csv('Go_Analysis_Clocks/Results - Clocks Full/Clock_1_full/Clock_1_full_GOA_BP_results.csv')\n",
    "mf_results_clock1 = pd.read_csv('Go_Analysis_Clocks/Results - Clocks Full/Clock_1_full/Clock_1_full_GOA_MF_results.csv')\n",
    "cc_results_clock1 = pd.read_csv('Go_Analysis_Clocks/Results - Clocks Full/Clock_1_full/Clock_1_full_GOA_CC_results.csv')"
   ]
  },
  {
   "cell_type": "code",
   "execution_count": 26,
   "metadata": {},
   "outputs": [
    {
     "data": {
      "text/html": [
       "<div>\n",
       "<style scoped>\n",
       "    .dataframe tbody tr th:only-of-type {\n",
       "        vertical-align: middle;\n",
       "    }\n",
       "\n",
       "    .dataframe tbody tr th {\n",
       "        vertical-align: top;\n",
       "    }\n",
       "\n",
       "    .dataframe thead th {\n",
       "        text-align: right;\n",
       "    }\n",
       "</style>\n",
       "<table border=\"1\" class=\"dataframe\">\n",
       "  <thead>\n",
       "    <tr style=\"text-align: right;\">\n",
       "      <th></th>\n",
       "      <th>Unnamed: 0</th>\n",
       "      <th>ID</th>\n",
       "      <th>Description</th>\n",
       "      <th>GeneRatio</th>\n",
       "      <th>BgRatio</th>\n",
       "      <th>pvalue</th>\n",
       "      <th>p.adjust</th>\n",
       "      <th>qvalue</th>\n",
       "      <th>geneID</th>\n",
       "      <th>Count</th>\n",
       "    </tr>\n",
       "  </thead>\n",
       "  <tbody>\n",
       "    <tr>\n",
       "      <th>0</th>\n",
       "      <td>GO:0007389</td>\n",
       "      <td>GO:0007389</td>\n",
       "      <td>pattern specification process</td>\n",
       "      <td>26/235</td>\n",
       "      <td>475/18870</td>\n",
       "      <td>2.736845e-10</td>\n",
       "      <td>8.018956e-07</td>\n",
       "      <td>7.078346e-07</td>\n",
       "      <td>DLX1/DLL4/CDX2/UNCX/LHX2/TSHZ1/NR2F2/MEIS2/HOX...</td>\n",
       "      <td>26</td>\n",
       "    </tr>\n",
       "    <tr>\n",
       "      <th>1</th>\n",
       "      <td>GO:0045165</td>\n",
       "      <td>GO:0045165</td>\n",
       "      <td>cell fate commitment</td>\n",
       "      <td>18/235</td>\n",
       "      <td>286/18870</td>\n",
       "      <td>2.093301e-08</td>\n",
       "      <td>1.677047e-05</td>\n",
       "      <td>1.480332e-05</td>\n",
       "      <td>DLX1/DLL4/TLX3/MITF/ONECUT2/NR2F2/GSX1/TBR1/SO...</td>\n",
       "      <td>18</td>\n",
       "    </tr>\n",
       "    <tr>\n",
       "      <th>2</th>\n",
       "      <td>GO:0048663</td>\n",
       "      <td>GO:0048663</td>\n",
       "      <td>neuron fate commitment</td>\n",
       "      <td>10/235</td>\n",
       "      <td>73/18870</td>\n",
       "      <td>2.317811e-08</td>\n",
       "      <td>1.677047e-05</td>\n",
       "      <td>1.480332e-05</td>\n",
       "      <td>DLX1/DLL4/TLX3/GSX1/TBR1/EHMT2/ZNF521/GATA2/IS...</td>\n",
       "      <td>10</td>\n",
       "    </tr>\n",
       "    <tr>\n",
       "      <th>3</th>\n",
       "      <td>GO:0003002</td>\n",
       "      <td>GO:0003002</td>\n",
       "      <td>regionalization</td>\n",
       "      <td>22/235</td>\n",
       "      <td>430/18870</td>\n",
       "      <td>2.360524e-08</td>\n",
       "      <td>1.677047e-05</td>\n",
       "      <td>1.480332e-05</td>\n",
       "      <td>DLX1/DLL4/CDX2/LHX2/TSHZ1/NR2F2/HOXC4/GDF11/TB...</td>\n",
       "      <td>22</td>\n",
       "    </tr>\n",
       "    <tr>\n",
       "      <th>4</th>\n",
       "      <td>GO:0045664</td>\n",
       "      <td>GO:0045664</td>\n",
       "      <td>regulation of neuron differentiation</td>\n",
       "      <td>15/235</td>\n",
       "      <td>198/18870</td>\n",
       "      <td>2.861854e-08</td>\n",
       "      <td>1.677047e-05</td>\n",
       "      <td>1.480332e-05</td>\n",
       "      <td>DLX1/BDNF/TLX3/CASZ1/GDF11/HOXD3/NR2E1/BCL11A/...</td>\n",
       "      <td>15</td>\n",
       "    </tr>\n",
       "    <tr>\n",
       "      <th>5</th>\n",
       "      <td>GO:0030900</td>\n",
       "      <td>GO:0030900</td>\n",
       "      <td>forebrain development</td>\n",
       "      <td>20/235</td>\n",
       "      <td>407/18870</td>\n",
       "      <td>2.019441e-07</td>\n",
       "      <td>9.861603e-05</td>\n",
       "      <td>8.704853e-05</td>\n",
       "      <td>OTP/DLX1/UNCX/LHX2/NR2F2/GSX1/TBR1/LEF1/SLC32A...</td>\n",
       "      <td>20</td>\n",
       "    </tr>\n",
       "    <tr>\n",
       "      <th>6</th>\n",
       "      <td>GO:0007517</td>\n",
       "      <td>GO:0007517</td>\n",
       "      <td>muscle organ development</td>\n",
       "      <td>18/235</td>\n",
       "      <td>354/18870</td>\n",
       "      <td>5.122770e-07</td>\n",
       "      <td>2.123821e-04</td>\n",
       "      <td>1.874701e-04</td>\n",
       "      <td>DLL4/NR2F2/ID3/DDX5/DPF3/LEF1/EPHB1/SMTN/FHL1/...</td>\n",
       "      <td>18</td>\n",
       "    </tr>\n",
       "    <tr>\n",
       "      <th>7</th>\n",
       "      <td>GO:0021510</td>\n",
       "      <td>GO:0021510</td>\n",
       "      <td>spinal cord development</td>\n",
       "      <td>10/235</td>\n",
       "      <td>102/18870</td>\n",
       "      <td>5.798830e-07</td>\n",
       "      <td>2.123821e-04</td>\n",
       "      <td>1.874701e-04</td>\n",
       "      <td>DLL4/UNCX/GDF11/GSX1/DRGX/GATA2/ISL1/PBX3/SOX6...</td>\n",
       "      <td>10</td>\n",
       "    </tr>\n",
       "    <tr>\n",
       "      <th>8</th>\n",
       "      <td>GO:0009952</td>\n",
       "      <td>GO:0009952</td>\n",
       "      <td>anterior/posterior pattern specification</td>\n",
       "      <td>14/235</td>\n",
       "      <td>219/18870</td>\n",
       "      <td>6.721725e-07</td>\n",
       "      <td>2.188295e-04</td>\n",
       "      <td>1.931611e-04</td>\n",
       "      <td>CDX2/TSHZ1/NR2F2/HOXC4/GDF11/LEF1/HOXD3/EN1/AB...</td>\n",
       "      <td>14</td>\n",
       "    </tr>\n",
       "    <tr>\n",
       "      <th>9</th>\n",
       "      <td>GO:0021545</td>\n",
       "      <td>GO:0021545</td>\n",
       "      <td>cranial nerve development</td>\n",
       "      <td>8/235</td>\n",
       "      <td>63/18870</td>\n",
       "      <td>1.102771e-06</td>\n",
       "      <td>3.146838e-04</td>\n",
       "      <td>2.777719e-04</td>\n",
       "      <td>DRGX/HOXD3/EPHB1/KCNA3/ISL1/NAV2/HOXB3/TFAP2A</td>\n",
       "      <td>8</td>\n",
       "    </tr>\n",
       "  </tbody>\n",
       "</table>\n",
       "</div>"
      ],
      "text/plain": [
       "   Unnamed: 0          ID                               Description GeneRatio  \\\n",
       "0  GO:0007389  GO:0007389             pattern specification process    26/235   \n",
       "1  GO:0045165  GO:0045165                      cell fate commitment    18/235   \n",
       "2  GO:0048663  GO:0048663                    neuron fate commitment    10/235   \n",
       "3  GO:0003002  GO:0003002                           regionalization    22/235   \n",
       "4  GO:0045664  GO:0045664      regulation of neuron differentiation    15/235   \n",
       "5  GO:0030900  GO:0030900                     forebrain development    20/235   \n",
       "6  GO:0007517  GO:0007517                  muscle organ development    18/235   \n",
       "7  GO:0021510  GO:0021510                   spinal cord development    10/235   \n",
       "8  GO:0009952  GO:0009952  anterior/posterior pattern specification    14/235   \n",
       "9  GO:0021545  GO:0021545                 cranial nerve development     8/235   \n",
       "\n",
       "     BgRatio        pvalue      p.adjust        qvalue  \\\n",
       "0  475/18870  2.736845e-10  8.018956e-07  7.078346e-07   \n",
       "1  286/18870  2.093301e-08  1.677047e-05  1.480332e-05   \n",
       "2   73/18870  2.317811e-08  1.677047e-05  1.480332e-05   \n",
       "3  430/18870  2.360524e-08  1.677047e-05  1.480332e-05   \n",
       "4  198/18870  2.861854e-08  1.677047e-05  1.480332e-05   \n",
       "5  407/18870  2.019441e-07  9.861603e-05  8.704853e-05   \n",
       "6  354/18870  5.122770e-07  2.123821e-04  1.874701e-04   \n",
       "7  102/18870  5.798830e-07  2.123821e-04  1.874701e-04   \n",
       "8  219/18870  6.721725e-07  2.188295e-04  1.931611e-04   \n",
       "9   63/18870  1.102771e-06  3.146838e-04  2.777719e-04   \n",
       "\n",
       "                                              geneID  Count  \n",
       "0  DLX1/DLL4/CDX2/UNCX/LHX2/TSHZ1/NR2F2/MEIS2/HOX...     26  \n",
       "1  DLX1/DLL4/TLX3/MITF/ONECUT2/NR2F2/GSX1/TBR1/SO...     18  \n",
       "2  DLX1/DLL4/TLX3/GSX1/TBR1/EHMT2/ZNF521/GATA2/IS...     10  \n",
       "3  DLX1/DLL4/CDX2/LHX2/TSHZ1/NR2F2/HOXC4/GDF11/TB...     22  \n",
       "4  DLX1/BDNF/TLX3/CASZ1/GDF11/HOXD3/NR2E1/BCL11A/...     15  \n",
       "5  OTP/DLX1/UNCX/LHX2/NR2F2/GSX1/TBR1/LEF1/SLC32A...     20  \n",
       "6  DLL4/NR2F2/ID3/DDX5/DPF3/LEF1/EPHB1/SMTN/FHL1/...     18  \n",
       "7  DLL4/UNCX/GDF11/GSX1/DRGX/GATA2/ISL1/PBX3/SOX6...     10  \n",
       "8  CDX2/TSHZ1/NR2F2/HOXC4/GDF11/LEF1/HOXD3/EN1/AB...     14  \n",
       "9      DRGX/HOXD3/EPHB1/KCNA3/ISL1/NAV2/HOXB3/TFAP2A      8  "
      ]
     },
     "execution_count": 26,
     "metadata": {},
     "output_type": "execute_result"
    }
   ],
   "source": [
    "# Top 10 GO terms for Biological Processes\n",
    "\n",
    "bp_results_clock1.head(10).sort_values(by='p.adjust', ascending=True)"
   ]
  },
  {
   "cell_type": "code",
   "execution_count": 24,
   "metadata": {},
   "outputs": [
    {
     "data": {
      "text/html": [
       "<div>\n",
       "<style scoped>\n",
       "    .dataframe tbody tr th:only-of-type {\n",
       "        vertical-align: middle;\n",
       "    }\n",
       "\n",
       "    .dataframe tbody tr th {\n",
       "        vertical-align: top;\n",
       "    }\n",
       "\n",
       "    .dataframe thead th {\n",
       "        text-align: right;\n",
       "    }\n",
       "</style>\n",
       "<table border=\"1\" class=\"dataframe\">\n",
       "  <thead>\n",
       "    <tr style=\"text-align: right;\">\n",
       "      <th></th>\n",
       "      <th>Unnamed: 0</th>\n",
       "      <th>ID</th>\n",
       "      <th>Description</th>\n",
       "      <th>GeneRatio</th>\n",
       "      <th>BgRatio</th>\n",
       "      <th>pvalue</th>\n",
       "      <th>p.adjust</th>\n",
       "      <th>qvalue</th>\n",
       "      <th>geneID</th>\n",
       "      <th>Count</th>\n",
       "    </tr>\n",
       "  </thead>\n",
       "  <tbody>\n",
       "    <tr>\n",
       "      <th>0</th>\n",
       "      <td>GO:0001228</td>\n",
       "      <td>GO:0001228</td>\n",
       "      <td>DNA-binding transcription activator activity, ...</td>\n",
       "      <td>25/229</td>\n",
       "      <td>471/18496</td>\n",
       "      <td>1.011914e-09</td>\n",
       "      <td>2.768727e-07</td>\n",
       "      <td>2.426596e-07</td>\n",
       "      <td>SP7/CASZ1/LHX2/MITF/ONECUT2/MEIS2/HOXC4/GSX1/L...</td>\n",
       "      <td>25</td>\n",
       "    </tr>\n",
       "    <tr>\n",
       "      <th>1</th>\n",
       "      <td>GO:0001216</td>\n",
       "      <td>GO:0001216</td>\n",
       "      <td>DNA-binding transcription activator activity</td>\n",
       "      <td>25/229</td>\n",
       "      <td>475/18496</td>\n",
       "      <td>1.203794e-09</td>\n",
       "      <td>2.768727e-07</td>\n",
       "      <td>2.426596e-07</td>\n",
       "      <td>SP7/CASZ1/LHX2/MITF/ONECUT2/MEIS2/HOXC4/GSX1/L...</td>\n",
       "      <td>25</td>\n",
       "    </tr>\n",
       "    <tr>\n",
       "      <th>2</th>\n",
       "      <td>GO:0001217</td>\n",
       "      <td>GO:0001217</td>\n",
       "      <td>DNA-binding transcription repressor activity</td>\n",
       "      <td>20/229</td>\n",
       "      <td>334/18496</td>\n",
       "      <td>6.961611e-09</td>\n",
       "      <td>1.067447e-06</td>\n",
       "      <td>9.355428e-07</td>\n",
       "      <td>OTP/CDX2/MITF/SATB1/LEF1/EN1/BACH2/NR2F1/FOXP2...</td>\n",
       "      <td>20</td>\n",
       "    </tr>\n",
       "    <tr>\n",
       "      <th>3</th>\n",
       "      <td>GO:0140297</td>\n",
       "      <td>GO:0140297</td>\n",
       "      <td>DNA-binding transcription factor binding</td>\n",
       "      <td>22/229</td>\n",
       "      <td>477/18496</td>\n",
       "      <td>1.299460e-07</td>\n",
       "      <td>1.271777e-05</td>\n",
       "      <td>1.114624e-05</td>\n",
       "      <td>LCOR/ID3/BCOR/DDX5/BCAS3/LEF1/PTPRT/CXXC5/TP53...</td>\n",
       "      <td>22</td>\n",
       "    </tr>\n",
       "    <tr>\n",
       "      <th>4</th>\n",
       "      <td>GO:0001227</td>\n",
       "      <td>GO:0001227</td>\n",
       "      <td>DNA-binding transcription repressor activity, ...</td>\n",
       "      <td>18/229</td>\n",
       "      <td>326/18496</td>\n",
       "      <td>1.382366e-07</td>\n",
       "      <td>1.271777e-05</td>\n",
       "      <td>1.114624e-05</td>\n",
       "      <td>OTP/CDX2/MITF/SATB1/LEF1/EN1/BACH2/NR2F1/FOXP2...</td>\n",
       "      <td>18</td>\n",
       "    </tr>\n",
       "    <tr>\n",
       "      <th>5</th>\n",
       "      <td>GO:0008013</td>\n",
       "      <td>GO:0008013</td>\n",
       "      <td>beta-catenin binding</td>\n",
       "      <td>9/229</td>\n",
       "      <td>85/18496</td>\n",
       "      <td>1.063183e-06</td>\n",
       "      <td>8.151073e-05</td>\n",
       "      <td>7.143847e-05</td>\n",
       "      <td>RORA/BTRC/DVL3/LEF1/PTPRT/CTNNA2/TCF4/CALCOCO1...</td>\n",
       "      <td>9</td>\n",
       "    </tr>\n",
       "    <tr>\n",
       "      <th>6</th>\n",
       "      <td>GO:0061629</td>\n",
       "      <td>GO:0061629</td>\n",
       "      <td>RNA polymerase II-specific DNA-binding transcr...</td>\n",
       "      <td>16/229</td>\n",
       "      <td>344/18496</td>\n",
       "      <td>6.441964e-06</td>\n",
       "      <td>4.233290e-04</td>\n",
       "      <td>3.710184e-04</td>\n",
       "      <td>LCOR/DDX5/BCAS3/LEF1/PTPRT/TP53BP1/PITX1/HDAC9...</td>\n",
       "      <td>16</td>\n",
       "    </tr>\n",
       "    <tr>\n",
       "      <th>7</th>\n",
       "      <td>GO:0001221</td>\n",
       "      <td>GO:0001221</td>\n",
       "      <td>transcription coregulator binding</td>\n",
       "      <td>9/229</td>\n",
       "      <td>112/18496</td>\n",
       "      <td>1.062794e-05</td>\n",
       "      <td>6.111066e-04</td>\n",
       "      <td>5.355923e-04</td>\n",
       "      <td>LCOR/RORA/LEF1/ZNF618/EHMT2/ZBTB8A/GATA2/PHF12...</td>\n",
       "      <td>9</td>\n",
       "    </tr>\n",
       "    <tr>\n",
       "      <th>8</th>\n",
       "      <td>GO:0001222</td>\n",
       "      <td>GO:0001222</td>\n",
       "      <td>transcription corepressor binding</td>\n",
       "      <td>6/229</td>\n",
       "      <td>47/18496</td>\n",
       "      <td>2.370025e-05</td>\n",
       "      <td>1.211346e-03</td>\n",
       "      <td>1.061660e-03</td>\n",
       "      <td>LCOR/RORA/LEF1/EHMT2/PHF12/CTBP2</td>\n",
       "      <td>6</td>\n",
       "    </tr>\n",
       "    <tr>\n",
       "      <th>9</th>\n",
       "      <td>GO:0000900</td>\n",
       "      <td>GO:0000900</td>\n",
       "      <td>mRNA regulatory element binding translation re...</td>\n",
       "      <td>4/229</td>\n",
       "      <td>16/18496</td>\n",
       "      <td>3.706227e-05</td>\n",
       "      <td>1.635991e-03</td>\n",
       "      <td>1.433832e-03</td>\n",
       "      <td>CELF4/CPEB3/PURA/CELF1</td>\n",
       "      <td>4</td>\n",
       "    </tr>\n",
       "  </tbody>\n",
       "</table>\n",
       "</div>"
      ],
      "text/plain": [
       "   Unnamed: 0          ID                                        Description  \\\n",
       "0  GO:0001228  GO:0001228  DNA-binding transcription activator activity, ...   \n",
       "1  GO:0001216  GO:0001216       DNA-binding transcription activator activity   \n",
       "2  GO:0001217  GO:0001217       DNA-binding transcription repressor activity   \n",
       "3  GO:0140297  GO:0140297           DNA-binding transcription factor binding   \n",
       "4  GO:0001227  GO:0001227  DNA-binding transcription repressor activity, ...   \n",
       "5  GO:0008013  GO:0008013                               beta-catenin binding   \n",
       "6  GO:0061629  GO:0061629  RNA polymerase II-specific DNA-binding transcr...   \n",
       "7  GO:0001221  GO:0001221                  transcription coregulator binding   \n",
       "8  GO:0001222  GO:0001222                  transcription corepressor binding   \n",
       "9  GO:0000900  GO:0000900  mRNA regulatory element binding translation re...   \n",
       "\n",
       "  GeneRatio    BgRatio        pvalue      p.adjust        qvalue  \\\n",
       "0    25/229  471/18496  1.011914e-09  2.768727e-07  2.426596e-07   \n",
       "1    25/229  475/18496  1.203794e-09  2.768727e-07  2.426596e-07   \n",
       "2    20/229  334/18496  6.961611e-09  1.067447e-06  9.355428e-07   \n",
       "3    22/229  477/18496  1.299460e-07  1.271777e-05  1.114624e-05   \n",
       "4    18/229  326/18496  1.382366e-07  1.271777e-05  1.114624e-05   \n",
       "5     9/229   85/18496  1.063183e-06  8.151073e-05  7.143847e-05   \n",
       "6    16/229  344/18496  6.441964e-06  4.233290e-04  3.710184e-04   \n",
       "7     9/229  112/18496  1.062794e-05  6.111066e-04  5.355923e-04   \n",
       "8     6/229   47/18496  2.370025e-05  1.211346e-03  1.061660e-03   \n",
       "9     4/229   16/18496  3.706227e-05  1.635991e-03  1.433832e-03   \n",
       "\n",
       "                                              geneID  Count  \n",
       "0  SP7/CASZ1/LHX2/MITF/ONECUT2/MEIS2/HOXC4/GSX1/L...     25  \n",
       "1  SP7/CASZ1/LHX2/MITF/ONECUT2/MEIS2/HOXC4/GSX1/L...     25  \n",
       "2  OTP/CDX2/MITF/SATB1/LEF1/EN1/BACH2/NR2F1/FOXP2...     20  \n",
       "3  LCOR/ID3/BCOR/DDX5/BCAS3/LEF1/PTPRT/CXXC5/TP53...     22  \n",
       "4  OTP/CDX2/MITF/SATB1/LEF1/EN1/BACH2/NR2F1/FOXP2...     18  \n",
       "5  RORA/BTRC/DVL3/LEF1/PTPRT/CTNNA2/TCF4/CALCOCO1...      9  \n",
       "6  LCOR/DDX5/BCAS3/LEF1/PTPRT/TP53BP1/PITX1/HDAC9...     16  \n",
       "7  LCOR/RORA/LEF1/ZNF618/EHMT2/ZBTB8A/GATA2/PHF12...      9  \n",
       "8                   LCOR/RORA/LEF1/EHMT2/PHF12/CTBP2      6  \n",
       "9                             CELF4/CPEB3/PURA/CELF1      4  "
      ]
     },
     "execution_count": 24,
     "metadata": {},
     "output_type": "execute_result"
    }
   ],
   "source": [
    "# Top 10 GO terms for Molecular Functions\n",
    "mf_results_clock1 = mf_results_clock1.head(10).sort_values(by='p.adjust', ascending=True)"
   ]
  },
  {
   "cell_type": "code",
   "execution_count": 25,
   "metadata": {},
   "outputs": [
    {
     "data": {
      "text/html": [
       "<div>\n",
       "<style scoped>\n",
       "    .dataframe tbody tr th:only-of-type {\n",
       "        vertical-align: middle;\n",
       "    }\n",
       "\n",
       "    .dataframe tbody tr th {\n",
       "        vertical-align: top;\n",
       "    }\n",
       "\n",
       "    .dataframe thead th {\n",
       "        text-align: right;\n",
       "    }\n",
       "</style>\n",
       "<table border=\"1\" class=\"dataframe\">\n",
       "  <thead>\n",
       "    <tr style=\"text-align: right;\">\n",
       "      <th></th>\n",
       "      <th>Unnamed: 0</th>\n",
       "      <th>ID</th>\n",
       "      <th>Description</th>\n",
       "      <th>GeneRatio</th>\n",
       "      <th>BgRatio</th>\n",
       "      <th>pvalue</th>\n",
       "      <th>p.adjust</th>\n",
       "      <th>qvalue</th>\n",
       "      <th>geneID</th>\n",
       "      <th>Count</th>\n",
       "    </tr>\n",
       "  </thead>\n",
       "  <tbody>\n",
       "    <tr>\n",
       "      <th>0</th>\n",
       "      <td>GO:0097060</td>\n",
       "      <td>GO:0097060</td>\n",
       "      <td>synaptic membrane</td>\n",
       "      <td>15/236</td>\n",
       "      <td>393/19886</td>\n",
       "      <td>0.000076</td>\n",
       "      <td>0.019076</td>\n",
       "      <td>0.016958</td>\n",
       "      <td>ANK1/KCNC4/LHFPL4/STX2/DENND1A/PTPRT/TRPV1/KCN...</td>\n",
       "      <td>15</td>\n",
       "    </tr>\n",
       "    <tr>\n",
       "      <th>1</th>\n",
       "      <td>GO:0045211</td>\n",
       "      <td>GO:0045211</td>\n",
       "      <td>postsynaptic membrane</td>\n",
       "      <td>12/236</td>\n",
       "      <td>275/19886</td>\n",
       "      <td>0.000116</td>\n",
       "      <td>0.019076</td>\n",
       "      <td>0.016958</td>\n",
       "      <td>ANK1/KCNC4/LHFPL4/PTPRT/TRPV1/KCNA3/DGKB/GRIA2...</td>\n",
       "      <td>12</td>\n",
       "    </tr>\n",
       "    <tr>\n",
       "      <th>2</th>\n",
       "      <td>GO:1990907</td>\n",
       "      <td>GO:1990907</td>\n",
       "      <td>beta-catenin-TCF complex</td>\n",
       "      <td>3/236</td>\n",
       "      <td>13/19886</td>\n",
       "      <td>0.000432</td>\n",
       "      <td>0.047260</td>\n",
       "      <td>0.042012</td>\n",
       "      <td>LEF1/TCF4/TLE1</td>\n",
       "      <td>3</td>\n",
       "    </tr>\n",
       "  </tbody>\n",
       "</table>\n",
       "</div>"
      ],
      "text/plain": [
       "   Unnamed: 0          ID               Description GeneRatio    BgRatio  \\\n",
       "0  GO:0097060  GO:0097060         synaptic membrane    15/236  393/19886   \n",
       "1  GO:0045211  GO:0045211     postsynaptic membrane    12/236  275/19886   \n",
       "2  GO:1990907  GO:1990907  beta-catenin-TCF complex     3/236   13/19886   \n",
       "\n",
       "     pvalue  p.adjust    qvalue  \\\n",
       "0  0.000076  0.019076  0.016958   \n",
       "1  0.000116  0.019076  0.016958   \n",
       "2  0.000432  0.047260  0.042012   \n",
       "\n",
       "                                              geneID  Count  \n",
       "0  ANK1/KCNC4/LHFPL4/STX2/DENND1A/PTPRT/TRPV1/KCN...     15  \n",
       "1  ANK1/KCNC4/LHFPL4/PTPRT/TRPV1/KCNA3/DGKB/GRIA2...     12  \n",
       "2                                     LEF1/TCF4/TLE1      3  "
      ]
     },
     "execution_count": 25,
     "metadata": {},
     "output_type": "execute_result"
    }
   ],
   "source": [
    "# Top 10 GO terms for Cellular Components\n",
    "cc_results_clock1 = cc_results_clock1.head(10).sort_values(by='p.adjust', ascending=True)"
   ]
  },
  {
   "cell_type": "markdown",
   "metadata": {},
   "source": [
    "### Clock 2"
   ]
  },
  {
   "cell_type": "code",
   "execution_count": 117,
   "metadata": {},
   "outputs": [],
   "source": [
    "# Import GO analysis results of clock 2 for each of the three GO categories\n",
    "\n",
    "bp_results_clock2 = pd.read_csv('Go_Analysis_Clocks/Results - Clocks Full/Clock_2_full/Clock_2_full_GOA_BP_results.csv')\n",
    "mf_results_clock2 = pd.read_csv('Go_Analysis_Clocks/Results - Clocks Full/Clock_2_full/Clock_2_full_GOA_MF_results.csv')\n",
    "cc_results_clock2 = pd.read_csv('Go_Analysis_Clocks/Results - Clocks Full/Clock_2_full/Clock_2_full_GOA_CC_results.csv')"
   ]
  },
  {
   "cell_type": "code",
   "execution_count": 118,
   "metadata": {},
   "outputs": [
    {
     "data": {
      "text/html": [
       "<div>\n",
       "<style scoped>\n",
       "    .dataframe tbody tr th:only-of-type {\n",
       "        vertical-align: middle;\n",
       "    }\n",
       "\n",
       "    .dataframe tbody tr th {\n",
       "        vertical-align: top;\n",
       "    }\n",
       "\n",
       "    .dataframe thead th {\n",
       "        text-align: right;\n",
       "    }\n",
       "</style>\n",
       "<table border=\"1\" class=\"dataframe\">\n",
       "  <thead>\n",
       "    <tr style=\"text-align: right;\">\n",
       "      <th></th>\n",
       "      <th>Unnamed: 0</th>\n",
       "      <th>ID</th>\n",
       "      <th>Description</th>\n",
       "      <th>GeneRatio</th>\n",
       "      <th>BgRatio</th>\n",
       "      <th>pvalue</th>\n",
       "      <th>p.adjust</th>\n",
       "      <th>qvalue</th>\n",
       "      <th>geneID</th>\n",
       "      <th>Count</th>\n",
       "    </tr>\n",
       "  </thead>\n",
       "  <tbody>\n",
       "    <tr>\n",
       "      <th>0</th>\n",
       "      <td>GO:0045165</td>\n",
       "      <td>GO:0045165</td>\n",
       "      <td>cell fate commitment</td>\n",
       "      <td>41/502</td>\n",
       "      <td>286/18870</td>\n",
       "      <td>1.009871e-18</td>\n",
       "      <td>4.236411e-15</td>\n",
       "      <td>3.350647e-15</td>\n",
       "      <td>TLX3/DLX1/GSX1/TBX18/NFIA/MITF/TBR1/LMO4/NEURO...</td>\n",
       "      <td>41</td>\n",
       "    </tr>\n",
       "    <tr>\n",
       "      <th>1</th>\n",
       "      <td>GO:0030900</td>\n",
       "      <td>GO:0030900</td>\n",
       "      <td>forebrain development</td>\n",
       "      <td>47/502</td>\n",
       "      <td>407/18870</td>\n",
       "      <td>1.980969e-17</td>\n",
       "      <td>4.155081e-14</td>\n",
       "      <td>3.286322e-14</td>\n",
       "      <td>OTP/PAX5/DLX1/GSX1/TBR1/NEUROD1/OTX1/POU3F2/SL...</td>\n",
       "      <td>47</td>\n",
       "    </tr>\n",
       "    <tr>\n",
       "      <th>2</th>\n",
       "      <td>GO:0045664</td>\n",
       "      <td>GO:0045664</td>\n",
       "      <td>regulation of neuron differentiation</td>\n",
       "      <td>32/502</td>\n",
       "      <td>198/18870</td>\n",
       "      <td>2.107256e-16</td>\n",
       "      <td>2.946646e-13</td>\n",
       "      <td>2.330551e-13</td>\n",
       "      <td>BDNF/NEUROD2/PHOX2B/TLX3/DLX1/ZFHX3/NEUROD1/CD...</td>\n",
       "      <td>32</td>\n",
       "    </tr>\n",
       "    <tr>\n",
       "      <th>3</th>\n",
       "      <td>GO:0007409</td>\n",
       "      <td>GO:0007409</td>\n",
       "      <td>axonogenesis</td>\n",
       "      <td>47/502</td>\n",
       "      <td>448/18870</td>\n",
       "      <td>8.648631e-16</td>\n",
       "      <td>9.070251e-13</td>\n",
       "      <td>7.173811e-13</td>\n",
       "      <td>BDNF/PHOX2B/TBR1/DRGX/LMO4/POU3F2/SEMA5B/AUTS2...</td>\n",
       "      <td>47</td>\n",
       "    </tr>\n",
       "    <tr>\n",
       "      <th>4</th>\n",
       "      <td>GO:0048568</td>\n",
       "      <td>GO:0048568</td>\n",
       "      <td>embryonic organ development</td>\n",
       "      <td>47/502</td>\n",
       "      <td>453/18870</td>\n",
       "      <td>1.327635e-15</td>\n",
       "      <td>1.113885e-12</td>\n",
       "      <td>8.809904e-13</td>\n",
       "      <td>PAX5/TBX18/NEUROD1/OTX1/DLL1/EN1/HOXB7/HOXC4/S...</td>\n",
       "      <td>47</td>\n",
       "    </tr>\n",
       "    <tr>\n",
       "      <th>5</th>\n",
       "      <td>GO:0007389</td>\n",
       "      <td>GO:0007389</td>\n",
       "      <td>pattern specification process</td>\n",
       "      <td>47/502</td>\n",
       "      <td>475/18870</td>\n",
       "      <td>8.126305e-15</td>\n",
       "      <td>5.681642e-12</td>\n",
       "      <td>4.493704e-12</td>\n",
       "      <td>EP300/DLX1/MEIS2/TBX18/TBR1/NEUROD1/OTX1/DLL1/...</td>\n",
       "      <td>47</td>\n",
       "    </tr>\n",
       "    <tr>\n",
       "      <th>6</th>\n",
       "      <td>GO:0048663</td>\n",
       "      <td>GO:0048663</td>\n",
       "      <td>neuron fate commitment</td>\n",
       "      <td>18/502</td>\n",
       "      <td>73/18870</td>\n",
       "      <td>4.686671e-13</td>\n",
       "      <td>2.808655e-10</td>\n",
       "      <td>2.221412e-10</td>\n",
       "      <td>TLX3/DLX1/GSX1/NFIA/TBR1/LMO4/DLL1/POU3F2/PRRX...</td>\n",
       "      <td>18</td>\n",
       "    </tr>\n",
       "    <tr>\n",
       "      <th>7</th>\n",
       "      <td>GO:0048705</td>\n",
       "      <td>GO:0048705</td>\n",
       "      <td>skeletal system morphogenesis</td>\n",
       "      <td>30/502</td>\n",
       "      <td>230/18870</td>\n",
       "      <td>6.406431e-13</td>\n",
       "      <td>3.359372e-10</td>\n",
       "      <td>2.656983e-10</td>\n",
       "      <td>PAX5/FGFR1/HOXB7/HOXC4/PRRX1/UNCX/TRIP11/FOXC1...</td>\n",
       "      <td>30</td>\n",
       "    </tr>\n",
       "    <tr>\n",
       "      <th>8</th>\n",
       "      <td>GO:0021537</td>\n",
       "      <td>GO:0021537</td>\n",
       "      <td>telencephalon development</td>\n",
       "      <td>32/502</td>\n",
       "      <td>276/18870</td>\n",
       "      <td>2.782115e-12</td>\n",
       "      <td>1.296775e-09</td>\n",
       "      <td>1.025641e-09</td>\n",
       "      <td>PAX5/DLX1/TBR1/NEUROD1/POU3F2/SLC32A1/LHX2/UNC...</td>\n",
       "      <td>32</td>\n",
       "    </tr>\n",
       "    <tr>\n",
       "      <th>9</th>\n",
       "      <td>GO:0048562</td>\n",
       "      <td>GO:0048562</td>\n",
       "      <td>embryonic organ morphogenesis</td>\n",
       "      <td>33/502</td>\n",
       "      <td>295/18870</td>\n",
       "      <td>3.407517e-12</td>\n",
       "      <td>1.429454e-09</td>\n",
       "      <td>1.130578e-09</td>\n",
       "      <td>PAX5/TBX18/NEUROD1/OTX1/DLL1/HOXB7/HOXC4/PRRX1...</td>\n",
       "      <td>33</td>\n",
       "    </tr>\n",
       "  </tbody>\n",
       "</table>\n",
       "</div>"
      ],
      "text/plain": [
       "   Unnamed: 0          ID                           Description GeneRatio  \\\n",
       "0  GO:0045165  GO:0045165                  cell fate commitment    41/502   \n",
       "1  GO:0030900  GO:0030900                 forebrain development    47/502   \n",
       "2  GO:0045664  GO:0045664  regulation of neuron differentiation    32/502   \n",
       "3  GO:0007409  GO:0007409                          axonogenesis    47/502   \n",
       "4  GO:0048568  GO:0048568           embryonic organ development    47/502   \n",
       "5  GO:0007389  GO:0007389         pattern specification process    47/502   \n",
       "6  GO:0048663  GO:0048663                neuron fate commitment    18/502   \n",
       "7  GO:0048705  GO:0048705         skeletal system morphogenesis    30/502   \n",
       "8  GO:0021537  GO:0021537             telencephalon development    32/502   \n",
       "9  GO:0048562  GO:0048562         embryonic organ morphogenesis    33/502   \n",
       "\n",
       "     BgRatio        pvalue      p.adjust        qvalue  \\\n",
       "0  286/18870  1.009871e-18  4.236411e-15  3.350647e-15   \n",
       "1  407/18870  1.980969e-17  4.155081e-14  3.286322e-14   \n",
       "2  198/18870  2.107256e-16  2.946646e-13  2.330551e-13   \n",
       "3  448/18870  8.648631e-16  9.070251e-13  7.173811e-13   \n",
       "4  453/18870  1.327635e-15  1.113885e-12  8.809904e-13   \n",
       "5  475/18870  8.126305e-15  5.681642e-12  4.493704e-12   \n",
       "6   73/18870  4.686671e-13  2.808655e-10  2.221412e-10   \n",
       "7  230/18870  6.406431e-13  3.359372e-10  2.656983e-10   \n",
       "8  276/18870  2.782115e-12  1.296775e-09  1.025641e-09   \n",
       "9  295/18870  3.407517e-12  1.429454e-09  1.130578e-09   \n",
       "\n",
       "                                              geneID  Count  \n",
       "0  TLX3/DLX1/GSX1/TBX18/NFIA/MITF/TBR1/LMO4/NEURO...     41  \n",
       "1  OTP/PAX5/DLX1/GSX1/TBR1/NEUROD1/OTX1/POU3F2/SL...     47  \n",
       "2  BDNF/NEUROD2/PHOX2B/TLX3/DLX1/ZFHX3/NEUROD1/CD...     32  \n",
       "3  BDNF/PHOX2B/TBR1/DRGX/LMO4/POU3F2/SEMA5B/AUTS2...     47  \n",
       "4  PAX5/TBX18/NEUROD1/OTX1/DLL1/EN1/HOXB7/HOXC4/S...     47  \n",
       "5  EP300/DLX1/MEIS2/TBX18/TBR1/NEUROD1/OTX1/DLL1/...     47  \n",
       "6  TLX3/DLX1/GSX1/NFIA/TBR1/LMO4/DLL1/POU3F2/PRRX...     18  \n",
       "7  PAX5/FGFR1/HOXB7/HOXC4/PRRX1/UNCX/TRIP11/FOXC1...     30  \n",
       "8  PAX5/DLX1/TBR1/NEUROD1/POU3F2/SLC32A1/LHX2/UNC...     32  \n",
       "9  PAX5/TBX18/NEUROD1/OTX1/DLL1/HOXB7/HOXC4/PRRX1...     33  "
      ]
     },
     "execution_count": 118,
     "metadata": {},
     "output_type": "execute_result"
    }
   ],
   "source": [
    "# Top 10 GO terms for Biological Processes\n",
    "bp_results_clock2.head(10).sort_values(by='p.adjust', ascending=True)"
   ]
  },
  {
   "cell_type": "code",
   "execution_count": 40,
   "metadata": {},
   "outputs": [
    {
     "data": {
      "text/html": [
       "<div>\n",
       "<style scoped>\n",
       "    .dataframe tbody tr th:only-of-type {\n",
       "        vertical-align: middle;\n",
       "    }\n",
       "\n",
       "    .dataframe tbody tr th {\n",
       "        vertical-align: top;\n",
       "    }\n",
       "\n",
       "    .dataframe thead th {\n",
       "        text-align: right;\n",
       "    }\n",
       "</style>\n",
       "<table border=\"1\" class=\"dataframe\">\n",
       "  <thead>\n",
       "    <tr style=\"text-align: right;\">\n",
       "      <th></th>\n",
       "      <th>Unnamed: 0</th>\n",
       "      <th>ID</th>\n",
       "      <th>Description</th>\n",
       "      <th>GeneRatio</th>\n",
       "      <th>BgRatio</th>\n",
       "      <th>pvalue</th>\n",
       "      <th>p.adjust</th>\n",
       "      <th>qvalue</th>\n",
       "      <th>geneID</th>\n",
       "      <th>Count</th>\n",
       "    </tr>\n",
       "  </thead>\n",
       "  <tbody>\n",
       "    <tr>\n",
       "      <th>0</th>\n",
       "      <td>GO:0001228</td>\n",
       "      <td>GO:0001228</td>\n",
       "      <td>DNA-binding transcription activator activity, ...</td>\n",
       "      <td>52/504</td>\n",
       "      <td>471/18496</td>\n",
       "      <td>6.869633e-18</td>\n",
       "      <td>3.279452e-15</td>\n",
       "      <td>2.946240e-15</td>\n",
       "      <td>PAX5/NEUROD2/PLAG1/PHOX2B/MEIS2/SOX4/GSX1/NFAT...</td>\n",
       "      <td>52</td>\n",
       "    </tr>\n",
       "    <tr>\n",
       "      <th>1</th>\n",
       "      <td>GO:0001216</td>\n",
       "      <td>GO:0001216</td>\n",
       "      <td>DNA-binding transcription activator activity</td>\n",
       "      <td>52/504</td>\n",
       "      <td>475/18496</td>\n",
       "      <td>9.907710e-18</td>\n",
       "      <td>3.279452e-15</td>\n",
       "      <td>2.946240e-15</td>\n",
       "      <td>PAX5/NEUROD2/PLAG1/PHOX2B/MEIS2/SOX4/GSX1/NFAT...</td>\n",
       "      <td>52</td>\n",
       "    </tr>\n",
       "    <tr>\n",
       "      <th>2</th>\n",
       "      <td>GO:0001217</td>\n",
       "      <td>GO:0001217</td>\n",
       "      <td>DNA-binding transcription repressor activity</td>\n",
       "      <td>42/504</td>\n",
       "      <td>334/18496</td>\n",
       "      <td>1.162822e-16</td>\n",
       "      <td>2.565960e-14</td>\n",
       "      <td>2.305243e-14</td>\n",
       "      <td>OTP/NR2F1/NFATC3/TBX18/MITF/ZFHX3/SATB1/EN1/PR...</td>\n",
       "      <td>42</td>\n",
       "    </tr>\n",
       "    <tr>\n",
       "      <th>3</th>\n",
       "      <td>GO:0140297</td>\n",
       "      <td>GO:0140297</td>\n",
       "      <td>DNA-binding transcription factor binding</td>\n",
       "      <td>50/504</td>\n",
       "      <td>477/18496</td>\n",
       "      <td>2.631556e-16</td>\n",
       "      <td>4.355224e-14</td>\n",
       "      <td>3.912708e-14</td>\n",
       "      <td>EP300/RBFOX2/CNOT1/NFIA/PRKCB/LMO4/NEUROD1/CDK...</td>\n",
       "      <td>50</td>\n",
       "    </tr>\n",
       "    <tr>\n",
       "      <th>4</th>\n",
       "      <td>GO:0001227</td>\n",
       "      <td>GO:0001227</td>\n",
       "      <td>DNA-binding transcription repressor activity, ...</td>\n",
       "      <td>39/504</td>\n",
       "      <td>326/18496</td>\n",
       "      <td>7.988933e-15</td>\n",
       "      <td>1.057735e-12</td>\n",
       "      <td>9.502625e-13</td>\n",
       "      <td>OTP/NR2F1/NFATC3/TBX18/MITF/ZFHX3/SATB1/EN1/PR...</td>\n",
       "      <td>39</td>\n",
       "    </tr>\n",
       "    <tr>\n",
       "      <th>5</th>\n",
       "      <td>GO:0071837</td>\n",
       "      <td>GO:0071837</td>\n",
       "      <td>HMG box domain binding</td>\n",
       "      <td>8/504</td>\n",
       "      <td>13/18496</td>\n",
       "      <td>3.284173e-10</td>\n",
       "      <td>3.623537e-08</td>\n",
       "      <td>3.255364e-08</td>\n",
       "      <td>TCF12/HOXC4/PRRX1/PAX3/DLX5/PAX6/GATA3/POU3F3</td>\n",
       "      <td>8</td>\n",
       "    </tr>\n",
       "    <tr>\n",
       "      <th>6</th>\n",
       "      <td>GO:0070888</td>\n",
       "      <td>GO:0070888</td>\n",
       "      <td>E-box binding</td>\n",
       "      <td>13/504</td>\n",
       "      <td>59/18496</td>\n",
       "      <td>5.044448e-09</td>\n",
       "      <td>4.770607e-07</td>\n",
       "      <td>4.285885e-07</td>\n",
       "      <td>NEUROD2/MITF/NEUROD1/TCF12/OLIG1/PRMT5/SCRT2/A...</td>\n",
       "      <td>13</td>\n",
       "    </tr>\n",
       "    <tr>\n",
       "      <th>7</th>\n",
       "      <td>GO:0008013</td>\n",
       "      <td>GO:0008013</td>\n",
       "      <td>beta-catenin binding</td>\n",
       "      <td>15/504</td>\n",
       "      <td>85/18496</td>\n",
       "      <td>8.593327e-09</td>\n",
       "      <td>6.989041e-07</td>\n",
       "      <td>6.278913e-07</td>\n",
       "      <td>EP300/RORA/BTRC/SALL1/NR4A2/RNF220/KDM6B/CTNND...</td>\n",
       "      <td>15</td>\n",
       "    </tr>\n",
       "    <tr>\n",
       "      <th>8</th>\n",
       "      <td>GO:0001221</td>\n",
       "      <td>GO:0001221</td>\n",
       "      <td>transcription coregulator binding</td>\n",
       "      <td>17/504</td>\n",
       "      <td>112/18496</td>\n",
       "      <td>9.501717e-09</td>\n",
       "      <td>6.989041e-07</td>\n",
       "      <td>6.278913e-07</td>\n",
       "      <td>CIT/EP300/RORA/LCOR/ATF7/RARA/GATA2/ZBTB16/CHD...</td>\n",
       "      <td>17</td>\n",
       "    </tr>\n",
       "    <tr>\n",
       "      <th>9</th>\n",
       "      <td>GO:0061629</td>\n",
       "      <td>GO:0061629</td>\n",
       "      <td>RNA polymerase II-specific DNA-binding transcr...</td>\n",
       "      <td>30/504</td>\n",
       "      <td>344/18496</td>\n",
       "      <td>2.262277e-08</td>\n",
       "      <td>1.497627e-06</td>\n",
       "      <td>1.345460e-06</td>\n",
       "      <td>EP300/CNOT1/PRKCB/NEUROD1/CDK5RAP3/DLL1/PRRX1/...</td>\n",
       "      <td>30</td>\n",
       "    </tr>\n",
       "  </tbody>\n",
       "</table>\n",
       "</div>"
      ],
      "text/plain": [
       "   Unnamed: 0          ID                                        Description  \\\n",
       "0  GO:0001228  GO:0001228  DNA-binding transcription activator activity, ...   \n",
       "1  GO:0001216  GO:0001216       DNA-binding transcription activator activity   \n",
       "2  GO:0001217  GO:0001217       DNA-binding transcription repressor activity   \n",
       "3  GO:0140297  GO:0140297           DNA-binding transcription factor binding   \n",
       "4  GO:0001227  GO:0001227  DNA-binding transcription repressor activity, ...   \n",
       "5  GO:0071837  GO:0071837                             HMG box domain binding   \n",
       "6  GO:0070888  GO:0070888                                      E-box binding   \n",
       "7  GO:0008013  GO:0008013                               beta-catenin binding   \n",
       "8  GO:0001221  GO:0001221                  transcription coregulator binding   \n",
       "9  GO:0061629  GO:0061629  RNA polymerase II-specific DNA-binding transcr...   \n",
       "\n",
       "  GeneRatio    BgRatio        pvalue      p.adjust        qvalue  \\\n",
       "0    52/504  471/18496  6.869633e-18  3.279452e-15  2.946240e-15   \n",
       "1    52/504  475/18496  9.907710e-18  3.279452e-15  2.946240e-15   \n",
       "2    42/504  334/18496  1.162822e-16  2.565960e-14  2.305243e-14   \n",
       "3    50/504  477/18496  2.631556e-16  4.355224e-14  3.912708e-14   \n",
       "4    39/504  326/18496  7.988933e-15  1.057735e-12  9.502625e-13   \n",
       "5     8/504   13/18496  3.284173e-10  3.623537e-08  3.255364e-08   \n",
       "6    13/504   59/18496  5.044448e-09  4.770607e-07  4.285885e-07   \n",
       "7    15/504   85/18496  8.593327e-09  6.989041e-07  6.278913e-07   \n",
       "8    17/504  112/18496  9.501717e-09  6.989041e-07  6.278913e-07   \n",
       "9    30/504  344/18496  2.262277e-08  1.497627e-06  1.345460e-06   \n",
       "\n",
       "                                              geneID  Count  \n",
       "0  PAX5/NEUROD2/PLAG1/PHOX2B/MEIS2/SOX4/GSX1/NFAT...     52  \n",
       "1  PAX5/NEUROD2/PLAG1/PHOX2B/MEIS2/SOX4/GSX1/NFAT...     52  \n",
       "2  OTP/NR2F1/NFATC3/TBX18/MITF/ZFHX3/SATB1/EN1/PR...     42  \n",
       "3  EP300/RBFOX2/CNOT1/NFIA/PRKCB/LMO4/NEUROD1/CDK...     50  \n",
       "4  OTP/NR2F1/NFATC3/TBX18/MITF/ZFHX3/SATB1/EN1/PR...     39  \n",
       "5      TCF12/HOXC4/PRRX1/PAX3/DLX5/PAX6/GATA3/POU3F3      8  \n",
       "6  NEUROD2/MITF/NEUROD1/TCF12/OLIG1/PRMT5/SCRT2/A...     13  \n",
       "7  EP300/RORA/BTRC/SALL1/NR4A2/RNF220/KDM6B/CTNND...     15  \n",
       "8  CIT/EP300/RORA/LCOR/ATF7/RARA/GATA2/ZBTB16/CHD...     17  \n",
       "9  EP300/CNOT1/PRKCB/NEUROD1/CDK5RAP3/DLL1/PRRX1/...     30  "
      ]
     },
     "execution_count": 40,
     "metadata": {},
     "output_type": "execute_result"
    }
   ],
   "source": [
    "# Top 10 GO terms for Molecular Functions\n",
    "mf_results_clock2.head(10).sort_values(by='p.adjust', ascending=True)"
   ]
  },
  {
   "cell_type": "code",
   "execution_count": 41,
   "metadata": {},
   "outputs": [
    {
     "data": {
      "text/html": [
       "<div>\n",
       "<style scoped>\n",
       "    .dataframe tbody tr th:only-of-type {\n",
       "        vertical-align: middle;\n",
       "    }\n",
       "\n",
       "    .dataframe tbody tr th {\n",
       "        vertical-align: top;\n",
       "    }\n",
       "\n",
       "    .dataframe thead th {\n",
       "        text-align: right;\n",
       "    }\n",
       "</style>\n",
       "<table border=\"1\" class=\"dataframe\">\n",
       "  <thead>\n",
       "    <tr style=\"text-align: right;\">\n",
       "      <th></th>\n",
       "      <th>Unnamed: 0</th>\n",
       "      <th>ID</th>\n",
       "      <th>Description</th>\n",
       "      <th>GeneRatio</th>\n",
       "      <th>BgRatio</th>\n",
       "      <th>pvalue</th>\n",
       "      <th>p.adjust</th>\n",
       "      <th>qvalue</th>\n",
       "      <th>geneID</th>\n",
       "      <th>Count</th>\n",
       "    </tr>\n",
       "  </thead>\n",
       "  <tbody>\n",
       "    <tr>\n",
       "      <th>0</th>\n",
       "      <td>GO:0097060</td>\n",
       "      <td>GO:0097060</td>\n",
       "      <td>synaptic membrane</td>\n",
       "      <td>34/512</td>\n",
       "      <td>393/19886</td>\n",
       "      <td>7.652715e-10</td>\n",
       "      <td>3.436069e-07</td>\n",
       "      <td>2.916087e-07</td>\n",
       "      <td>LHFPL4/GPHN/ANK1/KCNC4/GRID2/CNKSR2/STX2/DENND...</td>\n",
       "      <td>34</td>\n",
       "    </tr>\n",
       "    <tr>\n",
       "      <th>1</th>\n",
       "      <td>GO:0045211</td>\n",
       "      <td>GO:0045211</td>\n",
       "      <td>postsynaptic membrane</td>\n",
       "      <td>24/512</td>\n",
       "      <td>275/19886</td>\n",
       "      <td>2.114797e-07</td>\n",
       "      <td>4.747719e-05</td>\n",
       "      <td>4.029245e-05</td>\n",
       "      <td>LHFPL4/GPHN/ANK1/KCNC4/GRID2/CNKSR2/KCNA3/CLST...</td>\n",
       "      <td>24</td>\n",
       "    </tr>\n",
       "    <tr>\n",
       "      <th>2</th>\n",
       "      <td>GO:1990907</td>\n",
       "      <td>GO:1990907</td>\n",
       "      <td>beta-catenin-TCF complex</td>\n",
       "      <td>6/512</td>\n",
       "      <td>13/19886</td>\n",
       "      <td>4.163313e-07</td>\n",
       "      <td>6.231091e-05</td>\n",
       "      <td>5.288138e-05</td>\n",
       "      <td>TLE3/TLE1/TCF4/TCF7L2/BCL9L/BCL9</td>\n",
       "      <td>6</td>\n",
       "    </tr>\n",
       "    <tr>\n",
       "      <th>3</th>\n",
       "      <td>GO:0090575</td>\n",
       "      <td>GO:0090575</td>\n",
       "      <td>RNA polymerase II transcription regulator complex</td>\n",
       "      <td>22/512</td>\n",
       "      <td>254/19886</td>\n",
       "      <td>7.708882e-07</td>\n",
       "      <td>7.811573e-05</td>\n",
       "      <td>6.629444e-05</td>\n",
       "      <td>CREBZF/LMO4/NEUROD1/TLE3/TCF12/TLE1/TEAD1/ATF7...</td>\n",
       "      <td>22</td>\n",
       "    </tr>\n",
       "    <tr>\n",
       "      <th>4</th>\n",
       "      <td>GO:0098978</td>\n",
       "      <td>GO:0098978</td>\n",
       "      <td>glutamatergic synapse</td>\n",
       "      <td>29/512</td>\n",
       "      <td>407/19886</td>\n",
       "      <td>8.698856e-07</td>\n",
       "      <td>7.811573e-05</td>\n",
       "      <td>6.629444e-05</td>\n",
       "      <td>HNRNPD/GRID2/CADPS2/CNKSR2/ARF6/KCNA3/FLOT2/SL...</td>\n",
       "      <td>29</td>\n",
       "    </tr>\n",
       "    <tr>\n",
       "      <th>5</th>\n",
       "      <td>GO:0042734</td>\n",
       "      <td>GO:0042734</td>\n",
       "      <td>presynaptic membrane</td>\n",
       "      <td>17/512</td>\n",
       "      <td>165/19886</td>\n",
       "      <td>1.312412e-06</td>\n",
       "      <td>9.821216e-05</td>\n",
       "      <td>8.334967e-05</td>\n",
       "      <td>KCNC4/STX2/DENND1A/PDE2A/KCNA3/SLC1A2/PCDH17/C...</td>\n",
       "      <td>17</td>\n",
       "    </tr>\n",
       "    <tr>\n",
       "      <th>6</th>\n",
       "      <td>GO:0016607</td>\n",
       "      <td>GO:0016607</td>\n",
       "      <td>nuclear speck</td>\n",
       "      <td>28/512</td>\n",
       "      <td>417/19886</td>\n",
       "      <td>4.229422e-06</td>\n",
       "      <td>2.712872e-04</td>\n",
       "      <td>2.302332e-04</td>\n",
       "      <td>SRSF11/PLAG1/CLK2/KMT2E/ACIN1/SREK1/RSRC1/TCF1...</td>\n",
       "      <td>28</td>\n",
       "    </tr>\n",
       "    <tr>\n",
       "      <th>7</th>\n",
       "      <td>GO:0098984</td>\n",
       "      <td>GO:0098984</td>\n",
       "      <td>neuron to neuron synapse</td>\n",
       "      <td>25/512</td>\n",
       "      <td>362/19886</td>\n",
       "      <td>8.523821e-06</td>\n",
       "      <td>4.783995e-04</td>\n",
       "      <td>4.060031e-04</td>\n",
       "      <td>HNRNPD/GPHN/GRID2/CAMK2N1/CNKSR2/VTI1A/PLEKHA5...</td>\n",
       "      <td>25</td>\n",
       "    </tr>\n",
       "    <tr>\n",
       "      <th>8</th>\n",
       "      <td>GO:0099572</td>\n",
       "      <td>GO:0099572</td>\n",
       "      <td>postsynaptic specialization</td>\n",
       "      <td>24/512</td>\n",
       "      <td>346/19886</td>\n",
       "      <td>1.197518e-05</td>\n",
       "      <td>5.974285e-04</td>\n",
       "      <td>5.070194e-04</td>\n",
       "      <td>HNRNPD/LHFPL4/GPHN/GRID2/CAMK2N1/CNKSR2/PLEKHA...</td>\n",
       "      <td>24</td>\n",
       "    </tr>\n",
       "    <tr>\n",
       "      <th>9</th>\n",
       "      <td>GO:0032279</td>\n",
       "      <td>GO:0032279</td>\n",
       "      <td>asymmetric synapse</td>\n",
       "      <td>23/512</td>\n",
       "      <td>331/19886</td>\n",
       "      <td>1.764308e-05</td>\n",
       "      <td>7.921744e-04</td>\n",
       "      <td>6.722943e-04</td>\n",
       "      <td>HNRNPD/GPHN/GRID2/CAMK2N1/CNKSR2/PLEKHA5/PKP4/...</td>\n",
       "      <td>23</td>\n",
       "    </tr>\n",
       "  </tbody>\n",
       "</table>\n",
       "</div>"
      ],
      "text/plain": [
       "   Unnamed: 0          ID                                        Description  \\\n",
       "0  GO:0097060  GO:0097060                                  synaptic membrane   \n",
       "1  GO:0045211  GO:0045211                              postsynaptic membrane   \n",
       "2  GO:1990907  GO:1990907                           beta-catenin-TCF complex   \n",
       "3  GO:0090575  GO:0090575  RNA polymerase II transcription regulator complex   \n",
       "4  GO:0098978  GO:0098978                              glutamatergic synapse   \n",
       "5  GO:0042734  GO:0042734                               presynaptic membrane   \n",
       "6  GO:0016607  GO:0016607                                      nuclear speck   \n",
       "7  GO:0098984  GO:0098984                           neuron to neuron synapse   \n",
       "8  GO:0099572  GO:0099572                        postsynaptic specialization   \n",
       "9  GO:0032279  GO:0032279                                 asymmetric synapse   \n",
       "\n",
       "  GeneRatio    BgRatio        pvalue      p.adjust        qvalue  \\\n",
       "0    34/512  393/19886  7.652715e-10  3.436069e-07  2.916087e-07   \n",
       "1    24/512  275/19886  2.114797e-07  4.747719e-05  4.029245e-05   \n",
       "2     6/512   13/19886  4.163313e-07  6.231091e-05  5.288138e-05   \n",
       "3    22/512  254/19886  7.708882e-07  7.811573e-05  6.629444e-05   \n",
       "4    29/512  407/19886  8.698856e-07  7.811573e-05  6.629444e-05   \n",
       "5    17/512  165/19886  1.312412e-06  9.821216e-05  8.334967e-05   \n",
       "6    28/512  417/19886  4.229422e-06  2.712872e-04  2.302332e-04   \n",
       "7    25/512  362/19886  8.523821e-06  4.783995e-04  4.060031e-04   \n",
       "8    24/512  346/19886  1.197518e-05  5.974285e-04  5.070194e-04   \n",
       "9    23/512  331/19886  1.764308e-05  7.921744e-04  6.722943e-04   \n",
       "\n",
       "                                              geneID  Count  \n",
       "0  LHFPL4/GPHN/ANK1/KCNC4/GRID2/CNKSR2/STX2/DENND...     34  \n",
       "1  LHFPL4/GPHN/ANK1/KCNC4/GRID2/CNKSR2/KCNA3/CLST...     24  \n",
       "2                   TLE3/TLE1/TCF4/TCF7L2/BCL9L/BCL9      6  \n",
       "3  CREBZF/LMO4/NEUROD1/TLE3/TCF12/TLE1/TEAD1/ATF7...     22  \n",
       "4  HNRNPD/GRID2/CADPS2/CNKSR2/ARF6/KCNA3/FLOT2/SL...     29  \n",
       "5  KCNC4/STX2/DENND1A/PDE2A/KCNA3/SLC1A2/PCDH17/C...     17  \n",
       "6  SRSF11/PLAG1/CLK2/KMT2E/ACIN1/SREK1/RSRC1/TCF1...     28  \n",
       "7  HNRNPD/GPHN/GRID2/CAMK2N1/CNKSR2/VTI1A/PLEKHA5...     25  \n",
       "8  HNRNPD/LHFPL4/GPHN/GRID2/CAMK2N1/CNKSR2/PLEKHA...     24  \n",
       "9  HNRNPD/GPHN/GRID2/CAMK2N1/CNKSR2/PLEKHA5/PKP4/...     23  "
      ]
     },
     "execution_count": 41,
     "metadata": {},
     "output_type": "execute_result"
    }
   ],
   "source": [
    "# Top 10 GO terms for Cellular Components\n",
    "cc_results_clock2.head(10).sort_values(by='p.adjust', ascending=True)"
   ]
  },
  {
   "cell_type": "markdown",
   "metadata": {},
   "source": [
    "### Clock 3"
   ]
  },
  {
   "cell_type": "code",
   "execution_count": 97,
   "metadata": {},
   "outputs": [],
   "source": [
    "# Import GO analysis results of clock 3 for each of the three GO categories\n",
    "\n",
    "bp_results_clock3 = pd.read_csv('Go_Analysis_Clocks/Results - Clocks Full/Clock_3_full/Clock_3_full_GOA_BP_results.csv')\n",
    "mf_results_clock3 = pd.read_csv('Go_Analysis_Clocks/Results - Clocks Full/Clock_3_full/Clock_3_full_GOA_MF_results.csv')\n",
    "cc_results_clock3 = pd.read_csv('Go_Analysis_Clocks/Results - Clocks Full/Clock_3_full/Clock_3_full_GOA_CC_results.csv')"
   ]
  },
  {
   "cell_type": "code",
   "execution_count": 98,
   "metadata": {},
   "outputs": [
    {
     "data": {
      "text/html": [
       "<div>\n",
       "<style scoped>\n",
       "    .dataframe tbody tr th:only-of-type {\n",
       "        vertical-align: middle;\n",
       "    }\n",
       "\n",
       "    .dataframe tbody tr th {\n",
       "        vertical-align: top;\n",
       "    }\n",
       "\n",
       "    .dataframe thead th {\n",
       "        text-align: right;\n",
       "    }\n",
       "</style>\n",
       "<table border=\"1\" class=\"dataframe\">\n",
       "  <thead>\n",
       "    <tr style=\"text-align: right;\">\n",
       "      <th></th>\n",
       "      <th>Unnamed: 0</th>\n",
       "      <th>ID</th>\n",
       "      <th>Description</th>\n",
       "      <th>GeneRatio</th>\n",
       "      <th>BgRatio</th>\n",
       "      <th>pvalue</th>\n",
       "      <th>p.adjust</th>\n",
       "      <th>qvalue</th>\n",
       "      <th>geneID</th>\n",
       "      <th>Count</th>\n",
       "    </tr>\n",
       "  </thead>\n",
       "  <tbody>\n",
       "    <tr>\n",
       "      <th>0</th>\n",
       "      <td>GO:0007389</td>\n",
       "      <td>GO:0007389</td>\n",
       "      <td>pattern specification process</td>\n",
       "      <td>49/471</td>\n",
       "      <td>475/18870</td>\n",
       "      <td>3.026431e-17</td>\n",
       "      <td>1.226612e-13</td>\n",
       "      <td>9.480693e-14</td>\n",
       "      <td>HOXB7/NEUROD1/EP300/NR2F2/SSBP3/MEIS2/FOXB1/NO...</td>\n",
       "      <td>49</td>\n",
       "    </tr>\n",
       "    <tr>\n",
       "      <th>1</th>\n",
       "      <td>GO:0045165</td>\n",
       "      <td>GO:0045165</td>\n",
       "      <td>cell fate commitment</td>\n",
       "      <td>37/471</td>\n",
       "      <td>286/18870</td>\n",
       "      <td>2.031526e-16</td>\n",
       "      <td>4.116887e-13</td>\n",
       "      <td>3.182011e-13</td>\n",
       "      <td>NEUROD1/NR2F2/TBX18/NFIB/MITF/TLX3/TBR1/DLL1/D...</td>\n",
       "      <td>37</td>\n",
       "    </tr>\n",
       "    <tr>\n",
       "      <th>2</th>\n",
       "      <td>GO:0048568</td>\n",
       "      <td>GO:0048568</td>\n",
       "      <td>embryonic organ development</td>\n",
       "      <td>46/471</td>\n",
       "      <td>453/18870</td>\n",
       "      <td>5.505749e-16</td>\n",
       "      <td>7.438266e-13</td>\n",
       "      <td>5.749161e-13</td>\n",
       "      <td>HOXB7/NEUROD1/PAX5/NR2F2/NOG/TBX18/SALL1/DLL1/...</td>\n",
       "      <td>46</td>\n",
       "    </tr>\n",
       "    <tr>\n",
       "      <th>3</th>\n",
       "      <td>GO:0030900</td>\n",
       "      <td>GO:0030900</td>\n",
       "      <td>forebrain development</td>\n",
       "      <td>42/471</td>\n",
       "      <td>407/18870</td>\n",
       "      <td>6.265693e-15</td>\n",
       "      <td>6.348714e-12</td>\n",
       "      <td>4.907027e-12</td>\n",
       "      <td>FOXP1/OTP/NEUROD1/PAX5/NR2F2/FOXB1/NOG/NFIB/SA...</td>\n",
       "      <td>42</td>\n",
       "    </tr>\n",
       "    <tr>\n",
       "      <th>4</th>\n",
       "      <td>GO:0045664</td>\n",
       "      <td>GO:0045664</td>\n",
       "      <td>regulation of neuron differentiation</td>\n",
       "      <td>29/471</td>\n",
       "      <td>198/18870</td>\n",
       "      <td>1.515837e-14</td>\n",
       "      <td>1.228738e-11</td>\n",
       "      <td>9.497119e-12</td>\n",
       "      <td>NEUROD1/BDNF/PHOX2B/TLX3/BCL11A/NEUROD2/CASZ1/...</td>\n",
       "      <td>29</td>\n",
       "    </tr>\n",
       "    <tr>\n",
       "      <th>5</th>\n",
       "      <td>GO:0009952</td>\n",
       "      <td>GO:0009952</td>\n",
       "      <td>anterior/posterior pattern specification</td>\n",
       "      <td>30/471</td>\n",
       "      <td>219/18870</td>\n",
       "      <td>3.296193e-14</td>\n",
       "      <td>2.226578e-11</td>\n",
       "      <td>1.720960e-11</td>\n",
       "      <td>HOXB7/NEUROD1/EP300/NR2F2/SSBP3/FOXB1/NOG/TBX1...</td>\n",
       "      <td>30</td>\n",
       "    </tr>\n",
       "    <tr>\n",
       "      <th>6</th>\n",
       "      <td>GO:0007409</td>\n",
       "      <td>GO:0007409</td>\n",
       "      <td>axonogenesis</td>\n",
       "      <td>42/471</td>\n",
       "      <td>448/18870</td>\n",
       "      <td>1.702758e-13</td>\n",
       "      <td>9.858971e-11</td>\n",
       "      <td>7.620164e-11</td>\n",
       "      <td>BDNF/FOXB1/AUTS2/PHOX2B/NOG/NFIB/TBR1/SIN3A/NR...</td>\n",
       "      <td>42</td>\n",
       "    </tr>\n",
       "    <tr>\n",
       "      <th>7</th>\n",
       "      <td>GO:0003002</td>\n",
       "      <td>GO:0003002</td>\n",
       "      <td>regionalization</td>\n",
       "      <td>40/471</td>\n",
       "      <td>430/18870</td>\n",
       "      <td>8.499998e-13</td>\n",
       "      <td>4.306311e-10</td>\n",
       "      <td>3.328420e-10</td>\n",
       "      <td>HOXB7/NEUROD1/EP300/NR2F2/SSBP3/FOXB1/NOG/TBX1...</td>\n",
       "      <td>40</td>\n",
       "    </tr>\n",
       "    <tr>\n",
       "      <th>8</th>\n",
       "      <td>GO:0048880</td>\n",
       "      <td>GO:0048880</td>\n",
       "      <td>sensory system development</td>\n",
       "      <td>37/471</td>\n",
       "      <td>401/18870</td>\n",
       "      <td>8.071249e-12</td>\n",
       "      <td>3.634752e-09</td>\n",
       "      <td>2.809361e-09</td>\n",
       "      <td>NEUROD1/MEIS2/PHOX2B/NFIB/MITF/TENM3/DLL1/DLL4...</td>\n",
       "      <td>37</td>\n",
       "    </tr>\n",
       "    <tr>\n",
       "      <th>9</th>\n",
       "      <td>GO:0035107</td>\n",
       "      <td>GO:0035107</td>\n",
       "      <td>appendage morphogenesis</td>\n",
       "      <td>22/471</td>\n",
       "      <td>146/18870</td>\n",
       "      <td>1.343903e-11</td>\n",
       "      <td>4.951672e-09</td>\n",
       "      <td>3.827230e-09</td>\n",
       "      <td>EVX2/NOG/SALL1/HOXA11/NIPBL/GPC3/GLI3/DLX5/PBX...</td>\n",
       "      <td>22</td>\n",
       "    </tr>\n",
       "  </tbody>\n",
       "</table>\n",
       "</div>"
      ],
      "text/plain": [
       "   Unnamed: 0          ID                               Description GeneRatio  \\\n",
       "0  GO:0007389  GO:0007389             pattern specification process    49/471   \n",
       "1  GO:0045165  GO:0045165                      cell fate commitment    37/471   \n",
       "2  GO:0048568  GO:0048568               embryonic organ development    46/471   \n",
       "3  GO:0030900  GO:0030900                     forebrain development    42/471   \n",
       "4  GO:0045664  GO:0045664      regulation of neuron differentiation    29/471   \n",
       "5  GO:0009952  GO:0009952  anterior/posterior pattern specification    30/471   \n",
       "6  GO:0007409  GO:0007409                              axonogenesis    42/471   \n",
       "7  GO:0003002  GO:0003002                           regionalization    40/471   \n",
       "8  GO:0048880  GO:0048880                sensory system development    37/471   \n",
       "9  GO:0035107  GO:0035107                   appendage morphogenesis    22/471   \n",
       "\n",
       "     BgRatio        pvalue      p.adjust        qvalue  \\\n",
       "0  475/18870  3.026431e-17  1.226612e-13  9.480693e-14   \n",
       "1  286/18870  2.031526e-16  4.116887e-13  3.182011e-13   \n",
       "2  453/18870  5.505749e-16  7.438266e-13  5.749161e-13   \n",
       "3  407/18870  6.265693e-15  6.348714e-12  4.907027e-12   \n",
       "4  198/18870  1.515837e-14  1.228738e-11  9.497119e-12   \n",
       "5  219/18870  3.296193e-14  2.226578e-11  1.720960e-11   \n",
       "6  448/18870  1.702758e-13  9.858971e-11  7.620164e-11   \n",
       "7  430/18870  8.499998e-13  4.306311e-10  3.328420e-10   \n",
       "8  401/18870  8.071249e-12  3.634752e-09  2.809361e-09   \n",
       "9  146/18870  1.343903e-11  4.951672e-09  3.827230e-09   \n",
       "\n",
       "                                              geneID  Count  \n",
       "0  HOXB7/NEUROD1/EP300/NR2F2/SSBP3/MEIS2/FOXB1/NO...     49  \n",
       "1  NEUROD1/NR2F2/TBX18/NFIB/MITF/TLX3/TBR1/DLL1/D...     37  \n",
       "2  HOXB7/NEUROD1/PAX5/NR2F2/NOG/TBX18/SALL1/DLL1/...     46  \n",
       "3  FOXP1/OTP/NEUROD1/PAX5/NR2F2/FOXB1/NOG/NFIB/SA...     42  \n",
       "4  NEUROD1/BDNF/PHOX2B/TLX3/BCL11A/NEUROD2/CASZ1/...     29  \n",
       "5  HOXB7/NEUROD1/EP300/NR2F2/SSBP3/FOXB1/NOG/TBX1...     30  \n",
       "6  BDNF/FOXB1/AUTS2/PHOX2B/NOG/NFIB/TBR1/SIN3A/NR...     42  \n",
       "7  HOXB7/NEUROD1/EP300/NR2F2/SSBP3/FOXB1/NOG/TBX1...     40  \n",
       "8  NEUROD1/MEIS2/PHOX2B/NFIB/MITF/TENM3/DLL1/DLL4...     37  \n",
       "9  EVX2/NOG/SALL1/HOXA11/NIPBL/GPC3/GLI3/DLX5/PBX...     22  "
      ]
     },
     "execution_count": 98,
     "metadata": {},
     "output_type": "execute_result"
    }
   ],
   "source": [
    "# Top 10 GO terms for Biological Processes\n",
    "bp_results_clock3.head(10).sort_values(by='p.adjust', ascending=True)"
   ]
  },
  {
   "cell_type": "code",
   "execution_count": 99,
   "metadata": {},
   "outputs": [
    {
     "data": {
      "text/html": [
       "<div>\n",
       "<style scoped>\n",
       "    .dataframe tbody tr th:only-of-type {\n",
       "        vertical-align: middle;\n",
       "    }\n",
       "\n",
       "    .dataframe tbody tr th {\n",
       "        vertical-align: top;\n",
       "    }\n",
       "\n",
       "    .dataframe thead th {\n",
       "        text-align: right;\n",
       "    }\n",
       "</style>\n",
       "<table border=\"1\" class=\"dataframe\">\n",
       "  <thead>\n",
       "    <tr style=\"text-align: right;\">\n",
       "      <th></th>\n",
       "      <th>Unnamed: 0</th>\n",
       "      <th>ID</th>\n",
       "      <th>Description</th>\n",
       "      <th>GeneRatio</th>\n",
       "      <th>BgRatio</th>\n",
       "      <th>pvalue</th>\n",
       "      <th>p.adjust</th>\n",
       "      <th>qvalue</th>\n",
       "      <th>geneID</th>\n",
       "      <th>Count</th>\n",
       "    </tr>\n",
       "  </thead>\n",
       "  <tbody>\n",
       "    <tr>\n",
       "      <th>0</th>\n",
       "      <td>GO:0140297</td>\n",
       "      <td>GO:0140297</td>\n",
       "      <td>DNA-binding transcription factor binding</td>\n",
       "      <td>47/466</td>\n",
       "      <td>477/18496</td>\n",
       "      <td>1.164003e-15</td>\n",
       "      <td>6.890899e-13</td>\n",
       "      <td>5.918038e-13</td>\n",
       "      <td>FOXP1/NEUROD1/EP300/CNOT1/ZMYND8/RBFOX2/DLL1/S...</td>\n",
       "      <td>47</td>\n",
       "    </tr>\n",
       "    <tr>\n",
       "      <th>1</th>\n",
       "      <td>GO:0001228</td>\n",
       "      <td>GO:0001228</td>\n",
       "      <td>DNA-binding transcription activator activity, ...</td>\n",
       "      <td>46/466</td>\n",
       "      <td>471/18496</td>\n",
       "      <td>3.333406e-15</td>\n",
       "      <td>9.032310e-13</td>\n",
       "      <td>7.757123e-13</td>\n",
       "      <td>HOXB7/NEUROD1/PAX5/MEIS2/PLAG1/PHOX2B/NFIB/MIT...</td>\n",
       "      <td>46</td>\n",
       "    </tr>\n",
       "    <tr>\n",
       "      <th>2</th>\n",
       "      <td>GO:0001216</td>\n",
       "      <td>GO:0001216</td>\n",
       "      <td>DNA-binding transcription activator activity</td>\n",
       "      <td>46/466</td>\n",
       "      <td>475/18496</td>\n",
       "      <td>4.577184e-15</td>\n",
       "      <td>9.032310e-13</td>\n",
       "      <td>7.757123e-13</td>\n",
       "      <td>HOXB7/NEUROD1/PAX5/MEIS2/PLAG1/PHOX2B/NFIB/MIT...</td>\n",
       "      <td>46</td>\n",
       "    </tr>\n",
       "    <tr>\n",
       "      <th>3</th>\n",
       "      <td>GO:0008013</td>\n",
       "      <td>GO:0008013</td>\n",
       "      <td>beta-catenin binding</td>\n",
       "      <td>20/466</td>\n",
       "      <td>85/18496</td>\n",
       "      <td>2.197395e-14</td>\n",
       "      <td>3.252145e-12</td>\n",
       "      <td>2.793005e-12</td>\n",
       "      <td>EP300/BTRC/SALL1/RORA/RNF220/GSK3B/DVL3/AXIN2/...</td>\n",
       "      <td>20</td>\n",
       "    </tr>\n",
       "    <tr>\n",
       "      <th>4</th>\n",
       "      <td>GO:0001217</td>\n",
       "      <td>GO:0001217</td>\n",
       "      <td>DNA-binding transcription repressor activity</td>\n",
       "      <td>33/466</td>\n",
       "      <td>334/18496</td>\n",
       "      <td>2.308207e-11</td>\n",
       "      <td>2.732917e-09</td>\n",
       "      <td>2.347082e-09</td>\n",
       "      <td>FOXP1/OTP/TBX18/NR2F1/SALL1/MITF/SATB1/BCL11A/...</td>\n",
       "      <td>33</td>\n",
       "    </tr>\n",
       "    <tr>\n",
       "      <th>5</th>\n",
       "      <td>GO:0061629</td>\n",
       "      <td>GO:0061629</td>\n",
       "      <td>RNA polymerase II-specific DNA-binding transcr...</td>\n",
       "      <td>33/466</td>\n",
       "      <td>344/18496</td>\n",
       "      <td>5.088156e-11</td>\n",
       "      <td>5.020314e-09</td>\n",
       "      <td>4.311543e-09</td>\n",
       "      <td>FOXP1/NEUROD1/EP300/CNOT1/DLL1/SIN3A/LCOR/FOXC...</td>\n",
       "      <td>33</td>\n",
       "    </tr>\n",
       "    <tr>\n",
       "      <th>6</th>\n",
       "      <td>GO:0001227</td>\n",
       "      <td>GO:0001227</td>\n",
       "      <td>DNA-binding transcription repressor activity, ...</td>\n",
       "      <td>30/466</td>\n",
       "      <td>326/18496</td>\n",
       "      <td>1.067336e-09</td>\n",
       "      <td>9.026616e-08</td>\n",
       "      <td>7.752232e-08</td>\n",
       "      <td>FOXP1/OTP/TBX18/NR2F1/SALL1/MITF/SATB1/BCL11A/...</td>\n",
       "      <td>30</td>\n",
       "    </tr>\n",
       "    <tr>\n",
       "      <th>7</th>\n",
       "      <td>GO:0003713</td>\n",
       "      <td>GO:0003713</td>\n",
       "      <td>transcription coactivator activity</td>\n",
       "      <td>25/466</td>\n",
       "      <td>280/18496</td>\n",
       "      <td>4.877932e-08</td>\n",
       "      <td>3.251082e-06</td>\n",
       "      <td>2.792092e-06</td>\n",
       "      <td>EP300/SSBP3/KMT2E/MAML3/KAT6B/PRKCB/MED27/LMO3...</td>\n",
       "      <td>25</td>\n",
       "    </tr>\n",
       "    <tr>\n",
       "      <th>8</th>\n",
       "      <td>GO:0004879</td>\n",
       "      <td>GO:0004879</td>\n",
       "      <td>nuclear receptor activity</td>\n",
       "      <td>11/466</td>\n",
       "      <td>52/18496</td>\n",
       "      <td>5.491692e-08</td>\n",
       "      <td>3.251082e-06</td>\n",
       "      <td>2.792092e-06</td>\n",
       "      <td>NR2F2/NR2F1/RORA/RARA/ESRRG/ESRRB/NR4A2/NR6A1/...</td>\n",
       "      <td>11</td>\n",
       "    </tr>\n",
       "    <tr>\n",
       "      <th>9</th>\n",
       "      <td>GO:0098531</td>\n",
       "      <td>GO:0098531</td>\n",
       "      <td>ligand-activated transcription factor activity</td>\n",
       "      <td>11/466</td>\n",
       "      <td>52/18496</td>\n",
       "      <td>5.491692e-08</td>\n",
       "      <td>3.251082e-06</td>\n",
       "      <td>2.792092e-06</td>\n",
       "      <td>NR2F2/NR2F1/RORA/RARA/ESRRG/ESRRB/NR4A2/NR6A1/...</td>\n",
       "      <td>11</td>\n",
       "    </tr>\n",
       "  </tbody>\n",
       "</table>\n",
       "</div>"
      ],
      "text/plain": [
       "   Unnamed: 0          ID                                        Description  \\\n",
       "0  GO:0140297  GO:0140297           DNA-binding transcription factor binding   \n",
       "1  GO:0001228  GO:0001228  DNA-binding transcription activator activity, ...   \n",
       "2  GO:0001216  GO:0001216       DNA-binding transcription activator activity   \n",
       "3  GO:0008013  GO:0008013                               beta-catenin binding   \n",
       "4  GO:0001217  GO:0001217       DNA-binding transcription repressor activity   \n",
       "5  GO:0061629  GO:0061629  RNA polymerase II-specific DNA-binding transcr...   \n",
       "6  GO:0001227  GO:0001227  DNA-binding transcription repressor activity, ...   \n",
       "7  GO:0003713  GO:0003713                 transcription coactivator activity   \n",
       "8  GO:0004879  GO:0004879                          nuclear receptor activity   \n",
       "9  GO:0098531  GO:0098531     ligand-activated transcription factor activity   \n",
       "\n",
       "  GeneRatio    BgRatio        pvalue      p.adjust        qvalue  \\\n",
       "0    47/466  477/18496  1.164003e-15  6.890899e-13  5.918038e-13   \n",
       "1    46/466  471/18496  3.333406e-15  9.032310e-13  7.757123e-13   \n",
       "2    46/466  475/18496  4.577184e-15  9.032310e-13  7.757123e-13   \n",
       "3    20/466   85/18496  2.197395e-14  3.252145e-12  2.793005e-12   \n",
       "4    33/466  334/18496  2.308207e-11  2.732917e-09  2.347082e-09   \n",
       "5    33/466  344/18496  5.088156e-11  5.020314e-09  4.311543e-09   \n",
       "6    30/466  326/18496  1.067336e-09  9.026616e-08  7.752232e-08   \n",
       "7    25/466  280/18496  4.877932e-08  3.251082e-06  2.792092e-06   \n",
       "8    11/466   52/18496  5.491692e-08  3.251082e-06  2.792092e-06   \n",
       "9    11/466   52/18496  5.491692e-08  3.251082e-06  2.792092e-06   \n",
       "\n",
       "                                              geneID  Count  \n",
       "0  FOXP1/NEUROD1/EP300/CNOT1/ZMYND8/RBFOX2/DLL1/S...     47  \n",
       "1  HOXB7/NEUROD1/PAX5/MEIS2/PLAG1/PHOX2B/NFIB/MIT...     46  \n",
       "2  HOXB7/NEUROD1/PAX5/MEIS2/PLAG1/PHOX2B/NFIB/MIT...     46  \n",
       "3  EP300/BTRC/SALL1/RORA/RNF220/GSK3B/DVL3/AXIN2/...     20  \n",
       "4  FOXP1/OTP/TBX18/NR2F1/SALL1/MITF/SATB1/BCL11A/...     33  \n",
       "5  FOXP1/NEUROD1/EP300/CNOT1/DLL1/SIN3A/LCOR/FOXC...     33  \n",
       "6  FOXP1/OTP/TBX18/NR2F1/SALL1/MITF/SATB1/BCL11A/...     30  \n",
       "7  EP300/SSBP3/KMT2E/MAML3/KAT6B/PRKCB/MED27/LMO3...     25  \n",
       "8  NR2F2/NR2F1/RORA/RARA/ESRRG/ESRRB/NR4A2/NR6A1/...     11  \n",
       "9  NR2F2/NR2F1/RORA/RARA/ESRRG/ESRRB/NR4A2/NR6A1/...     11  "
      ]
     },
     "execution_count": 99,
     "metadata": {},
     "output_type": "execute_result"
    }
   ],
   "source": [
    "# Top 10 GO terms for Molecular Functions\n",
    "mf_results_clock3.head(10).sort_values(by='p.adjust', ascending=True)"
   ]
  },
  {
   "cell_type": "code",
   "execution_count": 100,
   "metadata": {},
   "outputs": [
    {
     "data": {
      "text/html": [
       "<div>\n",
       "<style scoped>\n",
       "    .dataframe tbody tr th:only-of-type {\n",
       "        vertical-align: middle;\n",
       "    }\n",
       "\n",
       "    .dataframe tbody tr th {\n",
       "        vertical-align: top;\n",
       "    }\n",
       "\n",
       "    .dataframe thead th {\n",
       "        text-align: right;\n",
       "    }\n",
       "</style>\n",
       "<table border=\"1\" class=\"dataframe\">\n",
       "  <thead>\n",
       "    <tr style=\"text-align: right;\">\n",
       "      <th></th>\n",
       "      <th>Unnamed: 0</th>\n",
       "      <th>ID</th>\n",
       "      <th>Description</th>\n",
       "      <th>GeneRatio</th>\n",
       "      <th>BgRatio</th>\n",
       "      <th>pvalue</th>\n",
       "      <th>p.adjust</th>\n",
       "      <th>qvalue</th>\n",
       "      <th>geneID</th>\n",
       "      <th>Count</th>\n",
       "    </tr>\n",
       "  </thead>\n",
       "  <tbody>\n",
       "    <tr>\n",
       "      <th>0</th>\n",
       "      <td>GO:0097060</td>\n",
       "      <td>GO:0097060</td>\n",
       "      <td>synaptic membrane</td>\n",
       "      <td>35/481</td>\n",
       "      <td>393/19886</td>\n",
       "      <td>3.536501e-11</td>\n",
       "      <td>1.591425e-08</td>\n",
       "      <td>1.410878e-08</td>\n",
       "      <td>LHFPL4/GPHN/KCNC4/DENND1A/PDE2A/CLSTN3/KCNMA1/...</td>\n",
       "      <td>35</td>\n",
       "    </tr>\n",
       "    <tr>\n",
       "      <th>1</th>\n",
       "      <td>GO:0045211</td>\n",
       "      <td>GO:0045211</td>\n",
       "      <td>postsynaptic membrane</td>\n",
       "      <td>26/481</td>\n",
       "      <td>275/19886</td>\n",
       "      <td>3.570344e-09</td>\n",
       "      <td>8.033275e-07</td>\n",
       "      <td>7.121897e-07</td>\n",
       "      <td>LHFPL4/GPHN/KCNC4/CLSTN3/KCNMA1/KCTD12/DLG2/ER...</td>\n",
       "      <td>26</td>\n",
       "    </tr>\n",
       "    <tr>\n",
       "      <th>2</th>\n",
       "      <td>GO:0016607</td>\n",
       "      <td>GO:0016607</td>\n",
       "      <td>nuclear speck</td>\n",
       "      <td>32/481</td>\n",
       "      <td>417/19886</td>\n",
       "      <td>9.938844e-09</td>\n",
       "      <td>1.490827e-06</td>\n",
       "      <td>1.321692e-06</td>\n",
       "      <td>PLAG1/KMT2E/CLK2/DDX46/SREK1/SRSF11/MAML3/DENN...</td>\n",
       "      <td>32</td>\n",
       "    </tr>\n",
       "    <tr>\n",
       "      <th>3</th>\n",
       "      <td>GO:0098984</td>\n",
       "      <td>GO:0098984</td>\n",
       "      <td>neuron to neuron synapse</td>\n",
       "      <td>28/481</td>\n",
       "      <td>362/19886</td>\n",
       "      <td>7.175050e-08</td>\n",
       "      <td>8.071932e-06</td>\n",
       "      <td>7.156169e-06</td>\n",
       "      <td>HNRNPD/GPHN/VTI1A/CLSTN3/DLG2/CAMK2N1/ERBB4/NP...</td>\n",
       "      <td>28</td>\n",
       "    </tr>\n",
       "    <tr>\n",
       "      <th>4</th>\n",
       "      <td>GO:0032279</td>\n",
       "      <td>GO:0032279</td>\n",
       "      <td>asymmetric synapse</td>\n",
       "      <td>25/481</td>\n",
       "      <td>331/19886</td>\n",
       "      <td>5.648056e-07</td>\n",
       "      <td>5.083251e-05</td>\n",
       "      <td>4.506554e-05</td>\n",
       "      <td>HNRNPD/GPHN/CLSTN3/DLG2/CAMK2N1/ERBB4/NPTN/CAD...</td>\n",
       "      <td>25</td>\n",
       "    </tr>\n",
       "    <tr>\n",
       "      <th>5</th>\n",
       "      <td>GO:0099572</td>\n",
       "      <td>GO:0099572</td>\n",
       "      <td>postsynaptic specialization</td>\n",
       "      <td>25/481</td>\n",
       "      <td>346/19886</td>\n",
       "      <td>1.274852e-06</td>\n",
       "      <td>9.561387e-05</td>\n",
       "      <td>8.476645e-05</td>\n",
       "      <td>HNRNPD/LHFPL4/GPHN/CLSTN3/DLG2/CAMK2N1/ERBB4/N...</td>\n",
       "      <td>25</td>\n",
       "    </tr>\n",
       "    <tr>\n",
       "      <th>6</th>\n",
       "      <td>GO:0099634</td>\n",
       "      <td>GO:0099634</td>\n",
       "      <td>postsynaptic specialization membrane</td>\n",
       "      <td>14/481</td>\n",
       "      <td>122/19886</td>\n",
       "      <td>1.530328e-06</td>\n",
       "      <td>9.837824e-05</td>\n",
       "      <td>8.721720e-05</td>\n",
       "      <td>GPHN/CLSTN3/DLG2/ERBB4/GRIA4/CNKSR2/NLGN2/CACN...</td>\n",
       "      <td>14</td>\n",
       "    </tr>\n",
       "    <tr>\n",
       "      <th>7</th>\n",
       "      <td>GO:0042734</td>\n",
       "      <td>GO:0042734</td>\n",
       "      <td>presynaptic membrane</td>\n",
       "      <td>16/481</td>\n",
       "      <td>165/19886</td>\n",
       "      <td>2.671740e-06</td>\n",
       "      <td>1.420756e-04</td>\n",
       "      <td>1.259571e-04</td>\n",
       "      <td>KCNC4/DENND1A/PDE2A/NRXN1/KCTD12/ERBB4/NPTN/P2...</td>\n",
       "      <td>16</td>\n",
       "    </tr>\n",
       "    <tr>\n",
       "      <th>8</th>\n",
       "      <td>GO:0014069</td>\n",
       "      <td>GO:0014069</td>\n",
       "      <td>postsynaptic density</td>\n",
       "      <td>23/481</td>\n",
       "      <td>315/19886</td>\n",
       "      <td>2.841511e-06</td>\n",
       "      <td>1.420756e-04</td>\n",
       "      <td>1.259571e-04</td>\n",
       "      <td>HNRNPD/GPHN/CLSTN3/DLG2/CAMK2N1/ERBB4/NPTN/CAD...</td>\n",
       "      <td>23</td>\n",
       "    </tr>\n",
       "    <tr>\n",
       "      <th>9</th>\n",
       "      <td>GO:0090575</td>\n",
       "      <td>GO:0090575</td>\n",
       "      <td>RNA polymerase II transcription regulator complex</td>\n",
       "      <td>20/481</td>\n",
       "      <td>254/19886</td>\n",
       "      <td>4.088588e-06</td>\n",
       "      <td>1.839865e-04</td>\n",
       "      <td>1.631132e-04</td>\n",
       "      <td>NEUROD1/TLE3/CREBZF/RARA/TEAD1/ATF7/MED27/LMO4...</td>\n",
       "      <td>20</td>\n",
       "    </tr>\n",
       "  </tbody>\n",
       "</table>\n",
       "</div>"
      ],
      "text/plain": [
       "   Unnamed: 0          ID                                        Description  \\\n",
       "0  GO:0097060  GO:0097060                                  synaptic membrane   \n",
       "1  GO:0045211  GO:0045211                              postsynaptic membrane   \n",
       "2  GO:0016607  GO:0016607                                      nuclear speck   \n",
       "3  GO:0098984  GO:0098984                           neuron to neuron synapse   \n",
       "4  GO:0032279  GO:0032279                                 asymmetric synapse   \n",
       "5  GO:0099572  GO:0099572                        postsynaptic specialization   \n",
       "6  GO:0099634  GO:0099634               postsynaptic specialization membrane   \n",
       "7  GO:0042734  GO:0042734                               presynaptic membrane   \n",
       "8  GO:0014069  GO:0014069                               postsynaptic density   \n",
       "9  GO:0090575  GO:0090575  RNA polymerase II transcription regulator complex   \n",
       "\n",
       "  GeneRatio    BgRatio        pvalue      p.adjust        qvalue  \\\n",
       "0    35/481  393/19886  3.536501e-11  1.591425e-08  1.410878e-08   \n",
       "1    26/481  275/19886  3.570344e-09  8.033275e-07  7.121897e-07   \n",
       "2    32/481  417/19886  9.938844e-09  1.490827e-06  1.321692e-06   \n",
       "3    28/481  362/19886  7.175050e-08  8.071932e-06  7.156169e-06   \n",
       "4    25/481  331/19886  5.648056e-07  5.083251e-05  4.506554e-05   \n",
       "5    25/481  346/19886  1.274852e-06  9.561387e-05  8.476645e-05   \n",
       "6    14/481  122/19886  1.530328e-06  9.837824e-05  8.721720e-05   \n",
       "7    16/481  165/19886  2.671740e-06  1.420756e-04  1.259571e-04   \n",
       "8    23/481  315/19886  2.841511e-06  1.420756e-04  1.259571e-04   \n",
       "9    20/481  254/19886  4.088588e-06  1.839865e-04  1.631132e-04   \n",
       "\n",
       "                                              geneID  Count  \n",
       "0  LHFPL4/GPHN/KCNC4/DENND1A/PDE2A/CLSTN3/KCNMA1/...     35  \n",
       "1  LHFPL4/GPHN/KCNC4/CLSTN3/KCNMA1/KCTD12/DLG2/ER...     26  \n",
       "2  PLAG1/KMT2E/CLK2/DDX46/SREK1/SRSF11/MAML3/DENN...     32  \n",
       "3  HNRNPD/GPHN/VTI1A/CLSTN3/DLG2/CAMK2N1/ERBB4/NP...     28  \n",
       "4  HNRNPD/GPHN/CLSTN3/DLG2/CAMK2N1/ERBB4/NPTN/CAD...     25  \n",
       "5  HNRNPD/LHFPL4/GPHN/CLSTN3/DLG2/CAMK2N1/ERBB4/N...     25  \n",
       "6  GPHN/CLSTN3/DLG2/ERBB4/GRIA4/CNKSR2/NLGN2/CACN...     14  \n",
       "7  KCNC4/DENND1A/PDE2A/NRXN1/KCTD12/ERBB4/NPTN/P2...     16  \n",
       "8  HNRNPD/GPHN/CLSTN3/DLG2/CAMK2N1/ERBB4/NPTN/CAD...     23  \n",
       "9  NEUROD1/TLE3/CREBZF/RARA/TEAD1/ATF7/MED27/LMO4...     20  "
      ]
     },
     "execution_count": 100,
     "metadata": {},
     "output_type": "execute_result"
    }
   ],
   "source": [
    "# Top 10 GO terms for Cellular Components\n",
    "cc_results_clock3.head(10).sort_values(by='p.adjust', ascending=True)"
   ]
  },
  {
   "cell_type": "markdown",
   "metadata": {},
   "source": [
    "### Clock 2 & 3 Overlap "
   ]
  },
  {
   "cell_type": "code",
   "execution_count": 104,
   "metadata": {},
   "outputs": [],
   "source": [
    "# Import GO analysis results of clock 4 for each of the three GO categories\n",
    "\n",
    "bp_results_clock2_3 = pd.read_csv('Go_Analysis_Clocks/Results - Clocks Full/Clocks_2_3_overlap_full/Clocks_2_3_overlap_full_GOA_BP_results.csv')\n",
    "mf_results_clock2_3 = pd.read_csv('Go_Analysis_Clocks/Results - Clocks Full/Clocks_2_3_overlap_full/Clocks_2_3_overlap_full_GOA_MF_results.csv')\n",
    "cc_results_clock2_3 = pd.read_csv('Go_Analysis_Clocks/Results - Clocks Full/Clocks_2_3_overlap_full/Clocks_2_3_overlap_full_GOA_CC_results.csv')"
   ]
  },
  {
   "cell_type": "code",
   "execution_count": 105,
   "metadata": {},
   "outputs": [
    {
     "data": {
      "text/html": [
       "<div>\n",
       "<style scoped>\n",
       "    .dataframe tbody tr th:only-of-type {\n",
       "        vertical-align: middle;\n",
       "    }\n",
       "\n",
       "    .dataframe tbody tr th {\n",
       "        vertical-align: top;\n",
       "    }\n",
       "\n",
       "    .dataframe thead th {\n",
       "        text-align: right;\n",
       "    }\n",
       "</style>\n",
       "<table border=\"1\" class=\"dataframe\">\n",
       "  <thead>\n",
       "    <tr style=\"text-align: right;\">\n",
       "      <th></th>\n",
       "      <th>Unnamed: 0</th>\n",
       "      <th>ID</th>\n",
       "      <th>Description</th>\n",
       "      <th>GeneRatio</th>\n",
       "      <th>BgRatio</th>\n",
       "      <th>pvalue</th>\n",
       "      <th>p.adjust</th>\n",
       "      <th>qvalue</th>\n",
       "      <th>geneID</th>\n",
       "      <th>Count</th>\n",
       "    </tr>\n",
       "  </thead>\n",
       "  <tbody>\n",
       "    <tr>\n",
       "      <th>0</th>\n",
       "      <td>GO:0045165</td>\n",
       "      <td>GO:0045165</td>\n",
       "      <td>cell fate commitment</td>\n",
       "      <td>30/329</td>\n",
       "      <td>286/18870</td>\n",
       "      <td>3.274044e-15</td>\n",
       "      <td>1.182912e-11</td>\n",
       "      <td>9.215571e-12</td>\n",
       "      <td>DLX1/GSX1/TLX3/TBX18/MITF/TBR1/DLL1/SOCS3/DLL4...</td>\n",
       "      <td>30</td>\n",
       "    </tr>\n",
       "    <tr>\n",
       "      <th>1</th>\n",
       "      <td>GO:0007389</td>\n",
       "      <td>GO:0007389</td>\n",
       "      <td>pattern specification process</td>\n",
       "      <td>37/329</td>\n",
       "      <td>475/18870</td>\n",
       "      <td>2.449708e-14</td>\n",
       "      <td>4.425398e-11</td>\n",
       "      <td>3.447642e-11</td>\n",
       "      <td>EP300/DLX1/TBX18/TBR1/DLL1/ACVR2A/EN1/HOXC4/DL...</td>\n",
       "      <td>37</td>\n",
       "    </tr>\n",
       "    <tr>\n",
       "      <th>2</th>\n",
       "      <td>GO:0045664</td>\n",
       "      <td>GO:0045664</td>\n",
       "      <td>regulation of neuron differentiation</td>\n",
       "      <td>24/329</td>\n",
       "      <td>198/18870</td>\n",
       "      <td>8.667274e-14</td>\n",
       "      <td>1.043829e-10</td>\n",
       "      <td>8.132032e-11</td>\n",
       "      <td>BDNF/PHOX2B/DLX1/TLX3/CDK5RAP3/CASZ1/DLL1/ZFHX...</td>\n",
       "      <td>24</td>\n",
       "    </tr>\n",
       "    <tr>\n",
       "      <th>3</th>\n",
       "      <td>GO:0048568</td>\n",
       "      <td>GO:0048568</td>\n",
       "      <td>embryonic organ development</td>\n",
       "      <td>35/329</td>\n",
       "      <td>453/18870</td>\n",
       "      <td>1.638358e-13</td>\n",
       "      <td>1.479847e-10</td>\n",
       "      <td>1.152886e-10</td>\n",
       "      <td>PAX5/TBX18/DLL1/EN1/HOXC4/SOCS3/TEAD1/SALL1/FO...</td>\n",
       "      <td>35</td>\n",
       "    </tr>\n",
       "    <tr>\n",
       "      <th>4</th>\n",
       "      <td>GO:0007409</td>\n",
       "      <td>GO:0007409</td>\n",
       "      <td>axonogenesis</td>\n",
       "      <td>32/329</td>\n",
       "      <td>448/18870</td>\n",
       "      <td>1.529518e-11</td>\n",
       "      <td>1.105230e-08</td>\n",
       "      <td>8.610382e-09</td>\n",
       "      <td>BDNF/PHOX2B/TBR1/AUTS2/LHX2/NKX6-1/DRGX/NFIB/L...</td>\n",
       "      <td>32</td>\n",
       "    </tr>\n",
       "    <tr>\n",
       "      <th>5</th>\n",
       "      <td>GO:0060537</td>\n",
       "      <td>GO:0060537</td>\n",
       "      <td>muscle tissue development</td>\n",
       "      <td>31/329</td>\n",
       "      <td>433/18870</td>\n",
       "      <td>3.053741e-11</td>\n",
       "      <td>1.628169e-08</td>\n",
       "      <td>1.268438e-08</td>\n",
       "      <td>PAX5/PHOX2B/EP300/TBX18/DLL1/FHL2/DLL4/FOXC1/N...</td>\n",
       "      <td>31</td>\n",
       "    </tr>\n",
       "    <tr>\n",
       "      <th>6</th>\n",
       "      <td>GO:0030900</td>\n",
       "      <td>GO:0030900</td>\n",
       "      <td>forebrain development</td>\n",
       "      <td>30/329</td>\n",
       "      <td>407/18870</td>\n",
       "      <td>3.154493e-11</td>\n",
       "      <td>1.628169e-08</td>\n",
       "      <td>1.268438e-08</td>\n",
       "      <td>OTP/PAX5/DLX1/GSX1/TBR1/LHX2/SALL1/NFIB/ID4/NR...</td>\n",
       "      <td>30</td>\n",
       "    </tr>\n",
       "    <tr>\n",
       "      <th>7</th>\n",
       "      <td>GO:0048880</td>\n",
       "      <td>GO:0048880</td>\n",
       "      <td>sensory system development</td>\n",
       "      <td>29/329</td>\n",
       "      <td>401/18870</td>\n",
       "      <td>1.076148e-10</td>\n",
       "      <td>4.860155e-08</td>\n",
       "      <td>3.786343e-08</td>\n",
       "      <td>PHOX2B/DLX1/MITF/TENM3/DLL1/DLL4/LHX2/MEIS2/FO...</td>\n",
       "      <td>29</td>\n",
       "    </tr>\n",
       "    <tr>\n",
       "      <th>8</th>\n",
       "      <td>GO:0003002</td>\n",
       "      <td>GO:0003002</td>\n",
       "      <td>regionalization</td>\n",
       "      <td>30/329</td>\n",
       "      <td>430/18870</td>\n",
       "      <td>1.215360e-10</td>\n",
       "      <td>4.878994e-08</td>\n",
       "      <td>3.801019e-08</td>\n",
       "      <td>EP300/DLX1/TBX18/TBR1/DLL1/ACVR2A/EN1/HOXC4/DL...</td>\n",
       "      <td>30</td>\n",
       "    </tr>\n",
       "    <tr>\n",
       "      <th>9</th>\n",
       "      <td>GO:0072073</td>\n",
       "      <td>GO:0072073</td>\n",
       "      <td>kidney epithelium development</td>\n",
       "      <td>18/329</td>\n",
       "      <td>150/18870</td>\n",
       "      <td>1.387807e-10</td>\n",
       "      <td>5.014146e-08</td>\n",
       "      <td>3.906311e-08</td>\n",
       "      <td>DLL1/GPC3/SALL1/FOXC1/PAX2/RARA/PBX1/EYA1/HOXB...</td>\n",
       "      <td>18</td>\n",
       "    </tr>\n",
       "  </tbody>\n",
       "</table>\n",
       "</div>"
      ],
      "text/plain": [
       "   Unnamed: 0          ID                           Description GeneRatio  \\\n",
       "0  GO:0045165  GO:0045165                  cell fate commitment    30/329   \n",
       "1  GO:0007389  GO:0007389         pattern specification process    37/329   \n",
       "2  GO:0045664  GO:0045664  regulation of neuron differentiation    24/329   \n",
       "3  GO:0048568  GO:0048568           embryonic organ development    35/329   \n",
       "4  GO:0007409  GO:0007409                          axonogenesis    32/329   \n",
       "5  GO:0060537  GO:0060537             muscle tissue development    31/329   \n",
       "6  GO:0030900  GO:0030900                 forebrain development    30/329   \n",
       "7  GO:0048880  GO:0048880            sensory system development    29/329   \n",
       "8  GO:0003002  GO:0003002                       regionalization    30/329   \n",
       "9  GO:0072073  GO:0072073         kidney epithelium development    18/329   \n",
       "\n",
       "     BgRatio        pvalue      p.adjust        qvalue  \\\n",
       "0  286/18870  3.274044e-15  1.182912e-11  9.215571e-12   \n",
       "1  475/18870  2.449708e-14  4.425398e-11  3.447642e-11   \n",
       "2  198/18870  8.667274e-14  1.043829e-10  8.132032e-11   \n",
       "3  453/18870  1.638358e-13  1.479847e-10  1.152886e-10   \n",
       "4  448/18870  1.529518e-11  1.105230e-08  8.610382e-09   \n",
       "5  433/18870  3.053741e-11  1.628169e-08  1.268438e-08   \n",
       "6  407/18870  3.154493e-11  1.628169e-08  1.268438e-08   \n",
       "7  401/18870  1.076148e-10  4.860155e-08  3.786343e-08   \n",
       "8  430/18870  1.215360e-10  4.878994e-08  3.801019e-08   \n",
       "9  150/18870  1.387807e-10  5.014146e-08  3.906311e-08   \n",
       "\n",
       "                                              geneID  Count  \n",
       "0  DLX1/GSX1/TLX3/TBX18/MITF/TBR1/DLL1/SOCS3/DLL4...     30  \n",
       "1  EP300/DLX1/TBX18/TBR1/DLL1/ACVR2A/EN1/HOXC4/DL...     37  \n",
       "2  BDNF/PHOX2B/DLX1/TLX3/CDK5RAP3/CASZ1/DLL1/ZFHX...     24  \n",
       "3  PAX5/TBX18/DLL1/EN1/HOXC4/SOCS3/TEAD1/SALL1/FO...     35  \n",
       "4  BDNF/PHOX2B/TBR1/AUTS2/LHX2/NKX6-1/DRGX/NFIB/L...     32  \n",
       "5  PAX5/PHOX2B/EP300/TBX18/DLL1/FHL2/DLL4/FOXC1/N...     31  \n",
       "6  OTP/PAX5/DLX1/GSX1/TBR1/LHX2/SALL1/NFIB/ID4/NR...     30  \n",
       "7  PHOX2B/DLX1/MITF/TENM3/DLL1/DLL4/LHX2/MEIS2/FO...     29  \n",
       "8  EP300/DLX1/TBX18/TBR1/DLL1/ACVR2A/EN1/HOXC4/DL...     30  \n",
       "9  DLL1/GPC3/SALL1/FOXC1/PAX2/RARA/PBX1/EYA1/HOXB...     18  "
      ]
     },
     "execution_count": 105,
     "metadata": {},
     "output_type": "execute_result"
    }
   ],
   "source": [
    "# Top 10 GO terms for Biological Processes\n",
    "bp_results_clock2_3.head(10).sort_values(by='p.adjust', ascending=True)"
   ]
  },
  {
   "cell_type": "code",
   "execution_count": 106,
   "metadata": {},
   "outputs": [
    {
     "data": {
      "text/html": [
       "<div>\n",
       "<style scoped>\n",
       "    .dataframe tbody tr th:only-of-type {\n",
       "        vertical-align: middle;\n",
       "    }\n",
       "\n",
       "    .dataframe tbody tr th {\n",
       "        vertical-align: top;\n",
       "    }\n",
       "\n",
       "    .dataframe thead th {\n",
       "        text-align: right;\n",
       "    }\n",
       "</style>\n",
       "<table border=\"1\" class=\"dataframe\">\n",
       "  <thead>\n",
       "    <tr style=\"text-align: right;\">\n",
       "      <th></th>\n",
       "      <th>Unnamed: 0</th>\n",
       "      <th>ID</th>\n",
       "      <th>Description</th>\n",
       "      <th>GeneRatio</th>\n",
       "      <th>BgRatio</th>\n",
       "      <th>pvalue</th>\n",
       "      <th>p.adjust</th>\n",
       "      <th>qvalue</th>\n",
       "      <th>geneID</th>\n",
       "      <th>Count</th>\n",
       "    </tr>\n",
       "  </thead>\n",
       "  <tbody>\n",
       "    <tr>\n",
       "      <th>0</th>\n",
       "      <td>GO:0001228</td>\n",
       "      <td>GO:0001228</td>\n",
       "      <td>DNA-binding transcription activator activity, ...</td>\n",
       "      <td>38/331</td>\n",
       "      <td>471/18496</td>\n",
       "      <td>7.836166e-15</td>\n",
       "      <td>2.589821e-12</td>\n",
       "      <td>2.304226e-12</td>\n",
       "      <td>PAX5/PLAG1/PHOX2B/GSX1/MITF/EGR3/CASZ1/HOXC4/L...</td>\n",
       "      <td>38</td>\n",
       "    </tr>\n",
       "    <tr>\n",
       "      <th>1</th>\n",
       "      <td>GO:0001216</td>\n",
       "      <td>GO:0001216</td>\n",
       "      <td>DNA-binding transcription activator activity</td>\n",
       "      <td>38/331</td>\n",
       "      <td>475/18496</td>\n",
       "      <td>1.027707e-14</td>\n",
       "      <td>2.589821e-12</td>\n",
       "      <td>2.304226e-12</td>\n",
       "      <td>PAX5/PLAG1/PHOX2B/GSX1/MITF/EGR3/CASZ1/HOXC4/L...</td>\n",
       "      <td>38</td>\n",
       "    </tr>\n",
       "    <tr>\n",
       "      <th>2</th>\n",
       "      <td>GO:0140297</td>\n",
       "      <td>GO:0140297</td>\n",
       "      <td>DNA-binding transcription factor binding</td>\n",
       "      <td>36/331</td>\n",
       "      <td>477/18496</td>\n",
       "      <td>3.132355e-13</td>\n",
       "      <td>5.262357e-11</td>\n",
       "      <td>4.682047e-11</td>\n",
       "      <td>EP300/RBFOX2/CNOT1/CDK5RAP3/DLL1/ZMYND8/FHL2/L...</td>\n",
       "      <td>36</td>\n",
       "    </tr>\n",
       "    <tr>\n",
       "      <th>3</th>\n",
       "      <td>GO:0001217</td>\n",
       "      <td>GO:0001217</td>\n",
       "      <td>DNA-binding transcription repressor activity</td>\n",
       "      <td>27/331</td>\n",
       "      <td>334/18496</td>\n",
       "      <td>7.106066e-11</td>\n",
       "      <td>8.953643e-09</td>\n",
       "      <td>7.966274e-09</td>\n",
       "      <td>OTP/NR2F1/TBX18/MITF/SATB1/EN1/ZFHX3/MNT/NKX6-...</td>\n",
       "      <td>27</td>\n",
       "    </tr>\n",
       "    <tr>\n",
       "      <th>4</th>\n",
       "      <td>GO:0008013</td>\n",
       "      <td>GO:0008013</td>\n",
       "      <td>beta-catenin binding</td>\n",
       "      <td>14/331</td>\n",
       "      <td>85/18496</td>\n",
       "      <td>3.177986e-10</td>\n",
       "      <td>3.203410e-08</td>\n",
       "      <td>2.850152e-08</td>\n",
       "      <td>EP300/BTRC/SALL1/NR4A2/CTNND2/RNF220/CALCOCO1/...</td>\n",
       "      <td>14</td>\n",
       "    </tr>\n",
       "    <tr>\n",
       "      <th>5</th>\n",
       "      <td>GO:0001227</td>\n",
       "      <td>GO:0001227</td>\n",
       "      <td>DNA-binding transcription repressor activity, ...</td>\n",
       "      <td>24/331</td>\n",
       "      <td>326/18496</td>\n",
       "      <td>5.401828e-09</td>\n",
       "      <td>4.537536e-07</td>\n",
       "      <td>4.037156e-07</td>\n",
       "      <td>OTP/NR2F1/TBX18/MITF/SATB1/EN1/ZFHX3/MNT/NKX6-...</td>\n",
       "      <td>24</td>\n",
       "    </tr>\n",
       "    <tr>\n",
       "      <th>6</th>\n",
       "      <td>GO:0061629</td>\n",
       "      <td>GO:0061629</td>\n",
       "      <td>RNA polymerase II-specific DNA-binding transcr...</td>\n",
       "      <td>24/331</td>\n",
       "      <td>344/18496</td>\n",
       "      <td>1.536041e-08</td>\n",
       "      <td>1.105949e-06</td>\n",
       "      <td>9.839899e-07</td>\n",
       "      <td>EP300/CNOT1/CDK5RAP3/DLL1/FOXC1/LCOR/ID4/NR4A2...</td>\n",
       "      <td>24</td>\n",
       "    </tr>\n",
       "    <tr>\n",
       "      <th>7</th>\n",
       "      <td>GO:0004879</td>\n",
       "      <td>GO:0004879</td>\n",
       "      <td>nuclear receptor activity</td>\n",
       "      <td>10/331</td>\n",
       "      <td>52/18496</td>\n",
       "      <td>2.390252e-08</td>\n",
       "      <td>1.338541e-06</td>\n",
       "      <td>1.190933e-06</td>\n",
       "      <td>NR2F1/NR4A2/NR2F2/ESRRG/RARA/NR2E1/THRA/RORA/N...</td>\n",
       "      <td>10</td>\n",
       "    </tr>\n",
       "    <tr>\n",
       "      <th>8</th>\n",
       "      <td>GO:0098531</td>\n",
       "      <td>GO:0098531</td>\n",
       "      <td>ligand-activated transcription factor activity</td>\n",
       "      <td>10/331</td>\n",
       "      <td>52/18496</td>\n",
       "      <td>2.390252e-08</td>\n",
       "      <td>1.338541e-06</td>\n",
       "      <td>1.190933e-06</td>\n",
       "      <td>NR2F1/NR4A2/NR2F2/ESRRG/RARA/NR2E1/THRA/RORA/N...</td>\n",
       "      <td>10</td>\n",
       "    </tr>\n",
       "    <tr>\n",
       "      <th>9</th>\n",
       "      <td>GO:0003714</td>\n",
       "      <td>GO:0003714</td>\n",
       "      <td>transcription corepressor activity</td>\n",
       "      <td>16/331</td>\n",
       "      <td>194/18496</td>\n",
       "      <td>4.426987e-07</td>\n",
       "      <td>2.231201e-05</td>\n",
       "      <td>1.985154e-05</td>\n",
       "      <td>RBFOX2/DPF2/TLE3/ZMYND8/FHL2/LCOR/LMO4/BCOR/CH...</td>\n",
       "      <td>16</td>\n",
       "    </tr>\n",
       "  </tbody>\n",
       "</table>\n",
       "</div>"
      ],
      "text/plain": [
       "   Unnamed: 0          ID                                        Description  \\\n",
       "0  GO:0001228  GO:0001228  DNA-binding transcription activator activity, ...   \n",
       "1  GO:0001216  GO:0001216       DNA-binding transcription activator activity   \n",
       "2  GO:0140297  GO:0140297           DNA-binding transcription factor binding   \n",
       "3  GO:0001217  GO:0001217       DNA-binding transcription repressor activity   \n",
       "4  GO:0008013  GO:0008013                               beta-catenin binding   \n",
       "5  GO:0001227  GO:0001227  DNA-binding transcription repressor activity, ...   \n",
       "6  GO:0061629  GO:0061629  RNA polymerase II-specific DNA-binding transcr...   \n",
       "7  GO:0004879  GO:0004879                          nuclear receptor activity   \n",
       "8  GO:0098531  GO:0098531     ligand-activated transcription factor activity   \n",
       "9  GO:0003714  GO:0003714                 transcription corepressor activity   \n",
       "\n",
       "  GeneRatio    BgRatio        pvalue      p.adjust        qvalue  \\\n",
       "0    38/331  471/18496  7.836166e-15  2.589821e-12  2.304226e-12   \n",
       "1    38/331  475/18496  1.027707e-14  2.589821e-12  2.304226e-12   \n",
       "2    36/331  477/18496  3.132355e-13  5.262357e-11  4.682047e-11   \n",
       "3    27/331  334/18496  7.106066e-11  8.953643e-09  7.966274e-09   \n",
       "4    14/331   85/18496  3.177986e-10  3.203410e-08  2.850152e-08   \n",
       "5    24/331  326/18496  5.401828e-09  4.537536e-07  4.037156e-07   \n",
       "6    24/331  344/18496  1.536041e-08  1.105949e-06  9.839899e-07   \n",
       "7    10/331   52/18496  2.390252e-08  1.338541e-06  1.190933e-06   \n",
       "8    10/331   52/18496  2.390252e-08  1.338541e-06  1.190933e-06   \n",
       "9    16/331  194/18496  4.426987e-07  2.231201e-05  1.985154e-05   \n",
       "\n",
       "                                              geneID  Count  \n",
       "0  PAX5/PLAG1/PHOX2B/GSX1/MITF/EGR3/CASZ1/HOXC4/L...     38  \n",
       "1  PAX5/PLAG1/PHOX2B/GSX1/MITF/EGR3/CASZ1/HOXC4/L...     38  \n",
       "2  EP300/RBFOX2/CNOT1/CDK5RAP3/DLL1/ZMYND8/FHL2/L...     36  \n",
       "3  OTP/NR2F1/TBX18/MITF/SATB1/EN1/ZFHX3/MNT/NKX6-...     27  \n",
       "4  EP300/BTRC/SALL1/NR4A2/CTNND2/RNF220/CALCOCO1/...     14  \n",
       "5  OTP/NR2F1/TBX18/MITF/SATB1/EN1/ZFHX3/MNT/NKX6-...     24  \n",
       "6  EP300/CNOT1/CDK5RAP3/DLL1/FOXC1/LCOR/ID4/NR4A2...     24  \n",
       "7  NR2F1/NR4A2/NR2F2/ESRRG/RARA/NR2E1/THRA/RORA/N...     10  \n",
       "8  NR2F1/NR4A2/NR2F2/ESRRG/RARA/NR2E1/THRA/RORA/N...     10  \n",
       "9  RBFOX2/DPF2/TLE3/ZMYND8/FHL2/LCOR/LMO4/BCOR/CH...     16  "
      ]
     },
     "execution_count": 106,
     "metadata": {},
     "output_type": "execute_result"
    }
   ],
   "source": [
    "# Top 10 GO terms for Molecular Functions\n",
    "mf_results_clock2_3.head(10).sort_values(by='p.adjust', ascending=True)"
   ]
  },
  {
   "cell_type": "code",
   "execution_count": 107,
   "metadata": {},
   "outputs": [
    {
     "data": {
      "text/html": [
       "<div>\n",
       "<style scoped>\n",
       "    .dataframe tbody tr th:only-of-type {\n",
       "        vertical-align: middle;\n",
       "    }\n",
       "\n",
       "    .dataframe tbody tr th {\n",
       "        vertical-align: top;\n",
       "    }\n",
       "\n",
       "    .dataframe thead th {\n",
       "        text-align: right;\n",
       "    }\n",
       "</style>\n",
       "<table border=\"1\" class=\"dataframe\">\n",
       "  <thead>\n",
       "    <tr style=\"text-align: right;\">\n",
       "      <th></th>\n",
       "      <th>Unnamed: 0</th>\n",
       "      <th>ID</th>\n",
       "      <th>Description</th>\n",
       "      <th>GeneRatio</th>\n",
       "      <th>BgRatio</th>\n",
       "      <th>pvalue</th>\n",
       "      <th>p.adjust</th>\n",
       "      <th>qvalue</th>\n",
       "      <th>geneID</th>\n",
       "      <th>Count</th>\n",
       "    </tr>\n",
       "  </thead>\n",
       "  <tbody>\n",
       "    <tr>\n",
       "      <th>0</th>\n",
       "      <td>GO:0090575</td>\n",
       "      <td>GO:0090575</td>\n",
       "      <td>RNA polymerase II transcription regulator complex</td>\n",
       "      <td>19/337</td>\n",
       "      <td>254/19886</td>\n",
       "      <td>7.484797e-08</td>\n",
       "      <td>0.000028</td>\n",
       "      <td>0.000025</td>\n",
       "      <td>CREBZF/TLE3/TEAD1/LMO4/ATF7/RARA/MED27/NEUROD1...</td>\n",
       "      <td>19</td>\n",
       "    </tr>\n",
       "    <tr>\n",
       "      <th>1</th>\n",
       "      <td>GO:0097060</td>\n",
       "      <td>GO:0097060</td>\n",
       "      <td>synaptic membrane</td>\n",
       "      <td>22/337</td>\n",
       "      <td>393/19886</td>\n",
       "      <td>1.090419e-06</td>\n",
       "      <td>0.000145</td>\n",
       "      <td>0.000132</td>\n",
       "      <td>LHFPL4/GPHN/CNKSR2/PDE2A/KCNC4/CLSTN3/PCDH17/D...</td>\n",
       "      <td>22</td>\n",
       "    </tr>\n",
       "    <tr>\n",
       "      <th>2</th>\n",
       "      <td>GO:0045211</td>\n",
       "      <td>GO:0045211</td>\n",
       "      <td>postsynaptic membrane</td>\n",
       "      <td>18/337</td>\n",
       "      <td>275/19886</td>\n",
       "      <td>1.176141e-06</td>\n",
       "      <td>0.000145</td>\n",
       "      <td>0.000132</td>\n",
       "      <td>LHFPL4/GPHN/CNKSR2/KCNC4/CLSTN3/PCDH17/GRIN3A/...</td>\n",
       "      <td>18</td>\n",
       "    </tr>\n",
       "    <tr>\n",
       "      <th>3</th>\n",
       "      <td>GO:1990907</td>\n",
       "      <td>GO:1990907</td>\n",
       "      <td>beta-catenin-TCF complex</td>\n",
       "      <td>5/337</td>\n",
       "      <td>13/19886</td>\n",
       "      <td>1.561844e-06</td>\n",
       "      <td>0.000145</td>\n",
       "      <td>0.000132</td>\n",
       "      <td>TLE3/TCF4/TCF7L2/BCL9L/BCL9</td>\n",
       "      <td>5</td>\n",
       "    </tr>\n",
       "    <tr>\n",
       "      <th>4</th>\n",
       "      <td>GO:0098984</td>\n",
       "      <td>GO:0098984</td>\n",
       "      <td>neuron to neuron synapse</td>\n",
       "      <td>19/337</td>\n",
       "      <td>362/19886</td>\n",
       "      <td>1.480366e-05</td>\n",
       "      <td>0.001101</td>\n",
       "      <td>0.001004</td>\n",
       "      <td>HNRNPD/GPHN/CAMK2N1/CNKSR2/VTI1A/CLSTN3/SYNGAP...</td>\n",
       "      <td>19</td>\n",
       "    </tr>\n",
       "    <tr>\n",
       "      <th>5</th>\n",
       "      <td>GO:0016607</td>\n",
       "      <td>GO:0016607</td>\n",
       "      <td>nuclear speck</td>\n",
       "      <td>20/337</td>\n",
       "      <td>417/19886</td>\n",
       "      <td>3.227116e-05</td>\n",
       "      <td>0.002001</td>\n",
       "      <td>0.001823</td>\n",
       "      <td>SRSF11/PLAG1/CLK2/KMT2E/SREK1/RSRC1/MAML3/HECT...</td>\n",
       "      <td>20</td>\n",
       "    </tr>\n",
       "    <tr>\n",
       "      <th>6</th>\n",
       "      <td>GO:0032279</td>\n",
       "      <td>GO:0032279</td>\n",
       "      <td>asymmetric synapse</td>\n",
       "      <td>17/337</td>\n",
       "      <td>331/19886</td>\n",
       "      <td>5.454729e-05</td>\n",
       "      <td>0.002899</td>\n",
       "      <td>0.002641</td>\n",
       "      <td>HNRNPD/GPHN/CAMK2N1/CNKSR2/CLSTN3/SYNGAP1/CTNN...</td>\n",
       "      <td>17</td>\n",
       "    </tr>\n",
       "    <tr>\n",
       "      <th>7</th>\n",
       "      <td>GO:0098978</td>\n",
       "      <td>GO:0098978</td>\n",
       "      <td>glutamatergic synapse</td>\n",
       "      <td>19/337</td>\n",
       "      <td>407/19886</td>\n",
       "      <td>7.272657e-05</td>\n",
       "      <td>0.003382</td>\n",
       "      <td>0.003081</td>\n",
       "      <td>HNRNPD/CNKSR2/FLOT2/CADPS2/CLSTN3/PCDH17/SYNGA...</td>\n",
       "      <td>19</td>\n",
       "    </tr>\n",
       "    <tr>\n",
       "      <th>8</th>\n",
       "      <td>GO:0099572</td>\n",
       "      <td>GO:0099572</td>\n",
       "      <td>postsynaptic specialization</td>\n",
       "      <td>17/337</td>\n",
       "      <td>346/19886</td>\n",
       "      <td>9.389955e-05</td>\n",
       "      <td>0.003881</td>\n",
       "      <td>0.003536</td>\n",
       "      <td>HNRNPD/LHFPL4/GPHN/CAMK2N1/CNKSR2/CLSTN3/SYNGA...</td>\n",
       "      <td>17</td>\n",
       "    </tr>\n",
       "    <tr>\n",
       "      <th>9</th>\n",
       "      <td>GO:0099634</td>\n",
       "      <td>GO:0099634</td>\n",
       "      <td>postsynaptic specialization membrane</td>\n",
       "      <td>9/337</td>\n",
       "      <td>122/19886</td>\n",
       "      <td>2.358934e-04</td>\n",
       "      <td>0.008775</td>\n",
       "      <td>0.007996</td>\n",
       "      <td>GPHN/CNKSR2/CLSTN3/GRIN3A/GRM1/SLITRK1/NLGN2/G...</td>\n",
       "      <td>9</td>\n",
       "    </tr>\n",
       "  </tbody>\n",
       "</table>\n",
       "</div>"
      ],
      "text/plain": [
       "   Unnamed: 0          ID                                        Description  \\\n",
       "0  GO:0090575  GO:0090575  RNA polymerase II transcription regulator complex   \n",
       "1  GO:0097060  GO:0097060                                  synaptic membrane   \n",
       "2  GO:0045211  GO:0045211                              postsynaptic membrane   \n",
       "3  GO:1990907  GO:1990907                           beta-catenin-TCF complex   \n",
       "4  GO:0098984  GO:0098984                           neuron to neuron synapse   \n",
       "5  GO:0016607  GO:0016607                                      nuclear speck   \n",
       "6  GO:0032279  GO:0032279                                 asymmetric synapse   \n",
       "7  GO:0098978  GO:0098978                              glutamatergic synapse   \n",
       "8  GO:0099572  GO:0099572                        postsynaptic specialization   \n",
       "9  GO:0099634  GO:0099634               postsynaptic specialization membrane   \n",
       "\n",
       "  GeneRatio    BgRatio        pvalue  p.adjust    qvalue  \\\n",
       "0    19/337  254/19886  7.484797e-08  0.000028  0.000025   \n",
       "1    22/337  393/19886  1.090419e-06  0.000145  0.000132   \n",
       "2    18/337  275/19886  1.176141e-06  0.000145  0.000132   \n",
       "3     5/337   13/19886  1.561844e-06  0.000145  0.000132   \n",
       "4    19/337  362/19886  1.480366e-05  0.001101  0.001004   \n",
       "5    20/337  417/19886  3.227116e-05  0.002001  0.001823   \n",
       "6    17/337  331/19886  5.454729e-05  0.002899  0.002641   \n",
       "7    19/337  407/19886  7.272657e-05  0.003382  0.003081   \n",
       "8    17/337  346/19886  9.389955e-05  0.003881  0.003536   \n",
       "9     9/337  122/19886  2.358934e-04  0.008775  0.007996   \n",
       "\n",
       "                                              geneID  Count  \n",
       "0  CREBZF/TLE3/TEAD1/LMO4/ATF7/RARA/MED27/NEUROD1...     19  \n",
       "1  LHFPL4/GPHN/CNKSR2/PDE2A/KCNC4/CLSTN3/PCDH17/D...     22  \n",
       "2  LHFPL4/GPHN/CNKSR2/KCNC4/CLSTN3/PCDH17/GRIN3A/...     18  \n",
       "3                        TLE3/TCF4/TCF7L2/BCL9L/BCL9      5  \n",
       "4  HNRNPD/GPHN/CAMK2N1/CNKSR2/VTI1A/CLSTN3/SYNGAP...     19  \n",
       "5  SRSF11/PLAG1/CLK2/KMT2E/SREK1/RSRC1/MAML3/HECT...     20  \n",
       "6  HNRNPD/GPHN/CAMK2N1/CNKSR2/CLSTN3/SYNGAP1/CTNN...     17  \n",
       "7  HNRNPD/CNKSR2/FLOT2/CADPS2/CLSTN3/PCDH17/SYNGA...     19  \n",
       "8  HNRNPD/LHFPL4/GPHN/CAMK2N1/CNKSR2/CLSTN3/SYNGA...     17  \n",
       "9  GPHN/CNKSR2/CLSTN3/GRIN3A/GRM1/SLITRK1/NLGN2/G...      9  "
      ]
     },
     "execution_count": 107,
     "metadata": {},
     "output_type": "execute_result"
    }
   ],
   "source": [
    "# Top 10 GO terms for Cellular Components\n",
    "cc_results_clock2_3.head(10).sort_values(by='p.adjust', ascending=True)"
   ]
  },
  {
   "cell_type": "markdown",
   "metadata": {},
   "source": [
    "### CLOCKS PLOTS"
   ]
  },
  {
   "cell_type": "code",
   "execution_count": null,
   "metadata": {},
   "outputs": [],
   "source": [
    "# Plotting the top 10 GO terms for each category (without GeneRatio)\n",
    "\n",
    "def load_go_results(clock_name):\n",
    "    bp = pd.read_csv(f'Results - Clocks Full/{clock_name}/{clock_name}_GOA_BP_results.csv')\n",
    "    mf = pd.read_csv(f'Results - Clocks Full/{clock_name}/{clock_name}_GOA_MF_results.csv')\n",
    "    cc = pd.read_csv(f'Results - Clocks Full/{clock_name}/{clock_name}_GOA_CC_results.csv')\n",
    "\n",
    "    # Sort each dataframe by p.adjust and select top 10\n",
    "    bp = bp.sort_values('p.adjust').head(10)\n",
    "    mf = mf.sort_values('p.adjust').head(10)\n",
    "    cc = cc.sort_values('p.adjust').head(10)\n",
    "\n",
    "    return bp, mf, cc\n",
    "\n",
    "def plot_combined_go_results(clock_name, top_n=10): # select top 10 GO terms\n",
    "    bp, mf, cc = load_go_results(clock_name)\n",
    "    \n",
    "    # Create subplots\n",
    "    fig = make_subplots(rows=3, cols=1, \n",
    "                        subplot_titles=(\"Biological Process\", \"Molecular Function\", \"Cellular Component\"),\n",
    "                        vertical_spacing=0.1)\n",
    "\n",
    "    # Generate colors from viridis palette\n",
    "    colors = sample_colorscale('viridis', 3)\n",
    "\n",
    "    max_x = 0  # To track the maximum x value for setting axis range\n",
    "\n",
    "    for i, (df, color) in enumerate(zip([bp, mf, cc], colors), 1):\n",
    "        df_sorted = df.iloc[::-1]\n",
    "        x_values = -np.log10(df_sorted['p.adjust'])\n",
    "        max_x = max(max_x, x_values.max())\n",
    "        \n",
    "        fig.add_trace(\n",
    "            go.Bar(\n",
    "                y=df_sorted['Description'],\n",
    "                x=x_values,\n",
    "                orientation='h',\n",
    "                marker_color=color,\n",
    "                text=df_sorted['p.adjust'].apply(lambda x: f'{x:.2e}'),\n",
    "                textposition='inside',\n",
    "                textfont=dict(size=10),\n",
    "                hoverinfo='text',\n",
    "                hovertext=[f\"{row['Description']}<br>p-adjust: {row['p.adjust']:.2e}<br>Gene Count: {row['Count']}\" \n",
    "                           for _, row in df_sorted.iterrows()],\n",
    "            ),\n",
    "            row=i, col=1\n",
    "        )\n",
    "\n",
    "        fig.update_yaxes(row=i, col=1, automargin=True) # title_text=\"GO Terms\"\n",
    "        if i < 3:  # Only show x-axis title for the last subplot\n",
    "            fig.update_xaxes(title_text=\"\", row=i, col=1, showticklabels=False)\n",
    "        else:\n",
    "            fig.update_xaxes(title_text=\"-log10(p-adjust)\", row=i, col=1)\n",
    "\n",
    "    # Adjust layout\n",
    "    fig.update_layout(\n",
    "        title_text=f\"Top GO Terms for {clock_name}\",\n",
    "        height=297 * 3.78,  # A4 height in pixels (1 inch = 96 pixels)\n",
    "        width=210 * 3.78,   # A4 width in pixels (1 inch = 96 pixels)\n",
    "        showlegend=False,\n",
    "        margin=dict(l=50, r=50, t=100, b=50),  # Increase left margin for GO terms \n",
    "    )\n",
    "\n",
    "    # Set x-axis range to accommodate text labels\n",
    "    fig.update_xaxes(range=[0, max_x * 1.1])\n",
    "\n",
    "    # Select save location\n",
    "    folder = (f\"./Results - Clocks Full/{clock_name}\")\n",
    "    fig.write_html(f\"{folder}/{clock_name}_combined_GO_results.html\")   \n",
    "    fig.write_image(f\"{folder}/{clock_name}_combined_GO_results.png\", scale=2)  # Increased resolution\n",
    "    fig.show()\n",
    "\n",
    "# Use the function for each clock\n",
    "for clock in ['Clock_1_full', 'Clock_2_full', 'Clock_3_full', 'Clocks_2_3_overlap_full']:\n",
    "    plot_combined_go_results(clock)"
   ]
  },
  {
   "cell_type": "code",
   "execution_count": 119,
   "metadata": {},
   "outputs": [],
   "source": [
    "### Functions for plotting combined GO results\n",
    "\n",
    "def load_go_results(bp_results, mf_results, cc_results):\n",
    "       \n",
    "    # Sort each dataframe by p.adjust and select top 10\n",
    "    bp_results = bp_results.sort_values('p.adjust').head(10)\n",
    "    mf_results = mf_results.sort_values('p.adjust').head(10)\n",
    "    cc_results = cc_results.sort_values('p.adjust').head(10)\n",
    "    \n",
    "    return bp_results, mf_results, cc_results\n",
    "\n",
    "def plot_combined_go_results(clock_name, bp_results, mf_results, cc_results):\n",
    "    bp, mf, cc = load_go_results(bp_results, mf_results, cc_results)\n",
    "    \n",
    "    fig = make_subplots(rows=3, cols=1, \n",
    "                        subplot_titles=(\"Biological Process\", \"Molecular Function\", \"Cellular Component\"),\n",
    "                        vertical_spacing=0.1)\n",
    "\n",
    "    # Get Viridis colors at indices 0, 4, and 5\n",
    "    viridis_colors = px.colors.sequential.Viridis\n",
    "    colors = [viridis_colors[i] for i in [0, 3, 5]]\n",
    "\n",
    "    max_x = 0\n",
    "\n",
    "    for i, (df, color) in enumerate(zip([bp, mf, cc], colors), 1):\n",
    "        df = df.iloc[::-1]\n",
    "        \n",
    "        x_values = -np.log10(df['p.adjust'])\n",
    "        max_x = max(max_x, x_values.max())\n",
    "        \n",
    "        fig.add_trace(\n",
    "            go.Bar(\n",
    "                y=df['Description'],\n",
    "                x=x_values,\n",
    "                orientation='h',\n",
    "                marker_color=color,\n",
    "                text=[f\"p: {p:.1e}\" for p in df['p.adjust']],  # p-value inside the bar\n",
    "                textposition='inside',\n",
    "                textfont=dict(size=9, color='white'),\n",
    "                hoverinfo='text',\n",
    "                hovertext=[f\"{row['Description']}<br>p-adjust: {row['p.adjust']:.2e}<br>GeneRatio: {row['GeneRatio']}<br>Gene Count: {row['Count']}\" \n",
    "                           for _, row in df.iterrows()],\n",
    "            ),\n",
    "            row=i, col=1\n",
    "        )\n",
    "        \n",
    "        # Add GeneRatio as text outside the bar\n",
    "        fig.add_trace(\n",
    "            go.Scatter(\n",
    "                y=df['Description'],\n",
    "                x=x_values,\n",
    "                text=[f\"GR: {gr}\" for gr in df['GeneRatio']],\n",
    "                mode='text',\n",
    "                textposition='middle right',\n",
    "                textfont=dict(size=9),\n",
    "                showlegend=False,\n",
    "            ),\n",
    "            row=i, col=1\n",
    "        )\n",
    "\n",
    "        fig.update_yaxes(row=i, col=1, automargin=True)\n",
    "        if i < 3:\n",
    "            fig.update_xaxes(title_text=\"\", row=i, col=1, showticklabels=False)\n",
    "        else:\n",
    "            fig.update_xaxes(title_text=\"-log10(p-adjust)\", row=i, col=1)\n",
    "\n",
    "    fig.update_layout(\n",
    "        title_text=f\"Top 10 GO Terms for {clock_name.replace('_', ' ').replace('full', '')}\", \n",
    "        title_x=0.5,\n",
    "        height=297 * 3.78,  # A4 height in pixels (1 inch = 96 pixels)\n",
    "        width=210 * 3.78,   # A4 width in pixels (1 inch = 96 pixels)\n",
    "        showlegend=False,\n",
    "        margin=dict(l=100, r=20, t=100, b=70),  # Increased right margin for GeneRatio\n",
    "    )\n",
    "\n",
    "    fig.update_xaxes(range=[0, max_x * 1.2])  # Increased x-axis range for GeneRatio\n",
    "\n",
    "    # Select save location\n",
    "    folder = (f\"./Results - Clocks Full/{clock_name}\")\n",
    "    fig.write_html(f\"{folder}/{clock_name}_combined_GO_results.html\")   \n",
    "    fig.write_image(f\"{folder}/{clock_name}_combined_GO_results.png\", scale=5)  # Increased resolution\n",
    "    fig.show()"
   ]
  },
  {
   "cell_type": "code",
   "execution_count": 121,
   "metadata": {},
   "outputs": [
    {
     "data": {
      "application/vnd.plotly.v1+json": {
       "config": {
        "plotlyServerURL": "https://plot.ly"
       },
       "data": [
        {
         "hoverinfo": "text",
         "hovertext": [
          "neural precursor cell proliferation<br>p-adjust: 3.15e-04<br>GeneRatio: 12/235<br>Gene Count: 12",
          "anterior/posterior pattern specification<br>p-adjust: 2.19e-04<br>GeneRatio: 14/235<br>Gene Count: 14",
          "spinal cord development<br>p-adjust: 2.12e-04<br>GeneRatio: 10/235<br>Gene Count: 10",
          "muscle organ development<br>p-adjust: 2.12e-04<br>GeneRatio: 18/235<br>Gene Count: 18",
          "forebrain development<br>p-adjust: 9.86e-05<br>GeneRatio: 20/235<br>Gene Count: 20",
          "regulation of neuron differentiation<br>p-adjust: 1.68e-05<br>GeneRatio: 15/235<br>Gene Count: 15",
          "regionalization<br>p-adjust: 1.68e-05<br>GeneRatio: 22/235<br>Gene Count: 22",
          "neuron fate commitment<br>p-adjust: 1.68e-05<br>GeneRatio: 10/235<br>Gene Count: 10",
          "cell fate commitment<br>p-adjust: 1.68e-05<br>GeneRatio: 18/235<br>Gene Count: 18",
          "pattern specification process<br>p-adjust: 8.02e-07<br>GeneRatio: 26/235<br>Gene Count: 26"
         ],
         "marker": {
          "color": "#440154"
         },
         "orientation": "h",
         "text": [
          "p: 3.1e-04",
          "p: 2.2e-04",
          "p: 2.1e-04",
          "p: 2.1e-04",
          "p: 9.9e-05",
          "p: 1.7e-05",
          "p: 1.7e-05",
          "p: 1.7e-05",
          "p: 1.7e-05",
          "p: 8.0e-07"
         ],
         "textfont": {
          "color": "white",
          "size": 9
         },
         "textposition": "inside",
         "type": "bar",
         "x": [
          3.5021256218734993,
          3.659894166124541,
          3.6728820107518736,
          3.6728820107518736,
          4.006052505415583,
          4.775454881796414,
          4.775454881796414,
          4.775454881796414,
          4.775454881796414,
          6.095882154860305
         ],
         "xaxis": "x",
         "y": [
          "neural precursor cell proliferation",
          "anterior/posterior pattern specification",
          "spinal cord development",
          "muscle organ development",
          "forebrain development",
          "regulation of neuron differentiation",
          "regionalization",
          "neuron fate commitment",
          "cell fate commitment",
          "pattern specification process"
         ],
         "yaxis": "y"
        },
        {
         "mode": "text",
         "showlegend": false,
         "text": [
          "GR: 12/235",
          "GR: 14/235",
          "GR: 10/235",
          "GR: 18/235",
          "GR: 20/235",
          "GR: 15/235",
          "GR: 22/235",
          "GR: 10/235",
          "GR: 18/235",
          "GR: 26/235"
         ],
         "textfont": {
          "size": 9
         },
         "textposition": "middle right",
         "type": "scatter",
         "x": [
          3.5021256218734993,
          3.659894166124541,
          3.6728820107518736,
          3.6728820107518736,
          4.006052505415583,
          4.775454881796414,
          4.775454881796414,
          4.775454881796414,
          4.775454881796414,
          6.095882154860305
         ],
         "xaxis": "x",
         "y": [
          "neural precursor cell proliferation",
          "anterior/posterior pattern specification",
          "spinal cord development",
          "muscle organ development",
          "forebrain development",
          "regulation of neuron differentiation",
          "regionalization",
          "neuron fate commitment",
          "cell fate commitment",
          "pattern specification process"
         ],
         "yaxis": "y"
        },
        {
         "hoverinfo": "text",
         "hovertext": [
          "mRNA regulatory element binding translation repressor activity<br>p-adjust: 1.64e-03<br>GeneRatio: 4/229<br>Gene Count: 4",
          "transcription corepressor binding<br>p-adjust: 1.21e-03<br>GeneRatio: 6/229<br>Gene Count: 6",
          "transcription coregulator binding<br>p-adjust: 6.11e-04<br>GeneRatio: 9/229<br>Gene Count: 9",
          "RNA polymerase II-specific DNA-binding transcription factor binding<br>p-adjust: 4.23e-04<br>GeneRatio: 16/229<br>Gene Count: 16",
          "beta-catenin binding<br>p-adjust: 8.15e-05<br>GeneRatio: 9/229<br>Gene Count: 9",
          "DNA-binding transcription repressor activity, RNA polymerase II-specific<br>p-adjust: 1.27e-05<br>GeneRatio: 18/229<br>Gene Count: 18",
          "DNA-binding transcription factor binding<br>p-adjust: 1.27e-05<br>GeneRatio: 22/229<br>Gene Count: 22",
          "DNA-binding transcription repressor activity<br>p-adjust: 1.07e-06<br>GeneRatio: 20/229<br>Gene Count: 20",
          "DNA-binding transcription activator activity<br>p-adjust: 2.77e-07<br>GeneRatio: 25/229<br>Gene Count: 25",
          "DNA-binding transcription activator activity, RNA polymerase II-specific<br>p-adjust: 2.77e-07<br>GeneRatio: 25/229<br>Gene Count: 25"
         ],
         "marker": {
          "color": "#31688e"
         },
         "orientation": "h",
         "text": [
          "p: 1.6e-03",
          "p: 1.2e-03",
          "p: 6.1e-04",
          "p: 4.2e-04",
          "p: 8.2e-05",
          "p: 1.3e-05",
          "p: 1.3e-05",
          "p: 1.1e-06",
          "p: 2.8e-07",
          "p: 2.8e-07"
         ],
         "textfont": {
          "color": "white",
          "size": 9
         },
         "textposition": "inside",
         "type": "bar",
         "x": [
          2.786219074228353,
          2.9167317877595123,
          3.213883015365338,
          3.3733219286964222,
          4.088785196157448,
          4.895589086128644,
          4.895589086128644,
          5.971653657263559,
          6.557719875463374,
          6.557719875463374
         ],
         "xaxis": "x2",
         "y": [
          "mRNA regulatory element binding translation repressor activity",
          "transcription corepressor binding",
          "transcription coregulator binding",
          "RNA polymerase II-specific DNA-binding transcription factor binding",
          "beta-catenin binding",
          "DNA-binding transcription repressor activity, RNA polymerase II-specific",
          "DNA-binding transcription factor binding",
          "DNA-binding transcription repressor activity",
          "DNA-binding transcription activator activity",
          "DNA-binding transcription activator activity, RNA polymerase II-specific"
         ],
         "yaxis": "y2"
        },
        {
         "mode": "text",
         "showlegend": false,
         "text": [
          "GR: 4/229",
          "GR: 6/229",
          "GR: 9/229",
          "GR: 16/229",
          "GR: 9/229",
          "GR: 18/229",
          "GR: 22/229",
          "GR: 20/229",
          "GR: 25/229",
          "GR: 25/229"
         ],
         "textfont": {
          "size": 9
         },
         "textposition": "middle right",
         "type": "scatter",
         "x": [
          2.786219074228353,
          2.9167317877595123,
          3.213883015365338,
          3.3733219286964222,
          4.088785196157448,
          4.895589086128644,
          4.895589086128644,
          5.971653657263559,
          6.557719875463374,
          6.557719875463374
         ],
         "xaxis": "x2",
         "y": [
          "mRNA regulatory element binding translation repressor activity",
          "transcription corepressor binding",
          "transcription coregulator binding",
          "RNA polymerase II-specific DNA-binding transcription factor binding",
          "beta-catenin binding",
          "DNA-binding transcription repressor activity, RNA polymerase II-specific",
          "DNA-binding transcription factor binding",
          "DNA-binding transcription repressor activity",
          "DNA-binding transcription activator activity",
          "DNA-binding transcription activator activity, RNA polymerase II-specific"
         ],
         "yaxis": "y2"
        },
        {
         "hoverinfo": "text",
         "hovertext": [
          "beta-catenin-TCF complex<br>p-adjust: 4.73e-02<br>GeneRatio: 3/236<br>Gene Count: 3",
          "postsynaptic membrane<br>p-adjust: 1.91e-02<br>GeneRatio: 12/236<br>Gene Count: 12",
          "synaptic membrane<br>p-adjust: 1.91e-02<br>GeneRatio: 15/236<br>Gene Count: 15"
         ],
         "marker": {
          "color": "#1f9e89"
         },
         "orientation": "h",
         "text": [
          "p: 4.7e-02",
          "p: 1.9e-02",
          "p: 1.9e-02"
         ],
         "textfont": {
          "color": "white",
          "size": 9
         },
         "textposition": "inside",
         "type": "bar",
         "x": [
          1.3255048685033988,
          1.7195059707787037,
          1.7195059707787037
         ],
         "xaxis": "x3",
         "y": [
          "beta-catenin-TCF complex",
          "postsynaptic membrane",
          "synaptic membrane"
         ],
         "yaxis": "y3"
        },
        {
         "mode": "text",
         "showlegend": false,
         "text": [
          "GR: 3/236",
          "GR: 12/236",
          "GR: 15/236"
         ],
         "textfont": {
          "size": 9
         },
         "textposition": "middle right",
         "type": "scatter",
         "x": [
          1.3255048685033988,
          1.7195059707787037,
          1.7195059707787037
         ],
         "xaxis": "x3",
         "y": [
          "beta-catenin-TCF complex",
          "postsynaptic membrane",
          "synaptic membrane"
         ],
         "yaxis": "y3"
        }
       ],
       "layout": {
        "annotations": [
         {
          "font": {
           "size": 16
          },
          "showarrow": false,
          "text": "Biological Process",
          "x": 0.5,
          "xanchor": "center",
          "xref": "paper",
          "y": 1,
          "yanchor": "bottom",
          "yref": "paper"
         },
         {
          "font": {
           "size": 16
          },
          "showarrow": false,
          "text": "Molecular Function",
          "x": 0.5,
          "xanchor": "center",
          "xref": "paper",
          "y": 0.6333333333333333,
          "yanchor": "bottom",
          "yref": "paper"
         },
         {
          "font": {
           "size": 16
          },
          "showarrow": false,
          "text": "Cellular Component",
          "x": 0.5,
          "xanchor": "center",
          "xref": "paper",
          "y": 0.26666666666666666,
          "yanchor": "bottom",
          "yref": "paper"
         }
        ],
        "height": 1122.6599999999999,
        "margin": {
         "b": 70,
         "l": 100,
         "r": 20,
         "t": 100
        },
        "showlegend": false,
        "template": {
         "data": {
          "bar": [
           {
            "error_x": {
             "color": "#2a3f5f"
            },
            "error_y": {
             "color": "#2a3f5f"
            },
            "marker": {
             "line": {
              "color": "#E5ECF6",
              "width": 0.5
             },
             "pattern": {
              "fillmode": "overlay",
              "size": 10,
              "solidity": 0.2
             }
            },
            "type": "bar"
           }
          ],
          "barpolar": [
           {
            "marker": {
             "line": {
              "color": "#E5ECF6",
              "width": 0.5
             },
             "pattern": {
              "fillmode": "overlay",
              "size": 10,
              "solidity": 0.2
             }
            },
            "type": "barpolar"
           }
          ],
          "carpet": [
           {
            "aaxis": {
             "endlinecolor": "#2a3f5f",
             "gridcolor": "white",
             "linecolor": "white",
             "minorgridcolor": "white",
             "startlinecolor": "#2a3f5f"
            },
            "baxis": {
             "endlinecolor": "#2a3f5f",
             "gridcolor": "white",
             "linecolor": "white",
             "minorgridcolor": "white",
             "startlinecolor": "#2a3f5f"
            },
            "type": "carpet"
           }
          ],
          "choropleth": [
           {
            "colorbar": {
             "outlinewidth": 0,
             "ticks": ""
            },
            "type": "choropleth"
           }
          ],
          "contour": [
           {
            "colorbar": {
             "outlinewidth": 0,
             "ticks": ""
            },
            "colorscale": [
             [
              0,
              "#0d0887"
             ],
             [
              0.1111111111111111,
              "#46039f"
             ],
             [
              0.2222222222222222,
              "#7201a8"
             ],
             [
              0.3333333333333333,
              "#9c179e"
             ],
             [
              0.4444444444444444,
              "#bd3786"
             ],
             [
              0.5555555555555556,
              "#d8576b"
             ],
             [
              0.6666666666666666,
              "#ed7953"
             ],
             [
              0.7777777777777778,
              "#fb9f3a"
             ],
             [
              0.8888888888888888,
              "#fdca26"
             ],
             [
              1,
              "#f0f921"
             ]
            ],
            "type": "contour"
           }
          ],
          "contourcarpet": [
           {
            "colorbar": {
             "outlinewidth": 0,
             "ticks": ""
            },
            "type": "contourcarpet"
           }
          ],
          "heatmap": [
           {
            "colorbar": {
             "outlinewidth": 0,
             "ticks": ""
            },
            "colorscale": [
             [
              0,
              "#0d0887"
             ],
             [
              0.1111111111111111,
              "#46039f"
             ],
             [
              0.2222222222222222,
              "#7201a8"
             ],
             [
              0.3333333333333333,
              "#9c179e"
             ],
             [
              0.4444444444444444,
              "#bd3786"
             ],
             [
              0.5555555555555556,
              "#d8576b"
             ],
             [
              0.6666666666666666,
              "#ed7953"
             ],
             [
              0.7777777777777778,
              "#fb9f3a"
             ],
             [
              0.8888888888888888,
              "#fdca26"
             ],
             [
              1,
              "#f0f921"
             ]
            ],
            "type": "heatmap"
           }
          ],
          "heatmapgl": [
           {
            "colorbar": {
             "outlinewidth": 0,
             "ticks": ""
            },
            "colorscale": [
             [
              0,
              "#0d0887"
             ],
             [
              0.1111111111111111,
              "#46039f"
             ],
             [
              0.2222222222222222,
              "#7201a8"
             ],
             [
              0.3333333333333333,
              "#9c179e"
             ],
             [
              0.4444444444444444,
              "#bd3786"
             ],
             [
              0.5555555555555556,
              "#d8576b"
             ],
             [
              0.6666666666666666,
              "#ed7953"
             ],
             [
              0.7777777777777778,
              "#fb9f3a"
             ],
             [
              0.8888888888888888,
              "#fdca26"
             ],
             [
              1,
              "#f0f921"
             ]
            ],
            "type": "heatmapgl"
           }
          ],
          "histogram": [
           {
            "marker": {
             "pattern": {
              "fillmode": "overlay",
              "size": 10,
              "solidity": 0.2
             }
            },
            "type": "histogram"
           }
          ],
          "histogram2d": [
           {
            "colorbar": {
             "outlinewidth": 0,
             "ticks": ""
            },
            "colorscale": [
             [
              0,
              "#0d0887"
             ],
             [
              0.1111111111111111,
              "#46039f"
             ],
             [
              0.2222222222222222,
              "#7201a8"
             ],
             [
              0.3333333333333333,
              "#9c179e"
             ],
             [
              0.4444444444444444,
              "#bd3786"
             ],
             [
              0.5555555555555556,
              "#d8576b"
             ],
             [
              0.6666666666666666,
              "#ed7953"
             ],
             [
              0.7777777777777778,
              "#fb9f3a"
             ],
             [
              0.8888888888888888,
              "#fdca26"
             ],
             [
              1,
              "#f0f921"
             ]
            ],
            "type": "histogram2d"
           }
          ],
          "histogram2dcontour": [
           {
            "colorbar": {
             "outlinewidth": 0,
             "ticks": ""
            },
            "colorscale": [
             [
              0,
              "#0d0887"
             ],
             [
              0.1111111111111111,
              "#46039f"
             ],
             [
              0.2222222222222222,
              "#7201a8"
             ],
             [
              0.3333333333333333,
              "#9c179e"
             ],
             [
              0.4444444444444444,
              "#bd3786"
             ],
             [
              0.5555555555555556,
              "#d8576b"
             ],
             [
              0.6666666666666666,
              "#ed7953"
             ],
             [
              0.7777777777777778,
              "#fb9f3a"
             ],
             [
              0.8888888888888888,
              "#fdca26"
             ],
             [
              1,
              "#f0f921"
             ]
            ],
            "type": "histogram2dcontour"
           }
          ],
          "mesh3d": [
           {
            "colorbar": {
             "outlinewidth": 0,
             "ticks": ""
            },
            "type": "mesh3d"
           }
          ],
          "parcoords": [
           {
            "line": {
             "colorbar": {
              "outlinewidth": 0,
              "ticks": ""
             }
            },
            "type": "parcoords"
           }
          ],
          "pie": [
           {
            "automargin": true,
            "type": "pie"
           }
          ],
          "scatter": [
           {
            "fillpattern": {
             "fillmode": "overlay",
             "size": 10,
             "solidity": 0.2
            },
            "type": "scatter"
           }
          ],
          "scatter3d": [
           {
            "line": {
             "colorbar": {
              "outlinewidth": 0,
              "ticks": ""
             }
            },
            "marker": {
             "colorbar": {
              "outlinewidth": 0,
              "ticks": ""
             }
            },
            "type": "scatter3d"
           }
          ],
          "scattercarpet": [
           {
            "marker": {
             "colorbar": {
              "outlinewidth": 0,
              "ticks": ""
             }
            },
            "type": "scattercarpet"
           }
          ],
          "scattergeo": [
           {
            "marker": {
             "colorbar": {
              "outlinewidth": 0,
              "ticks": ""
             }
            },
            "type": "scattergeo"
           }
          ],
          "scattergl": [
           {
            "marker": {
             "colorbar": {
              "outlinewidth": 0,
              "ticks": ""
             }
            },
            "type": "scattergl"
           }
          ],
          "scattermapbox": [
           {
            "marker": {
             "colorbar": {
              "outlinewidth": 0,
              "ticks": ""
             }
            },
            "type": "scattermapbox"
           }
          ],
          "scatterpolar": [
           {
            "marker": {
             "colorbar": {
              "outlinewidth": 0,
              "ticks": ""
             }
            },
            "type": "scatterpolar"
           }
          ],
          "scatterpolargl": [
           {
            "marker": {
             "colorbar": {
              "outlinewidth": 0,
              "ticks": ""
             }
            },
            "type": "scatterpolargl"
           }
          ],
          "scatterternary": [
           {
            "marker": {
             "colorbar": {
              "outlinewidth": 0,
              "ticks": ""
             }
            },
            "type": "scatterternary"
           }
          ],
          "surface": [
           {
            "colorbar": {
             "outlinewidth": 0,
             "ticks": ""
            },
            "colorscale": [
             [
              0,
              "#0d0887"
             ],
             [
              0.1111111111111111,
              "#46039f"
             ],
             [
              0.2222222222222222,
              "#7201a8"
             ],
             [
              0.3333333333333333,
              "#9c179e"
             ],
             [
              0.4444444444444444,
              "#bd3786"
             ],
             [
              0.5555555555555556,
              "#d8576b"
             ],
             [
              0.6666666666666666,
              "#ed7953"
             ],
             [
              0.7777777777777778,
              "#fb9f3a"
             ],
             [
              0.8888888888888888,
              "#fdca26"
             ],
             [
              1,
              "#f0f921"
             ]
            ],
            "type": "surface"
           }
          ],
          "table": [
           {
            "cells": {
             "fill": {
              "color": "#EBF0F8"
             },
             "line": {
              "color": "white"
             }
            },
            "header": {
             "fill": {
              "color": "#C8D4E3"
             },
             "line": {
              "color": "white"
             }
            },
            "type": "table"
           }
          ]
         },
         "layout": {
          "annotationdefaults": {
           "arrowcolor": "#2a3f5f",
           "arrowhead": 0,
           "arrowwidth": 1
          },
          "autotypenumbers": "strict",
          "coloraxis": {
           "colorbar": {
            "outlinewidth": 0,
            "ticks": ""
           }
          },
          "colorscale": {
           "diverging": [
            [
             0,
             "#8e0152"
            ],
            [
             0.1,
             "#c51b7d"
            ],
            [
             0.2,
             "#de77ae"
            ],
            [
             0.3,
             "#f1b6da"
            ],
            [
             0.4,
             "#fde0ef"
            ],
            [
             0.5,
             "#f7f7f7"
            ],
            [
             0.6,
             "#e6f5d0"
            ],
            [
             0.7,
             "#b8e186"
            ],
            [
             0.8,
             "#7fbc41"
            ],
            [
             0.9,
             "#4d9221"
            ],
            [
             1,
             "#276419"
            ]
           ],
           "sequential": [
            [
             0,
             "#0d0887"
            ],
            [
             0.1111111111111111,
             "#46039f"
            ],
            [
             0.2222222222222222,
             "#7201a8"
            ],
            [
             0.3333333333333333,
             "#9c179e"
            ],
            [
             0.4444444444444444,
             "#bd3786"
            ],
            [
             0.5555555555555556,
             "#d8576b"
            ],
            [
             0.6666666666666666,
             "#ed7953"
            ],
            [
             0.7777777777777778,
             "#fb9f3a"
            ],
            [
             0.8888888888888888,
             "#fdca26"
            ],
            [
             1,
             "#f0f921"
            ]
           ],
           "sequentialminus": [
            [
             0,
             "#0d0887"
            ],
            [
             0.1111111111111111,
             "#46039f"
            ],
            [
             0.2222222222222222,
             "#7201a8"
            ],
            [
             0.3333333333333333,
             "#9c179e"
            ],
            [
             0.4444444444444444,
             "#bd3786"
            ],
            [
             0.5555555555555556,
             "#d8576b"
            ],
            [
             0.6666666666666666,
             "#ed7953"
            ],
            [
             0.7777777777777778,
             "#fb9f3a"
            ],
            [
             0.8888888888888888,
             "#fdca26"
            ],
            [
             1,
             "#f0f921"
            ]
           ]
          },
          "colorway": [
           "#636efa",
           "#EF553B",
           "#00cc96",
           "#ab63fa",
           "#FFA15A",
           "#19d3f3",
           "#FF6692",
           "#B6E880",
           "#FF97FF",
           "#FECB52"
          ],
          "font": {
           "color": "#2a3f5f"
          },
          "geo": {
           "bgcolor": "white",
           "lakecolor": "white",
           "landcolor": "#E5ECF6",
           "showlakes": true,
           "showland": true,
           "subunitcolor": "white"
          },
          "hoverlabel": {
           "align": "left"
          },
          "hovermode": "closest",
          "mapbox": {
           "style": "light"
          },
          "paper_bgcolor": "white",
          "plot_bgcolor": "#E5ECF6",
          "polar": {
           "angularaxis": {
            "gridcolor": "white",
            "linecolor": "white",
            "ticks": ""
           },
           "bgcolor": "#E5ECF6",
           "radialaxis": {
            "gridcolor": "white",
            "linecolor": "white",
            "ticks": ""
           }
          },
          "scene": {
           "xaxis": {
            "backgroundcolor": "#E5ECF6",
            "gridcolor": "white",
            "gridwidth": 2,
            "linecolor": "white",
            "showbackground": true,
            "ticks": "",
            "zerolinecolor": "white"
           },
           "yaxis": {
            "backgroundcolor": "#E5ECF6",
            "gridcolor": "white",
            "gridwidth": 2,
            "linecolor": "white",
            "showbackground": true,
            "ticks": "",
            "zerolinecolor": "white"
           },
           "zaxis": {
            "backgroundcolor": "#E5ECF6",
            "gridcolor": "white",
            "gridwidth": 2,
            "linecolor": "white",
            "showbackground": true,
            "ticks": "",
            "zerolinecolor": "white"
           }
          },
          "shapedefaults": {
           "line": {
            "color": "#2a3f5f"
           }
          },
          "ternary": {
           "aaxis": {
            "gridcolor": "white",
            "linecolor": "white",
            "ticks": ""
           },
           "baxis": {
            "gridcolor": "white",
            "linecolor": "white",
            "ticks": ""
           },
           "bgcolor": "#E5ECF6",
           "caxis": {
            "gridcolor": "white",
            "linecolor": "white",
            "ticks": ""
           }
          },
          "title": {
           "x": 0.05
          },
          "xaxis": {
           "automargin": true,
           "gridcolor": "white",
           "linecolor": "white",
           "ticks": "",
           "title": {
            "standoff": 15
           },
           "zerolinecolor": "white",
           "zerolinewidth": 2
          },
          "yaxis": {
           "automargin": true,
           "gridcolor": "white",
           "linecolor": "white",
           "ticks": "",
           "title": {
            "standoff": 15
           },
           "zerolinecolor": "white",
           "zerolinewidth": 2
          }
         }
        },
        "title": {
         "text": "Top 10 GO Terms for Clock 1 ",
         "x": 0.5
        },
        "width": 793.8,
        "xaxis": {
         "anchor": "y",
         "domain": [
          0,
          1
         ],
         "range": [
          0,
          7.869263850556049
         ],
         "showticklabels": false,
         "title": {
          "text": ""
         }
        },
        "xaxis2": {
         "anchor": "y2",
         "domain": [
          0,
          1
         ],
         "range": [
          0,
          7.869263850556049
         ],
         "showticklabels": false,
         "title": {
          "text": ""
         }
        },
        "xaxis3": {
         "anchor": "y3",
         "domain": [
          0,
          1
         ],
         "range": [
          0,
          7.869263850556049
         ],
         "title": {
          "text": "-log10(p-adjust)"
         }
        },
        "yaxis": {
         "anchor": "x",
         "automargin": true,
         "domain": [
          0.7333333333333334,
          1
         ]
        },
        "yaxis2": {
         "anchor": "x2",
         "automargin": true,
         "domain": [
          0.3666666666666667,
          0.6333333333333333
         ]
        },
        "yaxis3": {
         "anchor": "x3",
         "automargin": true,
         "domain": [
          0,
          0.26666666666666666
         ]
        }
       }
      }
     },
     "metadata": {},
     "output_type": "display_data"
    },
    {
     "data": {
      "application/vnd.plotly.v1+json": {
       "config": {
        "plotlyServerURL": "https://plot.ly"
       },
       "data": [
        {
         "hoverinfo": "text",
         "hovertext": [
          "embryonic organ morphogenesis<br>p-adjust: 1.43e-09<br>GeneRatio: 33/502<br>Gene Count: 33",
          "telencephalon development<br>p-adjust: 1.30e-09<br>GeneRatio: 32/502<br>Gene Count: 32",
          "skeletal system morphogenesis<br>p-adjust: 3.36e-10<br>GeneRatio: 30/502<br>Gene Count: 30",
          "neuron fate commitment<br>p-adjust: 2.81e-10<br>GeneRatio: 18/502<br>Gene Count: 18",
          "pattern specification process<br>p-adjust: 5.68e-12<br>GeneRatio: 47/502<br>Gene Count: 47",
          "embryonic organ development<br>p-adjust: 1.11e-12<br>GeneRatio: 47/502<br>Gene Count: 47",
          "axonogenesis<br>p-adjust: 9.07e-13<br>GeneRatio: 47/502<br>Gene Count: 47",
          "regulation of neuron differentiation<br>p-adjust: 2.95e-13<br>GeneRatio: 32/502<br>Gene Count: 32",
          "forebrain development<br>p-adjust: 4.16e-14<br>GeneRatio: 47/502<br>Gene Count: 47",
          "cell fate commitment<br>p-adjust: 4.24e-15<br>GeneRatio: 41/502<br>Gene Count: 41"
         ],
         "marker": {
          "color": "#440154"
         },
         "orientation": "h",
         "text": [
          "p: 1.4e-09",
          "p: 1.3e-09",
          "p: 3.4e-10",
          "p: 2.8e-10",
          "p: 5.7e-12",
          "p: 1.1e-12",
          "p: 9.1e-13",
          "p: 2.9e-13",
          "p: 4.2e-14",
          "p: 4.2e-15"
         ],
         "textfont": {
          "color": "white",
          "size": 9
         },
         "textposition": "inside",
         "type": "bar",
         "x": [
          8.844829952389178,
          8.887135440407294,
          9.473741848964528,
          9.551501574122696,
          11.245526146247467,
          11.953159476324041,
          12.04238067858633,
          12.53067196543847,
          13.381420459211151,
          14.373001950704484
         ],
         "xaxis": "x",
         "y": [
          "embryonic organ morphogenesis",
          "telencephalon development",
          "skeletal system morphogenesis",
          "neuron fate commitment",
          "pattern specification process",
          "embryonic organ development",
          "axonogenesis",
          "regulation of neuron differentiation",
          "forebrain development",
          "cell fate commitment"
         ],
         "yaxis": "y"
        },
        {
         "mode": "text",
         "showlegend": false,
         "text": [
          "GR: 33/502",
          "GR: 32/502",
          "GR: 30/502",
          "GR: 18/502",
          "GR: 47/502",
          "GR: 47/502",
          "GR: 47/502",
          "GR: 32/502",
          "GR: 47/502",
          "GR: 41/502"
         ],
         "textfont": {
          "size": 9
         },
         "textposition": "middle right",
         "type": "scatter",
         "x": [
          8.844829952389178,
          8.887135440407294,
          9.473741848964528,
          9.551501574122696,
          11.245526146247467,
          11.953159476324041,
          12.04238067858633,
          12.53067196543847,
          13.381420459211151,
          14.373001950704484
         ],
         "xaxis": "x",
         "y": [
          "embryonic organ morphogenesis",
          "telencephalon development",
          "skeletal system morphogenesis",
          "neuron fate commitment",
          "pattern specification process",
          "embryonic organ development",
          "axonogenesis",
          "regulation of neuron differentiation",
          "forebrain development",
          "cell fate commitment"
         ],
         "yaxis": "y"
        },
        {
         "hoverinfo": "text",
         "hovertext": [
          "RNA polymerase II-specific DNA-binding transcription factor binding<br>p-adjust: 1.50e-06<br>GeneRatio: 30/504<br>Gene Count: 30",
          "transcription coregulator binding<br>p-adjust: 6.99e-07<br>GeneRatio: 17/504<br>Gene Count: 17",
          "beta-catenin binding<br>p-adjust: 6.99e-07<br>GeneRatio: 15/504<br>Gene Count: 15",
          "E-box binding<br>p-adjust: 4.77e-07<br>GeneRatio: 13/504<br>Gene Count: 13",
          "HMG box domain binding<br>p-adjust: 3.62e-08<br>GeneRatio: 8/504<br>Gene Count: 8",
          "DNA-binding transcription repressor activity, RNA polymerase II-specific<br>p-adjust: 1.06e-12<br>GeneRatio: 39/504<br>Gene Count: 39",
          "DNA-binding transcription factor binding<br>p-adjust: 4.36e-14<br>GeneRatio: 50/504<br>Gene Count: 50",
          "DNA-binding transcription repressor activity<br>p-adjust: 2.57e-14<br>GeneRatio: 42/504<br>Gene Count: 42",
          "DNA-binding transcription activator activity<br>p-adjust: 3.28e-15<br>GeneRatio: 52/504<br>Gene Count: 52",
          "DNA-binding transcription activator activity, RNA polymerase II-specific<br>p-adjust: 3.28e-15<br>GeneRatio: 52/504<br>Gene Count: 52"
         ],
         "marker": {
          "color": "#31688e"
         },
         "orientation": "h",
         "text": [
          "p: 1.5e-06",
          "p: 7.0e-07",
          "p: 7.0e-07",
          "p: 4.8e-07",
          "p: 3.6e-08",
          "p: 1.1e-12",
          "p: 4.4e-14",
          "p: 2.6e-14",
          "p: 3.3e-15",
          "p: 3.3e-15"
         ],
         "textfont": {
          "color": "white",
          "size": 9
         },
         "textposition": "inside",
         "type": "bar",
         "x": [
          5.82459621751845,
          6.155582415763097,
          6.155582415763097,
          6.321426358033416,
          7.440867278111819,
          11.975623257393215,
          13.360989467258284,
          13.590750163371903,
          14.484198729611752,
          14.484198729611752
         ],
         "xaxis": "x2",
         "y": [
          "RNA polymerase II-specific DNA-binding transcription factor binding",
          "transcription coregulator binding",
          "beta-catenin binding",
          "E-box binding",
          "HMG box domain binding",
          "DNA-binding transcription repressor activity, RNA polymerase II-specific",
          "DNA-binding transcription factor binding",
          "DNA-binding transcription repressor activity",
          "DNA-binding transcription activator activity",
          "DNA-binding transcription activator activity, RNA polymerase II-specific"
         ],
         "yaxis": "y2"
        },
        {
         "mode": "text",
         "showlegend": false,
         "text": [
          "GR: 30/504",
          "GR: 17/504",
          "GR: 15/504",
          "GR: 13/504",
          "GR: 8/504",
          "GR: 39/504",
          "GR: 50/504",
          "GR: 42/504",
          "GR: 52/504",
          "GR: 52/504"
         ],
         "textfont": {
          "size": 9
         },
         "textposition": "middle right",
         "type": "scatter",
         "x": [
          5.82459621751845,
          6.155582415763097,
          6.155582415763097,
          6.321426358033416,
          7.440867278111819,
          11.975623257393215,
          13.360989467258284,
          13.590750163371903,
          14.484198729611752,
          14.484198729611752
         ],
         "xaxis": "x2",
         "y": [
          "RNA polymerase II-specific DNA-binding transcription factor binding",
          "transcription coregulator binding",
          "beta-catenin binding",
          "E-box binding",
          "HMG box domain binding",
          "DNA-binding transcription repressor activity, RNA polymerase II-specific",
          "DNA-binding transcription factor binding",
          "DNA-binding transcription repressor activity",
          "DNA-binding transcription activator activity",
          "DNA-binding transcription activator activity, RNA polymerase II-specific"
         ],
         "yaxis": "y2"
        },
        {
         "hoverinfo": "text",
         "hovertext": [
          "asymmetric synapse<br>p-adjust: 7.92e-04<br>GeneRatio: 23/512<br>Gene Count: 23",
          "postsynaptic specialization<br>p-adjust: 5.97e-04<br>GeneRatio: 24/512<br>Gene Count: 24",
          "neuron to neuron synapse<br>p-adjust: 4.78e-04<br>GeneRatio: 25/512<br>Gene Count: 25",
          "nuclear speck<br>p-adjust: 2.71e-04<br>GeneRatio: 28/512<br>Gene Count: 28",
          "presynaptic membrane<br>p-adjust: 9.82e-05<br>GeneRatio: 17/512<br>Gene Count: 17",
          "glutamatergic synapse<br>p-adjust: 7.81e-05<br>GeneRatio: 29/512<br>Gene Count: 29",
          "RNA polymerase II transcription regulator complex<br>p-adjust: 7.81e-05<br>GeneRatio: 22/512<br>Gene Count: 22",
          "beta-catenin-TCF complex<br>p-adjust: 6.23e-05<br>GeneRatio: 6/512<br>Gene Count: 6",
          "postsynaptic membrane<br>p-adjust: 4.75e-05<br>GeneRatio: 24/512<br>Gene Count: 24",
          "synaptic membrane<br>p-adjust: 3.44e-07<br>GeneRatio: 34/512<br>Gene Count: 34"
         ],
         "marker": {
          "color": "#1f9e89"
         },
         "orientation": "h",
         "text": [
          "p: 7.9e-04",
          "p: 6.0e-04",
          "p: 4.8e-04",
          "p: 2.7e-04",
          "p: 9.8e-05",
          "p: 7.8e-05",
          "p: 7.8e-05",
          "p: 6.2e-05",
          "p: 4.7e-05",
          "p: 3.4e-07"
         ],
         "textfont": {
          "color": "white",
          "size": 9
         },
         "textposition": "inside",
         "type": "bar",
         "x": [
          3.101179219155552,
          3.2237140584933193,
          3.320209318930333,
          3.5665707191136224,
          4.007834730951005,
          4.107261517463783,
          4.107261517463783,
          4.205435876718214,
          4.323514988303693,
          6.4639380910111734
         ],
         "xaxis": "x3",
         "y": [
          "asymmetric synapse",
          "postsynaptic specialization",
          "neuron to neuron synapse",
          "nuclear speck",
          "presynaptic membrane",
          "glutamatergic synapse",
          "RNA polymerase II transcription regulator complex",
          "beta-catenin-TCF complex",
          "postsynaptic membrane",
          "synaptic membrane"
         ],
         "yaxis": "y3"
        },
        {
         "mode": "text",
         "showlegend": false,
         "text": [
          "GR: 23/512",
          "GR: 24/512",
          "GR: 25/512",
          "GR: 28/512",
          "GR: 17/512",
          "GR: 29/512",
          "GR: 22/512",
          "GR: 6/512",
          "GR: 24/512",
          "GR: 34/512"
         ],
         "textfont": {
          "size": 9
         },
         "textposition": "middle right",
         "type": "scatter",
         "x": [
          3.101179219155552,
          3.2237140584933193,
          3.320209318930333,
          3.5665707191136224,
          4.007834730951005,
          4.107261517463783,
          4.107261517463783,
          4.205435876718214,
          4.323514988303693,
          6.4639380910111734
         ],
         "xaxis": "x3",
         "y": [
          "asymmetric synapse",
          "postsynaptic specialization",
          "neuron to neuron synapse",
          "nuclear speck",
          "presynaptic membrane",
          "glutamatergic synapse",
          "RNA polymerase II transcription regulator complex",
          "beta-catenin-TCF complex",
          "postsynaptic membrane",
          "synaptic membrane"
         ],
         "yaxis": "y3"
        }
       ],
       "layout": {
        "annotations": [
         {
          "font": {
           "size": 16
          },
          "showarrow": false,
          "text": "Biological Process",
          "x": 0.5,
          "xanchor": "center",
          "xref": "paper",
          "y": 1,
          "yanchor": "bottom",
          "yref": "paper"
         },
         {
          "font": {
           "size": 16
          },
          "showarrow": false,
          "text": "Molecular Function",
          "x": 0.5,
          "xanchor": "center",
          "xref": "paper",
          "y": 0.6333333333333333,
          "yanchor": "bottom",
          "yref": "paper"
         },
         {
          "font": {
           "size": 16
          },
          "showarrow": false,
          "text": "Cellular Component",
          "x": 0.5,
          "xanchor": "center",
          "xref": "paper",
          "y": 0.26666666666666666,
          "yanchor": "bottom",
          "yref": "paper"
         }
        ],
        "height": 1122.6599999999999,
        "margin": {
         "b": 70,
         "l": 100,
         "r": 20,
         "t": 100
        },
        "showlegend": false,
        "template": {
         "data": {
          "bar": [
           {
            "error_x": {
             "color": "#2a3f5f"
            },
            "error_y": {
             "color": "#2a3f5f"
            },
            "marker": {
             "line": {
              "color": "#E5ECF6",
              "width": 0.5
             },
             "pattern": {
              "fillmode": "overlay",
              "size": 10,
              "solidity": 0.2
             }
            },
            "type": "bar"
           }
          ],
          "barpolar": [
           {
            "marker": {
             "line": {
              "color": "#E5ECF6",
              "width": 0.5
             },
             "pattern": {
              "fillmode": "overlay",
              "size": 10,
              "solidity": 0.2
             }
            },
            "type": "barpolar"
           }
          ],
          "carpet": [
           {
            "aaxis": {
             "endlinecolor": "#2a3f5f",
             "gridcolor": "white",
             "linecolor": "white",
             "minorgridcolor": "white",
             "startlinecolor": "#2a3f5f"
            },
            "baxis": {
             "endlinecolor": "#2a3f5f",
             "gridcolor": "white",
             "linecolor": "white",
             "minorgridcolor": "white",
             "startlinecolor": "#2a3f5f"
            },
            "type": "carpet"
           }
          ],
          "choropleth": [
           {
            "colorbar": {
             "outlinewidth": 0,
             "ticks": ""
            },
            "type": "choropleth"
           }
          ],
          "contour": [
           {
            "colorbar": {
             "outlinewidth": 0,
             "ticks": ""
            },
            "colorscale": [
             [
              0,
              "#0d0887"
             ],
             [
              0.1111111111111111,
              "#46039f"
             ],
             [
              0.2222222222222222,
              "#7201a8"
             ],
             [
              0.3333333333333333,
              "#9c179e"
             ],
             [
              0.4444444444444444,
              "#bd3786"
             ],
             [
              0.5555555555555556,
              "#d8576b"
             ],
             [
              0.6666666666666666,
              "#ed7953"
             ],
             [
              0.7777777777777778,
              "#fb9f3a"
             ],
             [
              0.8888888888888888,
              "#fdca26"
             ],
             [
              1,
              "#f0f921"
             ]
            ],
            "type": "contour"
           }
          ],
          "contourcarpet": [
           {
            "colorbar": {
             "outlinewidth": 0,
             "ticks": ""
            },
            "type": "contourcarpet"
           }
          ],
          "heatmap": [
           {
            "colorbar": {
             "outlinewidth": 0,
             "ticks": ""
            },
            "colorscale": [
             [
              0,
              "#0d0887"
             ],
             [
              0.1111111111111111,
              "#46039f"
             ],
             [
              0.2222222222222222,
              "#7201a8"
             ],
             [
              0.3333333333333333,
              "#9c179e"
             ],
             [
              0.4444444444444444,
              "#bd3786"
             ],
             [
              0.5555555555555556,
              "#d8576b"
             ],
             [
              0.6666666666666666,
              "#ed7953"
             ],
             [
              0.7777777777777778,
              "#fb9f3a"
             ],
             [
              0.8888888888888888,
              "#fdca26"
             ],
             [
              1,
              "#f0f921"
             ]
            ],
            "type": "heatmap"
           }
          ],
          "heatmapgl": [
           {
            "colorbar": {
             "outlinewidth": 0,
             "ticks": ""
            },
            "colorscale": [
             [
              0,
              "#0d0887"
             ],
             [
              0.1111111111111111,
              "#46039f"
             ],
             [
              0.2222222222222222,
              "#7201a8"
             ],
             [
              0.3333333333333333,
              "#9c179e"
             ],
             [
              0.4444444444444444,
              "#bd3786"
             ],
             [
              0.5555555555555556,
              "#d8576b"
             ],
             [
              0.6666666666666666,
              "#ed7953"
             ],
             [
              0.7777777777777778,
              "#fb9f3a"
             ],
             [
              0.8888888888888888,
              "#fdca26"
             ],
             [
              1,
              "#f0f921"
             ]
            ],
            "type": "heatmapgl"
           }
          ],
          "histogram": [
           {
            "marker": {
             "pattern": {
              "fillmode": "overlay",
              "size": 10,
              "solidity": 0.2
             }
            },
            "type": "histogram"
           }
          ],
          "histogram2d": [
           {
            "colorbar": {
             "outlinewidth": 0,
             "ticks": ""
            },
            "colorscale": [
             [
              0,
              "#0d0887"
             ],
             [
              0.1111111111111111,
              "#46039f"
             ],
             [
              0.2222222222222222,
              "#7201a8"
             ],
             [
              0.3333333333333333,
              "#9c179e"
             ],
             [
              0.4444444444444444,
              "#bd3786"
             ],
             [
              0.5555555555555556,
              "#d8576b"
             ],
             [
              0.6666666666666666,
              "#ed7953"
             ],
             [
              0.7777777777777778,
              "#fb9f3a"
             ],
             [
              0.8888888888888888,
              "#fdca26"
             ],
             [
              1,
              "#f0f921"
             ]
            ],
            "type": "histogram2d"
           }
          ],
          "histogram2dcontour": [
           {
            "colorbar": {
             "outlinewidth": 0,
             "ticks": ""
            },
            "colorscale": [
             [
              0,
              "#0d0887"
             ],
             [
              0.1111111111111111,
              "#46039f"
             ],
             [
              0.2222222222222222,
              "#7201a8"
             ],
             [
              0.3333333333333333,
              "#9c179e"
             ],
             [
              0.4444444444444444,
              "#bd3786"
             ],
             [
              0.5555555555555556,
              "#d8576b"
             ],
             [
              0.6666666666666666,
              "#ed7953"
             ],
             [
              0.7777777777777778,
              "#fb9f3a"
             ],
             [
              0.8888888888888888,
              "#fdca26"
             ],
             [
              1,
              "#f0f921"
             ]
            ],
            "type": "histogram2dcontour"
           }
          ],
          "mesh3d": [
           {
            "colorbar": {
             "outlinewidth": 0,
             "ticks": ""
            },
            "type": "mesh3d"
           }
          ],
          "parcoords": [
           {
            "line": {
             "colorbar": {
              "outlinewidth": 0,
              "ticks": ""
             }
            },
            "type": "parcoords"
           }
          ],
          "pie": [
           {
            "automargin": true,
            "type": "pie"
           }
          ],
          "scatter": [
           {
            "fillpattern": {
             "fillmode": "overlay",
             "size": 10,
             "solidity": 0.2
            },
            "type": "scatter"
           }
          ],
          "scatter3d": [
           {
            "line": {
             "colorbar": {
              "outlinewidth": 0,
              "ticks": ""
             }
            },
            "marker": {
             "colorbar": {
              "outlinewidth": 0,
              "ticks": ""
             }
            },
            "type": "scatter3d"
           }
          ],
          "scattercarpet": [
           {
            "marker": {
             "colorbar": {
              "outlinewidth": 0,
              "ticks": ""
             }
            },
            "type": "scattercarpet"
           }
          ],
          "scattergeo": [
           {
            "marker": {
             "colorbar": {
              "outlinewidth": 0,
              "ticks": ""
             }
            },
            "type": "scattergeo"
           }
          ],
          "scattergl": [
           {
            "marker": {
             "colorbar": {
              "outlinewidth": 0,
              "ticks": ""
             }
            },
            "type": "scattergl"
           }
          ],
          "scattermapbox": [
           {
            "marker": {
             "colorbar": {
              "outlinewidth": 0,
              "ticks": ""
             }
            },
            "type": "scattermapbox"
           }
          ],
          "scatterpolar": [
           {
            "marker": {
             "colorbar": {
              "outlinewidth": 0,
              "ticks": ""
             }
            },
            "type": "scatterpolar"
           }
          ],
          "scatterpolargl": [
           {
            "marker": {
             "colorbar": {
              "outlinewidth": 0,
              "ticks": ""
             }
            },
            "type": "scatterpolargl"
           }
          ],
          "scatterternary": [
           {
            "marker": {
             "colorbar": {
              "outlinewidth": 0,
              "ticks": ""
             }
            },
            "type": "scatterternary"
           }
          ],
          "surface": [
           {
            "colorbar": {
             "outlinewidth": 0,
             "ticks": ""
            },
            "colorscale": [
             [
              0,
              "#0d0887"
             ],
             [
              0.1111111111111111,
              "#46039f"
             ],
             [
              0.2222222222222222,
              "#7201a8"
             ],
             [
              0.3333333333333333,
              "#9c179e"
             ],
             [
              0.4444444444444444,
              "#bd3786"
             ],
             [
              0.5555555555555556,
              "#d8576b"
             ],
             [
              0.6666666666666666,
              "#ed7953"
             ],
             [
              0.7777777777777778,
              "#fb9f3a"
             ],
             [
              0.8888888888888888,
              "#fdca26"
             ],
             [
              1,
              "#f0f921"
             ]
            ],
            "type": "surface"
           }
          ],
          "table": [
           {
            "cells": {
             "fill": {
              "color": "#EBF0F8"
             },
             "line": {
              "color": "white"
             }
            },
            "header": {
             "fill": {
              "color": "#C8D4E3"
             },
             "line": {
              "color": "white"
             }
            },
            "type": "table"
           }
          ]
         },
         "layout": {
          "annotationdefaults": {
           "arrowcolor": "#2a3f5f",
           "arrowhead": 0,
           "arrowwidth": 1
          },
          "autotypenumbers": "strict",
          "coloraxis": {
           "colorbar": {
            "outlinewidth": 0,
            "ticks": ""
           }
          },
          "colorscale": {
           "diverging": [
            [
             0,
             "#8e0152"
            ],
            [
             0.1,
             "#c51b7d"
            ],
            [
             0.2,
             "#de77ae"
            ],
            [
             0.3,
             "#f1b6da"
            ],
            [
             0.4,
             "#fde0ef"
            ],
            [
             0.5,
             "#f7f7f7"
            ],
            [
             0.6,
             "#e6f5d0"
            ],
            [
             0.7,
             "#b8e186"
            ],
            [
             0.8,
             "#7fbc41"
            ],
            [
             0.9,
             "#4d9221"
            ],
            [
             1,
             "#276419"
            ]
           ],
           "sequential": [
            [
             0,
             "#0d0887"
            ],
            [
             0.1111111111111111,
             "#46039f"
            ],
            [
             0.2222222222222222,
             "#7201a8"
            ],
            [
             0.3333333333333333,
             "#9c179e"
            ],
            [
             0.4444444444444444,
             "#bd3786"
            ],
            [
             0.5555555555555556,
             "#d8576b"
            ],
            [
             0.6666666666666666,
             "#ed7953"
            ],
            [
             0.7777777777777778,
             "#fb9f3a"
            ],
            [
             0.8888888888888888,
             "#fdca26"
            ],
            [
             1,
             "#f0f921"
            ]
           ],
           "sequentialminus": [
            [
             0,
             "#0d0887"
            ],
            [
             0.1111111111111111,
             "#46039f"
            ],
            [
             0.2222222222222222,
             "#7201a8"
            ],
            [
             0.3333333333333333,
             "#9c179e"
            ],
            [
             0.4444444444444444,
             "#bd3786"
            ],
            [
             0.5555555555555556,
             "#d8576b"
            ],
            [
             0.6666666666666666,
             "#ed7953"
            ],
            [
             0.7777777777777778,
             "#fb9f3a"
            ],
            [
             0.8888888888888888,
             "#fdca26"
            ],
            [
             1,
             "#f0f921"
            ]
           ]
          },
          "colorway": [
           "#636efa",
           "#EF553B",
           "#00cc96",
           "#ab63fa",
           "#FFA15A",
           "#19d3f3",
           "#FF6692",
           "#B6E880",
           "#FF97FF",
           "#FECB52"
          ],
          "font": {
           "color": "#2a3f5f"
          },
          "geo": {
           "bgcolor": "white",
           "lakecolor": "white",
           "landcolor": "#E5ECF6",
           "showlakes": true,
           "showland": true,
           "subunitcolor": "white"
          },
          "hoverlabel": {
           "align": "left"
          },
          "hovermode": "closest",
          "mapbox": {
           "style": "light"
          },
          "paper_bgcolor": "white",
          "plot_bgcolor": "#E5ECF6",
          "polar": {
           "angularaxis": {
            "gridcolor": "white",
            "linecolor": "white",
            "ticks": ""
           },
           "bgcolor": "#E5ECF6",
           "radialaxis": {
            "gridcolor": "white",
            "linecolor": "white",
            "ticks": ""
           }
          },
          "scene": {
           "xaxis": {
            "backgroundcolor": "#E5ECF6",
            "gridcolor": "white",
            "gridwidth": 2,
            "linecolor": "white",
            "showbackground": true,
            "ticks": "",
            "zerolinecolor": "white"
           },
           "yaxis": {
            "backgroundcolor": "#E5ECF6",
            "gridcolor": "white",
            "gridwidth": 2,
            "linecolor": "white",
            "showbackground": true,
            "ticks": "",
            "zerolinecolor": "white"
           },
           "zaxis": {
            "backgroundcolor": "#E5ECF6",
            "gridcolor": "white",
            "gridwidth": 2,
            "linecolor": "white",
            "showbackground": true,
            "ticks": "",
            "zerolinecolor": "white"
           }
          },
          "shapedefaults": {
           "line": {
            "color": "#2a3f5f"
           }
          },
          "ternary": {
           "aaxis": {
            "gridcolor": "white",
            "linecolor": "white",
            "ticks": ""
           },
           "baxis": {
            "gridcolor": "white",
            "linecolor": "white",
            "ticks": ""
           },
           "bgcolor": "#E5ECF6",
           "caxis": {
            "gridcolor": "white",
            "linecolor": "white",
            "ticks": ""
           }
          },
          "title": {
           "x": 0.05
          },
          "xaxis": {
           "automargin": true,
           "gridcolor": "white",
           "linecolor": "white",
           "ticks": "",
           "title": {
            "standoff": 15
           },
           "zerolinecolor": "white",
           "zerolinewidth": 2
          },
          "yaxis": {
           "automargin": true,
           "gridcolor": "white",
           "linecolor": "white",
           "ticks": "",
           "title": {
            "standoff": 15
           },
           "zerolinecolor": "white",
           "zerolinewidth": 2
          }
         }
        },
        "title": {
         "text": "Top 10 GO Terms for Clock 2 ",
         "x": 0.5
        },
        "width": 793.8,
        "xaxis": {
         "anchor": "y",
         "domain": [
          0,
          1
         ],
         "range": [
          0,
          17.3810384755341
         ],
         "showticklabels": false,
         "title": {
          "text": ""
         }
        },
        "xaxis2": {
         "anchor": "y2",
         "domain": [
          0,
          1
         ],
         "range": [
          0,
          17.3810384755341
         ],
         "showticklabels": false,
         "title": {
          "text": ""
         }
        },
        "xaxis3": {
         "anchor": "y3",
         "domain": [
          0,
          1
         ],
         "range": [
          0,
          17.3810384755341
         ],
         "title": {
          "text": "-log10(p-adjust)"
         }
        },
        "yaxis": {
         "anchor": "x",
         "automargin": true,
         "domain": [
          0.7333333333333334,
          1
         ]
        },
        "yaxis2": {
         "anchor": "x2",
         "automargin": true,
         "domain": [
          0.3666666666666667,
          0.6333333333333333
         ]
        },
        "yaxis3": {
         "anchor": "x3",
         "automargin": true,
         "domain": [
          0,
          0.26666666666666666
         ]
        }
       }
      }
     },
     "metadata": {},
     "output_type": "display_data"
    },
    {
     "data": {
      "application/vnd.plotly.v1+json": {
       "config": {
        "plotlyServerURL": "https://plot.ly"
       },
       "data": [
        {
         "hoverinfo": "text",
         "hovertext": [
          "appendage morphogenesis<br>p-adjust: 4.95e-09<br>GeneRatio: 22/471<br>Gene Count: 22",
          "sensory system development<br>p-adjust: 3.63e-09<br>GeneRatio: 37/471<br>Gene Count: 37",
          "regionalization<br>p-adjust: 4.31e-10<br>GeneRatio: 40/471<br>Gene Count: 40",
          "axonogenesis<br>p-adjust: 9.86e-11<br>GeneRatio: 42/471<br>Gene Count: 42",
          "anterior/posterior pattern specification<br>p-adjust: 2.23e-11<br>GeneRatio: 30/471<br>Gene Count: 30",
          "regulation of neuron differentiation<br>p-adjust: 1.23e-11<br>GeneRatio: 29/471<br>Gene Count: 29",
          "forebrain development<br>p-adjust: 6.35e-12<br>GeneRatio: 42/471<br>Gene Count: 42",
          "embryonic organ development<br>p-adjust: 7.44e-13<br>GeneRatio: 46/471<br>Gene Count: 46",
          "cell fate commitment<br>p-adjust: 4.12e-13<br>GeneRatio: 37/471<br>Gene Count: 37",
          "pattern specification process<br>p-adjust: 1.23e-13<br>GeneRatio: 49/471<br>Gene Count: 49"
         ],
         "marker": {
          "color": "#440154"
         },
         "orientation": "h",
         "text": [
          "p: 5.0e-09",
          "p: 3.6e-09",
          "p: 4.3e-10",
          "p: 9.9e-11",
          "p: 2.2e-11",
          "p: 1.2e-11",
          "p: 6.3e-12",
          "p: 7.4e-13",
          "p: 4.1e-13",
          "p: 1.2e-13"
         ],
         "textfont": {
          "color": "white",
          "size": 9
         },
         "textposition": "inside",
         "type": "bar",
         "x": [
          8.305248120277847,
          8.439525175499035,
          9.365894562925556,
          10.006168400553213,
          10.652362048601892,
          10.910540848052236,
          11.197314243582966,
          12.128528266733303,
          12.385431036100067,
          12.911292640134768
         ],
         "xaxis": "x",
         "y": [
          "appendage morphogenesis",
          "sensory system development",
          "regionalization",
          "axonogenesis",
          "anterior/posterior pattern specification",
          "regulation of neuron differentiation",
          "forebrain development",
          "embryonic organ development",
          "cell fate commitment",
          "pattern specification process"
         ],
         "yaxis": "y"
        },
        {
         "mode": "text",
         "showlegend": false,
         "text": [
          "GR: 22/471",
          "GR: 37/471",
          "GR: 40/471",
          "GR: 42/471",
          "GR: 30/471",
          "GR: 29/471",
          "GR: 42/471",
          "GR: 46/471",
          "GR: 37/471",
          "GR: 49/471"
         ],
         "textfont": {
          "size": 9
         },
         "textposition": "middle right",
         "type": "scatter",
         "x": [
          8.305248120277847,
          8.439525175499035,
          9.365894562925556,
          10.006168400553213,
          10.652362048601892,
          10.910540848052236,
          11.197314243582966,
          12.128528266733303,
          12.385431036100067,
          12.911292640134768
         ],
         "xaxis": "x",
         "y": [
          "appendage morphogenesis",
          "sensory system development",
          "regionalization",
          "axonogenesis",
          "anterior/posterior pattern specification",
          "regulation of neuron differentiation",
          "forebrain development",
          "embryonic organ development",
          "cell fate commitment",
          "pattern specification process"
         ],
         "yaxis": "y"
        },
        {
         "hoverinfo": "text",
         "hovertext": [
          "ligand-activated transcription factor activity<br>p-adjust: 3.25e-06<br>GeneRatio: 11/466<br>Gene Count: 11",
          "nuclear receptor activity<br>p-adjust: 3.25e-06<br>GeneRatio: 11/466<br>Gene Count: 11",
          "transcription coactivator activity<br>p-adjust: 3.25e-06<br>GeneRatio: 25/466<br>Gene Count: 25",
          "DNA-binding transcription repressor activity, RNA polymerase II-specific<br>p-adjust: 9.03e-08<br>GeneRatio: 30/466<br>Gene Count: 30",
          "RNA polymerase II-specific DNA-binding transcription factor binding<br>p-adjust: 5.02e-09<br>GeneRatio: 33/466<br>Gene Count: 33",
          "DNA-binding transcription repressor activity<br>p-adjust: 2.73e-09<br>GeneRatio: 33/466<br>Gene Count: 33",
          "beta-catenin binding<br>p-adjust: 3.25e-12<br>GeneRatio: 20/466<br>Gene Count: 20",
          "DNA-binding transcription activator activity<br>p-adjust: 9.03e-13<br>GeneRatio: 46/466<br>Gene Count: 46",
          "DNA-binding transcription activator activity, RNA polymerase II-specific<br>p-adjust: 9.03e-13<br>GeneRatio: 46/466<br>Gene Count: 46",
          "DNA-binding transcription factor binding<br>p-adjust: 6.89e-13<br>GeneRatio: 47/466<br>Gene Count: 47"
         ],
         "marker": {
          "color": "#31688e"
         },
         "orientation": "h",
         "text": [
          "p: 3.3e-06",
          "p: 3.3e-06",
          "p: 3.3e-06",
          "p: 9.0e-08",
          "p: 5.0e-09",
          "p: 2.7e-09",
          "p: 3.3e-12",
          "p: 9.0e-13",
          "p: 9.0e-13",
          "p: 6.9e-13"
         ],
         "textfont": {
          "color": "white",
          "size": 9
         },
         "textposition": "inside",
         "type": "bar",
         "x": [
          5.487972089831291,
          5.487972089831291,
          5.487972089831291,
          7.044475037032582,
          8.299269142957368,
          8.563373624957457,
          11.487830078086038,
          12.044201156351404,
          12.044201156351404,
          12.161724095360345
         ],
         "xaxis": "x2",
         "y": [
          "ligand-activated transcription factor activity",
          "nuclear receptor activity",
          "transcription coactivator activity",
          "DNA-binding transcription repressor activity, RNA polymerase II-specific",
          "RNA polymerase II-specific DNA-binding transcription factor binding",
          "DNA-binding transcription repressor activity",
          "beta-catenin binding",
          "DNA-binding transcription activator activity",
          "DNA-binding transcription activator activity, RNA polymerase II-specific",
          "DNA-binding transcription factor binding"
         ],
         "yaxis": "y2"
        },
        {
         "mode": "text",
         "showlegend": false,
         "text": [
          "GR: 11/466",
          "GR: 11/466",
          "GR: 25/466",
          "GR: 30/466",
          "GR: 33/466",
          "GR: 33/466",
          "GR: 20/466",
          "GR: 46/466",
          "GR: 46/466",
          "GR: 47/466"
         ],
         "textfont": {
          "size": 9
         },
         "textposition": "middle right",
         "type": "scatter",
         "x": [
          5.487972089831291,
          5.487972089831291,
          5.487972089831291,
          7.044475037032582,
          8.299269142957368,
          8.563373624957457,
          11.487830078086038,
          12.044201156351404,
          12.044201156351404,
          12.161724095360345
         ],
         "xaxis": "x2",
         "y": [
          "ligand-activated transcription factor activity",
          "nuclear receptor activity",
          "transcription coactivator activity",
          "DNA-binding transcription repressor activity, RNA polymerase II-specific",
          "RNA polymerase II-specific DNA-binding transcription factor binding",
          "DNA-binding transcription repressor activity",
          "beta-catenin binding",
          "DNA-binding transcription activator activity",
          "DNA-binding transcription activator activity, RNA polymerase II-specific",
          "DNA-binding transcription factor binding"
         ],
         "yaxis": "y2"
        },
        {
         "hoverinfo": "text",
         "hovertext": [
          "RNA polymerase II transcription regulator complex<br>p-adjust: 1.84e-04<br>GeneRatio: 20/481<br>Gene Count: 20",
          "postsynaptic density<br>p-adjust: 1.42e-04<br>GeneRatio: 23/481<br>Gene Count: 23",
          "presynaptic membrane<br>p-adjust: 1.42e-04<br>GeneRatio: 16/481<br>Gene Count: 16",
          "postsynaptic specialization membrane<br>p-adjust: 9.84e-05<br>GeneRatio: 14/481<br>Gene Count: 14",
          "postsynaptic specialization<br>p-adjust: 9.56e-05<br>GeneRatio: 25/481<br>Gene Count: 25",
          "asymmetric synapse<br>p-adjust: 5.08e-05<br>GeneRatio: 25/481<br>Gene Count: 25",
          "neuron to neuron synapse<br>p-adjust: 8.07e-06<br>GeneRatio: 28/481<br>Gene Count: 28",
          "nuclear speck<br>p-adjust: 1.49e-06<br>GeneRatio: 32/481<br>Gene Count: 32",
          "postsynaptic membrane<br>p-adjust: 8.03e-07<br>GeneRatio: 26/481<br>Gene Count: 26",
          "synaptic membrane<br>p-adjust: 1.59e-08<br>GeneRatio: 35/481<br>Gene Count: 35"
         ],
         "marker": {
          "color": "#1f9e89"
         },
         "orientation": "h",
         "text": [
          "p: 1.8e-04",
          "p: 1.4e-04",
          "p: 1.4e-04",
          "p: 9.8e-05",
          "p: 9.6e-05",
          "p: 5.1e-05",
          "p: 8.1e-06",
          "p: 1.5e-06",
          "p: 8.0e-07",
          "p: 1.6e-08"
         ],
         "textfont": {
          "color": "white",
          "size": 9
         },
         "textposition": "inside",
         "type": "bar",
         "x": [
          3.735214100256881,
          3.8474806079436794,
          3.8474806079436794,
          4.007100945389603,
          4.0194791164519,
          4.293858486703012,
          5.093022523813743,
          5.826572856687965,
          6.0951073906817435,
          7.798213749484705
         ],
         "xaxis": "x3",
         "y": [
          "RNA polymerase II transcription regulator complex",
          "postsynaptic density",
          "presynaptic membrane",
          "postsynaptic specialization membrane",
          "postsynaptic specialization",
          "asymmetric synapse",
          "neuron to neuron synapse",
          "nuclear speck",
          "postsynaptic membrane",
          "synaptic membrane"
         ],
         "yaxis": "y3"
        },
        {
         "mode": "text",
         "showlegend": false,
         "text": [
          "GR: 20/481",
          "GR: 23/481",
          "GR: 16/481",
          "GR: 14/481",
          "GR: 25/481",
          "GR: 25/481",
          "GR: 28/481",
          "GR: 32/481",
          "GR: 26/481",
          "GR: 35/481"
         ],
         "textfont": {
          "size": 9
         },
         "textposition": "middle right",
         "type": "scatter",
         "x": [
          3.735214100256881,
          3.8474806079436794,
          3.8474806079436794,
          4.007100945389603,
          4.0194791164519,
          4.293858486703012,
          5.093022523813743,
          5.826572856687965,
          6.0951073906817435,
          7.798213749484705
         ],
         "xaxis": "x3",
         "y": [
          "RNA polymerase II transcription regulator complex",
          "postsynaptic density",
          "presynaptic membrane",
          "postsynaptic specialization membrane",
          "postsynaptic specialization",
          "asymmetric synapse",
          "neuron to neuron synapse",
          "nuclear speck",
          "postsynaptic membrane",
          "synaptic membrane"
         ],
         "yaxis": "y3"
        }
       ],
       "layout": {
        "annotations": [
         {
          "font": {
           "size": 16
          },
          "showarrow": false,
          "text": "Biological Process",
          "x": 0.5,
          "xanchor": "center",
          "xref": "paper",
          "y": 1,
          "yanchor": "bottom",
          "yref": "paper"
         },
         {
          "font": {
           "size": 16
          },
          "showarrow": false,
          "text": "Molecular Function",
          "x": 0.5,
          "xanchor": "center",
          "xref": "paper",
          "y": 0.6333333333333333,
          "yanchor": "bottom",
          "yref": "paper"
         },
         {
          "font": {
           "size": 16
          },
          "showarrow": false,
          "text": "Cellular Component",
          "x": 0.5,
          "xanchor": "center",
          "xref": "paper",
          "y": 0.26666666666666666,
          "yanchor": "bottom",
          "yref": "paper"
         }
        ],
        "height": 1122.6599999999999,
        "margin": {
         "b": 70,
         "l": 100,
         "r": 20,
         "t": 100
        },
        "showlegend": false,
        "template": {
         "data": {
          "bar": [
           {
            "error_x": {
             "color": "#2a3f5f"
            },
            "error_y": {
             "color": "#2a3f5f"
            },
            "marker": {
             "line": {
              "color": "#E5ECF6",
              "width": 0.5
             },
             "pattern": {
              "fillmode": "overlay",
              "size": 10,
              "solidity": 0.2
             }
            },
            "type": "bar"
           }
          ],
          "barpolar": [
           {
            "marker": {
             "line": {
              "color": "#E5ECF6",
              "width": 0.5
             },
             "pattern": {
              "fillmode": "overlay",
              "size": 10,
              "solidity": 0.2
             }
            },
            "type": "barpolar"
           }
          ],
          "carpet": [
           {
            "aaxis": {
             "endlinecolor": "#2a3f5f",
             "gridcolor": "white",
             "linecolor": "white",
             "minorgridcolor": "white",
             "startlinecolor": "#2a3f5f"
            },
            "baxis": {
             "endlinecolor": "#2a3f5f",
             "gridcolor": "white",
             "linecolor": "white",
             "minorgridcolor": "white",
             "startlinecolor": "#2a3f5f"
            },
            "type": "carpet"
           }
          ],
          "choropleth": [
           {
            "colorbar": {
             "outlinewidth": 0,
             "ticks": ""
            },
            "type": "choropleth"
           }
          ],
          "contour": [
           {
            "colorbar": {
             "outlinewidth": 0,
             "ticks": ""
            },
            "colorscale": [
             [
              0,
              "#0d0887"
             ],
             [
              0.1111111111111111,
              "#46039f"
             ],
             [
              0.2222222222222222,
              "#7201a8"
             ],
             [
              0.3333333333333333,
              "#9c179e"
             ],
             [
              0.4444444444444444,
              "#bd3786"
             ],
             [
              0.5555555555555556,
              "#d8576b"
             ],
             [
              0.6666666666666666,
              "#ed7953"
             ],
             [
              0.7777777777777778,
              "#fb9f3a"
             ],
             [
              0.8888888888888888,
              "#fdca26"
             ],
             [
              1,
              "#f0f921"
             ]
            ],
            "type": "contour"
           }
          ],
          "contourcarpet": [
           {
            "colorbar": {
             "outlinewidth": 0,
             "ticks": ""
            },
            "type": "contourcarpet"
           }
          ],
          "heatmap": [
           {
            "colorbar": {
             "outlinewidth": 0,
             "ticks": ""
            },
            "colorscale": [
             [
              0,
              "#0d0887"
             ],
             [
              0.1111111111111111,
              "#46039f"
             ],
             [
              0.2222222222222222,
              "#7201a8"
             ],
             [
              0.3333333333333333,
              "#9c179e"
             ],
             [
              0.4444444444444444,
              "#bd3786"
             ],
             [
              0.5555555555555556,
              "#d8576b"
             ],
             [
              0.6666666666666666,
              "#ed7953"
             ],
             [
              0.7777777777777778,
              "#fb9f3a"
             ],
             [
              0.8888888888888888,
              "#fdca26"
             ],
             [
              1,
              "#f0f921"
             ]
            ],
            "type": "heatmap"
           }
          ],
          "heatmapgl": [
           {
            "colorbar": {
             "outlinewidth": 0,
             "ticks": ""
            },
            "colorscale": [
             [
              0,
              "#0d0887"
             ],
             [
              0.1111111111111111,
              "#46039f"
             ],
             [
              0.2222222222222222,
              "#7201a8"
             ],
             [
              0.3333333333333333,
              "#9c179e"
             ],
             [
              0.4444444444444444,
              "#bd3786"
             ],
             [
              0.5555555555555556,
              "#d8576b"
             ],
             [
              0.6666666666666666,
              "#ed7953"
             ],
             [
              0.7777777777777778,
              "#fb9f3a"
             ],
             [
              0.8888888888888888,
              "#fdca26"
             ],
             [
              1,
              "#f0f921"
             ]
            ],
            "type": "heatmapgl"
           }
          ],
          "histogram": [
           {
            "marker": {
             "pattern": {
              "fillmode": "overlay",
              "size": 10,
              "solidity": 0.2
             }
            },
            "type": "histogram"
           }
          ],
          "histogram2d": [
           {
            "colorbar": {
             "outlinewidth": 0,
             "ticks": ""
            },
            "colorscale": [
             [
              0,
              "#0d0887"
             ],
             [
              0.1111111111111111,
              "#46039f"
             ],
             [
              0.2222222222222222,
              "#7201a8"
             ],
             [
              0.3333333333333333,
              "#9c179e"
             ],
             [
              0.4444444444444444,
              "#bd3786"
             ],
             [
              0.5555555555555556,
              "#d8576b"
             ],
             [
              0.6666666666666666,
              "#ed7953"
             ],
             [
              0.7777777777777778,
              "#fb9f3a"
             ],
             [
              0.8888888888888888,
              "#fdca26"
             ],
             [
              1,
              "#f0f921"
             ]
            ],
            "type": "histogram2d"
           }
          ],
          "histogram2dcontour": [
           {
            "colorbar": {
             "outlinewidth": 0,
             "ticks": ""
            },
            "colorscale": [
             [
              0,
              "#0d0887"
             ],
             [
              0.1111111111111111,
              "#46039f"
             ],
             [
              0.2222222222222222,
              "#7201a8"
             ],
             [
              0.3333333333333333,
              "#9c179e"
             ],
             [
              0.4444444444444444,
              "#bd3786"
             ],
             [
              0.5555555555555556,
              "#d8576b"
             ],
             [
              0.6666666666666666,
              "#ed7953"
             ],
             [
              0.7777777777777778,
              "#fb9f3a"
             ],
             [
              0.8888888888888888,
              "#fdca26"
             ],
             [
              1,
              "#f0f921"
             ]
            ],
            "type": "histogram2dcontour"
           }
          ],
          "mesh3d": [
           {
            "colorbar": {
             "outlinewidth": 0,
             "ticks": ""
            },
            "type": "mesh3d"
           }
          ],
          "parcoords": [
           {
            "line": {
             "colorbar": {
              "outlinewidth": 0,
              "ticks": ""
             }
            },
            "type": "parcoords"
           }
          ],
          "pie": [
           {
            "automargin": true,
            "type": "pie"
           }
          ],
          "scatter": [
           {
            "fillpattern": {
             "fillmode": "overlay",
             "size": 10,
             "solidity": 0.2
            },
            "type": "scatter"
           }
          ],
          "scatter3d": [
           {
            "line": {
             "colorbar": {
              "outlinewidth": 0,
              "ticks": ""
             }
            },
            "marker": {
             "colorbar": {
              "outlinewidth": 0,
              "ticks": ""
             }
            },
            "type": "scatter3d"
           }
          ],
          "scattercarpet": [
           {
            "marker": {
             "colorbar": {
              "outlinewidth": 0,
              "ticks": ""
             }
            },
            "type": "scattercarpet"
           }
          ],
          "scattergeo": [
           {
            "marker": {
             "colorbar": {
              "outlinewidth": 0,
              "ticks": ""
             }
            },
            "type": "scattergeo"
           }
          ],
          "scattergl": [
           {
            "marker": {
             "colorbar": {
              "outlinewidth": 0,
              "ticks": ""
             }
            },
            "type": "scattergl"
           }
          ],
          "scattermapbox": [
           {
            "marker": {
             "colorbar": {
              "outlinewidth": 0,
              "ticks": ""
             }
            },
            "type": "scattermapbox"
           }
          ],
          "scatterpolar": [
           {
            "marker": {
             "colorbar": {
              "outlinewidth": 0,
              "ticks": ""
             }
            },
            "type": "scatterpolar"
           }
          ],
          "scatterpolargl": [
           {
            "marker": {
             "colorbar": {
              "outlinewidth": 0,
              "ticks": ""
             }
            },
            "type": "scatterpolargl"
           }
          ],
          "scatterternary": [
           {
            "marker": {
             "colorbar": {
              "outlinewidth": 0,
              "ticks": ""
             }
            },
            "type": "scatterternary"
           }
          ],
          "surface": [
           {
            "colorbar": {
             "outlinewidth": 0,
             "ticks": ""
            },
            "colorscale": [
             [
              0,
              "#0d0887"
             ],
             [
              0.1111111111111111,
              "#46039f"
             ],
             [
              0.2222222222222222,
              "#7201a8"
             ],
             [
              0.3333333333333333,
              "#9c179e"
             ],
             [
              0.4444444444444444,
              "#bd3786"
             ],
             [
              0.5555555555555556,
              "#d8576b"
             ],
             [
              0.6666666666666666,
              "#ed7953"
             ],
             [
              0.7777777777777778,
              "#fb9f3a"
             ],
             [
              0.8888888888888888,
              "#fdca26"
             ],
             [
              1,
              "#f0f921"
             ]
            ],
            "type": "surface"
           }
          ],
          "table": [
           {
            "cells": {
             "fill": {
              "color": "#EBF0F8"
             },
             "line": {
              "color": "white"
             }
            },
            "header": {
             "fill": {
              "color": "#C8D4E3"
             },
             "line": {
              "color": "white"
             }
            },
            "type": "table"
           }
          ]
         },
         "layout": {
          "annotationdefaults": {
           "arrowcolor": "#2a3f5f",
           "arrowhead": 0,
           "arrowwidth": 1
          },
          "autotypenumbers": "strict",
          "coloraxis": {
           "colorbar": {
            "outlinewidth": 0,
            "ticks": ""
           }
          },
          "colorscale": {
           "diverging": [
            [
             0,
             "#8e0152"
            ],
            [
             0.1,
             "#c51b7d"
            ],
            [
             0.2,
             "#de77ae"
            ],
            [
             0.3,
             "#f1b6da"
            ],
            [
             0.4,
             "#fde0ef"
            ],
            [
             0.5,
             "#f7f7f7"
            ],
            [
             0.6,
             "#e6f5d0"
            ],
            [
             0.7,
             "#b8e186"
            ],
            [
             0.8,
             "#7fbc41"
            ],
            [
             0.9,
             "#4d9221"
            ],
            [
             1,
             "#276419"
            ]
           ],
           "sequential": [
            [
             0,
             "#0d0887"
            ],
            [
             0.1111111111111111,
             "#46039f"
            ],
            [
             0.2222222222222222,
             "#7201a8"
            ],
            [
             0.3333333333333333,
             "#9c179e"
            ],
            [
             0.4444444444444444,
             "#bd3786"
            ],
            [
             0.5555555555555556,
             "#d8576b"
            ],
            [
             0.6666666666666666,
             "#ed7953"
            ],
            [
             0.7777777777777778,
             "#fb9f3a"
            ],
            [
             0.8888888888888888,
             "#fdca26"
            ],
            [
             1,
             "#f0f921"
            ]
           ],
           "sequentialminus": [
            [
             0,
             "#0d0887"
            ],
            [
             0.1111111111111111,
             "#46039f"
            ],
            [
             0.2222222222222222,
             "#7201a8"
            ],
            [
             0.3333333333333333,
             "#9c179e"
            ],
            [
             0.4444444444444444,
             "#bd3786"
            ],
            [
             0.5555555555555556,
             "#d8576b"
            ],
            [
             0.6666666666666666,
             "#ed7953"
            ],
            [
             0.7777777777777778,
             "#fb9f3a"
            ],
            [
             0.8888888888888888,
             "#fdca26"
            ],
            [
             1,
             "#f0f921"
            ]
           ]
          },
          "colorway": [
           "#636efa",
           "#EF553B",
           "#00cc96",
           "#ab63fa",
           "#FFA15A",
           "#19d3f3",
           "#FF6692",
           "#B6E880",
           "#FF97FF",
           "#FECB52"
          ],
          "font": {
           "color": "#2a3f5f"
          },
          "geo": {
           "bgcolor": "white",
           "lakecolor": "white",
           "landcolor": "#E5ECF6",
           "showlakes": true,
           "showland": true,
           "subunitcolor": "white"
          },
          "hoverlabel": {
           "align": "left"
          },
          "hovermode": "closest",
          "mapbox": {
           "style": "light"
          },
          "paper_bgcolor": "white",
          "plot_bgcolor": "#E5ECF6",
          "polar": {
           "angularaxis": {
            "gridcolor": "white",
            "linecolor": "white",
            "ticks": ""
           },
           "bgcolor": "#E5ECF6",
           "radialaxis": {
            "gridcolor": "white",
            "linecolor": "white",
            "ticks": ""
           }
          },
          "scene": {
           "xaxis": {
            "backgroundcolor": "#E5ECF6",
            "gridcolor": "white",
            "gridwidth": 2,
            "linecolor": "white",
            "showbackground": true,
            "ticks": "",
            "zerolinecolor": "white"
           },
           "yaxis": {
            "backgroundcolor": "#E5ECF6",
            "gridcolor": "white",
            "gridwidth": 2,
            "linecolor": "white",
            "showbackground": true,
            "ticks": "",
            "zerolinecolor": "white"
           },
           "zaxis": {
            "backgroundcolor": "#E5ECF6",
            "gridcolor": "white",
            "gridwidth": 2,
            "linecolor": "white",
            "showbackground": true,
            "ticks": "",
            "zerolinecolor": "white"
           }
          },
          "shapedefaults": {
           "line": {
            "color": "#2a3f5f"
           }
          },
          "ternary": {
           "aaxis": {
            "gridcolor": "white",
            "linecolor": "white",
            "ticks": ""
           },
           "baxis": {
            "gridcolor": "white",
            "linecolor": "white",
            "ticks": ""
           },
           "bgcolor": "#E5ECF6",
           "caxis": {
            "gridcolor": "white",
            "linecolor": "white",
            "ticks": ""
           }
          },
          "title": {
           "x": 0.05
          },
          "xaxis": {
           "automargin": true,
           "gridcolor": "white",
           "linecolor": "white",
           "ticks": "",
           "title": {
            "standoff": 15
           },
           "zerolinecolor": "white",
           "zerolinewidth": 2
          },
          "yaxis": {
           "automargin": true,
           "gridcolor": "white",
           "linecolor": "white",
           "ticks": "",
           "title": {
            "standoff": 15
           },
           "zerolinecolor": "white",
           "zerolinewidth": 2
          }
         }
        },
        "title": {
         "text": "Top 10 GO Terms for Clock 3 ",
         "x": 0.5
        },
        "width": 793.8,
        "xaxis": {
         "anchor": "y",
         "domain": [
          0,
          1
         ],
         "range": [
          0,
          15.493551168161721
         ],
         "showticklabels": false,
         "title": {
          "text": ""
         }
        },
        "xaxis2": {
         "anchor": "y2",
         "domain": [
          0,
          1
         ],
         "range": [
          0,
          15.493551168161721
         ],
         "showticklabels": false,
         "title": {
          "text": ""
         }
        },
        "xaxis3": {
         "anchor": "y3",
         "domain": [
          0,
          1
         ],
         "range": [
          0,
          15.493551168161721
         ],
         "title": {
          "text": "-log10(p-adjust)"
         }
        },
        "yaxis": {
         "anchor": "x",
         "automargin": true,
         "domain": [
          0.7333333333333334,
          1
         ]
        },
        "yaxis2": {
         "anchor": "x2",
         "automargin": true,
         "domain": [
          0.3666666666666667,
          0.6333333333333333
         ]
        },
        "yaxis3": {
         "anchor": "x3",
         "automargin": true,
         "domain": [
          0,
          0.26666666666666666
         ]
        }
       }
      }
     },
     "metadata": {},
     "output_type": "display_data"
    },
    {
     "data": {
      "application/vnd.plotly.v1+json": {
       "config": {
        "plotlyServerURL": "https://plot.ly"
       },
       "data": [
        {
         "hoverinfo": "text",
         "hovertext": [
          "kidney epithelium development<br>p-adjust: 5.01e-08<br>GeneRatio: 18/329<br>Gene Count: 18",
          "regionalization<br>p-adjust: 4.88e-08<br>GeneRatio: 30/329<br>Gene Count: 30",
          "sensory system development<br>p-adjust: 4.86e-08<br>GeneRatio: 29/329<br>Gene Count: 29",
          "forebrain development<br>p-adjust: 1.63e-08<br>GeneRatio: 30/329<br>Gene Count: 30",
          "muscle tissue development<br>p-adjust: 1.63e-08<br>GeneRatio: 31/329<br>Gene Count: 31",
          "axonogenesis<br>p-adjust: 1.11e-08<br>GeneRatio: 32/329<br>Gene Count: 32",
          "embryonic organ development<br>p-adjust: 1.48e-10<br>GeneRatio: 35/329<br>Gene Count: 35",
          "regulation of neuron differentiation<br>p-adjust: 1.04e-10<br>GeneRatio: 24/329<br>Gene Count: 24",
          "pattern specification process<br>p-adjust: 4.43e-11<br>GeneRatio: 37/329<br>Gene Count: 37",
          "cell fate commitment<br>p-adjust: 1.18e-11<br>GeneRatio: 30/329<br>Gene Count: 30"
         ],
         "marker": {
          "color": "#440154"
         },
         "orientation": "h",
         "text": [
          "p: 5.0e-08",
          "p: 4.9e-08",
          "p: 4.9e-08",
          "p: 1.6e-08",
          "p: 1.6e-08",
          "p: 1.1e-08",
          "p: 1.5e-10",
          "p: 1.0e-10",
          "p: 4.4e-11",
          "p: 1.2e-11"
         ],
         "textfont": {
          "color": "white",
          "size": 9
         },
         "textposition": "inside",
         "type": "bar",
         "x": [
          7.299803043585246,
          7.311669750845934,
          7.3133498880067505,
          7.788300461968387,
          7.788300461968387,
          7.956547392125155,
          9.829783286011462,
          9.981370767799675,
          10.354047706336777,
          10.92704758813108
         ],
         "xaxis": "x",
         "y": [
          "kidney epithelium development",
          "regionalization",
          "sensory system development",
          "forebrain development",
          "muscle tissue development",
          "axonogenesis",
          "embryonic organ development",
          "regulation of neuron differentiation",
          "pattern specification process",
          "cell fate commitment"
         ],
         "yaxis": "y"
        },
        {
         "mode": "text",
         "showlegend": false,
         "text": [
          "GR: 18/329",
          "GR: 30/329",
          "GR: 29/329",
          "GR: 30/329",
          "GR: 31/329",
          "GR: 32/329",
          "GR: 35/329",
          "GR: 24/329",
          "GR: 37/329",
          "GR: 30/329"
         ],
         "textfont": {
          "size": 9
         },
         "textposition": "middle right",
         "type": "scatter",
         "x": [
          7.299803043585246,
          7.311669750845934,
          7.3133498880067505,
          7.788300461968387,
          7.788300461968387,
          7.956547392125155,
          9.829783286011462,
          9.981370767799675,
          10.354047706336777,
          10.92704758813108
         ],
         "xaxis": "x",
         "y": [
          "kidney epithelium development",
          "regionalization",
          "sensory system development",
          "forebrain development",
          "muscle tissue development",
          "axonogenesis",
          "embryonic organ development",
          "regulation of neuron differentiation",
          "pattern specification process",
          "cell fate commitment"
         ],
         "yaxis": "y"
        },
        {
         "hoverinfo": "text",
         "hovertext": [
          "transcription corepressor activity<br>p-adjust: 2.23e-05<br>GeneRatio: 16/331<br>Gene Count: 16",
          "ligand-activated transcription factor activity<br>p-adjust: 1.34e-06<br>GeneRatio: 10/331<br>Gene Count: 10",
          "nuclear receptor activity<br>p-adjust: 1.34e-06<br>GeneRatio: 10/331<br>Gene Count: 10",
          "RNA polymerase II-specific DNA-binding transcription factor binding<br>p-adjust: 1.11e-06<br>GeneRatio: 24/331<br>Gene Count: 24",
          "DNA-binding transcription repressor activity, RNA polymerase II-specific<br>p-adjust: 4.54e-07<br>GeneRatio: 24/331<br>Gene Count: 24",
          "beta-catenin binding<br>p-adjust: 3.20e-08<br>GeneRatio: 14/331<br>Gene Count: 14",
          "DNA-binding transcription repressor activity<br>p-adjust: 8.95e-09<br>GeneRatio: 27/331<br>Gene Count: 27",
          "DNA-binding transcription factor binding<br>p-adjust: 5.26e-11<br>GeneRatio: 36/331<br>Gene Count: 36",
          "DNA-binding transcription activator activity<br>p-adjust: 2.59e-12<br>GeneRatio: 38/331<br>Gene Count: 38",
          "DNA-binding transcription activator activity, RNA polymerase II-specific<br>p-adjust: 2.59e-12<br>GeneRatio: 38/331<br>Gene Count: 38"
         ],
         "marker": {
          "color": "#31688e"
         },
         "orientation": "h",
         "text": [
          "p: 2.2e-05",
          "p: 1.3e-06",
          "p: 1.3e-06",
          "p: 1.1e-06",
          "p: 4.5e-07",
          "p: 3.2e-08",
          "p: 9.0e-09",
          "p: 5.3e-11",
          "p: 2.6e-12",
          "p: 2.6e-12"
         ],
         "textfont": {
          "color": "white",
          "size": 9
         },
         "textposition": "inside",
         "type": "bar",
         "x": [
          4.6514612123987975,
          5.873368283682639,
          5.873368283682639,
          5.95626481922046,
          6.343179945343518,
          7.494387478558353,
          8.048000221472687,
          10.27881970532904,
          11.586730316381097,
          11.586730316381097
         ],
         "xaxis": "x2",
         "y": [
          "transcription corepressor activity",
          "ligand-activated transcription factor activity",
          "nuclear receptor activity",
          "RNA polymerase II-specific DNA-binding transcription factor binding",
          "DNA-binding transcription repressor activity, RNA polymerase II-specific",
          "beta-catenin binding",
          "DNA-binding transcription repressor activity",
          "DNA-binding transcription factor binding",
          "DNA-binding transcription activator activity",
          "DNA-binding transcription activator activity, RNA polymerase II-specific"
         ],
         "yaxis": "y2"
        },
        {
         "mode": "text",
         "showlegend": false,
         "text": [
          "GR: 16/331",
          "GR: 10/331",
          "GR: 10/331",
          "GR: 24/331",
          "GR: 24/331",
          "GR: 14/331",
          "GR: 27/331",
          "GR: 36/331",
          "GR: 38/331",
          "GR: 38/331"
         ],
         "textfont": {
          "size": 9
         },
         "textposition": "middle right",
         "type": "scatter",
         "x": [
          4.6514612123987975,
          5.873368283682639,
          5.873368283682639,
          5.95626481922046,
          6.343179945343518,
          7.494387478558353,
          8.048000221472687,
          10.27881970532904,
          11.586730316381097,
          11.586730316381097
         ],
         "xaxis": "x2",
         "y": [
          "transcription corepressor activity",
          "ligand-activated transcription factor activity",
          "nuclear receptor activity",
          "RNA polymerase II-specific DNA-binding transcription factor binding",
          "DNA-binding transcription repressor activity, RNA polymerase II-specific",
          "beta-catenin binding",
          "DNA-binding transcription repressor activity",
          "DNA-binding transcription factor binding",
          "DNA-binding transcription activator activity",
          "DNA-binding transcription activator activity, RNA polymerase II-specific"
         ],
         "yaxis": "y2"
        },
        {
         "hoverinfo": "text",
         "hovertext": [
          "postsynaptic specialization membrane<br>p-adjust: 8.78e-03<br>GeneRatio: 9/337<br>Gene Count: 9",
          "postsynaptic specialization<br>p-adjust: 3.88e-03<br>GeneRatio: 17/337<br>Gene Count: 17",
          "glutamatergic synapse<br>p-adjust: 3.38e-03<br>GeneRatio: 19/337<br>Gene Count: 19",
          "asymmetric synapse<br>p-adjust: 2.90e-03<br>GeneRatio: 17/337<br>Gene Count: 17",
          "nuclear speck<br>p-adjust: 2.00e-03<br>GeneRatio: 20/337<br>Gene Count: 20",
          "neuron to neuron synapse<br>p-adjust: 1.10e-03<br>GeneRatio: 19/337<br>Gene Count: 19",
          "beta-catenin-TCF complex<br>p-adjust: 1.45e-04<br>GeneRatio: 5/337<br>Gene Count: 5",
          "postsynaptic membrane<br>p-adjust: 1.45e-04<br>GeneRatio: 18/337<br>Gene Count: 18",
          "synaptic membrane<br>p-adjust: 1.45e-04<br>GeneRatio: 22/337<br>Gene Count: 22",
          "RNA polymerase II transcription regulator complex<br>p-adjust: 2.78e-05<br>GeneRatio: 19/337<br>Gene Count: 19"
         ],
         "marker": {
          "color": "#1f9e89"
         },
         "orientation": "h",
         "text": [
          "p: 8.8e-03",
          "p: 3.9e-03",
          "p: 3.4e-03",
          "p: 2.9e-03",
          "p: 2.0e-03",
          "p: 1.1e-03",
          "p: 1.5e-04",
          "p: 1.5e-04",
          "p: 1.5e-04",
          "p: 2.8e-05"
         ],
         "textfont": {
          "color": "white",
          "size": 9
         },
         "textposition": "inside",
         "type": "bar",
         "x": [
          2.056741347638309,
          2.41103606876304,
          2.470853951918959,
          2.537781885591117,
          2.698793754977159,
          2.958058014245013,
          3.8378795243786117,
          3.8378795243786117,
          3.8378795243786117,
          4.555277052053593
         ],
         "xaxis": "x3",
         "y": [
          "postsynaptic specialization membrane",
          "postsynaptic specialization",
          "glutamatergic synapse",
          "asymmetric synapse",
          "nuclear speck",
          "neuron to neuron synapse",
          "beta-catenin-TCF complex",
          "postsynaptic membrane",
          "synaptic membrane",
          "RNA polymerase II transcription regulator complex"
         ],
         "yaxis": "y3"
        },
        {
         "mode": "text",
         "showlegend": false,
         "text": [
          "GR: 9/337",
          "GR: 17/337",
          "GR: 19/337",
          "GR: 17/337",
          "GR: 20/337",
          "GR: 19/337",
          "GR: 5/337",
          "GR: 18/337",
          "GR: 22/337",
          "GR: 19/337"
         ],
         "textfont": {
          "size": 9
         },
         "textposition": "middle right",
         "type": "scatter",
         "x": [
          2.056741347638309,
          2.41103606876304,
          2.470853951918959,
          2.537781885591117,
          2.698793754977159,
          2.958058014245013,
          3.8378795243786117,
          3.8378795243786117,
          3.8378795243786117,
          4.555277052053593
         ],
         "xaxis": "x3",
         "y": [
          "postsynaptic specialization membrane",
          "postsynaptic specialization",
          "glutamatergic synapse",
          "asymmetric synapse",
          "nuclear speck",
          "neuron to neuron synapse",
          "beta-catenin-TCF complex",
          "postsynaptic membrane",
          "synaptic membrane",
          "RNA polymerase II transcription regulator complex"
         ],
         "yaxis": "y3"
        }
       ],
       "layout": {
        "annotations": [
         {
          "font": {
           "size": 16
          },
          "showarrow": false,
          "text": "Biological Process",
          "x": 0.5,
          "xanchor": "center",
          "xref": "paper",
          "y": 1,
          "yanchor": "bottom",
          "yref": "paper"
         },
         {
          "font": {
           "size": 16
          },
          "showarrow": false,
          "text": "Molecular Function",
          "x": 0.5,
          "xanchor": "center",
          "xref": "paper",
          "y": 0.6333333333333333,
          "yanchor": "bottom",
          "yref": "paper"
         },
         {
          "font": {
           "size": 16
          },
          "showarrow": false,
          "text": "Cellular Component",
          "x": 0.5,
          "xanchor": "center",
          "xref": "paper",
          "y": 0.26666666666666666,
          "yanchor": "bottom",
          "yref": "paper"
         }
        ],
        "height": 1122.6599999999999,
        "margin": {
         "b": 70,
         "l": 100,
         "r": 20,
         "t": 100
        },
        "showlegend": false,
        "template": {
         "data": {
          "bar": [
           {
            "error_x": {
             "color": "#2a3f5f"
            },
            "error_y": {
             "color": "#2a3f5f"
            },
            "marker": {
             "line": {
              "color": "#E5ECF6",
              "width": 0.5
             },
             "pattern": {
              "fillmode": "overlay",
              "size": 10,
              "solidity": 0.2
             }
            },
            "type": "bar"
           }
          ],
          "barpolar": [
           {
            "marker": {
             "line": {
              "color": "#E5ECF6",
              "width": 0.5
             },
             "pattern": {
              "fillmode": "overlay",
              "size": 10,
              "solidity": 0.2
             }
            },
            "type": "barpolar"
           }
          ],
          "carpet": [
           {
            "aaxis": {
             "endlinecolor": "#2a3f5f",
             "gridcolor": "white",
             "linecolor": "white",
             "minorgridcolor": "white",
             "startlinecolor": "#2a3f5f"
            },
            "baxis": {
             "endlinecolor": "#2a3f5f",
             "gridcolor": "white",
             "linecolor": "white",
             "minorgridcolor": "white",
             "startlinecolor": "#2a3f5f"
            },
            "type": "carpet"
           }
          ],
          "choropleth": [
           {
            "colorbar": {
             "outlinewidth": 0,
             "ticks": ""
            },
            "type": "choropleth"
           }
          ],
          "contour": [
           {
            "colorbar": {
             "outlinewidth": 0,
             "ticks": ""
            },
            "colorscale": [
             [
              0,
              "#0d0887"
             ],
             [
              0.1111111111111111,
              "#46039f"
             ],
             [
              0.2222222222222222,
              "#7201a8"
             ],
             [
              0.3333333333333333,
              "#9c179e"
             ],
             [
              0.4444444444444444,
              "#bd3786"
             ],
             [
              0.5555555555555556,
              "#d8576b"
             ],
             [
              0.6666666666666666,
              "#ed7953"
             ],
             [
              0.7777777777777778,
              "#fb9f3a"
             ],
             [
              0.8888888888888888,
              "#fdca26"
             ],
             [
              1,
              "#f0f921"
             ]
            ],
            "type": "contour"
           }
          ],
          "contourcarpet": [
           {
            "colorbar": {
             "outlinewidth": 0,
             "ticks": ""
            },
            "type": "contourcarpet"
           }
          ],
          "heatmap": [
           {
            "colorbar": {
             "outlinewidth": 0,
             "ticks": ""
            },
            "colorscale": [
             [
              0,
              "#0d0887"
             ],
             [
              0.1111111111111111,
              "#46039f"
             ],
             [
              0.2222222222222222,
              "#7201a8"
             ],
             [
              0.3333333333333333,
              "#9c179e"
             ],
             [
              0.4444444444444444,
              "#bd3786"
             ],
             [
              0.5555555555555556,
              "#d8576b"
             ],
             [
              0.6666666666666666,
              "#ed7953"
             ],
             [
              0.7777777777777778,
              "#fb9f3a"
             ],
             [
              0.8888888888888888,
              "#fdca26"
             ],
             [
              1,
              "#f0f921"
             ]
            ],
            "type": "heatmap"
           }
          ],
          "heatmapgl": [
           {
            "colorbar": {
             "outlinewidth": 0,
             "ticks": ""
            },
            "colorscale": [
             [
              0,
              "#0d0887"
             ],
             [
              0.1111111111111111,
              "#46039f"
             ],
             [
              0.2222222222222222,
              "#7201a8"
             ],
             [
              0.3333333333333333,
              "#9c179e"
             ],
             [
              0.4444444444444444,
              "#bd3786"
             ],
             [
              0.5555555555555556,
              "#d8576b"
             ],
             [
              0.6666666666666666,
              "#ed7953"
             ],
             [
              0.7777777777777778,
              "#fb9f3a"
             ],
             [
              0.8888888888888888,
              "#fdca26"
             ],
             [
              1,
              "#f0f921"
             ]
            ],
            "type": "heatmapgl"
           }
          ],
          "histogram": [
           {
            "marker": {
             "pattern": {
              "fillmode": "overlay",
              "size": 10,
              "solidity": 0.2
             }
            },
            "type": "histogram"
           }
          ],
          "histogram2d": [
           {
            "colorbar": {
             "outlinewidth": 0,
             "ticks": ""
            },
            "colorscale": [
             [
              0,
              "#0d0887"
             ],
             [
              0.1111111111111111,
              "#46039f"
             ],
             [
              0.2222222222222222,
              "#7201a8"
             ],
             [
              0.3333333333333333,
              "#9c179e"
             ],
             [
              0.4444444444444444,
              "#bd3786"
             ],
             [
              0.5555555555555556,
              "#d8576b"
             ],
             [
              0.6666666666666666,
              "#ed7953"
             ],
             [
              0.7777777777777778,
              "#fb9f3a"
             ],
             [
              0.8888888888888888,
              "#fdca26"
             ],
             [
              1,
              "#f0f921"
             ]
            ],
            "type": "histogram2d"
           }
          ],
          "histogram2dcontour": [
           {
            "colorbar": {
             "outlinewidth": 0,
             "ticks": ""
            },
            "colorscale": [
             [
              0,
              "#0d0887"
             ],
             [
              0.1111111111111111,
              "#46039f"
             ],
             [
              0.2222222222222222,
              "#7201a8"
             ],
             [
              0.3333333333333333,
              "#9c179e"
             ],
             [
              0.4444444444444444,
              "#bd3786"
             ],
             [
              0.5555555555555556,
              "#d8576b"
             ],
             [
              0.6666666666666666,
              "#ed7953"
             ],
             [
              0.7777777777777778,
              "#fb9f3a"
             ],
             [
              0.8888888888888888,
              "#fdca26"
             ],
             [
              1,
              "#f0f921"
             ]
            ],
            "type": "histogram2dcontour"
           }
          ],
          "mesh3d": [
           {
            "colorbar": {
             "outlinewidth": 0,
             "ticks": ""
            },
            "type": "mesh3d"
           }
          ],
          "parcoords": [
           {
            "line": {
             "colorbar": {
              "outlinewidth": 0,
              "ticks": ""
             }
            },
            "type": "parcoords"
           }
          ],
          "pie": [
           {
            "automargin": true,
            "type": "pie"
           }
          ],
          "scatter": [
           {
            "fillpattern": {
             "fillmode": "overlay",
             "size": 10,
             "solidity": 0.2
            },
            "type": "scatter"
           }
          ],
          "scatter3d": [
           {
            "line": {
             "colorbar": {
              "outlinewidth": 0,
              "ticks": ""
             }
            },
            "marker": {
             "colorbar": {
              "outlinewidth": 0,
              "ticks": ""
             }
            },
            "type": "scatter3d"
           }
          ],
          "scattercarpet": [
           {
            "marker": {
             "colorbar": {
              "outlinewidth": 0,
              "ticks": ""
             }
            },
            "type": "scattercarpet"
           }
          ],
          "scattergeo": [
           {
            "marker": {
             "colorbar": {
              "outlinewidth": 0,
              "ticks": ""
             }
            },
            "type": "scattergeo"
           }
          ],
          "scattergl": [
           {
            "marker": {
             "colorbar": {
              "outlinewidth": 0,
              "ticks": ""
             }
            },
            "type": "scattergl"
           }
          ],
          "scattermapbox": [
           {
            "marker": {
             "colorbar": {
              "outlinewidth": 0,
              "ticks": ""
             }
            },
            "type": "scattermapbox"
           }
          ],
          "scatterpolar": [
           {
            "marker": {
             "colorbar": {
              "outlinewidth": 0,
              "ticks": ""
             }
            },
            "type": "scatterpolar"
           }
          ],
          "scatterpolargl": [
           {
            "marker": {
             "colorbar": {
              "outlinewidth": 0,
              "ticks": ""
             }
            },
            "type": "scatterpolargl"
           }
          ],
          "scatterternary": [
           {
            "marker": {
             "colorbar": {
              "outlinewidth": 0,
              "ticks": ""
             }
            },
            "type": "scatterternary"
           }
          ],
          "surface": [
           {
            "colorbar": {
             "outlinewidth": 0,
             "ticks": ""
            },
            "colorscale": [
             [
              0,
              "#0d0887"
             ],
             [
              0.1111111111111111,
              "#46039f"
             ],
             [
              0.2222222222222222,
              "#7201a8"
             ],
             [
              0.3333333333333333,
              "#9c179e"
             ],
             [
              0.4444444444444444,
              "#bd3786"
             ],
             [
              0.5555555555555556,
              "#d8576b"
             ],
             [
              0.6666666666666666,
              "#ed7953"
             ],
             [
              0.7777777777777778,
              "#fb9f3a"
             ],
             [
              0.8888888888888888,
              "#fdca26"
             ],
             [
              1,
              "#f0f921"
             ]
            ],
            "type": "surface"
           }
          ],
          "table": [
           {
            "cells": {
             "fill": {
              "color": "#EBF0F8"
             },
             "line": {
              "color": "white"
             }
            },
            "header": {
             "fill": {
              "color": "#C8D4E3"
             },
             "line": {
              "color": "white"
             }
            },
            "type": "table"
           }
          ]
         },
         "layout": {
          "annotationdefaults": {
           "arrowcolor": "#2a3f5f",
           "arrowhead": 0,
           "arrowwidth": 1
          },
          "autotypenumbers": "strict",
          "coloraxis": {
           "colorbar": {
            "outlinewidth": 0,
            "ticks": ""
           }
          },
          "colorscale": {
           "diverging": [
            [
             0,
             "#8e0152"
            ],
            [
             0.1,
             "#c51b7d"
            ],
            [
             0.2,
             "#de77ae"
            ],
            [
             0.3,
             "#f1b6da"
            ],
            [
             0.4,
             "#fde0ef"
            ],
            [
             0.5,
             "#f7f7f7"
            ],
            [
             0.6,
             "#e6f5d0"
            ],
            [
             0.7,
             "#b8e186"
            ],
            [
             0.8,
             "#7fbc41"
            ],
            [
             0.9,
             "#4d9221"
            ],
            [
             1,
             "#276419"
            ]
           ],
           "sequential": [
            [
             0,
             "#0d0887"
            ],
            [
             0.1111111111111111,
             "#46039f"
            ],
            [
             0.2222222222222222,
             "#7201a8"
            ],
            [
             0.3333333333333333,
             "#9c179e"
            ],
            [
             0.4444444444444444,
             "#bd3786"
            ],
            [
             0.5555555555555556,
             "#d8576b"
            ],
            [
             0.6666666666666666,
             "#ed7953"
            ],
            [
             0.7777777777777778,
             "#fb9f3a"
            ],
            [
             0.8888888888888888,
             "#fdca26"
            ],
            [
             1,
             "#f0f921"
            ]
           ],
           "sequentialminus": [
            [
             0,
             "#0d0887"
            ],
            [
             0.1111111111111111,
             "#46039f"
            ],
            [
             0.2222222222222222,
             "#7201a8"
            ],
            [
             0.3333333333333333,
             "#9c179e"
            ],
            [
             0.4444444444444444,
             "#bd3786"
            ],
            [
             0.5555555555555556,
             "#d8576b"
            ],
            [
             0.6666666666666666,
             "#ed7953"
            ],
            [
             0.7777777777777778,
             "#fb9f3a"
            ],
            [
             0.8888888888888888,
             "#fdca26"
            ],
            [
             1,
             "#f0f921"
            ]
           ]
          },
          "colorway": [
           "#636efa",
           "#EF553B",
           "#00cc96",
           "#ab63fa",
           "#FFA15A",
           "#19d3f3",
           "#FF6692",
           "#B6E880",
           "#FF97FF",
           "#FECB52"
          ],
          "font": {
           "color": "#2a3f5f"
          },
          "geo": {
           "bgcolor": "white",
           "lakecolor": "white",
           "landcolor": "#E5ECF6",
           "showlakes": true,
           "showland": true,
           "subunitcolor": "white"
          },
          "hoverlabel": {
           "align": "left"
          },
          "hovermode": "closest",
          "mapbox": {
           "style": "light"
          },
          "paper_bgcolor": "white",
          "plot_bgcolor": "#E5ECF6",
          "polar": {
           "angularaxis": {
            "gridcolor": "white",
            "linecolor": "white",
            "ticks": ""
           },
           "bgcolor": "#E5ECF6",
           "radialaxis": {
            "gridcolor": "white",
            "linecolor": "white",
            "ticks": ""
           }
          },
          "scene": {
           "xaxis": {
            "backgroundcolor": "#E5ECF6",
            "gridcolor": "white",
            "gridwidth": 2,
            "linecolor": "white",
            "showbackground": true,
            "ticks": "",
            "zerolinecolor": "white"
           },
           "yaxis": {
            "backgroundcolor": "#E5ECF6",
            "gridcolor": "white",
            "gridwidth": 2,
            "linecolor": "white",
            "showbackground": true,
            "ticks": "",
            "zerolinecolor": "white"
           },
           "zaxis": {
            "backgroundcolor": "#E5ECF6",
            "gridcolor": "white",
            "gridwidth": 2,
            "linecolor": "white",
            "showbackground": true,
            "ticks": "",
            "zerolinecolor": "white"
           }
          },
          "shapedefaults": {
           "line": {
            "color": "#2a3f5f"
           }
          },
          "ternary": {
           "aaxis": {
            "gridcolor": "white",
            "linecolor": "white",
            "ticks": ""
           },
           "baxis": {
            "gridcolor": "white",
            "linecolor": "white",
            "ticks": ""
           },
           "bgcolor": "#E5ECF6",
           "caxis": {
            "gridcolor": "white",
            "linecolor": "white",
            "ticks": ""
           }
          },
          "title": {
           "x": 0.05
          },
          "xaxis": {
           "automargin": true,
           "gridcolor": "white",
           "linecolor": "white",
           "ticks": "",
           "title": {
            "standoff": 15
           },
           "zerolinecolor": "white",
           "zerolinewidth": 2
          },
          "yaxis": {
           "automargin": true,
           "gridcolor": "white",
           "linecolor": "white",
           "ticks": "",
           "title": {
            "standoff": 15
           },
           "zerolinecolor": "white",
           "zerolinewidth": 2
          }
         }
        },
        "title": {
         "text": "Top 10 GO Terms for Clocks 2 3 overlap ",
         "x": 0.5
        },
        "width": 793.8,
        "xaxis": {
         "anchor": "y",
         "domain": [
          0,
          1
         ],
         "range": [
          0,
          13.904076379657315
         ],
         "showticklabels": false,
         "title": {
          "text": ""
         }
        },
        "xaxis2": {
         "anchor": "y2",
         "domain": [
          0,
          1
         ],
         "range": [
          0,
          13.904076379657315
         ],
         "showticklabels": false,
         "title": {
          "text": ""
         }
        },
        "xaxis3": {
         "anchor": "y3",
         "domain": [
          0,
          1
         ],
         "range": [
          0,
          13.904076379657315
         ],
         "title": {
          "text": "-log10(p-adjust)"
         }
        },
        "yaxis": {
         "anchor": "x",
         "automargin": true,
         "domain": [
          0.7333333333333334,
          1
         ]
        },
        "yaxis2": {
         "anchor": "x2",
         "automargin": true,
         "domain": [
          0.3666666666666667,
          0.6333333333333333
         ]
        },
        "yaxis3": {
         "anchor": "x3",
         "automargin": true,
         "domain": [
          0,
          0.26666666666666666
         ]
        }
       }
      }
     },
     "metadata": {},
     "output_type": "display_data"
    }
   ],
   "source": [
    "### Plotting the top 10 GO terms for each category (with GeneRatio)\n",
    "\n",
    "plot_combined_go_results('Clock_1_full', bp_results_clock1, mf_results_clock1, cc_results_clock1)\n",
    "plot_combined_go_results('Clock_2_full', bp_results_clock2, mf_results_clock2, cc_results_clock2)\n",
    "plot_combined_go_results('Clock_3_full', bp_results_clock3, mf_results_clock3, cc_results_clock3)\n",
    "plot_combined_go_results('Clocks_2_3_overlap_full', bp_results_clock2_3, mf_results_clock2_3, cc_results_clock2_3)\n"
   ]
  },
  {
   "cell_type": "markdown",
   "metadata": {},
   "source": [
    "### Complete Dataset"
   ]
  },
  {
   "cell_type": "code",
   "execution_count": 2,
   "metadata": {},
   "outputs": [],
   "source": [
    "### Importing the GO analysis results of the Complete Dataset\n",
    "\n",
    "bp_results_complete = pd.read_csv('GO_Analysis_CompleteData/Results/complete_dataset_cpgs_GOA_BP_results.csv')\n",
    "mf_results_complete = pd.read_csv('GO_Analysis_CompleteData/Results/complete_dataset_cpgs_GOA_MF_results.csv')\n",
    "cc_results_complete = pd.read_csv('GO_Analysis_CompleteData/Results/complete_dataset_cpgs_GOA_CC_results.csv')"
   ]
  },
  {
   "cell_type": "code",
   "execution_count": 3,
   "metadata": {},
   "outputs": [
    {
     "data": {
      "text/html": [
       "<div>\n",
       "<style scoped>\n",
       "    .dataframe tbody tr th:only-of-type {\n",
       "        vertical-align: middle;\n",
       "    }\n",
       "\n",
       "    .dataframe tbody tr th {\n",
       "        vertical-align: top;\n",
       "    }\n",
       "\n",
       "    .dataframe thead th {\n",
       "        text-align: right;\n",
       "    }\n",
       "</style>\n",
       "<table border=\"1\" class=\"dataframe\">\n",
       "  <thead>\n",
       "    <tr style=\"text-align: right;\">\n",
       "      <th></th>\n",
       "      <th>Unnamed: 0</th>\n",
       "      <th>ID</th>\n",
       "      <th>Description</th>\n",
       "      <th>GeneRatio</th>\n",
       "      <th>BgRatio</th>\n",
       "      <th>pvalue</th>\n",
       "      <th>p.adjust</th>\n",
       "      <th>qvalue</th>\n",
       "      <th>geneID</th>\n",
       "      <th>Count</th>\n",
       "    </tr>\n",
       "  </thead>\n",
       "  <tbody>\n",
       "    <tr>\n",
       "      <th>0</th>\n",
       "      <td>GO:0007409</td>\n",
       "      <td>GO:0007409</td>\n",
       "      <td>axonogenesis</td>\n",
       "      <td>283/5703</td>\n",
       "      <td>448/18870</td>\n",
       "      <td>4.733263e-48</td>\n",
       "      <td>3.005622e-44</td>\n",
       "      <td>1.886828e-44</td>\n",
       "      <td>BARHL2/MAPT/AUTS2/PAK3/PAX2/ANK3/TBR1/ROBO1/IS...</td>\n",
       "      <td>283</td>\n",
       "    </tr>\n",
       "    <tr>\n",
       "      <th>1</th>\n",
       "      <td>GO:0045165</td>\n",
       "      <td>GO:0045165</td>\n",
       "      <td>cell fate commitment</td>\n",
       "      <td>195/5703</td>\n",
       "      <td>286/18870</td>\n",
       "      <td>1.915799e-40</td>\n",
       "      <td>6.082660e-37</td>\n",
       "      <td>3.818489e-37</td>\n",
       "      <td>BARHL2/PROX1/WNT1/PAX2/WNT6/TBR1/RARA/TLX3/HES...</td>\n",
       "      <td>195</td>\n",
       "    </tr>\n",
       "    <tr>\n",
       "      <th>2</th>\n",
       "      <td>GO:0050808</td>\n",
       "      <td>GO:0050808</td>\n",
       "      <td>synapse organization</td>\n",
       "      <td>282/5703</td>\n",
       "      <td>483/18870</td>\n",
       "      <td>1.445163e-38</td>\n",
       "      <td>3.058928e-35</td>\n",
       "      <td>1.920292e-35</td>\n",
       "      <td>SETD5/MAPT/PAK3/ANK3/PTPRD/GRID2/CTNNA2/SLITRK...</td>\n",
       "      <td>282</td>\n",
       "    </tr>\n",
       "    <tr>\n",
       "      <th>3</th>\n",
       "      <td>GO:0007389</td>\n",
       "      <td>GO:0007389</td>\n",
       "      <td>pattern specification process</td>\n",
       "      <td>276/5703</td>\n",
       "      <td>475/18870</td>\n",
       "      <td>3.043967e-37</td>\n",
       "      <td>4.832297e-34</td>\n",
       "      <td>3.033553e-34</td>\n",
       "      <td>MEOX2/WNT1/PAX2/EN1/KDM2B/WNT6/TBR1/ROBO1/HES1...</td>\n",
       "      <td>276</td>\n",
       "    </tr>\n",
       "    <tr>\n",
       "      <th>4</th>\n",
       "      <td>GO:0030900</td>\n",
       "      <td>GO:0030900</td>\n",
       "      <td>forebrain development</td>\n",
       "      <td>245/5703</td>\n",
       "      <td>407/18870</td>\n",
       "      <td>1.261065e-36</td>\n",
       "      <td>1.601552e-33</td>\n",
       "      <td>1.005401e-33</td>\n",
       "      <td>PROX1/ZMIZ1/WNT1/OGDH/KDM2B/TBR1/PLCB1/RARA/RO...</td>\n",
       "      <td>245</td>\n",
       "    </tr>\n",
       "    <tr>\n",
       "      <th>5</th>\n",
       "      <td>GO:0007411</td>\n",
       "      <td>GO:0007411</td>\n",
       "      <td>axon guidance</td>\n",
       "      <td>160/5703</td>\n",
       "      <td>233/18870</td>\n",
       "      <td>5.737537e-34</td>\n",
       "      <td>5.204766e-31</td>\n",
       "      <td>3.267377e-31</td>\n",
       "      <td>TBR1/ROBO1/ISL1/PTCH1/DLX5/LMO4/TNR/ARX/POU4F3...</td>\n",
       "      <td>160</td>\n",
       "    </tr>\n",
       "    <tr>\n",
       "      <th>6</th>\n",
       "      <td>GO:0097485</td>\n",
       "      <td>GO:0097485</td>\n",
       "      <td>neuron projection guidance</td>\n",
       "      <td>160/5703</td>\n",
       "      <td>233/18870</td>\n",
       "      <td>5.737537e-34</td>\n",
       "      <td>5.204766e-31</td>\n",
       "      <td>3.267377e-31</td>\n",
       "      <td>TBR1/ROBO1/ISL1/PTCH1/DLX5/LMO4/TNR/ARX/POU4F3...</td>\n",
       "      <td>160</td>\n",
       "    </tr>\n",
       "    <tr>\n",
       "      <th>7</th>\n",
       "      <td>GO:0010975</td>\n",
       "      <td>GO:0010975</td>\n",
       "      <td>regulation of neuron projection development</td>\n",
       "      <td>260/5703</td>\n",
       "      <td>453/18870</td>\n",
       "      <td>6.703378e-34</td>\n",
       "      <td>5.320806e-31</td>\n",
       "      <td>3.340223e-31</td>\n",
       "      <td>MAPT/PAK3/TBR1/ROBO1/PTPRD/BCL11A/HES1/POU3F2/...</td>\n",
       "      <td>260</td>\n",
       "    </tr>\n",
       "    <tr>\n",
       "      <th>8</th>\n",
       "      <td>GO:0050804</td>\n",
       "      <td>GO:0050804</td>\n",
       "      <td>modulation of chemical synaptic transmission</td>\n",
       "      <td>275/5703</td>\n",
       "      <td>489/18870</td>\n",
       "      <td>1.050624e-33</td>\n",
       "      <td>7.412734e-31</td>\n",
       "      <td>4.653465e-31</td>\n",
       "      <td>MAPT/FBXL20/GRM1/PLCB1/RARA/ADRB2/PTPRD/GRID2/...</td>\n",
       "      <td>275</td>\n",
       "    </tr>\n",
       "    <tr>\n",
       "      <th>9</th>\n",
       "      <td>GO:0099177</td>\n",
       "      <td>GO:0099177</td>\n",
       "      <td>regulation of trans-synaptic signaling</td>\n",
       "      <td>275/5703</td>\n",
       "      <td>490/18870</td>\n",
       "      <td>1.691182e-33</td>\n",
       "      <td>1.073901e-30</td>\n",
       "      <td>6.741586e-31</td>\n",
       "      <td>MAPT/FBXL20/GRM1/PLCB1/RARA/ADRB2/PTPRD/GRID2/...</td>\n",
       "      <td>275</td>\n",
       "    </tr>\n",
       "  </tbody>\n",
       "</table>\n",
       "</div>"
      ],
      "text/plain": [
       "   Unnamed: 0          ID                                   Description  \\\n",
       "0  GO:0007409  GO:0007409                                  axonogenesis   \n",
       "1  GO:0045165  GO:0045165                          cell fate commitment   \n",
       "2  GO:0050808  GO:0050808                          synapse organization   \n",
       "3  GO:0007389  GO:0007389                 pattern specification process   \n",
       "4  GO:0030900  GO:0030900                         forebrain development   \n",
       "5  GO:0007411  GO:0007411                                 axon guidance   \n",
       "6  GO:0097485  GO:0097485                    neuron projection guidance   \n",
       "7  GO:0010975  GO:0010975   regulation of neuron projection development   \n",
       "8  GO:0050804  GO:0050804  modulation of chemical synaptic transmission   \n",
       "9  GO:0099177  GO:0099177        regulation of trans-synaptic signaling   \n",
       "\n",
       "  GeneRatio    BgRatio        pvalue      p.adjust        qvalue  \\\n",
       "0  283/5703  448/18870  4.733263e-48  3.005622e-44  1.886828e-44   \n",
       "1  195/5703  286/18870  1.915799e-40  6.082660e-37  3.818489e-37   \n",
       "2  282/5703  483/18870  1.445163e-38  3.058928e-35  1.920292e-35   \n",
       "3  276/5703  475/18870  3.043967e-37  4.832297e-34  3.033553e-34   \n",
       "4  245/5703  407/18870  1.261065e-36  1.601552e-33  1.005401e-33   \n",
       "5  160/5703  233/18870  5.737537e-34  5.204766e-31  3.267377e-31   \n",
       "6  160/5703  233/18870  5.737537e-34  5.204766e-31  3.267377e-31   \n",
       "7  260/5703  453/18870  6.703378e-34  5.320806e-31  3.340223e-31   \n",
       "8  275/5703  489/18870  1.050624e-33  7.412734e-31  4.653465e-31   \n",
       "9  275/5703  490/18870  1.691182e-33  1.073901e-30  6.741586e-31   \n",
       "\n",
       "                                              geneID  Count  \n",
       "0  BARHL2/MAPT/AUTS2/PAK3/PAX2/ANK3/TBR1/ROBO1/IS...    283  \n",
       "1  BARHL2/PROX1/WNT1/PAX2/WNT6/TBR1/RARA/TLX3/HES...    195  \n",
       "2  SETD5/MAPT/PAK3/ANK3/PTPRD/GRID2/CTNNA2/SLITRK...    282  \n",
       "3  MEOX2/WNT1/PAX2/EN1/KDM2B/WNT6/TBR1/ROBO1/HES1...    276  \n",
       "4  PROX1/ZMIZ1/WNT1/OGDH/KDM2B/TBR1/PLCB1/RARA/RO...    245  \n",
       "5  TBR1/ROBO1/ISL1/PTCH1/DLX5/LMO4/TNR/ARX/POU4F3...    160  \n",
       "6  TBR1/ROBO1/ISL1/PTCH1/DLX5/LMO4/TNR/ARX/POU4F3...    160  \n",
       "7  MAPT/PAK3/TBR1/ROBO1/PTPRD/BCL11A/HES1/POU3F2/...    260  \n",
       "8  MAPT/FBXL20/GRM1/PLCB1/RARA/ADRB2/PTPRD/GRID2/...    275  \n",
       "9  MAPT/FBXL20/GRM1/PLCB1/RARA/ADRB2/PTPRD/GRID2/...    275  "
      ]
     },
     "execution_count": 3,
     "metadata": {},
     "output_type": "execute_result"
    }
   ],
   "source": [
    "### Top 10 GO terms for Biological Processes\n",
    "bp_results_complete.head(10).sort_values(by='p.adjust', ascending=True)"
   ]
  },
  {
   "cell_type": "code",
   "execution_count": 4,
   "metadata": {},
   "outputs": [
    {
     "data": {
      "text/html": [
       "<div>\n",
       "<style scoped>\n",
       "    .dataframe tbody tr th:only-of-type {\n",
       "        vertical-align: middle;\n",
       "    }\n",
       "\n",
       "    .dataframe tbody tr th {\n",
       "        vertical-align: top;\n",
       "    }\n",
       "\n",
       "    .dataframe thead th {\n",
       "        text-align: right;\n",
       "    }\n",
       "</style>\n",
       "<table border=\"1\" class=\"dataframe\">\n",
       "  <thead>\n",
       "    <tr style=\"text-align: right;\">\n",
       "      <th></th>\n",
       "      <th>Unnamed: 0</th>\n",
       "      <th>ID</th>\n",
       "      <th>Description</th>\n",
       "      <th>GeneRatio</th>\n",
       "      <th>BgRatio</th>\n",
       "      <th>pvalue</th>\n",
       "      <th>p.adjust</th>\n",
       "      <th>qvalue</th>\n",
       "      <th>geneID</th>\n",
       "      <th>Count</th>\n",
       "    </tr>\n",
       "  </thead>\n",
       "  <tbody>\n",
       "    <tr>\n",
       "      <th>0</th>\n",
       "      <td>GO:0140297</td>\n",
       "      <td>GO:0140297</td>\n",
       "      <td>DNA-binding transcription factor binding</td>\n",
       "      <td>266/5738</td>\n",
       "      <td>477/18496</td>\n",
       "      <td>8.591139e-30</td>\n",
       "      <td>8.504478e-27</td>\n",
       "      <td>6.184288e-27</td>\n",
       "      <td>PROX1/WWP2/HES1/MED24/PRDM13/FAF1/ISL1/BCOR/RA...</td>\n",
       "      <td>266</td>\n",
       "    </tr>\n",
       "    <tr>\n",
       "      <th>1</th>\n",
       "      <td>GO:0001228</td>\n",
       "      <td>GO:0001228</td>\n",
       "      <td>DNA-binding transcription activator activity, ...</td>\n",
       "      <td>263/5738</td>\n",
       "      <td>471/18496</td>\n",
       "      <td>1.369481e-29</td>\n",
       "      <td>8.504478e-27</td>\n",
       "      <td>6.184288e-27</td>\n",
       "      <td>BARHL2/MEOX2/MECOM/ZIC3/ZNF521/ISL1/POU3F2/MEI...</td>\n",
       "      <td>263</td>\n",
       "    </tr>\n",
       "    <tr>\n",
       "      <th>2</th>\n",
       "      <td>GO:0001216</td>\n",
       "      <td>GO:0001216</td>\n",
       "      <td>DNA-binding transcription activator activity</td>\n",
       "      <td>264/5738</td>\n",
       "      <td>475/18496</td>\n",
       "      <td>2.902951e-29</td>\n",
       "      <td>1.201822e-26</td>\n",
       "      <td>8.739410e-27</td>\n",
       "      <td>BARHL2/MEOX2/MECOM/ZIC3/ZNF521/ISL1/POU3F2/MEI...</td>\n",
       "      <td>264</td>\n",
       "    </tr>\n",
       "    <tr>\n",
       "      <th>3</th>\n",
       "      <td>GO:0061629</td>\n",
       "      <td>GO:0061629</td>\n",
       "      <td>RNA polymerase II-specific DNA-binding transcr...</td>\n",
       "      <td>196/5738</td>\n",
       "      <td>344/18496</td>\n",
       "      <td>9.178444e-24</td>\n",
       "      <td>2.849907e-21</td>\n",
       "      <td>2.072396e-21</td>\n",
       "      <td>PROX1/WWP2/HES1/MED24/PRDM13/FAF1/ISL1/RARB/TC...</td>\n",
       "      <td>196</td>\n",
       "    </tr>\n",
       "    <tr>\n",
       "      <th>4</th>\n",
       "      <td>GO:0004674</td>\n",
       "      <td>GO:0004674</td>\n",
       "      <td>protein serine/threonine kinase activity</td>\n",
       "      <td>221/5738</td>\n",
       "      <td>427/18496</td>\n",
       "      <td>1.731094e-19</td>\n",
       "      <td>4.300038e-17</td>\n",
       "      <td>3.126903e-17</td>\n",
       "      <td>PAK3/KSR2/TAOK1/TAOK2/TAOK3/MAP3K5/ROCK1/MAP2K...</td>\n",
       "      <td>221</td>\n",
       "    </tr>\n",
       "    <tr>\n",
       "      <th>5</th>\n",
       "      <td>GO:0106310</td>\n",
       "      <td>GO:0106310</td>\n",
       "      <td>protein serine kinase activity</td>\n",
       "      <td>186/5738</td>\n",
       "      <td>361/18496</td>\n",
       "      <td>2.377047e-16</td>\n",
       "      <td>4.920488e-14</td>\n",
       "      <td>3.578082e-14</td>\n",
       "      <td>PAK3/KSR2/TAOK1/TAOK2/TAOK3/MAP3K5/ROCK1/MAP2K...</td>\n",
       "      <td>186</td>\n",
       "    </tr>\n",
       "    <tr>\n",
       "      <th>6</th>\n",
       "      <td>GO:0003713</td>\n",
       "      <td>GO:0003713</td>\n",
       "      <td>transcription coactivator activity</td>\n",
       "      <td>148/5738</td>\n",
       "      <td>280/18496</td>\n",
       "      <td>1.803970e-14</td>\n",
       "      <td>3.200758e-12</td>\n",
       "      <td>2.327528e-12</td>\n",
       "      <td>ZMIZ1/CALCOCO1/ZIC3/MED24/SRCAP/MED12L/EP300/L...</td>\n",
       "      <td>148</td>\n",
       "    </tr>\n",
       "    <tr>\n",
       "      <th>7</th>\n",
       "      <td>GO:0140993</td>\n",
       "      <td>GO:0140993</td>\n",
       "      <td>histone modifying activity</td>\n",
       "      <td>113/5738</td>\n",
       "      <td>202/18496</td>\n",
       "      <td>1.546111e-13</td>\n",
       "      <td>2.400337e-11</td>\n",
       "      <td>1.745478e-11</td>\n",
       "      <td>SETD5/KDM2B/MECOM/JARID2/PRDM13/BRPF3/SRCAP/EP...</td>\n",
       "      <td>113</td>\n",
       "    </tr>\n",
       "    <tr>\n",
       "      <th>8</th>\n",
       "      <td>GO:0001221</td>\n",
       "      <td>GO:0001221</td>\n",
       "      <td>transcription coregulator binding</td>\n",
       "      <td>72/5738</td>\n",
       "      <td>112/18496</td>\n",
       "      <td>3.903303e-13</td>\n",
       "      <td>5.386558e-11</td>\n",
       "      <td>3.916999e-11</td>\n",
       "      <td>RARA/HES1/RUNX3/EP300/NEK6/CCNT2/RORA/PBX1/CTC...</td>\n",
       "      <td>72</td>\n",
       "    </tr>\n",
       "    <tr>\n",
       "      <th>9</th>\n",
       "      <td>GO:0008013</td>\n",
       "      <td>GO:0008013</td>\n",
       "      <td>beta-catenin binding</td>\n",
       "      <td>58/5738</td>\n",
       "      <td>85/18496</td>\n",
       "      <td>1.771952e-12</td>\n",
       "      <td>2.200764e-10</td>\n",
       "      <td>1.600352e-10</td>\n",
       "      <td>CDH5/CALCOCO1/BTRC/AXIN2/MED12L/CTNNA2/APC/TCF...</td>\n",
       "      <td>58</td>\n",
       "    </tr>\n",
       "  </tbody>\n",
       "</table>\n",
       "</div>"
      ],
      "text/plain": [
       "   Unnamed: 0          ID                                        Description  \\\n",
       "0  GO:0140297  GO:0140297           DNA-binding transcription factor binding   \n",
       "1  GO:0001228  GO:0001228  DNA-binding transcription activator activity, ...   \n",
       "2  GO:0001216  GO:0001216       DNA-binding transcription activator activity   \n",
       "3  GO:0061629  GO:0061629  RNA polymerase II-specific DNA-binding transcr...   \n",
       "4  GO:0004674  GO:0004674           protein serine/threonine kinase activity   \n",
       "5  GO:0106310  GO:0106310                     protein serine kinase activity   \n",
       "6  GO:0003713  GO:0003713                 transcription coactivator activity   \n",
       "7  GO:0140993  GO:0140993                         histone modifying activity   \n",
       "8  GO:0001221  GO:0001221                  transcription coregulator binding   \n",
       "9  GO:0008013  GO:0008013                               beta-catenin binding   \n",
       "\n",
       "  GeneRatio    BgRatio        pvalue      p.adjust        qvalue  \\\n",
       "0  266/5738  477/18496  8.591139e-30  8.504478e-27  6.184288e-27   \n",
       "1  263/5738  471/18496  1.369481e-29  8.504478e-27  6.184288e-27   \n",
       "2  264/5738  475/18496  2.902951e-29  1.201822e-26  8.739410e-27   \n",
       "3  196/5738  344/18496  9.178444e-24  2.849907e-21  2.072396e-21   \n",
       "4  221/5738  427/18496  1.731094e-19  4.300038e-17  3.126903e-17   \n",
       "5  186/5738  361/18496  2.377047e-16  4.920488e-14  3.578082e-14   \n",
       "6  148/5738  280/18496  1.803970e-14  3.200758e-12  2.327528e-12   \n",
       "7  113/5738  202/18496  1.546111e-13  2.400337e-11  1.745478e-11   \n",
       "8   72/5738  112/18496  3.903303e-13  5.386558e-11  3.916999e-11   \n",
       "9   58/5738   85/18496  1.771952e-12  2.200764e-10  1.600352e-10   \n",
       "\n",
       "                                              geneID  Count  \n",
       "0  PROX1/WWP2/HES1/MED24/PRDM13/FAF1/ISL1/BCOR/RA...    266  \n",
       "1  BARHL2/MEOX2/MECOM/ZIC3/ZNF521/ISL1/POU3F2/MEI...    263  \n",
       "2  BARHL2/MEOX2/MECOM/ZIC3/ZNF521/ISL1/POU3F2/MEI...    264  \n",
       "3  PROX1/WWP2/HES1/MED24/PRDM13/FAF1/ISL1/RARB/TC...    196  \n",
       "4  PAK3/KSR2/TAOK1/TAOK2/TAOK3/MAP3K5/ROCK1/MAP2K...    221  \n",
       "5  PAK3/KSR2/TAOK1/TAOK2/TAOK3/MAP3K5/ROCK1/MAP2K...    186  \n",
       "6  ZMIZ1/CALCOCO1/ZIC3/MED24/SRCAP/MED12L/EP300/L...    148  \n",
       "7  SETD5/KDM2B/MECOM/JARID2/PRDM13/BRPF3/SRCAP/EP...    113  \n",
       "8  RARA/HES1/RUNX3/EP300/NEK6/CCNT2/RORA/PBX1/CTC...     72  \n",
       "9  CDH5/CALCOCO1/BTRC/AXIN2/MED12L/CTNNA2/APC/TCF...     58  "
      ]
     },
     "execution_count": 4,
     "metadata": {},
     "output_type": "execute_result"
    }
   ],
   "source": [
    "### Top 10 GO terms for Molecular Functions\n",
    "mf_results_complete.head(10).sort_values(by='p.adjust', ascending=True)"
   ]
  },
  {
   "cell_type": "code",
   "execution_count": 5,
   "metadata": {},
   "outputs": [
    {
     "data": {
      "text/html": [
       "<div>\n",
       "<style scoped>\n",
       "    .dataframe tbody tr th:only-of-type {\n",
       "        vertical-align: middle;\n",
       "    }\n",
       "\n",
       "    .dataframe tbody tr th {\n",
       "        vertical-align: top;\n",
       "    }\n",
       "\n",
       "    .dataframe thead th {\n",
       "        text-align: right;\n",
       "    }\n",
       "</style>\n",
       "<table border=\"1\" class=\"dataframe\">\n",
       "  <thead>\n",
       "    <tr style=\"text-align: right;\">\n",
       "      <th></th>\n",
       "      <th>Unnamed: 0</th>\n",
       "      <th>ID</th>\n",
       "      <th>Description</th>\n",
       "      <th>GeneRatio</th>\n",
       "      <th>BgRatio</th>\n",
       "      <th>pvalue</th>\n",
       "      <th>p.adjust</th>\n",
       "      <th>qvalue</th>\n",
       "      <th>geneID</th>\n",
       "      <th>Count</th>\n",
       "    </tr>\n",
       "  </thead>\n",
       "  <tbody>\n",
       "    <tr>\n",
       "      <th>0</th>\n",
       "      <td>GO:0098978</td>\n",
       "      <td>GO:0098978</td>\n",
       "      <td>glutamatergic synapse</td>\n",
       "      <td>256/5885</td>\n",
       "      <td>407/19886</td>\n",
       "      <td>8.629871e-45</td>\n",
       "      <td>6.472403e-42</td>\n",
       "      <td>4.514785e-42</td>\n",
       "      <td>FBXL20/PAK3/GRM1/PLCB1/PTPRD/GRID2/ATP2B2/EGLN...</td>\n",
       "      <td>256</td>\n",
       "    </tr>\n",
       "    <tr>\n",
       "      <th>1</th>\n",
       "      <td>GO:0098984</td>\n",
       "      <td>GO:0098984</td>\n",
       "      <td>neuron to neuron synapse</td>\n",
       "      <td>234/5885</td>\n",
       "      <td>362/19886</td>\n",
       "      <td>6.054938e-44</td>\n",
       "      <td>2.270602e-41</td>\n",
       "      <td>1.583844e-41</td>\n",
       "      <td>PAK3/GRM1/PTPRD/GRID2/ATP2B2/CABP1/EGLN1/GRIA2...</td>\n",
       "      <td>234</td>\n",
       "    </tr>\n",
       "    <tr>\n",
       "      <th>2</th>\n",
       "      <td>GO:0032279</td>\n",
       "      <td>GO:0032279</td>\n",
       "      <td>asymmetric synapse</td>\n",
       "      <td>215/5885</td>\n",
       "      <td>331/19886</td>\n",
       "      <td>6.091242e-41</td>\n",
       "      <td>1.522811e-38</td>\n",
       "      <td>1.062227e-38</td>\n",
       "      <td>PAK3/GRM1/GRID2/ATP2B2/CABP1/EGLN1/GRIA2/RGS9/...</td>\n",
       "      <td>215</td>\n",
       "    </tr>\n",
       "    <tr>\n",
       "      <th>3</th>\n",
       "      <td>GO:0014069</td>\n",
       "      <td>GO:0014069</td>\n",
       "      <td>postsynaptic density</td>\n",
       "      <td>205/5885</td>\n",
       "      <td>315/19886</td>\n",
       "      <td>2.856547e-39</td>\n",
       "      <td>5.356026e-37</td>\n",
       "      <td>3.736063e-37</td>\n",
       "      <td>PAK3/GRM1/GRID2/ATP2B2/CABP1/EGLN1/GRIA2/RGS9/...</td>\n",
       "      <td>205</td>\n",
       "    </tr>\n",
       "    <tr>\n",
       "      <th>4</th>\n",
       "      <td>GO:0099572</td>\n",
       "      <td>GO:0099572</td>\n",
       "      <td>postsynaptic specialization</td>\n",
       "      <td>219/5885</td>\n",
       "      <td>346/19886</td>\n",
       "      <td>4.590039e-39</td>\n",
       "      <td>6.885059e-37</td>\n",
       "      <td>4.802631e-37</td>\n",
       "      <td>PAK3/GRM1/GRID2/ATP2B2/CABP1/EGLN1/GRIA2/RGS9/...</td>\n",
       "      <td>219</td>\n",
       "    </tr>\n",
       "    <tr>\n",
       "      <th>5</th>\n",
       "      <td>GO:0097060</td>\n",
       "      <td>GO:0097060</td>\n",
       "      <td>synaptic membrane</td>\n",
       "      <td>240/5885</td>\n",
       "      <td>393/19886</td>\n",
       "      <td>6.174082e-39</td>\n",
       "      <td>7.717603e-37</td>\n",
       "      <td>5.383367e-37</td>\n",
       "      <td>ANK3/GRM1/PTPRD/GRID2/PICALM/ATP2B2/DGKB/GRIA2...</td>\n",
       "      <td>240</td>\n",
       "    </tr>\n",
       "    <tr>\n",
       "      <th>6</th>\n",
       "      <td>GO:0045211</td>\n",
       "      <td>GO:0045211</td>\n",
       "      <td>postsynaptic membrane</td>\n",
       "      <td>171/5885</td>\n",
       "      <td>275/19886</td>\n",
       "      <td>2.112378e-29</td>\n",
       "      <td>2.263262e-27</td>\n",
       "      <td>1.578725e-27</td>\n",
       "      <td>ANK3/GRM1/GRID2/PICALM/ATP2B2/DGKB/GRIA2/RGS9/...</td>\n",
       "      <td>171</td>\n",
       "    </tr>\n",
       "    <tr>\n",
       "      <th>7</th>\n",
       "      <td>GO:0031252</td>\n",
       "      <td>GO:0031252</td>\n",
       "      <td>cell leading edge</td>\n",
       "      <td>235/5885</td>\n",
       "      <td>423/19886</td>\n",
       "      <td>2.526330e-29</td>\n",
       "      <td>2.368434e-27</td>\n",
       "      <td>1.652087e-27</td>\n",
       "      <td>MAPT/KITLG/MACF1/APC/ATP2B2/APBB2/LMO4/IGF2BP1...</td>\n",
       "      <td>235</td>\n",
       "    </tr>\n",
       "    <tr>\n",
       "      <th>8</th>\n",
       "      <td>GO:0043025</td>\n",
       "      <td>GO:0043025</td>\n",
       "      <td>neuronal cell body</td>\n",
       "      <td>247/5885</td>\n",
       "      <td>489/19886</td>\n",
       "      <td>8.347544e-23</td>\n",
       "      <td>6.956287e-21</td>\n",
       "      <td>4.852315e-21</td>\n",
       "      <td>MAPT/CASR/PICALM/ATP2B2/GRIA2/IGF2BP1/ASS1/NCD...</td>\n",
       "      <td>247</td>\n",
       "    </tr>\n",
       "    <tr>\n",
       "      <th>9</th>\n",
       "      <td>GO:0042734</td>\n",
       "      <td>GO:0042734</td>\n",
       "      <td>presynaptic membrane</td>\n",
       "      <td>108/5885</td>\n",
       "      <td>165/19886</td>\n",
       "      <td>1.351171e-21</td>\n",
       "      <td>1.013378e-19</td>\n",
       "      <td>7.068758e-20</td>\n",
       "      <td>PTPRD/PICALM/ATP2B2/RGS9/ERBB4/GRIK2/ERC2/PDE2...</td>\n",
       "      <td>108</td>\n",
       "    </tr>\n",
       "  </tbody>\n",
       "</table>\n",
       "</div>"
      ],
      "text/plain": [
       "   Unnamed: 0          ID                  Description GeneRatio    BgRatio  \\\n",
       "0  GO:0098978  GO:0098978        glutamatergic synapse  256/5885  407/19886   \n",
       "1  GO:0098984  GO:0098984     neuron to neuron synapse  234/5885  362/19886   \n",
       "2  GO:0032279  GO:0032279           asymmetric synapse  215/5885  331/19886   \n",
       "3  GO:0014069  GO:0014069         postsynaptic density  205/5885  315/19886   \n",
       "4  GO:0099572  GO:0099572  postsynaptic specialization  219/5885  346/19886   \n",
       "5  GO:0097060  GO:0097060            synaptic membrane  240/5885  393/19886   \n",
       "6  GO:0045211  GO:0045211        postsynaptic membrane  171/5885  275/19886   \n",
       "7  GO:0031252  GO:0031252            cell leading edge  235/5885  423/19886   \n",
       "8  GO:0043025  GO:0043025           neuronal cell body  247/5885  489/19886   \n",
       "9  GO:0042734  GO:0042734         presynaptic membrane  108/5885  165/19886   \n",
       "\n",
       "         pvalue      p.adjust        qvalue  \\\n",
       "0  8.629871e-45  6.472403e-42  4.514785e-42   \n",
       "1  6.054938e-44  2.270602e-41  1.583844e-41   \n",
       "2  6.091242e-41  1.522811e-38  1.062227e-38   \n",
       "3  2.856547e-39  5.356026e-37  3.736063e-37   \n",
       "4  4.590039e-39  6.885059e-37  4.802631e-37   \n",
       "5  6.174082e-39  7.717603e-37  5.383367e-37   \n",
       "6  2.112378e-29  2.263262e-27  1.578725e-27   \n",
       "7  2.526330e-29  2.368434e-27  1.652087e-27   \n",
       "8  8.347544e-23  6.956287e-21  4.852315e-21   \n",
       "9  1.351171e-21  1.013378e-19  7.068758e-20   \n",
       "\n",
       "                                              geneID  Count  \n",
       "0  FBXL20/PAK3/GRM1/PLCB1/PTPRD/GRID2/ATP2B2/EGLN...    256  \n",
       "1  PAK3/GRM1/PTPRD/GRID2/ATP2B2/CABP1/EGLN1/GRIA2...    234  \n",
       "2  PAK3/GRM1/GRID2/ATP2B2/CABP1/EGLN1/GRIA2/RGS9/...    215  \n",
       "3  PAK3/GRM1/GRID2/ATP2B2/CABP1/EGLN1/GRIA2/RGS9/...    205  \n",
       "4  PAK3/GRM1/GRID2/ATP2B2/CABP1/EGLN1/GRIA2/RGS9/...    219  \n",
       "5  ANK3/GRM1/PTPRD/GRID2/PICALM/ATP2B2/DGKB/GRIA2...    240  \n",
       "6  ANK3/GRM1/GRID2/PICALM/ATP2B2/DGKB/GRIA2/RGS9/...    171  \n",
       "7  MAPT/KITLG/MACF1/APC/ATP2B2/APBB2/LMO4/IGF2BP1...    235  \n",
       "8  MAPT/CASR/PICALM/ATP2B2/GRIA2/IGF2BP1/ASS1/NCD...    247  \n",
       "9  PTPRD/PICALM/ATP2B2/RGS9/ERBB4/GRIK2/ERC2/PDE2...    108  "
      ]
     },
     "execution_count": 5,
     "metadata": {},
     "output_type": "execute_result"
    }
   ],
   "source": [
    "### Top 10 GO terms for Cellular Components\n",
    "cc_results_complete.head(10).sort_values(by='p.adjust', ascending=True)"
   ]
  },
  {
   "cell_type": "markdown",
   "metadata": {},
   "source": [
    "### COMPLETE DATASET PLOT"
   ]
  },
  {
   "cell_type": "code",
   "execution_count": 11,
   "metadata": {},
   "outputs": [],
   "source": [
    "### Functions for plotting combined GO results\n",
    "\n",
    "def load_go_results(bp_results, mf_results, cc_results):\n",
    "       \n",
    "    # Sort each dataframe by p.adjust and select top 10\n",
    "    bp_results = bp_results.sort_values('p.adjust').head(10)\n",
    "    mf_results = mf_results.sort_values('p.adjust').head(10)\n",
    "    cc_results = cc_results.sort_values('p.adjust').head(10)\n",
    "    \n",
    "    return bp_results, mf_results, cc_results\n",
    "\n",
    "def plot_combined_go_results(df_name, bp_results, mf_results, cc_results):\n",
    "    bp, mf, cc = load_go_results(bp_results, mf_results, cc_results)\n",
    "    \n",
    "    fig = make_subplots(rows=3, cols=1, \n",
    "                        subplot_titles=(\"Biological Process\", \"Molecular Function\", \"Cellular Component\"),\n",
    "                        vertical_spacing=0.1)\n",
    "\n",
    "    # Get Viridis colors at indices 0, 4, and 5\n",
    "    viridis_colors = px.colors.sequential.Viridis\n",
    "    colors = [viridis_colors[i] for i in [0, 3, 5]]\n",
    "\n",
    "    max_x = 0\n",
    "\n",
    "    for i, (df, color) in enumerate(zip([bp, mf, cc], colors), 1):\n",
    "        df = df.iloc[::-1]\n",
    "        \n",
    "        x_values = -np.log10(df['p.adjust'])\n",
    "        max_x = max(max_x, x_values.max())\n",
    "        \n",
    "        fig.add_trace(\n",
    "            go.Bar(\n",
    "                y=df['Description'],\n",
    "                x=x_values,\n",
    "                orientation='h',\n",
    "                marker_color=color,\n",
    "                text=[f\"p: {p:.1e}\" for p in df['p.adjust']],  # p-value inside the bar\n",
    "                textposition='inside',\n",
    "                textfont=dict(size=9, color='white'),\n",
    "                hoverinfo='text',\n",
    "                hovertext=[f\"{row['Description']}<br>p-adjust: {row['p.adjust']:.2e}<br>GeneRatio: {row['GeneRatio']}<br>Gene Count: {row['Count']}\" \n",
    "                           for _, row in df.iterrows()],\n",
    "            ),\n",
    "            row=i, col=1\n",
    "        )\n",
    "        \n",
    "        # Add GeneRatio as text outside the bar\n",
    "        fig.add_trace(\n",
    "            go.Scatter(\n",
    "                y=df['Description'],\n",
    "                x=x_values,\n",
    "                text=[f\"GR: {gr}\" for gr in df['GeneRatio']],\n",
    "                mode='text',\n",
    "                textposition='middle right',\n",
    "                textfont=dict(size=9),\n",
    "                showlegend=False,\n",
    "            ),\n",
    "            row=i, col=1\n",
    "        )\n",
    "\n",
    "        fig.update_yaxes(row=i, col=1, automargin=True)\n",
    "        if i < 3:\n",
    "            fig.update_xaxes(title_text=\"\", row=i, col=1, showticklabels=False)\n",
    "        else:\n",
    "            fig.update_xaxes(title_text=\"-log10(p-adjust)\", row=i, col=1)\n",
    "\n",
    "    fig.update_layout(\n",
    "        title_text=f\"Top 10 GO Terms for {df_name.replace('_', ' ').replace('full', '')}\", \n",
    "        title_x=0.5,\n",
    "        height=297 * 3.78,  # A4 height in pixels (1 inch = 96 pixels)\n",
    "        width=210 * 3.78,   # A4 width in pixels (1 inch = 96 pixels)\n",
    "        showlegend=False,\n",
    "        margin=dict(l=100, r=20, t=100, b=70),  # Increased right margin for GeneRatio\n",
    "    )\n",
    "\n",
    "    fig.update_xaxes(range=[0, max_x * 1.2])  # Increased x-axis range for GeneRatio\n",
    "\n",
    "    # Select save location\n",
    "    folder = (f\"Go_Analysis_CompleteData/Results\")\n",
    "    fig.write_html(f\"{folder}/{df_name}_combined_GO_results.html\")   \n",
    "    fig.write_image(f\"{folder}/{df_name}_combined_GO_results.png\", scale=5)  # Increased resolution\n",
    "    fig.show()"
   ]
  },
  {
   "cell_type": "code",
   "execution_count": 12,
   "metadata": {},
   "outputs": [
    {
     "data": {
      "application/vnd.plotly.v1+json": {
       "config": {
        "plotlyServerURL": "https://plot.ly"
       },
       "data": [
        {
         "hoverinfo": "text",
         "hovertext": [
          "regulation of trans-synaptic signaling<br>p-adjust: 1.07e-30<br>GeneRatio: 275/5703<br>Gene Count: 275",
          "modulation of chemical synaptic transmission<br>p-adjust: 7.41e-31<br>GeneRatio: 275/5703<br>Gene Count: 275",
          "regulation of neuron projection development<br>p-adjust: 5.32e-31<br>GeneRatio: 260/5703<br>Gene Count: 260",
          "neuron projection guidance<br>p-adjust: 5.20e-31<br>GeneRatio: 160/5703<br>Gene Count: 160",
          "axon guidance<br>p-adjust: 5.20e-31<br>GeneRatio: 160/5703<br>Gene Count: 160",
          "forebrain development<br>p-adjust: 1.60e-33<br>GeneRatio: 245/5703<br>Gene Count: 245",
          "pattern specification process<br>p-adjust: 4.83e-34<br>GeneRatio: 276/5703<br>Gene Count: 276",
          "synapse organization<br>p-adjust: 3.06e-35<br>GeneRatio: 282/5703<br>Gene Count: 282",
          "cell fate commitment<br>p-adjust: 6.08e-37<br>GeneRatio: 195/5703<br>Gene Count: 195",
          "axonogenesis<br>p-adjust: 3.01e-44<br>GeneRatio: 283/5703<br>Gene Count: 283"
         ],
         "marker": {
          "color": "#440154"
         },
         "orientation": "h",
         "text": [
          "p: 1.1e-30",
          "p: 7.4e-31",
          "p: 5.3e-31",
          "p: 5.2e-31",
          "p: 5.2e-31",
          "p: 1.6e-33",
          "p: 4.8e-34",
          "p: 3.1e-35",
          "p: 6.1e-37",
          "p: 3.0e-44"
         ],
         "textfont": {
          "color": "white",
          "size": 9
         },
         "textposition": "inside",
         "type": "bar",
         "x": [
          29.96903587664643,
          30.13002156180221,
          30.274022548344902,
          30.283598782606347,
          30.283598782606347,
          32.79545882515292,
          33.315846339676504,
          34.514430712722785,
          36.21590643608209,
          43.52206565621753
         ],
         "xaxis": "x",
         "y": [
          "regulation of trans-synaptic signaling",
          "modulation of chemical synaptic transmission",
          "regulation of neuron projection development",
          "neuron projection guidance",
          "axon guidance",
          "forebrain development",
          "pattern specification process",
          "synapse organization",
          "cell fate commitment",
          "axonogenesis"
         ],
         "yaxis": "y"
        },
        {
         "mode": "text",
         "showlegend": false,
         "text": [
          "GR: 275/5703",
          "GR: 275/5703",
          "GR: 260/5703",
          "GR: 160/5703",
          "GR: 160/5703",
          "GR: 245/5703",
          "GR: 276/5703",
          "GR: 282/5703",
          "GR: 195/5703",
          "GR: 283/5703"
         ],
         "textfont": {
          "size": 9
         },
         "textposition": "middle right",
         "type": "scatter",
         "x": [
          29.96903587664643,
          30.13002156180221,
          30.274022548344902,
          30.283598782606347,
          30.283598782606347,
          32.79545882515292,
          33.315846339676504,
          34.514430712722785,
          36.21590643608209,
          43.52206565621753
         ],
         "xaxis": "x",
         "y": [
          "regulation of trans-synaptic signaling",
          "modulation of chemical synaptic transmission",
          "regulation of neuron projection development",
          "neuron projection guidance",
          "axon guidance",
          "forebrain development",
          "pattern specification process",
          "synapse organization",
          "cell fate commitment",
          "axonogenesis"
         ],
         "yaxis": "y"
        },
        {
         "hoverinfo": "text",
         "hovertext": [
          "beta-catenin binding<br>p-adjust: 2.20e-10<br>GeneRatio: 58/5738<br>Gene Count: 58",
          "transcription coregulator binding<br>p-adjust: 5.39e-11<br>GeneRatio: 72/5738<br>Gene Count: 72",
          "histone modifying activity<br>p-adjust: 2.40e-11<br>GeneRatio: 113/5738<br>Gene Count: 113",
          "transcription coactivator activity<br>p-adjust: 3.20e-12<br>GeneRatio: 148/5738<br>Gene Count: 148",
          "protein serine kinase activity<br>p-adjust: 4.92e-14<br>GeneRatio: 186/5738<br>Gene Count: 186",
          "protein serine/threonine kinase activity<br>p-adjust: 4.30e-17<br>GeneRatio: 221/5738<br>Gene Count: 221",
          "RNA polymerase II-specific DNA-binding transcription factor binding<br>p-adjust: 2.85e-21<br>GeneRatio: 196/5738<br>Gene Count: 196",
          "DNA-binding transcription activator activity<br>p-adjust: 1.20e-26<br>GeneRatio: 264/5738<br>Gene Count: 264",
          "DNA-binding transcription activator activity, RNA polymerase II-specific<br>p-adjust: 8.50e-27<br>GeneRatio: 263/5738<br>Gene Count: 263",
          "DNA-binding transcription factor binding<br>p-adjust: 8.50e-27<br>GeneRatio: 266/5738<br>Gene Count: 266"
         ],
         "marker": {
          "color": "#31688e"
         },
         "orientation": "h",
         "text": [
          "p: 2.2e-10",
          "p: 5.4e-11",
          "p: 2.4e-11",
          "p: 3.2e-12",
          "p: 4.9e-14",
          "p: 4.3e-17",
          "p: 2.8e-21",
          "p: 1.2e-26",
          "p: 8.5e-27",
          "p: 8.5e-27"
         ],
         "textfont": {
          "color": "white",
          "size": 9
         },
         "textposition": "inside",
         "type": "bar",
         "x": [
          9.657426559084065,
          10.268688642024493,
          10.619727690810087,
          11.49474719634122,
          13.307991834637832,
          16.366527722346277,
          20.54516932488616,
          25.920159960056804,
          26.07035235778461,
          26.07035235778461
         ],
         "xaxis": "x2",
         "y": [
          "beta-catenin binding",
          "transcription coregulator binding",
          "histone modifying activity",
          "transcription coactivator activity",
          "protein serine kinase activity",
          "protein serine/threonine kinase activity",
          "RNA polymerase II-specific DNA-binding transcription factor binding",
          "DNA-binding transcription activator activity",
          "DNA-binding transcription activator activity, RNA polymerase II-specific",
          "DNA-binding transcription factor binding"
         ],
         "yaxis": "y2"
        },
        {
         "mode": "text",
         "showlegend": false,
         "text": [
          "GR: 58/5738",
          "GR: 72/5738",
          "GR: 113/5738",
          "GR: 148/5738",
          "GR: 186/5738",
          "GR: 221/5738",
          "GR: 196/5738",
          "GR: 264/5738",
          "GR: 263/5738",
          "GR: 266/5738"
         ],
         "textfont": {
          "size": 9
         },
         "textposition": "middle right",
         "type": "scatter",
         "x": [
          9.657426559084065,
          10.268688642024493,
          10.619727690810087,
          11.49474719634122,
          13.307991834637832,
          16.366527722346277,
          20.54516932488616,
          25.920159960056804,
          26.07035235778461,
          26.07035235778461
         ],
         "xaxis": "x2",
         "y": [
          "beta-catenin binding",
          "transcription coregulator binding",
          "histone modifying activity",
          "transcription coactivator activity",
          "protein serine kinase activity",
          "protein serine/threonine kinase activity",
          "RNA polymerase II-specific DNA-binding transcription factor binding",
          "DNA-binding transcription activator activity",
          "DNA-binding transcription activator activity, RNA polymerase II-specific",
          "DNA-binding transcription factor binding"
         ],
         "yaxis": "y2"
        },
        {
         "hoverinfo": "text",
         "hovertext": [
          "presynaptic membrane<br>p-adjust: 1.01e-19<br>GeneRatio: 108/5885<br>Gene Count: 108",
          "neuronal cell body<br>p-adjust: 6.96e-21<br>GeneRatio: 247/5885<br>Gene Count: 247",
          "cell leading edge<br>p-adjust: 2.37e-27<br>GeneRatio: 235/5885<br>Gene Count: 235",
          "postsynaptic membrane<br>p-adjust: 2.26e-27<br>GeneRatio: 171/5885<br>Gene Count: 171",
          "synaptic membrane<br>p-adjust: 7.72e-37<br>GeneRatio: 240/5885<br>Gene Count: 240",
          "postsynaptic specialization<br>p-adjust: 6.89e-37<br>GeneRatio: 219/5885<br>Gene Count: 219",
          "postsynaptic density<br>p-adjust: 5.36e-37<br>GeneRatio: 205/5885<br>Gene Count: 205",
          "asymmetric synapse<br>p-adjust: 1.52e-38<br>GeneRatio: 215/5885<br>Gene Count: 215",
          "neuron to neuron synapse<br>p-adjust: 2.27e-41<br>GeneRatio: 234/5885<br>Gene Count: 234",
          "glutamatergic synapse<br>p-adjust: 6.47e-42<br>GeneRatio: 256/5885<br>Gene Count: 256"
         ],
         "marker": {
          "color": "#1f9e89"
         },
         "orientation": "h",
         "text": [
          "p: 1.0e-19",
          "p: 7.0e-21",
          "p: 2.4e-27",
          "p: 2.3e-27",
          "p: 7.7e-37",
          "p: 6.9e-37",
          "p: 5.4e-37",
          "p: 1.5e-38",
          "p: 2.3e-41",
          "p: 6.5e-42"
         ],
         "textfont": {
          "color": "white",
          "size": 9
         },
         "textposition": "inside",
         "type": "bar",
         "x": [
          18.994228402223733,
          20.157622538880826,
          26.62553864579149,
          26.645265078291647,
          36.112517562794395,
          36.16209234328697,
          36.271157305519274,
          37.81735410492863,
          40.6438590205018,
          41.18893443939066
         ],
         "xaxis": "x3",
         "y": [
          "presynaptic membrane",
          "neuronal cell body",
          "cell leading edge",
          "postsynaptic membrane",
          "synaptic membrane",
          "postsynaptic specialization",
          "postsynaptic density",
          "asymmetric synapse",
          "neuron to neuron synapse",
          "glutamatergic synapse"
         ],
         "yaxis": "y3"
        },
        {
         "mode": "text",
         "showlegend": false,
         "text": [
          "GR: 108/5885",
          "GR: 247/5885",
          "GR: 235/5885",
          "GR: 171/5885",
          "GR: 240/5885",
          "GR: 219/5885",
          "GR: 205/5885",
          "GR: 215/5885",
          "GR: 234/5885",
          "GR: 256/5885"
         ],
         "textfont": {
          "size": 9
         },
         "textposition": "middle right",
         "type": "scatter",
         "x": [
          18.994228402223733,
          20.157622538880826,
          26.62553864579149,
          26.645265078291647,
          36.112517562794395,
          36.16209234328697,
          36.271157305519274,
          37.81735410492863,
          40.6438590205018,
          41.18893443939066
         ],
         "xaxis": "x3",
         "y": [
          "presynaptic membrane",
          "neuronal cell body",
          "cell leading edge",
          "postsynaptic membrane",
          "synaptic membrane",
          "postsynaptic specialization",
          "postsynaptic density",
          "asymmetric synapse",
          "neuron to neuron synapse",
          "glutamatergic synapse"
         ],
         "yaxis": "y3"
        }
       ],
       "layout": {
        "annotations": [
         {
          "font": {
           "size": 16
          },
          "showarrow": false,
          "text": "Biological Process",
          "x": 0.5,
          "xanchor": "center",
          "xref": "paper",
          "y": 1,
          "yanchor": "bottom",
          "yref": "paper"
         },
         {
          "font": {
           "size": 16
          },
          "showarrow": false,
          "text": "Molecular Function",
          "x": 0.5,
          "xanchor": "center",
          "xref": "paper",
          "y": 0.6333333333333333,
          "yanchor": "bottom",
          "yref": "paper"
         },
         {
          "font": {
           "size": 16
          },
          "showarrow": false,
          "text": "Cellular Component",
          "x": 0.5,
          "xanchor": "center",
          "xref": "paper",
          "y": 0.26666666666666666,
          "yanchor": "bottom",
          "yref": "paper"
         }
        ],
        "height": 1122.6599999999999,
        "margin": {
         "b": 70,
         "l": 100,
         "r": 20,
         "t": 100
        },
        "showlegend": false,
        "template": {
         "data": {
          "bar": [
           {
            "error_x": {
             "color": "#2a3f5f"
            },
            "error_y": {
             "color": "#2a3f5f"
            },
            "marker": {
             "line": {
              "color": "#E5ECF6",
              "width": 0.5
             },
             "pattern": {
              "fillmode": "overlay",
              "size": 10,
              "solidity": 0.2
             }
            },
            "type": "bar"
           }
          ],
          "barpolar": [
           {
            "marker": {
             "line": {
              "color": "#E5ECF6",
              "width": 0.5
             },
             "pattern": {
              "fillmode": "overlay",
              "size": 10,
              "solidity": 0.2
             }
            },
            "type": "barpolar"
           }
          ],
          "carpet": [
           {
            "aaxis": {
             "endlinecolor": "#2a3f5f",
             "gridcolor": "white",
             "linecolor": "white",
             "minorgridcolor": "white",
             "startlinecolor": "#2a3f5f"
            },
            "baxis": {
             "endlinecolor": "#2a3f5f",
             "gridcolor": "white",
             "linecolor": "white",
             "minorgridcolor": "white",
             "startlinecolor": "#2a3f5f"
            },
            "type": "carpet"
           }
          ],
          "choropleth": [
           {
            "colorbar": {
             "outlinewidth": 0,
             "ticks": ""
            },
            "type": "choropleth"
           }
          ],
          "contour": [
           {
            "colorbar": {
             "outlinewidth": 0,
             "ticks": ""
            },
            "colorscale": [
             [
              0,
              "#0d0887"
             ],
             [
              0.1111111111111111,
              "#46039f"
             ],
             [
              0.2222222222222222,
              "#7201a8"
             ],
             [
              0.3333333333333333,
              "#9c179e"
             ],
             [
              0.4444444444444444,
              "#bd3786"
             ],
             [
              0.5555555555555556,
              "#d8576b"
             ],
             [
              0.6666666666666666,
              "#ed7953"
             ],
             [
              0.7777777777777778,
              "#fb9f3a"
             ],
             [
              0.8888888888888888,
              "#fdca26"
             ],
             [
              1,
              "#f0f921"
             ]
            ],
            "type": "contour"
           }
          ],
          "contourcarpet": [
           {
            "colorbar": {
             "outlinewidth": 0,
             "ticks": ""
            },
            "type": "contourcarpet"
           }
          ],
          "heatmap": [
           {
            "colorbar": {
             "outlinewidth": 0,
             "ticks": ""
            },
            "colorscale": [
             [
              0,
              "#0d0887"
             ],
             [
              0.1111111111111111,
              "#46039f"
             ],
             [
              0.2222222222222222,
              "#7201a8"
             ],
             [
              0.3333333333333333,
              "#9c179e"
             ],
             [
              0.4444444444444444,
              "#bd3786"
             ],
             [
              0.5555555555555556,
              "#d8576b"
             ],
             [
              0.6666666666666666,
              "#ed7953"
             ],
             [
              0.7777777777777778,
              "#fb9f3a"
             ],
             [
              0.8888888888888888,
              "#fdca26"
             ],
             [
              1,
              "#f0f921"
             ]
            ],
            "type": "heatmap"
           }
          ],
          "heatmapgl": [
           {
            "colorbar": {
             "outlinewidth": 0,
             "ticks": ""
            },
            "colorscale": [
             [
              0,
              "#0d0887"
             ],
             [
              0.1111111111111111,
              "#46039f"
             ],
             [
              0.2222222222222222,
              "#7201a8"
             ],
             [
              0.3333333333333333,
              "#9c179e"
             ],
             [
              0.4444444444444444,
              "#bd3786"
             ],
             [
              0.5555555555555556,
              "#d8576b"
             ],
             [
              0.6666666666666666,
              "#ed7953"
             ],
             [
              0.7777777777777778,
              "#fb9f3a"
             ],
             [
              0.8888888888888888,
              "#fdca26"
             ],
             [
              1,
              "#f0f921"
             ]
            ],
            "type": "heatmapgl"
           }
          ],
          "histogram": [
           {
            "marker": {
             "pattern": {
              "fillmode": "overlay",
              "size": 10,
              "solidity": 0.2
             }
            },
            "type": "histogram"
           }
          ],
          "histogram2d": [
           {
            "colorbar": {
             "outlinewidth": 0,
             "ticks": ""
            },
            "colorscale": [
             [
              0,
              "#0d0887"
             ],
             [
              0.1111111111111111,
              "#46039f"
             ],
             [
              0.2222222222222222,
              "#7201a8"
             ],
             [
              0.3333333333333333,
              "#9c179e"
             ],
             [
              0.4444444444444444,
              "#bd3786"
             ],
             [
              0.5555555555555556,
              "#d8576b"
             ],
             [
              0.6666666666666666,
              "#ed7953"
             ],
             [
              0.7777777777777778,
              "#fb9f3a"
             ],
             [
              0.8888888888888888,
              "#fdca26"
             ],
             [
              1,
              "#f0f921"
             ]
            ],
            "type": "histogram2d"
           }
          ],
          "histogram2dcontour": [
           {
            "colorbar": {
             "outlinewidth": 0,
             "ticks": ""
            },
            "colorscale": [
             [
              0,
              "#0d0887"
             ],
             [
              0.1111111111111111,
              "#46039f"
             ],
             [
              0.2222222222222222,
              "#7201a8"
             ],
             [
              0.3333333333333333,
              "#9c179e"
             ],
             [
              0.4444444444444444,
              "#bd3786"
             ],
             [
              0.5555555555555556,
              "#d8576b"
             ],
             [
              0.6666666666666666,
              "#ed7953"
             ],
             [
              0.7777777777777778,
              "#fb9f3a"
             ],
             [
              0.8888888888888888,
              "#fdca26"
             ],
             [
              1,
              "#f0f921"
             ]
            ],
            "type": "histogram2dcontour"
           }
          ],
          "mesh3d": [
           {
            "colorbar": {
             "outlinewidth": 0,
             "ticks": ""
            },
            "type": "mesh3d"
           }
          ],
          "parcoords": [
           {
            "line": {
             "colorbar": {
              "outlinewidth": 0,
              "ticks": ""
             }
            },
            "type": "parcoords"
           }
          ],
          "pie": [
           {
            "automargin": true,
            "type": "pie"
           }
          ],
          "scatter": [
           {
            "fillpattern": {
             "fillmode": "overlay",
             "size": 10,
             "solidity": 0.2
            },
            "type": "scatter"
           }
          ],
          "scatter3d": [
           {
            "line": {
             "colorbar": {
              "outlinewidth": 0,
              "ticks": ""
             }
            },
            "marker": {
             "colorbar": {
              "outlinewidth": 0,
              "ticks": ""
             }
            },
            "type": "scatter3d"
           }
          ],
          "scattercarpet": [
           {
            "marker": {
             "colorbar": {
              "outlinewidth": 0,
              "ticks": ""
             }
            },
            "type": "scattercarpet"
           }
          ],
          "scattergeo": [
           {
            "marker": {
             "colorbar": {
              "outlinewidth": 0,
              "ticks": ""
             }
            },
            "type": "scattergeo"
           }
          ],
          "scattergl": [
           {
            "marker": {
             "colorbar": {
              "outlinewidth": 0,
              "ticks": ""
             }
            },
            "type": "scattergl"
           }
          ],
          "scattermapbox": [
           {
            "marker": {
             "colorbar": {
              "outlinewidth": 0,
              "ticks": ""
             }
            },
            "type": "scattermapbox"
           }
          ],
          "scatterpolar": [
           {
            "marker": {
             "colorbar": {
              "outlinewidth": 0,
              "ticks": ""
             }
            },
            "type": "scatterpolar"
           }
          ],
          "scatterpolargl": [
           {
            "marker": {
             "colorbar": {
              "outlinewidth": 0,
              "ticks": ""
             }
            },
            "type": "scatterpolargl"
           }
          ],
          "scatterternary": [
           {
            "marker": {
             "colorbar": {
              "outlinewidth": 0,
              "ticks": ""
             }
            },
            "type": "scatterternary"
           }
          ],
          "surface": [
           {
            "colorbar": {
             "outlinewidth": 0,
             "ticks": ""
            },
            "colorscale": [
             [
              0,
              "#0d0887"
             ],
             [
              0.1111111111111111,
              "#46039f"
             ],
             [
              0.2222222222222222,
              "#7201a8"
             ],
             [
              0.3333333333333333,
              "#9c179e"
             ],
             [
              0.4444444444444444,
              "#bd3786"
             ],
             [
              0.5555555555555556,
              "#d8576b"
             ],
             [
              0.6666666666666666,
              "#ed7953"
             ],
             [
              0.7777777777777778,
              "#fb9f3a"
             ],
             [
              0.8888888888888888,
              "#fdca26"
             ],
             [
              1,
              "#f0f921"
             ]
            ],
            "type": "surface"
           }
          ],
          "table": [
           {
            "cells": {
             "fill": {
              "color": "#EBF0F8"
             },
             "line": {
              "color": "white"
             }
            },
            "header": {
             "fill": {
              "color": "#C8D4E3"
             },
             "line": {
              "color": "white"
             }
            },
            "type": "table"
           }
          ]
         },
         "layout": {
          "annotationdefaults": {
           "arrowcolor": "#2a3f5f",
           "arrowhead": 0,
           "arrowwidth": 1
          },
          "autotypenumbers": "strict",
          "coloraxis": {
           "colorbar": {
            "outlinewidth": 0,
            "ticks": ""
           }
          },
          "colorscale": {
           "diverging": [
            [
             0,
             "#8e0152"
            ],
            [
             0.1,
             "#c51b7d"
            ],
            [
             0.2,
             "#de77ae"
            ],
            [
             0.3,
             "#f1b6da"
            ],
            [
             0.4,
             "#fde0ef"
            ],
            [
             0.5,
             "#f7f7f7"
            ],
            [
             0.6,
             "#e6f5d0"
            ],
            [
             0.7,
             "#b8e186"
            ],
            [
             0.8,
             "#7fbc41"
            ],
            [
             0.9,
             "#4d9221"
            ],
            [
             1,
             "#276419"
            ]
           ],
           "sequential": [
            [
             0,
             "#0d0887"
            ],
            [
             0.1111111111111111,
             "#46039f"
            ],
            [
             0.2222222222222222,
             "#7201a8"
            ],
            [
             0.3333333333333333,
             "#9c179e"
            ],
            [
             0.4444444444444444,
             "#bd3786"
            ],
            [
             0.5555555555555556,
             "#d8576b"
            ],
            [
             0.6666666666666666,
             "#ed7953"
            ],
            [
             0.7777777777777778,
             "#fb9f3a"
            ],
            [
             0.8888888888888888,
             "#fdca26"
            ],
            [
             1,
             "#f0f921"
            ]
           ],
           "sequentialminus": [
            [
             0,
             "#0d0887"
            ],
            [
             0.1111111111111111,
             "#46039f"
            ],
            [
             0.2222222222222222,
             "#7201a8"
            ],
            [
             0.3333333333333333,
             "#9c179e"
            ],
            [
             0.4444444444444444,
             "#bd3786"
            ],
            [
             0.5555555555555556,
             "#d8576b"
            ],
            [
             0.6666666666666666,
             "#ed7953"
            ],
            [
             0.7777777777777778,
             "#fb9f3a"
            ],
            [
             0.8888888888888888,
             "#fdca26"
            ],
            [
             1,
             "#f0f921"
            ]
           ]
          },
          "colorway": [
           "#636efa",
           "#EF553B",
           "#00cc96",
           "#ab63fa",
           "#FFA15A",
           "#19d3f3",
           "#FF6692",
           "#B6E880",
           "#FF97FF",
           "#FECB52"
          ],
          "font": {
           "color": "#2a3f5f"
          },
          "geo": {
           "bgcolor": "white",
           "lakecolor": "white",
           "landcolor": "#E5ECF6",
           "showlakes": true,
           "showland": true,
           "subunitcolor": "white"
          },
          "hoverlabel": {
           "align": "left"
          },
          "hovermode": "closest",
          "mapbox": {
           "style": "light"
          },
          "paper_bgcolor": "white",
          "plot_bgcolor": "#E5ECF6",
          "polar": {
           "angularaxis": {
            "gridcolor": "white",
            "linecolor": "white",
            "ticks": ""
           },
           "bgcolor": "#E5ECF6",
           "radialaxis": {
            "gridcolor": "white",
            "linecolor": "white",
            "ticks": ""
           }
          },
          "scene": {
           "xaxis": {
            "backgroundcolor": "#E5ECF6",
            "gridcolor": "white",
            "gridwidth": 2,
            "linecolor": "white",
            "showbackground": true,
            "ticks": "",
            "zerolinecolor": "white"
           },
           "yaxis": {
            "backgroundcolor": "#E5ECF6",
            "gridcolor": "white",
            "gridwidth": 2,
            "linecolor": "white",
            "showbackground": true,
            "ticks": "",
            "zerolinecolor": "white"
           },
           "zaxis": {
            "backgroundcolor": "#E5ECF6",
            "gridcolor": "white",
            "gridwidth": 2,
            "linecolor": "white",
            "showbackground": true,
            "ticks": "",
            "zerolinecolor": "white"
           }
          },
          "shapedefaults": {
           "line": {
            "color": "#2a3f5f"
           }
          },
          "ternary": {
           "aaxis": {
            "gridcolor": "white",
            "linecolor": "white",
            "ticks": ""
           },
           "baxis": {
            "gridcolor": "white",
            "linecolor": "white",
            "ticks": ""
           },
           "bgcolor": "#E5ECF6",
           "caxis": {
            "gridcolor": "white",
            "linecolor": "white",
            "ticks": ""
           }
          },
          "title": {
           "x": 0.05
          },
          "xaxis": {
           "automargin": true,
           "gridcolor": "white",
           "linecolor": "white",
           "ticks": "",
           "title": {
            "standoff": 15
           },
           "zerolinecolor": "white",
           "zerolinewidth": 2
          },
          "yaxis": {
           "automargin": true,
           "gridcolor": "white",
           "linecolor": "white",
           "ticks": "",
           "title": {
            "standoff": 15
           },
           "zerolinecolor": "white",
           "zerolinewidth": 2
          }
         }
        },
        "title": {
         "text": "Top 10 GO Terms for complete dataset cpgs",
         "x": 0.5
        },
        "width": 793.8,
        "xaxis": {
         "anchor": "y",
         "domain": [
          0,
          1
         ],
         "range": [
          0,
          52.22647878746103
         ],
         "showticklabels": false,
         "title": {
          "text": ""
         }
        },
        "xaxis2": {
         "anchor": "y2",
         "domain": [
          0,
          1
         ],
         "range": [
          0,
          52.22647878746103
         ],
         "showticklabels": false,
         "title": {
          "text": ""
         }
        },
        "xaxis3": {
         "anchor": "y3",
         "domain": [
          0,
          1
         ],
         "range": [
          0,
          52.22647878746103
         ],
         "title": {
          "text": "-log10(p-adjust)"
         }
        },
        "yaxis": {
         "anchor": "x",
         "automargin": true,
         "domain": [
          0.7333333333333334,
          1
         ]
        },
        "yaxis2": {
         "anchor": "x2",
         "automargin": true,
         "domain": [
          0.3666666666666667,
          0.6333333333333333
         ]
        },
        "yaxis3": {
         "anchor": "x3",
         "automargin": true,
         "domain": [
          0,
          0.26666666666666666
         ]
        }
       }
      }
     },
     "metadata": {},
     "output_type": "display_data"
    }
   ],
   "source": [
    "# Plot the top 10 GO terms for each category (with GeneRatio)\n",
    "plot_combined_go_results('complete_dataset_cpgs', bp_results_complete, mf_results_complete, cc_results_complete)"
   ]
  }
 ],
 "metadata": {
  "kernelspec": {
   "display_name": "Python 3",
   "language": "python",
   "name": "python3"
  },
  "language_info": {
   "codemirror_mode": {
    "name": "ipython",
    "version": 3
   },
   "file_extension": ".py",
   "mimetype": "text/x-python",
   "name": "python",
   "nbconvert_exporter": "python",
   "pygments_lexer": "ipython3",
   "version": "3.12.2"
  }
 },
 "nbformat": 4,
 "nbformat_minor": 2
}
