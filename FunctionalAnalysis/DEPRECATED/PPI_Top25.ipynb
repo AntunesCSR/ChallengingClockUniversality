{
 "cells": [
  {
   "cell_type": "markdown",
   "metadata": {},
   "source": [
    "### Annotations for the TOP 25 cpgs (Clocks 1, 2, 3 and overlaps)"
   ]
  },
  {
   "cell_type": "code",
   "execution_count": 1,
   "metadata": {},
   "outputs": [],
   "source": [
    "#Imports\n",
    "import pandas as pd"
   ]
  },
  {
   "cell_type": "code",
   "execution_count": 2,
   "metadata": {},
   "outputs": [],
   "source": [
    "# Add the MScProjectScripts to the python path\n",
    "import sys\n",
    "sys.path.append('/Users/Catia Antunes/OneDrive/Documents/Education/MRes/Final Project/Scripts/MScProjectScripts')"
   ]
  },
  {
   "cell_type": "code",
   "execution_count": 3,
   "metadata": {},
   "outputs": [],
   "source": [
    "# Import modules\n",
    "from FunctionalAnalysis.FA_Modules.ppi_data_module import retrieve_ppi_data\n"
   ]
  },
  {
   "cell_type": "code",
   "execution_count": 7,
   "metadata": {},
   "outputs": [],
   "source": [
    "# Load Clock 1\n",
    "Clock1_top25 = pd.read_csv('../../FunctionalAnalysis/top_25_cpgs_clock_1.csv')\n",
    "Clock2_top25 = pd.read_csv('../../FunctionalAnalysis/top_25_cpgs_clock_2.csv')\n",
    "Clock3_top25 = pd.read_csv('../../FunctionalAnalysis/top_25_cpgs_clock_3.csv')\n",
    "Clock_overlap_2_3_top25 = pd.read_csv('../../FunctionalAnalysis/top_25_cpgs_overlap_2_3.csv')\n",
    "Clock_overlap_1_2_3_top25 = pd.read_csv('../../FunctionalAnalysis/top_25_cpgs_overlap_1_2_3.csv')\n"
   ]
  },
  {
   "cell_type": "code",
   "execution_count": 8,
   "metadata": {},
   "outputs": [
    {
     "data": {
      "text/html": [
       "<div>\n",
       "<style scoped>\n",
       "    .dataframe tbody tr th:only-of-type {\n",
       "        vertical-align: middle;\n",
       "    }\n",
       "\n",
       "    .dataframe tbody tr th {\n",
       "        vertical-align: top;\n",
       "    }\n",
       "\n",
       "    .dataframe thead th {\n",
       "        text-align: right;\n",
       "    }\n",
       "</style>\n",
       "<table border=\"1\" class=\"dataframe\">\n",
       "  <thead>\n",
       "    <tr style=\"text-align: right;\">\n",
       "      <th></th>\n",
       "      <th>index</th>\n",
       "      <th>var</th>\n",
       "      <th>beta_clock1</th>\n",
       "      <th>CHR</th>\n",
       "      <th>bp_hg38</th>\n",
       "      <th>Gene</th>\n",
       "      <th>Gene.hg19</th>\n",
       "      <th>ENTREZID</th>\n",
       "      <th>conservationInMouse</th>\n",
       "      <th>GeneRegionID</th>\n",
       "      <th>annotation</th>\n",
       "      <th>CHR_mm10</th>\n",
       "      <th>bp_mm10</th>\n",
       "      <th>Gene_mm10</th>\n",
       "    </tr>\n",
       "  </thead>\n",
       "  <tbody>\n",
       "    <tr>\n",
       "      <th>0</th>\n",
       "      <td>143</td>\n",
       "      <td>cg11728741</td>\n",
       "      <td>0.928874</td>\n",
       "      <td>8</td>\n",
       "      <td>41896469</td>\n",
       "      <td>ANK1</td>\n",
       "      <td>ANK1</td>\n",
       "      <td>286</td>\n",
       "      <td>conserved gene and region in mouse and human</td>\n",
       "      <td>ANK1_Exon</td>\n",
       "      <td>Promoter (&lt;=1kb)</td>\n",
       "      <td>8.0</td>\n",
       "      <td>22975146.0</td>\n",
       "      <td>Ank1</td>\n",
       "    </tr>\n",
       "    <tr>\n",
       "      <th>1</th>\n",
       "      <td>297</td>\n",
       "      <td>cg24352905</td>\n",
       "      <td>0.853268</td>\n",
       "      <td>5</td>\n",
       "      <td>77645452</td>\n",
       "      <td>OTP</td>\n",
       "      <td>OTP</td>\n",
       "      <td>23440</td>\n",
       "      <td>conserved gene and region in mouse and human</td>\n",
       "      <td>OTP_Promoter</td>\n",
       "      <td>Promoter (5-6kb)</td>\n",
       "      <td>13.0</td>\n",
       "      <td>94869014.0</td>\n",
       "      <td>Otp</td>\n",
       "    </tr>\n",
       "    <tr>\n",
       "      <th>2</th>\n",
       "      <td>98</td>\n",
       "      <td>cg08938156</td>\n",
       "      <td>0.843749</td>\n",
       "      <td>3</td>\n",
       "      <td>147409417</td>\n",
       "      <td>LOC440982</td>\n",
       "      <td>ZIC1</td>\n",
       "      <td>440982</td>\n",
       "      <td>mapped to different gene in human and mouse</td>\n",
       "      <td>LOC440982_fiveUTR</td>\n",
       "      <td>5' UTR</td>\n",
       "      <td>9.0</td>\n",
       "      <td>91365746.0</td>\n",
       "      <td>Zic1</td>\n",
       "    </tr>\n",
       "    <tr>\n",
       "      <th>3</th>\n",
       "      <td>160</td>\n",
       "      <td>cg13058338</td>\n",
       "      <td>0.638660</td>\n",
       "      <td>12</td>\n",
       "      <td>54173598</td>\n",
       "      <td>SMUG1</td>\n",
       "      <td>SMUG1</td>\n",
       "      <td>23583</td>\n",
       "      <td>mapped to different gene in human and mouse</td>\n",
       "      <td>SMUG1_Intron</td>\n",
       "      <td>Intron (ENST00000635234.1/23583, intron 2 of 4)</td>\n",
       "      <td>15.0</td>\n",
       "      <td>103146996.0</td>\n",
       "      <td>Smug1</td>\n",
       "    </tr>\n",
       "    <tr>\n",
       "      <th>4</th>\n",
       "      <td>316</td>\n",
       "      <td>cg26067250</td>\n",
       "      <td>0.510613</td>\n",
       "      <td>2</td>\n",
       "      <td>172085721</td>\n",
       "      <td>DLX1</td>\n",
       "      <td>DLX1</td>\n",
       "      <td>1745</td>\n",
       "      <td>mapped to different gene in human and mouse</td>\n",
       "      <td>DLX1_Exon</td>\n",
       "      <td>Promoter (&lt;=1kb)</td>\n",
       "      <td>2.0</td>\n",
       "      <td>71530037.0</td>\n",
       "      <td>Dlx1</td>\n",
       "    </tr>\n",
       "  </tbody>\n",
       "</table>\n",
       "</div>"
      ],
      "text/plain": [
       "   index         var  beta_clock1  CHR    bp_hg38       Gene Gene.hg19  \\\n",
       "0    143  cg11728741     0.928874    8   41896469       ANK1      ANK1   \n",
       "1    297  cg24352905     0.853268    5   77645452        OTP       OTP   \n",
       "2     98  cg08938156     0.843749    3  147409417  LOC440982      ZIC1   \n",
       "3    160  cg13058338     0.638660   12   54173598      SMUG1     SMUG1   \n",
       "4    316  cg26067250     0.510613    2  172085721       DLX1      DLX1   \n",
       "\n",
       "   ENTREZID                           conservationInMouse       GeneRegionID  \\\n",
       "0       286  conserved gene and region in mouse and human          ANK1_Exon   \n",
       "1     23440  conserved gene and region in mouse and human       OTP_Promoter   \n",
       "2    440982   mapped to different gene in human and mouse  LOC440982_fiveUTR   \n",
       "3     23583   mapped to different gene in human and mouse       SMUG1_Intron   \n",
       "4      1745   mapped to different gene in human and mouse          DLX1_Exon   \n",
       "\n",
       "                                        annotation  CHR_mm10      bp_mm10  \\\n",
       "0                                 Promoter (<=1kb)       8.0   22975146.0   \n",
       "1                                 Promoter (5-6kb)      13.0   94869014.0   \n",
       "2                                           5' UTR       9.0   91365746.0   \n",
       "3  Intron (ENST00000635234.1/23583, intron 2 of 4)      15.0  103146996.0   \n",
       "4                                 Promoter (<=1kb)       2.0   71530037.0   \n",
       "\n",
       "  Gene_mm10  \n",
       "0      Ank1  \n",
       "1       Otp  \n",
       "2      Zic1  \n",
       "3     Smug1  \n",
       "4      Dlx1  "
      ]
     },
     "execution_count": 8,
     "metadata": {},
     "output_type": "execute_result"
    }
   ],
   "source": [
    "Clock1_top25.head()"
   ]
  },
  {
   "cell_type": "code",
   "execution_count": 4,
   "metadata": {},
   "outputs": [],
   "source": [
    "# XML file with Gene symbols\n",
    "Clock1_top25_list = ['DLX1']"
   ]
  },
  {
   "cell_type": "code",
   "execution_count": 5,
   "metadata": {},
   "outputs": [
    {
     "name": "stdout",
     "output_type": "stream",
     "text": [
      "Error retrieving PPI data for DLX1: 'list' object has no attribute 'get'\n"
     ]
    }
   ],
   "source": [
    "# Retrieve Annotations for Clock 1\n",
    "Clock1_top25_annotations = retrieve_ppi_data(Clock1_top25_list)"
   ]
  }
 ],
 "metadata": {
  "kernelspec": {
   "display_name": "Python 3",
   "language": "python",
   "name": "python3"
  },
  "language_info": {
   "codemirror_mode": {
    "name": "ipython",
    "version": 3
   },
   "file_extension": ".py",
   "mimetype": "text/x-python",
   "name": "python",
   "nbconvert_exporter": "python",
   "pygments_lexer": "ipython3",
   "version": "3.12.2"
  }
 },
 "nbformat": 4,
 "nbformat_minor": 2
}
