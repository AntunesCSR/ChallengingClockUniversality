{
 "cells": [
  {
   "cell_type": "markdown",
   "metadata": {},
   "source": [
    "### Annotations for the TOP 25 cpgs (Clocks 1, 2, 3 and overlaps)"
   ]
  },
  {
   "cell_type": "code",
   "execution_count": 28,
   "metadata": {},
   "outputs": [],
   "source": [
    "#Imports\n",
    "import pandas as pd"
   ]
  },
  {
   "cell_type": "code",
   "execution_count": 29,
   "metadata": {},
   "outputs": [],
   "source": [
    "# Add the MScProjectScripts to the python path\n",
    "import sys\n",
    "sys.path.append('/Users/Catia Antunes/OneDrive/Documents/Education/MRes/Final Project/Scripts/MScProjectScripts')"
   ]
  },
  {
   "cell_type": "code",
   "execution_count": 33,
   "metadata": {},
   "outputs": [],
   "source": [
    "# Import modules\n",
    "from FunctionalAnalysis.FA_Modules.gene_annotation_module import retrieve_gene_annotation\n"
   ]
  },
  {
   "cell_type": "code",
   "execution_count": null,
   "metadata": {},
   "outputs": [],
   "source": [
    "# Load Clock 1\n",
    "Clock1_top25 = pd.read_csv('../../FunctionalAnalysis/top_25_cpgs_clock_1.csv')\n",
    "Clock2_top25 = pd.read_csv('../../FunctionalAnalysis/top_25_cpgs_clock_2.csv')\n",
    "Clock3_top25 = pd.read_csv('../../FunctionalAnalysis/top_25_cpgs_clock_3.csv')\n",
    "Clock_overlap_2_3_top25 = pd.read_csv('../../FunctionalAnalysis/top_25_cpgs_overlap_2_3.csv')\n",
    "Clock_overlap_1_2_3_top25 = pd.read_csv('../../FunctionalAnalysis/top_25_cpgs_overlap_1_2_3.csv')\n"
   ]
  },
  {
   "cell_type": "code",
   "execution_count": null,
   "metadata": {},
   "outputs": [],
   "source": [
    "Clock1_top25.head()"
   ]
  },
  {
   "cell_type": "code",
   "execution_count": 34,
   "metadata": {},
   "outputs": [],
   "source": [
    "# XML file with Gene symbols\n",
    "Clock1_top25_list = ['ANK1']"
   ]
  },
  {
   "cell_type": "code",
   "execution_count": 35,
   "metadata": {},
   "outputs": [
    {
     "name": "stdout",
     "output_type": "stream",
     "text": [
      "Error retrieving gene annotation for ANK1: 'esearchresult'\n",
      "Raw XML response (search): {'Count': '435', 'RetMax': '20', 'RetStart': '0', 'IdList': ['134562591', '134526578', '134602948', '134502644', '286', '11733', '306570', '852609', '831855', '449796', '396311', '353108', '3499900', '710904', '613080', '9617870', '107775027', '736634', '100686820', '100157679'], 'TranslationSet': [], 'TranslationStack': [{'Term': 'ANK1[Gene]', 'Field': 'Gene', 'Count': '435', 'Explode': 'N'}, 'GROUP'], 'QueryTranslation': 'ANK1[Gene]'}\n"
     ]
    },
    {
     "ename": "UnboundLocalError",
     "evalue": "cannot access local variable 'gene_info' where it is not associated with a value",
     "output_type": "error",
     "traceback": [
      "\u001b[1;31m---------------------------------------------------------------------------\u001b[0m",
      "\u001b[1;31mKeyError\u001b[0m                                  Traceback (most recent call last)",
      "File \u001b[1;32mc:\\Users/Catia Antunes/OneDrive/Documents/Education/MRes/Final Project/Scripts/MScProjectScripts\\FunctionalAnalysis\\FA_Modules\\gene_annotation_module.py:25\u001b[0m, in \u001b[0;36mretrieve_gene_annotation\u001b[1;34m(gene_symbols)\u001b[0m\n\u001b[0;32m     23\u001b[0m search_results \u001b[38;5;241m=\u001b[39m Entrez\u001b[38;5;241m.\u001b[39mread(search_handle)\n\u001b[1;32m---> 25\u001b[0m \u001b[38;5;28;01mif\u001b[39;00m \u001b[43msearch_results\u001b[49m\u001b[43m[\u001b[49m\u001b[38;5;124;43m'\u001b[39;49m\u001b[38;5;124;43mesearchresult\u001b[39;49m\u001b[38;5;124;43m'\u001b[39;49m\u001b[43m]\u001b[49m[\u001b[38;5;124m'\u001b[39m\u001b[38;5;124mcount\u001b[39m\u001b[38;5;124m'\u001b[39m] \u001b[38;5;241m>\u001b[39m \u001b[38;5;241m0\u001b[39m:\n\u001b[0;32m     26\u001b[0m     gene_id \u001b[38;5;241m=\u001b[39m search_results[\u001b[38;5;124m'\u001b[39m\u001b[38;5;124mesearchresult\u001b[39m\u001b[38;5;124m'\u001b[39m][\u001b[38;5;124m'\u001b[39m\u001b[38;5;124midlist\u001b[39m\u001b[38;5;124m'\u001b[39m][\u001b[38;5;241m0\u001b[39m]\n",
      "\u001b[1;31mKeyError\u001b[0m: 'esearchresult'",
      "\nDuring handling of the above exception, another exception occurred:\n",
      "\u001b[1;31mUnboundLocalError\u001b[0m                         Traceback (most recent call last)",
      "Cell \u001b[1;32mIn[35], line 2\u001b[0m\n\u001b[0;32m      1\u001b[0m \u001b[38;5;66;03m# Retrieve Annotations for Clock 1\u001b[39;00m\n\u001b[1;32m----> 2\u001b[0m Clock1_top25_annotations \u001b[38;5;241m=\u001b[39m \u001b[43mretrieve_gene_annotation\u001b[49m\u001b[43m(\u001b[49m\u001b[43mClock1_top25_list\u001b[49m\u001b[43m)\u001b[49m\n",
      "File \u001b[1;32mc:\\Users/Catia Antunes/OneDrive/Documents/Education/MRes/Final Project/Scripts/MScProjectScripts\\FunctionalAnalysis\\FA_Modules\\gene_annotation_module.py:46\u001b[0m, in \u001b[0;36mretrieve_gene_annotation\u001b[1;34m(gene_symbols)\u001b[0m\n\u001b[0;32m     44\u001b[0m \u001b[38;5;66;03m# Print or log the raw XML response for further inspection\u001b[39;00m\n\u001b[0;32m     45\u001b[0m \u001b[38;5;28mprint\u001b[39m(\u001b[38;5;124m\"\u001b[39m\u001b[38;5;124mRaw XML response (search):\u001b[39m\u001b[38;5;124m\"\u001b[39m, search_results)\n\u001b[1;32m---> 46\u001b[0m \u001b[38;5;28mprint\u001b[39m(\u001b[38;5;124m\"\u001b[39m\u001b[38;5;124mRaw XML response (summary):\u001b[39m\u001b[38;5;124m\"\u001b[39m, \u001b[43mgene_info\u001b[49m)\n",
      "\u001b[1;31mUnboundLocalError\u001b[0m: cannot access local variable 'gene_info' where it is not associated with a value"
     ]
    }
   ],
   "source": [
    "# Retrieve Annotations for Clock 1\n",
    "Clock1_top25_annotations = retrieve_gene_annotation(Clock1_top25_list)"
   ]
  }
 ],
 "metadata": {
  "kernelspec": {
   "display_name": "Python 3",
   "language": "python",
   "name": "python3"
  },
  "language_info": {
   "codemirror_mode": {
    "name": "ipython",
    "version": 3
   },
   "file_extension": ".py",
   "mimetype": "text/x-python",
   "name": "python",
   "nbconvert_exporter": "python",
   "pygments_lexer": "ipython3",
   "version": "3.12.2"
  }
 },
 "nbformat": 4,
 "nbformat_minor": 2
}
